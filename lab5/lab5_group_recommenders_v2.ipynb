{
 "cells": [
  {
   "cell_type": "markdown",
   "metadata": {},
   "source": [
    "# Laboratorium 5 - rekomendacje grupowe\n",
    "\n",
    "## Przygotowanie\n",
    "\n",
    " * pobierz i wypakuj dataset: https://files.grouplens.org/datasets/movielens/ml-latest-small.zip\n",
    "   * więcej możesz poczytać tutaj: https://grouplens.org/datasets/movielens/\n",
    " * [opcjonalnie] Utwórz wirtualne środowisko\n",
    " `python3 -m venv ./recsyslab5`\n",
    " * zainstaluj potrzebne biblioteki:\n",
    " `pip install numpy pandas scipy matplotlib`"
   ]
  },
  {
   "cell_type": "markdown",
   "metadata": {},
   "source": [
    "## Część 1. - przygotowanie danych"
   ]
  },
  {
   "cell_type": "code",
   "metadata": {
    "ExecuteTime": {
     "end_time": "2024-11-17T14:17:23.034186Z",
     "start_time": "2024-11-17T14:17:22.657006Z"
    }
   },
   "source": [
    "# importujemy wszystkie potrzebne pakiety\n",
    "\n",
    "import math\n",
    "import numpy as np\n",
    "import pandas as pd\n",
    "from pandas.core.interchange.dataframe_protocol import DataFrame\n",
    "from scipy.sparse.linalg import svds\n",
    "\n",
    "\n",
    "from random import choice, sample\n",
    "from statistics import mean, stdev"
   ],
   "outputs": [],
   "execution_count": 2
  },
  {
   "cell_type": "code",
   "metadata": {
    "ExecuteTime": {
     "end_time": "2024-11-17T14:17:23.771196Z",
     "start_time": "2024-11-17T14:17:23.768407Z"
    }
   },
   "source": [
    "PATH = 'ml-latest-small'"
   ],
   "outputs": [],
   "execution_count": 3
  },
  {
   "cell_type": "code",
   "metadata": {
    "ExecuteTime": {
     "end_time": "2024-11-17T14:17:37.621889Z",
     "start_time": "2024-11-17T14:17:24.618812Z"
    }
   },
   "source": [
    "# wczytujemy oceny uzytkownikow i obliczamy (za pomoc dekompozycji macierzy) wszystkie przewidywane oceny filmow\n",
    "\n",
    "def read_ratings(path, k=600, scale_factor=2.0, print_stats=True):\n",
    "    # idea: https://www.kaggle.com/code/indralin/movielens-project-1-2-collaborative-filtering\n",
    "    reviews = pd.read_csv(f'{path}/ratings.csv', names=['userId', 'movieId', 'rating', 'time'], delimiter=',', engine='python', skiprows=1)\n",
    "    \n",
    "    reviews.drop(['time'], axis=1, inplace=True)\n",
    "    reviews_no, _ = reviews.shape\n",
    "    reviews_matrix = reviews.pivot(index='userId', columns='movieId', values='rating')\n",
    "    movies = reviews_matrix.columns\n",
    "    users = reviews_matrix.index\n",
    "    users_no, movies_no = reviews_matrix.shape\n",
    "    print(f'Got {reviews_no} reviews for {movies_no} movies and {users_no} users.')\n",
    "\n",
    "    user_ratings_mean = np.nanmean(reviews_matrix.values, axis=1)\n",
    "    normalized_reviews_matrix = np.nan_to_num(reviews_matrix.values - user_ratings_mean.reshape(-1, 1), 0.0)\n",
    "\n",
    "    U, sigma, Vt = svds(normalized_reviews_matrix, k=k)\n",
    "    sigma = np.diag(sigma)\n",
    "    predicted_ratings = np.dot(np.dot(U, sigma), Vt) + user_ratings_mean.reshape(-1, 1).clip(0.5, 5.0)\n",
    "    mean_square_error = np.nanmean(np.square(predicted_ratings - reviews_matrix.values))\n",
    "    std_square_error = np.nanstd(np.square(predicted_ratings - reviews_matrix.values))\n",
    "    print(f'Reviews prediction mean square error = {mean_square_error}')\n",
    "    print(f'Reviews prediction standatd deviation of square error = {std_square_error}')\n",
    "\n",
    "    if print_stats:\n",
    "        stats = [\n",
    "            ('metric', 'dataset', 'prediction'),\n",
    "            ('avg', np.nanmean(reviews_matrix), np.mean(predicted_ratings)),\n",
    "            ('st_dev', np.nanstd(reviews_matrix), np.std(predicted_ratings)),\n",
    "            ('median', np.nanmedian(reviews_matrix), np.median(predicted_ratings)),\n",
    "            ('p25', np.nanquantile(reviews_matrix, 0.25), np.quantile(predicted_ratings, 0.25)),\n",
    "            ('p75', np.nanquantile(reviews_matrix, 0.75), np.quantile(predicted_ratings, 0.75))\n",
    "        ]\n",
    "        print('Stats (for raings in original range [0.5, 5.0]):')\n",
    "        print('\\n'.join([str(s) for s in stats]))\n",
    "\n",
    "    rounded_predictions = np.rint(scale_factor * predicted_ratings) # cast values to {1, 2, ..., 10}\n",
    "    return pd.DataFrame(data=rounded_predictions, index=list(users), columns=list(movies))\n",
    "    \n",
    "ratings = read_ratings(PATH)\n",
    "# dostep do danych:\n",
    "# ratings[movieId][userId] pobiera 1 wartosc\n",
    "# ratings.loc[:, movieId] pobiera wektor dla danego filmu\n",
    "# ratings.loc[userId, :] pobiera wektor dla danego uzytkownika\n",
    "ratings"
   ],
   "outputs": [
    {
     "name": "stdout",
     "output_type": "stream",
     "text": [
      "Got 100836 reviews for 9724 movies and 610 users.\n",
      "Reviews prediction mean square error = 1.6577787842925017e-05\n",
      "Reviews prediction standatd deviation of square error = 0.0007928950536518832\n",
      "Stats (for raings in original range [0.5, 5.0]):\n",
      "('metric', 'dataset', 'prediction')\n",
      "('avg', 3.501556983616962, 3.657222337747399)\n",
      "('st_dev', 1.042524069618056, 0.49546237560971024)\n",
      "('median', 3.5, 3.7052240088117694)\n",
      "('p25', 3.0, 3.3574517183164025)\n",
      "('p75', 4.0, 3.9999816268830006)\n"
     ]
    },
    {
     "data": {
      "text/plain": [
       "     1       2       3       4       5       6       7       8       9       \\\n",
       "1       8.0     9.0     8.0     9.0     9.0     8.0     9.0     9.0     9.0   \n",
       "2       8.0     8.0     8.0     8.0     8.0     8.0     8.0     8.0     8.0   \n",
       "3       5.0     5.0     5.0     5.0     5.0     5.0     5.0     5.0     5.0   \n",
       "4       7.0     7.0     7.0     7.0     7.0     7.0     7.0     7.0     7.0   \n",
       "5       8.0     7.0     7.0     7.0     7.0     7.0     7.0     7.0     7.0   \n",
       "..      ...     ...     ...     ...     ...     ...     ...     ...     ...   \n",
       "606     5.0     7.0     7.0     7.0     7.0     7.0     5.0     7.0     7.0   \n",
       "607     8.0     8.0     8.0     8.0     8.0     8.0     8.0     8.0     8.0   \n",
       "608     5.0     4.0     4.0     6.0     6.0     6.0     6.0     6.0     6.0   \n",
       "609     6.0     7.0     7.0     7.0     7.0     7.0     7.0     7.0     7.0   \n",
       "610    10.0     7.0     7.0     7.0     7.0    10.0     7.0     7.0     7.0   \n",
       "\n",
       "     10      ...  193565  193567  193571  193573  193579  193581  193583  \\\n",
       "1       9.0  ...     9.0     9.0     9.0     9.0     9.0     9.0     9.0   \n",
       "2       8.0  ...     8.0     8.0     8.0     8.0     8.0     8.0     8.0   \n",
       "3       5.0  ...     5.0     5.0     5.0     5.0     5.0     5.0     5.0   \n",
       "4       7.0  ...     7.0     7.0     7.0     7.0     7.0     7.0     7.0   \n",
       "5       7.0  ...     7.0     7.0     7.0     7.0     7.0     7.0     7.0   \n",
       "..      ...  ...     ...     ...     ...     ...     ...     ...     ...   \n",
       "606     7.0  ...     7.0     7.0     7.0     7.0     7.0     7.0     7.0   \n",
       "607     8.0  ...     8.0     8.0     8.0     8.0     8.0     8.0     8.0   \n",
       "608     8.0  ...     6.0     6.0     6.0     6.0     6.0     6.0     6.0   \n",
       "609     8.0  ...     7.0     7.0     7.0     7.0     7.0     7.0     7.0   \n",
       "610     7.0  ...     7.0     7.0     7.0     7.0     7.0     7.0     7.0   \n",
       "\n",
       "     193585  193587  193609  \n",
       "1       9.0     9.0     9.0  \n",
       "2       8.0     8.0     8.0  \n",
       "3       5.0     5.0     5.0  \n",
       "4       7.0     7.0     7.0  \n",
       "5       7.0     7.0     7.0  \n",
       "..      ...     ...     ...  \n",
       "606     7.0     7.0     7.0  \n",
       "607     8.0     8.0     8.0  \n",
       "608     6.0     6.0     6.0  \n",
       "609     7.0     7.0     7.0  \n",
       "610     7.0     7.0     7.0  \n",
       "\n",
       "[610 rows x 9724 columns]"
      ],
      "text/html": [
       "<div>\n",
       "<style scoped>\n",
       "    .dataframe tbody tr th:only-of-type {\n",
       "        vertical-align: middle;\n",
       "    }\n",
       "\n",
       "    .dataframe tbody tr th {\n",
       "        vertical-align: top;\n",
       "    }\n",
       "\n",
       "    .dataframe thead th {\n",
       "        text-align: right;\n",
       "    }\n",
       "</style>\n",
       "<table border=\"1\" class=\"dataframe\">\n",
       "  <thead>\n",
       "    <tr style=\"text-align: right;\">\n",
       "      <th></th>\n",
       "      <th>1</th>\n",
       "      <th>2</th>\n",
       "      <th>3</th>\n",
       "      <th>4</th>\n",
       "      <th>5</th>\n",
       "      <th>6</th>\n",
       "      <th>7</th>\n",
       "      <th>8</th>\n",
       "      <th>9</th>\n",
       "      <th>10</th>\n",
       "      <th>...</th>\n",
       "      <th>193565</th>\n",
       "      <th>193567</th>\n",
       "      <th>193571</th>\n",
       "      <th>193573</th>\n",
       "      <th>193579</th>\n",
       "      <th>193581</th>\n",
       "      <th>193583</th>\n",
       "      <th>193585</th>\n",
       "      <th>193587</th>\n",
       "      <th>193609</th>\n",
       "    </tr>\n",
       "  </thead>\n",
       "  <tbody>\n",
       "    <tr>\n",
       "      <th>1</th>\n",
       "      <td>8.0</td>\n",
       "      <td>9.0</td>\n",
       "      <td>8.0</td>\n",
       "      <td>9.0</td>\n",
       "      <td>9.0</td>\n",
       "      <td>8.0</td>\n",
       "      <td>9.0</td>\n",
       "      <td>9.0</td>\n",
       "      <td>9.0</td>\n",
       "      <td>9.0</td>\n",
       "      <td>...</td>\n",
       "      <td>9.0</td>\n",
       "      <td>9.0</td>\n",
       "      <td>9.0</td>\n",
       "      <td>9.0</td>\n",
       "      <td>9.0</td>\n",
       "      <td>9.0</td>\n",
       "      <td>9.0</td>\n",
       "      <td>9.0</td>\n",
       "      <td>9.0</td>\n",
       "      <td>9.0</td>\n",
       "    </tr>\n",
       "    <tr>\n",
       "      <th>2</th>\n",
       "      <td>8.0</td>\n",
       "      <td>8.0</td>\n",
       "      <td>8.0</td>\n",
       "      <td>8.0</td>\n",
       "      <td>8.0</td>\n",
       "      <td>8.0</td>\n",
       "      <td>8.0</td>\n",
       "      <td>8.0</td>\n",
       "      <td>8.0</td>\n",
       "      <td>8.0</td>\n",
       "      <td>...</td>\n",
       "      <td>8.0</td>\n",
       "      <td>8.0</td>\n",
       "      <td>8.0</td>\n",
       "      <td>8.0</td>\n",
       "      <td>8.0</td>\n",
       "      <td>8.0</td>\n",
       "      <td>8.0</td>\n",
       "      <td>8.0</td>\n",
       "      <td>8.0</td>\n",
       "      <td>8.0</td>\n",
       "    </tr>\n",
       "    <tr>\n",
       "      <th>3</th>\n",
       "      <td>5.0</td>\n",
       "      <td>5.0</td>\n",
       "      <td>5.0</td>\n",
       "      <td>5.0</td>\n",
       "      <td>5.0</td>\n",
       "      <td>5.0</td>\n",
       "      <td>5.0</td>\n",
       "      <td>5.0</td>\n",
       "      <td>5.0</td>\n",
       "      <td>5.0</td>\n",
       "      <td>...</td>\n",
       "      <td>5.0</td>\n",
       "      <td>5.0</td>\n",
       "      <td>5.0</td>\n",
       "      <td>5.0</td>\n",
       "      <td>5.0</td>\n",
       "      <td>5.0</td>\n",
       "      <td>5.0</td>\n",
       "      <td>5.0</td>\n",
       "      <td>5.0</td>\n",
       "      <td>5.0</td>\n",
       "    </tr>\n",
       "    <tr>\n",
       "      <th>4</th>\n",
       "      <td>7.0</td>\n",
       "      <td>7.0</td>\n",
       "      <td>7.0</td>\n",
       "      <td>7.0</td>\n",
       "      <td>7.0</td>\n",
       "      <td>7.0</td>\n",
       "      <td>7.0</td>\n",
       "      <td>7.0</td>\n",
       "      <td>7.0</td>\n",
       "      <td>7.0</td>\n",
       "      <td>...</td>\n",
       "      <td>7.0</td>\n",
       "      <td>7.0</td>\n",
       "      <td>7.0</td>\n",
       "      <td>7.0</td>\n",
       "      <td>7.0</td>\n",
       "      <td>7.0</td>\n",
       "      <td>7.0</td>\n",
       "      <td>7.0</td>\n",
       "      <td>7.0</td>\n",
       "      <td>7.0</td>\n",
       "    </tr>\n",
       "    <tr>\n",
       "      <th>5</th>\n",
       "      <td>8.0</td>\n",
       "      <td>7.0</td>\n",
       "      <td>7.0</td>\n",
       "      <td>7.0</td>\n",
       "      <td>7.0</td>\n",
       "      <td>7.0</td>\n",
       "      <td>7.0</td>\n",
       "      <td>7.0</td>\n",
       "      <td>7.0</td>\n",
       "      <td>7.0</td>\n",
       "      <td>...</td>\n",
       "      <td>7.0</td>\n",
       "      <td>7.0</td>\n",
       "      <td>7.0</td>\n",
       "      <td>7.0</td>\n",
       "      <td>7.0</td>\n",
       "      <td>7.0</td>\n",
       "      <td>7.0</td>\n",
       "      <td>7.0</td>\n",
       "      <td>7.0</td>\n",
       "      <td>7.0</td>\n",
       "    </tr>\n",
       "    <tr>\n",
       "      <th>...</th>\n",
       "      <td>...</td>\n",
       "      <td>...</td>\n",
       "      <td>...</td>\n",
       "      <td>...</td>\n",
       "      <td>...</td>\n",
       "      <td>...</td>\n",
       "      <td>...</td>\n",
       "      <td>...</td>\n",
       "      <td>...</td>\n",
       "      <td>...</td>\n",
       "      <td>...</td>\n",
       "      <td>...</td>\n",
       "      <td>...</td>\n",
       "      <td>...</td>\n",
       "      <td>...</td>\n",
       "      <td>...</td>\n",
       "      <td>...</td>\n",
       "      <td>...</td>\n",
       "      <td>...</td>\n",
       "      <td>...</td>\n",
       "      <td>...</td>\n",
       "    </tr>\n",
       "    <tr>\n",
       "      <th>606</th>\n",
       "      <td>5.0</td>\n",
       "      <td>7.0</td>\n",
       "      <td>7.0</td>\n",
       "      <td>7.0</td>\n",
       "      <td>7.0</td>\n",
       "      <td>7.0</td>\n",
       "      <td>5.0</td>\n",
       "      <td>7.0</td>\n",
       "      <td>7.0</td>\n",
       "      <td>7.0</td>\n",
       "      <td>...</td>\n",
       "      <td>7.0</td>\n",
       "      <td>7.0</td>\n",
       "      <td>7.0</td>\n",
       "      <td>7.0</td>\n",
       "      <td>7.0</td>\n",
       "      <td>7.0</td>\n",
       "      <td>7.0</td>\n",
       "      <td>7.0</td>\n",
       "      <td>7.0</td>\n",
       "      <td>7.0</td>\n",
       "    </tr>\n",
       "    <tr>\n",
       "      <th>607</th>\n",
       "      <td>8.0</td>\n",
       "      <td>8.0</td>\n",
       "      <td>8.0</td>\n",
       "      <td>8.0</td>\n",
       "      <td>8.0</td>\n",
       "      <td>8.0</td>\n",
       "      <td>8.0</td>\n",
       "      <td>8.0</td>\n",
       "      <td>8.0</td>\n",
       "      <td>8.0</td>\n",
       "      <td>...</td>\n",
       "      <td>8.0</td>\n",
       "      <td>8.0</td>\n",
       "      <td>8.0</td>\n",
       "      <td>8.0</td>\n",
       "      <td>8.0</td>\n",
       "      <td>8.0</td>\n",
       "      <td>8.0</td>\n",
       "      <td>8.0</td>\n",
       "      <td>8.0</td>\n",
       "      <td>8.0</td>\n",
       "    </tr>\n",
       "    <tr>\n",
       "      <th>608</th>\n",
       "      <td>5.0</td>\n",
       "      <td>4.0</td>\n",
       "      <td>4.0</td>\n",
       "      <td>6.0</td>\n",
       "      <td>6.0</td>\n",
       "      <td>6.0</td>\n",
       "      <td>6.0</td>\n",
       "      <td>6.0</td>\n",
       "      <td>6.0</td>\n",
       "      <td>8.0</td>\n",
       "      <td>...</td>\n",
       "      <td>6.0</td>\n",
       "      <td>6.0</td>\n",
       "      <td>6.0</td>\n",
       "      <td>6.0</td>\n",
       "      <td>6.0</td>\n",
       "      <td>6.0</td>\n",
       "      <td>6.0</td>\n",
       "      <td>6.0</td>\n",
       "      <td>6.0</td>\n",
       "      <td>6.0</td>\n",
       "    </tr>\n",
       "    <tr>\n",
       "      <th>609</th>\n",
       "      <td>6.0</td>\n",
       "      <td>7.0</td>\n",
       "      <td>7.0</td>\n",
       "      <td>7.0</td>\n",
       "      <td>7.0</td>\n",
       "      <td>7.0</td>\n",
       "      <td>7.0</td>\n",
       "      <td>7.0</td>\n",
       "      <td>7.0</td>\n",
       "      <td>8.0</td>\n",
       "      <td>...</td>\n",
       "      <td>7.0</td>\n",
       "      <td>7.0</td>\n",
       "      <td>7.0</td>\n",
       "      <td>7.0</td>\n",
       "      <td>7.0</td>\n",
       "      <td>7.0</td>\n",
       "      <td>7.0</td>\n",
       "      <td>7.0</td>\n",
       "      <td>7.0</td>\n",
       "      <td>7.0</td>\n",
       "    </tr>\n",
       "    <tr>\n",
       "      <th>610</th>\n",
       "      <td>10.0</td>\n",
       "      <td>7.0</td>\n",
       "      <td>7.0</td>\n",
       "      <td>7.0</td>\n",
       "      <td>7.0</td>\n",
       "      <td>10.0</td>\n",
       "      <td>7.0</td>\n",
       "      <td>7.0</td>\n",
       "      <td>7.0</td>\n",
       "      <td>7.0</td>\n",
       "      <td>...</td>\n",
       "      <td>7.0</td>\n",
       "      <td>7.0</td>\n",
       "      <td>7.0</td>\n",
       "      <td>7.0</td>\n",
       "      <td>7.0</td>\n",
       "      <td>7.0</td>\n",
       "      <td>7.0</td>\n",
       "      <td>7.0</td>\n",
       "      <td>7.0</td>\n",
       "      <td>7.0</td>\n",
       "    </tr>\n",
       "  </tbody>\n",
       "</table>\n",
       "<p>610 rows × 9724 columns</p>\n",
       "</div>"
      ]
     },
     "execution_count": 4,
     "metadata": {},
     "output_type": "execute_result"
    }
   ],
   "execution_count": 4
  },
  {
   "cell_type": "code",
   "metadata": {
    "ExecuteTime": {
     "end_time": "2024-11-17T14:17:38.494855Z",
     "start_time": "2024-11-17T14:17:38.483997Z"
    }
   },
   "source": [
    "# wczytujemy nazwy filmow i kategorie\n",
    "\n",
    "movies_metadata = pd.read_csv('ml-latest-small/movies.csv').set_index('movieId')\n",
    "movies_metadata"
   ],
   "outputs": [
    {
     "data": {
      "text/plain": [
       "                                             title  \\\n",
       "movieId                                              \n",
       "1                                 Toy Story (1995)   \n",
       "2                                   Jumanji (1995)   \n",
       "3                          Grumpier Old Men (1995)   \n",
       "4                         Waiting to Exhale (1995)   \n",
       "5               Father of the Bride Part II (1995)   \n",
       "...                                            ...   \n",
       "193581   Black Butler: Book of the Atlantic (2017)   \n",
       "193583                No Game No Life: Zero (2017)   \n",
       "193585                                Flint (2017)   \n",
       "193587         Bungo Stray Dogs: Dead Apple (2018)   \n",
       "193609         Andrew Dice Clay: Dice Rules (1991)   \n",
       "\n",
       "                                              genres  \n",
       "movieId                                               \n",
       "1        Adventure|Animation|Children|Comedy|Fantasy  \n",
       "2                         Adventure|Children|Fantasy  \n",
       "3                                     Comedy|Romance  \n",
       "4                               Comedy|Drama|Romance  \n",
       "5                                             Comedy  \n",
       "...                                              ...  \n",
       "193581               Action|Animation|Comedy|Fantasy  \n",
       "193583                      Animation|Comedy|Fantasy  \n",
       "193585                                         Drama  \n",
       "193587                              Action|Animation  \n",
       "193609                                        Comedy  \n",
       "\n",
       "[9742 rows x 2 columns]"
      ],
      "text/html": [
       "<div>\n",
       "<style scoped>\n",
       "    .dataframe tbody tr th:only-of-type {\n",
       "        vertical-align: middle;\n",
       "    }\n",
       "\n",
       "    .dataframe tbody tr th {\n",
       "        vertical-align: top;\n",
       "    }\n",
       "\n",
       "    .dataframe thead th {\n",
       "        text-align: right;\n",
       "    }\n",
       "</style>\n",
       "<table border=\"1\" class=\"dataframe\">\n",
       "  <thead>\n",
       "    <tr style=\"text-align: right;\">\n",
       "      <th></th>\n",
       "      <th>title</th>\n",
       "      <th>genres</th>\n",
       "    </tr>\n",
       "    <tr>\n",
       "      <th>movieId</th>\n",
       "      <th></th>\n",
       "      <th></th>\n",
       "    </tr>\n",
       "  </thead>\n",
       "  <tbody>\n",
       "    <tr>\n",
       "      <th>1</th>\n",
       "      <td>Toy Story (1995)</td>\n",
       "      <td>Adventure|Animation|Children|Comedy|Fantasy</td>\n",
       "    </tr>\n",
       "    <tr>\n",
       "      <th>2</th>\n",
       "      <td>Jumanji (1995)</td>\n",
       "      <td>Adventure|Children|Fantasy</td>\n",
       "    </tr>\n",
       "    <tr>\n",
       "      <th>3</th>\n",
       "      <td>Grumpier Old Men (1995)</td>\n",
       "      <td>Comedy|Romance</td>\n",
       "    </tr>\n",
       "    <tr>\n",
       "      <th>4</th>\n",
       "      <td>Waiting to Exhale (1995)</td>\n",
       "      <td>Comedy|Drama|Romance</td>\n",
       "    </tr>\n",
       "    <tr>\n",
       "      <th>5</th>\n",
       "      <td>Father of the Bride Part II (1995)</td>\n",
       "      <td>Comedy</td>\n",
       "    </tr>\n",
       "    <tr>\n",
       "      <th>...</th>\n",
       "      <td>...</td>\n",
       "      <td>...</td>\n",
       "    </tr>\n",
       "    <tr>\n",
       "      <th>193581</th>\n",
       "      <td>Black Butler: Book of the Atlantic (2017)</td>\n",
       "      <td>Action|Animation|Comedy|Fantasy</td>\n",
       "    </tr>\n",
       "    <tr>\n",
       "      <th>193583</th>\n",
       "      <td>No Game No Life: Zero (2017)</td>\n",
       "      <td>Animation|Comedy|Fantasy</td>\n",
       "    </tr>\n",
       "    <tr>\n",
       "      <th>193585</th>\n",
       "      <td>Flint (2017)</td>\n",
       "      <td>Drama</td>\n",
       "    </tr>\n",
       "    <tr>\n",
       "      <th>193587</th>\n",
       "      <td>Bungo Stray Dogs: Dead Apple (2018)</td>\n",
       "      <td>Action|Animation</td>\n",
       "    </tr>\n",
       "    <tr>\n",
       "      <th>193609</th>\n",
       "      <td>Andrew Dice Clay: Dice Rules (1991)</td>\n",
       "      <td>Comedy</td>\n",
       "    </tr>\n",
       "  </tbody>\n",
       "</table>\n",
       "<p>9742 rows × 2 columns</p>\n",
       "</div>"
      ]
     },
     "execution_count": 5,
     "metadata": {},
     "output_type": "execute_result"
    }
   ],
   "execution_count": 5
  },
  {
   "cell_type": "code",
   "metadata": {
    "ExecuteTime": {
     "end_time": "2024-11-17T14:17:38.553570Z",
     "start_time": "2024-11-17T14:17:38.547920Z"
    }
   },
   "source": [
    "# wczytujemy przykladowe grupy uzytkownikow\n",
    "groups = pd.read_csv('groups.csv').values.tolist()\n",
    "groups"
   ],
   "outputs": [
    {
     "data": {
      "text/plain": [
       "[[111, 307, 474, 599, 414],\n",
       " [469, 182, 232, 448, 600],\n",
       " [508, 581, 497, 402, 566],\n",
       " [300, 515, 245, 568, 507],\n",
       " [2, 371, 252, 518, 37],\n",
       " [269, 360, 469, 287, 308],\n",
       " [243, 527, 418, 118, 370],\n",
       " [186, 559, 327, 553, 314]]"
      ]
     },
     "execution_count": 6,
     "metadata": {},
     "output_type": "execute_result"
    }
   ],
   "execution_count": 6
  },
  {
   "cell_type": "code",
   "metadata": {
    "ExecuteTime": {
     "end_time": "2024-11-17T14:17:38.647040Z",
     "start_time": "2024-11-17T14:17:38.629913Z"
    }
   },
   "source": [
    "# przygotowujemy funkcje pomocnicza\n",
    "\n",
    "def describe_group(group, N=10):\n",
    "    print(f'\\n\\nUser ids: {group}')\n",
    "    group_size = len(group)\n",
    "    \n",
    "    mean_stdev = ratings.loc[group].std(axis=0).mean()\n",
    "    median_stdev = ratings.loc[group].std(axis=0).median()\n",
    "    std_stdev = ratings.loc[group].std(axis=0).std()\n",
    "    print(f'\\nMean ratings deviation: {mean_stdev}')\n",
    "    print(f'Median ratings deviation: {median_stdev}')\n",
    "    print(f'Standard deviation of ratings deviation: {std_stdev}')\n",
    "    \n",
    "    average_scores = ratings.iloc[group].mean(axis=0)\n",
    "    average_scores = average_scores.sort_values()\n",
    "    best_movies = [(movies_metadata['title'][movie_id], average_scores[movie_id]) for movie_id in list(average_scores[-N:].index)]\n",
    "    worst_movies = [(movies_metadata['title'][movie_id], average_scores[movie_id]) for movie_id in list(average_scores[:N].index)]\n",
    "    \n",
    "    print('\\nBest movies:')\n",
    "    for movie, score in best_movies[::-1]:\n",
    "        print(f'{movie}, {score}*')\n",
    "    print('\\nWorst movies:')\n",
    "    for movie, score in worst_movies:\n",
    "        print(f'{movie}, {score}*')\n",
    "\n",
    "describe_group(groups[5])"
   ],
   "outputs": [
    {
     "name": "stdout",
     "output_type": "stream",
     "text": [
      "\n",
      "\n",
      "User ids: [269, 360, 469, 287, 308]\n",
      "\n",
      "Mean ratings deviation: 1.1259149574579788\n",
      "Median ratings deviation: 1.0954451150103321\n",
      "Standard deviation of ratings deviation: 0.17836724055768716\n",
      "\n",
      "Best movies:\n",
      "Toy Story (1995), 8.2*\n",
      "Forrest Gump (1994), 8.2*\n",
      "Willy Wonka & the Chocolate Factory (1971), 8.0*\n",
      "Braveheart (1995), 8.0*\n",
      "Terminator 2: Judgment Day (1991), 7.8*\n",
      "Schindler's List (1993), 7.8*\n",
      "Dances with Wolves (1990), 7.6*\n",
      "James and the Giant Peach (1996), 7.6*\n",
      "Dead Man Walking (1995), 7.6*\n",
      "Nixon (1995), 7.6*\n",
      "\n",
      "Worst movies:\n",
      "Broken Arrow (1996), 5.2*\n",
      "Sleepy Hollow (1999), 5.4*\n",
      "The Devil's Advocate (1997), 5.4*\n",
      "Cable Guy, The (1996), 5.4*\n",
      "Mission: Impossible (1996), 5.6*\n",
      "Nutty Professor, The (1996), 5.6*\n",
      "Down Periscope (1996), 5.8*\n",
      "Cheech and Chong's Up in Smoke (1978), 5.8*\n",
      "Wrong Man, The (1956), 5.8*\n",
      "Fog, The (2005), 5.8*\n"
     ]
    }
   ],
   "execution_count": 7
  },
  {
   "cell_type": "markdown",
   "metadata": {},
   "source": [
    "## Część 2. - algorytmy proste"
   ]
  },
  {
   "cell_type": "code",
   "metadata": {
    "ExecuteTime": {
     "end_time": "2024-11-17T14:17:55.900562Z",
     "start_time": "2024-11-17T14:17:55.896391Z"
    }
   },
   "source": [
    "# zdefiniujmy interfejs dla wszystkich algorytmow rekomendacyjnych\n",
    "\n",
    "class Recommender:\n",
    "    def recommend(self, movies: list[int], ratings: pd.DataFrame, group: list[int], size: int) -> list[int]:\n",
    "        pass\n",
    "\n",
    "\n",
    "# jako pierwszy zaimplementujemy algorytm losowy - dla porownania\n",
    "    \n",
    "class RandomRecommender(Recommender):\n",
    "    def __init__(self):\n",
    "        self.name = 'random'\n",
    "        \n",
    "    def recommend(self, movies, ratings, group, size):\n",
    "        return sample(movies, size)\n",
    "\n",
    "RandomRecommender().recommend(list(ratings.columns), ratings, groups[0], 10)"
   ],
   "outputs": [
    {
     "data": {
      "text/plain": [
       "[105246, 2617, 4078, 7669, 138632, 135436, 2417, 26375, 70637, 72733]"
      ]
     },
     "execution_count": 10,
     "metadata": {},
     "output_type": "execute_result"
    }
   ],
   "execution_count": 10
  },
  {
   "cell_type": "code",
   "metadata": {
    "ExecuteTime": {
     "end_time": "2024-11-17T15:14:58.891193Z",
     "start_time": "2024-11-17T15:14:58.883742Z"
    }
   },
   "source": [
    "# algorytm rekomendujacy filmy o najwyzszej sredniej ocen\n",
    "\n",
    "class AverageRecommender(Recommender):\n",
    "    def __init__(self):\n",
    "        self.name = 'average'\n",
    "    \n",
    "    def recommend(self, movies: list[int], ratings: pd.DataFrame, group: list[int], size: int) -> list[int]:\n",
    "        group_ratings = ratings.loc[group]\n",
    "        average_ratings = group_ratings.mean(axis=0)\n",
    "        sorted_movies = average_ratings.sort_values(ascending=False)\n",
    "        top_movies = sorted_movies.head(size)\n",
    "        return top_movies.index.tolist()\n",
    "\n",
    "\n",
    "AverageRecommender().recommend(list(ratings.columns), ratings, groups[0], 10)"
   ],
   "outputs": [
    {
     "data": {
      "text/plain": [
       "[2959, 318, 3897, 4878, 3160, 4226, 1221, 858, 296, 1247]"
      ]
     },
     "execution_count": 59,
     "metadata": {},
     "output_type": "execute_result"
    }
   ],
   "execution_count": 59
  },
  {
   "cell_type": "code",
   "metadata": {
    "ExecuteTime": {
     "end_time": "2024-11-17T15:19:15.380247Z",
     "start_time": "2024-11-17T15:19:15.374144Z"
    }
   },
   "source": [
    "# algorytm rekomendujacy filmy o najwyzszej sredniej ocen,\n",
    "#   ale rownoczesnie wykluczajacy te filmy, ktore otrzymaly choc jedna ocene ponizej thresholdu\n",
    "\n",
    "class AverageWithoutMiseryRecommender(Recommender):\n",
    "    def __init__(self, score_threshold):\n",
    "        self.name = 'average_without_misery'\n",
    "        self.score_threshold = score_threshold\n",
    "        \n",
    "    def recommend(self, movies: list[int], ratings: pd.DataFrame, group: list[int], size: int) -> list[int]:\n",
    "        group_ratings = ratings.loc[group]\n",
    "        above_threshold_mask = group_ratings >= self.score_threshold\n",
    "        group_ratings_excluded_misery = group_ratings.loc[:, above_threshold_mask.all(axis=0)]\n",
    "        average_ratings = group_ratings_excluded_misery.mean(axis=0)\n",
    "        sorted_movies = average_ratings.sort_values(ascending=False)\n",
    "        top_movies = sorted_movies.head(size)\n",
    "\n",
    "        return top_movies.index.tolist()\n",
    "    \n",
    "AverageWithoutMiseryRecommender(4).recommend(list(ratings.columns), ratings, groups[0], 10)"
   ],
   "outputs": [
    {
     "data": {
      "text/plain": [
       "[2959, 318, 4878, 1221, 296, 858, 4226, 3160, 3897, 1089]"
      ]
     },
     "execution_count": 82,
     "metadata": {},
     "output_type": "execute_result"
    }
   ],
   "execution_count": 82
  },
  {
   "cell_type": "code",
   "metadata": {
    "ExecuteTime": {
     "end_time": "2024-11-17T15:22:16.228357Z",
     "start_time": "2024-11-17T15:22:16.216259Z"
    }
   },
   "source": [
    "from itertools import cycle\n",
    "\n",
    "\n",
    "# algorytm uwzgledniajacy preferencje tylko jednego uzytkownika w kazdej iteracji\n",
    "\n",
    "class FairnessRecommender(Recommender):\n",
    "    def __init__(self):\n",
    "        self.name = 'fairness'\n",
    "        \n",
    "    def recommend(self, movies: list[int], ratings: pd.DataFrame, group: list[int], size: int) -> list[int]:\n",
    "        result = []\n",
    "        for user_id in cycle(group):\n",
    "            user_ratings = ratings.loc[user_id]\n",
    "            sorted_user_ratings = user_ratings.sort_values(ascending=False)\n",
    "            for move_id in sorted_user_ratings.index:\n",
    "                if move_id not in result:\n",
    "                    result.append(move_id)\n",
    "                    break\n",
    "\n",
    "            if len(result) == size:\n",
    "                break\n",
    "\n",
    "        return result\n",
    "\n",
    "FairnessRecommender().recommend(list(ratings.columns), ratings, groups[0], 10)"
   ],
   "outputs": [
    {
     "data": {
      "text/plain": [
       "[60756, 59315, 5377, 3703, 750, 74532, 51931, 2762, 260, 1199]"
      ]
     },
     "execution_count": 85,
     "metadata": {},
     "output_type": "execute_result"
    }
   ],
   "execution_count": 85
  },
  {
   "cell_type": "code",
   "metadata": {
    "ExecuteTime": {
     "end_time": "2024-11-17T15:23:50.856981Z",
     "start_time": "2024-11-17T15:23:50.821355Z"
    }
   },
   "source": [
    "from collections import defaultdict\n",
    "\n",
    "# wybrany algorytm wyborczy (dyktatura, Borda, Copeland)\n",
    "\n",
    "class VotingRecommender(Recommender):\n",
    "    def __init__(self):\n",
    "        self.name = \"borda\"\n",
    "    \n",
    "    def recommend(self, movies: list[int], ratings: pd.DataFrame, group: list[int], size: int) -> list[int]:\n",
    "        borda_scores = defaultdict(int)\n",
    "\n",
    "        for user_id in group:\n",
    "            user_ratings = ratings.loc[user_id]\n",
    "            sorted_user_ratings = user_ratings.sort_values(ascending=True)\n",
    "            for i, movie_id in enumerate(sorted_user_ratings.index):\n",
    "                borda_scores[movie_id] += i\n",
    "\n",
    "        borda_scores = list(borda_scores.items())\n",
    "\n",
    "        group_ratings = ratings.loc[group]\n",
    "        average_ratings = group_ratings.mean(axis=0)\n",
    "        borda_scores_with_avg = [(movie_id, borda_score, average_ratings[movie_id]) for movie_id, borda_score in borda_scores]\n",
    "        sorted_borda_scores = sorted(borda_scores_with_avg, key=lambda x: (x[1], x[2]), reverse=True)\n",
    "        return [movie_id for movie_id, *_ in sorted_borda_scores[:size]]\n",
    "\n",
    "VotingRecommender().recommend(list(ratings.columns), ratings, groups[0], 10)"
   ],
   "outputs": [
    {
     "data": {
      "text/plain": [
       "[318, 2959, 3897, 4226, 4878, 1682, 48516, 4963, 4993, 5989]"
      ]
     },
     "execution_count": 89,
     "metadata": {},
     "output_type": "execute_result"
    }
   ],
   "execution_count": 89
  },
  {
   "metadata": {},
   "cell_type": "markdown",
   "source": ""
  },
  {
   "cell_type": "code",
   "metadata": {
    "ExecuteTime": {
     "end_time": "2024-11-17T15:33:48.914404Z",
     "start_time": "2024-11-17T15:33:47.116244Z"
    }
   },
   "source": [
    "# algorytm zachlanny, aproksymujacy metode Proportional Approval Voting\n",
    "#   w kazdej iteracji wybieramy ten film, ktory najbardziej zwieksza zadowolenie zgodnie z punktacja PAV\n",
    "\n",
    "class ProportionalApprovalVotingRecommender(Recommender):\n",
    "    def __init__(self, threshold):\n",
    "        self.threshold = threshold\n",
    "        self.name = 'PAV'\n",
    "        \n",
    "    def recommend(self, movies: list[int], ratings: pd.DataFrame, group: list[int], size: int) -> list[int]:\n",
    "        result = set()\n",
    "        user_satisfaction = defaultdict(lambda: 1)\n",
    "        for _ in range(size):\n",
    "            movie_ratings = defaultdict(int)\n",
    "            for user_id in group:\n",
    "                user_ratings = ratings.loc[user_id]\n",
    "                sorted_user_ratings = user_ratings.sort_values(ascending=False)\n",
    "                iteration_user_satisfaction = 0\n",
    "                for movie_id in sorted_user_ratings.index:\n",
    "                    if movie_id in result:\n",
    "                        continue\n",
    "                    if ratings.loc[user_id, movie_id] >= self.threshold:\n",
    "                        movie_ratings[movie_id] += 1 / (user_satisfaction[user_id] + iteration_user_satisfaction)\n",
    "                        iteration_user_satisfaction += 1\n",
    "\n",
    "            sorted_movies = sorted(movie_ratings.items(), key=lambda x: x[1], reverse=True)\n",
    "            best_movie = sorted_movies[0][0]\n",
    "            result.add(best_movie)\n",
    "\n",
    "            for user_id in group:\n",
    "                if ratings.loc[user_id, best_movie] >= self.threshold:\n",
    "                    user_satisfaction[user_id] += 1\n",
    "\n",
    "        return list(result)\n",
    "\n",
    "ProportionalApprovalVotingRecommender(5).recommend(list(ratings.columns), ratings, groups[0], 10)"
   ],
   "outputs": [
    {
     "data": {
      "text/plain": [
       "[5377, 1221, 2762, 2858, 1196, 4973, 750, 2959, 1208, 1210]"
      ]
     },
     "execution_count": 101,
     "metadata": {},
     "output_type": "execute_result"
    }
   ],
   "execution_count": 101
  },
  {
   "cell_type": "markdown",
   "metadata": {},
   "source": [
    "## Część 3. - funkcje celu"
   ]
  },
  {
   "cell_type": "code",
   "metadata": {
    "ExecuteTime": {
     "end_time": "2024-11-17T15:43:38.692672Z",
     "start_time": "2024-11-17T15:43:38.684674Z"
    }
   },
   "source": [
    "# dwie funkcje pomocnicze:\n",
    "#  - znajdujaca ulubione filmy danego uzytkownika\n",
    "#  - obliczajaca sume ocen wystawionych przez uzytkownika wszystkim filmom w rekomendacji\n",
    "\n",
    "def top_n_movies_for_user(ratings: pd.DataFrame, movies: list[int], user_id: int, n: int) -> list[int]:\n",
    "    user_ratings = ratings.loc[user_id]\n",
    "    sorted_user_ratings = user_ratings.sort_values(ascending=False)\n",
    "    return sorted_user_ratings.head(n).index.tolist()\n",
    "\n",
    "def total_score(recommendation: list[int], user_id: int, ratings: pd.DataFrame) -> float:\n",
    "    return sum(ratings.loc[user_id, movie_id] for movie_id in recommendation)"
   ],
   "outputs": [],
   "execution_count": 103
  },
  {
   "cell_type": "code",
   "metadata": {
    "ExecuteTime": {
     "end_time": "2024-11-17T15:46:27.947127Z",
     "start_time": "2024-11-17T15:46:27.940504Z"
    }
   },
   "source": [
    "# funkcja obliczajaca zadowolenie pojedynczego uzytkownika\n",
    "#  - iloraz zadowolenia z wygenerowanej rekomendacji oraz zadowolenia z hipotetycznej rekomendacji idealnej\n",
    "def overall_user_satisfaction(recommendation: list[int], user_id: int, movies: list[int], ratings: pd.DataFrame) -> float:\n",
    "    n = len(recommendation)\n",
    "    recommendation_score = total_score(recommendation, user_id, ratings)\n",
    "    top_movies_score = total_score(top_n_movies_for_user(ratings, movies, user_id, n), user_id, ratings)\n",
    "    return recommendation_score / top_movies_score\n",
    "\n",
    "# funkcja celu - srednia z zadowolenia wszystkich uzytkownikow w grupie\n",
    "def overall_group_satisfaction(recommendation: list[int], group: list[int], movies: list[int], ratings: pd.DateOffset) -> float:\n",
    "    satisfaction_sum = sum(overall_user_satisfaction(recommendation, user_id, movies, ratings) for user_id in group)\n",
    "    return satisfaction_sum / len(group)\n",
    "\n",
    "# funkcja celu - roznica miedzy maksymalnym i minimalnym zadowolenie w grupie\n",
    "def group_disagreement(recommendation: list[int], group: list[int], movies: list[int], ratings: pd.DateOffset) -> float:\n",
    "    group_satisfaction = [overall_user_satisfaction(recommendation, user_id, movies, ratings) for user_id in group]\n",
    "    return max(group_satisfaction) - min(group_satisfaction)"
   ],
   "outputs": [],
   "execution_count": 104
  },
  {
   "cell_type": "markdown",
   "metadata": {},
   "source": [
    "## Część 4. - Sequential Hybrid Aggregation"
   ]
  },
  {
   "cell_type": "code",
   "metadata": {
    "ExecuteTime": {
     "end_time": "2024-11-17T15:50:48.114459Z",
     "start_time": "2024-11-17T15:50:47.902108Z"
    }
   },
   "source": [
    "# algorytm balansujacy pomiedzy wyborem elementow o najwyzszej sredniej ocen\n",
    "#   i o najwyzszej minimalnej ocenie\n",
    "#   wyliczajacy w kazdej iteracji parametr alfa - jak na wykladzie\n",
    "class SequentialHybridAggregationRecommender(Recommender):\n",
    "    def __init__(self):\n",
    "        self.name = 'sequential_hybrid_aggregation'\n",
    "    \n",
    "    def recommend(self, movies: list[int], ratings: pd.DataFrame, group: list[int], size: int) -> list[int]:\n",
    "        avg_score = ratings.loc[group].mean(axis=0)\n",
    "        lowest_score = ratings.loc[group].min(axis=0)\n",
    "        alpha = 1\n",
    "\n",
    "        score = defaultdict(int)\n",
    "        result = []\n",
    "\n",
    "        for _ in range(size):\n",
    "            for movie_id in movies:\n",
    "                if movie_id in result:\n",
    "                    score[movie_id] = -1\n",
    "                else:\n",
    "                    score[movie_id] = (1 - alpha) * avg_score[movie_id] + alpha * lowest_score[movie_id]\n",
    "\n",
    "            best_movie = max(score.items(), key=lambda x: x[1])[0]\n",
    "            result.append(best_movie)\n",
    "\n",
    "            alpha = group_disagreement(result, group, movies, ratings)\n",
    "\n",
    "        return result\n",
    "\n",
    "SequentialHybridAggregationRecommender().recommend(list(ratings.columns), ratings, groups[0], 10)"
   ],
   "outputs": [
    {
     "data": {
      "text/plain": [
       "[318, 2959, 296, 858, 1221, 3160, 3897, 4226, 4878, 1089]"
      ]
     },
     "execution_count": 107,
     "metadata": {},
     "output_type": "execute_result"
    }
   ],
   "execution_count": 107
  },
  {
   "cell_type": "markdown",
   "metadata": {},
   "source": [
    "## Część 5. - porównanie algorytmów"
   ]
  },
  {
   "cell_type": "code",
   "metadata": {
    "scrolled": true,
    "ExecuteTime": {
     "end_time": "2024-11-17T15:55:28.564841Z",
     "start_time": "2024-11-17T15:55:11.607215Z"
    }
   },
   "source": [
    "recommenders = [\n",
    "    RandomRecommender(),\n",
    "    AverageRecommender(),\n",
    "    AverageWithoutMiseryRecommender(5),\n",
    "    FairnessRecommender(),\n",
    "    VotingRecommender(),\n",
    "    ProportionalApprovalVotingRecommender(5),\n",
    "    SequentialHybridAggregationRecommender()\n",
    "]\n",
    "\n",
    "recommendation_size = 10\n",
    "\n",
    "# dla kazdego algorytmu:\n",
    "#  - wygenerujmy jedna rekomendacje dla kazdej grupy\n",
    "#  - obliczmy wartosci obu funkcji celu dla kazdej rekomendacji\n",
    "#  - wypiszmy wyniki na konsole\n",
    "\n",
    "print(f\"{'Recommender':<25}\\t{'Group':<25}\\t{'Overall satisfaction':<25}\\t{'Disagreement':<25}\")\n",
    "for recommender in recommenders:\n",
    "    for group in groups:\n",
    "        recommendation = recommender.recommend(list(ratings.columns), ratings, group, recommendation_size)\n",
    "        overall_satisfaction = overall_group_satisfaction(recommendation, group, list(ratings.columns), ratings)\n",
    "        disagreement = group_disagreement(recommendation, group, list(ratings.columns), ratings)\n",
    "        print(f'{recommender.name:<30}\\t{str(group):<25}\\t{overall_satisfaction:.3f}\\t{disagreement:.3f}')"
   ],
   "outputs": [
    {
     "name": "stdout",
     "output_type": "stream",
     "text": [
      "Recommender              \tGroup                    \tOverall satisfaction     \tDisagreement             \n",
      "random                        \t[111, 307, 474, 599, 414]\t0.626\t0.200\n",
      "random                        \t[469, 182, 232, 448, 600]\t0.664\t0.140\n",
      "random                        \t[508, 581, 497, 402, 566]\t0.759\t0.261\n",
      "random                        \t[300, 515, 245, 568, 507]\t0.870\t0.242\n",
      "random                        \t[2, 371, 252, 518, 37]   \t0.829\t0.122\n",
      "random                        \t[269, 360, 469, 287, 308]\t0.638\t0.278\n",
      "random                        \t[243, 527, 418, 118, 370]\t0.800\t0.209\n",
      "random                        \t[186, 559, 327, 553, 314]\t0.765\t0.275\n",
      "average                       \t[111, 307, 474, 599, 414]\t0.886\t0.230\n",
      "average                       \t[469, 182, 232, 448, 600]\t0.894\t0.250\n",
      "average                       \t[508, 581, 497, 402, 566]\t0.859\t0.207\n",
      "average                       \t[300, 515, 245, 568, 507]\t0.932\t0.106\n",
      "average                       \t[2, 371, 252, 518, 37]   \t0.879\t0.101\n",
      "average                       \t[269, 360, 469, 287, 308]\t0.784\t0.290\n",
      "average                       \t[243, 527, 418, 118, 370]\t0.891\t0.134\n",
      "average                       \t[186, 559, 327, 553, 314]\t0.873\t0.127\n",
      "average_without_misery        \t[111, 307, 474, 599, 414]\t0.886\t0.230\n",
      "average_without_misery        \t[469, 182, 232, 448, 600]\t0.894\t0.250\n",
      "average_without_misery        \t[508, 581, 497, 402, 566]\t0.820\t0.300\n",
      "average_without_misery        \t[300, 515, 245, 568, 507]\t0.933\t0.110\n",
      "average_without_misery        \t[2, 371, 252, 518, 37]   \t0.880\t0.063\n",
      "average_without_misery        \t[269, 360, 469, 287, 308]\t0.785\t0.290\n",
      "average_without_misery        \t[243, 527, 418, 118, 370]\t0.891\t0.160\n",
      "average_without_misery        \t[186, 559, 327, 553, 314]\t0.874\t0.178\n",
      "fairness                      \t[111, 307, 474, 599, 414]\t0.728\t0.180\n",
      "fairness                      \t[469, 182, 232, 448, 600]\t0.776\t0.180\n",
      "fairness                      \t[508, 581, 497, 402, 566]\t0.828\t0.198\n",
      "fairness                      \t[300, 515, 245, 568, 507]\t0.915\t0.152\n",
      "fairness                      \t[2, 371, 252, 518, 37]   \t0.875\t0.076\n",
      "fairness                      \t[269, 360, 469, 287, 308]\t0.714\t0.274\n",
      "fairness                      \t[243, 527, 418, 118, 370]\t0.852\t0.175\n",
      "fairness                      \t[186, 559, 327, 553, 314]\t0.812\t0.212\n",
      "borda                         \t[111, 307, 474, 599, 414]\t0.844\t0.160\n",
      "borda                         \t[469, 182, 232, 448, 600]\t0.832\t0.100\n",
      "borda                         \t[508, 581, 497, 402, 566]\t0.759\t0.261\n",
      "borda                         \t[300, 515, 245, 568, 507]\t0.870\t0.242\n",
      "borda                         \t[2, 371, 252, 518, 37]   \t0.829\t0.122\n",
      "borda                         \t[269, 360, 469, 287, 308]\t0.638\t0.278\n",
      "borda                         \t[243, 527, 418, 118, 370]\t0.796\t0.209\n",
      "borda                         \t[186, 559, 327, 553, 314]\t0.765\t0.275\n",
      "PAV                           \t[111, 307, 474, 599, 414]\t0.822\t0.340\n",
      "PAV                           \t[469, 182, 232, 448, 600]\t0.826\t0.200\n",
      "PAV                           \t[508, 581, 497, 402, 566]\t0.848\t0.280\n",
      "PAV                           \t[300, 515, 245, 568, 507]\t0.870\t0.242\n",
      "PAV                           \t[2, 371, 252, 518, 37]   \t0.852\t0.089\n",
      "PAV                           \t[269, 360, 469, 287, 308]\t0.757\t0.290\n",
      "PAV                           \t[243, 527, 418, 118, 370]\t0.865\t0.132\n",
      "PAV                           \t[186, 559, 327, 553, 314]\t0.843\t0.130\n",
      "sequential_hybrid_aggregation \t[111, 307, 474, 599, 414]\t0.886\t0.230\n",
      "sequential_hybrid_aggregation \t[469, 182, 232, 448, 600]\t0.894\t0.240\n",
      "sequential_hybrid_aggregation \t[508, 581, 497, 402, 566]\t0.859\t0.207\n",
      "sequential_hybrid_aggregation \t[300, 515, 245, 568, 507]\t0.927\t0.184\n",
      "sequential_hybrid_aggregation \t[2, 371, 252, 518, 37]   \t0.879\t0.184\n",
      "sequential_hybrid_aggregation \t[269, 360, 469, 287, 308]\t0.782\t0.180\n",
      "sequential_hybrid_aggregation \t[243, 527, 418, 118, 370]\t0.891\t0.167\n",
      "sequential_hybrid_aggregation \t[186, 559, 327, 553, 314]\t0.870\t0.179\n"
     ]
    }
   ],
   "execution_count": 118
  },
  {
   "metadata": {},
   "cell_type": "code",
   "outputs": [],
   "execution_count": null,
   "source": ""
  }
 ],
 "metadata": {
  "kernelspec": {
   "display_name": "Python 3 (ipykernel)",
   "language": "python",
   "name": "python3"
  },
  "language_info": {
   "codemirror_mode": {
    "name": "ipython",
    "version": 3
   },
   "file_extension": ".py",
   "mimetype": "text/x-python",
   "name": "python",
   "nbconvert_exporter": "python",
   "pygments_lexer": "ipython3",
   "version": "3.9.6"
  }
 },
 "nbformat": 4,
 "nbformat_minor": 4
}
