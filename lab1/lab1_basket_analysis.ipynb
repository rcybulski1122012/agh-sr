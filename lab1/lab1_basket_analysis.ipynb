{
 "cells": [
  {
   "cell_type": "markdown",
   "metadata": {},
   "source": [
    "# Laboratorium 1 - analiza koszykowa\n",
    "\n",
    "## Przygotowanie\n",
    "\n",
    " * pobierz i wypakuj dataset: https://kaggle.com/datasets/rashikrahmanpritom/groceries-dataset-for-market-basket-analysismba?resource=download&select=basket.csv\n",
    "   * alternatywnie, pobierz plik `basket.csv` z Teamsów\n",
    " * [opcjonalnie] Utwórz wirtualne środowisko\n",
    " `python3 -m venv ./recsyslab1`\n",
    " * zainstaluj potrzebne biblioteki:\n",
    " `pip install more-itertools`"
   ]
  },
  {
   "cell_type": "markdown",
   "metadata": {},
   "source": [
    "## Część 1. - przygotowanie danych"
   ]
  },
  {
   "cell_type": "code",
   "metadata": {
    "ExecuteTime": {
     "end_time": "2024-10-03T16:33:16.349521Z",
     "start_time": "2024-10-03T16:33:16.344941Z"
    }
   },
   "source": [
    "# importujemy wszystkie potrzebne pakiety\n",
    "\n",
    "from more_itertools import powerset"
   ],
   "outputs": [],
   "execution_count": 1
  },
  {
   "cell_type": "code",
   "metadata": {
    "ExecuteTime": {
     "end_time": "2024-10-03T16:47:12.333443Z",
     "start_time": "2024-10-03T16:47:12.330688Z"
    }
   },
   "source": [
    "# definiujemy stale\n",
    "\n",
    "PATH = 'basket.csv'\n",
    "EPSILON = 0.001\n",
    "K = 4"
   ],
   "outputs": [],
   "execution_count": 2
  },
  {
   "cell_type": "code",
   "metadata": {
    "ExecuteTime": {
     "end_time": "2024-10-03T16:47:14.034449Z",
     "start_time": "2024-10-03T16:47:14.008635Z"
    }
   },
   "source": [
    "# wczytujemy dane o koszykach\n",
    "\n",
    "def read_baskets(path: str) -> list[tuple[str]]:\n",
    "    with open(path) as f:\n",
    "        raw = f.read()\n",
    "    baskets = [set([y.lower() for y in x.split(',') if y]) for x in raw.split('\\n')[1:] if x]\n",
    "    return baskets\n",
    "\n",
    "def unique_products(baskets: list[tuple[str]]) -> list[str]:\n",
    "    products = set()\n",
    "    for basket in baskets:\n",
    "        products.update(basket)\n",
    "    return sorted(list(products))\n",
    "\n",
    "baskets = read_baskets(PATH)\n",
    "products = unique_products(baskets)"
   ],
   "outputs": [],
   "execution_count": 3
  },
  {
   "cell_type": "markdown",
   "metadata": {},
   "source": [
    "## Część 2. - obliczanie wskaźników"
   ]
  },
  {
   "cell_type": "code",
   "metadata": {
    "ExecuteTime": {
     "end_time": "2024-10-03T17:53:02.859838Z",
     "start_time": "2024-10-03T17:52:59.924961Z"
    }
   },
   "source": [
    "# obliczamy strukture danych (np. slownik albo graf) przechowujaca wszystkie interesujace wartosci `support`\n",
    "\n",
    "def stringify_tuple(tpl: tuple[str]):\n",
    "    return ','.join(sorted(list(tpl)))\n",
    "\n",
    "def get_supports(baskets: list[tuple[str]], all_products: list[str], epsilon: float) -> dict[tuple, float]:\n",
    "    result = {}\n",
    "    basket_tuples_keys = [stringify_tuple(basket) for basket in baskets]\n",
    "    product_baskets_map = {}\n",
    "    memo = {}\n",
    "        \n",
    "    for basket in baskets:\n",
    "        for item in basket:\n",
    "            if item in product_baskets_map:\n",
    "                product_baskets_map[item].append(basket)\n",
    "            else:\n",
    "                product_baskets_map[item] = [basket]\n",
    "    \n",
    "    for cur_basket in baskets:\n",
    "        for possible_basket in powerset(cur_basket):\n",
    "            possible_basket_key = stringify_tuple(possible_basket)\n",
    "            if possible_basket_key in memo:\n",
    "                continue\n",
    "            occurrences = 0\n",
    "            set_possible_basket = set(possible_basket)\n",
    "            for product in possible_basket:\n",
    "                for basket in product_baskets_map[product]:\n",
    "                    if set_possible_basket.issubset(basket):\n",
    "                        occurrences += 1\n",
    "            calculated_support = occurrences / len(baskets)\n",
    "            if len(possible_basket) != 0:\n",
    "                calculated_support /= len(possible_basket)\n",
    "            memo[possible_basket_key] = calculated_support\n",
    "            if calculated_support < epsilon:\n",
    "                continue\n",
    "            result[possible_basket_key] = calculated_support\n",
    "    \n",
    "    return result\n",
    "\n",
    "supports = get_supports(baskets, products, EPSILON)\n",
    "count = {1: 0, 2: 0, 3:0, 4:0, 5:0}\n",
    "for support_key in supports:\n",
    "    count[support_key.count(',')+1] += 1\n",
    "    \n",
    "print(count)"
   ],
   "outputs": [
    {
     "name": "stdout",
     "output_type": "stream",
     "text": [
      "{1: 149, 2: 592, 3: 9, 4: 0, 5: 0}\n"
     ]
    }
   ],
   "execution_count": 39
  },
  {
   "cell_type": "code",
   "metadata": {
    "ExecuteTime": {
     "end_time": "2024-10-03T17:42:18.086159Z",
     "start_time": "2024-10-03T17:42:18.083Z"
    }
   },
   "source": [
    "# definiujemy funkcje obliczajace support, confidence i lift\n",
    "\n",
    "def support(supports, products: tuple[str]) -> float:\n",
    "    basket_key = stringify_tuple(products)\n",
    "    if basket_key in supports:\n",
    "        return supports.get(basket_key)\n",
    "    else:\n",
    "        occurrences = 0\n",
    "        products_set = set(products)\n",
    "        for basket in baskets:\n",
    "            if products_set.issubset(set(basket)):\n",
    "                occurrences += 1\n",
    "        \n",
    "        support = occurrences / len(baskets)\n",
    "        supports[baskets] = support\n",
    "        return support\n",
    "\n",
    "def confidence(supports, prior_products: tuple[str], following_products: tuple[str]) -> float:\n",
    "    return support(supports, prior_products | following_products) / support(supports, prior_products)\n",
    "    \n",
    "def lift(supports, prior_products: tuple[str], following_products: tuple[str]) -> float:\n",
    "    return support(supports, prior_products | following_products) / (support(supports, prior_products) * support(supports, following_products))"
   ],
   "outputs": [],
   "execution_count": 25
  },
  {
   "cell_type": "code",
   "metadata": {
    "ExecuteTime": {
     "end_time": "2024-10-03T17:42:18.839051Z",
     "start_time": "2024-10-03T17:42:18.836484Z"
    }
   },
   "source": [
    "print(support(supports, {'whole milk', 'rolls/buns'}))  # okolice jednej/dwóch setnych\n",
    "print(confidence(supports, {'whole milk', 'rolls/buns'}, {'yogurt'}))   # mniejszy niz jeden\n",
    "print(lift(supports, {'whole milk', 'rolls/buns'}, {'yogurt'}))"
   ],
   "outputs": [
    {
     "name": "stdout",
     "output_type": "stream",
     "text": [
      "0.013967787208447505\n",
      "0.09569377990430622\n",
      "1.1142926293448512\n"
     ]
    }
   ],
   "execution_count": 26
  },
  {
   "cell_type": "markdown",
   "metadata": {},
   "source": [
    "## Część 3. - generowanie rekomendacji"
   ]
  },
  {
   "cell_type": "code",
   "execution_count": null,
   "metadata": {},
   "outputs": [],
   "source": [
    "# wyznaczamy liste potencjalnych rekomendacji\n",
    "# rekomendowane artykuly powinny miec lift > 1 i jak najwyzszy confidence\n",
    "\n",
    "def generate_basic_candidates(basket: tuple[str], products: list[str], supports) -> list[tuple[str, tuple[str], float, float]]:\n",
    "    # return [(item, subbasket, confidence, lift)]\n",
    "    raise NotImplementedError()"
   ]
  },
  {
   "cell_type": "code",
   "execution_count": null,
   "metadata": {},
   "outputs": [],
   "source": [
    "# zaproponuj drugi, bardziej zaawansowany algorytm, np.:\n",
    "# - jesli produkt X wystepuje w liscie kandydatow kilkukrotnie, oblicz srednia lub iloczyn confidence\n",
    "# - posortuj kandydatow po iloczynie configence i lift\n",
    "\n",
    "def generate_advanced_candidates(basket: tuple[str], products: list[str], supports) -> list[tuple[str, tuple[str], float, float]]:\n",
    "    # return [(item, subbasket, confidence, lift)]\n",
    "    raise NotImplementedError()"
   ]
  },
  {
   "cell_type": "code",
   "execution_count": null,
   "metadata": {},
   "outputs": [],
   "source": [
    "print(baskets[1])\n",
    "generate_basic_candidates(baskets[1], products, supports)\n",
    "generate_advanced_candidates(baskets[1], products, supports)"
   ]
  },
  {
   "cell_type": "code",
   "execution_count": null,
   "metadata": {},
   "outputs": [],
   "source": [
    "print(baskets[33])\n",
    "generate_basic_candidates(baskets[33], products, supports)\n",
    "generate_advanced_candidates(baskets[33], products, supports)"
   ]
  }
 ],
 "metadata": {
  "kernelspec": {
   "display_name": "Python 3",
   "language": "python",
   "name": "python3"
  },
  "language_info": {
   "codemirror_mode": {
    "name": "ipython",
    "version": 3
   },
   "file_extension": ".py",
   "mimetype": "text/x-python",
   "name": "python",
   "nbconvert_exporter": "python",
   "pygments_lexer": "ipython3",
   "version": "3.7.3"
  }
 },
 "nbformat": 4,
 "nbformat_minor": 4
}
