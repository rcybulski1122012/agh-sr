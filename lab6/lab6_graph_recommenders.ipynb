{
 "cells": [
  {
   "cell_type": "markdown",
   "metadata": {},
   "source": [
    "# Laboratorium 6 - rekomendacje grafowe\n",
    "\n",
    "## Przygotowanie\n",
    "\n",
    " * pobierz i wypakuj dataset `movies_graph.zip`\n",
    "   * dane źródłowe: https://www.kaggle.com/datasets/rounakbanik/the-movies-dataset/data\n",
    "   * więcej o przekształceniach i filtrowaniu możesz poczytać w notebooku `movies_graph_data_preparation.ipynb`\n",
    " * [opcjonalnie] Utwórz wirtualne środowisko\n",
    " `python3 -m venv ./recsyslab6`\n",
    " * zainstaluj potrzebne biblioteki:\n",
    " `pip install pykeen torch tqdm seaborn`"
   ]
  },
  {
   "cell_type": "markdown",
   "metadata": {},
   "source": [
    "## Część 1. - przygotowanie danych"
   ]
  },
  {
   "cell_type": "code",
   "metadata": {
    "ExecuteTime": {
     "end_time": "2024-11-23T10:52:08.250550Z",
     "start_time": "2024-11-23T10:52:06.538858Z"
    }
   },
   "source": [
    "from ast import literal_eval\n",
    "import csv\n",
    "import numpy as np\n",
    "from typing import List, Dict, Tuple\n",
    "from random import shuffle\n",
    "\n",
    "import tqdm as notebook_tqdm\n",
    "import torch\n",
    "from pykeen.models import ERModel, TransE, TransR\n",
    "from pykeen.pipeline import pipeline\n",
    "from pykeen.predict import predict_target\n",
    "from pykeen.triples import TriplesFactory"
   ],
   "outputs": [],
   "execution_count": 1
  },
  {
   "cell_type": "code",
   "metadata": {
    "ExecuteTime": {
     "end_time": "2024-11-23T10:52:15.683749Z",
     "start_time": "2024-11-23T10:52:15.681912Z"
    }
   },
   "source": [
    "PATH = 'movies_graph'\n",
    "TRAIN_DATA_RATIO = 0.9"
   ],
   "outputs": [],
   "execution_count": 2
  },
  {
   "cell_type": "code",
   "metadata": {
    "ExecuteTime": {
     "end_time": "2024-11-23T10:52:16.967905Z",
     "start_time": "2024-11-23T10:52:16.963648Z"
    }
   },
   "source": [
    "# dataclasses\n",
    "\n",
    "class Movie:\n",
    "    def __init__(self,\n",
    "                 movie_id: str,\n",
    "                 title: str,\n",
    "                 genres: List[str], \n",
    "                 production_countries: List[str], \n",
    "                 collection_name: str,\n",
    "                 release_year: str):\n",
    "        self.movie_id = movie_id\n",
    "        self.title = title\n",
    "        self.genres = genres\n",
    "        self.production_countries = production_countries\n",
    "        self.collection_name = collection_name\n",
    "        self.release_year = release_year\n",
    "    \n",
    "    def add_cast(self,\n",
    "                 actors: List[str],\n",
    "                 directors: List[str],\n",
    "                 screenwriters: List[str],\n",
    "                 music_composers: List[str]):\n",
    "        self.actors = actors\n",
    "        self.directors = directors\n",
    "        self.screenwriters = screenwriters\n",
    "        self.music_composers = music_composers\n",
    "    \n",
    "    def basic_info(self):\n",
    "        return {\n",
    "            'movie_id': self.movie_id,\n",
    "            'title': self.title,\n",
    "            'genres': self.genres,\n",
    "            'production_countries': self.production_countries\n",
    "        }\n",
    "\n",
    "    def __str__(self):\n",
    "        return str(vars(self))\n",
    "    \n",
    "    def __repr__(self):\n",
    "        return self.__str__()\n",
    "\n",
    "\n",
    "class Review:\n",
    "    def __init__(self, user_id: str, movie_id: str, rating: str):\n",
    "        self.user_id = user_id\n",
    "        self.movie_id = movie_id\n",
    "        self.rating = float(rating)\n",
    "    \n",
    "    def __str__(self):\n",
    "        return str(vars(self))\n",
    "    \n",
    "    def __repr__(self):\n",
    "        return self.__str__()"
   ],
   "outputs": [],
   "execution_count": 3
  },
  {
   "cell_type": "code",
   "metadata": {
    "ExecuteTime": {
     "end_time": "2024-11-23T10:52:18.287530Z",
     "start_time": "2024-11-23T10:52:18.123447Z"
    }
   },
   "source": [
    "# wczytujemy oceny filmow\n",
    "with open('movies_graph/reviews.csv') as f:\n",
    "    reader = csv.reader(f)\n",
    "    header = next(reader)\n",
    "    ratings = []\n",
    "    for entry in list(reader):\n",
    "        user_id, movie_id, rating = entry\n",
    "        ratings.append(Review(f'u_{user_id}', f'm_{movie_id}', rating))\n",
    "\n",
    "# podzial na zbior treningowy i testowy\n",
    "shuffle(ratings)\n",
    "train_ratings = ratings[:int(len(ratings)*TRAIN_DATA_RATIO)]\n",
    "test_ratings = ratings[len(train_ratings):]\n",
    "train_ratings"
   ],
   "outputs": [
    {
     "data": {
      "text/plain": [
       "[{'user_id': 'u_232', 'movie_id': 'm_2253', 'rating': 3.0},\n",
       " {'user_id': 'u_580', 'movie_id': 'm_6874', 'rating': 3.0},\n",
       " {'user_id': 'u_41', 'movie_id': 'm_4039', 'rating': 4.0},\n",
       " {'user_id': 'u_509', 'movie_id': 'm_3307', 'rating': 5.0},\n",
       " {'user_id': 'u_310', 'movie_id': 'm_2407', 'rating': 4.0},\n",
       " {'user_id': 'u_587', 'movie_id': 'm_1189', 'rating': 3.0},\n",
       " {'user_id': 'u_617', 'movie_id': 'm_1777', 'rating': 1.0},\n",
       " {'user_id': 'u_561', 'movie_id': 'm_783', 'rating': 3.0},\n",
       " {'user_id': 'u_119', 'movie_id': 'm_736', 'rating': 2.0},\n",
       " {'user_id': 'u_480', 'movie_id': 'm_2118', 'rating': 4.0},\n",
       " {'user_id': 'u_89', 'movie_id': 'm_1019', 'rating': 3.0},\n",
       " {'user_id': 'u_567', 'movie_id': 'm_1136', 'rating': 3.0},\n",
       " {'user_id': 'u_85', 'movie_id': 'm_203', 'rating': 3.0},\n",
       " {'user_id': 'u_574', 'movie_id': 'm_4022', 'rating': 3.0},\n",
       " {'user_id': 'u_457', 'movie_id': 'm_4010', 'rating': 2.0},\n",
       " {'user_id': 'u_509', 'movie_id': 'm_518', 'rating': 2.0},\n",
       " {'user_id': 'u_625', 'movie_id': 'm_69844', 'rating': 4.0},\n",
       " {'user_id': 'u_163', 'movie_id': 'm_1882', 'rating': 1.0},\n",
       " {'user_id': 'u_30', 'movie_id': 'm_2707', 'rating': 3.0},\n",
       " {'user_id': 'u_442', 'movie_id': 'm_1917', 'rating': 3.0},\n",
       " {'user_id': 'u_212', 'movie_id': 'm_53125', 'rating': 4.0},\n",
       " {'user_id': 'u_240', 'movie_id': 'm_4361', 'rating': 4.0},\n",
       " {'user_id': 'u_93', 'movie_id': 'm_3114', 'rating': 4.0},\n",
       " {'user_id': 'u_224', 'movie_id': 'm_58', 'rating': 3.0},\n",
       " {'user_id': 'u_363', 'movie_id': 'm_1057', 'rating': 5.0},\n",
       " {'user_id': 'u_500', 'movie_id': 'm_784', 'rating': 1.0},\n",
       " {'user_id': 'u_534', 'movie_id': 'm_353', 'rating': 5.0},\n",
       " {'user_id': 'u_99', 'movie_id': 'm_838', 'rating': 4.0},\n",
       " {'user_id': 'u_72', 'movie_id': 'm_4246', 'rating': 2.0},\n",
       " {'user_id': 'u_266', 'movie_id': 'm_454', 'rating': 3.0},\n",
       " {'user_id': 'u_605', 'movie_id': 'm_258', 'rating': 2.0},\n",
       " {'user_id': 'u_165', 'movie_id': 'm_3354', 'rating': 0.0},\n",
       " {'user_id': 'u_134', 'movie_id': 'm_3052', 'rating': 4.0},\n",
       " {'user_id': 'u_670', 'movie_id': 'm_1245', 'rating': 1.0},\n",
       " {'user_id': 'u_620', 'movie_id': 'm_44022', 'rating': 0.0},\n",
       " {'user_id': 'u_246', 'movie_id': 'm_1544', 'rating': 4.0},\n",
       " {'user_id': 'u_461', 'movie_id': 'm_1608', 'rating': 1.0},\n",
       " {'user_id': 'u_481', 'movie_id': 'm_1227', 'rating': 5.0},\n",
       " {'user_id': 'u_408', 'movie_id': 'm_1537', 'rating': 5.0},\n",
       " {'user_id': 'u_213', 'movie_id': 'm_1025', 'rating': 2.0},\n",
       " {'user_id': 'u_577', 'movie_id': 'm_1073', 'rating': 4.0},\n",
       " {'user_id': 'u_358', 'movie_id': 'm_419', 'rating': 1.0},\n",
       " {'user_id': 'u_56', 'movie_id': 'm_942', 'rating': 2.0},\n",
       " {'user_id': 'u_274', 'movie_id': 'm_3471', 'rating': 2.0},\n",
       " {'user_id': 'u_479', 'movie_id': 'm_1663', 'rating': 4.0},\n",
       " {'user_id': 'u_239', 'movie_id': 'm_1010', 'rating': 3.0},\n",
       " {'user_id': 'u_439', 'movie_id': 'm_4979', 'rating': 4.0},\n",
       " {'user_id': 'u_472', 'movie_id': 'm_728', 'rating': 3.0},\n",
       " {'user_id': 'u_564', 'movie_id': 'm_2126', 'rating': 5.0},\n",
       " {'user_id': 'u_405', 'movie_id': 'm_4002', 'rating': 1.0},\n",
       " {'user_id': 'u_452', 'movie_id': 'm_5528', 'rating': 3.0},\n",
       " {'user_id': 'u_661', 'movie_id': 'm_1019', 'rating': 4.0},\n",
       " {'user_id': 'u_598', 'movie_id': 'm_161', 'rating': 4.0},\n",
       " {'user_id': 'u_402', 'movie_id': 'm_2420', 'rating': 3.0},\n",
       " {'user_id': 'u_98', 'movie_id': 'm_8360', 'rating': 5.0},\n",
       " {'user_id': 'u_562', 'movie_id': 'm_4262', 'rating': 4.0},\n",
       " {'user_id': 'u_77', 'movie_id': 'm_2600', 'rating': 4.0},\n",
       " {'user_id': 'u_564', 'movie_id': 'm_3176', 'rating': 2.0},\n",
       " {'user_id': 'u_105', 'movie_id': 'm_1580', 'rating': 4.0},\n",
       " {'user_id': 'u_312', 'movie_id': 'm_786', 'rating': 2.0},\n",
       " {'user_id': 'u_536', 'movie_id': 'm_288', 'rating': 2.0},\n",
       " {'user_id': 'u_457', 'movie_id': 'm_6711', 'rating': 4.0},\n",
       " {'user_id': 'u_19', 'movie_id': 'm_1275', 'rating': 3.0},\n",
       " {'user_id': 'u_664', 'movie_id': 'm_5349', 'rating': 4.0},\n",
       " {'user_id': 'u_236', 'movie_id': 'm_500', 'rating': 2.0},\n",
       " {'user_id': 'u_435', 'movie_id': 'm_1246', 'rating': 4.0},\n",
       " {'user_id': 'u_219', 'movie_id': 'm_597', 'rating': 3.0},\n",
       " {'user_id': 'u_570', 'movie_id': 'm_6365', 'rating': 2.0},\n",
       " {'user_id': 'u_283', 'movie_id': 'm_475', 'rating': 4.0},\n",
       " {'user_id': 'u_575', 'movie_id': 'm_948', 'rating': 3.0},\n",
       " {'user_id': 'u_607', 'movie_id': 'm_2407', 'rating': 1.0},\n",
       " {'user_id': 'u_217', 'movie_id': 'm_784', 'rating': 3.0},\n",
       " {'user_id': 'u_402', 'movie_id': 'm_2421', 'rating': 3.0},\n",
       " {'user_id': 'u_483', 'movie_id': 'm_4776', 'rating': 3.0},\n",
       " {'user_id': 'u_56', 'movie_id': 'm_1095', 'rating': 4.0},\n",
       " {'user_id': 'u_458', 'movie_id': 'm_208', 'rating': 3.0},\n",
       " {'user_id': 'u_479', 'movie_id': 'm_104', 'rating': 4.0},\n",
       " {'user_id': 'u_493', 'movie_id': 'm_945', 'rating': 3.0},\n",
       " {'user_id': 'u_73', 'movie_id': 'm_466', 'rating': 2.0},\n",
       " {'user_id': 'u_303', 'movie_id': 'm_3147', 'rating': 3.0},\n",
       " {'user_id': 'u_461', 'movie_id': 'm_2124', 'rating': 2.0},\n",
       " {'user_id': 'u_292', 'movie_id': 'm_6934', 'rating': 4.0},\n",
       " {'user_id': 'u_547', 'movie_id': 'm_2762', 'rating': 4.0},\n",
       " {'user_id': 'u_664', 'movie_id': 'm_7438', 'rating': 4.0},\n",
       " {'user_id': 'u_370', 'movie_id': 'm_527', 'rating': 4.0},\n",
       " {'user_id': 'u_355', 'movie_id': 'm_316', 'rating': 4.0},\n",
       " {'user_id': 'u_597', 'movie_id': 'm_2349', 'rating': 4.0},\n",
       " {'user_id': 'u_652', 'movie_id': 'm_119145', 'rating': 3.0},\n",
       " {'user_id': 'u_115', 'movie_id': 'm_1278', 'rating': 4.0},\n",
       " {'user_id': 'u_580', 'movie_id': 'm_2572', 'rating': 2.0},\n",
       " {'user_id': 'u_564', 'movie_id': 'm_1243', 'rating': 3.0},\n",
       " {'user_id': 'u_211', 'movie_id': 'm_1580', 'rating': 3.0},\n",
       " {'user_id': 'u_428', 'movie_id': 'm_4896', 'rating': 3.0},\n",
       " {'user_id': 'u_428', 'movie_id': 'm_4886', 'rating': 4.0},\n",
       " {'user_id': 'u_165', 'movie_id': 'm_6936', 'rating': 2.0},\n",
       " {'user_id': 'u_587', 'movie_id': 'm_1073', 'rating': 3.0},\n",
       " {'user_id': 'u_263', 'movie_id': 'm_1305', 'rating': 3.0},\n",
       " {'user_id': 'u_26', 'movie_id': 'm_608', 'rating': 3.0},\n",
       " {'user_id': 'u_475', 'movie_id': 'm_6541', 'rating': 1.0},\n",
       " {'user_id': 'u_291', 'movie_id': 'm_7386', 'rating': 5.0},\n",
       " {'user_id': 'u_218', 'movie_id': 'm_318', 'rating': 4.0},\n",
       " {'user_id': 'u_607', 'movie_id': 'm_586', 'rating': 2.0},\n",
       " {'user_id': 'u_244', 'movie_id': 'm_2011', 'rating': 5.0},\n",
       " {'user_id': 'u_221', 'movie_id': 'm_832', 'rating': 3.0},\n",
       " {'user_id': 'u_440', 'movie_id': 'm_356', 'rating': 4.0},\n",
       " {'user_id': 'u_457', 'movie_id': 'm_743', 'rating': 1.0},\n",
       " {'user_id': 'u_131', 'movie_id': 'm_306', 'rating': 5.0},\n",
       " {'user_id': 'u_394', 'movie_id': 'm_1449', 'rating': 4.0},\n",
       " {'user_id': 'u_620', 'movie_id': 'm_3785', 'rating': 1.0},\n",
       " {'user_id': 'u_528', 'movie_id': 'm_2966', 'rating': 3.0},\n",
       " {'user_id': 'u_79', 'movie_id': 'm_2918', 'rating': 3.0},\n",
       " {'user_id': 'u_115', 'movie_id': 'm_3578', 'rating': 4.0},\n",
       " {'user_id': 'u_487', 'movie_id': 'm_421', 'rating': 4.0},\n",
       " {'user_id': 'u_648', 'movie_id': 'm_7438', 'rating': 3.0},\n",
       " {'user_id': 'u_587', 'movie_id': 'm_5995', 'rating': 4.0},\n",
       " {'user_id': 'u_496', 'movie_id': 'm_160', 'rating': 3.0},\n",
       " {'user_id': 'u_313', 'movie_id': 'm_1923', 'rating': 4.0},\n",
       " {'user_id': 'u_236', 'movie_id': 'm_2028', 'rating': 3.0},\n",
       " {'user_id': 'u_97', 'movie_id': 'm_3471', 'rating': 3.0},\n",
       " {'user_id': 'u_103', 'movie_id': 'm_3578', 'rating': 4.0},\n",
       " {'user_id': 'u_159', 'movie_id': 'm_260', 'rating': 5.0},\n",
       " {'user_id': 'u_427', 'movie_id': 'm_8966', 'rating': 3.0},\n",
       " {'user_id': 'u_242', 'movie_id': 'm_3471', 'rating': 5.0},\n",
       " {'user_id': 'u_596', 'movie_id': 'm_5507', 'rating': 1.0},\n",
       " {'user_id': 'u_33', 'movie_id': 'm_344', 'rating': 4.0},\n",
       " {'user_id': 'u_452', 'movie_id': 'm_2125', 'rating': 3.0},\n",
       " {'user_id': 'u_509', 'movie_id': 'm_2973', 'rating': 4.0},\n",
       " {'user_id': 'u_53', 'movie_id': 'm_421', 'rating': 1.0},\n",
       " {'user_id': 'u_34', 'movie_id': 'm_1952', 'rating': 2.0},\n",
       " {'user_id': 'u_598', 'movie_id': 'm_2861', 'rating': 3.0},\n",
       " {'user_id': 'u_262', 'movie_id': 'm_72226', 'rating': 4.0},\n",
       " {'user_id': 'u_651', 'movie_id': 'm_2416', 'rating': 4.0},\n",
       " {'user_id': 'u_655', 'movie_id': 'm_750', 'rating': 5.0},\n",
       " {'user_id': 'u_250', 'movie_id': 'm_64969', 'rating': 4.0},\n",
       " {'user_id': 'u_53', 'movie_id': 'm_2433', 'rating': 5.0},\n",
       " {'user_id': 'u_311', 'movie_id': 'm_100', 'rating': 3.0},\n",
       " {'user_id': 'u_552', 'movie_id': 'm_357', 'rating': 3.0},\n",
       " {'user_id': 'u_423', 'movie_id': 'm_8622', 'rating': 4.0},\n",
       " {'user_id': 'u_522', 'movie_id': 'm_2378', 'rating': 3.0},\n",
       " {'user_id': 'u_380', 'movie_id': 'm_68954', 'rating': 4.0},\n",
       " {'user_id': 'u_607', 'movie_id': 'm_780', 'rating': 3.0},\n",
       " {'user_id': 'u_388', 'movie_id': 'm_7153', 'rating': 4.0},\n",
       " {'user_id': 'u_200', 'movie_id': 'm_6281', 'rating': 4.0},\n",
       " {'user_id': 'u_564', 'movie_id': 'm_2953', 'rating': 1.0},\n",
       " {'user_id': 'u_475', 'movie_id': 'm_4886', 'rating': 3.0},\n",
       " {'user_id': 'u_548', 'movie_id': 'm_440', 'rating': 4.0},\n",
       " {'user_id': 'u_120', 'movie_id': 'm_4085', 'rating': 4.0},\n",
       " {'user_id': 'u_564', 'movie_id': 'm_3699', 'rating': 3.0},\n",
       " {'user_id': 'u_416', 'movie_id': 'm_377', 'rating': 3.0},\n",
       " {'user_id': 'u_572', 'movie_id': 'm_7162', 'rating': 3.0},\n",
       " {'user_id': 'u_332', 'movie_id': 'm_7022', 'rating': 5.0},\n",
       " {'user_id': 'u_602', 'movie_id': 'm_471', 'rating': 3.0},\n",
       " {'user_id': 'u_615', 'movie_id': 'm_54503', 'rating': 3.0},\n",
       " {'user_id': 'u_295', 'movie_id': 'm_8360', 'rating': 4.0},\n",
       " {'user_id': 'u_292', 'movie_id': 'm_2804', 'rating': 5.0},\n",
       " {'user_id': 'u_457', 'movie_id': 'm_8873', 'rating': 3.0},\n",
       " {'user_id': 'u_615', 'movie_id': 'm_8371', 'rating': 3.0},\n",
       " {'user_id': 'u_19', 'movie_id': 'm_1019', 'rating': 4.0},\n",
       " {'user_id': 'u_268', 'movie_id': 'm_5445', 'rating': 4.0},\n",
       " {'user_id': 'u_67', 'movie_id': 'm_515', 'rating': 5.0},\n",
       " {'user_id': 'u_654', 'movie_id': 'm_653', 'rating': 3.0},\n",
       " {'user_id': 'u_380', 'movie_id': 'm_4322', 'rating': 4.0},\n",
       " {'user_id': 'u_330', 'movie_id': 'm_3256', 'rating': 3.0},\n",
       " {'user_id': 'u_380', 'movie_id': 'm_1810', 'rating': 3.0},\n",
       " {'user_id': 'u_57', 'movie_id': 'm_1234', 'rating': 5.0},\n",
       " {'user_id': 'u_580', 'movie_id': 'm_2826', 'rating': 3.0},\n",
       " {'user_id': 'u_431', 'movie_id': 'm_6953', 'rating': 4.0},\n",
       " {'user_id': 'u_562', 'movie_id': 'm_2916', 'rating': 4.0},\n",
       " {'user_id': 'u_664', 'movie_id': 'm_4848', 'rating': 3.0},\n",
       " {'user_id': 'u_507', 'movie_id': 'm_1210', 'rating': 5.0},\n",
       " {'user_id': 'u_466', 'movie_id': 'm_2916', 'rating': 3.0},\n",
       " {'user_id': 'u_361', 'movie_id': 'm_135', 'rating': 3.0},\n",
       " {'user_id': 'u_19', 'movie_id': 'm_1221', 'rating': 5.0},\n",
       " {'user_id': 'u_522', 'movie_id': 'm_68157', 'rating': 4.0},\n",
       " {'user_id': 'u_625', 'movie_id': 'm_109487', 'rating': 5.0},\n",
       " {'user_id': 'u_111', 'movie_id': 'm_5013', 'rating': 4.0},\n",
       " {'user_id': 'u_220', 'movie_id': 'm_1300', 'rating': 5.0},\n",
       " {'user_id': 'u_384', 'movie_id': 'm_52722', 'rating': 4.0},\n",
       " {'user_id': 'u_521', 'movie_id': 'm_2324', 'rating': 4.0},\n",
       " {'user_id': 'u_539', 'movie_id': 'm_318', 'rating': 4.0},\n",
       " {'user_id': 'u_623', 'movie_id': 'm_48385', 'rating': 4.0},\n",
       " {'user_id': 'u_75', 'movie_id': 'm_923', 'rating': 4.0},\n",
       " {'user_id': 'u_596', 'movie_id': 'm_4369', 'rating': 3.0},\n",
       " {'user_id': 'u_82', 'movie_id': 'm_457', 'rating': 3.0},\n",
       " {'user_id': 'u_78', 'movie_id': 'm_648', 'rating': 5.0},\n",
       " {'user_id': 'u_327', 'movie_id': 'm_6373', 'rating': 2.0},\n",
       " {'user_id': 'u_649', 'movie_id': 'm_531', 'rating': 4.0},\n",
       " {'user_id': 'u_273', 'movie_id': 'm_40815', 'rating': 4.0},\n",
       " {'user_id': 'u_165', 'movie_id': 'm_7090', 'rating': 3.0},\n",
       " {'user_id': 'u_26', 'movie_id': 'm_60684', 'rating': 5.0},\n",
       " {'user_id': 'u_93', 'movie_id': 'm_539', 'rating': 4.0},\n",
       " {'user_id': 'u_452', 'movie_id': 'm_2987', 'rating': 3.0},\n",
       " {'user_id': 'u_596', 'movie_id': 'm_223', 'rating': 4.0},\n",
       " {'user_id': 'u_427', 'movie_id': 'm_2829', 'rating': 4.0},\n",
       " {'user_id': 'u_584', 'movie_id': 'm_2858', 'rating': 3.0},\n",
       " {'user_id': 'u_519', 'movie_id': 'm_1278', 'rating': 4.0},\n",
       " {'user_id': 'u_308', 'movie_id': 'm_1387', 'rating': 3.0},\n",
       " {'user_id': 'u_56', 'movie_id': 'm_4881', 'rating': 2.0},\n",
       " {'user_id': 'u_522', 'movie_id': 'm_1198', 'rating': 4.0},\n",
       " {'user_id': 'u_230', 'movie_id': 'm_356', 'rating': 5.0},\n",
       " {'user_id': 'u_388', 'movie_id': 'm_2411', 'rating': 3.0},\n",
       " {'user_id': 'u_574', 'movie_id': 'm_6373', 'rating': 3.0},\n",
       " {'user_id': 'u_568', 'movie_id': 'm_318', 'rating': 5.0},\n",
       " {'user_id': 'u_483', 'movie_id': 'm_88140', 'rating': 5.0},\n",
       " {'user_id': 'u_547', 'movie_id': 'm_1278', 'rating': 5.0},\n",
       " {'user_id': 'u_176', 'movie_id': 'm_1921', 'rating': 3.0},\n",
       " {'user_id': 'u_217', 'movie_id': 'm_457', 'rating': 4.0},\n",
       " {'user_id': 'u_251', 'movie_id': 'm_72998', 'rating': 3.0},\n",
       " {'user_id': 'u_615', 'movie_id': 'm_4878', 'rating': 3.0},\n",
       " {'user_id': 'u_15', 'movie_id': 'm_63082', 'rating': 0.0},\n",
       " {'user_id': 'u_577', 'movie_id': 'm_1090', 'rating': 3.0},\n",
       " {'user_id': 'u_344', 'movie_id': 'm_1094', 'rating': 3.0},\n",
       " {'user_id': 'u_575', 'movie_id': 'm_947', 'rating': 3.0},\n",
       " {'user_id': 'u_232', 'movie_id': 'm_1250', 'rating': 4.0},\n",
       " {'user_id': 'u_349', 'movie_id': 'm_4299', 'rating': 5.0},\n",
       " {'user_id': 'u_603', 'movie_id': 'm_1291', 'rating': 4.0},\n",
       " {'user_id': 'u_245', 'movie_id': 'm_50', 'rating': 4.0},\n",
       " {'user_id': 'u_252', 'movie_id': 'm_32', 'rating': 4.0},\n",
       " {'user_id': 'u_313', 'movie_id': 'm_135', 'rating': 4.0},\n",
       " {'user_id': 'u_161', 'movie_id': 'm_181', 'rating': 3.0},\n",
       " {'user_id': 'u_603', 'movie_id': 'm_32', 'rating': 5.0},\n",
       " {'user_id': 'u_626', 'movie_id': 'm_2485', 'rating': 4.0},\n",
       " {'user_id': 'u_457', 'movie_id': 'm_122886', 'rating': 0.0},\n",
       " {'user_id': 'u_41', 'movie_id': 'm_748', 'rating': 3.0},\n",
       " {'user_id': 'u_30', 'movie_id': 'm_419', 'rating': 2.0},\n",
       " {'user_id': 'u_195', 'movie_id': 'm_1084', 'rating': 4.0},\n",
       " {'user_id': 'u_358', 'movie_id': 'm_3019', 'rating': 4.0},\n",
       " {'user_id': 'u_472', 'movie_id': 'm_5377', 'rating': 3.0},\n",
       " {'user_id': 'u_390', 'movie_id': 'm_349', 'rating': 3.0},\n",
       " {'user_id': 'u_516', 'movie_id': 'm_1100', 'rating': 3.0},\n",
       " {'user_id': 'u_152', 'movie_id': 'm_3354', 'rating': 4.0},\n",
       " {'user_id': 'u_500', 'movie_id': 'm_5810', 'rating': 3.0},\n",
       " {'user_id': 'u_480', 'movie_id': 'm_3256', 'rating': 4.0},\n",
       " {'user_id': 'u_120', 'movie_id': 'm_5049', 'rating': 3.0},\n",
       " {'user_id': 'u_541', 'movie_id': 'm_3578', 'rating': 3.0},\n",
       " {'user_id': 'u_564', 'movie_id': 'm_2428', 'rating': 3.0},\n",
       " {'user_id': 'u_457', 'movie_id': 'm_904', 'rating': 4.0},\n",
       " {'user_id': 'u_168', 'movie_id': 'm_32', 'rating': 3.0},\n",
       " {'user_id': 'u_466', 'movie_id': 'm_2529', 'rating': 5.0},\n",
       " {'user_id': 'u_92', 'movie_id': 'm_349', 'rating': 3.0},\n",
       " {'user_id': 'u_494', 'movie_id': 'm_593', 'rating': 4.0},\n",
       " {'user_id': 'u_320', 'movie_id': 'm_4226', 'rating': 4.0},\n",
       " {'user_id': 'u_299', 'movie_id': 'm_31410', 'rating': 4.0},\n",
       " {'user_id': 'u_416', 'movie_id': 'm_300', 'rating': 3.0},\n",
       " {'user_id': 'u_102', 'movie_id': 'm_2138', 'rating': 4.0},\n",
       " {'user_id': 'u_646', 'movie_id': 'm_2987', 'rating': 4.0},\n",
       " {'user_id': 'u_299', 'movie_id': 'm_16', 'rating': 4.0},\n",
       " {'user_id': 'u_177', 'movie_id': 'm_32', 'rating': 4.0},\n",
       " {'user_id': 'u_303', 'movie_id': 'm_2028', 'rating': 3.0},\n",
       " {'user_id': 'u_77', 'movie_id': 'm_1387', 'rating': 3.0},\n",
       " {'user_id': 'u_86', 'movie_id': 'm_708', 'rating': 3.0},\n",
       " {'user_id': 'u_21', 'movie_id': 'm_1275', 'rating': 2.0},\n",
       " {'user_id': 'u_564', 'movie_id': 'm_1676', 'rating': 1.0},\n",
       " {'user_id': 'u_664', 'movie_id': 'm_36517', 'rating': 2.0},\n",
       " {'user_id': 'u_102', 'movie_id': 'm_3451', 'rating': 5.0},\n",
       " {'user_id': 'u_598', 'movie_id': 'm_1127', 'rating': 4.0},\n",
       " {'user_id': 'u_232', 'movie_id': 'm_1210', 'rating': 4.0},\n",
       " {'user_id': 'u_564', 'movie_id': 'm_2138', 'rating': 5.0},\n",
       " {'user_id': 'u_380', 'movie_id': 'm_7502', 'rating': 5.0},\n",
       " {'user_id': 'u_481', 'movie_id': 'm_4308', 'rating': 3.0},\n",
       " {'user_id': 'u_384', 'movie_id': 'm_5903', 'rating': 4.0},\n",
       " {'user_id': 'u_84', 'movie_id': 'm_58803', 'rating': 4.0},\n",
       " {'user_id': 'u_605', 'movie_id': 'm_986', 'rating': 4.0},\n",
       " {'user_id': 'u_185', 'movie_id': 'm_1225', 'rating': 4.0},\n",
       " {'user_id': 'u_431', 'movie_id': 'm_337', 'rating': 5.0},\n",
       " {'user_id': 'u_175', 'movie_id': 'm_2125', 'rating': 4.0},\n",
       " {'user_id': 'u_481', 'movie_id': 'm_54503', 'rating': 4.0},\n",
       " {'user_id': 'u_73', 'movie_id': 'm_6365', 'rating': 2.0},\n",
       " {'user_id': 'u_195', 'movie_id': 'm_110', 'rating': 3.0},\n",
       " {'user_id': 'u_522', 'movie_id': 'm_6947', 'rating': 2.0},\n",
       " {'user_id': 'u_594', 'movie_id': 'm_2081', 'rating': 3.0},\n",
       " {'user_id': 'u_433', 'movie_id': 'm_69757', 'rating': 4.0},\n",
       " {'user_id': 'u_384', 'movie_id': 'm_110', 'rating': 4.0},\n",
       " {'user_id': 'u_214', 'movie_id': 'm_608', 'rating': 5.0},\n",
       " {'user_id': 'u_598', 'movie_id': 'm_3081', 'rating': 4.0},\n",
       " {'user_id': 'u_358', 'movie_id': 'm_21', 'rating': 4.0},\n",
       " {'user_id': 'u_73', 'movie_id': 'm_1760', 'rating': 0.0},\n",
       " {'user_id': 'u_101', 'movie_id': 'm_70286', 'rating': 4.0},\n",
       " {'user_id': 'u_494', 'movie_id': 'm_1276', 'rating': 5.0},\n",
       " {'user_id': 'u_461', 'movie_id': 'm_2640', 'rating': 4.0},\n",
       " {'user_id': 'u_4', 'movie_id': 'm_2454', 'rating': 5.0},\n",
       " {'user_id': 'u_152', 'movie_id': 'm_68157', 'rating': 3.0},\n",
       " {'user_id': 'u_536', 'movie_id': 'm_592', 'rating': 3.0},\n",
       " {'user_id': 'u_468', 'movie_id': 'm_4878', 'rating': 3.0},\n",
       " {'user_id': 'u_153', 'movie_id': 'm_34', 'rating': 4.0},\n",
       " {'user_id': 'u_665', 'movie_id': 'm_3034', 'rating': 5.0},\n",
       " {'user_id': 'u_564', 'movie_id': 'm_1012', 'rating': 5.0},\n",
       " {'user_id': 'u_88', 'movie_id': 'm_1028', 'rating': 3.0},\n",
       " {'user_id': 'u_4', 'movie_id': 'm_1967', 'rating': 3.0},\n",
       " {'user_id': 'u_152', 'movie_id': 'm_72998', 'rating': 4.0},\n",
       " {'user_id': 'u_476', 'movie_id': 'm_2710', 'rating': 3.0},\n",
       " {'user_id': 'u_239', 'movie_id': 'm_3146', 'rating': 3.0},\n",
       " {'user_id': 'u_382', 'movie_id': 'm_7153', 'rating': 4.0},\n",
       " {'user_id': 'u_212', 'movie_id': 'm_7139', 'rating': 5.0},\n",
       " {'user_id': 'u_462', 'movie_id': 'm_2858', 'rating': 5.0},\n",
       " {'user_id': 'u_522', 'movie_id': 'm_231', 'rating': 3.0},\n",
       " {'user_id': 'u_279', 'movie_id': 'm_292', 'rating': 5.0},\n",
       " {'user_id': 'u_19', 'movie_id': 'm_805', 'rating': 3.0},\n",
       " {'user_id': 'u_195', 'movie_id': 'm_379', 'rating': 2.0},\n",
       " {'user_id': 'u_128', 'movie_id': 'm_4865', 'rating': 2.0},\n",
       " {'user_id': 'u_230', 'movie_id': 'm_2762', 'rating': 3.0},\n",
       " {'user_id': 'u_353', 'movie_id': 'm_2826', 'rating': 3.0},\n",
       " {'user_id': 'u_362', 'movie_id': 'm_8376', 'rating': 3.0},\n",
       " {'user_id': 'u_390', 'movie_id': 'm_858', 'rating': 5.0},\n",
       " {'user_id': 'u_430', 'movie_id': 'm_6333', 'rating': 4.0},\n",
       " {'user_id': 'u_624', 'movie_id': 'm_3254', 'rating': 4.0},\n",
       " {'user_id': 'u_81', 'movie_id': 'm_1339', 'rating': 1.0},\n",
       " {'user_id': 'u_294', 'movie_id': 'm_225', 'rating': 3.0},\n",
       " {'user_id': 'u_483', 'movie_id': 'm_1732', 'rating': 5.0},\n",
       " {'user_id': 'u_258', 'movie_id': 'm_3478', 'rating': 3.0},\n",
       " {'user_id': 'u_605', 'movie_id': 'm_900', 'rating': 4.0},\n",
       " {'user_id': 'u_73', 'movie_id': 'm_2657', 'rating': 2.0},\n",
       " {'user_id': 'u_418', 'movie_id': 'm_590', 'rating': 3.0},\n",
       " {'user_id': 'u_647', 'movie_id': 'm_1912', 'rating': 5.0},\n",
       " {'user_id': 'u_201', 'movie_id': 'm_6539', 'rating': 4.0},\n",
       " {'user_id': 'u_560', 'movie_id': 'm_2990', 'rating': 4.0},\n",
       " {'user_id': 'u_115', 'movie_id': 'm_1148', 'rating': 4.0},\n",
       " {'user_id': 'u_197', 'movie_id': 'm_3479', 'rating': 4.0},\n",
       " {'user_id': 'u_284', 'movie_id': 'm_12', 'rating': 1.0},\n",
       " {'user_id': 'u_649', 'movie_id': 'm_58', 'rating': 4.0},\n",
       " {'user_id': 'u_412', 'movie_id': 'm_3052', 'rating': 4.0},\n",
       " {'user_id': 'u_348', 'movie_id': 'm_1251', 'rating': 1.0},\n",
       " {'user_id': 'u_461', 'movie_id': 'm_2908', 'rating': 2.0},\n",
       " {'user_id': 'u_72', 'movie_id': 'm_110', 'rating': 3.0},\n",
       " {'user_id': 'u_594', 'movie_id': 'm_1147', 'rating': 5.0},\n",
       " {'user_id': 'u_91', 'movie_id': 'm_91500', 'rating': 3.0},\n",
       " {'user_id': 'u_475', 'movie_id': 'm_2959', 'rating': 5.0},\n",
       " {'user_id': 'u_483', 'movie_id': 'm_1580', 'rating': 3.0},\n",
       " {'user_id': 'u_250', 'movie_id': 'm_31696', 'rating': 4.0},\n",
       " {'user_id': 'u_461', 'movie_id': 'm_2144', 'rating': 4.0},\n",
       " {'user_id': 'u_185', 'movie_id': 'm_4306', 'rating': 4.0},\n",
       " {'user_id': 'u_75', 'movie_id': 'm_39446', 'rating': 4.0},\n",
       " {'user_id': 'u_654', 'movie_id': 'm_8949', 'rating': 3.0},\n",
       " {'user_id': 'u_130', 'movie_id': 'm_1566', 'rating': 2.0},\n",
       " {'user_id': 'u_75', 'movie_id': 'm_858', 'rating': 1.0},\n",
       " {'user_id': 'u_575', 'movie_id': 'm_1237', 'rating': 4.0},\n",
       " {'user_id': 'u_481', 'movie_id': 'm_8529', 'rating': 3.0},\n",
       " {'user_id': 'u_232', 'movie_id': 'm_1073', 'rating': 3.0},\n",
       " {'user_id': 'u_529', 'movie_id': 'm_2208', 'rating': 4.0},\n",
       " {'user_id': 'u_598', 'movie_id': 'm_2863', 'rating': 5.0},\n",
       " {'user_id': 'u_193', 'movie_id': 'm_105', 'rating': 4.0},\n",
       " {'user_id': 'u_105', 'movie_id': 'm_357', 'rating': 4.0},\n",
       " {'user_id': 'u_388', 'movie_id': 'm_6874', 'rating': 4.0},\n",
       " {'user_id': 'u_602', 'movie_id': 'm_356', 'rating': 4.0},\n",
       " {'user_id': 'u_283', 'movie_id': 'm_8966', 'rating': 4.0},\n",
       " {'user_id': 'u_162', 'movie_id': 'm_1393', 'rating': 5.0},\n",
       " {'user_id': 'u_429', 'movie_id': 'm_1644', 'rating': 0.0},\n",
       " {'user_id': 'u_15', 'movie_id': 'm_34162', 'rating': 1.0},\n",
       " {'user_id': 'u_412', 'movie_id': 'm_2428', 'rating': 1.0},\n",
       " {'user_id': 'u_384', 'movie_id': 'm_4447', 'rating': 3.0},\n",
       " {'user_id': 'u_283', 'movie_id': 'm_2324', 'rating': 5.0},\n",
       " {'user_id': 'u_497', 'movie_id': 'm_2973', 'rating': 5.0},\n",
       " {'user_id': 'u_173', 'movie_id': 'm_605', 'rating': 5.0},\n",
       " {'user_id': 'u_238', 'movie_id': 'm_106782', 'rating': 4.0},\n",
       " {'user_id': 'u_265', 'movie_id': 'm_1094', 'rating': 3.0},\n",
       " {'user_id': 'u_294', 'movie_id': 'm_2355', 'rating': 4.0},\n",
       " {'user_id': 'u_23', 'movie_id': 'm_3504', 'rating': 3.0},\n",
       " {'user_id': 'u_646', 'movie_id': 'm_2640', 'rating': 3.0},\n",
       " {'user_id': 'u_631', 'movie_id': 'm_1586', 'rating': 3.0},\n",
       " {'user_id': 'u_232', 'movie_id': 'm_1721', 'rating': 4.0},\n",
       " {'user_id': 'u_615', 'movie_id': 'm_5418', 'rating': 4.0},\n",
       " {'user_id': 'u_660', 'movie_id': 'm_1198', 'rating': 4.0},\n",
       " {'user_id': 'u_327', 'movie_id': 'm_4018', 'rating': 3.0},\n",
       " {'user_id': 'u_654', 'movie_id': 'm_3671', 'rating': 4.0},\n",
       " {'user_id': 'u_373', 'movie_id': 'm_318', 'rating': 5.0},\n",
       " {'user_id': 'u_655', 'movie_id': 'm_2918', 'rating': 5.0},\n",
       " {'user_id': 'u_286', 'movie_id': 'm_2124', 'rating': 2.0},\n",
       " {'user_id': 'u_474', 'movie_id': 'm_2150', 'rating': 1.0},\n",
       " {'user_id': 'u_416', 'movie_id': 'm_329', 'rating': 3.0},\n",
       " {'user_id': 'u_384', 'movie_id': 'm_1527', 'rating': 3.0},\n",
       " {'user_id': 'u_93', 'movie_id': 'm_6377', 'rating': 3.0},\n",
       " {'user_id': 'u_271', 'movie_id': 'm_50', 'rating': 3.0},\n",
       " {'user_id': 'u_61', 'movie_id': 'm_3114', 'rating': 1.0},\n",
       " {'user_id': 'u_659', 'movie_id': 'm_160', 'rating': 2.0},\n",
       " {'user_id': 'u_653', 'movie_id': 'm_986', 'rating': 4.0},\n",
       " {'user_id': 'u_292', 'movie_id': 'm_1196', 'rating': 4.0},\n",
       " {'user_id': 'u_514', 'movie_id': 'm_357', 'rating': 4.0},\n",
       " {'user_id': 'u_562', 'movie_id': 'm_2890', 'rating': 4.0},\n",
       " {'user_id': 'u_240', 'movie_id': 'm_1719', 'rating': 4.0},\n",
       " {'user_id': 'u_468', 'movie_id': 'm_53322', 'rating': 2.0},\n",
       " {'user_id': 'u_603', 'movie_id': 'm_1265', 'rating': 3.0},\n",
       " {'user_id': 'u_452', 'movie_id': 'm_1573', 'rating': 3.0},\n",
       " {'user_id': 'u_509', 'movie_id': 'm_586', 'rating': 3.0},\n",
       " {'user_id': 'u_597', 'movie_id': 'm_1644', 'rating': 3.0},\n",
       " {'user_id': 'u_564', 'movie_id': 'm_2012', 'rating': 3.0},\n",
       " {'user_id': 'u_642', 'movie_id': 'm_899', 'rating': 5.0},\n",
       " {'user_id': 'u_518', 'movie_id': 'm_1234', 'rating': 3.0},\n",
       " {'user_id': 'u_130', 'movie_id': 'm_2797', 'rating': 3.0},\n",
       " {'user_id': 'u_463', 'movie_id': 'm_5816', 'rating': 4.0},\n",
       " {'user_id': 'u_77', 'movie_id': 'm_76', 'rating': 3.0},\n",
       " {'user_id': 'u_268', 'movie_id': 'm_906', 'rating': 4.0},\n",
       " {'user_id': 'u_608', 'movie_id': 'm_2763', 'rating': 3.0},\n",
       " {'user_id': 'u_242', 'movie_id': 'm_2863', 'rating': 5.0},\n",
       " {'user_id': 'u_85', 'movie_id': 'm_216', 'rating': 3.0},\n",
       " {'user_id': 'u_388', 'movie_id': 'm_2966', 'rating': 5.0},\n",
       " {'user_id': 'u_139', 'movie_id': 'm_3471', 'rating': 4.0},\n",
       " {'user_id': 'u_505', 'movie_id': 'm_2194', 'rating': 3.0},\n",
       " {'user_id': 'u_119', 'movie_id': 'm_2420', 'rating': 3.0},\n",
       " {'user_id': 'u_33', 'movie_id': 'm_5673', 'rating': 5.0},\n",
       " {'user_id': 'u_364', 'movie_id': 'm_3948', 'rating': 0.0},\n",
       " {'user_id': 'u_654', 'movie_id': 'm_474', 'rating': 4.0},\n",
       " {'user_id': 'u_564', 'movie_id': 'm_2014', 'rating': 4.0},\n",
       " {'user_id': 'u_582', 'movie_id': 'm_4308', 'rating': 5.0},\n",
       " {'user_id': 'u_386', 'movie_id': 'm_3130', 'rating': 2.0},\n",
       " {'user_id': 'u_457', 'movie_id': 'm_1370', 'rating': 2.0},\n",
       " {'user_id': 'u_463', 'movie_id': 'm_1617', 'rating': 4.0},\n",
       " {'user_id': 'u_346', 'movie_id': 'm_5444', 'rating': 4.0},\n",
       " {'user_id': 'u_388', 'movie_id': 'm_1226', 'rating': 3.0},\n",
       " {'user_id': 'u_471', 'movie_id': 'm_2124', 'rating': 3.0},\n",
       " {'user_id': 'u_647', 'movie_id': 'm_229', 'rating': 5.0},\n",
       " {'user_id': 'u_202', 'movie_id': 'm_2683', 'rating': 3.0},\n",
       " {'user_id': 'u_623', 'movie_id': 'm_57669', 'rating': 5.0},\n",
       " {'user_id': 'u_206', 'movie_id': 'm_1081', 'rating': 2.0},\n",
       " {'user_id': 'u_4', 'movie_id': 'm_2114', 'rating': 5.0},\n",
       " {'user_id': 'u_165', 'movie_id': 'm_8783', 'rating': 1.0},\n",
       " {'user_id': 'u_134', 'movie_id': 'm_2791', 'rating': 4.0},\n",
       " {'user_id': 'u_537', 'movie_id': 'm_475', 'rating': 5.0},\n",
       " {'user_id': 'u_463', 'movie_id': 'm_4979', 'rating': 3.0},\n",
       " {'user_id': 'u_111', 'movie_id': 'm_32', 'rating': 3.0},\n",
       " {'user_id': 'u_452', 'movie_id': 'm_2944', 'rating': 3.0},\n",
       " {'user_id': 'u_338', 'movie_id': 'm_344', 'rating': 3.0},\n",
       " {'user_id': 'u_652', 'movie_id': 'm_5377', 'rating': 5.0},\n",
       " {'user_id': 'u_519', 'movie_id': 'm_1954', 'rating': 5.0},\n",
       " {'user_id': 'u_620', 'movie_id': 'm_59784', 'rating': 4.0},\n",
       " {'user_id': 'u_30', 'movie_id': 'm_555', 'rating': 5.0},\n",
       " {'user_id': 'u_592', 'movie_id': 'm_3271', 'rating': 3.0},\n",
       " {'user_id': 'u_311', 'movie_id': 'm_948', 'rating': 3.0},\n",
       " {'user_id': 'u_472', 'movie_id': 'm_589', 'rating': 2.0},\n",
       " {'user_id': 'u_384', 'movie_id': 'm_4816', 'rating': 5.0},\n",
       " {'user_id': 'u_575', 'movie_id': 'm_592', 'rating': 3.0},\n",
       " {'user_id': 'u_102', 'movie_id': 'm_25', 'rating': 4.0},\n",
       " {'user_id': 'u_452', 'movie_id': 'm_2505', 'rating': 1.0},\n",
       " {'user_id': 'u_500', 'movie_id': 'm_48394', 'rating': 3.0},\n",
       " {'user_id': 'u_525', 'movie_id': 'm_1', 'rating': 2.0},\n",
       " {'user_id': 'u_123', 'movie_id': 'm_3203', 'rating': 5.0},\n",
       " {'user_id': 'u_15', 'movie_id': 'm_54503', 'rating': 3.0},\n",
       " {'user_id': 'u_423', 'movie_id': 'm_1261', 'rating': 4.0},\n",
       " {'user_id': 'u_358', 'movie_id': 'm_1620', 'rating': 3.0},\n",
       " {'user_id': 'u_110', 'movie_id': 'm_207', 'rating': 5.0},\n",
       " {'user_id': 'u_455', 'movie_id': 'm_673', 'rating': 2.0},\n",
       " {'user_id': 'u_320', 'movie_id': 'm_68358', 'rating': 4.0},\n",
       " {'user_id': 'u_73', 'movie_id': 'm_15', 'rating': 2.0},\n",
       " {'user_id': 'u_73', 'movie_id': 'm_72226', 'rating': 4.0},\n",
       " {'user_id': 'u_234', 'movie_id': 'm_1704', 'rating': 5.0},\n",
       " {'user_id': 'u_306', 'movie_id': 'm_1590', 'rating': 2.0},\n",
       " {'user_id': 'u_110', 'movie_id': 'm_19', 'rating': 4.0},\n",
       " {'user_id': 'u_212', 'movie_id': 'm_3617', 'rating': 1.0},\n",
       " {'user_id': 'u_287', 'movie_id': 'm_2761', 'rating': 5.0},\n",
       " {'user_id': 'u_15', 'movie_id': 'm_2686', 'rating': 3.0},\n",
       " {'user_id': 'u_295', 'movie_id': 'm_6218', 'rating': 3.0},\n",
       " {'user_id': 'u_32', 'movie_id': 'm_589', 'rating': 5.0},\n",
       " {'user_id': 'u_293', 'movie_id': 'm_3479', 'rating': 2.0},\n",
       " {'user_id': 'u_509', 'movie_id': 'm_3699', 'rating': 3.0},\n",
       " {'user_id': 'u_486', 'movie_id': 'm_73017', 'rating': 4.0},\n",
       " {'user_id': 'u_461', 'movie_id': 'm_5103', 'rating': 3.0},\n",
       " {'user_id': 'u_110', 'movie_id': 'm_480', 'rating': 5.0},\n",
       " {'user_id': 'u_173', 'movie_id': 'm_1210', 'rating': 4.0},\n",
       " {'user_id': 'u_95', 'movie_id': 'm_3298', 'rating': 4.0},\n",
       " {'user_id': 'u_224', 'movie_id': 'm_151', 'rating': 4.0},\n",
       " {'user_id': 'u_104', 'movie_id': 'm_92259', 'rating': 4.0},\n",
       " {'user_id': 'u_408', 'movie_id': 'm_904', 'rating': 4.0},\n",
       " {'user_id': 'u_185', 'movie_id': 'm_4016', 'rating': 3.0},\n",
       " {'user_id': 'u_358', 'movie_id': 'm_2133', 'rating': 1.0},\n",
       " {'user_id': 'u_575', 'movie_id': 'm_3247', 'rating': 2.0},\n",
       " {'user_id': 'u_165', 'movie_id': 'm_1265', 'rating': 4.0},\n",
       " {'user_id': 'u_235', 'movie_id': 'm_4239', 'rating': 4.0},\n",
       " {'user_id': 'u_197', 'movie_id': 'm_674', 'rating': 3.0},\n",
       " {'user_id': 'u_589', 'movie_id': 'm_353', 'rating': 4.0},\n",
       " {'user_id': 'u_614', 'movie_id': 'm_928', 'rating': 5.0},\n",
       " {'user_id': 'u_224', 'movie_id': 'm_100', 'rating': 4.0},\n",
       " {'user_id': 'u_138', 'movie_id': 'm_4993', 'rating': 3.0},\n",
       " {'user_id': 'u_23', 'movie_id': 'm_923', 'rating': 5.0},\n",
       " {'user_id': 'u_384', 'movie_id': 'm_6541', 'rating': 2.0},\n",
       " {'user_id': 'u_48', 'movie_id': 'm_65514', 'rating': 4.0},\n",
       " {'user_id': 'u_128', 'movie_id': 'm_509', 'rating': 5.0},\n",
       " {'user_id': 'u_645', 'movie_id': 'm_2770', 'rating': 3.0},\n",
       " {'user_id': 'u_7', 'movie_id': 'm_1129', 'rating': 3.0},\n",
       " {'user_id': 'u_218', 'movie_id': 'm_593', 'rating': 4.0},\n",
       " {'user_id': 'u_157', 'movie_id': 'm_89745', 'rating': 3.0},\n",
       " {'user_id': 'u_408', 'movie_id': 'm_1197', 'rating': 5.0},\n",
       " {'user_id': 'u_18', 'movie_id': 'm_141', 'rating': 4.0},\n",
       " {'user_id': 'u_519', 'movie_id': 'm_1206', 'rating': 5.0},\n",
       " {'user_id': 'u_468', 'movie_id': 'm_33660', 'rating': 3.0},\n",
       " {'user_id': 'u_433', 'movie_id': 'm_16', 'rating': 4.0},\n",
       " {'user_id': 'u_88', 'movie_id': 'm_1641', 'rating': 4.0},\n",
       " {'user_id': 'u_213', 'movie_id': 'm_2605', 'rating': 3.0},\n",
       " {'user_id': 'u_157', 'movie_id': 'm_97752', 'rating': 4.0},\n",
       " {'user_id': 'u_468', 'movie_id': 'm_1449', 'rating': 3.0},\n",
       " {'user_id': 'u_478', 'movie_id': 'm_6016', 'rating': 4.0},\n",
       " {'user_id': 'u_501', 'movie_id': 'm_77455', 'rating': 5.0},\n",
       " {'user_id': 'u_564', 'movie_id': 'm_2348', 'rating': 5.0},\n",
       " {'user_id': 'u_324', 'movie_id': 'm_8644', 'rating': 3.0},\n",
       " {'user_id': 'u_15', 'movie_id': 'm_1449', 'rating': 4.0},\n",
       " {'user_id': 'u_489', 'movie_id': 'm_2718', 'rating': 5.0},\n",
       " {'user_id': 'u_195', 'movie_id': 'm_4002', 'rating': 4.0},\n",
       " {'user_id': 'u_172', 'movie_id': 'm_150', 'rating': 4.0},\n",
       " {'user_id': 'u_355', 'movie_id': 'm_3471', 'rating': 4.0},\n",
       " {'user_id': 'u_615', 'movie_id': 'm_27660', 'rating': 4.0},\n",
       " {'user_id': 'u_105', 'movie_id': 'm_4321', 'rating': 3.0},\n",
       " {'user_id': 'u_287', 'movie_id': 'm_6936', 'rating': 4.0},\n",
       " {'user_id': 'u_451', 'movie_id': 'm_3683', 'rating': 4.0},\n",
       " {'user_id': 'u_607', 'movie_id': 'm_2959', 'rating': 4.0},\n",
       " {'user_id': 'u_195', 'movie_id': 'm_480', 'rating': 4.0},\n",
       " {'user_id': 'u_48', 'movie_id': 'm_57669', 'rating': 4.0},\n",
       " {'user_id': 'u_582', 'movie_id': 'm_3255', 'rating': 3.0},\n",
       " {'user_id': 'u_380', 'movie_id': 'm_30707', 'rating': 4.0},\n",
       " {'user_id': 'u_43', 'movie_id': 'm_2384', 'rating': 4.0},\n",
       " {'user_id': 'u_384', 'movie_id': 'm_1270', 'rating': 4.0},\n",
       " {'user_id': 'u_311', 'movie_id': 'm_628', 'rating': 3.0},\n",
       " {'user_id': 'u_536', 'movie_id': 'm_260', 'rating': 5.0},\n",
       " {'user_id': 'u_130', 'movie_id': 'm_36', 'rating': 4.0},\n",
       " {'user_id': 'u_480', 'movie_id': 'm_51540', 'rating': 3.0},\n",
       " {'user_id': 'u_30', 'movie_id': 'm_3316', 'rating': 2.0},\n",
       " {'user_id': 'u_119', 'movie_id': 'm_1960', 'rating': 4.0},\n",
       " {'user_id': 'u_472', 'movie_id': 'm_2109', 'rating': 4.0},\n",
       " {'user_id': 'u_528', 'movie_id': 'm_4993', 'rating': 4.0},\n",
       " {'user_id': 'u_363', 'movie_id': 'm_1653', 'rating': 4.0},\n",
       " {'user_id': 'u_534', 'movie_id': 'm_6', 'rating': 5.0},\n",
       " {'user_id': 'u_128', 'movie_id': 'm_89', 'rating': 5.0},\n",
       " {'user_id': 'u_311', 'movie_id': 'm_2875', 'rating': 2.0},\n",
       " {'user_id': 'u_105', 'movie_id': 'm_153', 'rating': 3.0},\n",
       " {'user_id': 'u_257', 'movie_id': 'm_52885', 'rating': 4.0},\n",
       " {'user_id': 'u_564', 'movie_id': 'm_1805', 'rating': 5.0},\n",
       " {'user_id': 'u_128', 'movie_id': 'm_4448', 'rating': 4.0},\n",
       " {'user_id': 'u_460', 'movie_id': 'm_342', 'rating': 4.0},\n",
       " {'user_id': 'u_388', 'movie_id': 'm_1834', 'rating': 4.0},\n",
       " {'user_id': 'u_373', 'movie_id': 'm_1208', 'rating': 4.0},\n",
       " {'user_id': 'u_236', 'movie_id': 'm_3578', 'rating': 2.0},\n",
       " {'user_id': 'u_311', 'movie_id': 'm_39292', 'rating': 4.0},\n",
       " {'user_id': 'u_649', 'movie_id': 'm_265', 'rating': 5.0},\n",
       " {'user_id': 'u_178', 'movie_id': 'm_293', 'rating': 3.0},\n",
       " {'user_id': 'u_37', 'movie_id': 'm_1246', 'rating': 5.0},\n",
       " {'user_id': 'u_564', 'movie_id': 'm_3494', 'rating': 3.0},\n",
       " {'user_id': 'u_110', 'movie_id': 'm_344', 'rating': 4.0},\n",
       " {'user_id': 'u_128', 'movie_id': 'm_2888', 'rating': 5.0},\n",
       " {'user_id': 'u_518', 'movie_id': 'm_648', 'rating': 4.0},\n",
       " {'user_id': 'u_228', 'movie_id': 'm_54286', 'rating': 5.0},\n",
       " {'user_id': 'u_15', 'movie_id': 'm_59615', 'rating': 1.0},\n",
       " {'user_id': 'u_382', 'movie_id': 'm_1247', 'rating': 2.0},\n",
       " {'user_id': 'u_577', 'movie_id': 'm_2140', 'rating': 4.0},\n",
       " {'user_id': 'u_520', 'movie_id': 'm_50', 'rating': 5.0},\n",
       " {'user_id': 'u_311', 'movie_id': 'm_918', 'rating': 2.0},\n",
       " {'user_id': 'u_520', 'movie_id': 'm_1047', 'rating': 2.0},\n",
       " {'user_id': 'u_150', 'movie_id': 'm_4545', 'rating': 2.0},\n",
       " {'user_id': 'u_496', 'movie_id': 'm_105', 'rating': 5.0},\n",
       " {'user_id': 'u_481', 'movie_id': 'm_4306', 'rating': 3.0},\n",
       " {'user_id': 'u_615', 'movie_id': 'm_2959', 'rating': 4.0},\n",
       " {'user_id': 'u_268', 'movie_id': 'm_1197', 'rating': 5.0},\n",
       " {'user_id': 'u_373', 'movie_id': 'm_2730', 'rating': 4.0},\n",
       " {'user_id': 'u_564', 'movie_id': 'm_590', 'rating': 2.0},\n",
       " {'user_id': 'u_55', 'movie_id': 'm_724', 'rating': 4.0},\n",
       " {'user_id': 'u_73', 'movie_id': 'm_2671', 'rating': 3.0},\n",
       " {'user_id': 'u_57', 'movie_id': 'm_1222', 'rating': 5.0},\n",
       " {'user_id': 'u_509', 'movie_id': 'm_1884', 'rating': 3.0},\n",
       " {'user_id': 'u_283', 'movie_id': 'm_39183', 'rating': 4.0},\n",
       " {'user_id': 'u_185', 'movie_id': 'm_1080', 'rating': 4.0},\n",
       " {'user_id': 'u_585', 'movie_id': 'm_1226', 'rating': 5.0},\n",
       " {'user_id': 'u_72', 'movie_id': 'm_6863', 'rating': 3.0},\n",
       " {'user_id': 'u_547', 'movie_id': 'm_3186', 'rating': 2.0},\n",
       " {'user_id': 'u_19', 'movie_id': 'm_230', 'rating': 5.0},\n",
       " {'user_id': 'u_506', 'movie_id': 'm_724', 'rating': 3.0},\n",
       " {'user_id': 'u_255', 'movie_id': 'm_4995', 'rating': 3.0},\n",
       " {'user_id': 'u_306', 'movie_id': 'm_2369', 'rating': 3.0},\n",
       " {'user_id': 'u_330', 'movie_id': 'm_1188', 'rating': 3.0},\n",
       " {'user_id': 'u_610', 'movie_id': 'm_5225', 'rating': 4.0},\n",
       " {'user_id': 'u_268', 'movie_id': 'm_2858', 'rating': 3.0},\n",
       " {'user_id': 'u_119', 'movie_id': 'm_2529', 'rating': 4.0},\n",
       " {'user_id': 'u_478', 'movie_id': 'm_8984', 'rating': 4.0},\n",
       " {'user_id': 'u_77', 'movie_id': 'm_1073', 'rating': 4.0},\n",
       " {'user_id': 'u_316', 'movie_id': 'm_6942', 'rating': 3.0},\n",
       " {'user_id': 'u_264', 'movie_id': 'm_911', 'rating': 4.0},\n",
       " {'user_id': 'u_67', 'movie_id': 'm_609', 'rating': 3.0},\n",
       " {'user_id': 'u_416', 'movie_id': 'm_168', 'rating': 4.0},\n",
       " {'user_id': 'u_334', 'movie_id': 'm_79132', 'rating': 4.0},\n",
       " {'user_id': 'u_656', 'movie_id': 'm_1784', 'rating': 5.0},\n",
       " {'user_id': 'u_654', 'movie_id': 'm_2003', 'rating': 4.0},\n",
       " {'user_id': 'u_155', 'movie_id': 'm_1527', 'rating': 3.0},\n",
       " {'user_id': 'u_26', 'movie_id': 'm_73017', 'rating': 3.0},\n",
       " {'user_id': 'u_401', 'movie_id': 'm_674', 'rating': 5.0},\n",
       " {'user_id': 'u_346', 'movie_id': 'm_2011', 'rating': 4.0},\n",
       " {'user_id': 'u_121', 'movie_id': 'm_318', 'rating': 5.0},\n",
       " {'user_id': 'u_487', 'movie_id': 'm_261', 'rating': 5.0},\n",
       " {'user_id': 'u_596', 'movie_id': 'm_1086', 'rating': 4.0},\n",
       " {'user_id': 'u_564', 'movie_id': 'm_95', 'rating': 3.0},\n",
       " {'user_id': 'u_525', 'movie_id': 'm_2628', 'rating': 4.0},\n",
       " {'user_id': 'u_262', 'movie_id': 'm_7502', 'rating': 4.0},\n",
       " {'user_id': 'u_23', 'movie_id': 'm_5060', 'rating': 3.0},\n",
       " {'user_id': 'u_105', 'movie_id': 'm_3418', 'rating': 3.0},\n",
       " {'user_id': 'u_346', 'movie_id': 'm_4993', 'rating': 4.0},\n",
       " {'user_id': 'u_85', 'movie_id': 'm_3', 'rating': 2.0},\n",
       " {'user_id': 'u_295', 'movie_id': 'm_380', 'rating': 4.0},\n",
       " {'user_id': 'u_644', 'movie_id': 'm_24', 'rating': 3.0},\n",
       " {'user_id': 'u_534', 'movie_id': 'm_2875', 'rating': 4.0},\n",
       " {'user_id': 'u_588', 'movie_id': 'm_153', 'rating': 4.0},\n",
       " {'user_id': 'u_633', 'movie_id': 'm_457', 'rating': 4.0},\n",
       " {'user_id': 'u_346', 'movie_id': 'm_8636', 'rating': 4.0},\n",
       " {'user_id': 'u_56', 'movie_id': 'm_95510', 'rating': 4.0},\n",
       " {'user_id': 'u_483', 'movie_id': 'm_1259', 'rating': 5.0},\n",
       " {'user_id': 'u_664', 'movie_id': 'm_858', 'rating': 4.0},\n",
       " {'user_id': 'u_54', 'movie_id': 'm_4963', 'rating': 4.0},\n",
       " {'user_id': 'u_73', 'movie_id': 'm_3070', 'rating': 3.0},\n",
       " {'user_id': 'u_253', 'movie_id': 'm_786', 'rating': 2.0},\n",
       " {'user_id': 'u_242', 'movie_id': 'm_6', 'rating': 4.0},\n",
       " {'user_id': 'u_328', 'movie_id': 'm_2139', 'rating': 3.0},\n",
       " {'user_id': 'u_596', 'movie_id': 'm_8949', 'rating': 4.0},\n",
       " {'user_id': 'u_518', 'movie_id': 'm_2002', 'rating': 3.0},\n",
       " {'user_id': 'u_199', 'movie_id': 'm_8874', 'rating': 4.0},\n",
       " {'user_id': 'u_105', 'movie_id': 'm_3578', 'rating': 4.0},\n",
       " {'user_id': 'u_461', 'movie_id': 'm_6', 'rating': 4.0},\n",
       " {'user_id': 'u_379', 'movie_id': 'm_58559', 'rating': 4.0},\n",
       " {'user_id': 'u_461', 'movie_id': 'm_2005', 'rating': 4.0},\n",
       " {'user_id': 'u_176', 'movie_id': 'm_6016', 'rating': 4.0},\n",
       " {'user_id': 'u_596', 'movie_id': 'm_27773', 'rating': 3.0},\n",
       " {'user_id': 'u_73', 'movie_id': 'm_81834', 'rating': 4.0},\n",
       " {'user_id': 'u_118', 'movie_id': 'm_3742', 'rating': 5.0},\n",
       " {'user_id': 'u_178', 'movie_id': 'm_2716', 'rating': 3.0},\n",
       " {'user_id': 'u_574', 'movie_id': 'm_5507', 'rating': 3.0},\n",
       " {'user_id': 'u_166', 'movie_id': 'm_3897', 'rating': 4.0},\n",
       " {'user_id': 'u_20', 'movie_id': 'm_2013', 'rating': 3.0},\n",
       " {'user_id': 'u_121', 'movie_id': 'm_539', 'rating': 3.0},\n",
       " {'user_id': 'u_126', 'movie_id': 'm_292', 'rating': 4.0},\n",
       " {'user_id': 'u_639', 'movie_id': 'm_198', 'rating': 2.0},\n",
       " {'user_id': 'u_217', 'movie_id': 'm_260', 'rating': 5.0},\n",
       " {'user_id': 'u_393', 'movie_id': 'm_1584', 'rating': 3.0},\n",
       " {'user_id': 'u_388', 'movie_id': 'm_2249', 'rating': 4.0},\n",
       " {'user_id': 'u_73', 'movie_id': 'm_2710', 'rating': 3.0},\n",
       " {'user_id': 'u_88', 'movie_id': 'm_1101', 'rating': 4.0},\n",
       " {'user_id': 'u_575', 'movie_id': 'm_1029', 'rating': 4.0},\n",
       " {'user_id': 'u_558', 'movie_id': 'm_3468', 'rating': 5.0},\n",
       " {'user_id': 'u_219', 'movie_id': 'm_1', 'rating': 5.0},\n",
       " {'user_id': 'u_427', 'movie_id': 'm_1610', 'rating': 4.0},\n",
       " {'user_id': 'u_601', 'movie_id': 'm_4878', 'rating': 3.0},\n",
       " {'user_id': 'u_587', 'movie_id': 'm_933', 'rating': 4.0},\n",
       " {'user_id': 'u_152', 'movie_id': 'm_36529', 'rating': 3.0},\n",
       " {'user_id': 'u_166', 'movie_id': 'm_1732', 'rating': 1.0},\n",
       " {'user_id': 'u_468', 'movie_id': 'm_661', 'rating': 3.0},\n",
       " {'user_id': 'u_213', 'movie_id': 'm_5313', 'rating': 3.0},\n",
       " {'user_id': 'u_17', 'movie_id': 'm_47', 'rating': 5.0},\n",
       " {'user_id': 'u_605', 'movie_id': 'm_1944', 'rating': 4.0},\n",
       " {'user_id': 'u_48', 'movie_id': 'm_72998', 'rating': 4.0},\n",
       " {'user_id': 'u_186', 'movie_id': 'm_6365', 'rating': 4.0},\n",
       " {'user_id': 'u_182', 'movie_id': 'm_457', 'rating': 4.0},\n",
       " {'user_id': 'u_23', 'movie_id': 'm_58', 'rating': 3.0},\n",
       " {'user_id': 'u_491', 'movie_id': 'm_2770', 'rating': 4.0},\n",
       " {'user_id': 'u_452', 'movie_id': 'm_1680', 'rating': 3.0},\n",
       " {'user_id': 'u_292', 'movie_id': 'm_2353', 'rating': 2.0},\n",
       " {'user_id': 'u_547', 'movie_id': 'm_55118', 'rating': 4.0},\n",
       " {'user_id': 'u_386', 'movie_id': 'm_3114', 'rating': 3.0},\n",
       " {'user_id': 'u_390', 'movie_id': 'm_786', 'rating': 4.0},\n",
       " {'user_id': 'u_353', 'movie_id': 'm_2028', 'rating': 3.0},\n",
       " {'user_id': 'u_313', 'movie_id': 'm_590', 'rating': 4.0},\n",
       " {'user_id': 'u_358', 'movie_id': 'm_911', 'rating': 4.0},\n",
       " {'user_id': 'u_367', 'movie_id': 'm_3952', 'rating': 3.0},\n",
       " {'user_id': 'u_175', 'movie_id': 'm_1097', 'rating': 4.0},\n",
       " {'user_id': 'u_509', 'movie_id': 'm_194', 'rating': 4.0},\n",
       " {'user_id': 'u_671', 'movie_id': 'm_2858', 'rating': 4.0},\n",
       " {'user_id': 'u_68', 'movie_id': 'm_7361', 'rating': 3.0},\n",
       " {'user_id': 'u_563', 'movie_id': 'm_1206', 'rating': 4.0},\n",
       " {'user_id': 'u_564', 'movie_id': 'm_2806', 'rating': 1.0},\n",
       " {'user_id': 'u_547', 'movie_id': 'm_44665', 'rating': 3.0},\n",
       " {'user_id': 'u_57', 'movie_id': 'm_1754', 'rating': 3.0},\n",
       " {'user_id': 'u_316', 'movie_id': 'm_3827', 'rating': 3.0},\n",
       " {'user_id': 'u_529', 'movie_id': 'm_1353', 'rating': 3.0},\n",
       " {'user_id': 'u_14', 'movie_id': 'm_2724', 'rating': 3.0},\n",
       " {'user_id': 'u_292', 'movie_id': 'm_2355', 'rating': 4.0},\n",
       " {'user_id': 'u_396', 'movie_id': 'm_339', 'rating': 4.0},\n",
       " {'user_id': 'u_452', 'movie_id': 'm_1644', 'rating': 2.0},\n",
       " {'user_id': 'u_15', 'movie_id': 'm_587', 'rating': 1.0},\n",
       " {'user_id': 'u_588', 'movie_id': 'm_208', 'rating': 3.0},\n",
       " {'user_id': 'u_362', 'movie_id': 'm_45722', 'rating': 4.0},\n",
       " {'user_id': 'u_73', 'movie_id': 'm_8376', 'rating': 3.0},\n",
       " {'user_id': 'u_584', 'movie_id': 'm_2571', 'rating': 5.0},\n",
       " {'user_id': 'u_439', 'movie_id': 'm_3033', 'rating': 4.0},\n",
       " {'user_id': 'u_211', 'movie_id': 'm_52', 'rating': 5.0},\n",
       " {'user_id': 'u_184', 'movie_id': 'm_256', 'rating': 2.0},\n",
       " {'user_id': 'u_476', 'movie_id': 'm_111', 'rating': 4.0},\n",
       " {'user_id': 'u_78', 'movie_id': 'm_1222', 'rating': 5.0},\n",
       " {'user_id': 'u_472', 'movie_id': 'm_5013', 'rating': 3.0},\n",
       " {'user_id': 'u_166', 'movie_id': 'm_356', 'rating': 4.0},\n",
       " {'user_id': 'u_608', 'movie_id': 'm_1407', 'rating': 4.0},\n",
       " {'user_id': 'u_195', 'movie_id': 'm_1270', 'rating': 3.0},\n",
       " {'user_id': 'u_547', 'movie_id': 'm_6957', 'rating': 3.0},\n",
       " {'user_id': 'u_407', 'movie_id': 'm_4720', 'rating': 2.0},\n",
       " {'user_id': 'u_55', 'movie_id': 'm_805', 'rating': 5.0},\n",
       " {'user_id': 'u_468', 'movie_id': 'm_2716', 'rating': 3.0},\n",
       " {'user_id': 'u_36', 'movie_id': 'm_1036', 'rating': 3.0},\n",
       " {'user_id': 'u_564', 'movie_id': 'm_1914', 'rating': 4.0},\n",
       " {'user_id': 'u_125', 'movie_id': 'm_920', 'rating': 2.0},\n",
       " {'user_id': 'u_590', 'movie_id': 'm_31', 'rating': 3.0},\n",
       " {'user_id': 'u_15', 'movie_id': 'm_235', 'rating': 4.0},\n",
       " {'user_id': 'u_472', 'movie_id': 'm_8949', 'rating': 4.0},\n",
       " {'user_id': 'u_457', 'movie_id': 'm_3676', 'rating': 3.0},\n",
       " {'user_id': 'u_624', 'movie_id': 'm_648', 'rating': 3.0},\n",
       " {'user_id': 'u_241', 'movie_id': 'm_357', 'rating': 3.0},\n",
       " {'user_id': 'u_387', 'movie_id': 'm_934', 'rating': 4.0},\n",
       " {'user_id': 'u_518', 'movie_id': 'm_203', 'rating': 4.0},\n",
       " {'user_id': 'u_452', 'movie_id': 'm_2001', 'rating': 2.0},\n",
       " {'user_id': 'u_475', 'movie_id': 'm_296', 'rating': 5.0},\n",
       " {'user_id': 'u_30', 'movie_id': 'm_350', 'rating': 4.0},\n",
       " {'user_id': 'u_510', 'movie_id': 'm_1206', 'rating': 5.0},\n",
       " {'user_id': 'u_242', 'movie_id': 'm_1230', 'rating': 4.0},\n",
       " {'user_id': 'u_380', 'movie_id': 'm_2329', 'rating': 4.0},\n",
       " {'user_id': 'u_380', 'movie_id': 'm_5218', 'rating': 3.0},\n",
       " {'user_id': 'u_482', 'movie_id': 'm_1407', 'rating': 3.0},\n",
       " {'user_id': 'u_363', 'movie_id': 'm_2985', 'rating': 3.0},\n",
       " {'user_id': 'u_19', 'movie_id': 'm_1214', 'rating': 4.0},\n",
       " {'user_id': 'u_520', 'movie_id': 'm_2355', 'rating': 3.0},\n",
       " {'user_id': 'u_159', 'movie_id': 'm_1197', 'rating': 4.0},\n",
       " {'user_id': 'u_247', 'movie_id': 'm_915', 'rating': 2.0},\n",
       " {'user_id': 'u_115', 'movie_id': 'm_3897', 'rating': 3.0},\n",
       " {'user_id': 'u_248', 'movie_id': 'm_1270', 'rating': 5.0},\n",
       " {'user_id': 'u_468', 'movie_id': 'm_4369', 'rating': 2.0},\n",
       " {'user_id': 'u_602', 'movie_id': 'm_292', 'rating': 1.0},\n",
       " {'user_id': 'u_22', 'movie_id': 'm_3751', 'rating': 2.0},\n",
       " {'user_id': 'u_655', 'movie_id': 'm_59784', 'rating': 4.0},\n",
       " {'user_id': 'u_564', 'movie_id': 'm_1552', 'rating': 4.0},\n",
       " {'user_id': 'u_417', 'movie_id': 'm_4361', 'rating': 5.0},\n",
       " {'user_id': 'u_649', 'movie_id': 'm_595', 'rating': 3.0},\n",
       " {'user_id': 'u_466', 'movie_id': 'm_1270', 'rating': 3.0},\n",
       " {'user_id': 'u_530', 'movie_id': 'm_1032', 'rating': 4.0},\n",
       " {'user_id': 'u_502', 'movie_id': 'm_1193', 'rating': 4.0},\n",
       " {'user_id': 'u_63', 'movie_id': 'm_1193', 'rating': 5.0},\n",
       " {'user_id': 'u_240', 'movie_id': 'm_6385', 'rating': 4.0},\n",
       " {'user_id': 'u_201', 'movie_id': 'm_150', 'rating': 5.0},\n",
       " {'user_id': 'u_580', 'movie_id': 'm_1801', 'rating': 2.0},\n",
       " {'user_id': 'u_481', 'movie_id': 'm_64957', 'rating': 3.0},\n",
       " {'user_id': 'u_607', 'movie_id': 'm_2804', 'rating': 4.0},\n",
       " {'user_id': 'u_13', 'movie_id': 'm_1265', 'rating': 2.0},\n",
       " {'user_id': 'u_452', 'movie_id': 'm_2130', 'rating': 3.0},\n",
       " {'user_id': 'u_461', 'movie_id': 'm_225', 'rating': 1.0},\n",
       " {'user_id': 'u_38', 'movie_id': 'm_7153', 'rating': 4.0},\n",
       " {'user_id': 'u_665', 'movie_id': 'm_1015', 'rating': 4.0},\n",
       " {'user_id': 'u_648', 'movie_id': 'm_53894', 'rating': 4.0},\n",
       " {'user_id': 'u_243', 'movie_id': 'm_2712', 'rating': 4.0},\n",
       " {'user_id': 'u_128', 'movie_id': 'm_2841', 'rating': 5.0},\n",
       " {'user_id': 'u_656', 'movie_id': 'm_1090', 'rating': 4.0},\n",
       " {'user_id': 'u_580', 'movie_id': 'm_3521', 'rating': 3.0},\n",
       " {'user_id': 'u_86', 'movie_id': 'm_780', 'rating': 2.0},\n",
       " {'user_id': 'u_67', 'movie_id': 'm_434', 'rating': 2.0},\n",
       " {'user_id': 'u_92', 'movie_id': 'm_318', 'rating': 5.0},\n",
       " {'user_id': 'u_16', 'movie_id': 'm_5349', 'rating': 3.0},\n",
       " {'user_id': 'u_373', 'movie_id': 'm_2312', 'rating': 4.0},\n",
       " {'user_id': 'u_161', 'movie_id': 'm_21', 'rating': 3.0},\n",
       " {'user_id': 'u_431', 'movie_id': 'm_246', 'rating': 4.0},\n",
       " {'user_id': 'u_295', 'movie_id': 'm_2381', 'rating': 2.0},\n",
       " {'user_id': 'u_236', 'movie_id': 'm_1387', 'rating': 4.0},\n",
       " {'user_id': 'u_175', 'movie_id': 'm_3977', 'rating': 2.0},\n",
       " {'user_id': 'u_253', 'movie_id': 'm_4306', 'rating': 4.0},\n",
       " {'user_id': 'u_79', 'movie_id': 'm_2640', 'rating': 2.0},\n",
       " {'user_id': 'u_355', 'movie_id': 'm_1347', 'rating': 4.0},\n",
       " {'user_id': 'u_580', 'movie_id': 'm_3527', 'rating': 3.0},\n",
       " {'user_id': 'u_119', 'movie_id': 'm_2797', 'rating': 3.0},\n",
       " {'user_id': 'u_243', 'movie_id': 'm_1255', 'rating': 3.0},\n",
       " {'user_id': 'u_405', 'movie_id': 'm_2406', 'rating': 4.0},\n",
       " {'user_id': 'u_48', 'movie_id': 'm_44555', 'rating': 4.0},\n",
       " {'user_id': 'u_664', 'movie_id': 'm_8641', 'rating': 4.0},\n",
       " {'user_id': 'u_502', 'movie_id': 'm_104', 'rating': 4.0},\n",
       " {'user_id': 'u_358', 'movie_id': 'm_2463', 'rating': 4.0},\n",
       " {'user_id': 'u_468', 'movie_id': 'm_1284', 'rating': 3.0},\n",
       " {'user_id': 'u_641', 'movie_id': 'm_185', 'rating': 4.0},\n",
       " {'user_id': 'u_523', 'movie_id': 'm_2617', 'rating': 3.0},\n",
       " {'user_id': 'u_262', 'movie_id': 'm_7022', 'rating': 4.0},\n",
       " {'user_id': 'u_219', 'movie_id': 'm_216', 'rating': 5.0},\n",
       " {'user_id': 'u_283', 'movie_id': 'm_7361', 'rating': 5.0},\n",
       " {'user_id': 'u_436', 'movie_id': 'm_1183', 'rating': 4.0},\n",
       " {'user_id': 'u_487', 'movie_id': 'm_344', 'rating': 3.0},\n",
       " {'user_id': 'u_205', 'movie_id': 'm_52973', 'rating': 3.0},\n",
       " {'user_id': 'u_651', 'movie_id': 'm_1198', 'rating': 5.0},\n",
       " {'user_id': 'u_22', 'movie_id': 'm_153', 'rating': 3.0},\n",
       " {'user_id': 'u_463', 'movie_id': 'm_151', 'rating': 3.0},\n",
       " {'user_id': 'u_553', 'movie_id': 'm_1240', 'rating': 2.0},\n",
       " {'user_id': 'u_626', 'movie_id': 'm_3565', 'rating': 5.0},\n",
       " {'user_id': 'u_537', 'movie_id': 'm_1282', 'rating': 5.0},\n",
       " {'user_id': 'u_20', 'movie_id': 'm_1196', 'rating': 2.0},\n",
       " {'user_id': 'u_67', 'movie_id': 'm_364', 'rating': 5.0},\n",
       " {'user_id': 'u_119', 'movie_id': 'm_1372', 'rating': 2.0},\n",
       " {'user_id': 'u_321', 'movie_id': 'm_1500', 'rating': 4.0},\n",
       " {'user_id': 'u_518', 'movie_id': 'm_1957', 'rating': 3.0},\n",
       " {'user_id': 'u_531', 'movie_id': 'm_480', 'rating': 3.0},\n",
       " {'user_id': 'u_475', 'movie_id': 'm_8528', 'rating': 2.0},\n",
       " {'user_id': 'u_457', 'movie_id': 'm_832', 'rating': 1.0},\n",
       " {'user_id': 'u_486', 'movie_id': 'm_2683', 'rating': 4.0},\n",
       " {'user_id': 'u_34', 'movie_id': 'm_610', 'rating': 4.0},\n",
       " {'user_id': 'u_291', 'movie_id': 'm_2571', 'rating': 5.0},\n",
       " {'user_id': 'u_428', 'movie_id': 'm_4979', 'rating': 5.0},\n",
       " {'user_id': 'u_220', 'movie_id': 'm_2712', 'rating': 2.0},\n",
       " {'user_id': 'u_551', 'movie_id': 'm_1025', 'rating': 4.0},\n",
       " {'user_id': 'u_598', 'movie_id': 'm_2541', 'rating': 3.0},\n",
       " {'user_id': 'u_518', 'movie_id': 'm_1587', 'rating': 4.0},\n",
       " {'user_id': 'u_360', 'movie_id': 'm_2916', 'rating': 3.0},\n",
       " {'user_id': 'u_379', 'movie_id': 'm_1225', 'rating': 3.0},\n",
       " {'user_id': 'u_30', 'movie_id': 'm_2794', 'rating': 3.0},\n",
       " {'user_id': 'u_324', 'movie_id': 'm_30812', 'rating': 3.0},\n",
       " {'user_id': 'u_615', 'movie_id': 'm_733', 'rating': 3.0},\n",
       " {'user_id': 'u_496', 'movie_id': 'm_500', 'rating': 4.0},\n",
       " {'user_id': 'u_547', 'movie_id': 'm_3649', 'rating': 2.0},\n",
       " {'user_id': 'u_185', 'movie_id': 'm_3175', 'rating': 3.0},\n",
       " {'user_id': 'u_56', 'movie_id': 'm_81591', 'rating': 5.0},\n",
       " {'user_id': 'u_574', 'movie_id': 'm_2423', 'rating': 3.0},\n",
       " {'user_id': 'u_532', 'movie_id': 'm_1291', 'rating': 4.0},\n",
       " {'user_id': 'u_68', 'movie_id': 'm_457', 'rating': 4.0},\n",
       " {'user_id': 'u_245', 'movie_id': 'm_2359', 'rating': 5.0},\n",
       " {'user_id': 'u_14', 'movie_id': 'm_3988', 'rating': 4.0},\n",
       " {'user_id': 'u_52', 'movie_id': 'm_4246', 'rating': 5.0},\n",
       " {'user_id': 'u_466', 'movie_id': 'm_2081', 'rating': 5.0},\n",
       " {'user_id': 'u_547', 'movie_id': 'm_3100', 'rating': 4.0},\n",
       " {'user_id': 'u_150', 'movie_id': 'm_1377', 'rating': 1.0},\n",
       " {'user_id': 'u_516', 'movie_id': 'm_592', 'rating': 3.0},\n",
       " {'user_id': 'u_12', 'movie_id': 'm_1215', 'rating': 5.0},\n",
       " {'user_id': 'u_639', 'movie_id': 'm_47', 'rating': 3.0},\n",
       " {'user_id': 'u_185', 'movie_id': 'm_1028', 'rating': 3.0},\n",
       " {'user_id': 'u_143', 'movie_id': 'm_593', 'rating': 4.0},\n",
       " {'user_id': 'u_254', 'movie_id': 'm_380', 'rating': 3.0},\n",
       " {'user_id': 'u_32', 'movie_id': 'm_31', 'rating': 4.0},\n",
       " {'user_id': 'u_509', 'movie_id': 'm_1265', 'rating': 2.0},\n",
       " {'user_id': 'u_94', 'movie_id': 'm_4973', 'rating': 4.0},\n",
       " {'user_id': 'u_547', 'movie_id': 'm_98961', 'rating': 4.0},\n",
       " {'user_id': 'u_234', 'movie_id': 'm_33794', 'rating': 4.0},\n",
       " {'user_id': 'u_439', 'movie_id': 'm_4890', 'rating': 3.0},\n",
       " {'user_id': 'u_213', 'movie_id': 'm_1047', 'rating': 3.0},\n",
       " {'user_id': 'u_23', 'movie_id': 'm_7361', 'rating': 4.0},\n",
       " {'user_id': 'u_165', 'movie_id': 'm_2081', 'rating': 2.0},\n",
       " {'user_id': 'u_599', 'movie_id': 'm_79702', 'rating': 4.0},\n",
       " {'user_id': 'u_652', 'movie_id': 'm_2997', 'rating': 4.0},\n",
       " {'user_id': 'u_580', 'movie_id': 'm_1120', 'rating': 3.0},\n",
       " {'user_id': 'u_518', 'movie_id': 'm_2694', 'rating': 5.0},\n",
       " {'user_id': 'u_665', 'movie_id': 'm_3100', 'rating': 3.0},\n",
       " {'user_id': 'u_136', 'movie_id': 'm_780', 'rating': 4.0},\n",
       " {'user_id': 'u_59', 'movie_id': 'm_2858', 'rating': 4.0},\n",
       " {'user_id': 'u_236', 'movie_id': 'm_922', 'rating': 4.0},\n",
       " {'user_id': 'u_472', 'movie_id': 'm_1256', 'rating': 2.0},\n",
       " {'user_id': 'u_19', 'movie_id': 'm_1378', 'rating': 2.0},\n",
       " {'user_id': 'u_109', 'movie_id': 'm_296', 'rating': 4.0},\n",
       " {'user_id': 'u_275', 'movie_id': 'm_88810', 'rating': 5.0},\n",
       " {'user_id': 'u_99', 'movie_id': 'm_2085', 'rating': 3.0},\n",
       " {'user_id': 'u_243', 'movie_id': 'm_2033', 'rating': 4.0},\n",
       " {'user_id': 'u_23', 'movie_id': 'm_4344', 'rating': 0.0},\n",
       " {'user_id': 'u_528', 'movie_id': 'm_2474', 'rating': 4.0},\n",
       " {'user_id': 'u_537', 'movie_id': 'm_953', 'rating': 4.0},\n",
       " {'user_id': 'u_585', 'movie_id': 'm_936', 'rating': 4.0},\n",
       " {'user_id': 'u_312', 'movie_id': 'm_733', 'rating': 3.0},\n",
       " {'user_id': 'u_237', 'movie_id': 'm_344', 'rating': 2.0},\n",
       " {'user_id': 'u_165', 'movie_id': 'm_1027', 'rating': 3.0},\n",
       " {'user_id': 'u_342', 'movie_id': 'm_1358', 'rating': 4.0},\n",
       " {'user_id': 'u_262', 'movie_id': 'm_3408', 'rating': 2.0},\n",
       " {'user_id': 'u_382', 'movie_id': 'm_2125', 'rating': 3.0},\n",
       " {'user_id': 'u_587', 'movie_id': 'm_1280', 'rating': 4.0},\n",
       " {'user_id': 'u_83', 'movie_id': 'm_5377', 'rating': 4.0},\n",
       " {'user_id': 'u_91', 'movie_id': 'm_3979', 'rating': 3.0},\n",
       " {'user_id': 'u_570', 'movie_id': 'm_1544', 'rating': 3.0},\n",
       " {'user_id': 'u_472', 'movie_id': 'm_1566', 'rating': 2.0},\n",
       " {'user_id': 'u_621', 'movie_id': 'm_345', 'rating': 5.0},\n",
       " {'user_id': 'u_312', 'movie_id': 'm_1544', 'rating': 3.0},\n",
       " {'user_id': 'u_388', 'movie_id': 'm_4855', 'rating': 4.0},\n",
       " {'user_id': 'u_369', 'movie_id': 'm_587', 'rating': 5.0},\n",
       " {'user_id': 'u_579', 'movie_id': 'm_4226', 'rating': 3.0},\n",
       " {'user_id': 'u_596', 'movie_id': 'm_339', 'rating': 3.0},\n",
       " {'user_id': 'u_605', 'movie_id': 'm_3614', 'rating': 3.0},\n",
       " {'user_id': 'u_232', 'movie_id': 'm_1209', 'rating': 4.0},\n",
       " {'user_id': 'u_306', 'movie_id': 'm_3386', 'rating': 3.0},\n",
       " {'user_id': 'u_225', 'movie_id': 'm_380', 'rating': 4.0},\n",
       " {'user_id': 'u_472', 'movie_id': 'm_6620', 'rating': 4.0},\n",
       " {'user_id': 'u_15', 'movie_id': 'm_736', 'rating': 1.0},\n",
       " {'user_id': 'u_142', 'movie_id': 'm_1387', 'rating': 4.0},\n",
       " {'user_id': 'u_665', 'movie_id': 'm_2005', 'rating': 4.0},\n",
       " {'user_id': 'u_654', 'movie_id': 'm_2406', 'rating': 4.0},\n",
       " {'user_id': 'u_309', 'movie_id': 'm_8368', 'rating': 4.0},\n",
       " {'user_id': 'u_646', 'movie_id': 'm_955', 'rating': 1.0},\n",
       " {'user_id': 'u_87', 'movie_id': 'm_1357', 'rating': 5.0},\n",
       " {'user_id': 'u_564', 'movie_id': 'm_1179', 'rating': 5.0},\n",
       " {'user_id': 'u_559', 'movie_id': 'm_2019', 'rating': 5.0},\n",
       " {'user_id': 'u_487', 'movie_id': 'm_180', 'rating': 3.0},\n",
       " {'user_id': 'u_95', 'movie_id': 'm_1198', 'rating': 5.0},\n",
       " {'user_id': 'u_287', 'movie_id': 'm_58559', 'rating': 5.0},\n",
       " {'user_id': 'u_93', 'movie_id': 'm_2396', 'rating': 4.0},\n",
       " {'user_id': 'u_299', 'movie_id': 'm_4878', 'rating': 2.0},\n",
       " {'user_id': 'u_285', 'movie_id': 'm_2294', 'rating': 4.0},\n",
       " {'user_id': 'u_452', 'movie_id': 'm_7162', 'rating': 2.0},\n",
       " {'user_id': 'u_390', 'movie_id': 'm_379', 'rating': 3.0},\n",
       " {'user_id': 'u_452', 'movie_id': 'm_1653', 'rating': 2.0},\n",
       " {'user_id': 'u_388', 'movie_id': 'm_3535', 'rating': 3.0},\n",
       " {'user_id': 'u_582', 'movie_id': 'm_5014', 'rating': 4.0},\n",
       " {'user_id': 'u_380', 'movie_id': 'm_63113', 'rating': 3.0},\n",
       " {'user_id': 'u_509', 'movie_id': 'm_2712', 'rating': 3.0},\n",
       " {'user_id': 'u_407', 'movie_id': 'm_3481', 'rating': 4.0},\n",
       " {'user_id': 'u_48', 'movie_id': 'm_68358', 'rating': 3.0},\n",
       " {'user_id': 'u_456', 'movie_id': 'm_3793', 'rating': 4.0},\n",
       " {'user_id': 'u_175', 'movie_id': 'm_595', 'rating': 4.0},\n",
       " {'user_id': 'u_607', 'movie_id': 'm_1689', 'rating': 4.0},\n",
       " {'user_id': 'u_654', 'movie_id': 'm_3016', 'rating': 3.0},\n",
       " {'user_id': 'u_405', 'movie_id': 'm_7569', 'rating': 4.0},\n",
       " {'user_id': 'u_468', 'movie_id': 'm_356', 'rating': 3.0},\n",
       " {'user_id': 'u_468', 'movie_id': 'm_5816', 'rating': 2.0},\n",
       " {'user_id': 'u_239', 'movie_id': 'm_4333', 'rating': 3.0},\n",
       " {'user_id': 'u_232', 'movie_id': 'm_3152', 'rating': 3.0},\n",
       " {'user_id': 'u_564', 'movie_id': 'm_2369', 'rating': 4.0},\n",
       " {'user_id': 'u_250', 'movie_id': 'm_31685', 'rating': 4.0},\n",
       " {'user_id': 'u_457', 'movie_id': 'm_45950', 'rating': 2.0},\n",
       " {'user_id': 'u_405', 'movie_id': 'm_1918', 'rating': 2.0},\n",
       " {'user_id': 'u_230', 'movie_id': 'm_778', 'rating': 4.0},\n",
       " {'user_id': 'u_537', 'movie_id': 'm_1271', 'rating': 4.0},\n",
       " {'user_id': 'u_428', 'movie_id': 'm_4022', 'rating': 3.0},\n",
       " {'user_id': 'u_128', 'movie_id': 'm_1022', 'rating': 4.0},\n",
       " {'user_id': 'u_547', 'movie_id': 'm_8529', 'rating': 3.0},\n",
       " {'user_id': 'u_480', 'movie_id': 'm_72378', 'rating': 3.0},\n",
       " {'user_id': 'u_198', 'movie_id': 'm_1199', 'rating': 5.0},\n",
       " {'user_id': 'u_387', 'movie_id': 'm_3873', 'rating': 4.0},\n",
       " {'user_id': 'u_151', 'movie_id': 'm_410', 'rating': 3.0},\n",
       " {'user_id': 'u_496', 'movie_id': 'm_553', 'rating': 5.0},\n",
       " {'user_id': 'u_244', 'movie_id': 'm_2174', 'rating': 3.0},\n",
       " {'user_id': 'u_358', 'movie_id': 'm_1395', 'rating': 4.0},\n",
       " {'user_id': 'u_624', 'movie_id': 'm_4011', 'rating': 4.0},\n",
       " {'user_id': 'u_306', 'movie_id': 'm_2973', 'rating': 4.0},\n",
       " {'user_id': 'u_561', 'movie_id': 'm_2706', 'rating': 3.0},\n",
       " {'user_id': 'u_299', 'movie_id': 'm_4467', 'rating': 4.0},\n",
       " {'user_id': 'u_407', 'movie_id': 'm_2028', 'rating': 4.0},\n",
       " {'user_id': 'u_300', 'movie_id': 'm_3753', 'rating': 4.0},\n",
       " {'user_id': 'u_321', 'movie_id': 'm_1148', 'rating': 4.0},\n",
       " {'user_id': 'u_600', 'movie_id': 'm_2096', 'rating': 3.0},\n",
       " {'user_id': 'u_390', 'movie_id': 'm_849', 'rating': 3.0},\n",
       " {'user_id': 'u_508', 'movie_id': 'm_539', 'rating': 4.0},\n",
       " {'user_id': 'u_88', 'movie_id': 'm_1291', 'rating': 3.0},\n",
       " {'user_id': 'u_294', 'movie_id': 'm_1597', 'rating': 4.0},\n",
       " {'user_id': 'u_294', 'movie_id': 'm_1449', 'rating': 3.0},\n",
       " {'user_id': 'u_232', 'movie_id': 'm_2791', 'rating': 5.0},\n",
       " {'user_id': 'u_400', 'movie_id': 'm_253', 'rating': 3.0},\n",
       " {'user_id': 'u_275', 'movie_id': 'm_68954', 'rating': 5.0},\n",
       " {'user_id': 'u_227', 'movie_id': 'm_2338', 'rating': 5.0},\n",
       " {'user_id': 'u_452', 'movie_id': 'm_1214', 'rating': 3.0},\n",
       " {'user_id': 'u_543', 'movie_id': 'm_848', 'rating': 5.0},\n",
       " {'user_id': 'u_309', 'movie_id': 'm_1204', 'rating': 4.0},\n",
       " {'user_id': 'u_599', 'movie_id': 'm_54001', 'rating': 5.0},\n",
       " {'user_id': 'u_304', 'movie_id': 'm_235', 'rating': 5.0},\n",
       " {'user_id': 'u_475', 'movie_id': 'm_95510', 'rating': 2.0},\n",
       " {'user_id': 'u_393', 'movie_id': 'm_6380', 'rating': 5.0},\n",
       " {'user_id': 'u_31', 'movie_id': 'm_318', 'rating': 4.0},\n",
       " {'user_id': 'u_195', 'movie_id': 'm_2857', 'rating': 3.0},\n",
       " {'user_id': 'u_452', 'movie_id': 'm_1256', 'rating': 4.0},\n",
       " {'user_id': 'u_311', 'movie_id': 'm_39', 'rating': 3.0},\n",
       " {'user_id': 'u_358', 'movie_id': 'm_708', 'rating': 3.0},\n",
       " {'user_id': 'u_198', 'movie_id': 'm_3246', 'rating': 3.0},\n",
       " {'user_id': 'u_461', 'movie_id': 'm_2770', 'rating': 1.0},\n",
       " {'user_id': 'u_303', 'movie_id': 'm_1088', 'rating': 3.0},\n",
       " {'user_id': 'u_439', 'movie_id': 'm_2406', 'rating': 3.0},\n",
       " {'user_id': 'u_400', 'movie_id': 'm_160', 'rating': 2.0},\n",
       " {'user_id': 'u_373', 'movie_id': 'm_1244', 'rating': 4.0},\n",
       " {'user_id': 'u_624', 'movie_id': 'm_135', 'rating': 2.0},\n",
       " {'user_id': 'u_561', 'movie_id': 'm_46972', 'rating': 4.0},\n",
       " {'user_id': 'u_487', 'movie_id': 'm_110', 'rating': 5.0},\n",
       " {'user_id': 'u_481', 'movie_id': 'm_16', 'rating': 4.0},\n",
       " {'user_id': 'u_99', 'movie_id': 'm_608', 'rating': 5.0},\n",
       " {'user_id': 'u_86', 'movie_id': 'm_427', 'rating': 3.0},\n",
       " {'user_id': 'u_457', 'movie_id': 'm_4333', 'rating': 3.0},\n",
       " {'user_id': 'u_364', 'movie_id': 'm_4018', 'rating': 4.0},\n",
       " {'user_id': 'u_562', 'movie_id': 'm_40819', 'rating': 4.0},\n",
       " {'user_id': 'u_461', 'movie_id': 'm_493', 'rating': 2.0},\n",
       " {'user_id': 'u_245', 'movie_id': 'm_1608', 'rating': 4.0},\n",
       " {'user_id': 'u_283', 'movie_id': 'm_1784', 'rating': 5.0},\n",
       " {'user_id': 'u_537', 'movie_id': 'm_105', 'rating': 4.0},\n",
       " {'user_id': 'u_355', 'movie_id': 'm_4223', 'rating': 3.0},\n",
       " {'user_id': 'u_463', 'movie_id': 'm_4448', 'rating': 3.0},\n",
       " {'user_id': 'u_103', 'movie_id': 'm_1129', 'rating': 2.0},\n",
       " {'user_id': 'u_243', 'movie_id': 'm_1722', 'rating': 2.0},\n",
       " {'user_id': 'u_385', 'movie_id': 'm_293', 'rating': 4.0},\n",
       " {'user_id': 'u_516', 'movie_id': 'm_586', 'rating': 3.0},\n",
       " {'user_id': 'u_461', 'movie_id': 'm_60', 'rating': 2.0},\n",
       " {'user_id': 'u_294', 'movie_id': 'm_4054', 'rating': 3.0},\n",
       " {'user_id': 'u_402', 'movie_id': 'm_1265', 'rating': 4.0},\n",
       " {'user_id': 'u_472', 'movie_id': 'm_2700', 'rating': 4.0},\n",
       " {'user_id': 'u_102', 'movie_id': 'm_1517', 'rating': 4.0},\n",
       " {'user_id': 'u_95', 'movie_id': 'm_19', 'rating': 4.0},\n",
       " {'user_id': 'u_624', 'movie_id': 'm_2291', 'rating': 3.0},\n",
       " {'user_id': 'u_165', 'movie_id': 'm_7438', 'rating': 4.0},\n",
       " {'user_id': 'u_102', 'movie_id': 'm_2948', 'rating': 4.0},\n",
       " {'user_id': 'u_275', 'movie_id': 'm_1270', 'rating': 5.0},\n",
       " {'user_id': 'u_148', 'movie_id': 'm_4226', 'rating': 5.0},\n",
       " {'user_id': 'u_414', 'movie_id': 'm_2134', 'rating': 3.0},\n",
       " {'user_id': 'u_394', 'movie_id': 'm_1258', 'rating': 3.0},\n",
       " {'user_id': 'u_81', 'movie_id': 'm_6993', 'rating': 5.0},\n",
       " {'user_id': 'u_547', 'movie_id': 'm_85414', 'rating': 3.0},\n",
       " {'user_id': 'u_547', 'movie_id': 'm_1694', 'rating': 4.0},\n",
       " {'user_id': 'u_278', 'movie_id': 'm_899', 'rating': 3.0},\n",
       " {'user_id': 'u_562', 'movie_id': 'm_185', 'rating': 3.0},\n",
       " {'user_id': 'u_15', 'movie_id': 'm_5015', 'rating': 1.0},\n",
       " {'user_id': 'u_61', 'movie_id': 'm_2355', 'rating': 3.0},\n",
       " {'user_id': 'u_219', 'movie_id': 'm_2947', 'rating': 4.0},\n",
       " {'user_id': 'u_574', 'movie_id': 'm_51540', 'rating': 4.0},\n",
       " {'user_id': 'u_244', 'movie_id': 'm_7373', 'rating': 3.0},\n",
       " {'user_id': 'u_312', 'movie_id': 'm_1396', 'rating': 3.0},\n",
       " {'user_id': 'u_451', 'movie_id': 'm_3996', 'rating': 5.0},\n",
       " {'user_id': 'u_19', 'movie_id': 'm_541', 'rating': 4.0},\n",
       " {'user_id': 'u_271', 'movie_id': 'm_1240', 'rating': 5.0},\n",
       " {'user_id': 'u_580', 'movie_id': 'm_2109', 'rating': 4.0},\n",
       " {'user_id': 'u_213', 'movie_id': 'm_1370', 'rating': 3.0},\n",
       " {'user_id': 'u_23', 'movie_id': 'm_1284', 'rating': 4.0},\n",
       " {'user_id': 'u_62', 'movie_id': 'm_8665', 'rating': 4.0},\n",
       " {'user_id': 'u_577', 'movie_id': 'm_1275', 'rating': 5.0},\n",
       " {'user_id': 'u_447', 'movie_id': 'm_364', 'rating': 3.0},\n",
       " {'user_id': 'u_218', 'movie_id': 'm_442', 'rating': 3.0},\n",
       " {'user_id': 'u_533', 'movie_id': 'm_2968', 'rating': 3.0},\n",
       " ...]"
      ]
     },
     "execution_count": 4,
     "metadata": {},
     "output_type": "execute_result"
    }
   ],
   "execution_count": 4
  },
  {
   "cell_type": "code",
   "metadata": {
    "ExecuteTime": {
     "end_time": "2024-11-23T10:52:19.803997Z",
     "start_time": "2024-11-23T10:52:19.738813Z"
    }
   },
   "source": [
    "# wczytujemy metadane filmow\n",
    "def parse_movie_metadata(entry: List[str]):\n",
    "    movie_id, title, genres, production_countries, collection_name, release_year = entry\n",
    "    return Movie(f'm_{movie_id}', title, literal_eval(genres), literal_eval(production_countries), collection_name, release_year)\n",
    "\n",
    "def add_cast_to_movie(movie: Movie, entry: List[str]):\n",
    "    _movie_id, actors, directors, screenwriters, music_composers = entry\n",
    "    movie.add_cast(literal_eval(actors), literal_eval(directors), literal_eval(screenwriters), literal_eval(music_composers))\n",
    "\n",
    "with open('movies_graph/metadata.csv') as f:\n",
    "    reader = csv.reader(f)\n",
    "    header = next(reader)\n",
    "    movies = {f'm_{entry[0]}': parse_movie_metadata(entry) for entry in reader}\n",
    "\n",
    "with open('movies_graph/credits.csv') as f:\n",
    "    reader = csv.reader(f)\n",
    "    header = next(reader)\n",
    "    for entry in reader:\n",
    "        movie_id = f'm_{entry[0]}'\n",
    "        add_cast_to_movie(movies[movie_id], entry)\n",
    "\n",
    "movies"
   ],
   "outputs": [
    {
     "data": {
      "text/plain": [
       "{'m_949': {'movie_id': 'm_949', 'title': 'Heat', 'genres': ['Action', 'Crime', 'Drama', 'Thriller'], 'production_countries': ['US'], 'collection_name': '', 'release_year': '1995', 'actors': ['Al Pacino', 'Robert De Niro', 'Val Kilmer', 'Jon Voight', 'Tom Sizemore', 'Diane Venora', 'Amy Brenneman', 'Ashley Judd', 'Mykelti Williamson', 'Natalie Portman', 'Ted Levine', 'Tom Noonan', 'Tone Loc', 'Hank Azaria', 'Wes Studi', 'Dennis Haysbert', 'Danny Trejo', 'Henry Rollins', 'William Fichtner', 'Kevin Gage', 'Susan Traylor', 'Jerry Trimble', 'Ricky Harris', 'Jeremy Piven', 'Xander Berkeley', 'Begonya Plaza', 'Rick Avery', 'Hazelle Goodman', 'Ray Buktenica', 'Max Daniels', 'Vince Deadrick Jr.', 'Steven Ford', 'Farrah Forke', 'Patricia Healy', 'Paul Herman', 'Cindy Katz', 'Brian Libby', 'Dan Martin', 'Mario Roberts', 'Thomas Rosales, Jr.', 'Yvonne Zima', 'Mick Gould', 'Bud Cort', 'Viviane Vives', 'Kim Staunton', 'Martin Ferrero', 'Brad Baldridge', 'Andrew Camuccio', 'Kenny Endoso', 'Kimberly Flynn', 'Niki Harris', 'Bill McIntosh', 'Rick Marzan', 'Terry Miller', \"Daniel O'Haco\", 'Kai Soremekun', 'Peter Blackwell', 'Trevor Coppola', 'Mary Kircher', 'Darin Mangan', 'Robert Miranda', 'Manny Perry', 'Iva Franks Singer', 'Tim Werner', 'Philip Ettington'], 'directors': ['Michael Mann'], 'screenwriters': ['Elliot Goldenthal'], 'music_composers': ['Michael Mann']},\n",
       " 'm_1408': {'movie_id': 'm_1408', 'title': 'Cutthroat Island', 'genres': ['Action', 'Adventure'], 'production_countries': ['FR', 'DE', 'IT', 'US'], 'collection_name': '', 'release_year': '1995', 'actors': ['Geena Davis', 'Matthew Modine', 'Frank Langella', 'Maury Chaykin', 'Patrick Malahide', 'Stan Shaw', 'Rex Linn', 'Paul Dillon', 'Christopher Masterson', 'Jimmie F. Skaggs', 'Harris Yulin', 'Carl Chase', 'Peter Geeves', 'Angus Wright', 'Ken Bones', 'Mary Peach', 'Thomas Lockyer', 'Roger Booth', 'George Murcell', 'Simon Atherton', 'Dickey Beer', 'Christopher Halliday', 'Chris Johnston', 'Richard Leaf', 'Tam White', 'Rupert Vansittart', 'Nick Bartlett', 'David Bailie', 'Kwame Kwei-Armah', 'Ramon Tikaram', 'Christopher Adamson'], 'directors': ['Renny Harlin'], 'screenwriters': [], 'music_composers': ['Marc Norman', 'Robert King']},\n",
       " 'm_524': {'movie_id': 'm_524', 'title': 'Casino', 'genres': ['Drama', 'Crime'], 'production_countries': ['FR', 'US'], 'collection_name': '', 'release_year': '1995', 'actors': ['Robert De Niro', 'Sharon Stone', 'Joe Pesci', 'James Woods', 'Don Rickles', 'Alan King', 'Kevin Pollak', 'Pasquale Cajano', 'L.Q. Jones', 'Dick Smothers', 'Frank Vincent', 'Oscar Goodman', 'Richard Riehle', 'Catherine Scorsese', 'Vinny Vella', 'Nobu Matsuhisa', 'Erika von Tagen', 'Nick Mazzola', 'David Rose', 'John Bloom', 'Joseph Rigano', 'Philip Suriano', 'Melissa Prophet', 'Bill Allison', 'Joe La Due', 'Joseph P. Reidy', 'Craig Vincent', 'Carl Ciarfalio', 'Gene Ruffini', 'Dominick Grieco', 'Clem Caserta', 'Daniel P. Conte', 'Joey DePinto', 'Jack Orend', 'Paul Herman', 'Jed Mills', 'Claudia Haro', 'Ffolliott Le Coque', 'John Manca', 'Ronald Maccone', 'Joseph Bono', 'Frank Adonis', 'Anthony Russell', 'Stuart Nisbet', 'Alfred Nittoli'], 'directors': ['Martin Scorsese'], 'screenwriters': [], 'music_composers': ['Martin Scorsese', 'Nicholas Pileggi']},\n",
       " 'm_5': {'movie_id': 'm_5', 'title': 'Four Rooms', 'genres': ['Crime', 'Comedy'], 'production_countries': ['US'], 'collection_name': '', 'release_year': '1995', 'actors': ['Tim Roth', 'Antonio Banderas', 'Jennifer Beals', 'Madonna', 'Marisa Tomei', 'Bruce Willis', 'Quentin Tarantino', 'Sammi Davis', 'Amanda de Cadenet', 'Valeria Golino', 'Lili Taylor', 'Lawrence Bender', 'Ione Skye', 'Alicia Witt', 'David Proval', 'Lana McKissack', 'Tamlyn Tomita', 'Kathy Griffin', 'Paul Calderon', 'Salma Hayek', 'Patricia Vonne', 'Danny Verduzco', 'Kimberly Blair', 'Marc Lawrence'], 'directors': ['Allison Anders', 'Alexandre Rockwell', 'Robert Rodriguez', 'Quentin Tarantino'], 'screenwriters': ['Combustible Edison'], 'music_composers': []},\n",
       " 'm_902': {'movie_id': 'm_902', 'title': 'La Cité des Enfants Perdus', 'genres': ['Fantasy', 'Science Fiction', 'Adventure'], 'production_countries': ['FR', 'DE', 'ES'], 'collection_name': '', 'release_year': '1995', 'actors': ['Ron Perlman', 'Dominique Pinon', 'Judith Vittet', 'Daniel Emilfork', 'Jean-Claude Dreyfus', 'Geneviève Brunet', 'Odile Mallet', 'Mireille Mossé', 'Serge Merlin', 'Rufus', 'Ticky Holgado', 'Cris Huerta', 'Jean-Louis Trintignant', 'Joseph Lucien', 'Mapi Galán', 'Briac Barthélémy', 'Pierre-Quentin Faesch', 'Alexis Pivot', 'François Hadji-Lazaro', 'Dominique Bettenfeld', 'Lotfi Yahya Jedidi', 'Thierry Gibault', 'Marc Caro', 'Ham-Chau Luong', 'Frankie Pain', 'Enrique Villanueva', 'Dominique Chevalier', 'Lorella Cravotta', 'Éric Houzelot', 'Philippe Beautier', 'Marc Amyot', 'Jean-Philippe Labadie', 'Raphaèle Bouchard', 'Elisabeth Etienne', 'Rachel Boulenger', 'Michel Motu', 'Nane Germon'], 'directors': ['Jean-Pierre Jeunet', 'Marc Caro'], 'screenwriters': ['Angelo Badalamenti'], 'music_composers': ['Jean-Pierre Jeunet', 'Marc Caro', 'Gilles Adrien']},\n",
       " 'm_2054': {'movie_id': 'm_2054', 'title': \"Mr. Holland's Opus\", 'genres': ['Music', 'Drama', 'Family'], 'production_countries': ['US'], 'collection_name': '', 'release_year': '1995', 'actors': ['Richard Dreyfuss', 'Glenne Headly', 'Jay Thomas', 'Olympia Dukakis', 'William H. Macy', 'Alicia Witt', 'Nicholas John Renner', 'Joseph Anderson', 'Anthony Natale', 'Jean Louisa Kelly', 'Terrence Howard', 'Damon Whitaker', 'Alexandra Boyd', 'Joanna Gleason', 'Beth Maitland', 'Joshua Minnick'], 'directors': ['Stephen Herek'], 'screenwriters': ['Michael Kamen'], 'music_composers': ['Patrick Sheane Duncan']},\n",
       " 'm_880': {'movie_id': 'm_880', 'title': 'Antonia', 'genres': ['Drama', 'Comedy'], 'production_countries': ['NL', 'GB', 'BE'], 'collection_name': '', 'release_year': '1995', 'actors': ['Willeke van Ammelrooy', 'Els Dottermans', 'Dora van der Groen', 'Veerle van Overloop', 'Esther Vriesendorp', 'Arne Bang-Hansen', 'Thyrza Ravesteijn', 'Mil Seghers', 'Jan Decleir', 'Elsie de Brauw', 'Reinout Bussemaker', 'Marina de Graaf', 'Wimie Wilhelm', 'Fran Waller Zeper'], 'directors': ['Marleen Gorris'], 'screenwriters': [], 'music_composers': ['Marleen Gorris']},\n",
       " 'm_1873': {'movie_id': 'm_1873', 'title': 'Beyond Rangoon', 'genres': ['Drama', 'Thriller'], 'production_countries': [], 'collection_name': '', 'release_year': '1995', 'actors': ['Patricia Arquette', 'Frances McDormand', 'U Aung Ko', 'Spalding Gray', 'Tiara Jacquelina', 'Ann Howard', 'Victor Slezak', 'Ye Myint', 'Cho Cho Myint', 'Michael Pickells', 'Enzo Rossi', 'Kuswadinath Bujang', 'Johnny Cheah', 'M.Rajoli'], 'directors': ['John Boorman'], 'screenwriters': ['Hans Zimmer'], 'music_composers': ['Alex Lasker', 'Bill Rubenstein']},\n",
       " 'm_281': {'movie_id': 'm_281', 'title': 'Strange Days', 'genres': ['Crime', 'Drama', 'Science Fiction', 'Thriller'], 'production_countries': ['US'], 'collection_name': '', 'release_year': '1995', 'actors': ['Ralph Fiennes', 'Angela Bassett', 'Tom Sizemore', 'Juliette Lewis', \"Vincent D'Onofrio\", 'William Fichtner', 'Michael Wincott', 'Glenn Plummer', 'Brigitte Bako', 'Kelly Hu', 'Richard Edson', 'Josef Sommer', 'Joe Urla', 'Michael Jace'], 'directors': ['Kathryn Bigelow'], 'screenwriters': ['Graeme Revell'], 'music_composers': ['James Cameron', 'Jay Cocks']},\n",
       " 'm_3512': {'movie_id': 'm_3512', 'title': 'Under Siege 2: Dark Territory', 'genres': ['Action', 'Thriller'], 'production_countries': ['US'], 'collection_name': 'Under Siege Collection', 'release_year': '1995', 'actors': ['Steven Seagal', 'Eric Bogosian', 'Everett McGill', 'Katherine Heigl', 'Моррис Честнат', 'Peter Greene', 'Patrick Kilpatrick', 'Scott Sowers', 'Afifi Alaouie', 'Andy Romano', 'Brenda Bakke', 'Sandra Taylor'], 'directors': ['Geoff Murphy'], 'screenwriters': ['Basil Poledouris'], 'music_composers': ['Richard Hatem', 'Matt Reeves']},\n",
       " 'm_76': {'movie_id': 'm_76', 'title': 'Before Sunrise', 'genres': ['Drama', 'Romance'], 'production_countries': ['AT', 'CH', 'US'], 'collection_name': 'Before... Collection', 'release_year': '1995', 'actors': ['Ethan Hawke', 'Julie Delpy', 'Andrea Eckert', 'Hanno Pöschl', 'Karl Bruckschwaiger', 'Tex Rubinowitz', 'Erni Mangold', 'Dominik Castell', 'Haymon Maria Buttinger', 'Harold Waiglein', 'Bilge Jeschim', 'Kurti', 'Hans Weingartner', 'Liese Lyon', 'Peter Ily Huemer', 'Otto Reiter', 'Hubert Fabian Kulterer', 'Branko Andric', 'Constanze Schweiger', 'John Sloss', 'Alexandra Seibel', 'Georg Schöllhammer', 'Christian Ankowitsch', 'Wilbirg Reiter', 'Barbara Klebel', 'Wolfgang Staribacher', 'Wolfgang Glüxam'], 'directors': ['Richard Linklater'], 'screenwriters': ['Fred Frith'], 'music_composers': ['Richard Linklater', 'Kim Krizan']},\n",
       " 'm_1909': {'movie_id': 'm_1909', 'title': 'Don Juan DeMarco', 'genres': ['Romance', 'Drama', 'Comedy'], 'production_countries': ['US'], 'collection_name': '', 'release_year': '1994', 'actors': ['Johnny Depp', 'Marlon Brando', 'Faye Dunaway', 'Géraldine Pailhas', 'Bob Dishy', 'Rachel Ticotin', 'Talisa Soto', 'Stephen Singer', 'Джо Чампа', 'Marita Geraghty', 'Richard C. Sarafian', 'Tresa Hughes', 'Carmen Argenziano'], 'directors': ['Jeremy Leven'], 'screenwriters': ['Michael Kamen', 'Robert John Lange'], 'music_composers': ['Jeremy Leven']},\n",
       " 'm_8984': {'movie_id': 'm_8984', 'title': 'Disclosure', 'genres': ['Drama', 'Thriller', 'Crime', 'Mystery', 'Romance'], 'production_countries': ['US'], 'collection_name': '', 'release_year': '1994', 'actors': ['Michael Douglas', 'Demi Moore', 'Donald Sutherland', 'Dylan Baker', 'Jacqueline Kim', 'Roma Maffia', 'Caroline Goodall', 'Rosemary Forsyth', 'Dennis Miller', 'Suzie Plakson', 'Nicholas Sadler', 'Donal Logue'], 'directors': ['Barry Levinson'], 'screenwriters': [], 'music_composers': ['Paul Attanasio']},\n",
       " 'm_628': {'movie_id': 'm_628', 'title': 'Interview with the Vampire', 'genres': ['Horror', 'Romance'], 'production_countries': ['US'], 'collection_name': 'The Vampire Chronicles', 'release_year': '1994', 'actors': ['Brad Pitt', 'Tom Cruise', 'Kirsten Dunst', 'Antonio Banderas', 'Christian Slater', 'Stephen Rea', 'Thandie Newton', 'Domiziana Giordano', 'Sara Stockbridge', 'Indra Ové', 'Laure Marsac', 'Andrew Tiernan', 'Bellina Logan', 'George Kelly', 'Helen McCrory'], 'directors': ['Neil Jordan'], 'screenwriters': ['Elliot Goldenthal'], 'music_composers': ['Anne Rice']},\n",
       " 'm_11': {'movie_id': 'm_11', 'title': 'Star Wars', 'genres': ['Adventure', 'Action', 'Science Fiction'], 'production_countries': ['US'], 'collection_name': 'Star Wars Collection', 'release_year': '1977', 'actors': ['Mark Hamill', 'Harrison Ford', 'Carrie Fisher', 'Peter Cushing', 'Alec Guinness', 'Anthony Daniels', 'Kenny Baker', 'Peter Mayhew', 'David Prowse', 'James Earl Jones', 'Phil Brown', 'Shelagh Fraser', 'Jack Purvis', 'Eddie Byrne', 'Denis Lawson', 'Garrick Hagon', 'Don Henderson', 'Leslie Schofield', 'Richard LeParmentier', 'Michael Leader', 'Alex McCrindle', 'Drewe Henley', 'Jack Klaff', 'William Hootkins', 'Angus MacInnes', 'Jeremy Sinden', 'Graham Ashley', 'David Ankrum', 'Mark Austin', 'Scott Beach', 'Lightning Bear', 'Jon Berg', 'Doug Beswick', 'Paul Blake', 'Janice Burchette', 'Ted Burnett', 'John Chapman', 'Gilda Cohen', 'Tim Condren', 'Barry Copping', 'Alfie Curtis', 'Robert Davies', 'Maria De Aragon', 'Robert A. Denham', 'Frazer Diamond', 'Peter Diamond', 'Warwick Diamond', 'Sadie Eden', 'Kim Falkinburg', 'Harry Fielder', 'Ted Gagliano', 'Salo Gardner', 'Steve Gawley', 'Barry Gnome', 'Rusty Goffe', 'Isaac Grand', 'Nelson Hall', 'Reg Harding', 'Alan Harris', 'Frank Henson', 'Christine Hewett', 'Arthur Howell', 'Tommy Ilsley', 'Joe Johnston', 'Annette Jones', 'Linda Jones', 'Joe Kaye', 'Colin Michael Kitchens', 'Melissa Kurtz', 'Tiffany L. Kurtz', 'Al Lampert', 'Anthony Lang', 'Laine Liska', 'Derek Lyons', 'Mahjoub', 'Alf Mangan', 'Rick McCallum', 'Grant McCune', 'Geoffrey Moon', 'Mandy Morton', 'Lorne Peterson', 'Marcus Powell', 'Shane Rimmer', 'Pam Rose', 'George Roubicek', 'Erica Simmons', 'Angela Staines', 'George Stock', 'Roy Straite', 'Peter Sturgeon', 'Peter Sumner', 'John Sylla', 'Tom Sylla', 'Malcolm Tierney', 'Phil Tippett', 'Burnell Tucker', 'Morgan Upton', 'Jerry Walter', 'Hal Wamsley', 'Larry Ward', 'Diana Sadley Way', 'Harold Weed', 'Bill Weston', \"Steve 'Spaz' Williams\", 'Fred Wood', 'Colin Higgins'], 'directors': ['George Lucas'], 'screenwriters': ['John Williams'], 'music_composers': []},\n",
       " 'm_1945': {'movie_id': 'm_1945', 'title': 'Nell', 'genres': ['Drama', 'Thriller'], 'production_countries': ['US'], 'collection_name': '', 'release_year': '1994', 'actors': ['Jodie Foster', 'Liam Neeson', 'Natasha Richardson', 'Richard Libertini', 'Robin Mullins', 'Nick Searcy', 'Jeremy Davies', \"O'Neal Compton\", 'Joe Inscoe', 'Stephanie Dawn Wood', 'Heather M. Bomba', 'Marianne E. Bomba', 'Sean Bridgers', 'Mary Lynn Riner', 'Lucile McIntyre', 'Al Wiggins', 'Beth Bostic', 'Rob Buren III', 'Chris T. Hill', 'Tim Mehaffey', 'Dana Stevens', 'Nicole Adair', 'Robin Rochelle', 'Susan Correll Hickerson', 'Marlon Jackson', 'Danny Millsaps'], 'directors': ['Michael Apted'], 'screenwriters': ['Mark Isham'], 'music_composers': ['William Nicholson', 'Mark Handley']},\n",
       " 'm_527': {'movie_id': 'm_527', 'title': 'Once Were Warriors', 'genres': ['Drama'], 'production_countries': ['NZ'], 'collection_name': 'Once were Warriors Collection', 'release_year': '1994', 'actors': ['Rena Owen', 'Temuera Morrison', 'Mamaengaroa Kerr-Bell', 'Julian Arahanga', 'Taungaroa Emile', 'Rachael Morris Jr.', 'Joseph Kairau', 'Cliff Curtis', 'Pete Smith', 'George Henare', 'Mere Boynton', 'Shannon Williams', 'Calvin Tuteao', 'Ray Bishop', 'Ian Mune', 'Robert Pollock'], 'directors': ['Lee Tamahori'], 'screenwriters': ['Murray Grindlay', 'Murray McNabb'], 'music_composers': ['Riwia Brown']},\n",
       " 'm_101': {'movie_id': 'm_101', 'title': 'Léon', 'genres': ['Thriller', 'Crime', 'Drama'], 'production_countries': ['FR', 'US'], 'collection_name': '', 'release_year': '1994', 'actors': ['Jean Reno', 'Natalie Portman', 'Gary Oldman', 'Danny Aiello', 'Peter Appel', 'Michael Badalucco', 'Ellen Greene', 'Elizabeth Regen', 'Carl J. Matusovich', 'Eric Challier', 'Willi One Blood', 'Don Creech', 'Keith A. Glascoe', 'Jernard Burks', 'Matt De Matt', 'Frank Senger', 'Stuart Rudin', \"Lucius Wyatt 'Cherokee'\", 'Maïwenn', 'Luc Bernard', 'Joseph Malerba', 'Adam Busch', 'Jessie Keosian', 'George Martin', 'Alex Dezen', 'Kent Broadhurst', 'Tommy Hollis', 'Peter Linari', 'Arsène Jiroyan', 'Geoffrey Bateman', 'Samy Naceri', 'Michel Montanary', 'Marc Andréoni', 'Gilles Kleber', 'Christophe Gautier', 'Junior Almeida', 'David Gregg', 'Didier Legros', 'Hervé Husson'], 'directors': ['Luc Besson'], 'screenwriters': ['Eric Serra'], 'music_composers': ['Luc Besson']},\n",
       " 'm_110': {'movie_id': 'm_110', 'title': 'Trois couleurs : Rouge', 'genres': ['Drama', 'Mystery', 'Romance'], 'production_countries': ['FR', 'PL', 'CH'], 'collection_name': 'Three Colors Collection', 'release_year': '1994', 'actors': ['Irène Jacob', 'Jean-Louis Trintignant', 'Jean-Pierre Lorit', 'Frédérique Feder', 'Samuel Le Bihan', 'Marion Stalens', 'Zbigniew Zamachowski', 'Juliette Binoche', 'Julie Delpy', 'Benoît Régent'], 'directors': ['Krzysztof Kieślowski'], 'screenwriters': ['Zbigniew Preisner', 'Bertrand Lenclos'], 'music_composers': ['Krzysztof Kieślowski', 'Krzysztof Piesiewicz']},\n",
       " 'm_193': {'movie_id': 'm_193', 'title': 'Star Trek: Generations', 'genres': ['Science Fiction', 'Action', 'Adventure', 'Thriller'], 'production_countries': ['US'], 'collection_name': 'Star Trek: The Next Generation Collection', 'release_year': '1994', 'actors': ['Patrick Stewart', 'Jonathan Frakes', 'Brent Spiner', 'LeVar Burton', 'Michael Dorn', 'Gates McFadden', 'Marina Sirtis', 'William Shatner', 'James Doohan', 'Walter Koenig', 'Malcolm McDowell', 'Alan Ruck', 'Whoopi Goldberg', 'Thomas Dekker', 'Cameron Oppenheimer', 'Jenette Goldstein', 'Tim Russ'], 'directors': ['David Carson'], 'screenwriters': ['Dennis McCarthy'], 'music_composers': ['Ronald D. Moore', 'Brannon Braga']},\n",
       " 'm_1587': {'movie_id': 'm_1587', 'title': \"What's Eating Gilbert Grape\", 'genres': ['Romance', 'Drama'], 'production_countries': ['US'], 'collection_name': '', 'release_year': '1993', 'actors': ['Johnny Depp', 'Leonardo DiCaprio', 'Juliette Lewis', 'Darlene Cates', 'Mary Steenburgen', 'Laura Harrington', 'Mary Kate Schellhardt', 'John C. Reilly', 'Kevin Tighe', 'Crispin Glover', 'Robert B. Hedges', 'George Haynes', 'Cameron Finley', 'Mona Lee Fultz', 'Penelope Branning', 'Kay Bower', 'Tim Simek', 'Joe Stevens', 'Tim Green', 'Susan Loughran', 'Brady Coleman', 'Mark Jordan', 'Nicholas Stojanovich', 'Daniel Gullahorn', 'Libby Villari'], 'directors': ['Lasse Hallström'], 'screenwriters': [], 'music_composers': ['Peter Hedges']},\n",
       " 'm_2064': {'movie_id': 'm_2064', 'title': 'While You Were Sleeping', 'genres': ['Comedy', 'Drama', 'Romance'], 'production_countries': ['US'], 'collection_name': '', 'release_year': '1995', 'actors': ['Sandra Bullock', 'Bill Pullman', 'Peter Gallagher', 'Peter Boyle', 'Jack Warden', 'Glynis Johns', 'Micole Mercurio', 'Monica Keena', 'Susan Messing', 'Marcia Wright'], 'directors': ['Jon Turteltaub'], 'screenwriters': ['Randy Edelman'], 'music_composers': ['Daniel G. Sullivan', 'Fredric LeBow']},\n",
       " 'm_236': {'movie_id': 'm_236', 'title': \"Muriel's Wedding\", 'genres': ['Drama', 'Comedy', 'Romance'], 'production_countries': ['AU', 'FR'], 'collection_name': '', 'release_year': '1994', 'actors': ['Toni Collette', 'Bill Hunter', 'Rachel Griffiths', 'Sophie Lee', 'Roz Hammond', 'Belinda Jarrett', 'Pippa Grandison', 'Jeanie Drynan', 'Daniel Wyllie', 'Gabby Millgate', 'Gennie Nevinson', 'Matt Day', 'Chris Haywood', 'Daniel Lapaine'], 'directors': ['P.J. Hogan'], 'screenwriters': ['Peter Best'], 'music_composers': []},\n",
       " 'm_2759': {'movie_id': 'm_2759', 'title': 'The Adventures of Priscilla, Queen of the Desert', 'genres': ['Drama', 'Comedy'], 'production_countries': ['AU'], 'collection_name': '', 'release_year': '1994', 'actors': ['Terence Stamp', 'Hugo Weaving', 'Guy Pearce', 'Bill Hunter', 'Sarah Chadwick', 'June Marie Bennett'], 'directors': ['Stephan Elliott'], 'screenwriters': ['Guy Gross'], 'music_composers': ['Stephan Elliott']},\n",
       " 'm_1689': {'movie_id': 'm_1689', 'title': 'Little Buddha', 'genres': ['Drama', 'History'], 'production_countries': ['FR', 'IT', 'LI', 'GB'], 'collection_name': '', 'release_year': '1993', 'actors': ['Keanu Reeves', 'Bridget Fonda', 'Chris Isaak', 'Ruocheng Ying', 'Alex Wiesendanger', 'Raju Lal', 'Greishma Makar Sing', 'Sogyal Rinpoche', 'Khyongla Rato Rinpoche', 'Geshe Tsultim Gyelsen', 'Джо Чампа', 'Jigme Kunsang'], 'directors': ['Bernardo Bertolucci'], 'screenwriters': ['Ryuichi Sakamoto'], 'music_composers': []},\n",
       " 'm_2788': {'movie_id': 'm_2788', 'title': 'Reality Bites', 'genres': ['Drama'], 'production_countries': ['US'], 'collection_name': '', 'release_year': '1994', 'actors': ['Winona Ryder', 'Ben Stiller', 'Janeane Garofalo', 'Steve Zahn', 'Ethan Hawke', 'Swoosie Kurtz', 'Joe Don Baker', 'John Mahoney', 'Anne Meara', \"Harry O'Reilly\", 'Barry Del Sherman', 'Keith David', 'Renée Zellweger', 'Susan Norfleet', 'James Rothenberg', 'Eric Morgan Stuart', 'Chelsea Lagos'], 'directors': ['Ben Stiller'], 'screenwriters': [], 'music_composers': ['Helen Childress']},\n",
       " 'm_315': {'movie_id': 'm_315', 'title': 'Faster, Pussycat! Kill! Kill!', 'genres': ['Action', 'Crime'], 'production_countries': ['US'], 'collection_name': '', 'release_year': '1965', 'actors': ['Tura Satana', 'Haji', 'Lori Williams', 'Sue Bernard', 'Stuart Lancaster', 'Paul Trinka', 'Dennis Busch', 'Ray Barlow', 'John Furlong', 'Michael Finn'], 'directors': ['Russ Meyer'], 'screenwriters': ['Paul Sawtell', 'Bert Shefter'], 'music_composers': ['Russ Meyer', 'Jack Moran']},\n",
       " 'm_306': {'movie_id': 'm_306', 'title': 'Beverly Hills Cop III', 'genres': ['Action', 'Comedy', 'Crime'], 'production_countries': ['US'], 'collection_name': 'Beverly Hills Cop Collection', 'release_year': '1994', 'actors': ['Eddie Murphy', 'Judge Reinhold', 'Héctor Elizondo', 'Gilbert R. Hill', 'Timothy Carhart', 'Bronson Pinchot', 'Stephen McHattie', 'Theresa Randle', 'John Saxon', 'Jon Tenney', 'Joey Travolta', 'Eugene Collier', 'Jimmy Ortega', 'Ousaun Elam', 'Ray Lykins', 'Tim Gilbert', 'Julie Strain', 'Heather Elizabeth Parkhurst', 'Joe Dante', 'Ray Harryhausen', 'Arthur Hiller', 'George Lucas', 'Peter Medak'], 'directors': ['John Landis'], 'screenwriters': ['Nile Rodgers'], 'music_composers': ['Danilo Bach', 'Daniel Petrie, Jr.']},\n",
       " 'm_2124': {'movie_id': 'm_2124', 'title': 'Color of Night', 'genres': ['Drama', 'Mystery', 'Romance', 'Thriller'], 'production_countries': ['US'], 'collection_name': '', 'release_year': '1994', 'actors': ['Bruce Willis', 'Jane March', 'Rubén Blades', 'Lesley Ann Warren', 'Scott Bakula', 'Brad Dourif', 'Lance Henriksen', \"Kevin J. O'Connor\", 'Andrew Lowery', 'Eriq La Salle', 'Jeff Corey', 'Kathleen Wilhoite', 'Shirley Knight', 'John Bower', 'Avi Korein'], 'directors': ['Richard Rush'], 'screenwriters': ['Dominic Frontiere'], 'music_composers': ['Billy Ray', 'Matthew Chapman']},\n",
       " 'm_2087': {'movie_id': 'm_2087', 'title': 'The Getaway', 'genres': ['Drama', 'Action', 'Thriller'], 'production_countries': ['JP', 'US'], 'collection_name': '', 'release_year': '1994', 'actors': ['Alec Baldwin', 'Kim Basinger', 'Michael Madsen', 'James Woods', 'David Morse', 'Jennifer Tilly', 'James Stephens', 'Philip Seymour Hoffman', 'Richard Farnsworth', 'Burton Gilliam', 'Elske McCain'], 'directors': ['Roger Donaldson'], 'screenwriters': ['Mark Isham'], 'music_composers': ['Walter Hill', 'Amy Holden Jones']},\n",
       " 'm_2019': {'movie_id': 'm_2019', 'title': 'Hard Target', 'genres': ['Action', 'Adventure', 'Crime', 'Thriller'], 'production_countries': ['US'], 'collection_name': 'Hard Target Collection', 'release_year': '1993', 'actors': ['Jean-Claude Van Damme', 'Arnold Vosloo', 'Lance Henriksen', 'Yancy Butler', 'Sven-Ole Thorsen', 'Wilford Brimley', 'Ted Raimi', 'Kasi Lemmons', 'Willie C. Carpenter', 'Eliott Keener', 'Chuck Pfarrer', 'Robert Apisa', 'Douglas Forsythe Rye', 'Mike Leinert', 'Lenore Banks', 'Barbara Tasker'], 'directors': ['John Woo'], 'screenwriters': ['Graeme Revell', 'Tim Simonec'], 'music_composers': ['Chuck Pfarrer']},\n",
       " 'm_2259': {'movie_id': 'm_2259', 'title': 'The House of the Spirits', 'genres': ['Romance', 'Drama'], 'production_countries': ['DK', 'FR', 'DE', 'PT', 'US'], 'collection_name': '', 'release_year': '1993', 'actors': ['Meryl Streep', 'Glenn Close', 'Jeremy Irons', 'Winona Ryder', 'Antonio Banderas', 'Armin Mueller-Stahl', 'Vanessa Redgrave', 'María Conchita Alonso', 'Jan Niklas', 'Vincent Gallo', 'Grace Gummer', 'Fran Fullenwider', 'Pedro Efe', 'Miguel Guilherme', 'José Mora Ramos', 'Anabela Teixeira'], 'directors': ['Bille August'], 'screenwriters': ['Hans Zimmer'], 'music_composers': ['Bille August']},\n",
       " 'm_6': {'movie_id': 'm_6', 'title': 'Judgment Night', 'genres': ['Action', 'Thriller', 'Crime'], 'production_countries': ['JP', 'US'], 'collection_name': '', 'release_year': '1993', 'actors': ['Emilio Estevez', 'Cuba Gooding Jr.', 'Denis Leary', 'Jeremy Piven', 'Peter Greene', 'Michael DeLorenzo', 'Everlast', 'Michael Wiseman', 'Relioues Webb', 'Eugene Williams', 'Christine Harnos', 'Galyn Görg', 'Angela Alvarado', 'Stephen Dorff', 'Will Zahrn'], 'directors': ['Stephen Hopkins'], 'screenwriters': ['Alan Silvestri'], 'music_composers': ['Lewis Colick']},\n",
       " 'm_329': {'movie_id': 'm_329', 'title': 'Jurassic Park', 'genres': ['Adventure', 'Science Fiction'], 'production_countries': ['US'], 'collection_name': 'Jurassic Park Collection', 'release_year': '1993', 'actors': ['Sam Neill', 'Laura Dern', 'Jeff Goldblum', 'Richard Attenborough', 'Bob Peck', 'Martin Ferrero', 'BD Wong', 'Joseph Mazzello', 'Ariana Richards', 'Samuel L. Jackson', 'Wayne Knight', 'Gerald R. Molen', 'Miguel Sandoval', 'Cameron Thor', 'Christopher John Fields', 'Whit Hertford', 'Dean Cundey', 'Jophery C. Brown', 'Tom Mishler', 'Greg Burson', 'Adrian Escober', 'Richard Kiley', 'Brad M. Bucklin', 'Laura Burnett', 'Gary Rodriguez', 'Brian Smrz', \"Robert 'Bobby Z' Zajonc\"], 'directors': ['Steven Spielberg'], 'screenwriters': ['John Williams'], 'music_composers': ['Michael Crichton', 'David Koepp']},\n",
       " 'm_507': {'movie_id': 'm_507', 'title': 'Killing Zoe', 'genres': ['Action', 'Crime', 'Drama', 'Thriller'], 'production_countries': ['FR', 'US'], 'collection_name': '', 'release_year': '1993', 'actors': ['Eric Stoltz', 'Julie Delpy', 'Jean-Hugues Anglade', 'Tai Thai', 'Bruce Ramsay', 'Kario Salem', 'Salvator Xuereb', 'Gary Kemp', 'Martin Raymond', 'Eric Pascal Chaltiel', 'Cecilia Peck'], 'directors': ['Roger Avary'], 'screenwriters': [], 'music_composers': []},\n",
       " 'm_788': {'movie_id': 'm_788', 'title': 'Mrs. Doubtfire', 'genres': ['Comedy', 'Drama', 'Family'], 'production_countries': ['US'], 'collection_name': '', 'release_year': '1993', 'actors': ['Robin Williams', 'Sally Field', 'Pierce Brosnan', 'Harvey Fierstein', 'Polly Holliday', 'Lisa Jakub', 'Matthew Lawrence', 'Mara Wilson', 'Robert Prosky', 'Anne Haney', 'Scott Capurro', 'Sydney Walker', 'Martin Mull', 'Terence McGovern', 'Karen Kahn', 'Eva Gholson', 'James Cunningham', 'Ralph Peduto', 'Scott Beach', 'Juliette Marshall', 'Drew Letchworth', 'Jessica Myerson', 'Sharon Lockwood', 'Jim Cullen', 'Joe Bellan'], 'directors': ['Chris Columbus'], 'screenwriters': ['Howard Shore'], 'music_composers': ['Randi Mayem Singer', 'Leslie Dixon']},\n",
       " 'm_1245': {'movie_id': 'm_1245', 'title': 'The Remains of the Day', 'genres': ['Drama', 'Romance'], 'production_countries': ['GB', 'US'], 'collection_name': '', 'release_year': '1993', 'actors': ['Anthony Hopkins', 'Emma Thompson', 'James Fox', 'Christopher Reeve', 'Hugh Grant', 'Peter Vaughan', 'Ben Chaplin', 'Paula Jacobs', 'Patrick Godfrey', 'Michael Lonsdale', 'Rupert Vansittart', 'Tim Pigott-Smith', 'Lena Headey', 'Paul Copley', 'Peter Cellier', 'Brigitte Kahn', 'John Savident', 'Pip Torrens', 'Peter Eyre', 'Wolf Kahler', 'Abigail Hopkins', 'John Haycraft', 'Caroline Hunt', 'Steve Dibben', 'Terence Bayler', 'Peter Halliday', 'Jeffry Wickham', 'Tony Aitken', 'Christopher Brown', 'Ian Redford', 'Jo Kendall', 'Steven Beard', 'Miles Richardson'], 'directors': ['James Ivory'], 'screenwriters': ['Richard Robbins'], 'music_composers': ['Ruth Prawer Jhabvala']},\n",
       " 'm_2088': {'movie_id': 'm_2088', 'title': 'Romeo Is Bleeding', 'genres': ['Action', 'Crime', 'Drama', 'Thriller'], 'production_countries': ['GB', 'US'], 'collection_name': '', 'release_year': '1993', 'actors': ['Gary Oldman', 'Lena Olin', 'Annabella Sciorra', 'Juliette Lewis', 'Roy Scheider', 'David Proval', 'Will Patton', 'Larry Joshua', 'James Cromwell', 'Wallace Wood', 'Gene Canfield', 'William Duff-Griffin', 'Paul Butler', 'Tony Sirico', 'Michael Wincott', 'Dennis Farina', 'Ron Perlman'], 'directors': ['Peter Medak'], 'screenwriters': ['Mark Isham'], 'music_composers': ['Hilary Henkin']},\n",
       " 'm_858': {'movie_id': 'm_858', 'title': 'Sleepless in Seattle', 'genres': ['Comedy', 'Drama', 'Romance'], 'production_countries': ['US'], 'collection_name': '', 'release_year': '1993', 'actors': ['Tom Hanks', 'Meg Ryan', 'Bill Pullman', 'Ross Malinger', \"Rosie O'Donnell\", 'Gaby Hoffmann', 'Victor Garber', 'Rita Wilson', 'Barbara Garrick', 'Rob Reiner', 'Carey Lowell', 'David Hyde Pierce', 'Dana Ivey', 'Tom Riis Farrell', 'Le Clanché du Rand', \"Kevin O'Morrison\", 'Valerie Wright', 'Frances Conroy', 'Tom Tammi', 'Calvin Trillin', 'Caroline Aaron', 'Linda Wallem', 'Victor Morris'], 'directors': ['Nora Ephron'], 'screenwriters': ['Marc Shaiman'], 'music_composers': ['Nora Ephron', 'David S. Ward', 'Jeff Arch']},\n",
       " 'm_319': {'movie_id': 'm_319', 'title': 'True Romance', 'genres': ['Action', 'Thriller', 'Crime', 'Romance'], 'production_countries': ['US'], 'collection_name': '', 'release_year': '1993', 'actors': ['Christian Slater', 'Patricia Arquette', 'Michael Rapaport', 'Bronson Pinchot', 'Gary Oldman', 'Dennis Hopper', 'Christopher Walken', 'Brad Pitt', 'Tom Sizemore', 'Samuel L. Jackson', 'Saul Rubinek', 'James Gandolfini', 'Frank Adonis', 'Paul Bates', 'Val Kilmer', 'Chris Penn', 'Anna Levine', 'Eric Allan Kramer', 'Conchata Ferrell', 'Victor Argo', 'Said Faraj', 'Gregory Sporleder', 'Maria Pitillo', 'Kevin Corrigan', 'Paul Ben-Victor', 'Michael Beach', \"Joe D'Angerio\", 'John Bower', 'John Cenatiempo', 'Patrick John Hurley', 'Dennis Garber', 'Scott Evers', 'Hilary Klym', 'Steve Gonzales', 'Laurence Mason', 'David Dean', 'April Freeman', 'Ed Lauter', 'Enzo Rossi', 'Nancy Young'], 'directors': ['Tony Scott'], 'screenwriters': ['Hans Zimmer'], 'music_composers': ['Quentin Tarantino', 'Roger Avary']},\n",
       " 'm_280': {'movie_id': 'm_280', 'title': 'Terminator 2: Judgment Day', 'genres': ['Action', 'Thriller', 'Science Fiction'], 'production_countries': ['FR', 'US'], 'collection_name': 'The Terminator Collection', 'release_year': '1991', 'actors': ['Arnold Schwarzenegger', 'Linda Hamilton', 'Robert Patrick', 'Edward Furlong', 'Michael Edwards', 'Joe Morton', 'Earl Boen', 'Jenette Goldstein', 'Xander Berkeley', 'S. Epatha Merkerson', 'Castulo Guerra', 'Danny Cooksey', 'Sven-Ole Thorsen', 'DeVaughn Nixon', 'Ken Gibbel', 'Robert Winley', 'Pete Schrum', 'Don Lake', 'Richard Vidan', 'Jim Palmer', 'Don Stanton', 'Dan Stanton', 'Colin Patrick Lynch', 'Nikki Cox', 'Tony Simotes', 'Abdul Salaam El Razzac', 'Mike Muscat', 'Dean Norris', 'Charles A. Tamburro', 'Terrence Evans', 'Denney Pierce', 'Mark Christopher Lawrence', 'Van Ling', 'Gerard G. Williams', 'Martin DeLuca', 'Scott Shaw', 'Joel Kramer', 'Richard Ruskin', 'Randy Walker', 'William Wisher Jr.', 'Nancy Fish', 'Dalton Hamilton'], 'directors': ['James Cameron'], 'screenwriters': ['Brad Fiedel'], 'music_composers': []},\n",
       " 'm_581': {'movie_id': 'm_581', 'title': 'Dances with Wolves', 'genres': ['Adventure', 'Drama', 'Western'], 'production_countries': ['GB', 'US'], 'collection_name': '', 'release_year': '1990', 'actors': ['Kevin Costner', 'Mary McDonnell', 'Graham Greene', 'Rodney A. Grant', 'Floyd Red Crow Westerman', 'Tantoo Cardinal', 'Robert Pastorelli', 'Charles Rocket', 'Maury Chaykin', 'Jimmy Herman', 'Nathan Lee Chasing His Horse', 'Michael Spears', 'Jason R. Lone Hill', 'Tony Pierce', 'Doris Leader Charge', 'Tom Everett', 'Larry Joshua', 'Kirk Baltz', 'Wayne Grace', 'Donald Hotton', 'Annie Costner', 'Elisa Daniel', 'Percy White Plume', 'John Tail', 'Steve Reevis', 'Sheldon Peters Wolfchild', 'Wes Studi', 'Buffalo Child', 'Clayton Big Eagle', 'Richard Leader Charge', 'Redwing Ted Nez', 'Marvin Holy', 'Raymond Newholy', 'David J. Fuller', 'Ryan White Bull', 'Otakuye Conroy', 'Maretta Big Crow', 'Steven Chambers', 'William H. Burton Jr.', 'Bill W. Curry', 'Nick Thompson', 'Carter Hanner', 'Kent Hays', 'Robert Goldman', 'Frank P. Costanza', 'James A. Mitchell', 'R. L. Curtin', 'Justin', 'Teddy', 'Buck', 'Conor Duffy', 'R.L. Curtin', 'Michael Horton', 'J. Wesley Adams', 'Bill Costner', 'Jim Wilson', 'William Rossman'], 'directors': ['Kevin Costner'], 'screenwriters': ['John Barry'], 'music_composers': ['Michael Blake']},\n",
       " 'm_2021': {'movie_id': 'm_2021', 'title': 'Jack & Sarah', 'genres': ['Comedy', 'Drama', 'Romance'], 'production_countries': ['FR', 'GB'], 'collection_name': '', 'release_year': '1995', 'actors': ['Richard E. Grant', 'Samantha Mathis', 'Judi Dench', 'Eileen Atkins', 'Cherie Lunghi', 'Imogen Stubbs', 'David Swift', 'Kate Hardie', 'Laurent Grévill', 'Ian McKellen', 'Niven Boyd', 'Lorraine Ashbourne', 'Deborah Findlay', 'Tracy Thorne', 'Tracy Thorne', 'John Grillo', 'Claire Toeman', 'Geff Francis', 'Richard Leaf', 'Andrew Read'], 'directors': ['Tim Sullivan'], 'screenwriters': ['Simon Boswell'], 'music_composers': ['Tim Sullivan']},\n",
       " 'm_954': {'movie_id': 'm_954', 'title': 'Mission: Impossible', 'genres': ['Adventure', 'Action', 'Thriller'], 'production_countries': ['US'], 'collection_name': 'Mission: Impossible Collection', 'release_year': '1996', 'actors': ['Tom Cruise', 'Jon Voight', 'Emmanuelle Béart', 'Henry Czerny', 'Jean Reno', 'Ving Rhames', 'Kristin Scott Thomas', 'Vanessa Redgrave', 'Dale Dye', 'Marcel Iureș', 'Ion Caramitru', 'Ingeborga Dapkunaite', 'Valentina Yakunina', 'Marek Vašut', 'Nathan Osgood', 'Emilio Estevez', 'Michael Rogers', 'Keith Campbell', 'John McLaughlin', 'Karel Dobrý', 'Andreas Wisniewski', 'Ricco Ross', 'Mark Houghton', 'Annabel Mullion', 'Garrick Hagon', 'Olegar Fedoro', 'David Schneider', 'Helen Lindsay', 'John Knoll', 'Rolf Saxon'], 'directors': ['Brian De Palma'], 'screenwriters': ['Danny Elfman'], 'music_composers': ['David Koepp', 'Steven Zaillian', 'Robert Towne']},\n",
       " 'm_2300': {'movie_id': 'm_2300', 'title': 'Space Jam', 'genres': ['Animation', 'Comedy', 'Drama', 'Family', 'Fantasy'], 'production_countries': ['US'], 'collection_name': '', 'release_year': '1996', 'actors': ['Michael Jordan', 'Wayne Knight', 'Billy West', 'Dee Bradley Baker', 'Theresa Randle', 'Danny DeVito', 'Brandon Hammond', 'Larry Bird', 'Bill Murray', 'Charles Barkley', 'Patrick Ewing', 'Tyrone Bogues', 'Larry Johnson', 'Shawn Bradley', 'Ahmad Rashad', 'Del Harris', 'Vlade Divac', 'Cedric Ceballos', 'Jim Rome', 'Paul Westphal', 'Danny Ainge', 'Alonzo Mourning', 'A.C. Green', 'Charles Oakley', 'Derek Harper', 'Jeff Malone', 'Anthony Miller', 'Sharone Wright'], 'directors': ['Joe Pytka'], 'screenwriters': ['James Newton Howard'], 'music_composers': []},\n",
       " 'm_922': {'movie_id': 'm_922', 'title': 'Dead Man', 'genres': ['Drama', 'Fantasy', 'Western'], 'production_countries': ['DE', 'JP', 'US'], 'collection_name': '', 'release_year': '1995', 'actors': ['Johnny Depp', 'Gary Farmer', 'Crispin Glover', 'Lance Henriksen', 'Michael Wincott', 'Eugene Byrd', 'John Hurt', 'Robert Mitchum', 'Iggy Pop', 'Gabriel Byrne', 'Jared Harris', 'Mili Avital', 'Jimmie Ray Weeks', 'Mark Bringelson', 'John North', 'Alfred Molina', 'Billy Bob Thornton', 'Michelle Thrush'], 'directors': ['Jim Jarmusch'], 'screenwriters': ['Neil Young'], 'music_composers': ['Jim Jarmusch']},\n",
       " 'm_532': {'movie_id': 'm_532', 'title': 'A Close Shave', 'genres': ['Family', 'Animation', 'Comedy'], 'production_countries': ['GB'], 'collection_name': 'Wallace & Gromit Collection', 'release_year': '1995', 'actors': ['Peter Sallis', 'Anne Reid'], 'directors': ['Nick Park'], 'screenwriters': ['Julian Nott'], 'music_composers': []},\n",
       " 'm_1645': {'movie_id': 'm_1645', 'title': 'A Time to Kill', 'genres': ['Crime', 'Drama', 'Thriller'], 'production_countries': ['US'], 'collection_name': '', 'release_year': '1996', 'actors': ['Matthew McConaughey', 'Sandra Bullock', 'Samuel L. Jackson', 'Kevin Spacey', 'Oliver Platt', 'Charles S. Dutton', 'Brenda Fricker', 'Donald Sutherland', 'Kiefer Sutherland', 'Patrick McGoohan', 'Ashley Judd', \"Rae'Ven Larrymore Kelly\", 'Tonea Stewart', 'John Diehl', 'Chris Cooper', 'Nicky Katt', 'Doug Hutchison', 'Kurtwood Smith', 'Tim Parati', 'Beth Grant', 'Anthony Heald', 'M. Emmet Walsh', 'Octavia Spencer'], 'directors': ['Joel Schumacher'], 'screenwriters': ['Elliot Goldenthal'], 'music_composers': ['Akiva Goldsman']},\n",
       " 'm_549': {'movie_id': 'm_549', 'title': 'Basquiat', 'genres': ['Drama', 'History'], 'production_countries': ['US'], 'collection_name': '', 'release_year': '1996', 'actors': ['Jeffrey Wright', 'David Bowie', 'Dennis Hopper', 'Gary Oldman', 'Benicio del Toro', 'Claire Forlani', 'Michael Wincott', 'Parker Posey', 'Courtney Love', \"Tatum O'Neal\", 'Christopher Walken', 'Willem Dafoe', 'Sam Rockwell', 'Jean-Claude La Marre', 'Hope Clarke', 'Rockets Redglare', 'Elina Löwensohn', 'Paul Bartel', 'Joseph R. Gannascoli', 'Michael Badalucco'], 'directors': ['Julian Schnabel'], 'screenwriters': ['Julian Schnabel', 'John Cale'], 'music_composers': []},\n",
       " 'm_164': {'movie_id': 'm_164', 'title': \"Breakfast at Tiffany's\", 'genres': ['Comedy', 'Drama', 'Romance'], 'production_countries': ['US'], 'collection_name': '', 'release_year': '1961', 'actors': ['Audrey Hepburn', 'George Peppard', 'Patricia Neal', 'Buddy Ebsen', 'Martin Balsam', 'Mickey Rooney', 'José Luis de Villalonga', 'John McGiver', 'Alan Reed', 'Dorothy Whitney', 'Beverly Powers', 'Stanley Adams', 'Claude Stroud', 'Elvia Allman', 'Orangey', 'Charles Sherlock'], 'directors': ['Blake Edwards'], 'screenwriters': ['Henry Mancini', 'Johnny Mercer'], 'music_composers': ['George Axelrod']},\n",
       " 'm_426': {'movie_id': 'm_426', 'title': 'Vertigo', 'genres': ['Mystery', 'Romance', 'Thriller'], 'production_countries': ['US'], 'collection_name': '', 'release_year': '1958', 'actors': ['James Stewart', 'Kim Novak', 'Barbara Bel Geddes', 'Tom Helmore', 'Henry Jones', 'Raymond Bailey', 'Ellen Corby', 'Konstantin Shayne', 'Lee Patrick', 'Bess Flowers'], 'directors': ['Alfred Hitchcock'], 'screenwriters': ['Bernard Herrmann'], 'music_composers': ['Alec Coppel', 'Samuel A. Taylor']},\n",
       " 'm_239': {'movie_id': 'm_239', 'title': 'Some Like It Hot', 'genres': ['Comedy', 'Romance'], 'production_countries': ['US'], 'collection_name': '', 'release_year': '1959', 'actors': ['Marilyn Monroe', 'Tony Curtis', 'Jack Lemmon', 'George Raft', 'Pat O’Brien', 'Joe E. Brown', 'Nehemiah Persoff', 'Joan Shawlee', 'Billy Gray', 'George E. Stone', 'Dave Barry', 'Mike Mazurki', 'Harry Wilson', 'Beverly Wills', 'Barbara Drew', 'Edward G. Robinson Jr.', 'Brandon Beach', 'Marian Collier', 'Pat Comiskey', 'James Dime', 'Duke Fishman', 'Paul Frees', 'Jack Gordon', 'Joe Gray', \"Harold 'Tommy' Hart\", 'William Hoehne Jr.', 'John Indrisano', 'Tom Kennedy', 'Jack Mather', 'Laurie Mitchell', 'Joe Palma', 'Scott Seaton', 'Fred Sherman', 'Carl Sklover', 'Bert Stevens', 'Arthur Tovey', 'Ralph Volkie', 'Tito Vuolo', 'Sandra Warner', 'Billy Wayne', 'Grace Lee Whitney', 'Edwin Rochelle', 'Frank McLure', 'Steve Carruthers'], 'directors': ['Billy Wilder'], 'screenwriters': ['Adolph Deutsch'], 'music_composers': ['Billy Wilder', 'I.A.L. Diamond']},\n",
       " 'm_289': {'movie_id': 'm_289', 'title': 'Casablanca', 'genres': ['Drama', 'Romance'], 'production_countries': ['US'], 'collection_name': '', 'release_year': '1942', 'actors': ['Humphrey Bogart', 'Ingrid Bergman', 'Paul Henreid', 'Claude Rains', 'Conrad Veidt', 'Sydney Greenstreet', 'Peter Lorre', 'S.Z. Sakall', 'Madeleine Lebeau', 'Dooley Wilson', 'Joy Page', 'John Qualen', 'Leonid Kinskey', 'Curt Bois', 'Enrique Acosta', 'Ed Agresti', 'Louis V. Arco', 'Frank Arnold', 'Leon Belasco', 'Nino Bellini', 'Oliver Blake', 'Monte Blue', 'Eugene Borden', 'Dick Botiller', 'Maurice Brierre', 'Sebastian Cabot', 'Anita Camargo', 'George M. Carleton', 'Spencer Chan', 'Melie Chang', 'Tex Cooper', 'Gino Corrado', 'Franco Corsaro', \"Adrienne D'Ambricourt\", 'Marcel Dalio', 'Helmut Dantine', 'Jean De Briac', 'George Dee', 'Jean Del Val', 'Carl Deloro', 'Joseph DeVillard', 'Arthur Dulac', 'William Edmunds', 'Herbert Evans', 'Fred Farrell', 'Adolph Faylauer', 'O.K. Ford', 'Martin Garralaga', 'Gregory Gaye', 'Gregory Golubeff', 'Ilka Grüning', 'Creighton Hale', 'Winifred Harris', 'Jamiel Hasson', 'Arthur Stuart Hull', 'Olaf Hytten', 'Charles La Torre', 'George J. Lewis', 'Manuel Lopez', 'Jacques Lory', 'Lou Marcelle', 'Tony Martelli', 'George Meeker', 'Lal Chand Mehra', 'Hercules Mendez', 'Louis Mercier', 'Torben Meyer', 'Alberto Morin', 'Leo Mostovoy', 'Corinna Mura', 'Barry Norton', 'Lotte Palfi Andor', 'Paul Panzer', 'Manuel París', 'Alexander Pollard', 'Frank Puglia', 'Georges Renavent', 'Dewey Robinson', 'Richard Ryen', 'Dan Seymour', 'Lester Sharpe', 'Dina Smirnova', 'Gerald Oliver Smith', 'George Sorel', 'Geoffrey Steele', 'Ludwig Stössel', 'Mike Tellegen', 'Rafael Trujillo', 'Jacques Vanaire', 'Ellinor Vanderveer', 'Norma Varden', 'Hans Heinrich von Twardowski', 'Jack Wise', 'Wolfgang Zilzer', 'Trude Berliner', 'Paul Porcasi', 'Max Linder', 'Frank Mazzola', 'Henry Rowland', 'Leo White', 'Paul Irving', 'Brandon Beach', 'Victor Romito', 'Michael Mark', 'Bhogwan Singh'], 'directors': ['Michael Curtiz'], 'screenwriters': ['Max Steiner'], 'music_composers': ['Julius J. Epstein', 'Philip G. Epstein', 'Howard Koch']},\n",
       " 'm_6620': {'movie_id': 'm_6620', 'title': 'Sabrina', 'genres': ['Comedy', 'Drama', 'Romance'], 'production_countries': ['US'], 'collection_name': '', 'release_year': '1954', 'actors': ['Humphrey Bogart', 'Audrey Hepburn', 'William Holden', 'Walter Hampden', 'John Williams', 'Martha Hyer', 'Joan Vohs', 'Marcel Dalio', 'Marcel Hillaire', 'Nella Walker', 'Francis X. Bushman', 'Ellen Corby', 'Marjorie Bennett', 'Emory Parnell', 'Nancy Kulp', 'Paul Harvey', 'Kay Riehl', 'Raymond Bailey', 'Ralph Brooks', 'Colin Campbell', 'Harvey B. Dunn', 'Fritz Ford', 'Otto Forrest', 'Chuck Hamilton', 'Rand Harper', 'Sam Harris', 'Kay E. Kuter', 'Bill Neff', 'Gregory Ratoff', 'Marion Ross', 'Emmett Vogan', 'Ralph Moratz', 'Lovyss Bradley', 'Jean Ransome', 'James Carlisle', 'Fred Rapport', 'Herschel Graham'], 'directors': ['Billy Wilder'], 'screenwriters': ['Friedrich Hollaender'], 'music_composers': ['Billy Wilder', 'Ernest Lehman', 'Samuel A. Taylor']},\n",
       " 'm_804': {'movie_id': 'm_804', 'title': 'Roman Holiday', 'genres': ['Comedy', 'Romance'], 'production_countries': ['US'], 'collection_name': '', 'release_year': '1953', 'actors': ['Gregory Peck', 'Audrey Hepburn', 'Eddie Albert', 'Hartley Power', 'Harcourt Williams', 'Margaret Rawlings', 'Tullio Carminati', 'Paolo Carlini', 'Claudio Ermelli', 'Paola Borboni', 'Alfredo Rizzo', 'Laura Solari', 'Gorella Gori', 'Armando Annuale', 'Maurizio Arena', 'Gildo Bocci', 'Andrea Esterhazy', 'George Higgins', 'Richard McNamara', 'Luigi Moneta', 'Piero Pastore', 'Mimmo Poli', 'Giuliano Raffaelli', 'Carlo Rizzo', 'Gianna Segale', 'Dianora Veiga', 'Marco Tulli', 'Tania Weber', 'Catherine Wyler'], 'directors': ['William Wyler'], 'screenwriters': ['Georges Auric'], 'music_composers': ['Ian McLellan Hunter', 'John Dighton']},\n",
       " 'm_909': {'movie_id': 'm_909', 'title': 'Meet Me in St. Louis', 'genres': ['Comedy', 'Music', 'Romance'], 'production_countries': ['US'], 'collection_name': '', 'release_year': '1944', 'actors': ['Judy Garland', \"Margaret O'Brien\", 'Mary Astor', 'Lucille Bremer', 'Leon Ames', 'Tom Drake', 'Marjorie Main', 'Harry Davenport', 'June Lockhart', 'Henry H. Daniels Jr.', 'Joan Carroll', 'Hugh Marlowe', 'Robert Sully', 'Chill Wills'], 'directors': ['Vincente Minnelli'], 'screenwriters': ['George Stoll'], 'music_composers': ['Irving Brecher', 'Fred F. Finklehoffe']},\n",
       " 'm_599': {'movie_id': 'm_599', 'title': 'Sunset Boulevard', 'genres': ['Drama'], 'production_countries': ['US'], 'collection_name': '', 'release_year': '1950', 'actors': ['William Holden', 'Gloria Swanson', 'Erich von Stroheim', 'Nancy Olson', 'Fred Clark', 'Lloyd Gough', 'Jack Webb', 'Buster Keaton', 'Cecil B. DeMille', 'Hedda Hopper', 'Anna Q. Nilsson', 'Ray Evans', 'Jay Livingston', 'H.B. Warner', 'Franklyn Farnum', 'Larry J. Blake', 'Charles Dayton', 'Fred Aldrich', 'Joel Allen', 'Ralph Montgomery', 'Gertrude Astor', 'Eva Novak', \"Frank O'Connor\", 'Edward Biby', 'Danny Borzage', 'Ken Christy', 'Ruth Clifford', 'Archie R. Dalzell', 'Arthur Lane', 'Edward Wahrman', 'Eddie Dew', 'Julia Faye', 'Al Ferguson', 'Gerry Ganzer', 'Rudy Germane', 'Jack Perrin', 'Kenneth Gibson', 'Archie Twitchell', 'Creighton Hale', 'Sidney Skolsky', 'Chuck Hamilton', 'Len Hendry', 'Howard Joslin', 'Howard Negley', 'E. Mason Hopper', 'Stan Johnson', 'Tiny Jones', 'Perc Launders', 'William Meader', 'Gertrude Messinger', 'Harold Miller', \"John 'Skins' Miller\", 'Lee Miller', 'Bert Moorhouse', 'Jay Morley', \"Robert Emmet O'Connor\", 'Emmett Smith', 'Yvette Vickers', 'Henry Wilcoxon'], 'directors': ['Billy Wilder'], 'screenwriters': ['Franz Waxman'], 'music_composers': ['Billy Wilder', 'Charles Brackett', 'D.M. Marshman Jr.']},\n",
       " 'm_15': {'movie_id': 'm_15', 'title': 'Citizen Kane', 'genres': ['Mystery', 'Drama'], 'production_countries': ['US'], 'collection_name': '', 'release_year': '1941', 'actors': ['Orson Welles', 'Joseph Cotten', 'Dorothy Comingore', 'Ray Collins', 'George Coulouris', 'Agnes Moorehead', 'Paul Stewart', 'Ruth Warrick', 'Erskine Sanford', 'William Alland', 'Everett Sloane', 'Fortunio Bonanova', 'Gus Schilling', 'Philip Van Zandt', 'Georgia Backus', 'Harry Shannon', 'Sonny Bupp', 'Buddy Swan', 'Gregg Toland', 'Don Ackerman', \"Nat 'King' Cole\", 'Gino Corrado', 'Maurice Costello', 'Demetrius Alexis', 'Gene Coogan', 'Art Dupuis', 'Rudy Germane', 'Mike Lally', 'Walter Lawrence', 'John Northpole', 'Victor Romito', 'Bob Terry', 'William Alston', 'Jack Gargan', 'Bert Moorhouse', 'Carmen Laroux', 'Sam Ash', 'Buddy Messinger', 'Terrance Ray', 'Sally Corner', 'Walter Bacon', 'Herbert Corthell', 'Harry A. Bailey', 'Danny Borzage', 'J.J. Clark', 'Tom Coleman', 'Carl Deloro', 'Jack Egan', 'Robert Haines', 'Ludwig Lowry', 'John McCormack', 'Hercules Mendez', \"Paddy O'Flynn\", 'Sam Rice', 'Don Roberts', 'Larry Wheat', 'Larry Williams', 'Joan Blair', 'Morgan Brown', 'Harry Burkhardt', 'Edmund Cobb', 'Eddie Coke', 'Louis Natheaux', \"Arthur O'Connell\", 'Guy Repp', 'Tom Steele', 'Richard Wilson', 'Louise Currie', 'Walter Sande', 'Jan Wiley', 'Milton Kibbee', 'Buck Mack', 'Alan Ladd', 'Thomas A. Curran', 'Jack Curtis', 'George Noisom', 'Gerald Pierce', 'Donna Dax', 'George DeNormand', 'Bud Geary', 'Bert LeBaron', 'Clyde McAtee', 'Cyril Ring', 'Roland Winters', 'Lew Harvey', 'Herman J. Mankiewicz', 'Eddie Dew', 'Perc Launders', 'John Dilson', 'Walter James', 'Robert Dudley', 'Suzanne Dulier', 'Al Eben', 'Johnny Eckert', 'Carl Ekberg', 'Edith Evanson', 'Carl Faulkner', 'Juanita Fields', 'Edna Mae Jones', 'Leda Nicova', 'Jolane Reynolds', 'Suzanne Ridgeway', 'Olin Francis', 'Louise Franklin', 'Renee Godfrey', 'Peter Gowland', 'Jimmy Grant', 'Jesse Graves', 'Ernest Grooney', 'Jack Gwynne', 'Teddy Mangean', 'Henry Hebert', \"Bryan 'Slim' Hightower\", 'Mitchell Ingraham', 'Philip Morris', 'Francis Sayles', 'George W. Jimenez', 'Arthur Kay', 'Ellen Lowe', 'James T. Mack', 'Mickey Martin', 'Bruce Sidney', 'Major McBride', 'Frank McLure', 'Charles Meakin', 'Edward Peil Jr.', 'Irving Mitchell', 'Frances E. Neal', 'Lillian Nicholson', 'Joseph North', \"William H. O'Brien\", 'Field Norton', 'Dick Scott', \"Frank O'Connor\", 'Russ Powell', 'Bert Stevens', 'Thomas Pogue', \"Lillian O'Malley\", 'Jack Raymond', 'Gohr Van Vleck', 'Myrtle Rishell', 'Benny Rubin', 'Shimen Ruskin', 'George Sherwood', 'Edward Ryan', 'Landers Stevens', 'Harry J. Vejar', 'Tudor Williams', 'Arthur Yeoman', 'Tim Davis', 'Charles Bennett'], 'directors': ['Orson Welles'], 'screenwriters': ['Bernard Herrmann'], 'music_composers': ['Orson Welles', 'Herman J. Mankiewicz']},\n",
       " 'm_62': {'movie_id': 'm_62', 'title': '2001: A Space Odyssey', 'genres': ['Science Fiction', 'Mystery', 'Adventure'], 'production_countries': ['US', 'GB'], 'collection_name': 'The Space Odyssey Series', 'release_year': '1968', 'actors': ['Keir Dullea', 'Gary Lockwood', 'William Sylvester', 'Douglas Rain', 'Daniel Richter', 'Leonard Rossiter', 'Margaret Tyzack', 'Robert Beatty', 'Sean Sullivan', 'Frank Miller', 'Ed Bishop', 'Edwina Carroll', 'Penny Brahms', 'Heather Downham', \"Maggie d'Abo\", 'Chela Matthison', 'Judy Kiern', 'Alan Gifford', 'Ann Gillis', 'Vivian Kubrick', 'Kenneth Kendall', 'Bill Weston', 'Glenn Beck', 'Mike Lovell', 'John Ashley', 'Jimmy Bell', 'David Charkham', 'Simon Davis', 'Jonathan Daw', 'Péter Delmár', 'Terry Duggan', 'David Fleetwood', 'Danny Grover', 'Brian Hawley', 'David Hines', 'Tony Jackson', 'John Jordan', 'Scott MacKee', 'Laurence Marchant', 'Darryl Paes', 'Joe Refalo', 'Andy Wallace', 'Bob Wilyman', 'Richard Woods', 'Martin Amor', 'S. Newton Anderson', 'Sheraton Blount', 'Ann Bormann', 'Julie Croft', 'Penny Francis', 'Marcella Markham', 'Irena Marr', 'Krystyna Marr', 'Kim Neil', 'Jane Pearl', 'Penny Pearl', 'Kevin Scott', 'John Swindells', 'Burnell Tucker', 'John Clifford'], 'directors': ['Stanley Kubrick'], 'screenwriters': [], 'music_composers': ['Stanley Kubrick', 'Arthur C. Clarke']},\n",
       " 'm_223': {'movie_id': 'm_223', 'title': 'Rebecca', 'genres': ['Drama', 'Mystery'], 'production_countries': ['US'], 'collection_name': '', 'release_year': '1940', 'actors': ['Laurence Olivier', 'Joan Fontaine', 'George Sanders', 'Judith Anderson', 'Nigel Bruce', 'Reginald Denny', 'Gladys Cooper', 'Florence Bates', 'Leo G. Carroll', 'Leonard Carey', 'Lumsden Hare', 'Edward Fielding', 'Forrester Harvey', 'Philip Winter', 'Alfred Hitchcock', 'C. Aubrey Smith', 'Billy Bevan', 'Gino Corrado', 'Melville Cooper', 'Egon Brecher', 'Leyland Hodgson', 'Alphonse Martell', \"William H. O'Brien\", 'Ronald R. Rondell', 'Phyllis Woodward'], 'directors': ['Alfred Hitchcock'], 'screenwriters': ['Franz Waxman'], 'music_composers': ['Robert E. Sherwood', 'Joan Harrison']},\n",
       " 'm_303': {'movie_id': 'm_303', 'title': 'Notorious', 'genres': ['Thriller', 'Drama', 'Romance'], 'production_countries': ['US'], 'collection_name': '', 'release_year': '1946', 'actors': ['Cary Grant', 'Ingrid Bergman', 'Claude Rains', 'Louis Calhern', 'Leopoldine Konstantin', 'Reinhold Schünzel', 'Ivan Triesault', 'Alex Minotis', 'Eberhard Krumschmidt', 'Fred Nurney', 'Moroni Olsen', 'Wally Brown', 'Charles Mendl', 'Ricardo Costa', 'Fay Baker', 'Bea Benaderet', 'Virginia Gregg', 'Charles D. Brown', 'Eddie Bruce', 'Ben Erway', 'Donald Kerr', 'James Logan', 'Emmett Vogan', 'John Vosper', 'Alan Ward', 'Paul Bryar', 'George Lynn', 'Frank Marlowe', 'Howard Negley', 'Aileen Carlyle', 'Elizabeth Wilson', 'Almeda Fowler', 'Leota Lorraine', 'Sandra Morgan', 'Lillian West', 'Richard Clarke', 'Francis McDonald', 'Alfred Hitchcock', 'Frank McLure', 'Tom Coleman', 'Alfredo DeSa', 'Bess Flowers', 'Art Howard', 'Jeffrey Sayre', 'Bert Moorhouse', 'Gavin Gordon', 'Harry Hayden', 'Warren Jackson', 'Thomas Martin', 'Tina Menard', 'Howard M. Mitchell', 'Antonio Moreno', 'Garry Owen', 'Dink Trout', 'Lenore Ulric', 'Friedrich von Ledebur', 'Peter von Zerneck', 'Frank Wilcox'], 'directors': ['Alfred Hitchcock'], 'screenwriters': ['Roy Webb'], 'music_composers': ['Alfred Hitchcock', 'Ben Hecht']},\n",
       " 'm_381': {'movie_id': 'm_381', 'title': 'To Catch a Thief', 'genres': ['Crime', 'Drama', 'Mystery', 'Romance', 'Thriller'], 'production_countries': ['US'], 'collection_name': '', 'release_year': '1955', 'actors': ['Cary Grant', 'Grace Kelly', 'Jessie Royce Landis', 'Brigitte Auber', 'John Williams', 'Charles Vanel', 'Jean Martinelli', 'Georgette Anys', 'Bess Flowers', \"William 'Wee Willie' Davis\", 'René Blancard', 'Charles Sherlock', 'Alfred Hitchcock'], 'directors': ['Alfred Hitchcock'], 'screenwriters': ['Lyn Murray'], 'music_composers': ['John Michael Hayes']},\n",
       " 'm_1939': {'movie_id': 'm_1939', 'title': 'Laura', 'genres': ['Drama', 'Mystery'], 'production_countries': ['US'], 'collection_name': '', 'release_year': '1944', 'actors': ['Gene Tierney', 'Dana Andrews', 'Clifton Webb', 'Vincent Price', 'Judith Anderson', 'Dorothy Adams', 'Kathleen Howard', 'Cara Williams', 'Bess Flowers', 'Dorothy Christy', 'Jean Fenwick', 'Frances Gladwin', 'Beatrice Gray', 'Yolanda Lacca', 'Kay Linaker', 'Gloria Marlen', 'Aileen Pringle', 'Wally Albright', 'Bobby Barber', 'William Graeff Jr.', 'Ben Watson', 'Gary Breckner', 'Harry Carter', 'James Conaty', 'Sam Harris', 'Harold Miller', 'Cyril Ring', 'Lane Chandler', 'Harold Schlickenmayer', 'Harry Strang', 'James Flavin', 'Ralph Dunn', 'Forbes Murray', 'Alexander Sascha', 'Larry Steers', 'Clyde Fillmore', 'Lee Tung Foo', 'William Forrest', 'Frank LaRue', 'Thomas Martin', 'Jane Nigh', 'Eric Wilton'], 'directors': ['Otto Preminger'], 'screenwriters': ['David Raksin'], 'music_composers': ['Jay Dratler', 'Samuel Hoffenstein', 'Elizabeth Reinhardt', 'Ring Lardner, Jr.']},\n",
       " 'm_198': {'movie_id': 'm_198', 'title': 'To Be or Not to Be', 'genres': ['Comedy', 'War'], 'production_countries': ['US'], 'collection_name': '', 'release_year': '1942', 'actors': ['Carole Lombard', 'Jack Benny', 'Robert Stack', 'Felix Bressart', 'Lionel Atwill', 'Stanley Ridges', 'Sig Ruman', 'Tom Dugan', 'Charles Halton', 'Henry Victor', 'Maude Eburne'], 'directors': ['Ernst Lubitsch'], 'screenwriters': ['Werner R. Heymann'], 'music_composers': []},\n",
       " 'm_3083': {'movie_id': 'm_3083', 'title': 'Mr. Smith Goes to Washington', 'genres': ['Comedy', 'Drama'], 'production_countries': ['US'], 'collection_name': '', 'release_year': '1939', 'actors': ['James Stewart', 'Jean Arthur', 'Claude Rains', 'Edward Arnold', 'Guy Kibbee', 'Thomas Mitchell', 'Eugene Pallette', 'Beulah Bondi', 'Colin James Mackey', 'Harry Carey', 'H.B. Warner', 'Grant Mitchell', 'Pierre Watkin', 'Porter Hall', 'Astrid Allwyn', 'Ruth Donnelly', 'Charles Lane', 'William Demarest', 'Dick Elliott', 'Russell Simpson', 'Delmar Watson', 'John Russell', 'Frances Gifford', 'Larry Simms', 'Billy Watson', 'Harry Watson', 'Garry Watson', 'Wilson Benge', 'Dickie Jones', 'H.V. Kaltenborn', 'Erville Alderson', 'Frank Puglia', 'Maurice Cass', 'Stanley Andrews', 'Al Bridge', 'Edwin August', 'Edmund Cobb', 'Sam Ash', 'Harry A. Bailey', 'Stanley Mack', 'Brooks Benedict', 'Wade Boteler', 'Dorothy Comingore', 'Chester Conklin', 'Gino Corrado', 'Ann Doran', 'Robert Emmett Keane', 'Matt McHugh', 'Kathryn Bates', 'Frank Austin', 'William Arnold', 'Tommy Baker', 'Robert Sterling', 'Dub Taylor', 'George Chandler', \"Fred 'Snowflake' Toones\", 'Jack Carson', 'Tommy Bupp', 'Dora Clement', 'Bert Moorhouse', 'Harry C. Bradley', 'Lynton Brent', 'Ed Brewer', 'Harlan Briggs', 'Harry Burkhardt', 'Frederick Burton', 'Georgia Caine', 'Ken Carpenter', 'Burr Caruth', 'Allan Cavan', 'Eddy Chandler', 'Davison Clark', 'Richard Clucas', 'Shirley Coates', 'Eddie Coke', 'Hal Cooke', 'Alec Craig', 'Anne Cornwall', 'George Cooper', 'Georgie Cooper', 'Jack Cooper', 'Nick Copeland', 'Vernon Dent', 'Maurice Costello', 'Beatrice Curtis', 'Lew Davis', 'Dulcie Day', 'Wally Dean', 'Harry Depp', 'Byron Foulger', 'Helen Jerome Eddy', 'Douglas Evans', 'Joe Devlin', 'Clyde Dilson', 'John Dilson', 'Neal Dodd', 'Lester Dorr', 'Robert Dudley', 'Edward Earle', 'Jack Egan', 'Eddie Fetherston', 'Mabel Forrest', 'Gladys Gale', 'Jack Gardner', 'Mary Gordon', 'June Gittelson', 'Lorna Gray', 'Harry Hayden', 'Louis Jean Heydt', 'John Ince', 'Frank Jaquet', 'Philo McCullough', 'Wright Kramer', 'Henry Hebert', 'Fred Hoose', 'Richard Kipling', 'Roger Haliday', 'Wilfred Hari', 'Philip Hurlic', 'Olaf Hytten', 'Lloyd Ingraham', 'Mitchell Ingraham', 'Dick Jensen', 'John Lester Johnson', 'Eddie Kane', 'Donald Kerr', 'Milton Kibbee', 'Joe King', 'Evalyn Knapp', 'Paul Kruger', 'Bobby Larson', 'Billy Lechner', 'Jackie Lowe', 'P.H. Levy', 'Vera Lewis', 'Jack Lindquist', 'George Lloyd', 'Arthur Loft', 'Jack Low', 'Jimmie Lucas', 'Mary MacLaren', 'Hank Mann', 'Margaret Mann', 'Eric Mayne', 'Ralph McCullough', 'George McKay', 'Lafe McKee', 'Ben Taggart', 'Field Norton', 'Wilfred Lucas', 'Sammy McKim', 'James McNamara', 'William Newell', 'Robert Middlemass', 'James Millican', 'Howard M. Mitchell', 'Charles R. Moore', 'Gene Morgan', 'Robert Morgan', 'Ray Nichols', 'Alex Novinsky', \"Frank O'Connor\", 'Frank Otto', 'Joe Palma', 'Spencer Quinn', 'Tom Quinn', 'Ed Randolph', 'Charles Regan', 'Jack Rice', 'Wyndham Standing', 'Ferris Taylor', 'Jack Richardson', 'Walter Soderling', 'Harry Stafford', 'Victor Travers', 'Carl Stockdale', 'Robert Walker', 'Henry Roquemore', 'Craig Stevens', 'Paul Stanton', 'Johnny Russell', 'Walter Sande', 'Frank M. Thomas', 'Harry Strang', 'Harry Tenbrook', 'Dave Willock', 'Lloyd Whitlock', 'John Tyrrell', 'Frederick Vroom', 'Charles Sullivan', 'Arthur Thalasso', 'Edward Thomas', 'Laura Treadwell', 'Layne Tom Jr.', 'Myonne Walsh', 'Billy Wayne', 'Max Waizmann', 'John Ward', 'Jane Loofbourrow', 'Blanche Payson', 'Emma Tansey', 'Bess Wade', 'Florence Wix', 'Eleanor Wood', 'Jesse Graves', 'Gus Glassmire', 'Larry Steers', 'Landers Stevens', 'William Worthington', 'Edward Biby', 'Count Stefenelli', 'David Wade', 'Frank McLure'], 'directors': ['Frank Capra'], 'screenwriters': ['Dimitri Tiomkin'], 'music_composers': ['Sidney Buchman']},\n",
       " 'm_900': {'movie_id': 'm_900', 'title': 'Bringing Up Baby', 'genres': ['Comedy', 'Romance'], 'production_countries': ['US'], 'collection_name': '', 'release_year': '1938', 'actors': ['Katharine Hepburn', 'Cary Grant', 'Charles Ruggles', 'Walter Catlett', 'Barry Fitzgerald', 'May Robson', 'Fritz Feld', 'Leona Roberts', 'George Irving', 'Tala Birell', 'Virginia Walker', 'John Kelly', 'William Benedict', 'Billy Bevan', 'Ward Bond', 'Jack Carson', 'Judith Ford', 'Edward Gargan', 'Paul Guilfoyle', \"Karl 'Karchy' Kosiczky\", 'Nissa the Leopard'], 'directors': ['Howard Hawks'], 'screenwriters': ['Roy Webb'], 'music_composers': ['Dudley Nichols', 'Hagar Wilde']},\n",
       " 'm_260': {'movie_id': 'm_260', 'title': 'The 39 Steps', 'genres': ['Action', 'Thriller', 'Mystery'], 'production_countries': ['GB'], 'collection_name': '', 'release_year': '1935', 'actors': ['Robert Donat', 'Madeleine Carroll', 'Lucie Mannheim', 'Godfrey Tearle', 'Peggy Ashcroft', 'John Laurie', 'Helen Haye', 'Frank Cellier', 'Wylie Watson', 'Gus McNaughton', 'Jerry Verno', 'Peggy Simpson', 'Pat Hagate', 'Alfred Hitchcock', 'Elizabeth Inglis', 'Frederick Piper', 'Hilda Trevelyan'], 'directors': ['Alfred Hitchcock'], 'screenwriters': ['Jack Beaver', 'Louis Levy'], 'music_composers': []},\n",
       " 'm_261': {'movie_id': 'm_261', 'title': 'Cat on a Hot Tin Roof', 'genres': ['Drama', 'Romance'], 'production_countries': ['US'], 'collection_name': '', 'release_year': '1958', 'actors': ['Elizabeth Taylor', 'Paul Newman', 'Burl Ives', 'Judith Anderson', 'Jack Carson', 'Madeleine Sherwood', 'Vaughn Taylor', 'Larry Gates', 'Zelda Cleaver', 'Brian Corcoran', \"Robert 'Rusty' Stevens\", 'Hugh Corcoran'], 'directors': ['Richard Brooks'], 'screenwriters': ['Charles Wolcott'], 'music_composers': ['Richard Brooks', 'James Poe']},\n",
       " 'm_2033': {'movie_id': 'm_2033', 'title': 'Infinity', 'genres': ['Drama', 'Romance'], 'production_countries': ['US'], 'collection_name': '', 'release_year': '1996', 'actors': ['Matthew Broderick', 'Patricia Arquette', 'Peter Riegert', 'Jeffrey Force', 'David Drew Gallagher', 'Raffi Di Blasio', 'Josh Keaton', 'James Hong', 'Melissa DeLizia', 'Peter Michael Goetz', 'Kelly Wolf'], 'directors': ['Matthew Broderick'], 'screenwriters': ['Bruce Broughton'], 'music_composers': ['Patricia Broderick']},\n",
       " 'm_173': {'movie_id': 'm_173', 'title': '20,000 Leagues Under the Sea', 'genres': ['Adventure', 'Drama', 'Science Fiction'], 'production_countries': ['US'], 'collection_name': '', 'release_year': '1954', 'actors': ['Kirk Douglas', 'James Mason', 'Paul Lukas', 'Peter Lorre', 'Robert J. Wilke', 'Ted de Corsia', 'Carleton Young', 'J. M. Kerrigan', 'Percy Helton', 'Ted Cooper', 'Gloria Pall', 'Ron Nyman', 'Fred Graham', 'Harry Harvey', 'Charles Grodin', 'Harper Goff', 'Eddie Marr', 'Jack Gargan', 'John Daheim', 'Jack Stoney'], 'directors': ['Richard Fleischer'], 'screenwriters': ['Paul J. Smith'], 'music_composers': ['Earl Felton']},\n",
       " 'm_562': {'movie_id': 'm_562', 'title': 'Die Hard', 'genres': ['Action', 'Thriller'], 'production_countries': ['US'], 'collection_name': 'Die Hard Collection', 'release_year': '1988', 'actors': ['Bruce Willis', 'Alan Rickman', 'Alexander Godunov', 'Bonnie Bedelia', 'Reginald VelJohnson', 'Paul Gleason', \"De'voreaux White\", 'William Atherton', 'Clarence Gilyard Jr.', 'Hart Bochner', 'James Shigeta', 'Bruno Doyon', 'Andreas Wisniewski', 'Joey Plewa', 'Lorenzo Caccialanza', 'Gerard Bonn', 'Dennis Hayden', 'Al Leong', 'Gary Roberts', 'Hans Buhringer', 'Wilhelm von Homburg', 'Robert Davi', 'Grand L. Bush', 'Tracy Reiner', 'Taylor Fry', 'Noah Land', 'Bill Marcus', 'Rick Ducommun', 'Matt Landers', 'Carmine Zozzora', 'George Christy', 'Anthony Peck', 'David Ursin', 'Mary Ellen Trainor', 'Selma Archerd', 'Rebecca Broussard', 'Kym Malin', 'Betty Carvalho', 'Kip Waldo', 'Rick Cicetti', 'Bob Jennings', 'David Katz', 'Robert Lesser', 'Stella Hall', 'Terri Lynn Doss', 'Charlie Picerni', 'Mark Winn'], 'directors': ['John McTiernan'], 'screenwriters': ['Michael Kamen'], 'music_composers': ['Steven E. de Souza', 'Jeb Stuart']},\n",
       " 'm_454': {'movie_id': 'm_454', 'title': 'Romeo + Juliet', 'genres': ['Drama', 'Romance'], 'production_countries': ['US'], 'collection_name': '', 'release_year': '1996', 'actors': ['Leonardo DiCaprio', 'Claire Danes', 'John Leguizamo', 'Harold Perrineau', 'Pete Postlethwaite', 'Paul Sorvino', 'Brian Dennehy', 'Vondie Curtis-Hall', 'Miriam Margolyes', 'Diane Venora', 'Jamie Kennedy', 'Dash Mihok', 'Vincent Laresca', 'Edwina Moore', 'Paul Rudd'], 'directors': ['Baz Luhrmann'], 'screenwriters': ['Tim Atack', 'Nellee Hooper'], 'music_composers': ['Baz Luhrmann', 'Craig Pearce']},\n",
       " 'm_1834': {'movie_id': 'm_1834', 'title': 'Murder, My Sweet', 'genres': ['Crime', 'Drama', 'Mystery', 'Thriller'], 'production_countries': ['US'], 'collection_name': '', 'release_year': '1944', 'actors': ['Dick Powell', 'Claire Trevor', 'Anne Shirley', 'Mike Mazurki', 'Miles Mander', 'Otto Kruger', 'Douglas Walton', 'Donald Douglas', 'Esther Howard'], 'directors': ['Edward Dmytryk'], 'screenwriters': ['Roy Webb'], 'music_composers': ['John Paxton']},\n",
       " 'm_252': {'movie_id': 'm_252', 'title': 'Willy Wonka & the Chocolate Factory', 'genres': ['Family', 'Fantasy'], 'production_countries': ['US'], 'collection_name': '', 'release_year': '1971', 'actors': ['Gene Wilder', 'Jack Albertson', 'Peter Ostrum', 'Roy Kinnear', 'Denise Nickerson', 'Leonard Stone', 'Julie Dawn Cole', 'Nora Denney', 'Peter Capell', 'Tim Brooke-Taylor', 'Marcus Powell', 'Rusty Goffe', 'Michael Goodliffe', 'Kurt Großkurth', 'Malcolm Dixon', 'Paris Themmen', 'Ursula Reit', 'Michael Boliner', 'Diana Sowle', 'Aubrey Woods', 'David Battley', 'Pat Coombs', 'Günter Meisner', 'Werner Heyking', 'Peter Stewart', 'Franziska Liebing', 'Dora Altmann', 'Ernst Ziegler', 'Stephen Dunn', 'Frank Delfino', 'Rudy Borgstaller', 'George Claydon', 'Ismed Hassan', 'Norman McGlen', 'Angelo Muscat', 'Albert Wilkinson'], 'directors': ['Mel Stuart'], 'screenwriters': ['Walter Scharf', 'Leslie Bricusse'], 'music_composers': ['Roald Dahl']},\n",
       " 'm_475': {'movie_id': 'm_475', 'title': 'Bonnie and Clyde', 'genres': ['Crime', 'Drama'], 'production_countries': ['US'], 'collection_name': '', 'release_year': '1967', 'actors': ['Warren Beatty', 'Faye Dunaway', 'Michael J. Pollard', 'Gene Wilder', 'Gene Hackman', 'Estelle Parsons', 'Denver Pyle', 'Dub Taylor', 'Evans Evans', 'Mabel Cavitt', 'Patrick Cranshaw', 'Owen Bush', 'Clyde Howdy', 'Russ Marker', 'Ann Palmer', 'Ken Mayer'], 'directors': ['Arthur Penn'], 'screenwriters': ['Charles Strouse'], 'music_composers': ['David Newman', 'Robert Benton']},\n",
       " 'm_88': {'movie_id': 'm_88', 'title': 'Dirty Dancing', 'genres': ['Drama', 'Music', 'Romance'], 'production_countries': ['US'], 'collection_name': 'Dirty Dancing Collection', 'release_year': '1987', 'actors': ['Jennifer Grey', 'Patrick Swayze', 'Jerry Orbach', 'Cynthia Rhodes', 'Jack Weston', 'Jane Brucker', 'Kelly Bishop', 'Lonny Price', 'Max Cantor', \"Charles 'Honi' Coles\", 'Neal Jones', 'Cousin Brucie Morrow', 'Wayne Knight', 'Paula Trueman', 'Alvin Myerovich', 'Miranda Garrison', 'Garry Goodrow', 'Antone Pagan', 'Thomas Cannold', 'Heather Lea Gerdes', 'Jesus Fuentes', 'M.R. Fletcher', 'Karen Getz', 'Andrew Charles Koch', 'D.A. Pauley', 'Jennifer Stahl', 'Dorian Sanchez'], 'directors': ['Emile Ardolino'], 'screenwriters': ['John Morris'], 'music_composers': []},\n",
       " 'm_500': {'movie_id': 'm_500', 'title': 'Reservoir Dogs', 'genres': ['Crime', 'Thriller'], 'production_countries': ['US'], 'collection_name': '', 'release_year': '1992', 'actors': ['Harvey Keitel', 'Tim Roth', 'Michael Madsen', 'Chris Penn', 'Steve Buscemi', 'Lawrence Tierney', 'Edward Bunker', 'Quentin Tarantino', 'Randy Brooks', 'Kirk Baltz', 'Steven Wright', 'Rich Turner', 'David Steen', 'Tony Cosmo', 'Stevo Polyi'], 'directors': ['Quentin Tarantino'], 'screenwriters': [], 'music_composers': []},\n",
       " 'm_1103': {'movie_id': 'm_1103', 'title': 'Escape from New York', 'genres': ['Science Fiction', 'Action'], 'production_countries': ['US'], 'collection_name': 'Escape From ... Collection', 'release_year': '1981', 'actors': ['Kurt Russell', 'Lee Van Cleef', 'Ernest Borgnine', 'Donald Pleasence', 'Isaac Hayes', 'Harry Dean Stanton', 'Adrienne Barbeau', 'Tom Atkins', 'Frank Doubleday', 'John Strobel', 'Season Hubley', 'Charles Cyphers', 'John Cothran, Jr.', 'George Buck Flower'], 'directors': ['John Carpenter'], 'screenwriters': ['Alan Howarth', 'John Carpenter'], 'music_composers': ['Nick Castle', 'John Carpenter']},\n",
       " 'm_762': {'movie_id': 'm_762', 'title': 'Monty Python and the Holy Grail', 'genres': ['Adventure', 'Comedy', 'Fantasy'], 'production_countries': ['GB'], 'collection_name': '', 'release_year': '1975', 'actors': ['Graham Chapman', 'John Cleese', 'Terry Gilliam', 'Eric Idle', 'Terry Jones', 'Michael Palin', 'Connie Booth', 'Carol Cleveland', 'Neil Innes', 'Bee Duffell', 'John Young', 'Rita Davies', 'Avril Stewart', 'Sally Kinghorn', 'Mark Zycon', 'Sandy Johnson', 'Julian Doyle', 'Joni Flynn', 'Fiona Gordon'], 'directors': ['Terry Gilliam', 'Terry Jones'], 'screenwriters': [], 'music_composers': []},\n",
       " 'm_531': {'movie_id': 'm_531', 'title': 'The Wrong Trousers', 'genres': ['Animation', 'Comedy', 'Family'], 'production_countries': ['GB'], 'collection_name': 'Wallace & Gromit Collection', 'release_year': '1993', 'actors': ['Peter Sallis'], 'directors': ['Nick Park'], 'screenwriters': ['Julian Nott'], 'music_composers': []},\n",
       " 'm_2469': {'movie_id': 'm_2469', 'title': '¡Átame!', 'genres': ['Comedy', 'Crime', 'Drama', 'Romance'], 'production_countries': ['ES'], 'collection_name': '', 'release_year': '1989', 'actors': ['Victoria Abril', 'Antonio Banderas', 'Loles León', 'Julieta Serrano', 'María Barranco', 'Rossy de Palma', 'Francisco Rabal', 'Lola Cardona', 'Montse G. Romeu', 'Emiliano Redondo', 'Oswaldo Delgado', 'Concha Rabal', 'José María Tasso', 'Angelina Llongueras', 'Manuel Bandera', 'Virginia Díez', 'Juana Cordero', 'Francisca Caballero', 'Francisca Pajuelo', 'Víctor Coyote', 'Carlos García Cambero', 'Alito Rodgers', 'Tamaki', 'Malena Gracia', 'Agustín Almodóvar', 'Rodolfo Montero', 'Miguel García', 'Pedro Losada', 'Alberto Fernández'], 'directors': ['Pedro Almodóvar'], 'screenwriters': ['Ennio Morricone'], 'music_composers': ['Yuyi Beringola', 'Pedro Almodóvar']},\n",
       " 'm_85': {'movie_id': 'm_85', 'title': 'Raiders of the Lost Ark', 'genres': ['Adventure', 'Action'], 'production_countries': ['US'], 'collection_name': 'Indiana Jones Collection', 'release_year': '1981', 'actors': ['Harrison Ford', 'Karen Allen', 'Paul Freeman', 'Ronald Lacey', 'John Rhys-Davies', 'Denholm Elliott', 'Wolf Kahler', 'Anthony Higgins', 'Vic Tablian', 'Don Fellows', 'William Hootkins', 'Alfred Molina', 'Eddie Tagoe', 'George Harris', 'Bill Reimbold', 'Fred Sorenson', 'Patrick Durkin', 'Matthew Scurfield', 'Malcolm Weaver', 'Sonny Caldinez', 'Anthony Chinn', 'Pat Roach', 'Christopher Frederick', 'Tutte Lemkow', 'Ishaq Bux', 'Kiran Shah', 'Souad Messaoudi', 'Terry Richards', 'Steve Hanson', 'Frank Marshall', 'Martin Kreidt', 'John Rees', 'Tony Vogel', 'Ted Grossman', 'Vic Armstrong', 'Peter Diamond', 'Nick Gillard', 'Romo Gorrara', 'Rick Lester', 'Rocky Taylor', 'Reg Harding', 'Harry Fielder', 'Barrie Holland', 'Billy Horrigan', 'Terry Leonard', 'Sergio Mioni', 'Dennis Muren', 'Glenn Randall Jr.', 'Michael Sheard', 'Frank Welker'], 'directors': ['Steven Spielberg'], 'screenwriters': ['John Williams'], 'music_composers': ['Lawrence Kasdan']},\n",
       " 'm_947': {'movie_id': 'm_947', 'title': 'Lawrence of Arabia', 'genres': ['Adventure', 'Drama', 'History', 'War'], 'production_countries': ['GB'], 'collection_name': '', 'release_year': '1962', 'actors': [\"Peter O'Toole\", 'Alec Guinness', 'Anthony Quinn', 'Jack Hawkins', 'Omar Sharif', 'Claude Rains', 'Anthony Quayle', 'José Ferrer', 'Arthur Kennedy', 'Donald Wolfit', 'Zia Mohyeddin', 'I.S. Johar', 'Gamil Ratib', 'Michel Ray', 'John Dimech', 'Howard Marion-Crawford', 'Jack Gwillim', 'Hugh Miller', 'Robert Rietty', 'John Barry', 'Bruce Beeby', 'John Bennett', 'Steve Birtles', 'David Lean', 'Robert Bolt', 'Daniel Moynihan', 'Peter Burton', 'James Hayter', 'Barry Warren', 'J.R.M. Chapman', 'Basil Dignam', 'Peter Dukelow', 'Bryan Pringle', 'Mohamed El Habachi', 'Kenneth Fortescue', 'Harry Fowler', 'Jack Hedley', 'Fernando Sancho', 'Noel Howlett', 'Patrick Kavanagh', 'Ian MacNaughton', 'Clive Morton', 'Henry Oscar', 'George Plimpton', 'Ernie Rice', 'John Robinson', 'Norman Rossington', 'John Ruddock', 'Stuart Saunders', 'Cyril Shaps', 'Roy Stevens', 'Rafael Hernández', 'Fred Bennett'], 'directors': ['David Lean'], 'screenwriters': ['Maurice Jarre'], 'music_composers': ['Michael Wilson', 'Robert Bolt']},\n",
       " 'm_185': {'movie_id': 'm_185', 'title': 'A Clockwork Orange', 'genres': ['Science Fiction', 'Drama'], 'production_countries': ['GB', 'US'], 'collection_name': '', 'release_year': '1971', 'actors': ['Malcolm McDowell', 'Patrick Magee', 'Adrienne Corri', 'Michael Bates', 'Warren Clarke', 'James Marcus', 'Michael Tarn', 'Carl Duering', 'Paul Farrell', 'Miriam Karlin', 'Sheila Raynor', 'Aubrey Morris', 'Godfrey Quigley', 'Clive Francis', 'Richard Connaught', 'Pauline Taylor', 'Philip Stone', 'David Prowse', 'Michael Gover'], 'directors': ['Stanley Kubrick'], 'screenwriters': ['Wendy Carlos'], 'music_composers': ['Stanley Kubrick']},\n",
       " 'm_595': {'movie_id': 'm_595', 'title': 'To Kill a Mockingbird', 'genres': ['Crime', 'Drama'], 'production_countries': ['US'], 'collection_name': '', 'release_year': '1962', 'actors': ['Gregory Peck', 'Brock Peters', 'James Anderson', 'Mary Badham', 'Phillip Alford', 'John Megna', 'Estelle Evans', 'Collin Wilcox Paxton', 'Frank Overton', 'Rosemary Murphy', 'Ruth White', 'Robert Duvall', 'Paul Fix', 'Alice Ghostley', 'William Windom', 'Crahan Denton', 'Richard Hale', 'R.L. Armstrong', 'Eddie Baker', 'Bobby Barber', 'Danny Borzage', 'John Breen', 'Jess Cavin', 'Steve Condit', 'David Crawford', 'Frank Ellis', 'Charles Fredericks', 'Herman Hack', 'Jester Hairston', 'Chuck Hamilton', 'Kim Hamilton', 'Michael Jeffers', 'Dick Johnstone', 'Colin Kenny', 'Ethan Laidlaw', 'Nancy Marshall', 'Charles Morton', 'Paulene Myers', \"William H. O'Brien\", 'Joe Ploski', 'Hugh Sanders', 'Mabel Smaney', 'Cap Somers', 'George Sowards', 'Ray Spiker', 'Kim Stanley', 'Kelly Thordsen', 'Arthur Tovey', 'Sailor Vincent', 'Max Wagner', 'Bill Walker', 'Joe Walls', 'Dan White', 'Guy Wilkerson', 'Chalky Williams', 'Audrey Betz'], 'directors': ['Robert Mulligan'], 'screenwriters': ['Elmer Bernstein'], 'music_composers': ['Horton Foote', 'Harper Lee']},\n",
       " 'm_28': {'movie_id': 'm_28', 'title': 'Apocalypse Now', 'genres': ['Drama', 'War'], 'production_countries': ['US'], 'collection_name': '', 'release_year': '1979', 'actors': ['Martin Sheen', 'Marlon Brando', 'Robert Duvall', 'Frederic Forrest', 'Sam Bottoms', 'Laurence Fishburne', 'Albert Hall', 'Harrison Ford', 'Dennis Hopper', 'G. D. Spradlin', 'Jerry Ziesmer', 'Scott Glenn', 'James Keane', 'Kerry Rossall', 'Colleen Camp', 'Cynthia Wood', 'Linda Carpenter', 'Jack Thibeau', 'Tom Mason', 'Damien Leake', 'Marc Coppola', 'Glenn Walken', 'Bill Graham', 'Jerry Ross', 'Charles Robinson', 'Nick Nicholson', 'Don Gordon Bell', 'Evan A. Lottman', 'R. Lee Ermey', 'Jim Gaines', 'Charlie Sheen', 'Vittorio Storaro', 'Francis Ford Coppola', 'Henry Strzalkowski', 'Lonnie Woodley', 'Aurore Clément'], 'directors': ['Francis Ford Coppola'], 'screenwriters': ['Carmine Coppola'], 'music_composers': ['John Milius', 'Francis Ford Coppola']},\n",
       " 'm_1892': {'movie_id': 'm_1892', 'title': 'Return of the Jedi', 'genres': ['Adventure', 'Action', 'Science Fiction'], 'production_countries': ['US'], 'collection_name': 'Star Wars Collection', 'release_year': '1983', 'actors': ['Mark Hamill', 'Harrison Ford', 'Carrie Fisher', 'Billy Dee Williams', 'Anthony Daniels', 'David Prowse', 'Kenny Baker', 'Peter Mayhew', 'Frank Oz', 'Ian McDiarmid', 'James Earl Jones', 'Sebastian Shaw', 'Alec Guinness', 'Warwick Davis', 'Caroline Blakiston', 'Michael Pennington', 'Kenneth Colley', 'Michael Carter', 'Denis Lawson', 'Tim Rose', 'Dermot Crowley', 'Jeremy Bulloch', 'Femi Taylor', 'Annie Arbogast', 'Claire Davenport', 'Jack Purvis', 'Mike Edmonds', 'Jane Busby', 'Malcolm Dixon', 'Mike Cottrell', 'Nicki Reade', 'Adam Bareham', 'Jonathan Oliver', 'Pip Miller', 'Tom Mannion', 'Margo Apostolos', 'Ray Armstrong', 'Eileen Baker', 'Michael Henbury Ballan', 'Bobby Bell', 'Patty Bell', 'Alan Bennett', 'Sarah Bennett', 'Pamela Betts', 'Danny Blackner', 'Linda Bowley', 'Peter Burroughs', 'Debbie Lee Carrington', 'Maureen Charlton', 'Willie Coppen', 'Sadie Corre', 'Tony Cox', 'John Cumming', \"Jean D'Agostino\", 'Luis De Jesus', 'Debbie Dixon', 'Margarita Fernández', 'Phil Fondacaro', 'Sal Fondacaro', 'Tony Friel', 'Daniel Frishman', 'John Ghavan', 'Michael Gilden', 'Paul Grant', 'Lydia Green', 'Lars Green', 'Pam Grizz', 'Andrew Herd', 'J.J. Jackson', 'Richard Jones', 'Trevor Jones', 'Glynn Jones', 'Karen Lay', 'John Lummiss', 'Nancy MacLean', 'Peter Mandell', 'Carole Morris', 'Stacie Nichols', 'Chris Nunn', \"Barbara O'Laughlin\", 'Brian Orenstein', 'Harrell Parker Jr.', 'John Pedrick', 'April Perkins', 'Ronnie Phillips', 'Katie Purvis', 'Carol Read', 'Nicholas Read', 'Diana Reynolds', 'Danielle Rodgers', 'Chris Romano', 'Dean Shackelford', 'Kiran Shah', 'Felix Silla', 'Linda Spriggs', 'Gerald Staddon', 'Josephine Staddon', 'Kevin Thompson', 'Kendra Wall', 'Brian Wheeler', 'Butch Wilhelm', 'Dalyn Chew', 'Celia Fushille-Burke', 'Mercedes Ngoh', 'Jennifer Jaffe', 'Mark Dodson', 'Simon J. Williamson', 'Richard Bonehill', 'David Gonzales', 'Barrie Holland', 'Peter Roy', 'Erik Bauersfeld', 'Mike Quinn', 'Bill Kipsang Rotich', 'Deep Roy', 'Alisa Berk', 'Hugh Spight', 'Swee Lim', 'Richard Robinson', 'Gerald Home', 'Phil Herbert', 'Tim Dry', 'Sean Crawford', 'Phil Tippett', 'Michael McCormick', 'Toby Philpott', 'David Alan Barclay', 'Larry Ward'], 'directors': ['Richard Marquand'], 'screenwriters': ['John Williams'], 'music_composers': ['Lawrence Kasdan', 'George Lucas']},\n",
       " 'm_144': {'movie_id': 'm_144', 'title': 'Der Himmel über Berlin', 'genres': ['Drama', 'Fantasy', 'Romance'], 'production_countries': ['DE', 'FR'], 'collection_name': '', 'release_year': '1987', 'actors': ['Bruno Ganz', 'Otto Sander', 'Solveig Dommartin', 'Curt Bois', 'Peter Falk', 'Hans Martin Stier', 'Beatrice Manowski', 'Elmar Wilms', 'Nick Cave', 'Chick Ortega'], 'directors': ['Wim Wenders'], 'screenwriters': ['Jürgen Knieper'], 'music_composers': ['Wim Wenders', 'Peter Handke', 'Richard Reitinger']},\n",
       " 'm_1092': {'movie_id': 'm_1092', 'title': 'The Third Man', 'genres': ['Thriller', 'Mystery'], 'production_countries': ['GB'], 'collection_name': '', 'release_year': '1949', 'actors': ['Joseph Cotten', 'Alida Valli', 'Orson Welles', 'Trevor Howard', 'Bernard Lee', 'Paul Hörbiger', 'Siegfried Breuer', 'Erich Ponto', 'Ernst Deutsch', 'Wilfrid Hyde-White', 'Hedwig Bleibtreu', 'Annie Rosar', 'Eric Pohlmann', 'Hannah Norbert', 'Karel Stepanek', 'Herbert Halbik', 'Frederick Schreicker', 'Hugo Schuster', 'Brother Theodore', 'Carol Reed'], 'directors': ['Carol Reed'], 'screenwriters': ['Anton Karas'], 'music_composers': ['Graham Greene']},\n",
       " 'm_348': {'movie_id': 'm_348', 'title': 'Alien', 'genres': ['Horror', 'Action', 'Thriller', 'Science Fiction'], 'production_countries': ['US', 'GB'], 'collection_name': 'Alien Collection', 'release_year': '1979', 'actors': ['Tom Skerritt', 'Sigourney Weaver', 'Veronica Cartwright', 'Harry Dean Stanton', 'John Hurt', 'Ian Holm', 'Yaphet Kotto', 'Bolaji Badejo', 'Helen Horton', 'Eddie Powell'], 'directors': ['Ridley Scott'], 'screenwriters': ['Jerry Goldsmith'], 'music_composers': [\"Dan O'Bannon\"]},\n",
       " 'm_175': {'movie_id': 'm_175', 'title': 'Le Grand Bleu', 'genres': ['Adventure', 'Drama', 'Romance'], 'production_countries': ['FR', 'IT', 'US'], 'collection_name': '', 'release_year': '1988', 'actors': ['Jean-Marc Barr', 'Jean Reno', 'Rosanna Arquette', 'Paul Shenar', 'Sergio Castellitto', 'Jean Bouise', 'Marc Duret', 'Griffin Dunne', 'Andréas Voutsinas', 'Valentina Vargas', 'Kimberly Beck', 'Bruce Guerre-Berthelot', 'Gregory Forstner', 'Claude Besson', 'Patrick Fontana', 'Alessandra Vazzoler', 'Paul Herman', 'Geoffrey Carey', 'Jan Rouiller', 'Pierre Semmler', 'Eric Do', 'Pierre-Alain de Garrigues'], 'directors': ['Luc Besson'], 'screenwriters': ['Eric Serra'], 'music_composers': []},\n",
       " 'm_539': {'movie_id': 'm_539', 'title': 'Psycho', 'genres': ['Drama', 'Horror', 'Thriller'], 'production_countries': ['US'], 'collection_name': 'Psycho Collection', 'release_year': '1960', 'actors': ['Anthony Perkins', 'Vera Miles', 'John Gavin', 'Janet Leigh', 'Martin Balsam', 'John McIntire', 'Simon Oakland', 'Frank Albertson', 'Patricia Hitchcock', 'Vaughn Taylor', 'Lurene Tuttle', 'Mort Mills', 'John Anderson', 'Alfred Hitchcock', 'Walter Bacon', 'Francis De Sales', 'George Dockstader', 'Harper Flaherty', \"Lillian O'Malley\", 'Fred Scheiwiller', 'George Eldredge', 'Sam Flint', 'Virginia Gregg', 'Jeanette Nolan', 'Frank Killmond', 'Ted Knight', 'Pat McCaffrie', 'Hans Moebus', 'Helen Wallace', 'Robert Osborne'], 'directors': ['Alfred Hitchcock'], 'screenwriters': ['Bernard Herrmann'], 'music_composers': ['Joseph Stefano']},\n",
       " 'm_490': {'movie_id': 'm_490', 'title': 'Det sjunde inseglet', 'genres': ['Fantasy', 'Drama'], 'production_countries': ['SE'], 'collection_name': '', 'release_year': '1957', 'actors': ['Max von Sydow', 'Gunnar Björnstrand', 'Bengt Ekerot', 'Nils Poppe', 'Bibi Andersson', 'Inga Gill', 'Maud Hansson', 'Inga Landgré', 'Gunnel Lindblom', 'Bertil Anderberg', 'Anders Ek', 'Åke Fridell', 'Gunnar Olsson', 'Erik Strandmark', 'Sten Ardenstam', 'Gudrun Brost', 'Lars Lind', 'Benkt-Åke Benktsson', 'Tor Borong', 'Harry Asklund', 'Tommy Karlsson', 'Gösta Prüzelius', 'Tor Isedal', 'Mona Malm', 'Josef Norman', 'Fritjof Tall', 'Catherine Berg', 'Lena Bergman', 'Ulf Johanson', 'Gordon Löwenadler', 'Nils Whiten'], 'directors': ['Ingmar Bergman'], 'screenwriters': ['Erik Nordgren'], 'music_composers': ['Ingmar Bergman']},\n",
       " 'm_218': {'movie_id': 'm_218', 'title': 'The Terminator', 'genres': ['Action', 'Thriller', 'Science Fiction'], 'production_countries': ['GB', 'US'], 'collection_name': 'The Terminator Collection', 'release_year': '1984', 'actors': ['Arnold Schwarzenegger', 'Michael Biehn', 'Linda Hamilton', 'Paul Winfield', 'Lance Henriksen', 'Bess Motta', 'Earl Boen', 'Rick Rossovich', 'Bill Paxton', 'Brian Thompson', 'Franco Columbu', 'Dick Miller', 'Joe Farago', 'Shawn Schepps', 'Bruce M. Kerner', 'Brad Rearden', 'William Wisher Jr.', 'Ken Fritz', 'Hettie Lynne Hurtes', 'Philip Gordon', 'Stan Yale', 'Leslie Morris', 'Hugh Farrington', 'Harriet Medin', 'James Ralston', 'Wayne Stone', 'John E. Bristol', 'Patrick Pinney', 'Greg Robbins', 'Marianne Muellerleile', 'Marian Green', 'J. Randolph Harrison', 'Darrell Mapson'], 'directors': ['James Cameron'], 'screenwriters': ['Brad Fiedel'], 'music_composers': []},\n",
       " 'm_379': {'movie_id': 'm_379', 'title': \"Miller's Crossing\", 'genres': ['Drama', 'Thriller', 'Crime'], 'production_countries': ['US'], 'collection_name': '', 'release_year': '1990', 'actors': ['John Turturro', 'Gabriel Byrne', 'Marcia Gay Harden', 'Steve Buscemi', 'Albert Finney', 'Jon Polito', 'J.E. Freeman', 'Mike Starr', 'Al Mancini', 'Richard Woods', 'Thomas Toner', 'Mario Todisco', 'Olek Krupa', 'Michael Jeter', 'Lanny Flaherty', 'Jeanette Kontomitras', 'Louis Charles Mounicou III', 'John McConnell', 'Danny Aiello III', 'Helen Jolly', 'Hilda McLean', 'Monte Starr', 'Don Picard', 'Salvatore H. Tornabene', 'Kevin Dearie', 'Michael Badalucco', 'Charles Ferrara', 'Esteban Fernandez', 'George Fernandez', 'Charles Gunning', 'Dave Drinkx', 'David Darlow', 'Robert LaBrosse', 'Carl Rooney', 'Jack Harris', 'Jery Hewitt', 'Sam Raimi', 'John Schnauder Jr.', 'Zolly Levin', 'Joey Ancona', 'Bill Raye', 'William Preston Robertson', 'Frances McDormand', 'MIchael P. Cahill'], 'directors': ['Joel Coen'], 'screenwriters': ['Carter Burwell'], 'music_composers': ['Joel Coen', 'Ethan Coen']},\n",
       " 'm_207': {'movie_id': 'm_207', 'title': 'Dead Poets Society', 'genres': ['Drama'], 'production_countries': ['US'], 'collection_name': '', 'release_year': '1989', 'actors': ['Robin Williams', 'Ethan Hawke', 'Robert Sean Leonard', 'Gale Hansen', 'Josh Charles', 'Dylan Kussman', 'Allelon Ruggiero', 'James Waterston', 'Norman Lloyd', 'Kurtwood Smith', 'Carla Belver', 'Leon Pownall', 'George Martin', 'Alexandra Powers', 'Lara Flynn Boyle'], 'directors': ['Peter Weir'], 'screenwriters': ['Maurice Jarre'], 'music_composers': ['Tom Schulman']},\n",
       " 'm_235': {'movie_id': 'm_235', 'title': 'Stand by Me', 'genres': ['Crime', 'Drama'], 'production_countries': ['US'], 'collection_name': '', 'release_year': '1986', 'actors': ['Wil Wheaton', 'River Phoenix', 'Corey Feldman', \"Jerry O'Connell\", 'Kiefer Sutherland', 'Richard Dreyfuss', 'John Cusack', 'Casey Siemaszko', 'Bradley Gregg', 'Marshall Bell', 'Gary Riley', 'Frances Lee McCain', 'Scott Beach', 'Jason Oliver', 'Bruce Kirby', 'William Bronder'], 'directors': ['Rob Reiner'], 'screenwriters': ['Jack Nitzsche'], 'music_composers': ['Bruce A. Evans', 'Raynold Gideon']},\n",
       " 'm_832': {'movie_id': 'm_832', 'title': 'M', 'genres': ['Drama', 'Action', 'Thriller', 'Crime'], 'production_countries': ['DE'], 'collection_name': '', 'release_year': '1931', 'actors': ['Peter Lorre', 'Ellen Widmann', 'Inge Landgut', 'Otto Wernicke', 'Theodor Loos', 'Gustaf Gründgens', 'Friedrich Gnaß', 'Fritz Odemar', 'Paul Kemp', 'Theo Lingen', 'Gerhard Bienert'], 'directors': ['Fritz Lang'], 'screenwriters': [], 'music_composers': ['Fritz Lang', 'Thea von Harbou']},\n",
       " 'm_765': {'movie_id': 'm_765', 'title': 'Evil Dead II', 'genres': ['Horror', 'Comedy', 'Fantasy'], 'production_countries': ['US'], 'collection_name': 'Evil Dead Collection', 'release_year': '1987', 'actors': ['Bruce Campbell', 'Sarah Berry', 'Dan Hicks', 'Kassie DePaiva', 'Denise Bixler', 'Richard Domeier', 'John Peakes', 'Lou Hancock', 'Ted Raimi'], 'directors': ['Sam Raimi'], 'screenwriters': ['Joseph LoDuca'], 'music_composers': ['Sam Raimi', 'Scott Spiegel']},\n",
       " 'm_105': {'movie_id': 'm_105', 'title': 'Back to the Future', 'genres': ['Adventure', 'Comedy', 'Science Fiction', 'Family'], 'production_countries': ['US'], 'collection_name': 'Back to the Future Collection', 'release_year': '1985', 'actors': ['Michael J. Fox', 'Christopher Lloyd', 'Lea Thompson', 'Crispin Glover', 'Thomas F. Wilson', 'Claudia Wells', 'Marc McClure', 'Wendie Jo Sperber', 'George DiCenzo', 'Frances Lee McCain', 'James Tolkan', 'Harry Waters, Jr.', 'Billy Zane', 'J.J. Cohen', 'Casey Siemaszko', 'Donald Fullilove', 'Lisa Freeman', 'Cristen Kauffman', 'Elsa Raven', 'Will Hare', 'Ivy Bethune', 'Jason Marin', 'Katherine Britton', 'Jason Hervey', 'Maia Brewton', 'Courtney Gains', 'Richard L. Duran', \"Jeff O'Haco\", 'Johnny Green', 'Jamie Abbott', 'Norman Alden', 'Read Morgan', 'Sachi Parker', 'Robert Krantz', 'Gary Riley', 'Karen Petrasek', 'George Buck Flower', 'Tommy Thomas', \"Granville 'Danny' Young\", 'David Harold Brown', 'Lloyd L. Tolbert', 'Paul Hanson', 'Lee Brownfield', 'Robert DeLapp', 'Walter Scott', 'Charles L. Campbell', 'Deborah Harmon', 'Janine King', 'Huey Lewis', 'Tom Tangen', 'Arthur Tovey'], 'directors': ['Robert Zemeckis'], 'screenwriters': ['Alan Silvestri'], 'music_composers': []},\n",
       " 'm_903': {'movie_id': 'm_903', 'title': 'Cool Hand Luke', 'genres': ['Crime', 'Drama'], 'production_countries': ['US'], 'collection_name': '', 'release_year': '1967', 'actors': ['Paul Newman', 'George Kennedy', 'Luke Askew', 'Morgan Woodward', 'Harry Dean Stanton', 'Dennis Hopper', 'Lou Antonio', 'Robert Drivas', 'Strother Martin', 'Jo Van Fleet', 'Clifton James', 'Marc Cavell', 'Richard Davalos', 'Robert Donner', 'J. D. Cannon', 'Joe Don Baker', 'James Gammon', 'Chuck Hicks', 'Rance Howard', 'James Jeter', 'Joy Harmon', 'Anthony Zerbe', 'Warren Finnerty', 'John McLiam', 'Wayne Rogers', 'Charles Tyner', 'Ralph Waite', 'Buck Kartalian', 'Kim Kahana', 'Donn Pearce', 'John Pearce', 'Rush Williams'], 'directors': ['Stuart Rosenberg'], 'screenwriters': ['Lalo Schifrin'], 'music_composers': ['Donn Pearce', 'Frank Pierson']},\n",
       " 'm_3034': {'movie_id': 'm_3034', 'title': 'Young Frankenstein', 'genres': ['Comedy', 'Science Fiction'], 'production_countries': ['US'], 'collection_name': '', 'release_year': '1974', 'actors': ['Gene Wilder', 'Peter Boyle', 'Marty Feldman', 'Madeline Kahn', 'Cloris Leachman', 'Teri Garr', 'Gene Hackman', 'Kenneth Mars', 'Richard Haydn', 'Oscar Beregi Jr.', 'Arthur Malet', 'Monte Landis', 'Berry Kroeger', 'Ian Abercrombie', 'Mel Brooks', 'Lou Cutell', 'Michael Fox', 'Leoda Richards', 'Clement von Franckenstein', 'Liam Dunn', 'Danny Goldman', 'Anne Beesley', 'Rusty Blitz', 'John Madison', 'John Dennis', 'Jeff Maxwell', 'Lars Hensen', 'Lidia Kristen', 'Johnny Marlin', \"Pat O'Hara\", 'Norbert Schiller', 'Rolfe Sedan', 'Maida Severn', 'Arthur Tovey'], 'directors': ['Mel Brooks'], 'screenwriters': ['John Morris'], 'music_composers': ['Gene Wilder', 'Mel Brooks']},\n",
       " 'm_339': {'movie_id': 'm_339', 'title': 'Night on Earth', 'genres': ['Comedy', 'Drama'], 'production_countries': ['DE', 'FI', 'FR', 'GB', 'US'], 'collection_name': '', 'release_year': '1991', 'actors': ['Winona Ryder', 'Gena Rowlands', 'Lisanne Falk', 'Alan Randolph Scott', 'Anthony Portillo', 'Giancarlo Esposito', 'Rosie Perez', 'Richard Boes', 'Isaach De Bankolé', 'Béatrice Dalle', \"Pascal N'Zonzi\", \"Emile Abossolo M'bo\", 'Noel Kaufmann', 'Stéphane Boucher', 'Roberto Benigni', 'Paolo Bonacelli', 'Gianni Schettino', 'Antonio Ragusa', 'Nicola Facondo', 'Camilla Begnoni', 'Romolo Di Biasi', 'Donatella Servadio', 'Matti Pellonpää', 'Kari Väänänen', 'Sakari Kuosmanen', 'Tomi Salmela', 'Eija Vilpas', 'Jaakko Talaskivi', 'Klaus Heydemann', 'Armin Mueller-Stahl'], 'directors': ['Jim Jarmusch'], 'screenwriters': ['Tom Waits'], 'music_composers': ['Jim Jarmusch']},\n",
       " 'm_914': {'movie_id': 'm_914', 'title': 'The Great Dictator', 'genres': ['Comedy'], 'production_countries': ['US'], 'collection_name': '', 'release_year': '1940', 'actors': ['Charlie Chaplin', 'Jack Oakie', 'Reginald Gardiner', 'Henry Daniell', 'Billy Gilbert', 'Paul Weigel', 'Paulette Goddard', 'Grace Hayle', 'Maurice Moscovitch', 'Emma Dunn', 'Bernard Gorcey', 'Carter DeHaven', 'Eddie Gribbon', 'Rudolph Anders', 'Nita Pike', 'George Lynn', 'Chester Conklin', 'Esther Michelson', 'Hank Mann', 'Florence Wright', 'Eddie Dunn', 'Wheeler Dryden', 'Fred Aldrich', 'Richard Alexander', 'Sig Arno', 'William Arnold', 'Joe Bordeaux', 'Don Brodie', 'Gino Corrado', 'John Davidson', 'Max Davidson', 'Lew Davis', 'Pat Flaherty', 'Bud Geary', 'Sam Harris', 'Eddie Hart', 'Leyland Hodgson', 'William Irving', 'Charles Irwin', 'Ethelreda Leopold', 'Torben Meyer', 'Bert Moorhouse', 'Nellie V. Nichols', 'Manuel París', 'Jack Perrin', 'Lucien Prival', 'Cyril Ring', 'Henry Roquemore', 'Tiny Sandford', 'Hans Schumm', 'Harry Semels', 'Charles Sullivan', 'Carl Voss', 'Leo White', 'Harry Wilson', 'Hans Conried', 'Francis Ernest Drake', 'Francesca Santoro', 'Leonard Walker'], 'directors': ['Charlie Chaplin'], 'screenwriters': ['Meredith Willson', 'Charlie Chaplin'], 'music_composers': ['Charlie Chaplin']},\n",
       " 'm_288': {'movie_id': 'm_288', 'title': 'High Noon', 'genres': ['Western'], 'production_countries': ['US'], 'collection_name': '', 'release_year': '1952', 'actors': ['Gary Cooper', 'Grace Kelly', 'Thomas Mitchell', 'Lloyd Bridges', 'Katy Jurado', 'Otto Kruger', 'Lon Chaney Jr.', 'Harry Morgan', 'Ian MacDonald', 'Eve McVeagh', 'Morgan Farley', 'Harry Shannon', 'Lee Van Cleef', 'Robert J. Wilke', 'Sheb Wooley', 'Jack Elam', 'John Doucette', 'Ted Stanhope', 'Lee Aaker', 'Guy Beach', 'Larry J. Blake', 'John Breen', 'Tex Driscoll', 'Herschel Graham', 'Paul Kruger', \"William H. O'Brien\", 'Roy Bucko', 'Russell Custer', 'Nora Bush', 'Ann Kunde', 'Ben Corbett', 'Rudy Germane', 'Chuck Hayward', 'Michael Jeffers', 'Kansas Moehring', 'Jack Montgomery', 'Buddy Roosevelt', 'Allen D. Sewall', 'Howland Chamberlain', 'Virginia Christine', 'Cliff Clark', 'Paul Dubov', 'Dick Elliott', 'Virginia Farmer', 'Tim Graham', 'Tom Greenway', 'Harry Harvey', 'Nolan Leary', 'Tom London', 'Merrill McCormick', 'William Newell', 'James Millican', \"William 'Bill' Phillips\", 'Lucien Prival', 'Ralph Reed', 'Charles Soldani', 'Slim Talbot'], 'directors': ['Fred Zinnemann'], 'screenwriters': ['Dimitri Tiomkin'], 'music_composers': ['Carl Foreman']},\n",
       " 'm_910': {'movie_id': 'm_910', 'title': 'The Big Sleep', 'genres': ['Crime', 'Drama', 'Mystery', 'Thriller'], 'production_countries': ['US'], 'collection_name': '', 'release_year': '1946', 'actors': ['Humphrey Bogart', 'Lauren Bacall', 'John Ridgely', 'Martha Vickers', 'Dorothy Malone', 'Peggy Knudsen', 'Charles Waldron', 'Regis Toomey', 'Charles D. Brown', 'Elisha Cook Jr.', 'Louis Jean Heydt', 'Bob Steele', 'Sonia Darrin'], 'directors': ['Howard Hawks'], 'screenwriters': ['Max Steiner'], 'music_composers': ['Jules Furthman', 'Leigh Brackett', 'William Faulkner']},\n",
       " 'm_2640': {'movie_id': 'm_2640', 'title': 'Heathers', 'genres': ['Thriller', 'Comedy', 'Drama'], 'production_countries': ['US'], 'collection_name': '', 'release_year': '1988', 'actors': ['Winona Ryder', 'Christian Slater', 'Shannen Doherty', 'Lisanne Falk', 'Kim Walker', 'Penelope Milford', 'Glenn Shadix', 'Lance Fenton', 'Jennifer Rhodes', 'Jeremy Applegate', 'Patrick Labyorteaux', 'Jon Matthews', 'Carrie Lynn', 'Phill Lewis', 'Renée Estevez', 'John Zarchen', 'William Cort', 'John Ingle', 'Stuart Mabray', 'Sherrie Wills', 'Larry Cox', 'Kent Stoddard', 'Mark Carlton'], 'directors': ['Michael Lehmann'], 'screenwriters': ['David Newman'], 'music_composers': ['Daniel Waters']},\n",
       " 'm_89': {'movie_id': 'm_89', 'title': 'Indiana Jones and the Last Crusade', 'genres': ['Adventure', 'Action'], 'production_countries': ['US'], 'collection_name': 'Indiana Jones Collection', 'release_year': '1989', 'actors': ['Harrison Ford', 'Sean Connery', 'Denholm Elliott', 'Alison Doody', 'John Rhys-Davies', 'Julian Glover', 'River Phoenix', 'Michael Byrne', 'Kevork Malikyan', 'Robert Eddison', 'Richard Young', 'Alexei Sayle', 'Paul Maxwell', 'Isla Blair', 'Vernon Dobtcheff', 'Alex Hyde-White', 'J. J. Hardy', 'Bradley Gregg', \"Jeff O'Haco\", 'Vince Deadrick Sr.', 'Marc Miles', 'Ted Grossman', 'Tim Hiser', 'Larry Sanders', 'Will Miles', 'David Murray', 'Jerry Harte', 'Billy J. Mitchell', 'Martin Gordon', 'Paul Humpoletz', 'Tom Branch', 'Graeme Crowther', 'Luke Hanson', 'Chris Jenkinson', 'Nicola Scott', 'Louis Sheldon', 'Stefan Kalipha', 'Peter Pacey', 'Pat Roach', 'Suzanne Roquette', 'Eugene Lipinski', 'George Malpas', 'Julie Eccles', 'Nina Armstrong', 'Ronald Lacey', 'Nick Gillard', 'Derek Lyons', 'Lee Richards', 'Michael Sheard', 'Tip Tipping', 'Frederick Jaeger'], 'directors': ['Steven Spielberg'], 'screenwriters': ['John Williams'], 'music_composers': ['Jeffrey Boam']},\n",
       " 'm_783': {'movie_id': 'm_783', 'title': 'Gandhi', 'genres': ['Drama', 'History'], 'production_countries': ['IN', 'GB'], 'collection_name': '', 'release_year': '1982', 'actors': ['Ben Kingsley', 'Candice Bergen', 'Edward Fox', 'John Gielgud', 'Trevor Howard', 'Rohini Hattangadi', 'John Mills', 'Martin Sheen', 'Ian Charleson', 'Roshan Seth', 'Om Puri', 'Saeed Jaffrey', 'Alyque Padamsee', 'Amrish Puri', 'Geraldine James', 'Daniel Day-Lewis', 'Athol Fugard', 'Dalip Tahil', 'Günther Maria Halmer', 'Shreeram Lagoo', 'Terrence Hardiman', 'Ian Bannen', 'Michael Bryant', 'John Clements', 'Richard Griffiths', 'Nigel Hawthorne', 'Bernard Hepton', 'Michael Hordern', 'Richard Vernon', 'Harsh Nayyar', 'Vijay Kashyap', 'Supriya Pathak', 'Neena Gupta', 'Shane Rimmer', 'Peter Harlowe', 'Anang Desai', 'Winston Ntshona', 'Peter Cartwright', 'Marius Weyers', 'Richard Mayes', 'Alok Nath', 'Ken Hutchison', 'Norman Chancer', 'Charu Bala Chokshi', 'Ray Burdis', 'Daniel Peacock', 'Avis Bunnage', 'Mohan Agashe', 'John Savident', 'Michael Godley', 'Christopher Good', 'David Markham', 'Moti Makan', 'Jalal Agha', 'Rupert Frazer', 'K.K. Raina', 'Dominic Guard', 'Bernard Hill', 'Nana Palsikar', 'Graham Seed', 'Keith Drinkel', 'Gerald Sim', 'Colin Farrell', 'Sanjeev Puri', 'James Cossins', 'Habib Tanvir', 'Barry John', 'Brian Oulton', 'James Snell', 'John Boxer', 'Bernard Horsfall', 'Richard Leech', 'Pankaj Kapur', 'David Sibley', 'Stanley Lebor', 'Jon Croft', 'William Hoyland', 'John Ratzenberger', 'Jack McKenzie', 'Vinay Apte', 'Suhas Palshikar', 'Shekhar Chatterjee', 'Amarjeet', 'Sunil Shende', 'Derek Lyons', 'Sudhir Dalvi', 'David Gant', 'Tom Alter', 'Ernest Clark ', 'Fred Wood', 'John Quentin', 'Geoffrey Chater'], 'directors': ['Richard Attenborough'], 'screenwriters': [], 'music_composers': ['John Briley']},\n",
       " 'm_830': {'movie_id': 'm_830', 'title': 'Forbidden Planet', 'genres': ['Adventure', 'Science Fiction', 'Action'], 'production_countries': ['US'], 'collection_name': '', 'release_year': '1956', 'actors': ['Walter Pidgeon', 'Anne Francis', 'Leslie Nielsen', 'Warren Stevens', 'Jack Kelly', 'Richard Anderson', 'Earl Holliman', 'Robert Dix', 'Jimmy Thompson', 'James Drury', 'Harry Harvey Jr.', 'Roger McGee', 'Peter Miller', 'Morgan Jones', 'Richard Grant', 'Robby the Robot', 'James Best', 'William Boyett', 'Frankie Darro', 'Gavin MacLeod', 'Marvin Miller', 'George Wallace'], 'directors': ['Fred M. Wilcox'], 'screenwriters': ['Bebe Barron', 'Louis Barron'], 'music_composers': ['Cyril Hume']},\n",
       " 'm_229': {'movie_id': 'm_229', 'title': 'Bride of Frankenstein', 'genres': ['Horror', 'Science Fiction'], 'production_countries': ['US'], 'collection_name': 'Frankenstein (Universal Series)', 'release_year': '1935', 'actors': ['Boris Karloff', 'Colin Clive', 'Ernest Thesiger', 'Elsa Lanchester', 'Valerie Hobson', 'Gavin Gordon', 'Douglas Walton', \"Una O'Connor\", 'E.E. Clive', 'Lucien Prival', 'O.P. Heggie', 'Dwight Frye', 'Reginald Barlow', 'Mary Gordon', 'Anne Darling', 'Ted Billings', 'Norman Ainsley', 'Peter Shaw', 'Kansas DeForrest', 'Josephine McKim', 'Michael Mark', 'Billy Barty', 'John Carradine', 'Bess Flowers', 'Robert Adair', 'Norman Ainsley', 'Frank Benson', 'Maurice Black', 'Walter Brennan', 'Mae Bruce', 'A.S. Byron', \"D'Arcy Corrigan\", 'Grace Cunard', 'Jack Curtis', 'J. Gunnis Davis', 'Kansas DeForrest', 'Elspeth Dudgeon', 'Helen Jerome Eddy', 'Neil Fitzgerald', 'Brenda Fowler', 'John George', 'Helen Gibson', 'Marilyn Harris', 'Rollo Lloyd', 'Torben Meyer', 'Edwin Mordant', 'Edward Peil Sr.', 'Tempe Pigott', 'Sarah Schwartz', 'Mary Stewart', 'Frank Terry', 'Anders Van Haden', 'Dorothy Vernon', 'Lucio Villiegas', 'Joan Woodbury'], 'directors': ['James Whale'], 'screenwriters': ['Franz Waxman'], 'music_composers': []},\n",
       " 'm_377': {'movie_id': 'm_377', 'title': 'A Nightmare on Elm Street', 'genres': ['Horror'], 'production_countries': ['US'], 'collection_name': 'A Nightmare on Elm Street Collection', 'release_year': '1984', 'actors': ['John Saxon', 'Ronee Blakley', 'Heather Langenkamp', 'Amanda Wyss', 'Jsu Garcia', 'Johnny Depp', 'Robert Englund', 'Leslie Hoffman', 'Joe Unger', 'Charles Fleischer', 'Joseph Whipp', 'Lin Shaye', 'Mimi Craven', 'David Andrews', 'Jack Shea', 'Ed Call', 'Sandy Lipton', 'Jeff Levine', 'Donna Woodrum', 'Paul Grenier', 'Ash Adams', 'Don Hannah', 'Shashawnee Hall', 'Brian Reise', 'Carol Pritikin', 'Kathi Gibbs', 'John R. Peterson', 'Chris Tashima', 'Antonia Yannouli'], 'directors': ['Wes Craven'], 'screenwriters': ['Charles Bernstein'], 'music_composers': ['Wes Craven']},\n",
       " 'm_653': {'movie_id': 'm_653', 'title': 'Nosferatu, eine Symphonie des Grauens', 'genres': ['Fantasy', 'Horror'], 'production_countries': ['DE'], 'collection_name': '', 'release_year': '1922', 'actors': ['Max Schreck', 'Gustav von Wangenheim', 'Greta Schröder', 'Alexander Granach', 'Georg H. Schnell', 'Ruth Landshoff', 'Gustav Botz', 'John Gottowt', 'Max Nemetz', 'Wolfgang Heinz', 'Albert Venohr', 'Eric van Viele', 'Karl Etlinger', 'Hardy von Francois', 'Guido Herzfeld', 'Fanny Schreck', 'Heinrich Witte'], 'directors': ['F.W. Murnau'], 'screenwriters': ['Hans Erdmann'], 'music_composers': ['Henrik Galeen']},\n",
       " 'm_145': {'movie_id': 'm_145', 'title': 'Breaking the Waves', 'genres': ['Drama', 'Romance'], 'production_countries': ['DK', 'FR', 'IS', 'NL', 'NO', 'SE'], 'collection_name': 'Heart of Gold Collection', 'release_year': '1996', 'actors': ['Emily Watson', 'Stellan Skarsgård', 'Katrin Cartlidge', 'Jean-Marc Barr', 'Adrian Rawlins', 'Jonathan Hackett', 'Sandra Voe', 'Udo Kier', 'Mikkel Gaup', 'Roef Ragas', 'Robert Robertson', 'Phil McCall', 'Desmond Reilly', 'Sarah Gudgeon', 'Finlay Welsh', 'David Gallacher', 'Ray Jeffries', 'Owen Kavanagh', 'Bob Docherty', 'David Bateson'], 'directors': ['Lars von Trier'], 'screenwriters': ['Joachim Holbek'], 'music_composers': []},\n",
       " 'm_1573': {'movie_id': 'm_1573', 'title': 'Die Hard 2', 'genres': ['Action', 'Thriller'], 'production_countries': ['US'], 'collection_name': 'Die Hard Collection', 'release_year': '1990', 'actors': ['Bruce Willis', 'Bonnie Bedelia', 'William Atherton', 'Reginald VelJohnson', 'Franco Nero', 'William Sadler', 'John Amos', 'Dennis Franz', 'Art Evans', 'Fred Dalton Thompson', 'Tom Bower', 'Sheila McCarthy', 'Don Harvey', 'Tony Ganios', 'Peter Nelson', 'Robert Patrick', 'Mick Cunningham', 'John Leguizamo', 'Tom Verica', 'John Costelloe', 'Vondie Curtis-Hall', 'Mark Boone Junior', 'Ken Baldwin', 'Danny Weselis', 'Gregg Kovan', 'Don Charles McGovern', 'Danial Donai', 'Jeff Langton', \"Bob 'Rocky' Cheli\", 'Dale Jacoby', 'Vincent Mazella Jr.', \"Patrick O'Neal\", 'Ben Lemon', 'Jason Ross-Azikiwe', 'Anthony Droz', 'Michael Francis Clarke', 'Steve Pershing', 'Tom Everett', 'Sherry Bilsing', 'Karla Tamburrelli', 'Jeanne Bates', 'Colm Meaney', 'Charles Lanyer', 'Rob Steinberg'], 'directors': ['Renny Harlin'], 'screenwriters': ['Michael Kamen'], 'music_composers': ['Steven E. de Souza', 'Doug Richardson']},\n",
       " 'm_172': {'movie_id': 'm_172', 'title': 'Star Trek V: The Final Frontier', 'genres': ['Science Fiction', 'Action', 'Adventure', 'Thriller'], 'production_countries': ['US'], 'collection_name': 'Star Trek: The Original Series Collection', 'release_year': '1989', 'actors': ['William Shatner', 'Leonard Nimoy', 'DeForest Kelley', 'James Doohan', 'George Takei', 'Walter Koenig', 'Nichelle Nichols', 'David Warner', 'Laurence Luckinbill', 'Charles Cooper', 'Cynthia Gouw', 'Todd Bryant', 'George Murdock', 'Jonathan Simpson'], 'directors': ['William Shatner'], 'screenwriters': ['Jerry Goldsmith'], 'music_composers': ['David Loughery']},\n",
       " 'm_154': {'movie_id': 'm_154', 'title': 'Star Trek II: The Wrath of Khan', 'genres': ['Action', 'Adventure', 'Science Fiction', 'Thriller'], 'production_countries': ['US'], 'collection_name': 'Star Trek: The Original Series Collection', 'release_year': '1982', 'actors': ['William Shatner', 'Leonard Nimoy', 'DeForest Kelley', 'James Doohan', 'George Takei', 'Walter Koenig', 'Nichelle Nichols', 'Ricardo Montalban', 'Bibi Besch', 'Merritt Butrick', 'Kirstie Alley', 'Paul Winfield', 'Ike Eisenmann', 'John Vargas', 'John Winston', 'Paul Kent'], 'directors': ['Nicholas Meyer'], 'screenwriters': ['James Horner'], 'music_composers': ['Jack B. Sowards']},\n",
       " 'm_168': {'movie_id': 'm_168', 'title': 'Star Trek IV: The Voyage Home', 'genres': ['Science Fiction', 'Adventure'], 'production_countries': ['US'], 'collection_name': 'Star Trek: The Original Series Collection', 'release_year': '1986', 'actors': ['William Shatner', 'Leonard Nimoy', 'DeForest Kelley', 'James Doohan', 'George Takei', 'Walter Koenig', 'Nichelle Nichols', 'Jane Wyatt', 'Catherine Hicks', 'Mark Lenard', 'Robin Curtis', 'Robert Ellenstein', 'John Schuck', 'Brock Peters', 'Michael Snyder'], 'directors': ['Leonard Nimoy'], 'screenwriters': ['Leonard Rosenman'], 'music_composers': ['Steve Meerson', 'Peter Krikes', 'Harve Bennett', 'Nicholas Meyer']},\n",
       " 'm_364': {'movie_id': 'm_364', 'title': 'Batman Returns', 'genres': ['Action', 'Fantasy'], 'production_countries': ['GB', 'US'], 'collection_name': 'Batman Collection', 'release_year': '1992', 'actors': ['Michael Keaton', 'Danny DeVito', 'Michelle Pfeiffer', 'Christopher Walken', 'Michael Gough', 'Pat Hingle', 'Vincent Schiavelli', 'Michael Murphy', 'Cristi Conaway', 'Paul Reubens', 'Diane Salinger'], 'directors': ['Tim Burton'], 'screenwriters': ['Danny Elfman'], 'music_composers': ['Daniel Waters', 'Wesley Strick']},\n",
       " 'm_378': {'movie_id': 'm_378', 'title': 'Raising Arizona', 'genres': ['Comedy', 'Crime'], 'production_countries': ['US'], 'collection_name': '', 'release_year': '1987', 'actors': ['Nicolas Cage', 'Holly Hunter', 'Trey Wilson', 'John Goodman', 'William Forsythe', 'Sam McMurray', 'Frances McDormand', \"Randall 'Tex' Cobb\", 'T.J. Kuhn', 'Lynne Kitei', 'M. Emmet Walsh'], 'directors': ['Joel Coen', 'Ethan Coen'], 'screenwriters': ['Carter Burwell'], 'music_composers': ['Joel Coen', 'Ethan Coen']},\n",
       " 'm_3179': {'movie_id': 'm_3179', 'title': 'Beavis and Butt-Head Do America', 'genres': ['Animation', 'Comedy'], 'production_countries': ['US'], 'collection_name': '', 'release_year': '1996', 'actors': ['Mike Judge', 'Bruce Willis', 'Demi Moore', 'Robert Stack', 'Richard Linklater', 'Richard Linklater', 'Cloris Leachman', 'Greg Kinnear', 'David Letterman', 'Tony Darling', 'David Letterman', 'Kristofor Brown', 'Eric Bogosian', 'Jacqueline Barba', 'Pamela Blair'], 'directors': ['Mike Judge'], 'screenwriters': ['John Frizzell'], 'music_composers': ['Mike Judge', 'Joe Stillman']},\n",
       " 'm_4232': {'movie_id': 'm_4232', 'title': 'Scream', 'genres': ['Crime', 'Horror', 'Mystery'], 'production_countries': ['US'], 'collection_name': 'Scream Collection', 'release_year': '1996', 'actors': ['David Arquette', 'Neve Campbell', 'Courteney Cox', 'Matthew Lillard', 'Rose McGowan', 'Skeet Ulrich', 'Drew Barrymore', 'Jamie Kennedy', 'W. Earl Brown', 'Joseph Whipp', 'Liev Schreiber', 'Roger L. Jackson', 'Kevin Patrick Walls', 'David Booth', 'Lawrence Hecht', 'Frances Lee McCain', 'Henry Winkler', 'Linda Blair', 'Wes Craven'], 'directors': ['Wes Craven'], 'screenwriters': ['Marco Beltrami'], 'music_composers': ['Kevin Williamson']},\n",
       " 'm_8860': {'movie_id': 'm_8860', 'title': 'Metro', 'genres': ['Action', 'Adventure', 'Comedy', 'Crime', 'Thriller'], 'production_countries': ['US'], 'collection_name': '', 'release_year': '1997', 'actors': ['Eddie Murphy', 'Kim Miyori', 'Art Evans', 'James Carpenter', 'Michael Rapaport', 'Donal Logue', 'Jeni Chua', 'Michael Wincott', 'Carmen Ejogo'], 'directors': ['Thomas Carter'], 'screenwriters': ['Steve Porcaro'], 'music_composers': ['Randy Feldman']},\n",
       " 'm_784': {'movie_id': 'm_784', 'title': 'Kolja', 'genres': ['Music', 'Drama', 'Comedy'], 'production_countries': ['FR', 'CZ', 'GB'], 'collection_name': '', 'release_year': '1996', 'actors': ['Andrei Chalimon', 'Zdeněk Svěrák', 'Libuše Šafránková', 'Ondřej Vetchý', 'Stella Zázvorková', 'Silvia Šuvadová', 'Ladislav Smoljak', 'Irina Bezrukova'], 'directors': ['Jan Svěrák'], 'screenwriters': ['Ondřej Soukup'], 'music_composers': ['Zdeněk Svěrák']},\n",
       " 'm_1968': {'movie_id': 'm_1968', 'title': 'Fools Rush In', 'genres': ['Drama', 'Comedy', 'Romance'], 'production_countries': ['US'], 'collection_name': '', 'release_year': '1997', 'actors': ['Matthew Perry', 'Salma Hayek', 'Jon Tenney', 'Siobhan Fallon', 'Angelina Torres', 'John Bennett Perry', 'Jill Clayburgh', 'Suzanne Snyder', 'Anne Betancourt', 'Mark Adair-Rios', 'Stanley DeSantis', 'Josh Cruze', 'Angela Lanza', 'Chris Bauer', 'Carlos Gómez'], 'directors': ['Andy Tennant'], 'screenwriters': ['Alan Silvestri'], 'music_composers': ['Katherine Reback']},\n",
       " 'm_18': {'movie_id': 'm_18', 'title': 'The Fifth Element', 'genres': ['Adventure', 'Fantasy', 'Action', 'Thriller', 'Science Fiction'], 'production_countries': ['FR'], 'collection_name': '', 'release_year': '1997', 'actors': ['Bruce Willis', 'Gary Oldman', 'Ian Holm', 'Milla Jovovich', 'Chris Tucker', 'Luke Perry', 'Brion James', 'Tom Lister Jr.', 'Lee Evans', 'Charlie Creed-Miles', 'Tricky', 'John Neville', 'John Bluthal', 'Mathieu Kassovitz', 'Christopher Fairbank', 'Kim Chan', 'Julie T. Wallace', 'Al Matthews', 'Maïwenn', 'Mac McDonald', 'Indra Ové', 'Genevieve Maylam', 'Jason Salkey', 'Michael Culkin', 'Hon Ping Tang', 'Vincenzo Pellegrino', 'Richard Leaf', 'Ivan Heng', 'Sonita Henry', 'Tim McMullan', 'George Khan', 'John Hughes', 'Roberto Bryce', 'Said Talidi', 'Clifton Lloyd Bryan', 'Justin Lee Burrows', 'Richard Ashton', 'Jerome St. John Blake', 'Kevin Molloy', 'Bill Reimbold', 'Colin Brooks', 'Anthony Chinn', 'Sam Douglas', 'Derek Ezenagu', 'David Kennedy', 'David Barrass', 'Roger Monk', 'Mark Seaton', 'Jean-Luc Caron', 'Riz Meedin', 'Jerry Ezekiel', 'Rachel Willis', 'Natasha Brice', 'Sophia Goth', 'Martin McDougall', 'Pete Dunwell', 'Paul Priestley', 'Stewart Harvey-Wilson', 'David Fishley', 'Carlton Chance', 'Gin Clarke', 'Vladimir McCrary', 'Aron Paramor', 'Alan Ruscoe', 'Christopher Adamson', 'Ève Salvail', 'Kaleem Janjua', 'Tyrone Tyrell', 'Kevin Brewerton', 'Ian Beckett', 'Sonny Caldinez', 'Zeta Graff', 'Eddie Ellwood', 'Yui', 'Laura De Palma', 'Lenny McLean', 'Robert Oates', 'John Sharian', 'Fred Williams', 'Sibyl Buck', 'Sarah Carrington', 'Ali Yassine', 'Sean Buckley', 'Dane Messam', 'Nathan Hamlett', 'Cecil Cheng', 'Scott Woods', 'Leon Dekker', 'David Garvey', 'Stanley Kowalski', 'Omar Williams', 'Robert Clapperton', 'Robert Alexander', 'Mia Frye', 'Leo Williams', 'C. Keith Martin', 'J.D. Dawodu', 'Patrick Nicholls', 'Shaun Davis', 'Roy Garcia', 'Alex Georgijev', 'Marie Guillard', 'Renee Montemayor', 'Stina Richardson', 'Kristen Fick', 'François Guillaume', 'Anita Koh', 'Kamay Lau', 'Tracy Redington', 'Gito Santana', 'Frank Senger', 'Joss Skottowe', 'Roger Wright', 'John Bennett'], 'directors': ['Luc Besson'], 'screenwriters': ['Eric Serra'], 'music_composers': ['Luc Besson', 'Robert Mark Kamen']},\n",
       " 'm_2058': {'movie_id': 'm_2058', 'title': 'Addicted to Love', 'genres': ['Comedy', 'Romance'], 'production_countries': ['US'], 'collection_name': '', 'release_year': '1997', 'actors': ['Meg Ryan', 'Matthew Broderick', 'Kelly Preston', 'Tchéky Karyo', 'Maureen Stapleton', 'Nesbitt Blaisdell', 'Remak Ramsay', 'Lee Wilkof', 'Susan Forristal'], 'directors': ['Griffin Dunne'], 'screenwriters': ['Rachel Portman'], 'music_composers': ['Robert Gordon']},\n",
       " 'm_33660': {'movie_id': 'm_33660', 'title': 'Shiloh', 'genres': ['Drama', 'Family'], 'production_countries': ['US'], 'collection_name': 'Shiloh Collection', 'release_year': '1996', 'actors': ['Blake Heron', 'J. Madison Wright', 'Michael Moriarty', 'Scott Wilson', 'Rod Steiger'], 'directors': ['Dale Rosenbloom'], 'screenwriters': [], 'music_composers': ['Dale Rosenbloom']},\n",
       " 'm_1701': {'movie_id': 'm_1701', 'title': 'Con Air', 'genres': ['Action', 'Thriller', 'Crime'], 'production_countries': ['US'], 'collection_name': '', 'release_year': '1997', 'actors': ['Nicolas Cage', 'John Cusack', 'John Malkovich', 'Ving Rhames', 'Nick Chinlund', 'Steve Buscemi', 'Colm Meaney', 'Rachel Ticotin', 'Dave Chappelle', 'Mykelti Williamson', 'Danny Trejo', 'M.C. Gainey', 'Steve Eastin', 'Monica Potter', 'Landry Allbright', 'Renoly Santiago', 'Brendan Kelly', 'Jesse Borrego', 'José Zúñiga', 'Mongo Brownlee', 'Don Charles McGovern', 'Angela Featherstone', 'Doug Hutchison', 'Jeris Poindexter', 'David Ramsey', 'Conrad Goode', 'Emilio Rivera', 'Mario Roberts', 'Ty Granderson Jones', 'Bob Stephenson', 'Dylan Haggerty', 'Carl Ciarfalio', 'Ned Bellamy', 'John Roselius', 'Fredric Lehne', 'John Marshall Jones', 'Tommy Bush', 'Brian Willems', 'Bill Cusack', 'George Randall', 'Jamie Bozian', 'Harley Zumbrum', 'Doug Dearth', 'Kevin Gage'], 'directors': ['Simon West'], 'screenwriters': ['Trevor Rabin', 'Mark Mancina'], 'music_composers': ['Scott Rosenberg']},\n",
       " 'm_1639': {'movie_id': 'm_1639', 'title': 'Speed 2: Cruise Control', 'genres': ['Action', 'Adventure', 'Thriller'], 'production_countries': ['US'], 'collection_name': 'Speed Collection', 'release_year': '1997', 'actors': ['Sandra Bullock', 'Jason Patric', 'Willem Dafoe', 'Temuera Morrison', 'Mike Hagerty', 'Colleen Camp', 'Joe Morton', 'Glenn Plummer', 'Bo Svenson', 'Kimmy Robertson', 'Jessica Diz', 'Tamia', 'Brian McCardie', 'Christine Firkins', \"Michael O'Hagan\", 'Ben Meyerson'], 'directors': ['Jan de Bont'], 'screenwriters': ['Mark Mancina'], 'music_composers': ['Jeff Nathanson', 'Randall McCormick']},\n",
       " 'm_415': {'movie_id': 'm_415', 'title': 'Batman & Robin', 'genres': ['Action', 'Crime', 'Fantasy'], 'production_countries': ['GB', 'US'], 'collection_name': 'Batman Collection', 'release_year': '1997', 'actors': ['George Clooney', \"Chris O'Donnell\", 'Arnold Schwarzenegger', 'Uma Thurman', 'Alicia Silverstone', 'Michael Gough', 'Pat Hingle', 'Elle Macpherson', 'John Glover', 'Vivica A. Fox', 'Robert Swenson', 'Coolio', 'Jesse Ventura', 'Ralf Moeller'], 'directors': ['Joel Schumacher'], 'screenwriters': ['Elliot Goldenthal'], 'music_composers': []},\n",
       " 'm_8874': {'movie_id': 'm_8874', 'title': \"My Best Friend's Wedding\", 'genres': ['Comedy', 'Romance'], 'production_countries': ['US'], 'collection_name': '', 'release_year': '1997', 'actors': ['Julia Roberts', 'Dermot Mulroney', 'Cameron Diaz', 'Rupert Everett', 'Philip Bosco', 'M. Emmet Walsh', 'Rachel Griffiths', 'Carrie Preston', 'Susan Sullivan', 'Christopher Masterson', 'Raci Alexander', 'Jennifer Garrett', 'Kelleia Sheerin', 'Bree Turner', 'Cassie Creasy', 'Lucina Paquet', 'Aida Baggio', 'Shirley Kelly', 'George Bozonelos', 'Loretta Paoletti', 'Paul Giamatti', 'Paul Adelstein', 'Harry Shearer'], 'directors': ['P.J. Hogan'], 'screenwriters': ['James Newton Howard'], 'music_composers': ['Ronald Bass']},\n",
       " 'm_266': {'movie_id': 'm_266', 'title': 'Le Mépris', 'genres': ['Drama'], 'production_countries': ['FR', 'IT'], 'collection_name': '', 'release_year': '1963', 'actors': ['Brigitte Bardot', 'Michel Piccoli', 'Jack Palance', 'Giorgia Moll', 'Fritz Lang', 'Raoul Coutard', 'Jean-Luc Godard', 'Linda Veras'], 'directors': ['Jean-Luc Godard'], 'screenwriters': ['Georges Delerue'], 'music_composers': ['Jean-Luc Godard']},\n",
       " 'm_2142': {'movie_id': 'm_2142', 'title': 'Cop Land', 'genres': ['Action', 'Crime', 'Drama'], 'production_countries': ['US'], 'collection_name': '', 'release_year': '1997', 'actors': ['Sylvester Stallone', 'Harvey Keitel', 'Ray Liotta', 'Robert De Niro', 'Michael Rapaport', 'Annabella Sciorra', 'Peter Berg', 'Robert Patrick', 'Arthur J. Nascarella', 'John Spencer', 'Janeane Garofalo', 'Noah Emmerich', 'Cathy Moriarty', 'Frank Vincent', 'Malik Yoba', 'Edie Falco', 'Paul Calderon', 'Deborah Harry', 'Tony Sirico', 'Method Man', 'John Doman', 'Philip Ettington'], 'directors': ['James Mangold'], 'screenwriters': ['Howard Shore'], 'music_composers': []},\n",
       " 'm_468': {'movie_id': 'm_468', 'title': 'My Own Private Idaho', 'genres': ['Drama', 'Romance'], 'production_countries': ['US'], 'collection_name': '', 'release_year': '1991', 'actors': ['River Phoenix', 'Keanu Reeves', 'James Russo', 'William Richert', 'Rodney Harvey', 'Chiara Caselli', 'Grace Zabriskie', 'Tom Troupe', 'Michael Parker', 'Jessie Thomas', 'Flea', 'Udo Kier', 'Sally Curtice'], 'directors': ['Gus Van Sant'], 'screenwriters': ['Bill Stafford'], 'music_composers': ['Gus Van Sant']},\n",
       " 'm_2118': {'movie_id': 'm_2118', 'title': 'L.A. Confidential', 'genres': ['Crime', 'Drama', 'Mystery', 'Thriller'], 'production_countries': ['US'], 'collection_name': '', 'release_year': '1997', 'actors': ['Kevin Spacey', 'Guy Pearce', 'Danny DeVito', 'James Cromwell', 'Kim Basinger', 'Russell Crowe', 'David Strathairn', 'Ron Rifkin', 'Matt McCoy', 'Paul Guilfoyle', 'Paolo Seganti', 'Elisabeth Granli', 'Sandra Taylor', 'Steve Rankin', 'Graham Beckel', 'Simon Baker', 'Allan Graf', 'Symba', 'Bob Clendenin', 'Lennie Loftin', 'Will Zahrn', 'Amber Smith', 'Darrell Sandeen', 'Michael Warwick', 'Shawnee Free Jones', 'Thomas Rosales, Jr.', 'Norman Howell', 'Brian Lally', 'John Mahon', 'Tomas Arana', 'Michael McCleery', 'Jack Conley', 'Jack Knight', 'Gene Wolande', 'Michael Chieffo', 'Ingo Neuhaus', 'Jim Metzler', 'Jeremiah Birkett', 'Salim Grant', 'Marisol Padilla Sánchez', 'Jeff Sanders', 'Steven Lambert', 'Jordan Marder', 'Gregory White', 'April Breneman', 'Brenda Bakke', 'Rebecca Klingler', 'Irene Roseen', 'Scott Eberlein', 'David St. James', 'Jeff Austin', 'Robert Foster', 'Robert Thompson', 'Don Pulford', 'Jan Citron', 'Scott McKinley', 'George Oliver', 'Jimmy Ortega', 'Gilbert Rosales', 'Nectar Rose', 'Rocco Salata', 'Dell Yount'], 'directors': ['Curtis Hanson'], 'screenwriters': ['Jerry Goldsmith'], 'music_composers': ['Curtis Hanson', 'Brian Helgeland']},\n",
       " 'm_1959': {'movie_id': 'm_1959', 'title': 'Swept from the Sea', 'genres': ['Drama', 'Romance'], 'production_countries': ['GB'], 'collection_name': '', 'release_year': '1998', 'actors': ['Rachel Weisz', 'Vincent Pérez', 'Ian McKellen', 'Kathy Bates', 'Joss Ackland', 'Zoë Wanamaker', 'Tony Haygarth', 'Fiona Victory', 'Roger Ashton-Griffiths', 'William Scott-Masson', 'Eve Matheson', 'Dave Hill', 'Tom Bell'], 'directors': ['Beeban Kidron'], 'screenwriters': ['John Barry'], 'music_composers': ['Tim Willocks']},\n",
       " 'm_1281': {'movie_id': 'm_1281', 'title': 'Bean', 'genres': ['Comedy'], 'production_countries': ['GB', 'US'], 'collection_name': 'Mr. Bean Collection', 'release_year': '1997', 'actors': ['Rowan Atkinson', 'Peter MacNicol', 'John Mills', 'Pamela Reed', 'Harris Yulin', 'Burt Reynolds', 'Larry Drake', 'Danny Goldring', 'Johnny Galecki', 'Chris Ellis', 'Sandra Oh', 'Andrew Lawrence', 'Peter Egan', 'Peter Capaldi', 'June Brown', 'Peter James'], 'directors': ['Mel Smith'], 'screenwriters': ['Howard Goodall'], 'music_composers': ['Richard Curtis', 'Robin Driscoll']},\n",
       " 'm_4995': {'movie_id': 'm_4995', 'title': 'Boogie Nights', 'genres': ['Drama'], 'production_countries': ['US'], 'collection_name': '', 'release_year': '1997', 'actors': ['Mark Wahlberg', 'Burt Reynolds', 'John C. Reilly', 'Julianne Moore', 'Thomas Jane', 'Heather Graham', 'Philip Seymour Hoffman', 'William H. Macy', 'Don Cheadle', 'Luis Guzmán', 'Alfred Molina', 'Robert Ridgely', 'Philip Baker Hall', 'Robert Downey Sr.', 'Nicole Ari Parker', 'Ricky Jay', 'Rico Bueno', 'Veronica Hart', 'Samson Barkhordarian', 'Nina Hartley', 'Brad Braeden', 'Joanna Gleason', 'Lawrence Hudd', 'Michael Stein', 'Stanley DeSantis', 'Patricia Forte', 'Kai Lennox', 'Laurel Holloman', 'Jason Andrews', \"Lil' Cinderella\", 'Greg Lauren', 'Tom Dorfmeister', 'Jason \"Jake\" Cross', 'Jack Wallace', 'Selwyn Emerson Miller', 'Jamielyn Lippman', 'Missy Spell Tanner', 'Raymond Laboriel', 'Melora Walters', 'Jon Brion', 'Brian Kehew', 'Robin Sharp', 'Audrey Wiechman', 'Tim Soronen', 'Michael Jace', 'Alexander D. Slanger', 'Tom Lenk', 'Lexi Leigh', 'Laura Gronewold', 'Vernon Guichard II', 'Tony Tedeschi', 'Leslie Redden', 'Gregory T. Daniel', 'Jonathan Quint', 'Michael Penn', 'Don Amendolia', 'Summer Cummings', 'Skye Blue', 'Jack Riley', 'John Doe', 'Channon Roe', 'Mike Gunther', 'Michael Raye Smith', 'Michael S. Stencil', 'Dustin Courtney', 'Allan Graf', 'Jose Chaidez', 'B. Philly Johnson', 'Joe G.M. Chan', 'Goliath', 'Israel Juarbe', 'George Anthony Rae', 'Eric Winzenried', 'Sharon Ferrol-Young', 'Anne Fletcher', 'Scott Fowler', 'Melanie A. Gage', 'Eddie Garcia', 'Sebastian La Cause', 'Lance MacDonald', 'Diane Mizota', 'Nathan Prevost', 'Lisa Ratzin', 'Dee Dee Weathers', 'Darrel W. Wright', 'Greg Bronson', 'Grace Bustos', 'Jorga Caye', 'Tyrone D. Dixon', 'Theo Mayes', 'Coleman McClary', 'Jami Philbrick', 'Misty Tamburelli', 'Sean Welch'], 'directors': ['Paul Thomas Anderson'], 'screenwriters': ['Michael Penn'], 'music_composers': ['Paul Thomas Anderson']},\n",
       " 'm_489': {'movie_id': 'm_489', 'title': 'Good Will Hunting', 'genres': ['Drama'], 'production_countries': ['CA', 'US'], 'collection_name': '', 'release_year': '1997', 'actors': ['Robin Williams', 'Matt Damon', 'Ben Affleck', 'Stellan Skarsgård', 'Minnie Driver', 'Casey Affleck', 'Cole Hauser', 'John Mighton', 'Rachel Majorowski', 'Colleen McCauley', 'Matt Mercier', 'Ralph St. George', 'Rob Lynds', 'Dan Washington', 'Alison Folland', 'Derrick Bridgeman', 'Vik Sahay', 'Shannon Egleson', 'Rob Lyons', 'Steven Kozlowski', 'Jennifer Deathe', 'Scott William Winters', 'Philip Williams', \"Patrick O'Donnell\", 'Kevin Rushton', 'Jimmy Flynn', 'Joe Cannon', 'Ann Matacunas', 'George Plimpton', 'Francesco Clemente', 'Jessica Morton', 'Barna Moricz', 'Libby Geller', 'Chas Lawther', 'Richard Fitzpatrick', \"Patrick O'Donnell\", 'Frank Nakashima', 'Christopher Britton', 'David Eisner', 'Bruce Hunter', 'Robert Talvano', 'James Allodi', 'Michael Arthur', 'Riva Di Paola', 'Daniel Olsen', 'Christian Harmony', 'Harmony Korine', 'Thomas Lundy', 'Paul McGillicuddy', 'Stephen Trouskie', 'Elisabeth Anne Hughes'], 'directors': ['Gus Van Sant'], 'screenwriters': [], 'music_composers': []},\n",
       " 'm_6283': {'movie_id': 'm_6283', 'title': 'MouseHunt', 'genres': ['Comedy', 'Family'], 'production_countries': ['US'], 'collection_name': '', 'release_year': '1997', 'actors': ['Nathan Lane', 'Lee Evans', 'Vicki Lewis', 'Maury Chaykin', 'Eric Christmas', 'Michael Jeter', 'Debra Christofferson', 'Camilla Søeberg', 'Ian Abercrombie', 'Annabelle Gurwitch', 'Eric Poppick', 'Ernie Sabella', 'William Hickey', 'Christopher Walken', 'Cliff Emmich', 'Melanie MacQueen', 'Brianna Shebby', 'Danielle Shebb', 'Leslie Upson', 'Mario Cantone', 'Peter Anthony Rocca', 'Steve Bean', 'Suzanne Krull', 'William Frankfather'], 'directors': ['Gore Verbinski'], 'screenwriters': [], 'music_composers': ['Adam Rifkin']},\n",
       " 'm_597': {'movie_id': 'm_597', 'title': 'Titanic', 'genres': ['Drama', 'Romance', 'Thriller'], 'production_countries': ['US'], 'collection_name': '', 'release_year': '1997', 'actors': ['Kate Winslet', 'Leonardo DiCaprio', 'Frances Fisher', 'Billy Zane', 'Kathy Bates', 'Gloria Stuart', 'Bill Paxton', 'Bernard Hill', 'David Warner', 'Victor Garber', 'Jonathan Hyde', 'Suzy Amis', 'Lewis Abernathy', 'Nicholas Cascone', 'Danny Nucci', 'Jason Barry', 'Lew Palter', 'Eric Braeden', 'Bernard Fox', 'Ewan Stewart', 'Ioan Gruffudd', 'Jonny Phillips', 'Edward Fletcher', 'Scott G. Anderson', 'Martin East', 'Gregory Cooke', 'Alexandrea Owens', 'Seth Adkins', 'Michael Ensign', 'Anatoly M. Sagalevitch', 'Martin Hub', 'Mark Lindsay Chapman', 'Richard Graham', 'Paul Brightwell', 'Ron Donachie', 'Charlotte Chatton', 'Fannie Brett', 'Jenette Goldstein', 'Camilla Overbye Roos', 'Linda Kerns', 'Amy Gaipa', 'Martin Jarvis', 'Rosalind Ayres', 'Rochelle Rose', 'Jonathan Evans-Jones', 'Brian Walsh', 'Rocky Taylor', 'Craig Kelly', 'Liam Tuohy', 'Simon Crane', 'James Lancaster', 'Elsa Raven', 'Reece P. Thompson III', 'Laramie Landis', 'Mark Rafael Truitt', 'John Walcutt', 'Terry Forrestal', 'Derek Lea', 'Richard Ashton', 'Sean Nepita', 'Brendan Connolly', 'David Cronnelly', 'Garth Wilton', 'Richard Fox', 'Nick Meaney', 'Kevin Owers', 'Mark Capri', 'Marc Cass', 'Paul Herbert', 'Emmett James', 'Chris Byrne', 'Oliver Page', 'James Garrett', 'Erik Holland', 'Erik Holland', 'Jari Kinnunen', 'Anders Falk', 'Barry Dennen', 'Vern Urich', 'Rebecca Klingler', \"Tricia O'Neil\", 'Kathleen S. Dunn', 'Romeo Francis', 'Mandana Marino', 'Van Ling', 'Bjørn Olsen', 'Dan Pettersson', 'Shay Duffin', 'Greg Ellis', 'Diana Morgan', 'Kris Andersson', 'Bobbie Bates', 'Aaron James Cash', 'Anne Fletcher', 'Edmond Alan Forsyth', 'Andie Hicks', 'Scott Hislop', 'Stan Mazin', 'Lisa Ratzin', 'Julene Renee', 'Brian Baines', 'Ellie Bensinger', 'Alexandra Boyd', 'Mike Butters', 'James Cameron', 'Bruno Campolo', 'Chris Cragnotti', 'Kevyn Currie', 'Kevin De La Noy', 'Thomas Fiss', 'Griffin Howell', 'Sean Howse', 'Tony Kenny', 'Bret Aaron Knower', 'George Kosty III', 'George Kosty Jr.', 'Geoffrey C. Kosty', 'Gregory Charles Kosty', 'Sean Lawlor', 'John Leonhardt', 'Miguel A. Lomelin', 'Don Lynch', 'Johnny Martin', 'Ryan McClurkin', 'Meghan McLeod', \"Mike O'Neal\", 'Julian Oros', 'Phil Parlapiano', 'Judy Prestininzi', 'Steven Quale', 'Olivia Rosewood', 'John Slade', 'Stephen Wolfe Smith', 'R. Gern Trowbridge', 'Francisco Váldez', 'Lucie Zolcerova'], 'directors': ['James Cameron'], 'screenwriters': ['James Horner'], 'music_composers': ['James Cameron']},\n",
       " 'm_714': {'movie_id': 'm_714', 'title': 'Tomorrow Never Dies', 'genres': ['Adventure', 'Action', 'Thriller'], 'production_countries': ['GB', 'US'], 'collection_name': 'James Bond Collection', 'release_year': '1997', 'actors': ['Pierce Brosnan', 'Jonathan Pryce', 'Michelle Yeoh', 'Teri Hatcher', 'Ricky Jay', 'Götz Otto', 'Joe Don Baker', 'Vincent Schiavelli', 'Judi Dench', 'Desmond Llewelyn', 'Samantha Bond', 'Colin Salmon', 'Geoffrey Palmer', 'Julian Fellowes', 'Terence Rigby', 'Nina Young', 'Daphne Deckers', 'Colin Stinton', 'Al Matthews', 'Cecilie Thomsen', 'Mark Spalding', 'Bruce Alexander', 'Anthony Green', 'Christopher Bowen', 'Andrew Hawkins', 'Dominic Shaun', 'Julian Rhind-Tutt', 'Gerard Butler', 'Michael Byrne', 'Pip Torrens', 'Hugh Bonneville', 'Jason Watkins', 'Brendan Coyle', 'Nadia Cameron-Blakey'], 'directors': ['Roger Spottiswoode'], 'screenwriters': ['David Arnold'], 'music_composers': ['Bruce Feirstein']},\n",
       " 'm_586': {'movie_id': 'm_586', 'title': 'Wag the Dog', 'genres': ['Comedy', 'Drama'], 'production_countries': ['US'], 'collection_name': '', 'release_year': '1997', 'actors': ['Dustin Hoffman', 'Robert De Niro', 'Anne Heche', 'Woody Harrelson', 'Jim Belushi', 'Denis Leary', 'Willie Nelson', 'Andrea Martin', 'Kirsten Dunst', 'William H. Macy', 'John Michael Higgins', 'Suzie Plakson', 'Michael Belson', 'Suzanne Cryer', 'Jason Cottle', 'Jenna Byrne'], 'directors': ['Barry Levinson'], 'screenwriters': ['Mark Knopfler'], 'music_composers': ['Hilary Henkin', 'David Mamet']},\n",
       " 'm_267': {'movie_id': 'm_267', 'title': 'Carne trémula', 'genres': ['Drama', 'Romance', 'Thriller'], 'production_countries': ['FR', 'ES'], 'collection_name': '', 'release_year': '1997', 'actors': ['Liberto Rabal', 'Francesca Neri', 'Javier Bardem', 'Penélope Cruz', 'Ángela Molina', 'José Sancho', 'Pilar Bardem', 'Alex Angulo', 'Mariola Fuentes', 'Yael Be', 'Josep Molins', 'Daniel Lanchas', 'María Rosenfeldt', 'Antonio Henares', 'Diego de Paz', 'Emilio Rodríguez'], 'directors': ['Pedro Almodóvar'], 'screenwriters': ['Alberto Iglesias'], 'music_composers': ['Pedro Almodóvar', 'Jorge Guerricaechevarría', 'Ray Loriga']},\n",
       " 'm_1965': {'movie_id': 'm_1965', 'title': 'A Perfect Murder', 'genres': ['Crime', 'Thriller', 'Drama'], 'production_countries': ['US'], 'collection_name': '', 'release_year': '1998', 'actors': ['Michael Douglas', 'Gwyneth Paltrow', 'Viggo Mortensen', 'Sarita Choudhury', 'Constance Towers', 'David Suchet', 'Will Lyman', 'Maeve McGuire', 'Michael P. Moran', 'Novella Nelson', 'Christian Chase'], 'directors': ['Andrew Davis'], 'screenwriters': ['James Newton Howard'], 'music_composers': ['Frederick Knott', 'Patrick Smith Kelly']},\n",
       " 'm_1389': {'movie_id': 'm_1389', 'title': 'Out of Sight', 'genres': ['Romance', 'Comedy', 'Crime'], 'production_countries': ['US'], 'collection_name': '', 'release_year': '1998', 'actors': ['George Clooney', 'Jennifer Lopez', 'Ving Rhames', 'Don Cheadle', 'Albert Brooks', 'Steve Zahn', 'Isaiah Washington', 'Dennis Farina', 'Luis Guzmán', 'Keith Loneker', 'Catherine Keener', 'Nancy Allen', 'Michael Keaton', 'Viola Davis', 'Samuel L. Jackson', 'Paul Calderon'], 'directors': ['Steven Soderbergh'], 'screenwriters': ['David Holmes'], 'music_composers': ['Scott Frank']},\n",
       " 'm_95': {'movie_id': 'm_95', 'title': 'Armageddon', 'genres': ['Action', 'Thriller', 'Science Fiction', 'Adventure'], 'production_countries': ['US'], 'collection_name': '', 'release_year': '1998', 'actors': ['Bruce Willis', 'Billy Bob Thornton', 'Ben Affleck', 'Liv Tyler', 'Will Patton', 'Steve Buscemi', 'William Fichtner', 'Michael Clarke Duncan', 'Peter Stormare', 'Owen Wilson', 'Ken Hudson Campbell', 'Jessica Steen', 'Chris Ellis', 'Keith David', 'Jason Isaacs', 'Marshall R. Teague', 'J. Patrick McCormack', 'Ian Quinn', 'Charlton Heston', 'Eddie Griffin', 'Sage Allen', 'Grace Zabriskie', 'Grayson McCouch', 'Clark Heathcliffe Brolly', 'Greg Collins', 'John Mahon', 'K.C. Leomiti', 'Stanley Anderson', 'James Harper', 'Harry Humphries', 'Ellen Cleghorne', 'Udo Kier', 'Anthony Guidera', 'Dyllan Christopher', 'Judith Hoag', 'Deborah Nishimura', 'Albert Wong', 'Jim Ishida', 'John Aylward', 'Mark Curry', 'Seiko Matsuda', 'Steven Ford', 'Christian Clemenson', 'Shawnee Smith', 'Bodhi Elfman', 'Dina Morrone', 'Patrick Lander', 'Brian Mulligan', 'Patrick Richwood', 'Frank Van Keeken', 'Googy Gress', 'Frederick Weller', 'Jeff Austin', 'Matt Malloy', 'H. Richard Greene', 'Brian Brophy', 'Peter Murnik', 'Brian Hayes Currie', 'Andy Milder', 'Michael Kaplan', 'Duke Valenti', 'Michael Taliferro', 'Billy Devlin', 'Michele Edison', 'Michael Bay', 'Mary Ann Schmidt', 'Judi Beecher'], 'directors': ['Michael Bay'], 'screenwriters': ['Trevor Rabin'], 'music_composers': ['Robert Roy Pool', 'Jonathan Hensleigh', 'Shane Salerno', 'J.J. Abrams', 'Tony Gilroy']},\n",
       " 'm_1366': {'movie_id': 'm_1366', 'title': 'Rocky', 'genres': ['Drama'], 'production_countries': ['US'], 'collection_name': 'Rocky Collection', 'release_year': '1976', 'actors': ['Sylvester Stallone', 'Talia Shire', 'Burt Young', 'Carl Weathers', 'Burgess Meredith', 'Thayer David', 'Joe Spinell', 'Tony Burton', 'Joe Frazier', 'Jimmy Gambina', 'Jodi Letizia', 'Stan Shaw', 'Michael Dorn', 'DeForest Covan', 'Bill Baldwin', 'Lloyd Kaufman', 'Al Silvani', 'George Memmoli', 'Diana Lewis', \"George O'Hanlon\", 'Larry Carroll', 'Frank Stallone', 'Don Sherman', 'Billy Sands', 'Simmy Bow', 'Jane Marla Robbins', 'Frank Pesce', 'John Pleshette', 'Lavelle Roby', 'Pedro Lovell', 'Stu Nahan', 'Hank Rolike', \"Shirley O'Hara\", 'Kathleen Parker', 'Frankie Van', 'Arnold Johnson', 'Arthur Tovey'], 'directors': ['John G. Avildsen'], 'screenwriters': ['Bill Conti'], 'music_composers': ['Sylvester Stallone']},\n",
       " 'm_380': {'movie_id': 'm_380', 'title': 'Rain Man', 'genres': ['Drama'], 'production_countries': ['US'], 'collection_name': '', 'release_year': '1988', 'actors': ['Dustin Hoffman', 'Tom Cruise', 'Valeria Golino', 'Gerald R. Molen', 'Jack Murdock', 'Michael D. Roberts', 'Ralph Seymour', 'Lucinda Jenney', 'Bonnie Hunt', 'Kim Robillard', 'Beth Grant', 'Dolan Dougherty', 'Marshall Dougherty', 'Patrick Dougherty', 'Peter Dougherty', 'Andrew Dougherty', 'Loretta Wendt Jolivette', 'Donald E. Jones', 'Bryon P. Caunar', 'Donna J. Dickson', 'Ralph Tabakin', 'Ray Baker', 'Jake Hoffman', 'Royce D. Applegate', 'Anna Mathias', 'Archie Hahn', 'Luisa Leschin', 'Ira Miller', 'Chris Mulkey', 'Julie Payne', 'Reni Santoni', 'Ruth Silveira', 'Jonathan Stark', 'Lynne Marie Stewart', 'Arnold F. Turner', 'Gigi Vorgan', 'Barry Levinson', 'Mark Winn', 'June Christopher'], 'directors': ['Barry Levinson'], 'screenwriters': ['Hans Zimmer'], 'music_composers': ['Barry Morrow', 'Ronald Bass']},\n",
       " 'm_466': {'movie_id': 'm_466', 'title': 'Klute', 'genres': ['Mystery'], 'production_countries': ['US'], 'collection_name': '', 'release_year': '1971', 'actors': ['Jane Fonda', 'Donald Sutherland', 'Charles Cioffi', 'Roy Scheider', 'Dorothy Tristan', 'Vivian Nathan', 'Robert Milli', 'Betty Murray', 'Rita Gam', 'Jean Stapleton', 'Morris Strassberg', 'Sylvester Stallone'], 'directors': ['Alan J. Pakula'], 'screenwriters': ['Michael Small'], 'music_composers': ['Andy Lewis', 'David P. Lewis']},\n",
       " 'm_2108': {'movie_id': 'm_2108', 'title': 'The Breakfast Club', 'genres': ['Comedy', 'Drama'], 'production_countries': ['US'], 'collection_name': '', 'release_year': '1985', 'actors': ['Emilio Estevez', 'Anthony Michael Hall', 'Judd Nelson', 'Molly Ringwald', 'Ally Sheedy', 'Paul Gleason', 'John Kapelos', 'Ron Dean', 'Perry Crawford', 'Fran Gargano', 'Mary Christian', 'Mercedes Hall', 'Tim Gamble'], 'directors': ['John Hughes'], 'screenwriters': ['Keith Forsey'], 'music_composers': ['John Hughes']},\n",
       " 'm_948': {'movie_id': 'm_948', 'title': 'Halloween', 'genres': ['Horror', 'Thriller'], 'production_countries': ['US'], 'collection_name': 'Halloween Collection', 'release_year': '1978', 'actors': ['Donald Pleasence', 'Jamie Lee Curtis', 'P.J. Soles', 'Nancy Kyes', 'Nick Castle', 'Tony Moran', 'Will Sandin', 'Charles Cyphers', 'Kyle Richards', 'Brian Andrews', 'John Michael Graham', 'Sandy Johnson', 'Nancy Stephens', 'Arthur Malet', 'Mickey Yablans', 'Brent Le Page', 'Adam Hollander', 'Robert Phalen', 'David Kyle', 'Peter Griffith', 'Barry Bernardi', 'John Carpenter', \"George O'Hanlon Jr.\", 'Darla Rae', 'Gwen Van Dam'], 'directors': ['John Carpenter'], 'screenwriters': ['John Carpenter'], 'music_composers': ['Debra Hill', 'John Carpenter']},\n",
       " 'm_609': {'movie_id': 'm_609', 'title': 'Poltergeist', 'genres': ['Horror'], 'production_countries': ['US'], 'collection_name': 'Poltergeist Collection', 'release_year': '1982', 'actors': ['Craig T. Nelson', 'JoBeth Williams', 'Beatrice Straight', \"Heather O'Rourke\", 'Dominique Dunne', 'Oliver Robins', 'Zelda Rubinstein', 'Martin Casella', 'James Karen', 'Robert Broyles', 'Richard Lawson', 'Sonny Landham', 'Michael McManus', 'Virginia Kiser', 'Lou Perryman', 'Noel Conlon'], 'directors': ['Tobe Hooper'], 'screenwriters': ['Jerry Goldsmith'], 'music_composers': ['Steven Spielberg', 'Michael Grais', 'Mark Victor']},\n",
       " 'm_942': {'movie_id': 'm_942', 'title': 'Lethal Weapon 2', 'genres': ['Action', 'Adventure', 'Comedy', 'Crime', 'Thriller'], 'production_countries': ['US'], 'collection_name': 'Lethal Weapon Collection', 'release_year': '1989', 'actors': ['Mel Gibson', 'Danny Glover', 'Joe Pesci', 'Joss Ackland', \"Derrick O'Connor\", 'Patsy Kensit', 'Darlene Love', 'Steve Kahan', 'Mark Rolston', 'Jenette Goldstein', 'Dean Norris', 'Juney Smith', 'Nestor Serrano', 'Philip Suriano', 'Grand L. Bush', 'Allan Dean Moore', 'Jack McGee', 'Mary Ellen Trainor', 'Traci Wolfe', 'Ebonie Smith', 'Damon Hines'], 'directors': ['Richard Donner'], 'screenwriters': ['Eric Clapton', 'Michael Kamen', 'David Sanborn'], 'music_composers': ['Jeffrey Boam']},\n",
       " 'm_943': {'movie_id': 'm_943', 'title': 'Lethal Weapon 3', 'genres': ['Adventure', 'Action', 'Comedy', 'Thriller', 'Crime'], 'production_countries': ['US'], 'collection_name': 'Lethal Weapon Collection', 'release_year': '1992', 'actors': ['Mel Gibson', 'Danny Glover', 'Joe Pesci', 'Rene Russo', 'Stuart Wilson', 'Steve Kahan', 'Mary Ellen Trainor', 'Darlene Love', 'Traci Wolfe', 'Ebonie Smith', 'Damon Hines'], 'directors': ['Richard Donner'], 'screenwriters': ['Eric Clapton', 'Michael Kamen', 'David Sanborn', 'Elton John'], 'music_composers': ['Robert Mark Kamen', 'Jeffrey Boam']},\n",
       " 'm_928': {'movie_id': 'm_928', 'title': 'Gremlins 2: The New Batch', 'genres': ['Comedy', 'Horror', 'Fantasy'], 'production_countries': ['US'], 'collection_name': 'The Gremlins Collection', 'release_year': '1990', 'actors': ['Zach Galligan', 'Phoebe Cates', 'John Glover', 'Robert Prosky', 'Robert Picardo', 'Christopher Lee', 'Haviland Morris', 'Jackie Joseph', 'Gedde Watanabe', 'Keye Luke', 'Kathleen Freeman', 'Don Stanton', 'Dan Stanton', 'Shawn Nelson', 'Dick Miller', 'Paul Bartel', 'John Astin', 'Henry Gibson', 'Leonard Maltin', 'Hulk Hogan', 'Tony Randall', 'Howie Mandel', 'Frank Welker', 'Belinda Balaski', 'Rick Ducommun', 'Julia Sweeney', 'Sylvester Stallone'], 'directors': ['Joe Dante'], 'screenwriters': ['Jerry Goldsmith'], 'music_composers': ['Chris Columbus']},\n",
       " 'm_19': {'movie_id': 'm_19', 'title': 'Metropolis', 'genres': ['Drama', 'Science Fiction'], 'production_countries': ['DE'], 'collection_name': '', 'release_year': '1927', 'actors': ['Brigitte Helm', 'Alfred Abel', 'Gustav Fröhlich', 'Rudolf Klein-Rogge', 'Fritz Rasp', 'Theodor Loos', 'Erwin Biswanger', 'Heinrich George', 'Olaf Storm', 'Helene Weigel', 'Margarete Lanner', 'Hanns Leo Reich', 'Fritz Alberti', 'Heinrich Gotho', 'Grete Berger', 'Curt Siodmak', 'Rolf von Goth', 'Helen von Münchofen', 'Georg John', 'Arthur Reinhardt', 'Henrietta Siodmak'], 'directors': ['Fritz Lang'], 'screenwriters': ['Gottfried Huppertz', 'Otto Harzner'], 'music_composers': ['Fritz Lang', 'Thea von Harbou']},\n",
       " 'm_165': {'movie_id': 'm_165', 'title': 'Back to the Future Part II', 'genres': ['Adventure', 'Comedy', 'Family', 'Science Fiction'], 'production_countries': ['US'], 'collection_name': 'Back to the Future Collection', 'release_year': '1989', 'actors': ['Michael J. Fox', 'Christopher Lloyd', 'Lea Thompson', 'Elisabeth Shue', 'James Tolkan', 'Jeffrey Weissman', 'Casey Siemaszko', 'Billy Zane', 'Darlene Vogel', 'Elijah Wood', 'Jason Scott Lee', 'Ricky Dean Logan', 'Charles Fleischer', 'J.J. Cohen', 'Flea', 'Joe Flaherty', 'Neil Ross', 'Al White', 'Thomas F. Wilson', 'E. Casanova Evans', 'Jay Koch', 'Charles Gherardi', 'John Thornton', 'Theo Schwartz', 'Lindsey Whitney Barry', 'Judy Ovitz', 'Stephanie Williams', 'Marty Levy', 'Jim Ishida', 'Nikki Birdsong', 'Junior Fann', 'Shaun Hunter', 'George Buck Flower', 'Tamara Carrera', 'Tracy Dali', 'Jennifer Brown', 'Irina Cashen', 'Angela Greenblatt', 'Cameron Moore', 'Justin Mosley Spink', 'Lisa Freeman', 'John Erwin', 'Harry Waters, Jr.', 'David Harold Brown', 'Tommy Thomas', 'Lloyd L. Tolbert', \"Granville 'Danny' Young\", 'Wesley Mann', 'Freddie', 'Crispin Glover', 'Todd Blood', 'Sean Michael Fish', 'Donald Fullilove', 'Annette May', 'Mary Ellen Trainor'], 'directors': ['Robert Zemeckis'], 'screenwriters': ['Alan Silvestri'], 'music_composers': ['Bob Gale']},\n",
       " 'm_196': {'movie_id': 'm_196', 'title': 'Back to the Future Part III', 'genres': ['Adventure', 'Comedy', 'Family', 'Science Fiction'], 'production_countries': ['US'], 'collection_name': 'Back to the Future Collection', 'release_year': '1990', 'actors': ['Michael J. Fox', 'Christopher Lloyd', 'Mary Steenburgen', 'Thomas F. Wilson', 'Lea Thompson', 'Elisabeth Shue', 'James Tolkan', 'Matt Clark', 'Christopher Wynne', 'Sean Sullivan', 'Mike Watson', 'Foster', 'Freddie', 'Marc McClure', 'Wendie Jo Sperber', 'Jeffrey Weissman', 'Flea', 'J.J. Cohen', 'Ricky Dean Logan', 'Dean Cundey', 'Richard Dysart', 'Pat Buttram', 'Harry Carey, Jr.', 'Dub Taylor', 'Hugh Gillin', 'Burton Gilliam', 'Bill McKinney', 'Donovan Scott', 'Marvin J. McIntyre', 'Kaleb Henley', 'Todd Cameron Brown', 'Dannel Evans', 'Leslie A. Prickett', 'Jo B. Cummings', 'Steve McArthur', 'John Ickes', 'James A. Rammel', 'Michael Klastorin', 'Michael Mills', 'Flea', 'Kenny Myers', 'Brad McPeters', 'Phinnaes D.', 'Rod Kuehne', 'Leno Fletcher', 'Joey Newington', 'Larry Ingold', 'Tim Konrad', 'Glenn Fox', 'Frank Beard', 'Billy Gibbons', 'Dorothy Hack', 'Dusty Hill', 'Marion Tumen'], 'directors': ['Robert Zemeckis'], 'screenwriters': ['Alan Silvestri'], 'music_composers': ['Bob Gale']},\n",
       " 'm_551': {'movie_id': 'm_551', 'title': 'The Poseidon Adventure', 'genres': ['Action', 'Adventure'], 'production_countries': ['US'], 'collection_name': 'The Poseidon Adventure Collection', 'release_year': '1972', 'actors': ['Gene Hackman', 'Ernest Borgnine', 'Red Buttons', 'Carol Lynley', 'Roddy McDowall', 'Stella Stevens', 'Shelley Winters', 'Jack Albertson', 'Leslie Nielsen', 'Pamela Sue Martin', 'Eric Shea', 'Fred Sadoff', 'Roseann Williams', \"Arthur O'Connell\", 'Sheila Allen', 'Jan Arvan', 'Byron Webster', 'John Crawford', 'Bob Hastings', 'Erik L. Nelson', 'Charles Bateman'], 'directors': ['Ronald Neame', 'Irwin Allen'], 'screenwriters': ['John Williams'], 'music_composers': ['Wendell Mayes', 'Stirling Silliphant']},\n",
       " 'm_1411': {'movie_id': 'm_1411', 'title': 'The Rapture', 'genres': ['Mystery', 'Drama'], 'production_countries': ['US'], 'collection_name': '', 'release_year': '1991', 'actors': ['Mimi Rogers', 'Patrick Bauchau', 'David Duchovny', 'Darwyn Carson', 'Will Patton', 'James Le Gros', 'Dick Anthony Williams', 'Douglas Roberts', 'Stéphanie Menuez', 'Sam Vlahos', 'Kimberly Cullum', 'Scott Burkholder', 'Carole Davis', 'Terri Hanauer', 'Kane Hodder'], 'directors': ['Michael Tolkin'], 'screenwriters': ['Thomas Newman'], 'music_composers': []},\n",
       " 'm_1779': {'movie_id': 'm_1779', 'title': 'Roger & Me', 'genres': ['Documentary', 'History'], 'production_countries': ['US'], 'collection_name': '', 'release_year': '1989', 'actors': ['Michael Moore', 'Roger B. Smith', 'Rhonda Britton', 'Fred Ross'], 'directors': ['Michael Moore'], 'screenwriters': [], 'music_composers': []},\n",
       " 'm_678': {'movie_id': 'm_678', 'title': 'Out of the Past', 'genres': ['Drama', 'Mystery', 'Thriller'], 'production_countries': ['US'], 'collection_name': '', 'release_year': '1947', 'actors': ['Robert Mitchum', 'Jane Greer', 'Kirk Douglas', 'Rhonda Fleming', 'Richard Webb', 'Steve Brodie', 'Virginia Huston', 'Paul Valentine', 'Dickie Moore', 'Ken Niles', 'Mary Field', 'Oliver Blake', 'Harry Hayden', 'Theresa Harris', 'Frank Wilcox', 'John Kellogg', 'Brooks Benedict', 'Homer Dickenson', 'Mike Lally', 'Bill Wallace', 'Eumenio Blanco', 'Victor Romito', 'Wesley Bly', 'Mildred Boyd', 'James Bush', 'James Conaty', 'Alphonso DuBois', 'Rudy Germane', 'Adda Gleason', 'Philip Morris', 'Manuel París', 'Caleb Peterson', 'Jeffrey Sayre', 'Charles Regan', 'Tony Roux', 'Wallace Scott', 'Archie Twitchell'], 'directors': ['Jacques Tourneur'], 'screenwriters': ['Roy Webb'], 'music_composers': ['Daniel Mainwaring']},\n",
       " 'm_907': {'movie_id': 'm_907', 'title': 'Doctor Zhivago', 'genres': ['Drama', 'Romance', 'War'], 'production_countries': ['IT', 'US'], 'collection_name': '', 'release_year': '1965', 'actors': ['Omar Sharif', 'Julie Christie', 'Geraldine Chaplin', 'Rod Steiger', 'Alec Guinness', 'Siobhán McKenna', 'Ralph Richardson', 'Gérard Tichy', 'Noel Willman', 'Jack MacGowran', 'Mark Eden', 'Erik Chitty', 'Klaus Kinski', 'Rita Tushingham', 'Tom Courtenay', 'Bernard Kay', 'Geoffrey Keen', 'Adrienne Corri', 'Roger Maxwell', 'Wolf Frees', 'Gwen Nelson', 'Lilí Murati', 'Peter Madden', 'Luana Alcañiz', 'Emilio Carrer', 'José María Caffarel', 'Catherine Ellison', 'Víctor Israel', 'Inigo Jackson', 'Leo Lähteenmäki', 'María Martín', 'José Nieto', 'Ricardo Palacios', 'Ingrid Pitt', 'Robert Rietty', 'Virgílio Teixeira', 'María Vico', 'Pilar Gómez Ferrer', 'Aldo Sambrell'], 'directors': ['David Lean'], 'screenwriters': ['Maurice Jarre'], 'music_composers': ['Robert Bolt']},\n",
       " 'm_227': {'movie_id': 'm_227', 'title': 'The Outsiders', 'genres': ['Crime', 'Drama'], 'production_countries': ['US'], 'collection_name': '', 'release_year': '1983', 'actors': ['Matt Dillon', 'Ralph Macchio', 'C. Thomas Howell', 'Patrick Swayze', 'Rob Lowe', 'Emilio Estevez', 'Tom Cruise', 'Glenn Withrow', 'Diane Lane', 'Leif Garrett', 'Darren Dalton', 'Michelle Meyrink', 'Gailard Sartain', 'Tom Waits', 'Sofia Coppola', 'William Smith'], 'directors': ['Francis Ford Coppola'], 'screenwriters': ['Carmine Coppola'], 'music_composers': ['Kathleen Rowell']},\n",
       " 'm_805': {'movie_id': 'm_805', 'title': \"Rosemary's Baby\", 'genres': ['Horror', 'Drama', 'Mystery'], 'production_countries': ['US'], 'collection_name': \"Rosemary's Baby Collection\", 'release_year': '1968', 'actors': ['Mia Farrow', 'John Cassavetes', 'Ruth Gordon', 'Sidney Blackmer', 'Maurice Evans', 'Ralph Bellamy', 'Victoria Vetri', 'Patsy Kelly', 'Elisha Cook Jr.', 'Emmaline Henry', 'Marianne Gordon', 'Charles Grodin', 'Hanna Landy', 'Phil Leeds', \"D'Urville Martin\", 'Hope Summers', 'Wende Wagner', 'William Castle', 'Bill Baldwin', 'Walter Baldwin', 'Tony Curtis', 'Jack Knight', 'George Savalas'], 'directors': ['Roman Polanski'], 'screenwriters': ['Krzysztof Komeda'], 'music_composers': ['Roman Polanski']},\n",
       " 'm_4011': {'movie_id': 'm_4011', 'title': 'Beetlejuice', 'genres': ['Fantasy', 'Comedy'], 'production_countries': ['US'], 'collection_name': '', 'release_year': '1988', 'actors': ['Geena Davis', 'Alec Baldwin', 'Winona Ryder', 'Michael Keaton', \"Catherine O'Hara\", 'Jeffrey Jones', 'Glenn Shadix', 'Sylvia Sidney', 'Patrice Martinez', 'Dick Cavett', 'Robert Goulet', 'Maree Cheatham', 'Susan Kellermann', 'Carmen Filpi', 'Annie McEnroe', 'Rachel Mittelman', 'Hugo Stanger', 'Maurice Page', 'J. Jay Saunders', 'Mark Ettlinger', 'Cindy Daly', 'Tony Cox', 'Duane Davis', 'Simmy Bow', 'Adelle Lutz', 'Harry Belafonte', 'Charles Schneider', 'Christine Bridges'], 'directors': ['Tim Burton'], 'screenwriters': ['Danny Elfman'], 'music_composers': ['Warren Skaaren', 'Michael McDowell']},\n",
       " 'm_1580': {'movie_id': 'm_1580', 'title': 'Rope', 'genres': ['Crime', 'Drama', 'Mystery', 'Thriller'], 'production_countries': ['US'], 'collection_name': '', 'release_year': '1948', 'actors': ['James Stewart', 'John Dall', 'Farley Granger', 'Constance Collier', 'Douglas Dick', 'Edith Evanson', 'Dick Hogan', 'Joan Chandler', 'Cedric Hardwicke'], 'directors': ['Alfred Hitchcock'], 'screenwriters': [], 'music_composers': ['Ben Hecht', 'Arthur Laurents']},\n",
       " 'm_940': {'movie_id': 'm_940', 'title': 'The Lady Vanishes', 'genres': ['Mystery', 'Thriller'], 'production_countries': ['GB'], 'collection_name': '', 'release_year': '1938', 'actors': ['Margaret Lockwood', 'Michael Redgrave', 'Dame May Whitty', 'Paul Lukas', 'Basil Radford', 'Naunton Wayne', 'Cecil Parker', 'Linden Travers', 'Mary Clare', 'Emile Boreo', 'Googie Withers', 'Sally Stewart', 'Philip Leaver', 'Selma Vaz Dias', 'Catherine Lacey', 'Josephine Wilson', 'Charles Oliver', 'Kathleen Tremaine'], 'directors': ['Alfred Hitchcock'], 'screenwriters': ['Charles Williams', 'Louis Levy'], 'music_composers': ['Sidney Gilliat', 'Frank Launder']},\n",
       " 'm_2762': {'movie_id': 'm_2762', 'title': 'Young and Innocent', 'genres': ['Drama', 'Crime'], 'production_countries': ['GB'], 'collection_name': '', 'release_year': '1937', 'actors': ['Nova Pilbeam', 'Derrick De Marney', 'Percy Marmont', 'Edward Rigby', 'Mary Clare', 'John Longden', 'George Curzon', 'Basil Radford', 'Pamela Carme', 'George Merritt', 'J.H. Roberts', 'Jerry Verno', 'H.F. Maltby', 'John Miller'], 'directors': ['Alfred Hitchcock'], 'screenwriters': [], 'music_composers': ['Charles Bennett', 'Edwin Greenwood', 'Anthony Armstrong']},\n",
       " 'm_2761': {'movie_id': 'm_2761', 'title': 'Secret Agent', 'genres': ['Thriller'], 'production_countries': ['GB'], 'collection_name': '', 'release_year': '1936', 'actors': ['John Gielgud', 'Peter Lorre', 'Madeleine Carroll', 'Robert Young', 'Percy Marmont', 'Florence Kahn', 'Charles Carson', 'Lilli Palmer', 'Michael Rennie'], 'directors': ['Alfred Hitchcock'], 'screenwriters': [], 'music_composers': ['Charles Bennett']},\n",
       " 'm_543': {'movie_id': 'm_543', 'title': 'Blackmail', 'genres': ['Drama', 'Thriller', 'Crime'], 'production_countries': ['GB'], 'collection_name': '', 'release_year': '1929', 'actors': ['Anny Ondra', 'Sara Allgood', 'Charles Paton', 'John Longden', 'Donald Calthrop', 'Cyril Ritchard', 'Hannah Jones', 'Harvey Braban', 'Ex-Det. Sergt. Bishop', 'Alfred Hitchcock'], 'directors': ['Alfred Hitchcock'], 'screenwriters': ['Hubert Bath'], 'music_composers': ['Alfred Hitchcock', 'Benn W. Levy']},\n",
       " 'm_431': {'movie_id': 'm_431', 'title': 'Cube', 'genres': ['Thriller', 'Science Fiction', 'Mystery'], 'production_countries': ['CA'], 'collection_name': 'Cube Collection', 'release_year': '1997', 'actors': ['Nicole de Boer', 'Nicky Guadagni', 'David Hewlett', 'Andrew Miller', 'Julian Richings', 'Wayne Robson', 'Maurice Dean Wint'], 'directors': ['Vincenzo Natali'], 'screenwriters': ['Mark Korven'], 'music_composers': ['André Bijelic', 'Vincenzo Natali', 'Graeme Manson']},\n",
       " 'm_2321': {'movie_id': 'm_2321', 'title': 'Married to the Mob', 'genres': ['Comedy', 'Crime', 'Romance'], 'production_countries': ['US'], 'collection_name': '', 'release_year': '1988', 'actors': ['Michelle Pfeiffer', 'Matthew Modine', 'Oliver Platt', 'Alec Baldwin', 'Dean Stockwell', 'Mercedes Ruehl', 'Joan Cusack', 'Colin Quinn', 'Ellen Foley', 'O-Lan Jones', 'Nancy Travis', 'Joe Spinell', 'Charles Napier', 'Gary Goetzman', 'Todd Solondz', 'Paul Lazar', 'Al Lewis', 'Frank Ferrara', 'Trey Wilson', 'David Johansen', 'Tracey Walter', 'Chris Isaak', 'Kenneth Utt', 'Roma Maffia', 'Marlene Willoughby'], 'directors': ['Jonathan Demme'], 'screenwriters': ['David Byrne'], 'music_composers': []},\n",
       " 'm_2028': {'movie_id': 'm_2028', 'title': 'Say Anything...', 'genres': ['Comedy', 'Drama', 'Romance'], 'production_countries': ['US'], 'collection_name': '', 'release_year': '1989', 'actors': ['John Cusack', 'Ione Skye', 'John Mahoney', 'Lili Taylor', 'Amy Brooks', 'Pamela Adlon', 'Jason Gould', 'Loren Dean', 'Jeremy Piven', 'Johnny Green', \"Patrick O'Neill\", 'Don Wilson', 'Bebe Neuwirth', 'Eric Stoltz', 'Philip Baker Hall', 'Joan Cusack'], 'directors': ['Cameron Crowe'], 'screenwriters': ['Richard Gibbs', 'Anne Dudley'], 'music_composers': ['Cameron Crowe']},\n",
       " 'm_5971': {'movie_id': 'm_5971', 'title': \"We're No Angels\", 'genres': ['Comedy', 'Crime', 'Drama'], 'production_countries': ['US'], 'collection_name': '', 'release_year': '1989', 'actors': ['Robert De Niro', 'Sean Penn', 'Demi Moore', 'Hoyt Axton', 'Bruno Kirby', 'Ray McAnally', 'James Russo', 'Wallace Shawn', 'John C. Reilly', 'Bill Murdoch', 'Richard Newman'], 'directors': ['Neil Jordan'], 'screenwriters': ['George Fenton'], 'music_composers': ['David Mamet', 'Albert Husson', 'Ranald MacDougall', 'Sam Spewack', 'Bella Spewack']},\n",
       " 'm_2109': {'movie_id': 'm_2109', 'title': 'Rush Hour', 'genres': ['Action', 'Comedy', 'Crime', 'Thriller'], 'production_countries': ['US'], 'collection_name': 'Rush Hour Collection', 'release_year': '1998', 'actors': ['Jackie Chan', 'Chris Tucker', 'Ken Leung', 'Tom Wilkinson', 'Tzi Ma', 'Chris Penn', 'Robert Littman', 'Michael Chow', 'Julia Hsu', 'Kai Lennox', 'Elizabeth Peña', 'Roger Fan', 'George Cheung', 'Larry Sullivan', 'Rex Linn', 'Lucy Lin', 'Mark Rolston', 'Philip Baker Hall', 'John Hawkes', 'Ai Wan', 'Tommy Bush', 'Billy Devlin'], 'directors': ['Brett Ratner'], 'screenwriters': ['Lalo Schifrin'], 'music_composers': ['Jim Kouf', 'Ross LaManna']},\n",
       " 'm_1091': {'movie_id': 'm_1091', 'title': 'The Thing', 'genres': ['Horror', 'Mystery', 'Science Fiction'], 'production_countries': ['US'], 'collection_name': 'The Thing Collection', 'release_year': '1982', 'actors': ['Kurt Russell', 'Keith David', 'Wilford Brimley', 'Donald Moffat', 'Richard Dysart', 'Charles Hallahan', 'T. K. Carter', 'David Clennon', 'Peter Maloney', 'Richard Masur', 'Joel Polis', 'Thomas G. Waites'], 'directors': ['John Carpenter'], 'screenwriters': ['Ennio Morricone'], 'music_composers': ['Bill Lancaster']},\n",
       " 'm_162': {'movie_id': 'm_162', 'title': 'Edward Scissorhands', 'genres': ['Fantasy', 'Drama', 'Romance'], 'production_countries': ['US'], 'collection_name': '', 'release_year': '1990', 'actors': ['Johnny Depp', 'Winona Ryder', 'Dianne Wiest', 'Alan Arkin', 'Anthony Michael Hall', 'Vincent Price', 'Kathy Baker', 'Robert Oliveri', 'Conchata Ferrell', 'Caroline Aaron', 'Dick Anthony Williams', 'O-Lan Jones', 'Susan Blommaert', 'Linda Perri', 'John Davidson', 'Biff Yeager', 'Donna Pieroni', 'Alan Fudge', 'Brett Rice', 'Marc Macaulay', 'Stuart Lancaster', 'Steven Brill', 'Gina Gallagher', 'Aaron Lustig', 'Peter Palmer', 'Kathy Lockwood', 'Nick Carter', 'Tim Rerucha'], 'directors': ['Tim Burton'], 'screenwriters': ['Danny Elfman'], 'music_composers': ['Caroline Thompson']},\n",
       " 'm_4975': {'movie_id': 'm_4975', 'title': 'Love Is the Devil: Study for a Portrait of Francis Bacon', 'genres': ['TV Movie', 'Drama'], 'production_countries': ['GB'], 'collection_name': '', 'release_year': '1998', 'actors': ['Derek Jacobi', 'Daniel Craig', 'Tilda Swinton', 'Anne Lambton', 'Adrian Scarborough', 'Karl Johnson', 'Annabel Brooks'], 'directors': ['John Maybury'], 'screenwriters': ['Ryuichi Sakamoto'], 'music_composers': ['John Maybury']},\n",
       " 'm_1955': {'movie_id': 'm_1955', 'title': 'The Elephant Man', 'genres': ['Drama', 'History'], 'production_countries': ['GB', 'US'], 'collection_name': '', 'release_year': '1980', 'actors': ['Anthony Hopkins', 'John Hurt', 'Anne Bancroft', 'John Gielgud', 'Wendy Hiller', 'Freddie Jones', 'Michael Elphick', 'John Standing', 'Phoebe Nicholls', 'Kenny Baker', 'Helen Ryan', 'John Standing', 'Dexter Fletcher', 'Lesley Dunlop', 'Pat Gorman', 'Claire Davenport', 'Orla Pederson', 'Patsy Smart', 'Kathleen Byron', 'William Morgan Sheppard', 'Hannah Gordon', 'Frederick Treves', 'Richard Hunter', 'Robert Lewis Bush', 'Roy Evans', 'Joan Rhodes', 'Nula Conwell', 'Tony London', 'Alfie Curtis', 'Bernadette Milnes', 'Carol Harrison', 'Hugh Manning', 'Dennis Burgess', 'Fanny Carby', 'Gerald Case', 'David Ryall', 'Deirdre Costello', 'Pauline Quirke', 'Marcus Powell', 'Lesley Scoble', 'Eiji Kusuhara', 'Patricia Hodge', 'Tommy Wright', 'Peter Davidson', 'John Rapley', 'Janie Kells', 'Lydia Lisle', 'Eric Bergren', 'Christopher De Vore', 'Harry Fielder', 'David Lynch', 'Ralph Morse', 'Fred Wood'], 'directors': ['David Lynch'], 'screenwriters': ['John Morris'], 'music_composers': ['David Lynch', 'Christopher De Vore', 'Eric Bergren']},\n",
       " 'm_2657': {'movie_id': 'm_2657', 'title': 'Pleasantville', 'genres': ['Fantasy', 'Drama', 'Comedy'], 'production_countries': ['US'], 'collection_name': '', 'release_year': '1998', 'actors': ['Tobey Maguire', 'Reese Witherspoon', 'William H. Macy', 'Joan Allen', 'Jeff Daniels', 'Don Knotts', 'Paul Walker', 'Jane Kaczmarek', 'J.T. Walsh', 'Marley Shelton', 'Giuseppe Andrews', 'Marissa Ribisi', 'Jason Behr', 'Jenny Lewis', 'Marc Blucas', 'Dawn Cody'], 'directors': ['Gary Ross'], 'screenwriters': ['Randy Newman'], 'music_composers': ['Gary Ross']},\n",
       " 'm_637': {'movie_id': 'm_637', 'title': 'La vita è bella', 'genres': ['Comedy', 'Drama'], 'production_countries': ['IT'], 'collection_name': '', 'release_year': '1997', 'actors': ['Nicoletta Braschi', 'Roberto Benigni', 'Giorgio Cantarini', 'Giustino Durano', 'Amerigo Fontani', 'Sergio Bini Bustric', 'Lidia Alfonsi', 'Horst Buchholz', 'Pietro De Silva', 'Marisa Paredes', 'Giuliana Lojodice', 'Francesco Guzzo', 'Adelaide Alaïs', 'Verena Buratti', 'Hannes Hellmann', 'Wolfgang Hillinger', 'Antonio Prester', 'Gina Rovere', 'Laura Susanne Ruedeberg', 'Richard Sammel', 'Andrea Tidona', 'Dirk K. van den Berg', 'Omero Antonutti'], 'directors': ['Roberto Benigni'], 'screenwriters': ['Nicola Piovani'], 'music_composers': ['Roberto Benigni', 'Vincenzo Cerami']},\n",
       " 'm_73': {'movie_id': 'm_73', 'title': 'American History X', 'genres': ['Drama'], 'production_countries': ['US'], 'collection_name': '', 'release_year': '1998', 'actors': ['Edward Norton', 'Edward Furlong', \"Beverly D'Angelo\", 'Avery Brooks', 'Jennifer Lien', 'Ethan Suplee', 'Stacy Keach', 'Fairuza Balk', 'Elliott Gould', 'Guy Torry', 'William Russ', 'Joe Cortese', 'Jason Bose Smith', 'Antonio David Lyons', 'Alex Sol', 'Giuseppe Andrews', 'Keram Malicki-Sánchez', 'Michelle Christine White', 'Jonathan Fowler Jr.', 'Christopher Masterson', 'Jordan Marder', 'Nicholas R. Oleson', 'Paul Le Mat', 'Thomas L. Bellissimo', 'Cherish Lee', 'Sam Vlahos', 'Tara Blanchard', 'Anne Lambton', 'Steve Wolford', 'Richard Noyce', 'Danso Gordon', 'David Basulto', 'Alexis Rose Coen', 'Kiante Elam', 'Paul Hopkins', 'Keith Odett', 'Jim Norton', 'Paul E. Short', 'Nigel Miguel', 'Darrell Britt', \"Robert 'Duckie' Carpenter\", \"Sydney 'Big Dawg' Colston\", 'Hans Cozzens', 'John Embry', 'Maximillian Kesmodel', 'Barbie Marie', 'Allie Moss', 'Louis E. Rosas', 'Sam Sarpong', 'Jeremy Sweet', 'Selwyn Ward', 'Denney Pierce', 'Glendon Rich'], 'directors': ['Tony Kaye'], 'screenwriters': ['Anne Dudley'], 'music_composers': ['David McKenna']},\n",
       " 'm_3033': {'movie_id': 'm_3033', 'title': 'Gods and Monsters', 'genres': ['Drama'], 'production_countries': ['GB', 'US'], 'collection_name': '', 'release_year': '1998', 'actors': ['Ian McKellen', 'Brendan Fraser', 'Lynn Redgrave', 'Lolita Davidovich', 'David Dukes', 'Mark Kiely', 'Jack Plotnick', 'Rosalind Ayres', 'Jack Betts', 'Matt McKenzie', \"Kevin J. O'Connor\"], 'directors': ['Bill Condon'], 'screenwriters': [], 'music_composers': ['Bill Condon']},\n",
       " 'm_1678': {'movie_id': 'm_1678', 'title': 'ゴジラ', 'genres': ['Thriller', 'Horror', 'Science Fiction'], 'production_countries': ['JP'], 'collection_name': 'Godzilla (Showa) Collection', 'release_year': '1954', 'actors': ['Akira Takarada', 'Momoko Kôchi', 'Akihiko Hirata', 'Takashi Shimura', 'Fuyuki Murakami', 'Sachio Sakai', 'Ren Yamamoto', 'Toyoaki Suzuki', 'Toranosuke Ogawa', 'Hiroshi Hayashi', 'Seijirô Onda', 'Kin Sugai', 'Kokuten Kôdô', 'Tadashi Okabe', 'Jirô Mitsuaki', 'Ren Imaizumi', 'Sôkichi Maki', 'Kenji Sahara', 'Haruo Nakajima', 'Yasuhisa Tsutsumi', 'Tsuruko Mano', 'Takeo Oikawa', 'Junpei Natsuki', 'Katsumi Tezuka', 'Saburô Iketani', 'Shizuko Azuma', 'Shizuko Higashi', 'Kiyoshi Kamata', 'Keiji Sakakida', 'Tamae Sengo'], 'directors': ['Ishirô Honda'], 'screenwriters': ['Akira Ifukube'], 'music_composers': ['Takeo Murata']},\n",
       " 'm_1680': {'movie_id': 'm_1680', 'title': 'Kingu Kongu tai Gojira', 'genres': ['Action', 'Adventure', 'Science Fiction'], 'production_countries': ['JP'], 'collection_name': 'Godzilla (Showa) Collection', 'release_year': '1962', 'actors': ['Tadao Takashima', 'Kenji Sahara', 'Yû Fujiki', 'Ichirô Arishima', 'Jun Tazaki', 'Akihiko Hirata', 'Mie Hama', 'Akiko Wakabayashi', 'Akemi Negishi', 'Yoshio Kosugi', 'Yoshifumi Tajima', 'Ikio Sawamura', 'Someshô Matsumoto', 'Ko Mishima', 'Sachio Sakai', 'Tatsuo Matsumura', 'Senkichi Ômura', 'Senshô Matsumoto', 'Ren Yamamoto', 'Haruya Katô', 'Shin Ôtomo', 'Nadao Kirino', 'Yasuhisa Tsutsumi', 'Kenzô Tabu', 'Takuzô Kumagai', 'Hideo Shibuya', 'Douglas Fein', 'Harold Conway', 'Osman Yusuf', 'Shôichi Hirose', 'Haruo Nakajima', 'Katsumi Tezuka', 'Harry Holcombe', 'Michael Keith', 'James Yagi'], 'directors': ['Ishirô Honda'], 'screenwriters': ['Akira Ifukube'], 'music_composers': []},\n",
       " 'm_707': {'movie_id': 'm_707', 'title': 'A View to a Kill', 'genres': ['Adventure', 'Action', 'Thriller'], 'production_countries': ['FR', 'IS', 'GB', 'US'], 'collection_name': 'James Bond Collection', 'release_year': '1985', 'actors': ['Roger Moore', 'Christopher Walken', 'Tanya Roberts', 'Grace Jones', 'Patrick Macnee', 'Patrick Bauchau', 'David Yip', 'Fiona Fullerton', 'Manning Redwood', 'Alison Doody', 'Willoughby Gray', 'Desmond Llewelyn', 'Robert Brown', 'Lois Maxwell', 'Walter Gotell', 'Geoffrey Keen', 'Jean Rougerie', 'Daniel Benzali', 'Bogdan Kominowski', 'Papillon Soo', 'Mary Stavin', 'Dominique Risbourg', 'Carole Ashby', 'Anthony Chinn', 'Lucien Jérôme', 'Joe Flood', 'Gerard Bühr', 'Dolph Lundgren', 'Tony Sibbald', 'Bill Ackridge', 'Ron Tarr', 'Taylor McAuley', 'Peter Ensor', 'Seva Novgorodtsev', 'Sian Adey-Jones', 'Caroline Hallett', 'Nike Clark', 'Paula Thomas', 'Gloria Douse', 'Lou-Anne Ronchi', 'Elke Ritschel', 'Mayako Torigai'], 'directors': ['John Glen'], 'screenwriters': ['John Barry'], 'music_composers': ['Richard Maibaum', 'Michael G. Wilson']},\n",
       " 'm_1370': {'movie_id': 'm_1370', 'title': 'Rambo III', 'genres': ['Action', 'Adventure', 'Thriller', 'War'], 'production_countries': ['US'], 'collection_name': 'Rambo Collection', 'release_year': '1988', 'actors': ['Sylvester Stallone', 'Richard Crenna', 'Kurtwood Smith', 'Spiros Focás', 'Sasson Gabai', 'Doudi Shoua', 'Randy Raney', 'Marcus Gilbert', 'Alon Aboutboul', 'Mahmoud Assadollahi', 'Joseph Shiloach', 'Harold Diamond', 'Matti Seri', 'Shaby Ben-Aroya', 'Marc de Jonge', 'Tikva Aziz'], 'directors': ['Peter MacDonald'], 'screenwriters': ['Jerry Goldsmith'], 'music_composers': ['Sylvester Stallone', 'Sheldon Lettich']},\n",
       " 'm_1367': {'movie_id': 'm_1367', 'title': 'Rocky II', 'genres': ['Drama'], 'production_countries': ['US'], 'collection_name': 'Rocky Collection', 'release_year': '1979', 'actors': ['Sylvester Stallone', 'Talia Shire', 'Burt Young', 'Carl Weathers', 'Burgess Meredith', 'Tony Burton', 'Joe Spinell', 'Leonard Gaines', 'Sylvia Meals', 'Frank McRae', 'John Pleshette', 'Stu Nahan', 'Bill Baldwin', 'Jerry Ziesmer'], 'directors': ['Sylvester Stallone'], 'screenwriters': ['Bill Conti'], 'music_composers': ['Sylvester Stallone']},\n",
       " 'm_1371': {'movie_id': 'm_1371', 'title': 'Rocky III', 'genres': ['Drama'], 'production_countries': ['US'], 'collection_name': 'Rocky Collection', 'release_year': '1982', 'actors': ['Sylvester Stallone', 'Talia Shire', 'Burt Young', 'Carl Weathers', 'Burgess Meredith', 'Tony Burton', 'Mr. T', 'Hulk Hogan', 'Ian Fried', 'Al Silvani', 'Wally Taylor', 'Jim Hill', 'Don Sherman', 'Dennis James', 'Jim Healy'], 'directors': ['Sylvester Stallone'], 'screenwriters': ['Bill Conti'], 'music_composers': ['Sylvester Stallone']},\n",
       " 'm_1374': {'movie_id': 'm_1374', 'title': 'Rocky IV', 'genres': ['Drama'], 'production_countries': ['US'], 'collection_name': 'Rocky Collection', 'release_year': '1985', 'actors': ['Sylvester Stallone', 'Talia Shire', 'Burt Young', 'Carl Weathers', 'Brigitte Nielsen', 'Tony Burton', 'Michael Pataki', 'Dolph Lundgren', 'R. J. Adams', 'Barry Tompkins', 'Al Bandiero', 'Dominic Barto', 'Danial Brown', 'James Brown', 'Rose Mary Campos', 'Jack Carpenter', 'Stu Nahan', 'Warner Wolf', 'Gerald Berns', 'Julie Inouye'], 'directors': ['Sylvester Stallone'], 'screenwriters': ['Vince DiCola'], 'music_composers': ['Sylvester Stallone']},\n",
       " 'm_1375': {'movie_id': 'm_1375', 'title': 'Rocky V', 'genres': ['Drama'], 'production_countries': ['US'], 'collection_name': 'Rocky Collection', 'release_year': '1990', 'actors': ['Sylvester Stallone', 'Talia Shire', 'Burt Young', 'Sage Stallone', 'Burgess Meredith', 'Tommy Morrison', 'Richard Gant', 'Tony Burton', 'Jimmy Gambina', 'Delia Sheppard', 'Mike Girard Sheehan', 'Kevin Connolly', 'Elisebeth Peters', 'Hayes Swope', 'Nicky Blair', 'Michael Anthony Williams'], 'directors': ['John G. Avildsen'], 'screenwriters': ['Bill Conti'], 'music_composers': ['Sylvester Stallone']},\n",
       " 'm_1885': {'movie_id': 'm_1885', 'title': 'The Karate Kid', 'genres': ['Drama'], 'production_countries': ['US'], 'collection_name': 'The Karate Kid Collection', 'release_year': '1984', 'actors': ['Ralph Macchio', 'Pat Morita', 'William Zabka', 'Martin Kove', 'Chad McQueen', 'Randee Heller', 'Elisabeth Shue', 'Ron Thomas', 'Rob Garrison', 'Scott Strader'], 'directors': ['John G. Avildsen'], 'screenwriters': ['Bill Conti'], 'music_composers': ['Robert Mark Kamen']},\n",
       " 'm_2112': {'movie_id': 'm_2112', 'title': 'Payback', 'genres': ['Drama', 'Action', 'Thriller', 'Crime'], 'production_countries': ['US'], 'collection_name': '', 'release_year': '1999', 'actors': ['Mel Gibson', 'Kris Kristofferson', 'Gregg Henry', 'Maria Bello', 'David Paymer', 'Bill Duke', 'Deborah Kara Unger', 'John Glover', 'William Devane', 'Lucy Liu', 'Jack Conley', 'James Coburn', 'Trevor St. John', 'Freddy Rodríguez'], 'directors': ['Brian Helgeland'], 'screenwriters': ['Chris Boardman'], 'music_composers': ['Brian Helgeland', 'Terry Hayes']},\n",
       " 'm_1688': {'movie_id': 'm_1688', 'title': 'Conquest of the Planet of the Apes', 'genres': ['Action', 'Science Fiction'], 'production_countries': ['US'], 'collection_name': 'Planet of the Apes Original Collection', 'release_year': '1972', 'actors': ['Roddy McDowall', 'Don Murray', 'Ricardo Montalban', 'Hari Rhodes', 'Severn Darden', 'Lou Wagner', 'Natalie Trundy', 'John Randolph', 'Asa Maynor', 'Joyce Haber', 'H.M. Wynant', 'David Chow', 'Buck Kartalian', 'John Dennis', 'Paul Comi', 'Gordon Jump', 'Dick Spangler', 'Hector Soucy', 'James Bacon', 'Rayford Barnes', 'William Bryant', 'Jean Byron', 'Sam Chew Jr.', 'Francis De Sales', 'Peter Paul Eastman', 'Erin Fleming', 'Daniel Keough', 'Ron Pinkard', 'Jeffrey Sayre'], 'directors': ['J. Lee Thompson'], 'screenwriters': ['Tom Scott'], 'music_composers': ['Paul Dehn']},\n",
       " 'm_1687': {'movie_id': 'm_1687', 'title': 'Escape from the Planet of the Apes', 'genres': ['Action', 'Science Fiction'], 'production_countries': ['US'], 'collection_name': 'Planet of the Apes Original Collection', 'release_year': '1971', 'actors': ['Roddy McDowall', 'Kim Hunter', 'Bradford Dillman', 'Natalie Trundy', 'Eric Braeden', 'William Windom', 'Sal Mineo', 'Albert Salmi', 'Jason Evers', 'John Randolph', 'M. Emmet Walsh', 'Ricardo Montalban', 'Arthur Tovey'], 'directors': ['Don Taylor'], 'screenwriters': ['Jerry Goldsmith'], 'music_composers': ['Paul Dehn']},\n",
       " 'm_100': {'movie_id': 'm_100', 'title': 'Lock, Stock and Two Smoking Barrels', 'genres': ['Comedy', 'Crime'], 'production_countries': ['GB'], 'collection_name': '', 'release_year': '1998', 'actors': ['Jason Flemyng', 'Dexter Fletcher', 'Nick Moran', 'Jason Statham', 'Vinnie Jones', 'Sting', 'Steven Mackintosh', 'Nicholas Rowe', 'Lenny McLean', 'P.H. Moriarty', 'Frank Harper', 'Huggy Leaver', 'Stephen Marcus', 'Peter McNicholl', 'Nick Marcq', 'Tony McMahon', 'Steve Sweeney', 'Charles Forbes', 'Vas Blackwood', 'Jake Abraham', 'Victor McGuire', 'Danny John-Jules', \"Elwin 'Chopper' David\", 'Vera Day', 'Rob Brydon', 'Alan Ford', 'Andrew Tiernan'], 'directors': ['Guy Ritchie'], 'screenwriters': ['David A. Hughes', 'John Murphy'], 'music_composers': ['Guy Ritchie']},\n",
       " 'm_1641': {'movie_id': 'm_1641', 'title': 'Forces of Nature', 'genres': ['Romance', 'Comedy'], 'production_countries': ['US'], 'collection_name': '', 'release_year': '1999', 'actors': ['Sandra Bullock', 'Ben Affleck', 'Maura Tierney', 'Steve Zahn', 'Blythe Danner', 'Ronny Cox', 'Michael Fairman', 'Richard Schiff', 'Athena Maria Bitzis', 'Afemo Omilami', 'David Strickland', 'Jack Kehler', 'Janet Carroll', 'Meredith Scott Lynn', 'George Wallace', 'Steve Hytner', 'John Doe', 'Anne Haney', 'Bert Remsen', 'Julie Ivey', 'Danny Scalf', 'Pat Crawford Brown', 'Bill Erwin', 'Carter Reedy', 'Kara Hamilton', 'William Marquez', 'Michael Cudlitz', 'Libby Whittemore', 'Dan Albright', 'Mike Pniewski', 'Taylor Gilbert', 'Francisco De Ramírez', 'Shelly Desai', 'Chad Ridgely', 'Rob Springer', 'Joanne Pankow', 'Bill Coates', 'Leon Lamar', 'Bob King', 'Dan Biggers'], 'directors': ['Bronwen Hughes'], 'screenwriters': ['John Powell'], 'music_composers': []},\n",
       " 'm_8970': {'movie_id': 'm_8970', 'title': 'The Out-of-Towners', 'genres': ['Comedy'], 'production_countries': ['US'], 'collection_name': '', 'release_year': '1999', 'actors': ['Steve Martin', 'Goldie Hawn', 'John Cleese', 'Mark McKinney', 'Jessica Cauffiel', 'Charlie Dell', 'Tom Riis Farrell', 'Cynthia Nixon', 'Josh Mostel', 'Anne Haney', 'Carlease Burke'], 'directors': ['Sam Weisman'], 'screenwriters': ['Marc Shaiman'], 'music_composers': ['Marc Lawrence']},\n",
       " 'm_1946': {'movie_id': 'm_1946', 'title': 'eXistenZ', 'genres': ['Action', 'Thriller', 'Science Fiction', 'Horror'], 'production_countries': ['CA', 'FR', 'GB'], 'collection_name': '', 'release_year': '1999', 'actors': ['Jennifer Jason Leigh', 'Jude Law', 'Ian Holm', 'Willem Dafoe', 'Don McKellar', 'Oscar Hsu', 'Callum Keith Rennie', 'Christopher Eccleston', 'Sarah Polley', 'Robert A. Silverman', 'Kris Lemche', 'Vik Sahay', 'Kirsten Johnson', 'James Kirchner', 'Balázs Koós', 'Stephanie Belding', 'Gerry Quigley'], 'directors': ['David Cronenberg'], 'screenwriters': ['Howard Shore'], 'music_composers': ['David Cronenberg']},\n",
       " 'm_30793': {'movie_id': 'm_30793', 'title': 'House of Dracula', 'genres': ['Horror', 'Science Fiction'], 'production_countries': ['US'], 'collection_name': 'Dracula (Universal Series)', 'release_year': '1945', 'actors': ['John Carradine', 'Onslow Stevens', 'Lon Chaney Jr.', \"Martha O'Driscoll\", 'Jane Adams', 'Lionel Atwill', 'Glenn Strange', 'Skelton Knaggs', 'Ludwig Stössel', 'Joseph E. Bernard', 'Dick Dickinson', 'Harry Lamont', 'Robert Robinson', 'Anne G. Sterling', 'Fred Cordova', 'Carey Harrison', 'Gregory Marshall', 'Beatrice Gray'], 'directors': ['Erle C. Kenton'], 'screenwriters': [], 'music_composers': ['Edward T. Lowe Jr.']},\n",
       " 'm_3035': {'movie_id': 'm_3035', 'title': 'Frankenstein', 'genres': ['Drama', 'Horror', 'Science Fiction'], 'production_countries': ['US'], 'collection_name': 'Frankenstein (Universal Series)', 'release_year': '1931', 'actors': ['Colin Clive', 'Mae Clarke', 'John Boles', 'Boris Karloff', 'Edward Van Sloan', 'Frederick Kerr', 'Dwight Frye', 'Lionel Belmore', 'Marilyn Harris', 'Michael Mark', 'Ted Billings', 'Mae Bruce', 'Jack Curtis', 'Arletta Duncan', 'William Dyer', 'Francis Ford', 'Soledad Jiménez', 'Carmencita Johnson', 'Sessel Anne Johnson', 'Margaret Mann', 'Pauline Moore', 'Inez Palange', 'Paul Panzer', 'Cecilia Parker', 'Rose Plumer', 'Cecil Reynolds', 'Ellinor Vanderveer'], 'directors': ['James Whale'], 'screenwriters': ['Bernhard Kaun'], 'music_composers': ['Peggy Webling', 'Francis Edward Faragoh', 'Garrett Fort', 'Robert Florey', 'John Russell']},\n",
       " 'm_509': {'movie_id': 'm_509', 'title': 'Notting Hill', 'genres': ['Romance', 'Comedy', 'Drama'], 'production_countries': ['GB', 'US'], 'collection_name': '', 'release_year': '1999', 'actors': ['Julia Roberts', 'Hugh Grant', 'Gina McKee', 'Tim McInnerny', 'Rhys Ifans', 'Emma Chambers', 'Hugh Bonneville', 'Richard McCabe', 'James Dreyfus', 'Dylan Moran', 'Roger Frost', 'Henry Goodman', 'Julian Rhind-Tutt', 'Lorelei King', 'Alec Baldwin', 'John Shrapnel', 'Emily Mortimer', 'Dorian Lough', 'Sanjeev Bhaskar', 'Paul Chahidi', 'Mischa Barton', 'Clarke Peters', 'Ann Beach', 'Samuel West', 'Tony Armatrading', 'Simon Callow', 'Rupert Procter'], 'directors': ['Roger Michell'], 'screenwriters': ['Trevor Jones'], 'music_composers': ['Richard Curtis']},\n",
       " 'm_1090': {'movie_id': 'm_1090', 'title': 'The Thirteenth Floor', 'genres': ['Thriller', 'Science Fiction', 'Mystery'], 'production_countries': ['US'], 'collection_name': '', 'release_year': '1999', 'actors': ['Craig Bierko', 'Armin Mueller-Stahl', 'Gretchen Mol', \"Vincent D'Onofrio\", 'Dennis Haysbert', 'Steven Schub', 'Jeremy Roberts', 'Rif Hutton', 'Leon Rippy', 'Janet MacLachlan', 'Brad William Henke', 'Burt Bulos', 'Venessia Valentino', 'Tia Texada', 'Howard S. Miller', 'Shiri Appleby', 'Bob Clendenin', 'Rachel Winfree', 'Alison Lohman', 'Meghan Ivey', 'Ernie Lively', 'Toni Sawyer', 'Lee Weaver', 'Travis Tedford', 'Johnny Crawford', 'Jeff Blumenkrantz', 'Geoffrey Rivas', 'Brooks Almy', 'Darryl Henriques', 'Mary Ann Schmidt', 'Glendon Rich'], 'directors': ['Josef Rusnak'], 'screenwriters': ['Harald Kloser'], 'music_composers': ['Josef Rusnak', 'Ravel Centeno-Rodriguez']},\n",
       " 'm_104': {'movie_id': 'm_104', 'title': 'Lola rennt', 'genres': ['Action', 'Drama', 'Thriller'], 'production_countries': ['DE'], 'collection_name': '', 'release_year': '1998', 'actors': ['Franka Potente', 'Moritz Bleibtreu', 'Herbert Knaup', 'Nina Petri', 'Armin Rohde', 'Joachim Król', 'Heino Ferch', 'Lars Rudolph', 'Ludger Pistor', 'Sebastian Schipper', 'Ute Lubosch', 'Julia Lindig', 'Andreas Petri', 'Klaus Müller', 'Utz Krause', 'Volkhart Buff', 'Monica Bleibtreu', 'Suzanne von Borsody', 'Marc Bischoff', 'Beate Finckh', 'Hans Paetsch', 'Peter Pauli', 'Wolfgang Becker'], 'directors': ['Tom Tykwer'], 'screenwriters': ['Tom Tykwer', 'Johnny Klimek', 'Reinhold Heil'], 'music_composers': ['Tom Tykwer']},\n",
       " 'm_2105': {'movie_id': 'm_2105', 'title': 'American Pie', 'genres': ['Comedy', 'Romance'], 'production_countries': ['US'], 'collection_name': 'American Pie Collection', 'release_year': '1999', 'actors': ['Jason Biggs', 'Chris Klein', 'Thomas Ian Nicholas', 'Alyson Hannigan', 'Shannon Elizabeth', 'Tara Reid', 'Eddie Kaye Thomas', 'Seann William Scott', 'Eugene Levy', 'Natasha Lyonne', 'Mena Suvari', 'Jennifer Coolidge', 'Chris Owen', 'Eric Lively', 'Molly Cheek', 'John Cho', 'Justin Isfeld', 'Eli Marienthal', 'Tara Subkoff', 'Lawrence Pressman', 'Clyde Kusatsu', 'Christina Milian', 'Woody Schultz', 'Eden Riegel', 'Akuyoe Graham', 'Veronica Lauren', 'Monica McSwain', 'Fletcher Sheridan', 'Robyn Roth', 'Jamar Cargo', 'Sasha Barrese', 'Linda Gehringer', 'Jillian Bach', 'Katie Lansdale', 'James DeBello', 'Travis Cody Aimer', 'Mark Hoppus', 'Tom DeLonge', 'Daniel Spink', 'Clementine Ford', 'Casey Erklin', 'Casey Affleck', 'Hilary Angelo'], 'directors': ['Chris Weitz', 'Paul Weitz'], 'screenwriters': ['David Lawrence'], 'music_composers': ['Adam Herz']},\n",
       " 'm_1073': {'movie_id': 'm_1073', 'title': 'Arlington Road', 'genres': ['Drama', 'Thriller', 'Mystery'], 'production_countries': ['US'], 'collection_name': '', 'release_year': '1999', 'actors': ['Jeff Bridges', 'Tim Robbins', 'Joan Cusack', 'Hope Davis', 'Robert Gossett', 'Mason Gamble', 'Spencer Treat Clark', 'Stanley Anderson', 'Viviane Vives', 'Lee Stringer', 'Darryl Cox', 'Loyd Catlett', 'Sid Hillman', 'Auden Thornton', 'Mary Ashleigh Green', 'John Hussey'], 'directors': ['Mark Pellington'], 'screenwriters': ['Angelo Badalamenti'], 'music_composers': ['Ehren Kruger']},\n",
       " 'm_345': {'movie_id': 'm_345', 'title': 'Eyes Wide Shut', 'genres': ['Mystery', 'Drama'], 'production_countries': ['GB', 'US'], 'collection_name': '', 'release_year': '1999', 'actors': ['Tom Cruise', 'Nicole Kidman', 'Madison Eginton', 'Jackie Sawiris', 'Sydney Pollack', 'Leslie Lowe', 'Peter Benson', 'Todd Field', 'Michael Doven', 'Sky du Mont', 'Julienne Davis', 'Marie Richardson', 'Vinessa Shaw', 'Leelee Sobieski', 'Alan Cumming', 'Rade Serbedzija', 'Leon Vitali', 'Philip Ettington'], 'directors': ['Stanley Kubrick'], 'screenwriters': ['Jocelyn Pook'], 'music_composers': ['Stanley Kubrick', 'Frederic Raphael']},\n",
       " 'm_8914': {'movie_id': 'm_8914', 'title': 'Deep Blue Sea', 'genres': ['Action', 'Science Fiction', 'Thriller'], 'production_countries': ['AU', 'US'], 'collection_name': '', 'release_year': '1999', 'actors': ['Thomas Jane', 'Saffron Burrows', 'LL Cool J', 'Michael Rapaport', 'Samuel L. Jackson', 'Stellan Skarsgård', 'Jacqueline McKenzie', 'Aida Turturro', 'Cristos', 'Daniel Rey', 'Valente Rodriguez', 'Brent Roam', 'Eyal Podell', 'Erinn Bartlett', 'Dan Thiel', 'Sabrina Geerinckx', 'Tajsha Thomas', 'Frank Welker'], 'directors': ['Renny Harlin'], 'screenwriters': ['Trevor Rabin'], 'music_composers': ['Duncan Kennedy', 'Donna Powers', 'Wayne Powers']},\n",
       " 'm_247': {'movie_id': 'm_247', 'title': 'The Killing', 'genres': ['Drama', 'Action', 'Thriller', 'Crime'], 'production_countries': ['US'], 'collection_name': '', 'release_year': '1956', 'actors': ['Sterling Hayden', 'Coleen Gray', 'Vince Edwards', 'Jay C. Flippen', 'Elisha Cook Jr.', 'Marie Windsor', 'Ted de Corsia', 'Joe Sawyer', 'James Edwards', 'Timothy Carey', 'Joe Turkel', 'Jay Adler', 'Kola Kwariani', 'Tito Vuolo', 'Dorothy Adams', 'James Griffith', 'Herbert Ellis', 'Cecil Elliott', 'Steve Mitchell', 'Mary Carroll', 'William Benedict', 'Charles Cane', 'Robert Williams', 'Tom Coleman', 'Rodney Dangerfield', 'Franklyn Farnum', 'John George', 'Art Gilmore', 'Kenner G. Kemp', 'Carl M. Leviness', 'Sol Gorss', 'Harry Hines', 'Hal J. Moore', 'Harvey Parry', 'Richard Reeves', 'Frank Richards', 'Arthur Tovey'], 'directors': ['Stanley Kubrick'], 'screenwriters': ['Gerald Fried'], 'music_composers': ['Stanley Kubrick']},\n",
       " 'm_802': {'movie_id': 'm_802', 'title': 'Lolita', 'genres': ['Drama', 'Romance'], 'production_countries': ['GB', 'US'], 'collection_name': '', 'release_year': '1962', 'actors': ['James Mason', 'Sue Lyon', 'Shelley Winters', 'Peter Sellers', 'Lois Maxwell', 'John Harrison', 'Diana Decker', 'Jerry Stovin', 'Gary Cockrell', 'Bill Greene', 'Shirley Douglas'], 'directors': ['Stanley Kubrick'], 'screenwriters': ['Nelson Riddle'], 'music_composers': ['Stanley Kubrick', 'James B. Harris']},\n",
       " 'm_3175': {'movie_id': 'm_3175', 'title': 'Barry Lyndon', 'genres': ['Drama', 'Romance', 'War'], 'production_countries': ['GB', 'US'], 'collection_name': '', 'release_year': '1975', 'actors': [\"Ryan O'Neal\", 'Marisa Berenson', 'Hardy Krüger', 'Diana Körner', 'Frank Middlemass', \"Arthur O'Sullivan\", 'Godfrey Quigley', 'Leonard Rossiter', 'Philip Stone', 'Patrick Magee', 'Steven Berkoff', 'Gay Hamilton', 'Marie Kean', 'Murray Melvin', 'André Morell', 'Leon Vitali', 'Billy Boyle'], 'directors': ['Stanley Kubrick'], 'screenwriters': ['Leonard Rosenman'], 'music_composers': ['Stanley Kubrick']},\n",
       " 'm_147': {'movie_id': 'm_147', 'title': 'Les Quatre Cents Coups', 'genres': ['Drama'], 'production_countries': ['FR'], 'collection_name': 'The Adventures of Antoine Doinel', 'release_year': '1959', 'actors': ['Jean-Pierre Léaud', 'Claire Maurier', 'Albert Rémy', 'Georges Flamant', 'Patrick Auffay', 'Robert Beauvais', 'Yvonne Claudie', 'Pierre Repp', 'Guy Decomble', 'Daniel Couturier', 'François Nocher', 'Richard Kanayan', 'Renaud Fontanarosa', 'Michel Girard', 'Serge Moati', 'Bernard Abbou', 'Jean-François Bergouignan', 'Michel Lesignor', 'Jean-Claude Brialy', 'Jeanne Moreau', 'Philippe de Broca', 'François Truffaut'], 'directors': ['François Truffaut'], 'screenwriters': ['Jean Constantin'], 'music_composers': []},\n",
       " 'm_2115': {'movie_id': 'm_2115', 'title': 'Light of Day', 'genres': ['Music', 'Drama'], 'production_countries': ['US'], 'collection_name': '', 'release_year': '1987', 'actors': ['Michael J. Fox', 'Gena Rowlands', 'Joan Jett', 'Michael McKean', 'Thomas G. Waites', 'Michael Dolan', 'Paul J. Harkins', 'Billy L. Sullivan', 'Jason Miller', 'Cherry Jones'], 'directors': ['Paul Schrader'], 'screenwriters': ['Thomas Newman'], 'music_composers': ['Paul Schrader']},\n",
       " 'm_3526': {'movie_id': 'm_3526', 'title': 'Frances', 'genres': ['Drama'], 'production_countries': ['US'], 'collection_name': '', 'release_year': '1982', 'actors': ['Jessica Lange', 'Kim Stanley', 'Sam Shepard', 'Bart Burns', 'Jonathan Banks', 'Bonnie Bartlett', 'Donald Craig', 'Sarah Cunningham', 'Kevin Costner', 'J. Michael Flynn', 'Ted King', 'Casey MacGill'], 'directors': ['Graeme Clifford'], 'screenwriters': ['John Barry'], 'music_composers': ['Eric Bergren', 'Christopher De Vore']},\n",
       " 'm_745': {'movie_id': 'm_745', 'title': 'The Sixth Sense', 'genres': ['Mystery', 'Thriller', 'Drama'], 'production_countries': ['US'], 'collection_name': '', 'release_year': '1999', 'actors': ['Bruce Willis', 'Toni Collette', 'Olivia Williams', 'Haley Joel Osment', 'Donnie Wahlberg', 'Glenn Fitzgerald', 'Mischa Barton', 'Trevor Morgan', 'Bruce Norris', 'Angelica Page', 'Greg Wood', 'M. Night Shyamalan', 'Peter Anthony Tambakis', 'Jeffrey Zubernis', 'Lisa Summerour', 'Samia Shoaib', 'Janis Dardaris', 'Sarah Ripard', 'KaDee Strickland', 'Kate Kearney-Patch', 'Nico Woulard', 'Keith Woulard', 'Patrick McDade', 'Jose L. Rodriguez', 'Firdous Bamji', 'Hayden Saunier', 'Neill Hartley', 'Heidi Fischer', 'Michael J. Lyons', 'Samantha Fitzpatrick', 'Holly Cross Vagley', 'Marilyn Shanok', 'Carol Nielson', 'Jodi Dawson', 'Tony Michael Donnelly', 'Ronnie Lea', 'Carlos Xavier Lopez', 'Gino Inverso', 'Ellen Sheppard', 'Tom McLaughlin', 'Candy Aston-Dennis', 'Gina Allegro', 'Bob Bowersox', 'Luke Burnyeat', 'Matt Casale', 'Kym Cohen', 'Mark Falvo', 'Colleen June McQuaide', 'Jonathan Nation', 'Sean Oliver', 'Alison Robertson'], 'directors': ['M. Night Shyamalan'], 'screenwriters': ['James Newton Howard'], 'music_composers': []},\n",
       " 'm_913': {'movie_id': 'm_913', 'title': 'The Thomas Crown Affair', 'genres': ['Drama', 'Crime', 'Romance'], 'production_countries': ['US'], 'collection_name': '', 'release_year': '1999', 'actors': ['Pierce Brosnan', 'Rene Russo', 'Denis Leary', 'Ben Gazzara', 'Frankie Faison', 'Fritz Weaver', 'Charles Keating', 'Mark Margolis', 'Faye Dunaway', 'Michael Lombard', 'Ritchie Coster', 'George Christy', 'Tony Cucci'], 'directors': ['John McTiernan'], 'screenwriters': ['Bill Conti'], 'music_composers': ['Leslie Dixon', 'Kurt Wimmer']},\n",
       " 'm_912': {'movie_id': 'm_912', 'title': 'The Thomas Crown Affair', 'genres': ['Romance', 'Crime', 'Thriller', 'Drama'], 'production_countries': ['US'], 'collection_name': '', 'release_year': '1968', 'actors': ['Steve McQueen', 'Faye Dunaway', 'Paul Burke', 'Jack Weston', 'Biff McGuire', 'Addison Powell', 'Astrid Heeren', 'Gordon Pinsent', 'Yaphet Kotto', 'Sidney Armus', 'Richard Bull', 'Peg Shirley', 'Patrick Horgan', 'Carol Corbett', 'Tom Rosqui', 'Michael Shillo', 'Nora Marlowe', 'Sam Melville', 'Ted Gehring', 'Paul Verdier', 'Judy Pace'], 'directors': ['Norman Jewison'], 'screenwriters': ['Michel Legrand'], 'music_composers': ['Alan Trustman']},\n",
       " 'm_1911': {'movie_id': 'm_1911', 'title': 'The 13th Warrior', 'genres': ['Adventure', 'Fantasy', 'Action'], 'production_countries': ['US'], 'collection_name': '', 'release_year': '1999', 'actors': ['Antonio Banderas', 'Vladimir Kulich', 'Dennis Storhøi', 'Daniel Southern', 'Clive Russell', 'Mischa Hausserman', 'Richard Bremmer', 'Diane Venora', 'Neil Maffin', 'John DeSantis', 'Oliver Sveinall', \"Asbjørn 'Bear' Riis\", 'Tony Curran', 'Albie Woodington', 'Omar Sharif', 'Erick Avari', 'John Bear Curtis', 'Andrew Kavadas', 'Richard Ooms'], 'directors': ['John McTiernan'], 'screenwriters': ['Jerry Goldsmith'], 'music_composers': ['Warren Lewis', 'William Wisher Jr.']},\n",
       " 'm_6373': {'movie_id': 'm_6373', 'title': 'Martha – Meet Frank, Daniel and Laurence', 'genres': ['Comedy', 'Romance'], 'production_countries': ['GB'], 'collection_name': '', 'release_year': '1998', 'actors': ['Monica Potter', 'Rufus Sewell', 'Tom Hollander', 'Joseph Fiennes', 'Ray Winstone', 'Debora Weston', 'Jan Pearson', 'Rebecca Craig', 'Paul Bigley', \"Steven O'Donnell\"], 'directors': ['Nick Hamm'], 'screenwriters': ['Ed Shearmur'], 'music_composers': ['Peter Morgan']},\n",
       " 'm_14': {'movie_id': 'm_14', 'title': 'American Beauty', 'genres': ['Drama'], 'production_countries': ['US'], 'collection_name': '', 'release_year': '1999', 'actors': ['Kevin Spacey', 'Annette Bening', 'Thora Birch', 'Wes Bentley', 'Mena Suvari', 'Chris Cooper', 'Scott Bakula', 'Peter Gallagher', 'Allison Janney', 'Sam Robards', 'Barry Del Sherman', 'John Cho', 'Hal Fort Atkinson', 'Kent Faulcon', 'Ara Celi', 'Sue Casey', 'Brenda Wehle', 'Lisa Cloud', 'Amber Smith', 'Joel McCrary', 'Marissa Jaret Winokur', 'Dennis Anderson', 'Matthew Kimbrough', 'Erin Cathryn Strubbe', 'Alison Faulk', 'Krista Goodsitt', 'Lily Houtkin', 'Carolina Lancaster', 'Mona Leah', 'Chekesha Van Putten', 'Emily Zachary', 'Nancy Anderson', 'Reshma Gajjar', 'Stephanie Rizzo', 'Heather Joy Sher', 'Chelsea Hertford', 'Elaine Corral Kendall', 'David C. Fisher', 'Tom Miller', 'Bruce Cohen'], 'directors': ['Sam Mendes'], 'screenwriters': ['Thomas Newman'], 'music_composers': ['Alan Ball']},\n",
       " 'm_1049': {'movie_id': 'm_1049', 'title': 'Sommersby', 'genres': ['Drama', 'Thriller', 'Mystery', 'Romance'], 'production_countries': ['FR', 'US'], 'collection_name': '', 'release_year': '1993', 'actors': ['Jodie Foster', 'Richard Gere', 'Bill Pullman', 'James Earl Jones', 'Lanny Flaherty', 'William Windom', 'Wendell Wellman', 'Brett Kelley', 'Clarice Taylor', 'Frankie Faison', 'R. Lee Ermey', 'Ray McKinnon', 'Richard Hamilton'], 'directors': ['Jon Amiel'], 'screenwriters': ['Danny Elfman'], 'music_composers': ['Sarah Kernochan']},\n",
       " 'm_861': {'movie_id': 'm_861', 'title': 'Total Recall', 'genres': ['Action', 'Adventure', 'Science Fiction'], 'production_countries': ['US'], 'collection_name': '', 'release_year': '1990', 'actors': ['Arnold Schwarzenegger', 'Sharon Stone', 'Rachel Ticotin', 'Ronny Cox', 'Michael Ironside', 'Marshall Bell', 'Roy Brocksmith', 'Ray Baker', 'Rosemary Dunsmore', 'Dean Norris', 'Debbie Lee Carrington', 'Lycia Naff', 'Robert Costanzo', 'Marc Alaimo', 'Michael Gregory', 'Mickey Jones', 'Robert Picardo', 'Michael Champion', 'Mel Johnson Jr.', 'David Knell', 'Alexia Robinson'], 'directors': ['Paul Verhoeven'], 'screenwriters': ['Jerry Goldsmith'], 'music_composers': ['Ronald Shusett', \"Dan O'Bannon\", 'Gary Goldman']},\n",
       " 'm_535': {'movie_id': 'm_535', 'title': 'Flashdance', 'genres': ['Drama', 'Music', 'Romance'], 'production_countries': ['US'], 'collection_name': '', 'release_year': '1983', 'actors': ['Jennifer Beals', 'Michael Nouri', 'Lilia Skala', 'Kyle T. Heffner', 'Sunny Johnson', 'Philip Bruns', 'Micole Mercurio', 'Cynthia Rhodes', 'Lee Ving', 'Ron Karabatsos', 'Belinda Bauer', 'Lucy Lee Flippin', 'Durga McBroom', 'Liz Sagal', 'Malcolm Danare', 'Don Brockett', 'Stacey Pickren', 'Robert Wuhl', 'Matt Landers', 'Steve Price', 'Frank Pesce', 'Marc Lemberger', 'Wayne Frost', 'Debra Gordon', 'Tony De Santis', 'Ann Muffly'], 'directors': ['Adrian Lyne'], 'screenwriters': ['Giorgio Moroder'], 'music_composers': ['Thomas Hedley Jr.', 'Joe Eszterhas']},\n",
       " 'm_2731': {'movie_id': 'm_2731', 'title': 'Indochine', 'genres': ['Drama', 'Romance'], 'production_countries': ['FR'], 'collection_name': '', 'release_year': '1992', 'actors': ['Catherine Deneuve', 'Vincent Pérez', 'Linh Đan Phạm', 'Jean Yanne', 'Dominique Blanc', 'Alain Fromager', 'Eric Nguyen', 'Jean-Baptiste Huynh', 'Henri Marteau'], 'directors': ['Régis Wargnier'], 'screenwriters': ['Patrick Doyle'], 'music_composers': ['Érik Orsenna', 'Louis Gardel', 'Catherine Cohen', 'Régis Wargnier']},\n",
       " 'm_550': {'movie_id': 'm_550', 'title': 'Fight Club', 'genres': ['Drama'], 'production_countries': ['DE', 'US'], 'collection_name': '', 'release_year': '1999', 'actors': ['Edward Norton', 'Brad Pitt', 'Meat Loaf', 'Jared Leto', 'Helena Bonham Carter', 'Zach Grenier', 'Holt McCallany', 'Eion Bailey', 'Richmond Arquette', 'David Andrews', 'Christina Cabot', 'Tim DeZarn', 'Ezra Buzzington', 'Bob Stephenson', 'David Lee Smith', 'Carl Ciarfalio', 'Stuart Blumberg', 'Mark Fite', 'Matt Winston', 'Lauren Sánchez', 'Thom Gossom Jr.', 'Markus Redmond', 'Van Quattro', 'Michael Girardin', 'David Jean Thomas', 'Paul Carafotes', 'Christopher John Fields', 'Michael Shamus Wiles', 'George Maguire', 'Eugenie Bondurant', \"Sydney 'Big Dawg' Colston\", 'Rachel Singer', 'Christie Cronenweth', 'Dierdre Downing-Jackson', 'Charlie Dell', 'Rob Lanza', 'Joel Bissonnette', 'Evan Mirand', 'Robby Robinson', 'Lou Beatty Jr.', 'Valerie Bickford', 'Peter Iacangelo', 'Todd Peirce', 'Joon Kim', 'Bennie Moore', 'Pat McNamara', 'Tyrone R. Livingston', 'Owen Masterson', 'Anderson Bourell', 'Scotch Ellis Loring', 'Andi Carnick', 'Edward Kowalczyk', 'Leonard Termo', 'Michael Arturo', 'Greg Bronson', 'Matt Cinquanta', 'Tommy Dallace', 'Paul Dillon', 'Tom Falzone', 'Eddie Hargitay', 'Phil Hawn', 'Bruce Holman', 'Jawara', 'Baron Jay', 'Jim Jenkins', 'Kevin Scott Mack', 'Trey Ore', 'Louis Ortiz', 'Hugh Peddy', 'J.T. Pontino', 'Chad Randau', 'Marcio Rosario', 'Gregory Silva', 'Brian Tochi', 'Alekxia Valdez', 'Michael Zagst', 'Gökhan Öncel'], 'directors': ['David Fincher'], 'screenwriters': ['John King', 'Michael Simpson'], 'music_composers': ['Jim Uhls']},\n",
       " 'm_1610': {'movie_id': 'm_1610', 'title': 'Fever Pitch', 'genres': ['Comedy', 'Romance'], 'production_countries': ['GB'], 'collection_name': '', 'release_year': '1997', 'actors': ['Colin Firth', 'Ruth Gemmell', 'Mark Strong', 'Holly Aird', 'Ken Stott', 'Stephen Rea', 'Neil Pearson', 'Lorraine Ashbourne', 'Luke Aikman', 'Bea Guard', 'Richard Claxton', 'Charles Cork', 'Bob Curtiss', 'David Hounslow'], 'directors': ['David Evans'], 'screenwriters': ['Boo Hewerdine', 'Neil MacColl'], 'music_composers': ['Nick Hornby']},\n",
       " 'm_709': {'movie_id': 'm_709', 'title': 'Licence to Kill', 'genres': ['Adventure', 'Action', 'Thriller'], 'production_countries': ['GB', 'US'], 'collection_name': 'James Bond Collection', 'release_year': '1989', 'actors': ['Timothy Dalton', 'Carey Lowell', 'Robert Davi', 'Talisa Soto', 'Anthony Zerbe', 'Frank McRae', 'David Hedison', 'Wayne Newton', 'Benicio del Toro', 'Anthony Starke', 'Everett McGill', 'Desmond Llewelyn', 'Pedro Armendáriz Jr.', 'Robert Brown', 'Grand L. Bush', 'Priscilla Barnes', 'Don Stroud', 'Caroline Bliss', 'Cary-Hiroyuki Tagawa', 'Alejandro Bracho', 'Guy De Saint Cyr', 'Rafer Johnson', 'Diane Hsu', 'Christopher Neame'], 'directors': ['John Glen'], 'screenwriters': ['Michael Kamen'], 'music_composers': ['Richard Maibaum', 'Michael G. Wilson']},\n",
       " 'm_253': {'movie_id': 'm_253', 'title': 'Live and Let Die', 'genres': ['Adventure', 'Action', 'Thriller'], 'production_countries': ['GB'], 'collection_name': 'James Bond Collection', 'release_year': '1973', 'actors': ['Roger Moore', 'Yaphet Kotto', 'Jane Seymour', 'Clifton James', 'Julius Harris', 'Geoffrey Holder', 'David Hedison', 'Gloria Hendry', 'Bernard Lee', 'Lois Maxwell', 'Tommy Lane', 'Earl Jolly Brown', 'Lon Satton', 'Madeline Smith', 'Roy Stewart'], 'directors': ['Guy Hamilton'], 'screenwriters': ['George Martin'], 'music_composers': ['Tom Mankiewicz']},\n",
       " 'm_492': {'movie_id': 'm_492', 'title': 'Being John Malkovich', 'genres': ['Fantasy', 'Drama', 'Comedy'], 'production_countries': ['US'], 'collection_name': '', 'release_year': '1999', 'actors': ['John Cusack', 'Cameron Diaz', 'Catherine Keener', 'Charlie Sheen', 'John Malkovich', 'Sean Penn', 'Brad Pitt', 'Dustin Hoffman', 'Winona Ryder', 'Orson Bean', 'Mary Kay Place', 'W. Earl Brown', 'Carlos Jacott', 'Willie Garson', 'Byrne Piven', 'Gregory Sporleder', 'Octavia Spencer'], 'directors': ['Spike Jonze'], 'screenwriters': ['Carter Burwell'], 'music_composers': []},\n",
       " 'm_2020': {'movie_id': 'm_2020', 'title': 'The Bachelor', 'genres': ['Comedy'], 'production_countries': ['US'], 'collection_name': '', 'release_year': '1999', 'actors': [\"Chris O'Donnell\", 'Renée Zellweger', 'Artie Lange', 'Hal Holbrook', 'Ed Asner', 'James Cromwell', 'Marley Shelton', 'Peter Ustinov', 'Jennifer Esposito', 'Jason Aaron Baca', 'Katharine Towne', 'Rebecca Cross', 'Stacy Edwards', 'Mariah Carey', 'Sarah Silverman', 'Brooke Shields'], 'directors': ['Gary Sinyor'], 'screenwriters': ['David A. Hughes', 'John Murphy'], 'music_composers': ['Steve Cohen']},\n",
       " 'm_1694': {'movie_id': 'm_1694', 'title': 'Re-Animator', 'genres': ['Science Fiction', 'Comedy', 'Horror'], 'production_countries': ['US'], 'collection_name': 'Re-Animator Collection', 'release_year': '1985', 'actors': ['Jeffrey Combs', 'Bruce Abbott', 'Barbara Crampton', 'David Gale', 'Robert Sampson', 'Carolyn Purdy-Gordon', 'Peter Kent', 'Ian Patrick Williams'], 'directors': ['Stuart Gordon'], 'screenwriters': ['Richard Band'], 'music_composers': []},\n",
       " 'm_2690': {'movie_id': 'm_2690', 'title': 'Irma la Douce', 'genres': ['Comedy', 'Romance'], 'production_countries': ['US'], 'collection_name': '', 'release_year': '1963', 'actors': ['Jack Lemmon', 'Shirley MacLaine', 'Lou Jacobi', 'Cliff Osmond', 'Bruce Yarnell', 'Hope Holiday', 'Herschel Bernardi', 'Joan Shawlee', 'Paul Dubov', 'Howard McNear'], 'directors': ['Billy Wilder'], 'screenwriters': ['André Previn'], 'music_composers': ['Billy Wilder', 'I. A. L. Diamond']},\n",
       " 'm_596': {'movie_id': 'm_596', 'title': 'The Grapes of Wrath', 'genres': ['Drama'], 'production_countries': ['US'], 'collection_name': '', 'release_year': '1940', 'actors': ['Henry Fonda', 'Jane Darwell', 'John Carradine', 'Charley Grapewin', 'Dorris Bowdon', 'Russell Simpson', 'O.Z. Whitehead', 'John Qualen', 'Eddie Quillan', 'Zeffie Tilbury', 'Frank Sully', 'Frank Darien', 'Darryl Hickman', 'Shirley Mills', 'Roger Imhof', 'Grant Mitchell', 'Charles D. Brown', 'John Arledge', 'Ward Bond', 'Harry Tyler', 'William Pawley', 'Charles Tannen', 'Selmer Jackson', 'Charles Middleton', 'Eddy Waller', 'Paul Guilfoyle', 'David Hughes', 'Cliff Clark', 'Joe Sawyer', 'Frank Faylen', 'Adrian Morris', 'Hollis Jewell', 'Robert Homans', 'Irving Bacon', 'Kitty McHugh', 'Gino Corrado', 'Pat Flaherty', 'Francis Ford', 'Herbert Heywood', 'Mae Marsh', 'Dan White', 'Wally Albright', 'Erville Alderson', 'Robert J. Anderson', 'Frank Atkinson', 'Arthur Aylesworth', 'Trevor Bardette', 'Joe Bordeaux', 'George P. Breakston', 'Buster Brodie', 'Delmar Costello', 'W.H. Davis', 'Emily Gerdes', 'Barney Gilmore', 'Edna Hall', 'Charles Herzinger', 'Harry Holden', 'David Kirkland', 'Lillian Lawrence', 'Scotty Mattraw', 'Frank Newburg', 'Walter Perry', 'Rose Plumer', 'Al Stewart', 'Charles Thurston', 'D.H. Turner', 'John Wallace', 'Charles West', 'Russ Clark', 'James Flavin', 'Philip Morris', 'Max Wagner', 'Shirley Coates', 'Harry Cording', 'Ralph Dunn', 'Bob Reeves', 'Lee Shumway', 'Paul Sutton', 'William Haade', \"Frank O'Connor\", 'Harry Tenbrook', 'Tom Tyler', 'Jim Corey', 'John Dilson', 'Thornton Edwards', 'Rex Lease', 'Ben Hall', 'Louis Mason', 'Walter McGrail', 'Walter Miller', \"George O'Hara\", 'Ted Oliver', 'Inez Palange', 'Steve Pendleton', 'Robert Shaw', 'Jack Pennick', 'Dick Rich', 'Gloria Roy', 'Peggy Ryan', 'Georgia Simmons', 'Harry Strang', 'Glen Walters', 'Norman Willis', 'Bill Wolfe', 'Waclaw Rekwart', 'Josephine Allen', 'John Binns', 'Leon Brace', 'Henry Brahe', 'Scotty Brown', 'Hal Budlong', 'Nora Bush', 'Russ Clark', 'Shirley Coates', 'Cal Cohen', 'Cecil Cook', 'Jim Corey', 'Jane Crowley', 'Helen Dean', 'John Dilson', 'Lillian Drew'], 'directors': ['John Ford'], 'screenwriters': ['Alfred Newman'], 'music_composers': ['Nunnally Johnson']},\n",
       " 'm_293': {'movie_id': 'm_293', 'title': 'A River Runs Through It', 'genres': ['Drama'], 'production_countries': ['US'], 'collection_name': '', 'release_year': '1992', 'actors': ['Brad Pitt', 'Craig Sheffer', 'Tom Skerritt', 'Brenda Blethyn', 'Edie McClurg', 'Stephen Shellen', 'Vann Gravage', 'Susan Traylor', 'Nicole Burdette', 'Emily Lloyd', 'William Hootkins', 'Joseph Gordon-Levitt'], 'directors': ['Robert Redford'], 'screenwriters': ['Mark Isham'], 'music_composers': ['Richard Friedenberg']},\n",
       " 'm_177': {'movie_id': 'm_177', 'title': 'The Fisher King', 'genres': ['Comedy', 'Drama'], 'production_countries': ['US'], 'collection_name': '', 'release_year': '1991', 'actors': ['Jeff Bridges', 'Robin Williams', 'Mercedes Ruehl', 'Amanda Plummer', 'Michael Jeter', 'Lara Harris', 'Kathy Najimy', 'Paul Lombardi', 'David Hyde Pierce', 'John de Lancie', 'Lisa Blades', 'Adam Bryant', 'Ted Ross', 'Warren Olney', 'Frazer Smith', 'Harry Shearer', 'Melinda Culea', 'James Remini', 'Mark Bowden', 'John Ottavino', 'Dan Futterman', 'Jayce Bartok', 'Bradley Gregg', 'Tom Waits', 'Diane Robin'], 'directors': ['Terry Gilliam'], 'screenwriters': ['George Fenton'], 'music_composers': []},\n",
       " 'm_497': {'movie_id': 'm_497', 'title': 'The Green Mile', 'genres': ['Fantasy', 'Drama', 'Crime'], 'production_countries': ['US'], 'collection_name': '', 'release_year': '1999', 'actors': ['Tom Hanks', 'Michael Clarke Duncan', 'David Morse', 'Bonnie Hunt', 'James Cromwell', 'Patricia Clarkson', 'Michael Jeter', 'Sam Rockwell', 'Graham Greene', 'Doug Hutchison', 'Barry Pepper', 'Jeffrey DeMunn', 'Harry Dean Stanton', 'Gary Sinise', 'Dabbs Greer', 'Eve Brent', 'William Sadler', 'Mack Miles', 'Rai Tasco', 'Paula Malcomson', 'Brian Libby', 'Brent Briscoe', 'Bill McKinney', 'Rachel Singer', 'Scotty Leavenworth', 'Bill Gratton', 'Dee Croxton', 'Rebecca Klingler', 'Gary Imhoff', 'Van Epperson', 'Phil Hawn', 'Ted Hollis', 'Robert Malone'], 'directors': ['Frank Darabont'], 'screenwriters': ['Thomas Newman'], 'music_composers': ['Frank Darabont']},\n",
       " 'm_334': {'movie_id': 'm_334', 'title': 'Magnolia', 'genres': ['Drama'], 'production_countries': ['US'], 'collection_name': '', 'release_year': '1999', 'actors': ['Julianne Moore', 'William H. Macy', 'John C. Reilly', 'Tom Cruise', 'Philip Baker Hall', 'Philip Seymour Hoffman', 'Jason Robards', 'Alfred Molina', 'Melora Walters', 'Michael Bowen', 'Jeremy Blackman', 'Emmanuel Johnson', 'Melinda Dillon', 'April Grace', 'Felicity Huffman', 'Orlando Jones', 'Ricky Jay', 'Patton Oswalt', 'Neil Flynn', 'Henry Gibson', 'Miriam Margolyes', 'Michael Murphy', 'Genevieve Zweig', 'Pat Healy', 'Thomas Jane', 'Luis Guzmán', 'Clark Gregg', 'Veronica Hart', 'Paul F. Tompkins'], 'directors': ['Paul Thomas Anderson'], 'screenwriters': ['Jon Brion'], 'music_composers': ['Paul Thomas Anderson']},\n",
       " 'm_926': {'movie_id': 'm_926', 'title': 'Galaxy Quest', 'genres': ['Comedy', 'Family', 'Science Fiction'], 'production_countries': ['US'], 'collection_name': '', 'release_year': '1999', 'actors': ['Tim Allen', 'Sigourney Weaver', 'Alan Rickman', 'Tony Shalhoub', 'Sam Rockwell', 'Daryl Mitchell', 'Enrico Colantoni', 'Robin Sachs', 'Jed Rees', 'Justin Long', 'Missi Pyle', 'Patrick Breen', 'Jeremy Howard', 'Sam Lloyd', 'Rainn Wilson', 'J.P. Manoux', 'Dian Bachar', 'Heidi Swedberg', 'Kevin McDonald', 'Kaitlin Cullum', 'Jonathan Feyer'], 'directors': ['Dean Parisot'], 'screenwriters': ['David Newman'], 'music_composers': ['David Howard', 'Robert Gordon']},\n",
       " 'm_1213': {'movie_id': 'm_1213', 'title': 'The Talented Mr. Ripley', 'genres': ['Thriller', 'Crime', 'Drama'], 'production_countries': ['US'], 'collection_name': '', 'release_year': '1999', 'actors': ['Matt Damon', 'Gwyneth Paltrow', 'Jude Law', 'Cate Blanchett', 'Philip Seymour Hoffman', 'Jack Davenport', 'James Rebhorn', 'Sergio Rubini', 'Philip Baker Hall', 'Celia Weston', 'Fiorello', 'Stefania Rocca', 'Ivano Marescotti', 'Anna Longhi', 'Alessandro Fabrizi', 'Lisa Eichhorn', 'Gretchen Egolf', 'Jack Willis', 'Frederick Alexander Bosche', 'Dario Bergesio', 'Larry Kaplan', 'Claire Hardwick', 'Antonio Prester', 'Lorenzo Mancuso', 'Onofrio Mancuso', 'Massimo Reale', 'Emanuele Carucci Viterbi', 'Caterina Deregibus', 'Silvana Bosi', 'Gianfranco Barra', 'Renato Scarpa', 'Deirdre Lovejoy', 'Brian Tarantina', 'Guy Barker', 'Bernardo Sassetti', 'Perico Sambeat', 'Gene Calderazzo', 'Joseph Lepore', 'Rosario Giuliuni', 'Eddy Palerno', 'Byron Wallen', 'Pete King', 'Clark Tracey', 'Jean Toussaint', 'Geoff Gascoyne', 'Carlo Negroni', 'Beppe Fiorello', 'Marco Quaglia', 'Alessandra Vanzi', 'Marco Rossi', 'Roberto Valentini', 'Francesco Bovino', 'Stefano Canettieri', 'Marco Foti', 'Ludovica Tinghi', 'Nicola Pannelli', 'Paolo Calabresi', 'Pietro Ragusa', 'Simone Empler', 'Gianluca Secci', 'Manuel Ruffini', 'Pierpaolo Lovino', 'Roberto Di Palma'], 'directors': ['Anthony Minghella'], 'screenwriters': ['Gabriel Yared'], 'music_composers': ['Anthony Minghella']},\n",
       " 'm_2990': {'movie_id': 'm_2990', 'title': 'Pacific Heights', 'genres': ['Crime', 'Thriller'], 'production_countries': ['US'], 'collection_name': '', 'release_year': '1990', 'actors': ['Melanie Griffith', 'Matthew Modine', 'Michael Keaton', 'Mako', 'Nobu McCarthy', 'Laurie Metcalf', 'Carl Lumbly', 'Dorian Harewood', 'Luca Bercovici', 'Tippi Hedren', 'Sheila McCarthy', \"Beverly D'Angelo\", 'Guy Boyd', 'Dan Hedaya', 'Miriam Margolyes', 'James Staley', 'Takayo Fischer'], 'directors': ['John Schlesinger'], 'screenwriters': ['Hans Zimmer'], 'music_composers': []},\n",
       " 'm_1883': {'movie_id': 'm_1883', 'title': 'Malcolm X', 'genres': ['Drama', 'History'], 'production_countries': ['US'], 'collection_name': '', 'release_year': '1992', 'actors': ['Denzel Washington', 'Angela Bassett', 'Albert Hall', 'Al Freeman, Jr.', 'Delroy Lindo', 'Spike Lee', 'Theresa Randle', 'Kate Vernon', 'Lonette McKee', 'Tommy Hollis', 'James McDaniel', 'Ernest Lee Thomas', 'Jean-Claude La Marre', 'Peter Boyle', 'Karen Allen', 'Christopher Plummer', 'Larry McCoy', 'Maurice Sneed', 'Debi Mazar', 'Phyllis Yvonne Stickney', 'Scot Anthony Robinson', 'Sonny Jim Gaines', 'Joe Seneca', 'LaTanya Richardson Jackson', 'Wendell Pierce', 'Michael Guess', 'Leland Gantt', 'Giancarlo Esposito', 'Leonard L. Thomas', 'Roger Guenveur Smith', 'Craig Wasson', 'Graham Brown', 'Gerica Cox', 'Kristan Rai Segure', 'Lauren Padick', 'Danielle Fletcher', 'Robinson Frank Adu', 'Aleta Mitchell', 'Curt Williams', 'John Ottavino', 'John Reidy', 'Frances Foster', 'Reggie Montgomery', 'David Patrick Kelly', 'Gary L. Catus', 'Sharon Washington', 'Shirley Stoler', \"Oran 'Juice' Jones\", 'Ricky Gordon', 'George Lee Miles', 'Raye Dowell', 'Veronica Webb', 'Abdul Salaam El Razzac', 'Keith Randolph Smith', 'George Guidall', 'James L. Swain', 'Peewee Love', 'Lawrence James', 'Steve White', 'K. Smith', 'Christopher Rubin', 'Mary Alice', 'Karen Duffy', 'Michael Imperioli', 'Steve Stapenhorst', 'John Sayles', 'Martin Donovan', 'Nelson Mandela', 'O.L. Duke'], 'directors': ['Spike Lee'], 'screenwriters': ['Terence Blanchard'], 'music_composers': ['Arnold Perl', 'Spike Lee']},\n",
       " 'm_2005': {'movie_id': 'm_2005', 'title': 'Sister Act', 'genres': ['Music', 'Comedy'], 'production_countries': ['US'], 'collection_name': 'Sister Act Collection', 'release_year': '1992', 'actors': ['Whoopi Goldberg', 'Maggie Smith', 'Kathy Najimy', 'Wendy Makkena', 'Mary Wickes', 'Harvey Keitel', 'Bill Nunn', 'Richard Portnow', 'Robert Miranda', 'Joseph Maher', 'Jenifer Lewis', 'Charlotte Crossley', 'Michael Durrell', 'A.J. Johnson', 'Jeremy Roberts', 'Prudence Wright Holmes'], 'directors': ['Emile Ardolino'], 'screenwriters': ['Marc Shaiman'], 'music_composers': ['Joseph Howard']},\n",
       " 'm_8873': {'movie_id': 'm_8873', 'title': \"Wayne's World 2\", 'genres': ['Music', 'Comedy'], 'production_countries': ['US'], 'collection_name': \"Wayne's World Collection\", 'release_year': '1993', 'actors': ['Mike Myers', 'Dana Carvey', 'Christopher Walken', 'Tia Carrere', 'Chris Farley', 'James Hong', 'Rip Taylor', 'Steven Tyler', 'Joe Perry', 'Heather Locklear', 'Bob Odenkirk', 'Robert Smigel', 'Kim Basinger', 'Drew Barrymore', 'Harry Shearer', 'Jay Leno', 'Charlton Heston', 'Tim Meadows', 'Kevin Pollak', 'Lee Tergesen', 'Ralph Brown', 'Dan Bell', 'Gavin Grazer', 'Michael A. Nickles', 'Larry Sellers', 'Frank DiLeo', \"Olivia d'Abo\", 'Ted McGinley', 'Al Hansen'], 'directors': ['Stephen Surjik'], 'screenwriters': ['Carter Burwell'], 'music_composers': ['Mike Myers', 'Bonnie Turner', 'Terry Turner']},\n",
       " 'm_1923': {'movie_id': 'm_1923', 'title': 'Twin Peaks: Fire Walk with Me', 'genres': ['Drama', 'Mystery'], 'production_countries': ['US'], 'collection_name': '', 'release_year': '1992', 'actors': ['Sheryl Lee', 'Ray Wise', 'Mädchen Amick', 'Dana Ashbrook', 'James Marshall', 'Frances Bay', 'David Bowie', 'Pamela Gidley', 'Heather Graham', 'Chris Isaak', 'Moira Kelly', 'Peggy Lipton', 'David Lynch', 'Jürgen Prochnow', 'Harry Dean Stanton', 'Kiefer Sutherland', 'Lenny Von Dohlen', 'Kyle MacLachlan', 'Jonathan J. Leppell', 'Kimberly Anne Cole', 'Phoebe Augustine', 'Eric DaRe', 'Miguel Ferrer', 'Grace Zabriskie', 'Catherine E. Coulson', 'Michael J. Anderson', 'Frank Silva', 'Walter Olkewicz', 'Al Strobel', 'Gary Hershberger', 'Sandra Kinder', 'Chris Pedersen', 'Victor Rivers', 'Rick Aiello', 'Gary Bullock', 'Jon Huck', 'Mike Malone', 'Joe Berman', 'Yvonne Roberts', 'Audra L. Cooper', 'John Hoobler', 'Elizabeth McCarthy', 'C.H. Evans', 'Paige Bennett', 'G. Kenneth Davidson', 'Ingrid Brucato', 'Chuck McQuary', 'Margaret Adams', 'Carlton Lee Russell', 'Calvin Lockhart', 'David Brisbin', 'Andrea Hays', 'Julee Cruise', 'Steven Hodges', 'William Ungerman', \"Joseph 'Simon' Szeibert\", 'Smokey Hormel', 'Joseph L. Altruda\\t', 'James Parks', 'Jane Jones', 'Karin Robison', 'Lorna MacMillan', 'Philip Anagnos', 'Anne Gaybis', 'John Nelson'], 'directors': ['David Lynch'], 'screenwriters': [], 'music_composers': []},\n",
       " 'm_1907': {'movie_id': 'm_1907', 'title': 'The Beach', 'genres': ['Drama', 'Adventure', 'Romance', 'Thriller'], 'production_countries': ['GB', 'US'], 'collection_name': '', 'release_year': '2000', 'actors': ['Leonardo DiCaprio', 'Guillaume Canet', 'Tilda Swinton', 'Virginie Ledoyen', 'Staffan Kihlbom', 'Paterson Joseph', 'Peter Youngblood Hills', 'Robert Carlyle', 'Jerry Swindall', 'Lars Arentz-Hansen', 'Jukka Hiltunen', 'Magnus Lindgren', 'Daniel York', 'Daniel Caltagirone', 'Zelda Tinska', 'Sian Martin'], 'directors': ['Danny Boyle'], 'screenwriters': ['Angelo Badalamenti'], 'music_composers': ['John Hodge']},\n",
       " 'm_901': {'movie_id': 'm_901', 'title': 'City Lights', 'genres': ['Comedy', 'Drama', 'Romance'], 'production_countries': ['US'], 'collection_name': '', 'release_year': '1931', 'actors': ['Charlie Chaplin', 'Virginia Cherrill', 'Florence Lee', 'Harry Myers', 'Al Ernest Garcia', 'Hank Mann', 'Albert Austin', 'Eddie Baker', 'Henry Bergman', 'Buster Brodie', 'Jeanne Carpenter', 'Tom Dempsey', 'James Donnelly', 'Ray Erlenborn', 'Robert Graves', 'Charles Hammond', 'Jean Harlow', 'Joseph Herrick', 'Austen Jewell', 'Willie Keeler', 'Robert Parrish', 'John Rand', 'W.C. Robinson', 'Cy Slocum', 'Tony Stabenau', 'Mark Strong', 'Tiny Ward', 'Stanhope Wheatcroft', 'Florence Wix', 'Granville Redmond'], 'directors': ['Charlie Chaplin'], 'screenwriters': ['Charlie Chaplin'], 'music_composers': ['Charlie Chaplin', 'Harry Clive', 'Harry Crocker']},\n",
       " 'm_1831': {'movie_id': 'm_1831', 'title': 'The Next Best Thing', 'genres': ['Comedy'], 'production_countries': ['US'], 'collection_name': '', 'release_year': '2000', 'actors': ['Madonna', 'Rupert Everett', 'Benjamin Bratt', 'Malcolm Stumpf', 'Josef Sommer', 'Suzanne Krull', 'Linda Larkin', 'Illeana Douglas', 'Michael Vartan', 'Lynn Redgrave', 'Neil Patrick Harris'], 'directors': ['John Schlesinger'], 'screenwriters': [], 'music_composers': ['Tom Ropelewski']},\n",
       " 'm_4816': {'movie_id': 'm_4816', 'title': 'Ghost Dog: The Way of the Samurai', 'genres': ['Crime', 'Drama'], 'production_countries': ['US'], 'collection_name': '', 'release_year': '1999', 'actors': ['Forest Whitaker', 'Cliff Gorman', 'Tricia Vessey', 'Henry Silva', 'Victor Argo', 'Joseph Rigano', 'Vince Viverito', 'John Tormey', 'Damon Whitaker', 'Frank Minucci', 'Richard Portnow', 'Gene Ruffini', 'Frank Adonis', 'RZA', 'Isaach De Bankolé', 'Chuck Jeffreys', 'Gano Grills', 'Jamie Hector', 'Roberto Lopez', 'Jerry Todisco', 'Camille Winbush', 'Gary Farmer', 'Jerry Sturiano', 'Alfred Nittoli', 'Sharon Angela'], 'directors': ['Jim Jarmusch'], 'screenwriters': ['RZA'], 'music_composers': ['Jim Jarmusch']},\n",
       " 'm_2193': {'movie_id': 'm_2193', 'title': 'My Tutor', 'genres': ['Comedy', 'Drama', 'Romance'], 'production_countries': ['US'], 'collection_name': '', 'release_year': '1983', 'actors': ['Caren Kaye', 'Matt Lattanzi', 'Kevin McCarthy', 'Clark Brandon', 'Bruce Bauer', 'Arlene Golonka', 'Crispin Glover', 'Amber Denyse Austin', 'Graem McGavin', 'John Vargas', 'Maria Melendez', 'Katt Shea', 'Brioni Farrell', 'Shelley Taylor Morgan', 'Kitten Natividad', 'Rex Ryon', 'Jewel Shepard', 'Marilyn Tokuda'], 'directors': ['George Bowers'], 'screenwriters': ['Webster Lewis'], 'music_composers': []},\n",
       " 'm_2067': {'movie_id': 'm_2067', 'title': 'Mission to Mars', 'genres': ['Science Fiction'], 'production_countries': ['US'], 'collection_name': '', 'release_year': '2000', 'actors': ['Gary Sinise', 'Tim Robbins', 'Don Cheadle', 'Connie Nielsen', \"Jerry O'Connell\", 'Peter Outerbridge', 'Kavan Smith', 'Jill Teed', 'Elise Neal', 'Kim Delaney', 'Armin Mueller-Stahl', 'Marilyn Norry', 'Freda Perry', 'Lynda Boyd', 'Patricia Harras', 'Robert Bailey Jr.', 'Britt McKillip'], 'directors': ['Brian De Palma'], 'screenwriters': ['Ennio Morricone'], 'music_composers': ['Jim Thomas', 'John Thomas', 'Graham Yost']},\n",
       " 'm_5693': {'movie_id': 'm_5693', 'title': 'Hoosiers', 'genres': ['Drama', 'Family'], 'production_countries': ['US'], 'collection_name': '', 'release_year': '1986', 'actors': ['Gene Hackman', 'Barbara Hershey', 'Dennis Hopper', 'C.W. Mundy', 'Sheb Wooley', 'Fern Persons', 'Chelcie Ross', 'Robert Swan', \"Michael O'Guinne\", 'Wil Dewitt', 'John Robert Thompson', 'Michael Sassone', 'Gloria Dorson', 'Mike Dalzell', 'Skip Welker', 'Eric Gilliom'], 'directors': ['David Anspaugh'], 'screenwriters': ['Jerry Goldsmith'], 'music_composers': []},\n",
       " 'm_968': {'movie_id': 'm_968', 'title': 'Dog Day Afternoon', 'genres': ['Crime', 'Drama', 'Thriller'], 'production_countries': ['US'], 'collection_name': '', 'release_year': '1975', 'actors': ['Al Pacino', 'John Cazale', 'Charles Durning', 'Chris Sarandon', 'James Broderick', 'William Bogert', 'Penelope Allen', 'Sully Boyar', 'Beulah Garrick', 'Carol Kane', 'Sandra Kazan', 'Marcia Jean Kurtz', 'Amy Levitt', 'John Marriott', 'Estelle Omens', 'Gary Springer', 'Carmine Foresta', 'Lance Henriksen', 'Floyd Levine', 'Dick Anthony Williams', 'Dominic Chianese', 'Marcia Haufrecht', 'Judith Malina', 'Susan Peretz', 'Ron Cummins', 'Jay Gerber', 'Philip Charles MacKenzie', 'Chu Chu Malave', 'Lionel Pina', 'Robert Costanzo', 'Ron Gilbert', 'Kenneth McMillan', 'Ed Metzger', 'Lynette Sheldon', 'Alan Berger', 'James Bulleit', 'Todd Everett', 'Raymond Serra', 'Tom Towles'], 'directors': ['Sidney Lumet'], 'screenwriters': [], 'music_composers': ['Frank Pierson']},\n",
       " 'm_838': {'movie_id': 'm_838', 'title': 'American Graffiti', 'genres': ['Comedy', 'Drama'], 'production_countries': ['US'], 'collection_name': 'American Graffiti Collection', 'release_year': '1973', 'actors': ['Richard Dreyfuss', 'Ron Howard', 'Paul Le Mat', 'Charles Martin Smith', 'Cindy Williams', 'Candy Clark', 'Mackenzie Phillips', 'Wolfman Jack', 'Bo Hopkins', 'Manuel Padilla Jr.', 'Beau Gentry', 'Harrison Ford', 'Kathleen Quinlan', 'Suzanne Somers', 'John Brent', 'Kay Lenz', 'Debralee Scott', 'Terence McGovern', 'Lynne Marie Stewart', 'Jana Bellan', 'Jim Bohan', 'Susan Richardson', 'Scott Beach', 'Jody Carlson', 'Joe Miksak', 'Al Nalbandian'], 'directors': ['George Lucas'], 'screenwriters': [], 'music_composers': ['George Lucas', 'Gloria Katz', 'Willard Huyck']},\n",
       " 'm_3114': {'movie_id': 'm_3114', 'title': 'The Searchers', 'genres': ['Western'], 'production_countries': ['US'], 'collection_name': '', 'release_year': '1956', 'actors': ['John Wayne', 'Jeffrey Hunter', 'Vera Miles', 'Natalie Wood', 'Ward Bond', 'John Qualen', 'Olive Carey', 'Henry Brandon', 'Ken Curtis', 'Harry Carey, Jr.', 'Antonio Moreno', 'Hank Worden', 'Beulah Archuletta', 'Walter Coy', 'Dorothy Jordan', 'Pippa Scott', 'Patrick Wayne', 'Lana Wood'], 'directors': ['John Ford'], 'screenwriters': ['Max Steiner'], 'music_composers': ['Frank S. Nugent']},\n",
       " 'm_32031': {'movie_id': 'm_32031', 'title': \"Let's Get Harry\", 'genres': ['Action', 'Adventure'], 'production_countries': ['US'], 'collection_name': '', 'release_year': '1986', 'actors': ['Michael Schoeffling', 'Robert Duvall', 'Gary Busey', 'Mark Harmon', 'Thomas F. Wilson', 'Matt Clark', 'Rick Rossovich'], 'directors': ['Stuart Rosenberg', 'Alan Smithee'], 'screenwriters': [], 'music_composers': []},\n",
       " 'm_918': {'movie_id': 'm_918', 'title': 'Blind Date', 'genres': ['Comedy', 'Romance'], 'production_countries': ['US'], 'collection_name': '', 'release_year': '1987', 'actors': ['Kim Basinger', 'Bruce Willis', 'John Larroquette', 'William Daniels', 'George Coe', 'Mark Blum', 'Phil Hartman', 'Stephanie Faracy', 'Alice Hirson', 'Graham Stark', 'Joyce Van Patten', 'Georgann Johnson', 'Armin Shimerman'], 'directors': ['Blake Edwards'], 'screenwriters': ['Henry Mancini'], 'music_composers': ['Dale Launer']},\n",
       " 'm_2383': {'movie_id': 'm_2383', 'title': \"L'Ours\", 'genres': ['Adventure', 'Drama', 'Family'], 'production_countries': ['FR', 'US'], 'collection_name': '', 'release_year': '1988', 'actors': ['Tchéky Karyo', 'Jack Wallace', 'André Lacombe'], 'directors': ['Jean-Jacques Annaud'], 'screenwriters': ['Philippe Sarde'], 'music_composers': ['Gérard Brach']},\n",
       " 'm_1396': {'movie_id': 'm_1396', 'title': 'Зеркало', 'genres': ['Drama', 'History'], 'production_countries': ['RU'], 'collection_name': '', 'release_year': '1975', 'actors': ['Margarita Terekhova', 'Oleg Yankovskiy', 'Alla Demidova', 'Nikolay Grinko', 'Yuriy Nazarov', 'Larisa Tarkovskaya', 'Ignat Daniltsev', 'Filipp Yankovsky', 'Tamara Ogorodnikova', 'Анатолій Солоніцин', 'Татьяна Решетникова'], 'directors': ['Andrei Tarkovsky'], 'screenwriters': ['Eduard Artemev'], 'music_composers': []},\n",
       " 'm_1541': {'movie_id': 'm_1541', 'title': 'Thelma & Louise', 'genres': ['Drama', 'Thriller', 'Crime', 'Adventure'], 'production_countries': ['US'], 'collection_name': '', 'release_year': '1991', 'actors': ['Susan Sarandon', 'Geena Davis', 'Harvey Keitel', 'Brad Pitt', 'Michael Madsen', 'Christopher McDonald', 'Stephen Tobolowsky', 'Timothy Carhart', 'Lucinda Jenney', 'Jason Beghe', 'Sonny Carl Davis', 'Ken Swofford', 'Carol Mansell', 'Shelly Desai', 'Stephen Polk', 'Rob Roy Fitzgerald', 'Jack Lindine', 'Noel L. Walcott III'], 'directors': ['Ridley Scott'], 'screenwriters': ['Hans Zimmer'], 'music_composers': ['Callie Khouri']},\n",
       " 'm_1713': {'movie_id': 'm_1713', 'title': 'Jungle Fever', 'genres': ['Drama', 'Romance'], 'production_countries': ['US'], 'collection_name': '', 'release_year': '1991', 'actors': ['Spike Lee', 'Annabella Sciorra', 'Ruby Dee', 'John Turturro', 'Frank Vincent', 'Anthony Quinn', 'Brad Dourif', 'Halle Berry', 'Ossie Davis', 'Wesley Snipes', 'Tim Robbins', 'Lonette McKee', 'Samuel L. Jackson', 'Queen Latifah', 'Michael Imperioli', 'Nicholas Turturro', 'Michael Badalucco', 'Debi Mazar', 'Gina Mastrogiacomo', 'Rick Aiello', 'Miguel Sandoval', 'Charlie Murphy'], 'directors': ['Spike Lee'], 'screenwriters': ['Terence Blanchard', 'Stevie Wonder'], 'music_composers': ['Spike Lee']},\n",
       " 'm_1499': {'movie_id': 'm_1499', 'title': 'Teenage Mutant Ninja Turtles III', 'genres': ['Action', 'Adventure', 'Comedy', 'Family', 'Fantasy', 'Science Fiction'], 'production_countries': ['HK', 'US'], 'collection_name': 'Teenage Mutant Ninja Turtles (Original) Collection', 'release_year': '1993', 'actors': ['Paige Turco', 'Stuart Wilson', 'Sab Shimono', 'Vivian Wu', 'Mark Caso', 'Corey Feldman', 'Matt Hill', 'Jim Raposa', 'David Fraser', 'Elias Koteas', 'James Murray', 'Eidan Hanzei', 'John Aylward', 'Mak Takano', 'Steve Akahoshi', 'Travis A. Moon', 'Robbie Rist', 'Brian Tochi', 'Tim Kelleher', 'Kent Kim', 'Ken Kensei', 'Tad Horino', 'Glen Chin', 'Koichi Sakamoto', 'Tracy Conklin', 'Edmund Stone', 'Jeff Kawasugi', 'Phil Chong', 'Yeon Kim'], 'directors': ['Stuart Gillard'], 'screenwriters': [], 'music_composers': []},\n",
       " 'm_801': {'movie_id': 'm_801', 'title': 'Good Morning, Vietnam', 'genres': ['Comedy', 'Drama', 'War'], 'production_countries': ['US'], 'collection_name': '', 'release_year': '1987', 'actors': ['Robin Williams', 'Forest Whitaker', 'Tung Thanh Tran', 'Chintara Sukapatana', 'Bruno Kirby', 'Robert Wuhl', 'J.T. Walsh', 'Noble Willingham', 'Richard Edson', 'Juney Smith', 'Richard Portnow', 'Cu Ba Nguyen', 'Dan Stanton', 'Don Stanton', 'Floyd Vivino'], 'directors': ['Barry Levinson'], 'screenwriters': ['Alex North'], 'music_composers': []},\n",
       " 'm_2085': {'movie_id': 'm_2085', 'title': 'Romeo Must Die', 'genres': ['Action', 'Crime', 'Thriller'], 'production_countries': ['US'], 'collection_name': '', 'release_year': '2000', 'actors': ['Jet Li', 'Aaliyah', 'Isaiah Washington', 'Russell Wong', 'DMX', 'Delroy Lindo', 'D.B. Woodside', 'Jon Kit Lee', 'Edoardo Ballerini', 'Anthony Anderson', 'Matthew Harrison', 'Terry Chen', 'Henry O', 'Gaston Morrison', 'Colin Foo'], 'directors': ['Andrzej Bartkowiak'], 'screenwriters': ['Stanley Clarke'], 'music_composers': ['Eric Bernt', 'John Jarrell']},\n",
       " 'm_3082': {'movie_id': 'm_3082', 'title': 'Modern Times', 'genres': ['Drama', 'Comedy'], 'production_countries': ['US'], 'collection_name': '', 'release_year': '1936', 'actors': ['Charlie Chaplin', 'Paulette Goddard', 'Henry Bergman', 'Tiny Sandford', 'Chester Conklin', 'Hank Mann', 'Stanley Blystone', 'Al Ernest Garcia', 'Richard Alexander', 'Cecil Reynolds', 'Mira McKinney', 'Murdock MacQuarrie', 'Wilfred Lucas', 'Edward LeSaint', 'Fred Malatesta', 'Sammy Stein', 'Juana Sutton', 'Ted Oliver', 'Gloria DeHaven', 'Norman Ainsley', 'Bobby Barber', 'Chuck Hamilton', 'Jack Low', 'Harry Wilson', 'Heinie Conklin', 'Bruce Mitchell', 'Lloyd Ingraham', 'Walter James', 'Buddy Messinger', 'Frank Moran', 'James C. Morton', 'Louis Natheaux', 'J.C. Nugent', 'Russ Powell', 'John Rand', 'Pat Harmon'], 'directors': ['Charlie Chaplin'], 'screenwriters': ['Charlie Chaplin'], 'music_composers': ['Charlie Chaplin']},\n",
       " 'm_2291': {'movie_id': 'm_2291', 'title': \"Jacob's Ladder\", 'genres': ['Drama', 'Mystery', 'Horror'], 'production_countries': ['US'], 'collection_name': '', 'release_year': '1990', 'actors': ['Tim Robbins', 'Elizabeth Peña', 'Danny Aiello', 'Matt Craven', 'Pruitt Taylor Vince', 'Jason Alexander', 'Patricia Kalember', 'Eriq La Salle', 'Ving Rhames', 'Brian Tarantina', 'Brent Hinkley', 'S. Epatha Merkerson', 'Suzanne Shepherd', 'Doug Barron', 'Anthony Alessandro', 'Macaulay Culkin'], 'directors': ['Adrian Lyne'], 'screenwriters': ['Maurice Jarre'], 'music_composers': []},\n",
       " 'm_593': {'movie_id': 'm_593', 'title': 'Солярис', 'genres': ['Drama', 'Science Fiction', 'Adventure', 'Mystery'], 'production_countries': ['RU'], 'collection_name': '', 'release_year': '1972', 'actors': ['Donatas Banionis', 'Natalya Bondarchuk', 'Jüri Järvet', 'Анатолій Солоніцин', 'Nikolay Grinko', 'Vladislav Dvorzhetsky', 'Georgiy Teykh', 'Sos Sargsyan', 'Olga Barnet', 'Tamara Ogorodnikova'], 'directors': ['Andrei Tarkovsky'], 'screenwriters': ['Vyacheslav Ovchinnikov', 'Eduard Artemev'], 'music_composers': ['Andrei Tarkovsky', 'Fridrikh Gorenshteyn']},\n",
       " 'm_2006': {'movie_id': 'm_2006', 'title': 'Bell, Book and Candle', 'genres': ['Fantasy', 'Comedy', 'Romance'], 'production_countries': ['US'], 'collection_name': '', 'release_year': '1958', 'actors': ['James Stewart', 'Kim Novak', 'Jack Lemmon', 'Ernie Kovacs', 'Hermione Gingold', 'Elsa Lanchester', 'Janice Rule', 'Philippe Clay', 'Bek Nelson', 'Howard McNear'], 'directors': ['Richard Quine'], 'screenwriters': ['George Duning'], 'music_composers': ['Daniel Taradash']},\n",
       " 'm_1552': {'movie_id': 'm_1552', 'title': 'Parenthood', 'genres': ['Comedy', 'Drama', 'Family'], 'production_countries': ['US'], 'collection_name': '', 'release_year': '1989', 'actors': ['Steve Martin', 'Mary Steenburgen', 'Dianne Wiest', 'Jason Robards', 'Rick Moranis', 'Tom Hulce', 'Martha Plimpton', 'Keanu Reeves', 'Harley Jane Kozak', 'Dennis Dugan', 'Joaquin Phoenix', 'Eileen Ryan', 'Helen Shaw', 'Jasen Fisher', 'Paul Linke', 'Alisan Porter', 'Zachary La Voy', 'Ivyann Schwan', 'Alex Burrall', 'Lowell Ganz', 'Rance Howard', 'Max Elliott Slade', 'Clint Howard'], 'directors': ['Ron Howard'], 'screenwriters': [], 'music_composers': ['Lowell Ganz', 'Babaloo Mandel']},\n",
       " 'm_1359': {'movie_id': 'm_1359', 'title': 'American Psycho', 'genres': ['Thriller', 'Drama', 'Crime'], 'production_countries': ['CA', 'US'], 'collection_name': 'American Psycho Collection', 'release_year': '2000', 'actors': ['Christian Bale', 'Willem Dafoe', 'Jared Leto', 'Josh Lucas', 'Samantha Mathis', 'Matt Ross', 'Bill Sage', 'Chloë Sevigny', 'Cara Seymour', 'Justin Theroux', 'Guinevere Turner', 'Reese Witherspoon', 'Stephen Bogaert', 'Monika Meier', 'Reg E. Cathey', 'Marie Dame', 'Patricia Gage', 'Krista Sutton', 'Catherine Black'], 'directors': ['Mary Harron'], 'screenwriters': [], 'music_composers': ['Mary Harron', 'Guinevere Turner']},\n",
       " 'm_3536': {'movie_id': 'm_3536', 'title': 'U-571', 'genres': ['Action', 'Drama', 'Thriller', 'War'], 'production_countries': ['FR', 'US'], 'collection_name': '', 'release_year': '2000', 'actors': ['Matthew McConaughey', 'Bill Paxton', 'Harvey Keitel', 'Jon Bon Jovi', 'David Keith', 'Thomas Kretschmann', 'Jake Weber', 'Jack Noseworthy', 'Tom Guiry', 'Will Estes', \"Terrence 'T.C.' Carson\"], 'directors': ['Jonathan Mostow'], 'screenwriters': ['Richard Marvin'], 'music_composers': ['David Ayer', 'Sam Montgomery']},\n",
       " 'm_2094': {'movie_id': 'm_2094', 'title': 'Roustabout', 'genres': ['Drama', 'Music', 'Romance'], 'production_countries': ['US'], 'collection_name': '', 'release_year': '1964', 'actors': ['Elvis Presley', 'Barbara Stanwyck', 'Leif Erickson', 'Joan Freeman', 'Sue Ane Langdon', 'Pat Buttram', 'Joan Staley', 'Dabbs Greer', 'Raquel Welch', 'Teri Garr', 'Steve Brodie', 'Norman Grabowski', 'Jack Albertson', 'Billy Barty', 'Richard Kiel', 'Joy Harmon', 'Linda Foster', 'Marianna Hill', 'Beverly Adams', 'Wilda Taylor'], 'directors': ['John Rich'], 'screenwriters': ['Elvis Presley'], 'music_composers': ['Anthony Lawrence', 'Allan Weiss']},\n",
       " 'm_955': {'movie_id': 'm_955', 'title': 'Mission: Impossible II', 'genres': ['Adventure', 'Action', 'Thriller'], 'production_countries': ['DE', 'US'], 'collection_name': 'Mission: Impossible Collection', 'release_year': '2000', 'actors': ['Tom Cruise', 'Dougray Scott', 'Thandie Newton', 'Ving Rhames', 'Richard Roxburgh', 'John Polson', 'Brendan Gleeson', 'Rade Serbedzija', 'William Mapother', 'Dominic Purcell', 'Mathew Wilkinson', 'Nicholas Bell', 'Cristina Brogeras', 'Kee Chan', 'Kim Fleming', 'Anthony Hopkins', 'Christian Manon'], 'directors': ['John Woo'], 'screenwriters': ['Hans Zimmer'], 'music_composers': ['Robert Towne']},\n",
       " 'm_21': {'movie_id': 'm_21', 'title': 'The Endless Summer', 'genres': ['Documentary'], 'production_countries': ['US'], 'collection_name': 'The Endless Summer Collection', 'release_year': '1966', 'actors': ['Michael Hynson', 'Robert August', \"Lord 'Tally Ho' Blears\", 'Bruce Brown', 'Chip Fitzwater', 'Chuck Gardner', 'Wayne Miyata'], 'directors': ['Bruce Brown'], 'screenwriters': ['Gaston Georis', 'John Blakeley', 'Walter Georis'], 'music_composers': []},\n",
       " 'm_6003': {'movie_id': 'm_6003', 'title': 'Romeo and Juliet', 'genres': ['Drama', 'Romance'], 'production_countries': ['IT', 'GB'], 'collection_name': '', 'release_year': '1968', 'actors': ['Leonard Whiting', 'Olivia Hussey', 'John McEnery', 'Michael York', \"Milo O'Shea\", 'Pat Heywood', 'Robert Stephens', 'Bruce Robinson', 'Paul Hardwick', 'Natasha Parry', 'Antonio Pierfederici', 'Esmeralda Ruspoli', 'Roberto Bisacco', 'Roy Holder', 'Keith Skinner', 'Dyson Lovell', 'Richard Warwick', 'Roberto Antonelli', 'Carlo Palmucci', 'Salvatore Billa', 'Claudio De Davide', 'Paola Tedesco', 'Laurence Olivier'], 'directors': ['Franco Zeffirelli'], 'screenwriters': ['Nino Rota'], 'music_composers': ['Franco Zeffirelli', 'Franco Brusati', \"Masolino D'Amico\"]},\n",
       " 'm_541': {'movie_id': 'm_541', 'title': 'The Man with the Golden Arm', 'genres': ['Crime', 'Drama', 'Romance'], 'production_countries': ['US'], 'collection_name': '', 'release_year': '1955', 'actors': ['Frank Sinatra', 'Kim Novak', 'Eleanor Parker', 'Arnold Stang', 'Darren McGavin', 'Robert Strauss'], 'directors': ['Otto Preminger'], 'screenwriters': ['Elmer Bernstein'], 'music_composers': ['Ben Hecht', 'Walter Newman', 'Lewis Meltzer']},\n",
       " 'm_938': {'movie_id': 'm_938', 'title': 'Per qualche dollaro in più', 'genres': ['Western'], 'production_countries': ['IT', 'ES', 'DE'], 'collection_name': 'The Man With No Name Collection', 'release_year': '1965', 'actors': ['Clint Eastwood', 'Lee Van Cleef', 'Gian Maria Volonté', 'Mario Brega', 'Klaus Kinski', 'Luigi Pistilli', 'Aldo Sambrell', 'Benito Stefanelli', 'Luis Rodríguez', 'Panos Papadopulos', 'Mara Krupp', 'Josef Egger', 'Tomás Blanco', 'Roberto Camardiel', 'Lorenzo Robledo', 'Sergio Mendizábal', 'Dante Maggio', 'Mario Meniconi', 'Werner Abrolat', 'Frank Braña', 'José Canalejas', 'Antonio Molino Rojo', 'Nazzareno Natale', 'Román Ariznavarreta', 'Sergio Leone', 'Rosemary Dexter', 'Peter Lee Lawrence', 'Jesús Guzmán', 'José Marco', 'Guillermo Méndez', 'Enrique Navarro', 'Ricardo Palacios', 'Antoñito Ruiz', 'Carlo Simi', 'José Terrón', 'Kurt Zips', 'Rafael López', 'José Félix Montoya', 'Aldo Ricci'], 'directors': ['Sergio Leone'], 'screenwriters': ['Ennio Morricone'], 'music_composers': ['Sergio Leone', 'Fulvio Morsella', 'Luciano Vincenzoni']},\n",
       " 'm_8810': {'movie_id': 'm_8810', 'title': 'Mad Max 2', 'genres': ['Adventure', 'Action', 'Thriller', 'Science Fiction'], 'production_countries': ['AU'], 'collection_name': 'Mad Max Collection', 'release_year': '1981', 'actors': ['Mel Gibson', 'Bruce Spence', 'Michael Preston', 'Max Phipps', 'Vernon Wells', 'Kjell Nilsson', 'Emil Minty', 'Virginia Hey', 'William Zappa', 'Arkie Whiteley', 'Steve J. Spears', 'Syd Heylen', 'Moira Claux', 'David Downer', 'David Slingsby', 'Kristoffer Greaves', 'Max Fairchild', 'Tyler Coppin'], 'directors': ['George Miller'], 'screenwriters': ['Brian May'], 'music_composers': ['Terry Hayes', 'George Miller']},\n",
       " 'm_592': {'movie_id': 'm_592', 'title': 'The Conversation', 'genres': ['Crime', 'Drama', 'Mystery'], 'production_countries': ['US'], 'collection_name': '', 'release_year': '1974', 'actors': ['Gene Hackman', 'John Cazale', 'Frederic Forrest', 'Cindy Williams', 'Harrison Ford', 'Teri Garr', 'Allen Garfield', 'Elizabeth MacRae', 'Robert Duvall', 'Michael Higgins', 'Mark Wheeler', 'Billy Dee Williams', 'Ramon Bieri', 'Phoebe Alexander', 'Gian-Carlo Coppola', 'Robert Shields', 'Richard Hackman'], 'directors': ['Francis Ford Coppola'], 'screenwriters': ['David Shire'], 'music_composers': ['Francis Ford Coppola']},\n",
       " 'm_195': {'movie_id': 'm_195', 'title': 'Trouble in Paradise', 'genres': ['Comedy', 'Romance'], 'production_countries': ['US'], 'collection_name': '', 'release_year': '1932', 'actors': ['Miriam  Hopkins', 'Kay Francis', 'Herbert Marshall', 'Charles Ruggles', 'Edward Everett Horton', 'C. Aubrey Smith', 'Robert Greig', 'Leonid Kinskey', 'George Humbert'], 'directors': ['Ernst Lubitsch'], 'screenwriters': [], 'music_composers': []},\n",
       " 'm_2133': {'movie_id': 'm_2133', 'title': 'The Perfect Storm', 'genres': ['Drama'], 'production_countries': ['US'], 'collection_name': '', 'release_year': '2000', 'actors': ['George Clooney', 'Mark Wahlberg', 'Diane Lane', 'John C. Reilly', 'William Fichtner', 'Bob Gunton', 'Karen Allen', 'Allen Payne', 'Mary Elizabeth Mastrantonio', 'John Hawkes', 'Cherry Jones', 'Christopher McDonald', 'Michael Ironside', 'Rusty Schwimmer', 'Janet Wright', 'Dash Mihok', 'Josh Hopkins', 'Todd Kimsey', 'Chris Palermo', 'Wiley M. Pickett', 'Hayden Tank', 'Merle Kennedy', 'Jennifer Sommerfeld', 'Joseph D. Reitman', 'Sandy Ward', 'Melissa Samuels', 'Steven Barr', 'Billy Mayo', 'Philip Ettington'], 'directors': ['Wolfgang Petersen'], 'screenwriters': ['James Horner'], 'music_composers': ['William D. Wittliff']},\n",
       " 'm_494': {'movie_id': 'm_494', 'title': 'Shaft in Africa', 'genres': ['Adventure', 'Action', 'Thriller', 'Crime', 'Mystery'], 'production_countries': ['US'], 'collection_name': 'Shaft Collection', 'release_year': '1973', 'actors': ['Richard Roundtree', 'Frank Finlay', 'Vonetta McGee', 'Neda Arnerić', 'Debebe Eshetu', 'Spiros Focás', 'Jacques Herlin', 'Jho Jhenkins', 'Willie Jonah', 'Adolfo Lastretti', 'Aldo Sambrell'], 'directors': ['John Guillermin'], 'screenwriters': ['Johnny Pate'], 'music_composers': []},\n",
       " 'm_493': {'movie_id': 'm_493', 'title': \"Shaft's Big Score!\", 'genres': ['Action', 'Adventure', 'Crime', 'Mystery'], 'production_countries': ['US'], 'collection_name': 'Shaft Collection', 'release_year': '1972', 'actors': ['Richard Roundtree', 'Moses Gunn', 'Drew Bundini Brown', 'Joseph Mascolo', 'Kathy Imrie', 'Wally Taylor', 'Julius Harris', 'Rosalind Miles', 'Joe Santos', 'Angelo Nazzo'], 'directors': ['Gordon Parks'], 'screenwriters': ['Gordon Parks'], 'music_composers': []},\n",
       " 'm_93': {'movie_id': 'm_93', 'title': 'Anatomy of a Murder', 'genres': ['Crime', 'Drama', 'Mystery', 'Thriller'], 'production_countries': ['US'], 'collection_name': '', 'release_year': '1959', 'actors': ['James Stewart', 'Lee Remick', 'Ben Gazzara', \"Arthur O'Connell\", 'Eve Arden', 'Kathryn Grant', 'George C. Scott', 'Orson Bean', 'Russ Brown', 'Murray Hamilton', 'Brooks West', 'Ken Lynch', 'John Qualen', 'Howard McNear', 'Alexander Campbell', 'Ned Wever', 'Jimmy Conlin', 'Royal Beal', 'Joseph Kearns', 'Don Ross', 'Lloyd Le Vasseur', 'James Waters', 'Joseph N. Welch', 'Snuffy the Dog', 'Duke Ellington', 'Irv Kupcinet', 'Chuck Ramsay', 'Mrs. Joseph Welch'], 'directors': ['Otto Preminger'], 'screenwriters': ['Duke Ellington'], 'music_composers': ['Wendell Mayes']},\n",
       " 'm_2360': {'movie_id': 'm_2360', 'title': 'Saving Grace', 'genres': ['Crime', 'Comedy'], 'production_countries': ['FR', 'GB'], 'collection_name': '', 'release_year': '2000', 'actors': ['Brenda Blethyn', 'Craig Ferguson', 'Martin Clunes', 'Tchéky Karyo', 'Jamie Foreman', 'Bill Bailey', 'Valerie Edmond', 'Tristan Sturrock', 'Leslie Phillips', 'Diana Quick', 'Phyllida Law', 'Denise Coffey', 'Paul Brooke', 'Ken Campbell', 'John Fortune', 'Philip Wright', 'Darren Southworth', 'Magnus Lindgren', 'Dean Lennox Kelly', 'Johnny Bamford', 'Bill Hallet', 'Alison Dillon', 'Bill Weston', 'Clive Merrison'], 'directors': ['Nigel Cole'], 'screenwriters': ['Mark Russell'], 'music_composers': ['Mark Crowdy', 'Craig Ferguson']},\n",
       " 'm_1588': {'movie_id': 'm_1588', 'title': 'Bring It On', 'genres': ['Comedy'], 'production_countries': ['US'], 'collection_name': 'Bring It On Collection', 'release_year': '2000', 'actors': ['Kirsten Dunst', 'Jesse Bradford', 'Eliza Dushku', 'Gabrielle Union', 'Huntley Ritter', 'Clare Kramer', 'Nicole Bilderback', 'Tsianina Joelson', 'Nathan West', 'Shamari Fears', 'Natina Reed', 'Richard Hillman', 'Lindsay Sloane', 'Rini Bell', 'Brandi Williams', 'Bianca Kajlich', 'Holmes Osborne', 'Sherry Hursey', 'Cody McMains', 'Ian Roberts', 'David E. Taylor', 'Ashley Howard', 'Nikole Lee Amateau', 'Clementine Ford', 'Grant Thompson', 'Leonard Clifton', 'Marie Cole', 'Dru Mouser', 'Tracy Pacheco', 'Alicia Michelle Sassano', 'Natasha Soll', 'Ryan Drummond', 'Paullin Wolfe', 'David E. Willis', 'Beth LaMure', 'Anne Fletcher', 'Doug Waldo', 'Annie Hinton', 'Louise Gallagher', 'Edmond Clay', 'Daniella Kuhn', 'Aloma Wright', 'Paul Bloom', 'Melanie Atmadja', 'Peyton Reed', 'Jodi Harris', 'Nectar Rose', 'Elizabeth Johnson', 'Riley Smith', 'Carla Mackauf', 'Anna Lisa Mendiola', 'Greg Benoit', 'Alex Ferguson', 'Ruby Gonzalez', 'Lisel M. Gorell', 'Brandon Henschel', 'Kenyetta Lethridge', 'Rob Marrocco Jr.', 'Michael McCafferty', 'Hilary Angelo'], 'directors': ['Peyton Reed'], 'screenwriters': [], 'music_composers': ['Jessica Bendinger']},\n",
       " 'm_1619': {'movie_id': 'm_1619', 'title': 'The Way of the Gun', 'genres': ['Action', 'Crime', 'Drama', 'Thriller'], 'production_countries': ['US'], 'collection_name': '', 'release_year': '2000', 'actors': ['Benicio del Toro', 'Ryan Phillippe', 'Juliette Lewis', 'James Caan', 'Taye Diggs', 'Nicky Katt', 'Geoffrey Lewis', 'Sarah Silverman', 'Dylan Kussman', 'Scott Wilson', 'Kristin Lehman', 'Henry Griffin', 'Armando Guerrero', 'Andres Orozco', 'Irene Santiago'], 'directors': ['Christopher McQuarrie'], 'screenwriters': [], 'music_composers': ['Christopher McQuarrie']},\n",
       " 'm_786': {'movie_id': 'm_786', 'title': 'Almost Famous', 'genres': ['Drama', 'Music'], 'production_countries': ['US'], 'collection_name': '', 'release_year': '2000', 'actors': ['Kate Hudson', 'Billy Crudup', 'Frances McDormand', 'Jason Lee', 'Patrick Fugit', 'Zooey Deschanel', 'Michael Angarano', 'Anna Paquin', 'Fairuza Balk', 'Noah Taylor', 'Philip Seymour Hoffman', 'Jimmy Fallon', 'Rainn Wilson', 'Jay Baruchel', 'John Fedevich', 'Mark Kozelek', 'Liz Stauber', 'Olivia Rosewood', 'Bijou Phillips', 'Pauley Perrette', 'Peter Frampton', 'Mark Pellington', 'Eion Bailey', 'J.J. Cohen', 'Gary Kohn', 'Ray Porter', 'Alice Marie Crowe', 'Erin Foley', 'Terry Chen', 'Mitch Hedberg', 'Jesse Caron', 'Zack Ward', 'Devin Corey', 'Pete Droge', 'Elaine Summers', 'Kevin Sussman', 'Tom Riis Farrell', 'John Patrick Amedori', 'Julia Decker', 'Brian Vaughan', 'Anthony Martelli', 'Susan Yeagley', 'Holly Maples', 'Michelle Moretti', 'Eric Stonestreet'], 'directors': ['Cameron Crowe'], 'screenwriters': ['Nancy Wilson'], 'music_composers': ['Cameron Crowe']},\n",
       " 'm_16': {'movie_id': 'm_16', 'title': 'Dancer in the Dark', 'genres': ['Drama', 'Crime', 'Music'], 'production_countries': ['AR', 'DK', 'FI', 'FR', 'DE', 'IS', 'IT', 'NL', 'NO', 'SE', 'GB', 'US'], 'collection_name': 'Heart of Gold Collection', 'release_year': '2000', 'actors': ['Björk', 'Catherine Deneuve', 'David Morse', 'Peter Stormare', 'Joel Grey', 'Cara Seymour', 'Vladica Kostic', 'Jean-Marc Barr', 'Vincent Paterson', 'Siobhan Fallon', 'Zeljko Ivanek', 'Udo Kier', 'Jens Albinus', 'Reathel Bean', 'Mette Berggreen', 'Lars Michael Dinesen', 'Katrine Falkenberg', 'Michael Flessas', 'John Randolph Jones', 'Stellan Skarsgård', 'Paprika Steen', 'Noah Lazarus', 'John Martinus', 'Luke Reilly', 'Sean-Michael Smith', 'Al Agami', 'Anna Norberg', 'Troels Asmussen', 'Caroline Sascha Cogez'], 'directors': ['Lars von Trier'], 'screenwriters': ['Björk'], 'music_composers': []},\n",
       " 'm_2160': {'movie_id': 'm_2160', 'title': 'Voyage to the Bottom of the Sea', 'genres': ['Adventure', 'Drama', 'Science Fiction'], 'production_countries': ['US'], 'collection_name': '', 'release_year': '1961', 'actors': ['Walter Pidgeon', 'Joan Fontaine', 'Barbara Eden', 'Peter Lorre', 'Robert Sterling', 'Michael Ansara', 'Frankie Avalon', 'Regis Toomey', 'John Litel', 'Howard McNear', 'Henry Daniell', 'Skip Ward', 'Mark Slade', 'Charles Tannen', 'Del Monroe', 'Anthony Monaco', 'Robert Easton'], 'directors': ['Irwin Allen'], 'screenwriters': ['Paul Sawtell', 'Bert Shefter'], 'music_composers': ['Irwin Allen', 'Charles Bennett']},\n",
       " 'm_2161': {'movie_id': 'm_2161', 'title': 'Fantastic Voyage', 'genres': ['Adventure', 'Science Fiction'], 'production_countries': ['US'], 'collection_name': '', 'release_year': '1966', 'actors': ['Stephen Boyd', 'Raquel Welch', \"Edmond O'Brien\", 'Donald Pleasence', \"Arthur O'Connell\", 'William Redfield', 'Arthur Kennedy', 'Jean Del Val', 'Barry Coe', 'Ken Scott', 'Shelby Grant', 'James Brolin', 'Brendan Fitzgerald'], 'directors': ['Richard Fleischer'], 'screenwriters': ['Leonard Rosenman'], 'music_composers': ['Harry Kleiner']},\n",
       " 'm_911': {'movie_id': 'm_911', 'title': 'The Bank Dick', 'genres': ['Comedy'], 'production_countries': ['US'], 'collection_name': '', 'release_year': '1940', 'actors': ['W.C. Fields', 'Cora Witherspoon', 'Una Merkel', 'Evelyn Del Rio', 'Jessie Ralph', 'Franklin Pangborn', 'Shemp Howard', 'Grady Sutton', 'Russell Hicks', 'Dick Purcell', 'Pierre Watkin', 'Al Hill', 'George Moran', 'Bill Wolfe', 'Jack Norton', 'Pat West', 'Reed Hadley', 'Heather Wilde', 'Harlan Briggs', 'William Alston', 'Eddie Acuff', 'Nora Cecil', 'Lowden Adams', 'Fay Adler', 'Vangie Beilby', 'Becky Bohanon', 'Melinda Boss', 'Tom Braunger', 'Jack Rube Clifford', 'Eddie Coke', 'Russell Coles', 'Gene Collins', 'Jan Duggan', 'Eddie Dunn', 'Mary Field', 'Monty Ford', 'Jack Gargan', 'Dolly Haas', 'Larry Harris', 'Charles Hart', 'Fay Holderness', 'Bobby Larson', 'Carey Loftin', 'Carey Loftin', 'Patsy Moran', 'Joseph North', \"William J. O'Brien\", \"Pat O'Malley\", 'David Oliver', 'John Rawlings', 'Sam Rice', 'Jack Roper', 'Margaret Seddon', 'Charles Sullivan', 'Kay Sutton', 'Emma Tansey', 'Edward Thomas', 'David Thursby', 'Frankie Van', 'Dorothy Vernon', 'Emmett Vogan', 'Max Wagner', 'Frank Ward', 'Bonnie Washington'], 'directors': ['Edward F. Cline'], 'screenwriters': ['Charles Previn'], 'music_composers': ['W.C. Fields']},\n",
       " 'm_1485': {'movie_id': 'm_1485', 'title': 'Get Carter', 'genres': ['Crime', 'Thriller'], 'production_countries': ['GB'], 'collection_name': '', 'release_year': '1971', 'actors': ['Michael Caine', 'Ian Hendry', 'Britt Ekland', 'John Osborne', 'Tony Beckley', 'Bryan Mosley', 'Geraldine Moffat', 'Petra Markham', 'George Sewell', 'Alun Armstrong', 'Rosemarie Dunham', 'Glynn Edwards', 'Bernard Hepton', 'Terence Rigby', 'John Bindon', 'Godfrey Quigley', 'Ben Aris'], 'directors': ['Mike Hodges'], 'screenwriters': [], 'music_composers': []},\n",
       " 'm_1597': {'movie_id': 'm_1597', 'title': 'Meet the Parents', 'genres': ['Comedy', 'Romance'], 'production_countries': ['US'], 'collection_name': 'Meet the Parents Collection', 'release_year': '2000', 'actors': ['Ben Stiller', 'Robert De Niro', 'Teri Polo', 'Blythe Danner', 'Owen Wilson', 'Nicole DeHuff', 'Jon Abrahams', 'James Rebhorn', 'Tom McCarthy', 'Phyllis George', 'Kali Rocha', 'Bernie Sheredy', 'Judah Friedlander', 'Peter Bartlett', 'John Elsen', 'Mark Hammer', 'Amy Hohn', 'William Severs', 'John Fiore'], 'directors': ['Jay Roach'], 'screenwriters': ['Randy Newman'], 'music_composers': ['Jim Herzfeld', 'John Hamburg']},\n",
       " 'm_2134': {'movie_id': 'm_2134', 'title': 'The Time Machine', 'genres': ['Thriller', 'Adventure', 'Fantasy', 'Science Fiction', 'Romance'], 'production_countries': ['US'], 'collection_name': '', 'release_year': '1960', 'actors': ['Rod Taylor', 'Alan Young', 'Yvette Mimieux', 'Sebastian Cabot', 'Tom Helmore', 'Whit Bissell', 'Doris Lloyd', 'Alan Young', 'Paul Frees'], 'directors': ['George Pal'], 'screenwriters': ['Russell Garcia'], 'music_composers': ['David Duncan']},\n",
       " 'm_4327': {'movie_id': 'm_4327', 'title': \"Charlie's Angels\", 'genres': ['Action', 'Adventure', 'Comedy', 'Crime', 'Thriller'], 'production_countries': ['US'], 'collection_name': \"Charlie's Angels Collection\", 'release_year': '2000', 'actors': ['Cameron Diaz', 'Lucy Liu', 'Drew Barrymore', 'Bill Murray', 'John Forsythe', 'Sam Rockwell', 'Kelly Lynch', 'Tim Curry', 'Luke Wilson', 'Crispin Glover', 'Matt LeBlanc', 'Tom Green', 'LL Cool J', 'Sean Whalen', 'Melissa McCarthy', 'Jerry Trimble'], 'directors': ['McG'], 'screenwriters': [], 'music_composers': ['John August', 'Ed Solomon', 'Ryan Rowe']},\n",
       " 'm_4958': {'movie_id': 'm_4958', 'title': 'The Legend of Bagger Vance', 'genres': ['Fantasy', 'Drama'], 'production_countries': ['US'], 'collection_name': '', 'release_year': '2000', 'actors': ['Matt Damon', 'Bruce McGill', 'Charlize Theron', 'Will Smith', 'Joel Gretsch', 'J. Michael Moncrief', 'Wilbur Fitzgerald', 'E. Roger Mitchell', 'Carrie Preston', 'Trip Hamilton', \"Michael O'Neill\", 'Peter Gerety', 'Jack Lemmon'], 'directors': ['Robert Redford'], 'screenwriters': ['Rachel Portman'], 'music_composers': ['Jeremy Leven']},\n",
       " 'm_708': {'movie_id': 'm_708', 'title': 'The Living Daylights', 'genres': ['Action', 'Adventure', 'Thriller'], 'production_countries': ['GB', 'US'], 'collection_name': 'James Bond Collection', 'release_year': '1987', 'actors': ['Timothy Dalton', \"Maryam d'Abo\", 'Jeroen Krabbé', 'Joe Don Baker', 'John Rhys-Davies', 'Art Malik', 'Andreas Wisniewski', 'Thomas Wheatley', 'Desmond Llewelyn', 'Robert Brown', 'Geoffrey Keen', 'Walter Gotell', 'Caroline Bliss', 'John Terry', 'Virginia Hey', 'John Bowe', 'Julie T. Wallace', 'Belle Avery', 'Catherine Rabett', 'Dulice Liecier', 'Nadim Sawalha', 'Alan Talbot', 'Carl Rigg', 'Tony Cyrus', 'Atik Mohamed', 'Michael Moor', 'Sumar Khan', 'Ken Sharrock', 'Peter Porteous', 'Antony Carrick', 'Frederick Warder', 'Glyn Baker', 'Scott Hoxby', 'Bill Weston', 'Richard Cubison', 'Heinz Winter', 'Leslie French', 'Odette Benatar', 'Dianna Casale', 'Sharon Devlin', 'Femi Gardiner', 'Patricia Keefer', 'Ruddy Rodriguez', 'Mayte Sánchez', 'Cela Savannah', 'Karen Seeberg', 'Waris Dirie', 'Karen Williams', 'Barbara Broccoli'], 'directors': ['John Glen'], 'screenwriters': ['John Barry'], 'music_composers': ['Richard Maibaum', 'Michael G. Wilson']},\n",
       " 'm_107': {'movie_id': 'm_107', 'title': 'Snatch', 'genres': ['Thriller', 'Crime'], 'production_countries': ['GB', 'US'], 'collection_name': '', 'release_year': '2000', 'actors': ['Benicio del Toro', 'Dennis Farina', 'Vinnie Jones', 'Brad Pitt', 'Rade Serbedzija', 'Jason Statham', 'Alan Ford', 'Mike Reid', 'Robbie Gee', 'Lennie James', 'Ewen Bremner', 'Jason Flemyng', 'Ade', 'William Beck', 'Andy Beckwith', 'Jason Buckham', 'Mickey Cantwell', 'Nicola Collins', 'Teena Collins', 'Charles Cork', 'James Cunningham', 'Sorcha Cusack', 'Mickey Dee', 'Sam Douglas', 'Adam Fogerty', 'Goldie', 'Stephen Graham', 'Sid Hoare', 'Ronald Isaac', 'Chuck Julian', 'Dave Legeno', 'Eric Meyers', 'Jason Ninh Cao', \"Paul O'Boyle\", 'Jimmy Roussounis', 'Sidney Sedin', 'Trevor Steedman', 'Yuri Stepanov', 'Peter Szakacs', 'John Taheny', 'Mick Theo', 'Andy Till', 'Velibor Topic', 'Scott Welch', 'Michael Hughes', 'Liam McMahon', 'James Warren', 'Austin Drage', 'Liam Donaghy', 'Joe Williams', 'John Farnell', 'Shaun Pearson', 'Dean Smith', 'Roy Snell', 'Tim Faraday', 'Andrew Shield', \"Elwin 'Chopper' David\", 'Guy Ritchie'], 'directors': ['Guy Ritchie'], 'screenwriters': ['John Murphy'], 'music_composers': []},\n",
       " 'm_3981': {'movie_id': 'm_3981', 'title': 'What Women Want', 'genres': ['Comedy', 'Romance'], 'production_countries': ['US'], 'collection_name': '', 'release_year': '2000', 'actors': ['Helen Hunt', 'Mel Gibson', 'Marisa Tomei', 'Lauren Holly', 'Mark Feuerstein', 'Alan Alda', 'Ashley Johnson', 'Delta Burke', 'Diana Maria Riva', 'Eric Balfour', 'Judy Greer', 'Sarah Paulson', 'Bette Midler', 'Logan Lerman', 'Lisa Edelstein', 'Robin Pearson Rose', 'Christopher Emerson', 'Ashlee Turner', 'Sierra Pecheur', 'Valerie Perrine', 'Ana Gasteyer', 'Loretta Devine', 'Andrea Baker', 'Joe Petcka', 'Brian Callaway', 'Coburn Goss', 'Perry Cavitt', 'Crystal McKinney', 'Jeanne Marie Rice', 'Kathrin Middleton', 'Kelly Cooper', 'Palmer Davis', 'Katie Miller', 'Dana Waters', 'Gregory Cupoli', 'Alexondra Lee', 'Aviva Gale', 'Shirley Prestia', 'T. J. Thyne', 'Audrey Wasilewski', 'Angela Oh', 'Robert Briscoe Evans', 'Chris Rolfes', 'Katie Kneeland', \"Jeanine O'Connell\", 'Kelley Hazen', 'Brooke Elliott', 'Kristina Martin', 'Harmony Rousseau', 'Lisa Long', 'Heidi Helmer', 'Marla Martensen', 'Sally Meyers Kovler', 'Ashley Quirico', 'Regan Rohde', 'Liz Tannebaum', 'LeShay N. Tomlinson', 'Cristine Rose', 'Arden Myrin', 'Rachel Duncan', 'Alex McKenna', 'Regiane Gorski', 'Juliandra Gillen', 'Lisa Anne Hillman', 'Tracy Pacheco', 'Jamie Gutterman', 'Maggie Egan', 'Juanita Jennings', 'Hallie Meyers-Shyer', 'Kate Asner', 'Caryn Greenhut', 'Jennifer Greenhut', 'Marnie Mosiman', 'Nnenna Freelon', 'Gil Hacohen', 'Nancy Monsarat', 'Jacqueline Thomas', 'Rory Byrne', 'Victoria Garcia-Kelleher', 'Gertrude Wong', 'Andi Eystad', 'Greg Bronson', 'Kira Coplin', 'Kiva Dawson', 'David C. Fisher', 'Elizabeth Friedman', 'Judy Carmen Gonzalez', 'Melanie Good', 'Drew Howerton', 'Kimberly Lyon', 'TJ Martin', 'Krista McRoberts', 'Maureen Mendoza', 'Heidi Merrick', 'Bette Midler', 'Oriah Miller', 'Robin Nance', \"Grace O'Neill\", 'Kristine Perchetti', 'Jean Sawin', 'Andy Schofield', 'Nancy Sinclair', 'Andy Schofield', 'Nicki Sixteen', 'Melinda Songer', 'Lauren Stewart', 'Tracey Stone', 'Dean Teaster', 'Gena Vazquez', 'Nancy Wetzel'], 'directors': ['Nancy Meyers'], 'screenwriters': ['Alan Silvestri'], 'music_composers': ['Josh Goldsmith', 'Cathy Yuspa']},\n",
       " 'm_2046': {'movie_id': 'm_2046', 'title': 'The Gift', 'genres': ['Horror', 'Drama', 'Thriller', 'Mystery'], 'production_countries': ['US'], 'collection_name': '', 'release_year': '2000', 'actors': ['Cate Blanchett', 'Giovanni Ribisi', 'Keanu Reeves', 'Katie Holmes', 'Greg Kinnear', 'Hilary Swank', 'Gary Cole', 'Rosemary Harris', 'J.K. Simmons', 'Chelcie Ross', 'David Brannen', 'Michael Jeter', 'Kim Dickens', 'John Beasley', 'Lynnsee Provence', 'Hunter McGilvray'], 'directors': ['Sam Raimi'], 'screenwriters': ['Christopher Young'], 'music_composers': ['Billy Bob Thornton', 'Tom Epperson']},\n",
       " 'm_2018': {'movie_id': 'm_2018', 'title': 'The Wedding Planner', 'genres': ['Comedy'], 'production_countries': ['US'], 'collection_name': '', 'release_year': '2001', 'actors': ['Jennifer Lopez', 'Matthew McConaughey', 'Justin Chambers', 'Joanna Gleason', 'Lou Myers', 'Kathy Najimy', 'Charles Kimbrough', 'Judy Greer', 'Bridgette Wilson', 'Alex Rocco', 'Kevin Pollak', 'Fred Willard', 'Frances Bay', 'Philip Pavel', 'Natalia Jaroszyk', 'Fabiana Udenio', 'Susan Mosher'], 'directors': ['Adam Shankman'], 'screenwriters': ['Mervyn Warren'], 'music_composers': ['Pamela Falk', 'Michael Ellis']},\n",
       " 'm_4639': {'movie_id': 'm_4639', 'title': 'Best Seller', 'genres': ['Action', 'Crime', 'Drama', 'Thriller'], 'production_countries': ['US'], 'collection_name': '', 'release_year': '1987', 'actors': ['James Woods', 'Brian Dennehy', 'Victoria Tennant', 'Allison Balson', 'Paul Shenar', 'George Coe', 'Anne Pitoniak', 'Mary Carver', 'Kathleen Lloyd', 'Sully Boyar', 'Charles Tyner', 'E. Brian Dean', 'Jeffrey Josephson', 'Edward Blackoff', 'Seymour Cassel'], 'directors': ['John Flynn'], 'screenwriters': ['Jay Ferguson'], 'music_composers': []},\n",
       " 'm_318': {'movie_id': 'm_318', 'title': 'The Million Dollar Hotel', 'genres': ['Drama', 'Thriller'], 'production_countries': ['US', 'DE'], 'collection_name': '', 'release_year': '2000', 'actors': ['Mel Gibson', 'Milla Jovovich', 'Jeremy Davies', 'Amanda Plummer', 'Peter Stormare', 'Bud Cort', 'Jimmy Smits', 'Julian Sands', 'Harris Yulin', 'Conrad Roberts', 'Donal Logue', 'Tom Bower', 'Gloria Stuart', 'Charlayne Woodard', 'Ellen Cleghorne', 'Richard Edson', 'Ezra Buzzington', 'Tito Larriva', 'David Stifel', 'Frederique van der Wal', 'Roger Stoneburner', 'Erik Rondell', 'Bono', 'Monty Bane', 'Tim Roth'], 'directors': ['Wim Wenders'], 'screenwriters': [], 'music_composers': ['Nicholas Klein', 'Bono']},\n",
       " 'm_1921': {'movie_id': 'm_1921', 'title': 'Sweet November', 'genres': ['Drama', 'Romance'], 'production_countries': ['US'], 'collection_name': '', 'release_year': '2001', 'actors': ['Keanu Reeves', 'Charlize Theron', 'Jason Isaacs', 'Greg Germann', 'Lauren Graham', 'Michael Rosenbaum', 'Frank Langella', 'Robert Joy', 'Liam Aiken', 'Jason Kravits', 'June Carryl', 'Kelvin Han Yee', 'David Fine', 'Diane Amos', 'Chuck Isen'], 'directors': [\"Pat O'Connor\"], 'screenwriters': ['Christopher Young'], 'music_composers': ['Kurt Voelker']},\n",
       " 'm_2302': {'movie_id': 'm_2302', 'title': 'Avalon', 'genres': ['Drama'], 'production_countries': ['US'], 'collection_name': '', 'release_year': '1990', 'actors': ['Leo Fuchs', 'Eve Gordon', 'Lou Jacobi', 'Armin Mueller-Stahl', 'Elizabeth Perkins', 'Joan Plowright', 'Aidan Quinn', 'Israel Rubinek', 'Elijah Wood', 'Grant Gelt', 'Kevin Pollak'], 'directors': ['Barry Levinson'], 'screenwriters': ['Randy Newman'], 'music_composers': ['Barry Levinson']},\n",
       " 'm_1888': {'movie_id': 'm_1888', 'title': 'The Fortune Cookie', 'genres': ['Romance', 'Comedy'], 'production_countries': ['US'], 'collection_name': '', 'release_year': '1966', 'actors': ['Jack Lemmon', 'Walter Matthau', 'Ron Rich', 'Judi West', 'Cliff Osmond', 'Lurene Tuttle', 'Harry Holcombe', 'Les Tremayne', 'Marge Redmond', 'Ann Shoemaker', 'Ned Glass', 'Archie Moore', 'Howard McNear', 'Harry Davis', 'Lauren Gilbert'], 'directors': ['Billy Wilder'], 'screenwriters': ['André Previn'], 'music_composers': ['Billy Wilder', 'I. A. L. Diamond']},\n",
       " 'm_2428': {'movie_id': 'm_2428', 'title': 'The Greatest Story Ever Told', 'genres': ['Drama', 'History'], 'production_countries': ['US'], 'collection_name': '', 'release_year': '1965', 'actors': ['Max von Sydow', 'Michael Anderson Jr.', 'Carroll Baker', 'Ina Balin', 'Victor Buono', 'Richard Conte', 'Joanna Dunham', 'José Ferrer', 'Van Heflin', 'Charlton Heston', 'Martin Landau', 'Angela Lansbury', 'Pat Boone', 'Janet Margolin', 'David McCallum', 'Roddy McDowall', 'Dorothy McGuire', 'Sal Mineo', 'Nehemiah Persoff', 'Donald Pleasence', 'Sidney Poitier', 'Claude Rains', 'Gary Raymond', 'Telly Savalas', 'Joseph Schildkraut', 'Paul Stewart', 'John Wayne', 'Shelley Winters', 'Ed Wynn', 'John Abbott', 'Rodolfo Acosta', 'Michael Ansara', 'Robert Blake', 'Burt Brinckerhoff', 'Robert Busch', 'John Considine', 'Philip Coolidge', 'John Crawford', 'Frank De Kova', 'Cyril Delevanti', 'Jamie Farr', 'David Hedison', 'Russell Johnson', 'Mark Lenard', 'Robert Loggia', 'John Lupton', 'Peter Mann', 'Tom Reese', 'Marian Seldes', 'David Sheiner', 'Frank Silvera', 'Joseph Sirola', 'Abraham Sofaer', 'Harold J. Stone', 'Chet Stratton', 'Michael Tolan', 'Ron Whelan', 'Jay C. Flippen', 'Celia Lovsky'], 'directors': ['George Stevens'], 'screenwriters': ['Alfred Newman'], 'music_composers': ['James Lee Barrett', 'George Stevens']},\n",
       " 'm_111': {'movie_id': 'm_111', 'title': 'Scarface', 'genres': ['Action', 'Crime', 'Drama', 'Thriller'], 'production_countries': ['US'], 'collection_name': '', 'release_year': '1983', 'actors': ['Al Pacino', 'Steven Bauer', 'Michelle Pfeiffer', 'Mary Elizabeth Mastrantonio', 'Robert Loggia', 'Miriam Colón', 'F. Murray Abraham', 'Paul Shenar', 'Harris Yulin', 'Ángel Salazar', 'Arnaldo Santana', 'Pepe Serna', 'Michael P. Moran', 'Al Israel', 'Dennis Holahan', 'Mark Margolis', 'John Carter', 'Michael Alldredge', 'Ted Beniades', 'Richard Belzer', 'John Brandon', 'Tony Perez', 'Garnett Smith', 'Gil Barreto', 'Victor Campos', 'Rene Carrasco', 'Albert Carrier', 'Gary Carlos Cervantes', 'Carlos Augusto Cestero', 'Roberto Contreras', 'Gregory Cruz', \"Dante D'Andre\", 'Ben Frommer', 'Ronald G. Joseph', 'Mario Machado', 'John McCann', 'Victor Millan', 'Santos Morales', 'Mike Moroff', 'Manuel Padilla Jr.', 'Michael Rougas', 'Geno Silva', 'Charles A. Tamburro', 'Angela Aames', 'Lee Benton', 'Lana Clarkson', 'Ava Lazar', 'Shelley Taylor Morgan', 'Emilia Crow', 'Margaret Michaels', 'Katt Shea', 'Barclay DeVeau', 'Charles Durning', 'Dennis Franz', 'Linda Gillen', 'Gregg Henry', 'Kevyn Major Howard', 'Henry Kingi', 'Jorge Porcel', 'Brett Ratner', 'Marcus Shirock', 'Maxine Wasa', 'Ilka Tanya Payán'], 'directors': ['Brian De Palma'], 'screenwriters': ['Giorgio Moroder'], 'music_composers': ['Oliver Stone']},\n",
       " 'm_2144': {'movie_id': 'm_2144', 'title': \"One Night at McCool's\", 'genres': ['Action', 'Comedy', 'Crime'], 'production_countries': ['US'], 'collection_name': '', 'release_year': '2001', 'actors': ['Matt Dillon', 'Liv Tyler', 'Mary Jo Smith', 'Michael Douglas', 'Paul Reiser', 'Reba McEntire', 'John Goodman', 'Richard Jenkins', 'Sandy Martin', 'Andrew Dice Clay', 'Ric Sarabia', 'Tim DeZam', 'Andrea Bendewald', 'Leo Rossi'], 'directors': ['Harald Zwart'], 'screenwriters': ['Marc Shaiman'], 'music_composers': ['Stan Seidel']},\n",
       " 'm_1734': {'movie_id': 'm_1734', 'title': 'The Mummy Returns', 'genres': ['Adventure', 'Action', 'Fantasy'], 'production_countries': ['US'], 'collection_name': 'The Mummy Collection', 'release_year': '2001', 'actors': ['Brendan Fraser', 'Rachel Weisz', 'John Hannah', 'Arnold Vosloo', 'Oded Fehr', 'Dwayne Johnson', 'Freddie Boath', 'Patricia Velásquez', 'Alun Armstrong', 'Adewale Akinnuoye-Agbaje', 'Shaun Parkes', 'Bruce Byron', 'Joe Dixon', 'Thomas Fisher', 'Aharon Ipalé', 'Quill Roberts', 'Donna Air', 'Trevor Lovell', 'Tom Fisher'], 'directors': ['Stephen Sommers'], 'screenwriters': ['Alan Silvestri'], 'music_composers': ['Stephen Sommers']},\n",
       " 'm_4973': {'movie_id': 'm_4973', 'title': 'Sous le Sable', 'genres': ['Drama', 'Mystery'], 'production_countries': ['FR'], 'collection_name': '', 'release_year': '2000', 'actors': ['Charlotte Rampling', 'Bruno Cremer', 'Jacques Nolot', 'Alexandra Stewart', 'Pierre Vernier', 'Andrée Tainsy', 'Michel Cordes', 'Maya Gaugler', 'Damien Abbou', 'David Portugais', 'Pierre Soubestre', 'Agathe Teyssier', 'Laurence Martin', 'Jean-François Lapalus', 'Laurence Mercier', 'Fabienne Luchetti'], 'directors': ['François Ozon'], 'screenwriters': ['Philippe Rombi'], 'music_composers': ['François Ozon', 'Marina de Van', 'Marcia Romano', 'Emmanuèle Bernheim']},\n",
       " 'm_849': {'movie_id': 'm_849', 'title': 'Krull', 'genres': ['Fantasy', 'Action', 'Adventure'], 'production_countries': ['ES', 'GB', 'IT', 'US'], 'collection_name': '', 'release_year': '1983', 'actors': ['Ken Marshall', 'Lysette Anthony', 'Francesca Annis', 'Alun Armstrong', 'David Battley', 'Bernard Bresslaw', 'Liam Neeson', 'John Welsh', 'Graham McGrath', 'Tony Church', 'Bernard Archard', 'Belinda Mayne', 'Freddie Jones', 'Robbie Coltrane', 'Todd Carty', 'Dicken Ashworth', 'Bronco McLoughlin', 'Andy Bradford', 'Gerard Naprous', 'Bill Weston', 'Derek Lyons', 'Trevor Martin', 'Dinny Powell', 'Nosher Powell', 'Tom Rumpf'], 'directors': ['Peter Yates'], 'screenwriters': ['James Horner'], 'music_composers': ['Stanford Sherman']},\n",
       " 'm_934': {'movie_id': 'm_934', 'title': 'Du rififi chez les hommes', 'genres': ['Drama', 'Action', 'Crime'], 'production_countries': ['FR'], 'collection_name': '', 'release_year': '1955', 'actors': ['Jean Servais', 'Carl Möhner', 'Robert Manuel', 'Janine Darcey', 'Magali Noël', 'Marie Sabouret', 'Robert Hossein', 'Claude Sylvain', 'Jules Dassin', 'Pierre Grasset', 'Dominique Maurin', 'Alain Bouvette', 'André Dalibert', 'Emile Genevois', 'Marcelle Hainia', 'Daniel Mendaille', 'Lita Recio', 'Jacques Besnard', 'Teddy Bilis', 'Marcel Rouzé', 'Roger Rudel', 'Fernand Sardou'], 'directors': ['Jules Dassin'], 'screenwriters': ['Georges Auric'], 'music_composers': ['Auguste Le Breton', 'René Wheeler']},\n",
       " 'm_1089': {'movie_id': 'm_1089', 'title': 'Point Break', 'genres': ['Action', 'Thriller', 'Crime'], 'production_countries': ['US'], 'collection_name': '', 'release_year': '1991', 'actors': ['Patrick Swayze', 'Keanu Reeves', 'Gary Busey', 'Lori Petty', 'John C. McGinley', 'James Le Gros', 'John Philbin', 'BoJesse Christopher', 'Julian Reyes', 'Daniel Beer', 'Chris Pedersen', 'Vincent Klyn', 'Anthony Kiedis', 'Dave Olson', 'Lee Tergesen', 'Christopher Pettiet', 'Sydney Walsh', 'Tom Sizemore', 'Dino Andino', 'Michael Kopelow', 'Julie Michaels', 'Mike Genovese', 'Jack Kehler', 'Galyn Görg', 'Raymond Forchion', 'Betsy Lynn George', 'Gloria Mann', 'Ping Wu', 'Jared Chandler', 'John Apicella', 'Richard Grove', 'Anthony Mangano', 'Deborah Lemen', 'Randy Walker', 'Peter Phelps'], 'directors': ['Kathryn Bigelow'], 'screenwriters': ['Mark Isham'], 'music_composers': ['W. Peter Iliff']},\n",
       " 'm_2140': {'movie_id': 'm_2140', 'title': 'Kiss of the Dragon', 'genres': ['Action', 'Crime', 'Thriller'], 'production_countries': ['FR', 'US'], 'collection_name': '', 'release_year': '2001', 'actors': ['Jet Li', 'Bridget Fonda', 'Tchéky Karyo', 'Max Ryan', 'Ric Young', 'Burt Kwouk', 'Laurence Ashley', 'Cyril Raffaelli', 'Didier Azoulay', 'John Forgeham', 'Paul Barrett', 'Kentaro', 'Colin Prince', 'Vincent Glo', 'Vincent Wong', 'Claude Brécourt'], 'directors': ['Chris Nahon'], 'screenwriters': ['Craig Armstrong', 'Chino XL'], 'music_composers': ['Luc Besson', 'Robert Mark Kamen']},\n",
       " 'm_3134': {'movie_id': 'm_3134', 'title': 'Baise-moi', 'genres': ['Crime', 'Drama', 'Romance', 'Thriller'], 'production_countries': ['FR'], 'collection_name': '', 'release_year': '2000', 'actors': ['Karen Lancaume', 'Raffaëla Anderson', 'Ouassini Embarek', 'Adama Niane', 'Marc Barrow', 'Patrick Eudeline', 'Ian Scott', 'Zenza Raggi', 'Jean-Louis Costes', 'Titof', 'Delphine McCarty', 'Patrick Kodjo Topou', 'Élodie Chérie', 'Marc Rioufol', 'Hervé P. Gustave', 'Jean-Marc Minéo', 'Gábor Rassov', 'Rodolphe Antrim', 'Nataly Dune', 'Sebastian Barrio', 'Pascal St. James'], 'directors': ['Virginie Despentes', 'Coralie'], 'screenwriters': ['Varou Jan'], 'music_composers': ['Virginie Despentes', 'Coralie']},\n",
       " 'm_5991': {'movie_id': 'm_5991', 'title': 'Der letzte Mann', 'genres': ['Drama'], 'production_countries': ['DE'], 'collection_name': '', 'release_year': '1924', 'actors': ['Emil Jannings', 'Maly Delschaft', 'Max Hiller', 'Hans Unterkircher', 'Hermann Vallentin', 'Emilie Kurz', 'Georg John', 'Emmy Wyda', 'Harald Madsen', 'Carl Schenstrøm', 'Olaf Storm', 'O.E. Hasse', 'Neumann-Schüler'], 'directors': ['F.W. Murnau'], 'screenwriters': ['Werner Schmidt-Boelcke'], 'music_composers': ['Carl Mayer']},\n",
       " 'm_2114': {'movie_id': 'm_2114', 'title': 'Final Fantasy: The Spirits Within', 'genres': ['Adventure', 'Action', 'Animation', 'Fantasy', 'Science Fiction', 'Thriller'], 'production_countries': ['JP', 'US'], 'collection_name': 'Final Fantasy Collection', 'release_year': '2001', 'actors': ['Donald Sutherland', 'Ming-Na Wen', 'Alec Baldwin', 'Ving Rhames', 'Steve Buscemi', 'Peri Gilpin', 'James Woods', 'Jean Simmons', 'Keith David'], 'directors': ['Hironobu Sakaguchi', 'Motonori Sakakibara'], 'screenwriters': ['Elliot Goldenthal', 'Joel Iwataki', 'Dirk Brossé'], 'music_composers': ['Al Reinert', 'Jeff Vintar', 'Jack Fletcher', 'Ramin Mebdy']},\n",
       " 'm_2': {'movie_id': 'm_2', 'title': 'Ariel', 'genres': ['Drama', 'Crime'], 'production_countries': ['FI'], 'collection_name': '', 'release_year': '1988', 'actors': ['Turo Pajala', 'Susanna Haavisto', 'Matti Pellonpää', 'Eetu Hilkamo'], 'directors': ['Aki Kaurismäki'], 'screenwriters': [], 'music_composers': ['Aki Kaurismäki']},\n",
       " 'm_3980': {'movie_id': 'm_3980', 'title': 'Critters', 'genres': ['Action', 'Comedy', 'Horror', 'Science Fiction', 'Thriller'], 'production_countries': ['US'], 'collection_name': 'Critters Collection', 'release_year': '1986', 'actors': ['Dee Wallace', 'M. Emmet Walsh', 'Billy Zane', 'Scott Grimes', 'Lin Shaye', 'Ethan Phillips', 'Don Keith Opper', 'Terrence Mann', 'Jeremy Lawrence', 'Billy Green Bush', 'Nadine Van der Velde', 'Michael Lee Gogin', 'Art Frankel'], 'directors': ['Stephen Herek'], 'screenwriters': ['David Newman'], 'music_composers': ['Stephen Herek', 'Domonic Muir']},\n",
       " 'm_2617': {'movie_id': 'm_2617', 'title': 'The Great Outdoors', 'genres': ['Comedy'], 'production_countries': ['US'], 'collection_name': '', 'release_year': '1988', 'actors': ['John Candy', 'Dan Aykroyd', 'Annette Bening', 'Stephanie Faracy', 'Chris Young', 'Ian Giatti', 'Hilary Gordon', 'Rebecca Gordon', 'Robert Prosky', 'Zoaunne LeRoy', 'Lucy Deakins', 'Nancy Lenehan', 'Lewis Arquette'], 'directors': ['Howard Deutch'], 'screenwriters': ['Thomas Newman'], 'music_composers': []},\n",
       " 'm_3543': {'movie_id': 'm_3543', 'title': 'Out of Rosenheim', 'genres': ['Comedy', 'Drama'], 'production_countries': ['DE', 'US'], 'collection_name': '', 'release_year': '1987', 'actors': ['Marianne Sägebrecht', 'CCH Pounder', 'Jack Palance', 'Christine Kaufmann', 'Monica Calhoun', 'Darron Flagg', 'George Aguilar', 'G. Smokey Campbell', 'Hans Stadlbauer', 'Alan S. Craig', 'Apesanahkwat', 'Ronald Lee Jarvis', 'Mark Daneri', 'Ray Young', 'Gary Lee Davis'], 'directors': ['Percy Adlon'], 'screenwriters': [], 'music_composers': ['Eleonore Adlon', 'Percy Adlon', 'Christopher Doherty']},\n",
       " 'm_2605': {'movie_id': 'm_2605', 'title': 'Short Circuit', 'genres': ['Comedy', 'Family', 'Science Fiction'], 'production_countries': ['US'], 'collection_name': 'Short Circuit Collection', 'release_year': '1986', 'actors': ['Ally Sheedy', 'Steve Guttenberg', 'Fisher Stevens', 'Austin Pendleton', 'G. W. Bailey', 'Brian McNamara', 'Tim Blaney', 'Marvin J. McIntyre', 'John Garber', 'Penny Santon', 'Vernon Weddle', 'Barbara Tarbuck', 'Tom Lawrence', 'Fred Slyter', 'Billy Ray Sharkey', 'Robert Krantz', 'Jan Speck', 'Marguerite Happy', 'Howard Krick', 'Marjorie Card Hughes', 'Herb Smith', 'Jack Thompson', 'William Striglos', 'Mary Reckley', 'Shay McLean', 'Eleanor C. Heutschy', 'Actor Sergio Kato'], 'directors': ['John Badham'], 'screenwriters': ['David Shire'], 'music_composers': []},\n",
       " 'm_4105': {'movie_id': 'm_4105', 'title': 'Black Rain', 'genres': ['Action', 'Thriller', 'Crime'], 'production_countries': ['US'], 'collection_name': '', 'release_year': '1989', 'actors': ['Michael Douglas', 'Andy García', 'Kate Capshaw', 'Shigeru Kôyama', 'John Spencer', 'Ken Takakura', 'Yûsaku Matsuda', 'Jun Kunimura', 'Luis Guzmán', 'John Costelloe', 'Stephen Root', 'Richard Riehle', 'Bruce Katzman', 'Tim Kelleher', 'Guts Ishimatsu', 'Yûya Uchida', 'Tomisaburō Wakayama', 'Miyuki Ono', 'Edmund Ikeda', 'Tomo Nagasue', 'Clem Caserta', 'George Kyle', 'Vondie Curtis-Hall', 'Joe Perce', 'Louis Cantarini', 'Doug Yasuda', 'Toshio Sato', 'Roy K. Ogata', 'Shirô Oishi', 'Professor Toru Tanaka', 'Rikiya Yasuoka', 'Jôji Shimaki', 'Gorô Sasa', 'Taro Ibuki', 'Daisuke Awaji', 'Keone Young', 'Jim Ishida', 'Shôtarô Hayashi', 'Toshishiro Obata', 'Michiko Tsushima', 'Linda Gillen', 'John Gotay', 'Matthew Porac', 'Ken Kensei', 'Josip Elic', 'Mitchell Bahr', 'Ken Enomoto', 'Nathan Jung', 'Al Leong', 'Bruce Locke', 'Chris Nelson Norris', 'Dennis Y. Takeda', 'Celia Xavier'], 'directors': ['Ridley Scott'], 'screenwriters': ['Hans Zimmer'], 'music_composers': []},\n",
       " 'm_1380': {'movie_id': 'm_1380', 'title': 'Gleaming the Cube', 'genres': ['Drama'], 'production_countries': ['US'], 'collection_name': '', 'release_year': '1989', 'actors': ['Christian Slater', 'Tony Hawk', 'Stacy Peralta', 'Rodney Mullen', 'Peter Kwong', 'Steven Bauer', 'Richard Herd', 'Le Tuan', 'Min Luong', 'Art Chudabala', 'Ed Lauter', 'Micole Mercurio', 'Charles Cyphers', 'Max Perlich', 'Tommy Guerrero', 'Christian Jacobs', 'Joe Gosha'], 'directors': ['Graeme Clifford'], 'screenwriters': [], 'music_composers': ['Michael Tolkin']},\n",
       " 'm_327': {'movie_id': 'm_327', 'title': 'Brother', 'genres': ['Crime', 'Drama', 'Thriller'], 'production_countries': ['GB', 'JP', 'US'], 'collection_name': '', 'release_year': '2000', 'actors': ['Takeshi Kitano', 'Omar Epps', 'Claude Maki', 'Susumu Terajima', 'Masaya Kato', 'Royale Watkins', 'Lombardo Boyar', 'Ryo Ishibashi', 'James Shigeta', 'Tatyana Ali', 'Joseph Ragno', 'Ren Osugi'], 'directors': ['Takeshi Kitano'], 'screenwriters': ['Joe Hisaishi'], 'music_composers': []},\n",
       " 'm_552': {'movie_id': 'm_552', 'title': 'Pane e Tulipani', 'genres': ['Drama', 'Comedy', 'Romance'], 'production_countries': ['IT'], 'collection_name': '', 'release_year': '2000', 'actors': ['Licia Maglietta', 'Bruno Ganz', 'Giuseppe Battiston', 'Antonio Catania', 'Marina Massironi', 'Felice Andreasi', 'Vitalba Andrea', 'Tatiana Lepore', 'Daniela Piperno', 'Tiziano Cucchiarelli', 'Matteo Febo', 'Lina Bernardi', 'Mauro Marino', 'Antonia Miccoli', 'Ludovico Paladin', 'Silvana Bosi'], 'directors': ['Silvio Soldini'], 'screenwriters': ['Giovanni Venosta'], 'music_composers': ['Silvio Soldini', 'Doriana Leondeff']},\n",
       " 'm_2616': {'movie_id': 'm_2616', 'title': 'Uncle Buck', 'genres': ['Comedy', 'Drama', 'Family'], 'production_countries': ['US'], 'collection_name': '', 'release_year': '1989', 'actors': ['John Candy', 'Jean Louisa Kelly', 'Macaulay Culkin', 'Gaby Hoffmann', 'Amy Madigan', 'Elaine Bromka', 'Garrett M. Brown', 'Laurie Metcalf', 'Jay Underwood', 'Brian Tarantina', 'Mike Starr', 'Suzanne Shepherd', 'Dennis Cockrum', 'Anna Chlumsky', 'Ron Payne', 'Jane Vickerilla', 'William Windom', 'Patricia Arquette', 'Devon Odessa', 'Jack Blessing', 'Ryan Goldstein'], 'directors': ['John Hughes'], 'screenwriters': ['Ira Newborn'], 'music_composers': ['John Hughes']},\n",
       " 'm_249': {'movie_id': 'm_249', 'title': 'The War of the Roses', 'genres': ['Comedy', 'Drama', 'Thriller'], 'production_countries': ['US'], 'collection_name': '', 'release_year': '1989', 'actors': ['Kathleen Turner', 'Michael Douglas', 'Danny DeVito', 'Marianne Sägebrecht', 'Dan Castellaneta', 'Sean Astin', 'Heather Fairfield', 'G.D. Spradlin', 'Peter Brocco', 'Peter Donat', 'Patricia Allison', 'Gloria Cromwell', 'Susan Isaacs', 'Philip Perlman', 'Mary Fogarty', 'Harlan Arnold', 'Rika Hofmann'], 'directors': ['Danny DeVito'], 'screenwriters': ['David Newman'], 'music_composers': ['Michael J. Leeson']},\n",
       " 'm_1627': {'movie_id': 'm_1627', 'title': \"L'Enfant sauvage\", 'genres': ['Drama'], 'production_countries': ['FR'], 'collection_name': '', 'release_year': '1970', 'actors': ['Jean-Pierre Cargol', 'François Truffaut', 'Françoise Seigner', 'Jean Dasté', 'Annie Miller', 'Claude Miller', 'Paul Villé', 'Nathan Miller', 'Mathieu Schiffman', 'Jean Gruault', 'Gitt Magrini', 'Jean-François Stévenin', 'Laura Truffaut', 'Eva Truffaut', 'Guillaume Schiffman', 'Dominique Levert', 'Jean Mandaroux', 'René Levert', 'Pierre Fabre'], 'directors': ['François Truffaut'], 'screenwriters': [], 'music_composers': ['François Truffaut', 'Jean Gruault']},\n",
       " 'm_2770': {'movie_id': 'm_2770', 'title': 'American Pie 2', 'genres': ['Comedy', 'Romance'], 'production_countries': ['US'], 'collection_name': 'American Pie Collection', 'release_year': '2001', 'actors': ['Jason Biggs', 'Thomas Ian Nicholas', 'Chris Klein', 'Seann William Scott', 'Eddie Kaye Thomas', 'Shannon Elizabeth', 'Alyson Hannigan', 'Natasha Lyonne', 'Tara Reid', 'Mena Suvari', 'Chris Owen', 'Eugene Levy', 'Molly Cheek', 'Denise Faye', 'Lisa Arturo', 'John Cho', 'Justin Isfeld', 'Eli Marienthal', 'Casey Affleck', 'Tsianina Joelson', 'Lacey Beeman', 'Bree Turner', 'Brian Turk', 'Joelle Carter', 'Larry Drake', 'Lee Garlington', 'Ernie Lively', 'Morgan Nagler', 'George Wyner', 'Matthew Frauman', 'Brian Lester', 'Nigel Gibbs', 'Kevin Cooney', 'Marilyn Brett', 'JoAnna Garcia', 'Jesse Heiman', 'Jack Wallace', \"Serah D'Laine\", 'Nora Zehetner', 'Luke Edwards', 'Adam Brody', 'Steven Shenbaum', 'Nancy Stone', 'Kevin Kilner', 'Cole Petersen', 'Paityn James', 'Joseph D. Reitman', 'Mike Erwin', 'Robert Peters', 'Laurie Reeves', 'Jennifer Coolidge', 'Curt Clendenin', 'Marco Sanchez', 'Christina Cindrich', 'Matthew Peters', 'Lisa Gould', 'David Smigelski', 'Amanda Armato', 'Amara Balthrop-Lewis', 'Jay Rossi', 'Adam Herz', 'J.B. Rogers', 'Brett Shuttleworth', 'Amanda Wilmshurst', 'Devon Davidson', 'Daniel Spink', 'Tamia Richmond', 'Rachel Blasko', 'Derrick Harper', 'Kelley Schneider', 'Dan Andreiu', 'Hallie Bird', 'Nicole Brunner', \"Don 'Tex' Clark\", 'April Florio', 'Marc S. Gordon', 'Victoria Gray', 'Phil Hawn', 'Matt Hobbie', 'Meagan Lopez', 'Sandra Luesse', 'Tara Rice', 'Elaine Szupello', 'Jason Tatum', 'Tadpole Triplett', 'Clyde Tull', 'Robert Warnack', 'Bryan Watkins', 'Steven Paul Zsenyuk'], 'directors': ['J.B. Rogers'], 'screenwriters': ['David Lawrence'], 'music_composers': ['Adam Herz']},\n",
       " 'm_1722': {'movie_id': 'm_1722', 'title': \"Captain Corelli's Mandolin\", 'genres': ['Drama', 'History', 'Romance'], 'production_countries': ['GB', 'US', 'FR'], 'collection_name': '', 'release_year': '2001', 'actors': ['Nicolas Cage', 'Penélope Cruz', 'John Hurt', 'Christian Bale', 'Irene Papas', 'Gerasimos Skiadaressis', 'Aspasia Kralli', 'Mihalis Giannatos', 'Dimitris Kaberidis', 'Pietro Sarubbi', 'Viki Maragaki', 'David Morrissey', 'Patrick Malahide', 'Salvatore Lazzaro'], 'directors': ['John Madden'], 'screenwriters': ['Stephen Warbeck'], 'music_composers': ['Shawn Slovo']},\n",
       " 'm_2779': {'movie_id': 'm_2779', 'title': 'The Curse of the Jade Scorpion', 'genres': ['Comedy', 'Crime', 'Mystery', 'Romance', 'Thriller'], 'production_countries': ['DE', 'US'], 'collection_name': '', 'release_year': '2001', 'actors': ['Dan Aykroyd', 'Helen Hunt', 'Woody Allen', 'Charlize Theron', 'David Ogden Stiers', 'Brian Markinson', 'John Tormey', 'John Schuck', 'Elizabeth Berkley', 'Kaili Vernoff', 'Maurice Sonnenberg', 'Peter Gerety', 'Kevin Cahoon', 'Wallace Shawn', 'Vince Giordano', 'Kenneth Edelson', 'Brian McConnachie', 'Judy Gold', 'Ira Wheeler', 'Tina Sloan', 'Ramsey Faragallah', 'Arthur J. Nascarella', 'Irwin Corey', 'Michael Mulheren', 'Peter Linari', 'Dan Moran', 'Ray Garvey', 'John Doumanian', 'Philip Levy', 'Howard Alden', 'Ted Sommer', 'Randy Sandke', 'Peter Ecklund', 'Joel Helleny', 'Chuck Wilson', 'Raymond Beckenstein', 'Lawrence Feldman', 'Ken Peplowski', 'Carole Bayeux', 'Herb Lovelle', 'Carmen', 'Patrick Horgan', 'Howard Erskine', 'Bob Dorian', 'Trude Klein', 'Bruce Brown', 'Dick Hyman'], 'directors': ['Woody Allen'], 'screenwriters': [], 'music_composers': ['Woody Allen']},\n",
       " 'm_2294': {'movie_id': 'm_2294', 'title': 'Jay and Silent Bob Strike Back', 'genres': ['Comedy'], 'production_countries': ['US'], 'collection_name': '', 'release_year': '2001', 'actors': ['Kevin Smith', 'Jason Mewes', 'Ben Affleck', 'Jeff Anderson', \"Brian O'Halloran\", 'Shannon Elizabeth', 'Eliza Dushku', 'Ali Larter', 'Jennifer Schwalbach Smith', 'Will Ferrell', 'Jason Lee', 'Judd Nelson', 'George Carlin', 'Carrie Fisher', 'Seann William Scott', 'Jon Stewart', 'Mark Hamill', 'Joey Lauren Adams', 'Tracy Morgan', 'Gus Van Sant', 'Shannen Doherty', 'Wes Craven', 'Chris Rock', 'Joe Quesada', 'Matt Damon', 'Harley Quinn Smith', 'Morris Day', 'William B. Davis', 'Marc Blucas'], 'directors': ['Kevin Smith'], 'screenwriters': ['James L. Venable'], 'music_composers': ['Kevin Smith']},\n",
       " 'm_2176': {'movie_id': 'm_2176', 'title': 'The Glass House', 'genres': ['Drama', 'Thriller'], 'production_countries': ['US'], 'collection_name': '', 'release_year': '2001', 'actors': ['Leelee Sobieski', 'Diane Lane', 'Stellan Skarsgård', 'Bruce Dern', 'Kathy Baker', 'Trevor Morgan', 'Chris Noth', \"Michael O'Keefe\", \"Gavin O'Connor\", 'Vyto Ruginis', 'Carly Pope', 'China Shavers', 'Agnes Bruckner', 'Michael Paul Chan', 'Rachel Wilson', 'Rutanya Alda', 'John Billingsley', 'Maia Danziger', 'January Jones'], 'directors': ['Daniel Sackheim'], 'screenwriters': [], 'music_composers': []},\n",
       " 'm_248': {'movie_id': 'm_248', 'title': 'Pocketful of Miracles', 'genres': ['Comedy', 'Drama'], 'production_countries': ['US'], 'collection_name': '', 'release_year': '1961', 'actors': ['Glenn Ford', 'Bette Davis', 'Hope Lange', \"Arthur O'Connell\", 'Peter Falk', 'Thomas Mitchell', 'Edward Everett Horton', 'Mickey Shaughnessy', 'David Brian', 'Sheldon Leonard', 'Ann-Margret', 'Barton MacLane', 'John Litel', 'Jerome Cowan', 'Jay Novello', 'Frank Ferguson', 'Willis Bouchey', 'Fritz Feld', 'Ellen Corby', 'Gavin Gordon', 'Benny Rubin', 'Jack Elam', 'Mike Mazurki', 'Hayden Rorke', 'Doodles Weaver', 'Betty Bronson', 'Paul E. Burns', 'Marc Cavell', 'Bess Flowers', 'Byron Foulger', 'Kermit Maynard', \"'Snub' Pollard\", 'Amanda Randolph', 'George E. Stone', 'Dick Wessel', 'Grace Lee Whitney', 'Peter Mann', 'Tom Fadden', 'Bert Stevens', 'Harry Wilson'], 'directors': ['Frank Capra'], 'screenwriters': ['Walter Scharf', 'Jimmy Van Heusen'], 'music_composers': ['Robert Riskin']},\n",
       " 'm_1644': {'movie_id': 'm_1644', 'title': 'The Vanishing', 'genres': ['Thriller', 'Drama', 'Mystery'], 'production_countries': ['US'], 'collection_name': '', 'release_year': '1993', 'actors': ['Kiefer Sutherland', 'Jeff Bridges', 'Nancy Travis', 'Sandra Bullock', 'Park Overall', 'Maggie Linderman', 'Lisa Eichhorn', 'George Hearn', 'Lynn Hamilton', 'Garrett Bennett', 'George Catalano', 'Frank Girardeau', 'Stephen Bridgewater', 'Susan Barnes', 'Rich Hawkins'], 'directors': ['George Sluizer'], 'screenwriters': ['Jerry Goldsmith'], 'music_composers': ['Todd Graff']},\n",
       " 'm_2100': {'movie_id': 'm_2100', 'title': 'The Last Castle', 'genres': ['Action', 'Drama', 'Thriller'], 'production_countries': ['US'], 'collection_name': '', 'release_year': '2001', 'actors': ['Robert Redford', 'James Gandolfini', 'Mark Ruffalo', 'Steve Burton', 'Delroy Lindo', 'Paul Calderon', 'Samuel Ball', 'Jeremy Childs', 'George W. Scott', 'Clifton Collins Jr', 'Addison Pate'], 'directors': ['Rod Lurie'], 'screenwriters': ['Jerry Goldsmith', 'Tom Waits'], 'music_composers': ['Graham Yost', 'David Scarpa']},\n",
       " 'm_3173': {'movie_id': 'm_3173', 'title': 'เพชฌฆาตเงียบอันตราย', 'genres': ['Thriller', 'Action', 'Crime', 'Drama'], 'production_countries': ['TH'], 'collection_name': '', 'release_year': '1999', 'actors': ['Premsinee Ratanasopha', 'Patharawarin Timkul', 'Pisek Intrakanchit', 'Korkiate Limpapat', 'Piya Boonnak', 'Pawarith Monkolpisit'], 'directors': ['Oxide Pang Chun', 'Danny Pang'], 'screenwriters': [], 'music_composers': []},\n",
       " 'm_141': {'movie_id': 'm_141', 'title': 'Donnie Darko', 'genres': ['Fantasy', 'Drama', 'Mystery'], 'production_countries': ['US'], 'collection_name': 'Darko Collection', 'release_year': '2001', 'actors': ['Jake Gyllenhaal', 'Jena Malone', 'Patrick Swayze', 'Maggie Gyllenhaal', 'Drew Barrymore', 'Beth Grant', 'Holmes Osborne', 'Daveigh Chase', 'Mary McDonnell', 'James Duval', 'Arthur Taxier', 'Katharine Ross', 'Patience Cleveland', 'David St. James', 'Jazzie Mahannah', 'Jolene Purdy', 'David Moreland', 'Noah Wyle', 'Kristina Malota', 'Marina Malota', 'Scotty Leavenworth', 'Phyllis Lyons', 'Gary Lundy', 'Alex Greenwald', 'Stuart Stone', 'Joan Blair', 'Seth Rogen', 'Mark Hoffman'], 'directors': ['Richard Kelly'], 'screenwriters': ['Michael Andrews'], 'music_composers': ['Richard Kelly']},\n",
       " 'm_585': {'movie_id': 'm_585', 'title': 'Monsters, Inc.', 'genres': ['Animation', 'Comedy', 'Family'], 'production_countries': ['US'], 'collection_name': 'Monsters, Inc. Collection', 'release_year': '2001', 'actors': ['John Goodman', 'Billy Crystal', 'Mary Gibbs', 'Steve Buscemi', 'James Coburn', 'Jennifer Tilly', 'Bob Peterson', 'John Ratzenberger', 'Frank Oz', 'Steve Susskind', 'Bonnie Hunt', 'Jeff Pidgeon', 'Samuel Lord Black', 'Jack Angel', 'Bob Bergen', 'Rodger Bumpass', 'Gino Conforti', 'Jennifer Darling', 'Patti Deutsch', 'Pete Docter', 'Bobby Edner', 'Ashley Edner', 'Paul Eiding', 'Katie Scarlettr', 'Bill Farmer', 'Keegan Farrell', 'Pat Fraley', 'Teresa Ganzel', 'Taylor Gifaldi', 'Marc John Jefferies', 'Joe Lala', 'Noah Luke', 'Sherry Lynn', 'Danny Mann', 'Mona Marshall', 'Mickie McGowan', 'Laraine Newman', 'Kay Panabaker', \"Bret 'Brook' Parker\", 'Phil Proctor', 'Josh Qualtieri', 'Guido Quaroni', 'Jan Rabson', 'Lisa Raggio', 'Joe Ranft', 'Katherine Ringgold', 'Sophia Ranft', 'Bob Scott', 'Jim Thornton', 'Lee Unkrich', 'Wallace Shawn', 'Daniel Gerson', 'David Silverman'], 'directors': ['Pete Docter'], 'screenwriters': ['Randy Newman'], 'music_composers': ['Andrew Stanton', 'Daniel Gerson']},\n",
       " 'm_671': {'movie_id': 'm_671', 'title': \"Harry Potter and the Philosopher's Stone\", 'genres': ['Adventure', 'Fantasy', 'Family'], 'production_countries': ['GB', 'US'], 'collection_name': 'Harry Potter Collection', 'release_year': '2001', 'actors': ['Daniel Radcliffe', 'Rupert Grint', 'Emma Watson', 'Richard Harris', 'Tom Felton', 'Robbie Coltrane', 'Alan Rickman', 'Maggie Smith', 'Richard Griffiths', 'Ian Hart', 'Fiona Shaw', 'John Hurt', 'David Bradley', 'Matthew Lewis', 'Sean Biggerstaff', 'Warwick Davis', 'Harry Melling', 'James Phelps', 'Oliver Phelps', 'John Cleese', 'Chris Rankin', 'Alfie Enoch', 'Devon Murray', 'Jamie Waylett', 'Josh Herdman', 'Zoë Wanamaker', 'Julie Walters', 'Bonnie Wright', 'Luke Youngblood', 'Verne Troyer', 'Adrian Rawlins', 'Geraldine Somerville', 'Elizabeth Spriggs', 'Nina Young', 'Terence Bayler', 'Leslie Phillips', 'Simon Fisher-Becker', 'Derek Deadman', 'Ray Fearon', 'Eleanor Columbus', 'Ben Borowiecki', 'Danielle Tabor', 'Leilah Sutherland', 'Emily Dale', 'Will Theakston', 'Scot Fearn', 'Saunders Triplets', 'Amy Puglia', 'David Brett', 'Leila Hoffman', 'Hazel Showham', 'Christina Petrou', 'Gemma Sandzer', 'Derek Hough', 'Julianne Hough', 'Zoe Sugg', 'Jimmy Vee', 'Kieri Kennedy'], 'directors': ['Chris Columbus'], 'screenwriters': ['John Williams'], 'music_composers': ['Steve Kloves']},\n",
       " 'm_299': {'movie_id': 'm_299', 'title': \"Ocean's Eleven\", 'genres': ['Thriller', 'Music', 'Comedy', 'Crime'], 'production_countries': ['US'], 'collection_name': '', 'release_year': '1960', 'actors': ['Frank Sinatra', 'Dean Martin', 'Peter Lawford', 'Angie Dickinson', 'Richard Conte', 'Cesar Romero', 'Patrice Wymore', 'Joey Bishop', 'Sammy Davis, Jr.', 'Henry Silva', 'Red Skelton', 'George Raft', 'Norman Fell', 'Buddy Lester', 'Akim Tamiroff', 'Shirley MacLaine', 'Ilka Chase', 'Murray Alper', 'Hoot Gibson', 'Allen Jenkins', 'George E. Stone', 'John George'], 'directors': ['Lewis Milestone'], 'screenwriters': ['Nelson Riddle'], 'music_composers': ['Harry Brown', 'Charles Lederer']},\n",
       " 'm_161': {'movie_id': 'm_161', 'title': \"Ocean's Eleven\", 'genres': ['Thriller', 'Crime'], 'production_countries': ['US'], 'collection_name': \"Ocean's Collection\", 'release_year': '2001', 'actors': ['George Clooney', 'Brad Pitt', 'Matt Damon', 'Andy García', 'Julia Roberts', 'Casey Affleck', 'Scott Caan', 'Carl Reiner', 'Bernie Mac', 'Elliott Gould', 'Eddie Jemison', 'Shaobo Qin', 'Scott L. Schwartz', 'Scott Beringer', 'Henry Silva', 'Holly Marie Combs', 'Steven Soderbergh', 'Kerry Rossall', 'Tim Perez', 'Rusty Meyers', 'Don Cheadle', 'Shane West', 'Joe La Due'], 'directors': ['Steven Soderbergh'], 'screenwriters': ['David Holmes'], 'music_composers': ['Ted Griffin']},\n",
       " 'm_4886': {'movie_id': 'm_4886', 'title': 'And Then There Were None', 'genres': ['Crime', 'Drama', 'Mystery'], 'production_countries': ['US'], 'collection_name': '', 'release_year': '1945', 'actors': ['Barry Fitzgerald', 'Walter Huston', 'Louis Hayward', 'Roland Young', 'June Duprez', 'Mischa Auer', 'C. Aubrey Smith', 'Judith Anderson', 'Richard Haydn', 'Queenie Leonard', 'Harry Thurston'], 'directors': ['René Clair'], 'screenwriters': ['Mario Castelnuovo-Tedesco'], 'music_composers': ['Dudley Nichols']},\n",
       " 'm_194': {'movie_id': 'm_194', 'title': \"Le fabuleux destin d'Amélie Poulain\", 'genres': ['Comedy', 'Romance'], 'production_countries': ['FR', 'DE'], 'collection_name': '', 'release_year': '2001', 'actors': ['Audrey Tautou', 'Mathieu Kassovitz', 'Rufus', 'Jamel Debbouze', 'Claire Maurier', 'Isabelle Nanty', 'Dominique Pinon', 'Artus de Penguern', 'Yolande Moreau', 'Lorella Cravotta', 'Serge Merlin', 'Clotilde Mollet', 'Urbain Cancelier', 'Maurice Bénichou', 'Michel Robin', 'Andrée Damant', 'Claude Perron', 'Armelle', 'Ticky Holgado', 'Marc Amyot', 'André Dussollier', 'Eugène Berthier', 'Charles-Roger Bour', 'Luc Palun', 'Fabienne Chaudat', 'Dominique Bettenfeld', 'Fabien Béhar', 'Jean-Pierre Becker', 'Jean Darie', 'Thierry Gibault', 'Franck Monier', 'Guillaume Viry', 'Valérie Zarrouk', 'Marie-Laure Descoureaux', 'Sophie Tellier', 'Gérald Weingand', 'François Viaur', 'Paule Daré', 'Jean Rupert', 'Frankie Pain', 'Philippe Paimblanc', 'Robert Gendreu', 'Christiane Bopp', 'Patrick Paroux', 'François Aubineau', 'Philippe Beautier', 'Régis Iacono', 'Franck-Olivier Bonnet', 'Alain Floret', 'Jean-Pol Brissart', 'Frédéric Mitterrand', 'Dean Baykan', 'Clément Chebli', 'Valérie Labro', 'Manoush'], 'directors': ['Jean-Pierre Jeunet'], 'screenwriters': ['Yann Tiersen'], 'music_composers': []},\n",
       " 'm_6440': {'movie_id': 'm_6440', 'title': 'The Shipping News', 'genres': ['Drama', 'Romance'], 'production_countries': ['US'], 'collection_name': '', 'release_year': '2001', 'actors': ['Kevin Spacey', 'Julianne Moore', 'Cate Blanchett', 'Judi Dench', 'Pete Postlethwaite', 'Scott Glenn', 'Rhys Ifans', 'Gordon Pinsent', 'Jason Behr', 'Katherine Moennig', 'Larry Pine', 'Jeannetta Arnette'], 'directors': ['Lasse Hallström'], 'screenwriters': ['Christopher Young'], 'music_composers': ['Robert Nelson Jacobs']},\n",
       " 'm_848': {'movie_id': 'm_848', 'title': 'Dragonslayer', 'genres': ['Fantasy'], 'production_countries': ['GB'], 'collection_name': '', 'release_year': '1981', 'actors': ['Peter MacNicol', 'Caitlin Clarke', 'Ralph Richardson', 'John Hallam', 'Peter Eyre', 'Albert Salmi', 'Sydney Bromley', 'Chloe Salaman', 'Emrys James', 'Roger Kemp', 'Ian McDiarmid', 'Ken Shorter', 'Yolande Palfrey', 'Douglas Cooper', 'Jason White'], 'directors': ['Matthew Robbins'], 'screenwriters': ['Alex North'], 'music_composers': ['Hal Barwood', 'Matthew Robbins']},\n",
       " 'm_150': {'movie_id': 'm_150', 'title': '48 Hrs.', 'genres': ['Thriller', 'Action', 'Comedy', 'Crime', 'Drama'], 'production_countries': ['US'], 'collection_name': '48 Hrs. Collection', 'release_year': '1982', 'actors': ['Nick Nolte', 'Eddie Murphy', \"Annette O'Toole\", 'Frank McRae', 'James Remar', 'David Patrick Kelly', 'Sonny Landham', 'Brion James', 'Kerry Sherman', 'Jonathan Banks', 'James Keane', 'Tara King', 'Greta Blackburn', 'Margot Rose', 'Denise Crosby', 'Olivia Brown', 'Todd Allen', 'Bill Dearth', 'Ned Dowd', 'Jim Haynie', 'Jack Thibeau', 'Jon St. Elwood', 'Clare Nono', 'Sandy Martin', 'Matt Landers', 'Peter Jason', 'Bill Cross', 'Chris Mulkey', 'Marcelino Sanchez', 'Bennie Dobbins', 'Walter Scott', 'W. T. Zacha', 'Loyd Catlett', 'B. G. Fisher', 'Reid Cruickshanks', 'R. D. Call', 'Brenda Venus', 'Gloria Gifford', 'Nick Dimitri', 'John Dennis Johnston', 'Rock A. Walker', 'Dave Moordigian', 'J. Wesley Huston', 'Gary Pettinger', 'Marquerita Wallace', 'Angela Robinson', 'Jack Lightsy', 'John Hauk', 'Bob Yanez', 'Clint Smith', 'Luis Contreras', 'Suzanne M. Regard', 'Ola Ray', 'Bjaye Turner', 'Begonya Plaza'], 'directors': ['Walter Hill'], 'screenwriters': ['James Horner'], 'music_composers': ['Jeb Stuart']},\n",
       " 'm_112': {'movie_id': 'm_112', 'title': 'Italiensk for begyndere', 'genres': ['Comedy', 'Drama', 'Romance'], 'production_countries': ['DK', 'SE'], 'collection_name': '', 'release_year': '2000', 'actors': ['Peter Gantzler', 'Sara Indrio Jensen', 'Ann Eleonora Jørgensen', 'Anders W. Berthelsen', 'Anette Støvelbæk', 'Lars Kaalund', 'Karen-Lise Mynster', 'Rikke Wölck', 'Bent Mejding', 'Elsebeth Steentoft', 'Lene Tiemroth', 'Claus Gerving', 'Jesper Christensen', 'Carlo Barsotti', 'Alex Nyborg Madsen', 'Steen Svare', 'Susanne Oldenburg', 'Martin Brygmann'], 'directors': ['Lone Scherfig'], 'screenwriters': ['Rune Palving'], 'music_composers': []},\n",
       " 'm_931': {'movie_id': 'm_931', 'title': \"Don't Look Now\", 'genres': ['Thriller', 'Drama', 'Horror'], 'production_countries': ['IT', 'GB'], 'collection_name': '', 'release_year': '1973', 'actors': ['Julie Christie', 'Donald Sutherland', 'Hilary Mason', 'Clelia Matania', 'Massimo Serato', 'Renato Scarpa', 'Leopoldo Trieste', 'Giorgio Trestini', 'David Tree', 'Ann Rye', 'Nicholas Salter', 'Sharon Williams', 'Bruno Cattaneo', 'Adelina Poerio'], 'directors': ['Nicolas Roeg'], 'screenwriters': ['Pino Donaggio'], 'music_composers': ['Chris Bryant', 'Allan Scott']},\n",
       " 'm_480': {'movie_id': 'm_480', 'title': 'Monsoon Wedding', 'genres': ['Comedy', 'Drama', 'Romance'], 'production_countries': ['IN'], 'collection_name': '', 'release_year': '2001', 'actors': ['Naseeruddin Shah', 'Lillete Dubey', 'Vijay Raaz', 'Tillotama Shome', 'Vasundhara Das', 'Parvin Dabas', 'Sameer Arya', 'Neha Dubey', 'Kemaya Kidwai', 'Ishaan Nair', 'Randeep Hooda', 'Soni Razdan', 'Roshan Seth', 'Shefali Shah'], 'directors': ['Mira Nair'], 'screenwriters': ['Mychael Danna'], 'music_composers': ['Sabrina Dhawan']},\n",
       " 'm_2135': {'movie_id': 'm_2135', 'title': 'The Time Machine', 'genres': ['Science Fiction', 'Adventure', 'Action'], 'production_countries': ['US'], 'collection_name': '', 'release_year': '2002', 'actors': ['Guy Pearce', 'Mark Addy', 'Phyllida Law', 'Sienna Guillory', 'Laura Kirk', 'Josh Stamberg', 'John W. Momrow', 'Max Baker', 'Jeffrey M. Meyer', 'Jeremy Irons', 'Alan Young', 'Myndy Crist', 'Connie Ray', 'Orlando Jones', 'Lennie Loftin', 'Thomas Corey Robinson', 'Samantha Mumba', 'Omero Mumba', 'Yancey Arias', 'Richard Cetrone', 'Edward Conna', 'Chris Sayour', 'Jeremy Fitzgerald', 'Dorian Kingi', 'Doug Jones', 'Chona Jason', 'Alex Madison'], 'directors': ['Simon Wells'], 'screenwriters': ['Klaus Badelt'], 'music_composers': ['John Logan']},\n",
       " 'm_965': {'movie_id': 'm_965', 'title': 'The Magnificent Ambersons', 'genres': ['Romance', 'Drama'], 'production_countries': ['US'], 'collection_name': '', 'release_year': '1942', 'actors': ['Joseph Cotten', 'Dolores Costello', 'Anne Baxter', 'Tim Holt', 'Agnes Moorehead', 'Ray Collins', 'Erskine Sanford', 'Richard Bennett', 'Orson Welles'], 'directors': ['Orson Welles'], 'screenwriters': ['Bernard Herrmann'], 'music_composers': ['Orson Welles']},\n",
       " 'm_3418': {'movie_id': 'm_3418', 'title': 'La Mort en direct', 'genres': ['Drama', 'Science Fiction'], 'production_countries': ['DE', 'FR'], 'collection_name': '', 'release_year': '1980', 'actors': ['Romy Schneider', 'Harvey Keitel', 'Harry Dean Stanton', 'Max von Sydow', 'Thérèse Liotard', 'Vadim Glowna', 'Eva Maria Meineke', 'William Russell', 'Robbie Coltrane', 'Bill Nighy'], 'directors': ['Bertrand Tavernier'], 'screenwriters': ['Antoine Duhamel'], 'music_composers': ['Bertrand Tavernier', 'David Rayfiel']},\n",
       " 'm_4499': {'movie_id': 'm_4499', 'title': 'Pepi, Luci, Bom y otras chicas del montón', 'genres': ['Comedy'], 'production_countries': ['ES'], 'collection_name': '', 'release_year': '1980', 'actors': ['Carmen Maura', 'Eva Siva', 'Olvido Gara', 'Félix Rotaeta', 'Kiti Mánver', 'Julieta Serrano', 'Concha Grégori', 'Cecilia Roth', 'Pedro Almodóvar', 'Fabio McNamara', 'Agustín Almodóvar', 'Cristina Sánchez Pascual'], 'directors': ['Pedro Almodóvar'], 'screenwriters': [], 'music_composers': ['Pedro Almodóvar']},\n",
       " 'm_1391': {'movie_id': 'm_1391', 'title': 'Y tu mamá también', 'genres': ['Drama', 'Romance'], 'production_countries': ['MX'], 'collection_name': '', 'release_year': '2001', 'actors': ['Gael García Bernal', 'Diego Luna', 'Maribel Verdú', 'Ana López Mercado', 'Diana Bracho', 'Verónica Langer', 'María Aura', 'Andrés Almeida', 'Emilio Echevarría', 'Nathan Grinberg', 'Giselle Audirac', 'Arturo Ríos', 'Marta Aura', 'Juan Carlos Remolina', 'Liboria Rodríguez', 'Silverio Palacios', 'Mayra Serbulo', 'Daniel Giménez Cacho', 'Amaury Sérbulo', 'Andrea López'], 'directors': ['Alfonso Cuarón'], 'screenwriters': [], 'music_composers': ['Alfonso Cuarón', 'Carlos Cuarón']},\n",
       " 'm_2371': {'movie_id': 'm_2371', 'title': 'Тегеран-43', 'genres': ['Action', 'Drama', 'Thriller'], 'production_countries': ['CH', 'ES', 'FR', 'RU'], 'collection_name': '', 'release_year': '1980', 'actors': ['Natalya Belokhvostikova', 'Curd Jürgens', 'Igor Kostolevskiy', 'Claude Jade', 'Georges Géret', 'Albert Filozov', 'Alain Delon', 'Nikolay Grinko', 'Gleb Strizhenov', 'Vsevolod Sanayev', 'Nartai Begalin', 'Mike Marshall', 'Jess Hahn', 'Evelyne Kraft', 'Natalia Naumowa', 'Armen Dzhigarkhanyan'], 'directors': ['Aleksandr Alov', 'Vladimir Naumov'], 'screenwriters': ['Georges Garvarentz'], 'music_composers': ['Aleksandr Alov', 'Vladimir Naumov', 'Mikhail Shatrov']},\n",
       " 'm_1537': {'movie_id': 'm_1537', 'title': 'Changing Lanes', 'genres': ['Action', 'Adventure', 'Crime', 'Thriller'], 'production_countries': ['US'], 'collection_name': '', 'release_year': '2002', 'actors': ['Ben Affleck', 'Samuel L. Jackson', 'Kim Staunton', 'Toni Collette', 'Sydney Pollack', 'Matt Malloy', 'William Hurt', 'John Benjamin Hickey', 'Amanda Peet', 'Michael Pitt', 'Myra Lucretia Taylor'], 'directors': ['Roger Michell'], 'screenwriters': ['David Arnold'], 'music_composers': ['Michael Tolkin', 'Chap Taylor']},\n",
       " 'm_441': {'movie_id': 'm_441', 'title': 'Human Nature', 'genres': ['Drama', 'Comedy'], 'production_countries': ['US'], 'collection_name': '', 'release_year': '2001', 'actors': ['Patricia Arquette', 'Tim Robbins', 'Rhys Ifans', 'Miranda Otto', 'Rosie Perez', 'Peter Dinklage', 'Hilary Duff', 'Bobby Pyle', 'Mary Kay Place', 'Robert Forster'], 'directors': ['Michel Gondry'], 'screenwriters': ['Graeme Revell'], 'music_composers': ['Charlie Kaufman']},\n",
       " 'm_2565': {'movie_id': 'm_2565', 'title': 'Joe Versus the Volcano', 'genres': ['Fantasy', 'Comedy', 'Science Fiction', 'Romance'], 'production_countries': ['US'], 'collection_name': '', 'release_year': '1990', 'actors': ['Tom Hanks', 'Meg Ryan', 'Lloyd Bridges', 'Dan Hedaya', 'Ossie Davis', 'Barry McGovern', 'Robert Stack', 'Amanda Plummer', 'Lala Sloatman', 'Abe Vigoda', 'Dan Hedaya', 'Nathan Lane', 'Carol Kane'], 'directors': ['John Patrick Shanley'], 'screenwriters': ['Georges Delerue', 'Peter Gordon'], 'music_composers': ['John Patrick Shanley']},\n",
       " 'm_307': {'movie_id': 'm_307', 'title': 'Roma città aperta', 'genres': ['Drama', 'History'], 'production_countries': ['IT'], 'collection_name': 'War Trilogy', 'release_year': '1945', 'actors': ['Aldo Fabrizi', 'Anna Magnani', 'Marcello Pagliero', 'Francesco Grandjacquet', 'Harry Feist', 'Maria Michi', 'Vito Annichiarico', 'Ákos Tolnay', 'Joop van Hulzen', 'Carla Rovere', 'Giovanna Galletti', 'Nando Bruno', 'Eduardo Passarelli', 'Carlo Sindici', 'Turi Pandolfini', 'Amalia Pellegrini', 'Alberto Tavazzi'], 'directors': ['Roberto Rossellini'], 'screenwriters': ['Renzo Rossellini'], 'music_composers': ['Roberto Rossellini', 'Sergio Amidei', 'Federico Fellini']},\n",
       " 'm_1282': {'movie_id': 'm_1282', 'title': 'Dogtown and Z-Boys', 'genres': ['Documentary'], 'production_countries': ['US'], 'collection_name': '', 'release_year': '2001', 'actors': ['Sean Penn', 'Jay Adams', 'Henry Rollins', 'Steve Caballero', 'Tony Hawk', 'Jeff Ament', 'Tony Alva', 'Jeff Ho', 'Jake Phelps'], 'directors': ['Stacy Peralta'], 'screenwriters': [], 'music_composers': ['Stacy Peralta', 'Craig Stecyk']},\n",
       " 'm_45186': {'movie_id': 'm_45186', 'title': 'Big Bad Mama', 'genres': ['Action', 'Comedy', 'Crime', 'Drama'], 'production_countries': ['US'], 'collection_name': '', 'release_year': '1974', 'actors': ['Angie Dickinson', 'Tom Skerritt', 'William Shatner', 'Susan Sennett', 'Robbie Lee', 'Noble Willingham', 'Dick Miller', 'Tom Signorelli', 'Joan Prather', 'Royal Dano', \"William O'Connell\", 'John Wheeler', 'Ralph Jameson', 'Sally Kirkland'], 'directors': ['Steve Carver'], 'screenwriters': [], 'music_composers': ['Frances Doel', 'William W. Norton']},\n",
       " 'm_1894': {'movie_id': 'm_1894', 'title': 'Star Wars: Episode II - Attack of the Clones', 'genres': ['Adventure', 'Action', 'Science Fiction'], 'production_countries': ['US'], 'collection_name': 'Star Wars Collection', 'release_year': '2002', 'actors': ['Ewan McGregor', 'Natalie Portman', 'Hayden Christensen', 'Ian McDiarmid', 'Samuel L. Jackson', 'Christopher Lee', 'Anthony Daniels', 'Kenny Baker', 'Frank Oz', 'Ahmed Best', 'Pernilla August', 'Oliver Ford Davies', 'Andrew Secombe', 'Silas Carson', 'Alethea McGrath', 'Temuera Morrison', 'Jimmy Smits', \"Jay Laga'aia\", 'Daniel Logan', 'Leeanna Walsman', 'Jack Thompson', 'Joel Edgerton', 'Bonnie Piesse', 'Ayesha Dharker', 'Rose Byrne', 'Veronica Segura', 'Matt Doran', 'Alan Ruscoe', 'Ron Falk', 'Anthony Phelan', 'Rena Owen', 'Susie Porter', 'Matt Sloan', 'David Bowers', 'Steve John Shepherd', 'Bodie Taylor', 'Matt Rowan', 'Steven Boyle', 'Zachariah Jensen', 'Alex Knoll', 'Phoebe Yiamkiati', 'Marton Csokas'], 'directors': ['George Lucas'], 'screenwriters': ['John Williams'], 'music_composers': ['Jonathan Hales', 'George Lucas']},\n",
       " 'm_1957': {'movie_id': 'm_1957', 'title': 'Enough', 'genres': ['Drama', 'Thriller'], 'production_countries': ['US'], 'collection_name': '', 'release_year': '2002', 'actors': ['Jennifer Lopez', 'Billy Campbell', 'Juliette Lewis', 'Dan Futterman', 'Fred Ward', 'Bill Cobbs', 'Jeff Kober', 'Bruce A. Young', 'Tessa Allen', 'Christopher Maher', 'Janet Carroll', 'Noah Wyle', 'Bruce French', 'Dan Martin', 'Brent Sexton', 'Sandra Nelson', 'Lynne Marie Stewart', 'Margaret Emery', 'Victor McCay', 'Nikki Bokal', \"John O'Brien\", 'Louisa Abernathy', 'Kerri Higuchi', 'Fern Ward', 'James Noah'], 'directors': ['Michael Apted'], 'screenwriters': [], 'music_composers': []},\n",
       " 'm_2501': {'movie_id': 'm_2501', 'title': 'The Bourne Identity', 'genres': ['Action', 'Drama', 'Mystery', 'Thriller'], 'production_countries': ['US', 'DE', 'CZ'], 'collection_name': 'The Bourne Collection', 'release_year': '2002', 'actors': ['Matt Damon', 'Franka Potente', 'Chris Cooper', 'Clive Owen', 'Brian Cox', 'Adewale Akinnuoye-Agbaje', 'Gabriel Mann', 'Walton Goggins', 'Josh Hamilton', 'Julia Stiles', 'Orso Maria Guerrini', 'Tim Dutton', 'Denis Braccini', 'Nicky Naude', 'David Selburg', 'Demetri Goritsas', 'Russell Levy', 'Anthony Green', 'Hubert Saint-Macary', 'David Bamber', 'Gwenael Clause', 'Emanuel Booz', 'Philippe Durand', 'Vincent Franklin', 'Paulette Frantz', 'Thierry René', 'Roger Frost', 'David Gasman', 'Harry Gilbert', 'Delphine Lanson', 'William Cagnard', 'Kait Tenison', 'Joseph Beddelin', 'Rainer Werner', 'Katie Thynne', 'Aaron Lilly', 'Ronald Benefield', 'Bradley J. Goode', 'Troy Lenhardt', 'Joshua McNew', 'Joe Montana', 'John Pawlikowski', 'Michael Rix', 'Brad Rizer', 'Andrew Webster', 'Houston Williams', 'Alain Grellier', 'Arnaud Henriet', 'Jean-Yves Bilien', 'Danny Erskine', \"Elwin 'Chopper' David\"], 'directors': ['Doug Liman'], 'screenwriters': ['John Powell'], 'music_composers': ['Tony Gilroy', 'W. Blake Herron']},\n",
       " 'm_4993': {'movie_id': 'm_4993', 'title': '5 Card Stud', 'genres': ['Action', 'Western', 'Thriller'], 'production_countries': ['US'], 'collection_name': '', 'release_year': '1968', 'actors': ['Dean Martin', 'Robert Mitchum', 'Inger Stevens', 'Roddy McDowall', 'Katherine Justice', 'John Anderson', 'Ruth Springford', 'Yaphet Kotto', 'Denver Pyle', 'Bill Fletcher', 'Whit Bissell', 'Ted de Corsia', 'Don Collier', 'Roy Jenson'], 'directors': ['Henry Hathaway'], 'screenwriters': ['Maurice Jarre'], 'music_composers': ['Marguerite Roberts']},\n",
       " 'm_180': {'movie_id': 'm_180', 'title': 'Minority Report', 'genres': ['Action', 'Thriller', 'Science Fiction', 'Mystery'], 'production_countries': ['US'], 'collection_name': '', 'release_year': '2002', 'actors': ['Tom Cruise', 'Colin Farrell', 'Samantha Morton', 'Max von Sydow', 'Lois Smith', 'Peter Stormare', 'Tim Blake Nelson', 'Steve Harris', 'Kathryn Morris', 'Mike Binder', 'Daniel London', 'Neal McDonough', 'Jessica Capshaw', 'Patrick Kilpatrick', 'Jessica Harper', 'Ashley Crow', 'Arye Gross', 'Fiona Hale', 'George Wallace', 'Frank Grillo', 'Cameron Diaz', 'William Mapother', 'Jason Antoon'], 'directors': ['Steven Spielberg'], 'screenwriters': ['John Williams', 'Paul Haslinger'], 'music_composers': ['Scott Frank', 'Jon Cohen']},\n",
       " 'm_2022': {'movie_id': 'm_2022', 'title': 'Mr. Deeds', 'genres': ['Comedy', 'Romance'], 'production_countries': ['US'], 'collection_name': '', 'release_year': '2002', 'actors': ['Adam Sandler', 'Winona Ryder', 'John Turturro', 'Allen Covert', 'Peter Gallagher', 'Erick Avari', 'Jared Harris', 'Steve Buscemi', 'Conchata Ferrell', 'Peter Dante', 'Harve Presnell', 'Brandon Molale', 'John McEnroe'], 'directors': ['Steven Brill'], 'screenwriters': ['Teddy Castellucci'], 'music_composers': ['Tim Herlihy']},\n",
       " 'm_608': {'movie_id': 'm_608', 'title': 'Men in Black II', 'genres': ['Action', 'Adventure', 'Comedy', 'Science Fiction'], 'production_countries': ['US'], 'collection_name': 'Men In Black Collection', 'release_year': '2002', 'actors': ['Tommy Lee Jones', 'Will Smith', 'Rip Torn', 'Lara Flynn Boyle', 'Johnny Knoxville', 'Rosario Dawson', 'Tony Shalhoub', 'Patrick Warburton', 'Jack Kehler', 'David Cross', 'Colombe Jacobsen-Derstine', 'Peter Spellos', 'Michael Bailey Smith', 'Rick Baker', 'Michael Jackson', 'Doug Jones', 'Derek Mears', 'Michael Rivkin', 'Lenny Venito', 'Howard Spiegel', 'Alpheus Merchant', 'Joel McKinnon Miller', 'Jay Johnston'], 'directors': ['Barry Sonnenfeld'], 'screenwriters': ['Danny Elfman'], 'music_composers': ['Barry Fanaro', 'Robert Gordon']},\n",
       " 'm_59387': {'movie_id': 'm_59387', 'title': 'The Powerpuff Girls Movie', 'genres': ['Animation', 'Action', 'Family'], 'production_countries': ['US'], 'collection_name': '', 'release_year': '2002', 'actors': ['Cathy Cavadini', 'Tara Strong', 'E.G. Daily', 'Tom Kane', 'Tom Kenny', 'Roger L. Jackson', 'Jennifer Hale', 'Grey Griffin'], 'directors': ['Craig McCracken'], 'screenwriters': ['James L. Venable'], 'music_composers': ['Craig McCracken', 'Charlie Bean', 'Paul Rudish', 'Lauren Faust', 'Don Shank']},\n",
       " 'm_8665': {'movie_id': 'm_8665', 'title': 'K-19: The Widowmaker', 'genres': ['Drama', 'History', 'Thriller'], 'production_countries': ['CA', 'DE', 'GB', 'US'], 'collection_name': '', 'release_year': '2002', 'actors': ['Harrison Ford', 'Liam Neeson', 'Peter Sarsgaard', 'Joss Ackland', 'John Shrapnel', 'Donald Sumpter', 'Tim Woodward', 'Steve Nicolson', 'George Anton', 'James Francis Ginty', 'Lex Shrapnel', 'Ingvar Eggert Sigurðsson', 'Sam Spruell', 'Sam Redford', 'Peter Stebbings', 'Roman Podhora', 'Shaun Benson', 'Dmitry Chepovetsky', 'Christopher Redman', 'Tygh Runyan', 'Peter Graham', 'Shawn Mathieson', 'Jacob Pitts', 'Christopher Routh', 'Lubomir Mykytiuk', 'Michael Gladis', 'Christian Camargo', 'Ravil Isyanov', 'Kristen Holden-Ried'], 'directors': ['Kathryn Bigelow'], 'screenwriters': [], 'music_composers': ['Christopher Kyle']},\n",
       " 'm_818': {'movie_id': 'm_818', 'title': 'Austin Powers in Goldmember', 'genres': ['Comedy', 'Crime', 'Science Fiction'], 'production_countries': ['US'], 'collection_name': 'Austin Powers Collection', 'release_year': '2002', 'actors': ['Mike Myers', 'Beyoncé Knowles', 'Seth Green', 'Michael York', 'Mindy Sterling', 'Verne Troyer', 'Michael Caine', 'Fred Savage', 'Diane Mizota', 'Carrie Ann Inaba', 'Nobu Matsuhisa', 'Robert Wagner', 'Anna Marie Goddard', 'Aaron Himelstein', 'Josh Zuckerman', 'Evan Farmer', 'Tom Lister Jr.', 'Nichole Hiltz', 'Gwyneth Paltrow', 'Angela Meryl', 'Scott Aukerman', 'John Travolta', 'Danny DeVito', 'Kevin Spacey', 'Tom Cruise', 'Eddie Adams', 'Neil Mullarkey', 'Eric Winzenried', 'Jim Piddock', 'Esther Scott', 'Leyna Nguyen', 'Jeannette Charles', 'Brian Tee', 'Masi Oka', 'Kevin Cooney', 'Clint Howard', 'Michael McDonald', \"Donna D'Errico\", 'Fred Stoller', 'Brad Grunberg', 'Greg Grunberg', 'Ren Urano', 'Kinga Philipps', 'John Donovan', 'Masa Kanome', 'Hideo Kimura', 'Hiroshi Otaguro', 'Kevin Alexander Stea', 'Linda Kim', 'Nina Kaczorowski', 'Tammy Vanderpool', 'Nikki Ziering', 'Sybil Azur', 'Nicole Humphries', 'Patrice Fisher', 'Timothy Anderson', 'Faune A. Chambers', 'Kelly Cooper', 'R.J. Durell', 'Shaun Earl', 'Michelle Elkin', 'Jennifer Hamilton', 'Hunter Hamilton', 'Michael Higgins', 'Mark Meismer', 'Mandy Moore', 'Ayesha Orange', 'Nathan Prevost', 'Liz Ramos', 'Shealan Spencer', 'Becca Sweitzer', 'Salvatore Vassallo', 'Robert Vinson', 'Amie Barsky', 'Lina Chmiel', 'Sharon Ferguson', 'Trey Knight', 'Brian Richardson', 'Kimberlee Suerth', 'Lakisha Swift', 'Nathan Lane', 'Katie Couric', 'Rob Lowe', 'Ryan Allen Carrillo', 'Michael Chaturantabut', 'Gabriel Corbin', 'Devyn Duex', 'Christy McGinity Gibel', 'Paul Grace', 'Ben Hisoler', 'Will Holman', 'Eiji Inoue', 'Jimmy Jatho', 'Kristen Johnston', 'Charles M. Kerper', 'Martin Klebba', 'Carolina Lancaster', 'Ryan McGonagle', 'Kinsey McLean', 'Marylee Picciano', 'Gene Anthony Ray', 'Tara Rice', 'Nicole Sciacca', 'Matt Sergott', 'Sonny Sison ', 'Michael Sun Lee', 'Chris Sung', 'Andreanna Veith', 'Kevin Vila', 'Dan Warner', 'Shane Zeranski', 'Ozzy Osbourne', 'Steven Spielberg', 'Britney Spears'], 'directors': ['Jay Roach'], 'screenwriters': ['George S. Clinton'], 'music_composers': ['Mike Myers', 'Michael McCullers']},\n",
       " 'm_7451': {'movie_id': 'm_7451', 'title': 'xXx', 'genres': ['Action', 'Adventure', 'Thriller'], 'production_countries': ['US'], 'collection_name': 'xXx Collection', 'release_year': '2002', 'actors': ['Vin Diesel', 'Asia Argento', 'Samuel L. Jackson', 'Danny Trejo', 'Leila Arcieri', 'Marton Csokas', 'Michael Roof', 'Richy Müller', 'Werner Daehn', 'Jan Pavel Filipensky', 'Tom Everett', 'Thomas Ian Griffith', 'Eve', 'Joe Bucaro III', 'Chris Gann', 'Martin Hub', 'Petr Jákl ml.', 'William Hope', 'Ted Maynard', 'David Asman'], 'directors': ['Rob Cohen'], 'screenwriters': ['Randy Edelman'], 'music_composers': ['Rich Wilkes']},\n",
       " 'm_2750': {'movie_id': 'm_2750', 'title': '24 Hour Party People', 'genres': ['Comedy', 'Drama'], 'production_countries': ['GB'], 'collection_name': '', 'release_year': '2002', 'actors': ['Steve Coogan', 'Paddy Considine', 'Sean Harris', 'Lennie James', 'Shirley Henderson', 'Andy Serkis', 'John Simm', 'Ralf Little', 'Danny Cunningham', 'Peter Kay', 'John Thomson', 'Kate Magowan', 'Martin Hancock', 'Dave Gorman', 'Enzo Cilenti', 'Tony Wilson', 'Simon Pegg', 'Rob Brydon', 'Chris Coghill', \"Kieran O'Brien\", 'Keith Allen', 'Paul Popplewell', 'Rowetta', 'Ron Cook', 'Raymond Waring', 'Christopher Eccleston', 'Smug Roberts', 'Clint Boon', 'Terri Seymour', 'Naomi Radcliffe', 'Mark E. Smith', 'Howard DeVoto', 'Nigel Pivaro', 'Margi Clarke', 'Peter Gunn', 'Kenny Baker', 'Neil Bell', 'Fiona Allen', 'Paul Ryder', 'Tim Horrocks', 'Collette Cooper', 'Tracy Cunliffe', 'Elizabeth Kelly', 'Darren Tighe', 'Mike Pickering', 'Anna Tyborczyk', 'Sean Cernow', 'Toby Salaman', 'Martin Coogan', 'Helen Schlesinger', 'Daniel Lestuzzi'], 'directors': ['Michael Winterbottom'], 'screenwriters': [], 'music_composers': ['Frank Cottrell Boyce']},\n",
       " 'm_233': {'movie_id': 'm_233', 'title': 'The Wanderers', 'genres': ['Drama'], 'production_countries': ['US'], 'collection_name': '', 'release_year': '1979', 'actors': ['Ken Wahl', 'John Friedrich', 'Karen Allen', 'Toni Kalem', 'Alan Rosenberg', 'Jim Youngs', 'Tony Ganios', 'Linda Manz', 'William Andrews', 'Erland van Lidth', 'Val Avery', 'Dolph Sweet', 'Michael Wright', 'Burtt Harris', 'Samm-Art Williams', 'Dion Albanese', 'Olympia Dukakis', 'George Merolle', 'Terri Perri'], 'directors': ['Philip Kaufman'], 'screenwriters': [], 'music_composers': []},\n",
       " 'm_575': {'movie_id': 'm_575', 'title': 'Das Experiment', 'genres': ['Drama', 'Thriller'], 'production_countries': ['DE'], 'collection_name': '', 'release_year': '2001', 'actors': ['Moritz Bleibtreu', 'Christian Berkel', 'Oliver Stokowski', 'Wotan Wilke Möhring', 'Stephan Szasz', 'Polat Dal', 'Danny Richter', 'Ralf Müller', 'Markus Rudolf', 'Peter Fieseler', 'Thorsten Dersch', 'Sven Grefer', 'Justus von Dohnányi', 'Nicki von Tempelhoff', 'Timo Dierkes', 'Antoine Monot Jr.', 'Lars Gärtner', 'Jacek Klimontko', 'Markus Klauk', 'Ralph Püttmann', 'Edgar Selge', 'Andrea Sawatzki', 'Philipp Hochmair', 'Tristan Vostry', 'Maren Eggert', 'André Jung', 'Uwe Rohde', 'Heiner Lauterbach', 'Fatih Akin', 'Christiane Gerboth', 'Klaus Spinnler'], 'directors': ['Oliver Hirschbiegel'], 'screenwriters': ['Alexander Bubenheim'], 'music_composers': ['Don Bohlinger', 'Christoph Darnstädt']},\n",
       " 'm_1958': {'movie_id': 'm_1958', 'title': '8 femmes', 'genres': ['Comedy', 'Thriller', 'Music', 'Crime', 'Mystery'], 'production_countries': ['FR', 'IT'], 'collection_name': '', 'release_year': '2002', 'actors': ['Catherine Deneuve', 'Isabelle Huppert', 'Emmanuelle Béart', 'Fanny Ardant', 'Virginie Ledoyen', 'Ludivine Sagnier', 'Firmine Richard', 'Danielle Darrieux', 'Dominique Lamure'], 'directors': ['François Ozon'], 'screenwriters': [], 'music_composers': ['François Ozon']},\n",
       " 'm_2110': {'movie_id': 'm_2110', 'title': 'Wasabi', 'genres': ['Drama', 'Action', 'Comedy'], 'production_countries': ['JP', 'FR'], 'collection_name': '', 'release_year': '2001', 'actors': ['Jean Reno', 'Ryoko Hirosue', 'Michel Muller', 'Carole Bouquet', 'Yoshi Oida', 'Christian Sinniger', 'Alexandre Brik', 'Jean-Marc Montalto', 'Véronique Balme', 'Fabio Zenoni', 'Kiyohiko Shibukawa', 'Dorothée Brière', 'Haruhiko Hirata', 'Michel Scourneau', 'Jacques Bondoux', 'Osamu Tsuruya', 'Akihiro Nishida', 'Anthony Decadi', 'Yan Epstein', 'Ludovic Berthillot', 'Elodie Frenck', 'Stefan Nelet', 'Karine Stoffer', 'Yuki Sakai', 'Massaro Nagahishi', 'Makiko Kishi', 'Kinshiro Oyama', 'Hiroko Maki', 'Tomo Fukui'], 'directors': ['Gérard Krawczyk'], 'screenwriters': ['Eric Serra', 'Julien Schultheis'], 'music_composers': ['Luc Besson']},\n",
       " 'm_1682': {'movie_id': 'm_1682', 'title': 'Mosura tai Gojira', 'genres': ['Fantasy', 'Science Fiction', 'Action', 'Adventure'], 'production_countries': ['JP'], 'collection_name': 'Godzilla (Showa) Collection', 'release_year': '1964', 'actors': ['Akira Takarada', 'Yuriko Hoshi', 'Hiroshi Koizumi', 'Yû Fujiki', 'Emi Ito', 'Yûmi Ito', 'Yoshifumi Tajima', 'Kenji Sahara', 'Jun Tazaki', 'Kenzô Tabu', 'Yutaka Sada', 'Akira Tani', 'Susumu Fujita', 'Ikio Sawamura', 'Ren Yamamoto', 'Yoshio Kosugi', 'Kôzô Nomura', 'Yasuhisa Tsutsumi', 'Shin Ôtomo', 'Senkichi Ômura', 'Miki Yashiro', 'Wataru Ômae', 'Kôji Uno', 'Yutaka Nakayama', 'Toshihiko Furuta', 'Hideo Shibuya', 'Tadashi Okabe', 'Seishirô Kuno', 'Katsumi Tezuka', 'Haruo Nakajima', 'Harold Conway'], 'directors': ['Ishirô Honda'], 'screenwriters': ['Akira Ifukube'], 'music_composers': []},\n",
       " 'm_40815': {'movie_id': 'm_40815', 'title': 'Le Bossu', 'genres': ['Drama', 'Adventure'], 'production_countries': ['IT', 'FR'], 'collection_name': '', 'release_year': '1997', 'actors': ['Daniel Auteuil', 'Vincent Pérez', 'Marie Gillain', 'Claire Nebout', 'Fabrice Luchini', 'Jean-François Stévenin', 'Yann Collette'], 'directors': ['Philippe de Broca'], 'screenwriters': [], 'music_composers': []},\n",
       " 'm_225': {'movie_id': 'm_225', 'title': 'Czlowiek z zelaza', 'genres': ['Drama', 'History'], 'production_countries': ['PL'], 'collection_name': 'Man of Marble/Iron Collection', 'release_year': '1981', 'actors': ['Jerzy Radziwiłowicz', 'Krystyna Janda', 'Marian Opania', 'Irena Byrska', 'Wiesława Kosmalska', 'Franciszek Trzeciak', 'Andrzej Seweryn', 'Marek Kondrat', 'Jerzy Trela', 'Maja Komorowska', 'Krystyna Zachwatowicz', 'Janusz Zaorski', 'Wojciech Alaborski', 'Tatiana Sosna Sarno', 'Bogusław Linda'], 'directors': ['Andrzej Wajda'], 'screenwriters': [], 'music_composers': []},\n",
       " 'm_265': {'movie_id': 'm_265', 'title': 'Lili Marleen', 'genres': ['War', 'Drama', 'Romance'], 'production_countries': ['DE'], 'collection_name': '', 'release_year': '1981', 'actors': ['Hanna Schygulla', 'Giancarlo Giannini', 'Christine Kaufmann', 'Hark Bohm', 'Karl-Heinz von Hassel', 'Erik Schumann', 'Mel Ferrer', 'Gottfried John', 'Udo Kier', 'Willy Harlander', 'Raúl Gimenez', 'Karin Baal', 'Adrian Hoven', 'Barbara Valentin', 'Helen Vita', 'Elisabeth Volkmann', 'Lilo Pempeit', 'Brigitte Mira', 'Rudolf Lenz', 'Irm Hermann'], 'directors': ['Rainer Werner Fassbinder'], 'screenwriters': ['Peer Raben'], 'music_composers': []},\n",
       " 'm_1672': {'movie_id': 'm_1672', 'title': 'Le Professionnel', 'genres': ['Action', 'Adventure', 'Thriller'], 'production_countries': ['FR'], 'collection_name': '', 'release_year': '1981', 'actors': ['Jean-Paul Belmondo', 'Robert Hossein', 'Elisabeth Margoni', 'Jean-Louis Richard', 'Jean Desailly', 'Michel Beaune', 'Cyrielle Clair', 'Pierre Vernier', 'Marie-Christine Descouard', 'Bernard-Pierre Donnadieu', 'Pierre Saintons', 'Gérard Darrieu', 'Sidiki Bakaba', 'Dany Kogan', 'Marc Lamole', 'Jacques Canselier', 'Bernard Marcellin', 'Jean-Claude Bouillaud', 'Claude-Bernard Perot', 'Yves Pignot', 'Cheik Doukouré', 'Serge Nubret', 'Guillaume Corea', 'André Weber', \"Pascal N'Zonzi\"], 'directors': ['Georges Lautner'], 'screenwriters': ['Ennio Morricone'], 'music_composers': ['Michel Audiard', 'Georges Lautner']},\n",
       " 'm_65': {'movie_id': 'm_65', 'title': '8 Mile', 'genres': ['Drama'], 'production_countries': ['US'], 'collection_name': '', 'release_year': '2002', 'actors': ['Eminem', 'Mekhi Phifer', 'Brittany Murphy', 'Kim Basinger', 'Michael Shannon', 'Taryn Manning', 'Anthony Mackie', \"De'Angelo Wilson\", 'Evan Jones', 'Omar Benson Miller', 'Eugene Byrd', 'Mike Bell', 'Xzibit', 'Proof', 'Strike', \"Nashawn 'Ox' Breedlove\", 'Miz-Korona', 'Craig Chandler', 'Larry Hudson'], 'directors': ['Curtis Hanson'], 'screenwriters': [], 'music_composers': []},\n",
       " 'm_542': {'movie_id': 'm_542', 'title': 'El Crimen del Padre Amaro', 'genres': ['Drama', 'Romance'], 'production_countries': ['MX'], 'collection_name': '', 'release_year': '2002', 'actors': ['Gael García Bernal', 'Ana Claudia Talancón', 'Sancho Gracia', 'Angélica Aragón', 'Ernesto Gómez Cruz', 'Gastón Melo', 'Damián Alcázar', 'Andrés Montiel', 'Pedro Armendáriz Jr.', 'Blanca Loaria', 'Juan Ignacio Aranda', 'Verónica Langer', 'Jorge Zárate', 'Lorenzo de Rodas', 'Roger Nevares'], 'directors': ['Carlos Carrera'], 'screenwriters': ['Rosino Serrano'], 'music_composers': ['Vicente Leñero']},\n",
       " 'm_53000': {'movie_id': 'm_53000', 'title': 'Soul Assassin', 'genres': ['Action', 'Mystery', 'Thriller'], 'production_countries': ['NL'], 'collection_name': '', 'release_year': '2001', 'actors': ['Skeet Ulrich', 'Kristy Swanson', 'Derek de Lint', 'Rena Owen', 'Antonie Kamerling', 'Serge-Henri Valcke', 'Nicholas Irons'], 'directors': ['Laurence Malkin'], 'screenwriters': [], 'music_composers': []},\n",
       " 'm_1377': {'movie_id': 'm_1377', 'title': 'Houseboat', 'genres': ['Comedy', 'Drama', 'Family', 'Romance'], 'production_countries': ['US'], 'collection_name': '', 'release_year': '1958', 'actors': ['Cary Grant', 'Sophia Loren', 'Martha Hyer', 'Harry Guardino', 'Eduardo Ciannelli', 'Murray Hamilton', 'Mimi Gibson', 'Paul Petersen', 'Charles Herbert', 'Werner Klemperer', 'Madge Kennedy', 'John Litel', 'Bess Flowers', 'Barbara Steele', 'Kathleen Freeman'], 'directors': ['Melville Shavelson'], 'screenwriters': ['George Duning'], 'music_composers': ['Betsy Drake']},\n",
       " 'm_2528': {'movie_id': 'm_2528', 'title': 'Madame Bovary', 'genres': ['Drama', 'Foreign', 'Romance'], 'production_countries': ['FR'], 'collection_name': '', 'release_year': '1991', 'actors': ['Isabelle Huppert', 'Jean-François Balmer', 'Christophe Malavoy', 'Jean Yanne', 'Lucas Belvaux', 'Christiane Minazzoli', 'Jean-Louis Maury'], 'directors': ['Claude Chabrol'], 'screenwriters': ['Matthieu Chabrol'], 'music_composers': ['Claude Chabrol']},\n",
       " 'm_1429': {'movie_id': 'm_1429', 'title': '25th Hour', 'genres': ['Crime', 'Drama'], 'production_countries': ['US'], 'collection_name': '', 'release_year': '2002', 'actors': ['Edward Norton', 'Philip Seymour Hoffman', 'Barry Pepper', 'Rosario Dawson', 'Anna Paquin', 'Brian Cox', 'Tony Siragusa', 'Levan Uchaneishvili', 'Misha Kuznetsov', 'Isiah Whitlock Jr.', 'Michael Genet', \"Patrice O'Neal\", 'Al Palagonia', 'Aaron Stanford', 'Dania Ramirez', 'Larissa Drekonja', 'Michole Briana White', 'Tony Devon'], 'directors': ['Spike Lee'], 'screenwriters': ['Terence Blanchard'], 'music_composers': ['David Benioff']},\n",
       " 'm_2642': {'movie_id': 'm_2642', 'title': 'Two Weeks Notice', 'genres': ['Comedy', 'Romance'], 'production_countries': ['AU', 'US'], 'collection_name': '', 'release_year': '2002', 'actors': ['Sandra Bullock', 'Hugh Grant', 'Alicia Witt', 'Dana Ivey', 'Robert Klein', 'Heather Burns', 'David Haig', 'Dorian Missick', 'Veanne Cox', 'Janine LaManna', 'Iraida Polanco', 'Charlotte Maier', 'Katheryn Winnick', 'Tim Kang', 'Wynter Kullman', 'Jason Antoon', 'Francie Swift', 'Mandy Siegfried', 'Mark Zeisler', 'Rocco Musacchia', 'Jonathan Dokuchitz', 'Joseph Badalucco Jr.', 'Libby West', 'Sharon Wilkins', 'Shannon Fiedler', 'Donald Trump'], 'directors': ['Marc Lawrence'], 'screenwriters': ['John Powell'], 'music_composers': ['Marc Lawrence']},\n",
       " 'm_640': {'movie_id': 'm_640', 'title': 'Catch Me If You Can', 'genres': ['Drama', 'Crime'], 'production_countries': ['US'], 'collection_name': '', 'release_year': '2002', 'actors': ['Leonardo DiCaprio', 'Tom Hanks', 'Christopher Walken', 'Martin Sheen', 'Nathalie Baye', 'Amy Adams', 'James Brolin', 'Brian Howe', 'Frank John Hughes', 'Steve Eastin', 'Chris Ellis', 'John Finn', 'Jennifer Garner', 'Nancy Lenehan', 'Ellen Pompeo', 'Elizabeth Banks', 'Guy Thauvette', 'Candice Azzara', 'Matthew Kimbrough', 'Joshua Boyd', 'Kaitlin Doubleday', 'Kelly McNair', 'Jonathan Dankner', 'Maggie Mellin', 'Thomas Kopache', 'Margaret Travolta', 'Jimmie F. Skaggs', 'Alex Hyde-White', 'Lilyan Chauvin', 'Eugene Fleming', 'Robert Ruth', 'Jennifer Manley', 'James Morrison', 'Robert Symonds', 'Jennifer Kan', 'Robert Curtis Brown', 'Kelly Hutchinson', 'Steve Witting', 'Wendy Worthington', 'Jane Bodle', 'J. Patrick McCormack', 'Brian Goodman', 'Ray Proscia', 'Sarah Lancaster', 'Jill Matson', 'Mike Baldridge', 'Joel Ewing', 'Ritchie Montgomery', 'Jim Antonio', 'Angela Sorensen', 'Jonathan Brent', 'Benita Krista Nall', 'Shane Edelman', 'Andrew Meeks', 'Morgan Rusler', 'Jane Edith Wilson', 'Dave Hager', 'Kyle Davis', \"Patrick Thomas O'Brien\", 'Jaime Ray Newman', 'Deborah Kellner', 'Mercedes Cornett', 'Amy Acker', 'Robert Peters', 'James DuMont', 'Thomas Crawford', 'Sarah Rush', 'Malachi Throne', 'Alfred Dennis', 'Max Kerstein', 'Donna Kimball', 'Jan Munroe', 'Stephen Dunham', 'Brandon Keener', 'Jasmine Jessica Anthony', 'Anthony Powers', 'Lauren Cohn', 'Jeremy Howard', 'Jack Knight', 'Jamie Anderson', 'Kam Heskin', 'Ana Maria Quintana', 'Gerald R. Molen', 'Celine du Tertre', 'Stan Bly', 'Jamie Moss', 'Jessica Collins', 'Frank Abagnale Jr.', 'Roger Léger', 'Jean-François Blanchard', 'Mathieu Gaudreault', 'Guy-Daniel Tremblay', 'Alexander Bisping', 'Patrice Dussault ', 'Paul Todd', 'Jake Wagner', 'Ashley Cohen', 'Kelly Cohen', 'Ellis Hall', 'Steven Meizler', 'Fred Datig', 'Joe Garagiola, Sr.', 'Kitty Carlisle', 'Dominic Bond', 'Jean-François Brousseau', 'Francis Campeau', 'Raphaël Cardin', 'Marc-Antoine Côté', 'Antoine Drolet-Dumoulin', 'Léon Dussault-Gagné', 'Simon Houle-Gauthier', 'Vincent Généreux', 'Sébastien Jean', 'Pascal Larouche', 'William Lauzon', 'Florent Legault', 'Jason McNally', 'Julien Normandeau', 'David Parent-Laliberté', 'Alexandre Pepin', 'Nicolas Radeschi', 'Jonathan René', 'Samuel St-Amour'], 'directors': ['Steven Spielberg'], 'screenwriters': [], 'music_composers': ['Jeff Nathanson']},\n",
       " 'm_590': {'movie_id': 'm_590', 'title': 'The Hours', 'genres': ['Drama'], 'production_countries': ['US'], 'collection_name': '', 'release_year': '2002', 'actors': ['Nicole Kidman', 'Julianne Moore', 'Meryl Streep', 'Stephen Dillane', 'Miranda Richardson', 'George Loftus', 'Charley Ramm', 'Sophie Wyburd', 'Lyndsey Marshal', 'Linda Bassett', 'Christian Coulson', 'Michael Culkin', 'John C. Reilly', 'Toni Collette', 'Ed Harris', 'Allison Janney', 'Claire Danes', 'Jeff Daniels', 'Jack Rovello'], 'directors': ['Stephen Daldry'], 'screenwriters': ['Philip Glass'], 'music_composers': ['David Hare']},\n",
       " 'm_423': {'movie_id': 'm_423', 'title': 'The Pianist', 'genres': ['Drama', 'War'], 'production_countries': ['FR', 'DE', 'PL', 'GB'], 'collection_name': '', 'release_year': '2002', 'actors': ['Adrien Brody', 'Thomas Kretschmann', 'Frank Finlay', 'Maureen Lipman', 'Emilia Fox', 'Ed Stoppard', 'Julia Rayner', 'Jessica Kate Meyer', 'Michal Zebrowski', 'Wanja Mues', 'Richard Ridings', 'Nomi Sharron', 'Anthony Milner', 'Lucy Skeaping', 'Roddy Skeaping', 'Ben Harlan', 'Thomas Lawinky', 'Joachim Paul Assböck', 'Roy Smiles', 'Paul Bradley', 'Daniel Caltagirone', 'Andrzej Blumenfeld', 'Zbigniew Zamachowski', 'Detlev von Wangenheim', 'Popeck', 'Zofia Czerwińska', 'Udo Kroschwald', 'Uwe Rathsam', 'Joanna Brodzik', 'Katarzyna Bargiełowska', 'Maja Ostaszewska', 'John Bennett', 'Cyril Shaps', 'Wojciech Smolarz', 'Lech Mackiewicz', 'Ruth Platt', 'Peter Rappenglück', 'Ronan Vibert', 'Krzysztof Pieczyński', 'Katarzyna Figura', 'Valentine Pelka', 'Andrew Tiernan', 'Tom Strauss', 'Cezary Kosinski', 'Paweł Burczyk', 'Nina Franoszek', 'John Keogh', 'Rafał Mohr', 'Andrzej Pieczynski', 'Morgane Polanski', 'Grzegorz Artman', 'Adam Bauman', 'Andrzej Szenajch', 'Zbigniew Dziduch', 'Marian Dziędziel', 'Jerzy Góralczyk', 'Jaroslaw Kopaczewski', 'Patrick Lanagan', 'Dorota Liliental', 'Norbert Rakowski', 'Piotr Siejka', 'Tomasz Tyndyk', 'Andrzej Walden', 'Zbigniew Walerys', 'Maciej Winkler', 'Tadeusz Wojtych', 'Andrzej Zieliński', 'Paweł Małaszyński', 'Axel Prahl', 'Borys Szyc', 'Rafał Dajbor', 'Adrian Hood', 'Ryszard Kluge', 'Maciej Kowalewski'], 'directors': ['Roman Polanski'], 'screenwriters': ['Wojciech Kilar'], 'music_composers': ['Ronald Harwood']},\n",
       " 'm_262': {'movie_id': 'm_262', 'title': 'The King of Comedy', 'genres': ['Comedy', 'Drama'], 'production_countries': ['US'], 'collection_name': '', 'release_year': '1982', 'actors': ['Robert De Niro', 'Jerry Lewis', 'Diahnne Abbott', 'Sandra Bernhard', 'Shelley Hack', 'Catherine Scorsese', 'Cathy Scorsese', 'Ralph Monaco', 'Frederick de Cordova', 'Ray Dittrich', 'Richard Dioguardi', 'Edgar J. Scherick', 'Ed Herlihy', 'Lou Brown', 'Tony Randall', 'Victor Borge', 'Joyce Brothers', 'Liza Minnelli', 'Martin Scorsese', 'Loretta Tupper', 'Peter Potulski', 'Vinnie Gonzales', 'Whitey Ryan', 'Doc Lawless', 'Charles Scorsese', 'Mardik Martin', 'Kim Chan', 'Joe Strummer', 'Ellen Foley', 'Paul Simonon', 'Tony Devon'], 'directors': ['Martin Scorsese'], 'screenwriters': ['Robbie Robertson'], 'music_composers': ['Paul D. Zimmerman']},\n",
       " 'm_2262': {'movie_id': 'm_2262', 'title': 'Die Sehnsucht der Veronika Voss', 'genres': ['Crime', 'Drama'], 'production_countries': ['DE'], 'collection_name': 'The BRD Collection', 'release_year': '1982', 'actors': ['Rosel Zech', 'Hilmar Thate', 'Annemarie Düringer', 'Doris Schade', 'Erik Schumann', 'Elisabeth Volkmann', 'Armin Mueller-Stahl', 'Rainer Werner Fassbinder', 'Cornelia Froboess'], 'directors': ['Rainer Werner Fassbinder'], 'screenwriters': ['Peer Raben'], 'music_composers': ['Rainer Werner Fassbinder', 'Pea Fröhlich', 'Peter Märthesheimer']},\n",
       " 'm_1956': {'movie_id': 'm_1956', 'title': 'Gerry', 'genres': ['Mystery', 'Drama', 'Adventure'], 'production_countries': ['US', 'AR'], 'collection_name': '', 'release_year': '2002', 'actors': ['Casey Affleck', 'Matt Damon'], 'directors': ['Gus Van Sant'], 'screenwriters': ['Arvo Pärt'], 'music_composers': ['Matt Damon', 'Casey Affleck', 'Gus Van Sant']},\n",
       " 'm_991': {'movie_id': 'm_991', 'title': 'The Man Who Fell to Earth', 'genres': ['Drama', 'Science Fiction'], 'production_countries': ['GB'], 'collection_name': '', 'release_year': '1976', 'actors': ['David Bowie', 'Rip Torn', 'Candy Clark', 'Tony Mascia', 'Buck Henry', 'Bernie Casey', 'Rick Riccardo', 'Linda Hutton', 'Hilary Holland', 'Jackson D. Kane', 'Adrienne La Russa'], 'directors': ['Nicolas Roeg'], 'screenwriters': ['John Phillips', 'Stomu Yamashta'], 'music_composers': ['Paul Mayersberg']},\n",
       " 'm_102': {'movie_id': 'm_102', 'title': 'Elsker dig for evigt', 'genres': ['Drama', 'Romance'], 'production_countries': ['DK'], 'collection_name': '', 'release_year': '2002', 'actors': ['Sonja Richter', 'Nikolaj Lie Kaas', 'Mads Mikkelsen', 'Paprika Steen', 'Stine Bjerregaard', 'Birthe Neumann', 'Niels Olsen', 'Ulf Pilgaard', 'Ronnie Lorenzen', 'Anders Nyborg', 'Pelle Bang Sørensen', 'Ida Dwinger', 'Philip Zandén', 'Michel Castenholt', 'Birgitte Prins', 'Susanne Juhász', 'Hans Henrik Clemensen', 'Jens Basse Dam', 'Hanne Windfeld', 'Tina Gylling Mortensen'], 'directors': ['Susanne Bier'], 'screenwriters': ['Jesper Winge Leisner'], 'music_composers': ['Anders Thomas Jensen']},\n",
       " 'm_1591': {'movie_id': 'm_1591', 'title': 'Nirgendwo in Afrika', 'genres': ['Drama'], 'production_countries': ['DE'], 'collection_name': '', 'release_year': '2001', 'actors': ['Juliane Köhler', 'Merab Ninidze', 'Sidede Onyulo', 'Matthias Habich', 'Lea Kurka', 'Karoline Eckertz', 'Gerd Heinz', 'Hildegard Schmahl', 'Maritta Horwarth', 'Regine Zimmermann', 'Marian Lösch', 'Gabrielle Odinis', 'Bettina Redlich', 'Julia Leidl', 'Mechthild Großmann', 'Bela Klentze', 'Peter Lenaeku', 'Silas Kerati', 'Kanyaman', 'Andy Rashleigh', 'Anthony Bate', 'David Michaels', 'Steve Weston', 'Diane Keen', 'Andrew Sachs'], 'directors': ['Caroline Link'], 'screenwriters': ['Niki Reiser'], 'music_composers': ['Caroline Link', 'Susanne Liebetrau']},\n",
       " 'm_455': {'movie_id': 'm_455', 'title': 'Bend It Like Beckham', 'genres': ['Comedy', 'Drama', 'Romance'], 'production_countries': ['IN', 'DE', 'GB', 'US'], 'collection_name': '', 'release_year': '2002', 'actors': ['Parminder Nagra', 'Keira Knightley', 'Jonathan Rhys Meyers', 'Anupam Kher', 'Shaheen Khan', 'Frank Harper', 'Juliet Stevenson', 'Ameet Chana', 'Archie Panjabi', 'Pooja Shah', 'Preeya Kalidas', 'Ace Bhatti', 'Shobu Kapoor'], 'directors': ['Gurinder Chadha'], 'screenwriters': ['Craig Pruess'], 'music_composers': ['Gurinder Chadha', 'Guljit Bindra', 'Paul Mayeda Berges']},\n",
       " 'm_2671': {'movie_id': 'm_2671', 'title': 'リング', 'genres': ['Horror', 'Thriller'], 'production_countries': ['JP'], 'collection_name': 'Ringu Collection', 'release_year': '1998', 'actors': ['Nanako Matsushima', 'Miki Nakatani', 'Hiroyuki Sanada', 'Yuko Takeuchi', 'Hitomi Satô', 'Yôichi Numata', 'Yutaka Matsushige', 'Katsumi Muramatsu', 'Rikiya Ôtaka'], 'directors': ['Hideo Nakata'], 'screenwriters': [], 'music_composers': ['Hiroshi Takahashi']},\n",
       " 'm_6016': {'movie_id': 'm_6016', 'title': 'The Good Thief', 'genres': ['Crime', 'Drama', 'Thriller'], 'production_countries': ['CA', 'FR', 'IE', 'GB'], 'collection_name': '', 'release_year': '2003', 'actors': ['Nick Nolte', 'Tchéky Karyo', 'Nutsa Kukhianidze', 'Marc Lavoine', 'Saïd Taghmaoui', 'Gérard Darmon', 'Ouassini Embarek', 'Patricia Kell', 'Julien Maurel', 'Emir Kusturica', 'Ralph Fiennes', 'Roland Munter', 'Mark Polish', 'Michael Polish', 'James Quattrochi'], 'directors': ['Neil Jordan'], 'screenwriters': ['Elliot Goldenthal'], 'music_composers': ['Jean-Pierre Melville', 'Neil Jordan']},\n",
       " 'm_2662': {'movie_id': 'm_2662', 'title': 'House of 1000 Corpses', 'genres': ['Horror'], 'production_countries': ['US'], 'collection_name': 'House of 1000 Corpses Collection', 'release_year': '2003', 'actors': ['Sid Haig', 'Bill Moseley', 'Sheri Moon Zombie', 'Karen Black', 'Erin Daniels', 'Chris Hardwick', 'Rainn Wilson', 'Jennifer Jostyn', 'Tom Towles', 'Walton Goggins', 'Matthew McGrory', 'Robert Allen Mukes', 'Dennis Fimple', 'Jake McKinnon', 'Harrison Young', 'Irwin Keyes', 'Michael J. Pollard', 'Chad Bannon', 'William Bassett', 'David Reynolds', 'Joe Dobbs III', 'Judith Drake', 'Gregg Gibbs', 'Ken Johnson', 'Irvin Mosley Jr.', 'Tom Towles', 'Walter Phelan'], 'directors': ['Rob Zombie'], 'screenwriters': ['Rob Zombie', 'Scott Humphrey'], 'music_composers': ['Rob Zombie']},\n",
       " 'm_994': {'movie_id': 'm_994', 'title': 'Straw Dogs', 'genres': ['Crime', 'Drama', 'Thriller', 'Mystery'], 'production_countries': ['GB', 'US'], 'collection_name': '', 'release_year': '1971', 'actors': ['Dustin Hoffman', 'Susan George', 'Peter Vaughan', 'T. P. McKenna', 'Del Henney', 'Jim Norton', 'Donald Webster', 'Ken Hutchison', 'Len Jones', 'Sally Thomsett', 'Robert Keegan', 'Peter Arne', 'Cherina Schaer', 'Colin Welland', 'David Warner'], 'directors': ['Sam Peckinpah'], 'screenwriters': ['Jerry Fielding'], 'music_composers': ['David Zelag Goodman', 'Sam Peckinpah']},\n",
       " 'm_5146': {'movie_id': 'm_5146', 'title': 'The In-Laws', 'genres': ['Action', 'Comedy'], 'production_countries': ['DE', 'US'], 'collection_name': '', 'release_year': '2003', 'actors': ['Michael Douglas', 'Albert Brooks', 'Ryan Reynolds', 'Candice Bergen', 'Lindsay Sloane', 'Maria Ricossa', 'Michael Bodnar', 'Vladimir Radian', 'Robin Tunney', 'Susan Aceron', 'Chang Tseng', 'Tamara Gorski', 'Boyd Banks'], 'directors': ['Andrew Fleming'], 'screenwriters': ['Klaus Badelt', 'James S. Levine'], 'music_composers': ['Ed Solomon', 'Nat Mauldin', 'Andrew Bergman']},\n",
       " 'm_12': {'movie_id': 'm_12', 'title': 'Finding Nemo', 'genres': ['Animation', 'Family'], 'production_countries': ['US'], 'collection_name': 'Finding Nemo Collection', 'release_year': '2003', 'actors': ['Albert Brooks', 'Ellen DeGeneres', 'Alexander Gould', 'Willem Dafoe', 'Brad Garrett', 'Allison Janney', 'Austin Pendleton', 'Stephen Root', 'Vicki Lewis', 'Joe Ranft', 'Geoffrey Rush', 'Andrew Stanton', 'Elizabeth Perkins', 'Nicholas Bird', 'Bob Peterson', 'Barry Humphries', 'Eric Bana', 'Bruce Spence', 'Bill Hunter', 'LuLu Ebeling', 'Jordan Ranft', 'Erica Beck', 'Erik Per Sullivan', 'John Ratzenberger'], 'directors': ['Andrew Stanton'], 'screenwriters': ['Thomas Newman'], 'music_composers': ['Andrew Stanton', 'Bob Peterson', 'David Reynolds']},\n",
       " 'm_1088': {'movie_id': 'm_1088', 'title': 'Whale Rider', 'genres': ['Drama', 'Family'], 'production_countries': ['NZ'], 'collection_name': '', 'release_year': '2003', 'actors': ['Keisha Castle-Hughes', 'Rawiri Paratene', 'Vicky Haughton', 'Cliff Curtis', 'Grant Roa', 'Mana Taumaunu', 'Rachel House', 'Taungaroa Emile', 'Tammy Davis', 'Mabel Wharekawa', 'Rawinia Clarke', 'Tahei Simpson'], 'directors': ['Niki Caro'], 'screenwriters': ['Lisa Gerrard'], 'music_composers': ['Niki Caro']},\n",
       " 'm_290': {'movie_id': 'm_290', 'title': 'Barton Fink', 'genres': ['Comedy', 'Drama'], 'production_countries': ['GB', 'US'], 'collection_name': '', 'release_year': '1991', 'actors': ['John Turturro', 'John Goodman', 'Judy Davis', 'Michael Lerner', 'Tony Shalhoub', 'John Mahoney', 'Jon Polito', 'Steve Buscemi', 'David Warrilow', 'Richard Portnow', 'Christopher Murney', 'I.M. Hobson', 'Harry Bugin', 'Lance Davis'], 'directors': ['Joel Coen'], 'screenwriters': ['Carter Burwell'], 'music_composers': ['Joel Coen', 'Ethan Coen']},\n",
       " 'm_2470': {'movie_id': 'm_2470', 'title': 'Belle Époque', 'genres': ['Comedy', 'Drama', 'Romance'], 'production_countries': ['ES', 'PT', 'FR'], 'collection_name': '', 'release_year': '1992', 'actors': ['Penélope Cruz', 'Gabino Diego', 'Ariadna Gil', 'Fernando Fernán Gómez', 'Agustín González', 'Miriam Díaz-Aroca', 'Chus Lampreave', 'Mary Carmen Ramírez', 'Jorge Sanz', 'Maribel Verdú', 'Michel Galabru'], 'directors': ['Fernando Trueba'], 'screenwriters': ['Antoine Duhamel'], 'music_composers': ['Rafael Azcona']},\n",
       " 'm_2527': {'movie_id': 'm_2527', 'title': 'Que la bête meure', 'genres': ['Drama', 'Thriller'], 'production_countries': ['IT', 'FR'], 'collection_name': '', 'release_year': '1969', 'actors': ['Michel Duchaussoy', 'Caroline Cellier', 'Jean Yanne', 'Marc Di Napoli', 'Anouk Ferjac', 'Louise Chevalier', 'Guy Marly', 'Lorraine Rainer', 'Stéphane Di Napoli', 'Dominique Zardi', 'Raymone', 'Michel Charrel', 'Bernard Papineau', 'Jacques Masson', 'Maurice Pialat', 'Jean-Louis Maury'], 'directors': ['Claude Chabrol'], 'screenwriters': ['Pierre Jansen'], 'music_composers': ['Claude Chabrol', 'Paul Gégauff']},\n",
       " 'm_170': {'movie_id': 'm_170', 'title': '28 Days Later', 'genres': ['Horror', 'Thriller', 'Science Fiction'], 'production_countries': ['GB'], 'collection_name': '28 Days/Weeks Later Collection', 'release_year': '2002', 'actors': ['Cillian Murphy', 'Naomie Harris', 'Noah Huntley', 'Christopher Dunne', 'Emma Hitching', 'Alexander Delamere', 'Kim McGarrity', 'Brendan Gleeson', 'Megan Burns', 'Justin Hackney', 'Luke Mably', 'Stuart McQuarrie', 'Ricci Harnett', 'Leo Bill', 'Junior Laniyan', 'Ray Panthaki', 'Christopher Eccleston', 'Alex Palmer', 'Bindu De Stoppani', 'Jukka Hiltunen', 'David Schneider', 'Toby Sedgwick'], 'directors': ['Danny Boyle'], 'screenwriters': ['John Murphy'], 'music_composers': ['Alex Garland']},\n",
       " 'm_216': {'movie_id': 'm_216', 'title': 'Angst essen Seele auf', 'genres': ['Romance', 'Drama'], 'production_countries': ['DE'], 'collection_name': '', 'release_year': '1974', 'actors': ['Brigitte Mira', 'El Hedi ben Salem', 'Barbara Valentin', 'Irm Hermann', 'Elma Karlowa', 'Anita Bucher', 'Gusti Kreissl', 'Doris Mattes', 'Margit Symo', 'Katharina Herberg', 'Lilo Pempeit', 'Walter Sedlmayr', 'Rainer Werner Fassbinder', 'Karl Scheydt', 'Peter Gauhe', 'Marquard Bohm', 'Hark Bohm', 'Kurt Raab'], 'directors': ['Rainer Werner Fassbinder'], 'screenwriters': ['Rainer Werner Fassbinder'], 'music_composers': []},\n",
       " 'm_1927': {'movie_id': 'm_1927', 'title': 'Hulk', 'genres': ['Drama', 'Action', 'Science Fiction'], 'production_countries': ['US'], 'collection_name': '', 'release_year': '2003', 'actors': ['Eric Bana', 'Jennifer Connelly', 'Sam Elliott', 'Josh Lucas', 'Nick Nolte', 'Paul Kersey', 'Cara Buono', 'Stan Lee', 'Todd Tesen', 'Celia Weston', 'Mike Erwin', 'Lou Ferrigno', 'Regi Davis', 'Craig Damon', 'Daniel Dae Kim', 'Jesse Corti', 'Toni Kallen'], 'directors': ['Ang Lee'], 'screenwriters': ['Danny Elfman'], 'music_composers': ['John Turman', 'Michael France', 'James Schamus']},\n",
       " 'm_296': {'movie_id': 'm_296', 'title': 'Terminator 3: Rise of the Machines', 'genres': ['Action', 'Thriller', 'Science Fiction'], 'production_countries': ['DE', 'GB', 'US'], 'collection_name': 'The Terminator Collection', 'release_year': '2003', 'actors': ['Arnold Schwarzenegger', 'Nick Stahl', 'Claire Danes', 'Kristanna Loken', 'David Andrews', 'Mark Famiglietti', 'Earl Boen', 'Moira Harris', 'Chopper Bernet', 'Christopher Lawford', 'Alana Curry', 'Chris Hardwick', 'Robert Alonzo', 'Susan Merson'], 'directors': ['Jonathan Mostow'], 'screenwriters': ['Marco Beltrami'], 'music_composers': ['John D. Brancato', 'Michael Ferris']},\n",
       " 'm_22': {'movie_id': 'm_22', 'title': 'Pirates of the Caribbean: The Curse of the Black Pearl', 'genres': ['Adventure', 'Fantasy', 'Action'], 'production_countries': ['US'], 'collection_name': 'Pirates of the Caribbean Collection', 'release_year': '2003', 'actors': ['Johnny Depp', 'Geoffrey Rush', 'Orlando Bloom', 'Keira Knightley', 'Jack Davenport', 'Jonathan Pryce', 'Kevin McNally', 'Zoe Saldana', 'Lee Arenberg', 'Mackenzie Crook', \"Damian O'Hare\", 'Treva Etienne', 'Michael Berry Jr.', 'David Bailie', 'Christopher S. Capp', 'Martin Klebba', 'Isaac C. Singleton Jr.', 'Giles New', 'Angus Barnett', 'Greg Ellis', 'Guy Siner', 'Ralph P. Martin', 'Paula J. Newman', 'Paul Keith', 'Dylan Smith', 'Lucinda Dryzek', 'Lauren Maher', 'Vanessa Branch', 'Luke de Woolfson', 'Michael Sean Tighe', 'Dustin Seavey', 'Christian Martin', 'Trevor Goddard', 'Vince Lozano', 'Matthew Bowyer', 'Brye Cooper', 'Ben Wilson', 'Antonio Valentino', 'Mike Babcock', 'Owen Finnegan', 'Ian McIntyre', 'Israel Aduramo', 'Sam Roberts', 'Ben Roberts', 'Félix Castro', 'Mike Haberecht', 'Rudolph McCollum', 'Gerard J. Reyes', 'M. Scott Shields', 'Christopher Sullivan', 'Craig Thomson', 'Fred Toft', 'Jerry Gauny', 'Maxie J. Santillan Jr.', 'Michael Earl Lane', 'David Patykewich', 'Tommy Schooler', 'Finneus Egan', 'D.P. FitzGerald', 'Tobias McKinney', 'Michael A. Thompson', 'Michael W. Williams', 'Jose Zelaya', 'Don LaDaga', 'LeJon', 'Gregory Alosio', 'Jordi Caballero', 'Paul Gagné', 'Joe Grisaffi', 'James McAuley'], 'directors': ['Gore Verbinski'], 'screenwriters': ['Klaus Badelt'], 'music_composers': ['Ted Elliott', 'Terry Rossio']},\n",
       " 'm_8961': {'movie_id': 'm_8961', 'title': 'Bad Boys II', 'genres': ['Adventure', 'Action', 'Comedy', 'Thriller', 'Crime'], 'production_countries': ['US'], 'collection_name': 'Bad Boys Collection', 'release_year': '2003', 'actors': ['Martin Lawrence', 'Will Smith', 'Jordi Mollà', 'Gabrielle Union', 'Peter Stormare', 'Theresa Randle', 'Joe Pantoliano', 'Michael Shannon', 'Jon Seda', 'Yul Vazquez', 'Jason Manuel Olazabal', 'Otto Sanchez', 'Henry Rollins', 'Antoni Corone', 'Gary Nickens', 'John Salley', 'Oleg Taktarov', 'Michael Bay', 'Ron Madoff', 'Peter Donald Badalamenti II', 'Jay Rasumny'], 'directors': ['Michael Bay'], 'screenwriters': ['Trevor Rabin'], 'music_composers': ['Ron Shelton', 'Jerry Stahl']},\n",
       " 'm_3101': {'movie_id': 'm_3101', 'title': 'I Love You to Death', 'genres': ['Action', 'Comedy', 'Crime'], 'production_countries': ['US'], 'collection_name': '', 'release_year': '1990', 'actors': ['Kevin Kline', 'Tracey Ullman', 'Joan Plowright', 'River Phoenix', 'William Hurt', 'Keanu Reeves', 'James Gammon', 'Jack Kehler', 'Victoria Jackson', 'Miriam Margolyes', 'Alisan Porter', 'Jon Kasdan', 'Heather Graham', 'Michelle Joyner', 'Shiri Appleby'], 'directors': ['Lawrence Kasdan'], 'screenwriters': ['James Horner'], 'music_composers': []},\n",
       " 'm_936': {'movie_id': 'm_936', 'title': 'The Pink Panther', 'genres': ['Comedy', 'Crime'], 'production_countries': ['US'], 'collection_name': 'The Pink Panther (Original) Collection', 'release_year': '1963', 'actors': ['David Niven', 'Peter Sellers', 'Robert Wagner', 'Capucine', 'Brenda De Banzie', 'Colin Gordon', 'John Le Mesurier', 'James Lanphier', 'Guy Thomajan', 'Michael Trubshawe', 'Riccardo Billi', 'Meri Welles', 'Martin Miller', 'Fran Jeffries', 'Claudia Cardinale', 'John Bartha', 'William Bryant', 'Mario Fabrizi', 'Eugene Walter', 'Wael Zuaiter'], 'directors': ['Blake Edwards'], 'screenwriters': ['Henry Mancini'], 'music_composers': ['Maurice Richlin', 'Blake Edwards']},\n",
       " 'm_333': {'movie_id': 'm_333', 'title': 'Bollywood/Hollywood', 'genres': ['Comedy', 'Drama', 'Music', 'Romance'], 'production_countries': ['CA'], 'collection_name': '', 'release_year': '2002', 'actors': ['Rahul Khanna', 'Lisa Ray', 'Moushumi Chatterjee', 'Dina Pathak', 'Kulbhushan Kharbanda', 'Ranjit Chowdhry', 'Jessica Paré', 'Rishma Malik', 'Jazz Mann', 'Arjun Lombardi-Singh', 'Leesa Gaspari', 'Neelam Mansingh', 'Mike Deol', 'Jolly Bader', 'Ronica Sajnani', 'Jeremy Chow', \"Damon D'Oliveira\", 'Nicky Gill', 'Nicole Innis', 'Rohan Bader', 'Terry Stevens', 'Rupinder Nagra', 'Anne Mroczkowski', 'Monisha Randhawa', 'Pragna Desai', 'Akshaye Khanna'], 'directors': ['Deepa Mehta'], 'screenwriters': [], 'music_composers': []},\n",
       " 'm_2722': {'movie_id': 'm_2722', 'title': 'El otro lado de la cama', 'genres': ['Romance', 'Drama'], 'production_countries': ['ES'], 'collection_name': 'Sides of the Bed', 'release_year': '2002', 'actors': ['Ernesto Alterio', 'Paz Vega', 'Guillermo Toledo', 'Natalia Verbeke', 'Alberto San Juan', 'María Esteve', 'Ramón Barea', 'Nathalie Poza', 'Carol Salvador', 'Geli Albaladejo', 'Blanca Marsillach', 'Coté Soler', 'Luis Bermejo', 'Curro Iglesias', 'Javier Gutiérrez', 'Mohamed Khashoggi', 'Daniel González', 'Roma Alfaro', 'Coral Ortega', 'Dacia González', 'Mercedes del Castillo', 'Julio Viero', 'Julio Reches', 'Leticia Dolera', 'Secun de la Rosa'], 'directors': ['Emilio Martínez Lázaro'], 'screenwriters': [], 'music_composers': []},\n",
       " 'm_153': {'movie_id': 'm_153', 'title': 'Lost in Translation', 'genres': ['Drama'], 'production_countries': ['JP', 'US'], 'collection_name': '', 'release_year': '2003', 'actors': ['Bill Murray', 'Scarlett Johansson', 'Anna Faris', 'Giovanni Ribisi', 'Akiko Takeshita', 'Kazuyoshi Minamimagoe', 'Kazuko Shibata', 'Take', 'Fumihiro Hayashi', 'Hiroko Kawasaki', 'Daikon', 'Catherine Lambert', 'Daiamondo Yukai', 'Akiko Monô', 'Françoise Dubois', 'Gregory Pekar', 'Ikuko Takahashi', 'Osamu Shigematu', 'Takashi Fujii', 'Lisle Wilkerson', 'Nancy Steiner', 'Kazuo Yamada'], 'directors': ['Sofia Coppola'], 'screenwriters': ['Kevin Shields'], 'music_composers': ['Sofia Coppola']},\n",
       " 'm_2687': {'movie_id': 'm_2687', 'title': 'Memoirs of an Invisible Man', 'genres': ['Comedy', 'Fantasy', 'Science Fiction'], 'production_countries': ['FR', 'US'], 'collection_name': '', 'release_year': '1992', 'actors': ['Chevy Chase', 'Daryl Hannah', 'Sam Neill', 'Michael McKean', 'Stephen Tobolowsky', 'Jim Norton', 'Pat Skipper', 'Paul Perri', 'Richard Epcar', 'Steven Barr', 'Gregory Paul Martin', 'Patricia Heaton'], 'directors': ['John Carpenter'], 'screenwriters': ['Shirley Walker'], 'music_composers': ['Robert Collector', 'Dana Olsen', 'William Goldman']},\n",
       " 'm_277': {'movie_id': 'm_277', 'title': 'Underworld', 'genres': ['Fantasy', 'Action', 'Thriller'], 'production_countries': ['DE', 'HU', 'GB', 'US'], 'collection_name': 'Underworld Collection', 'release_year': '2003', 'actors': ['Kate Beckinsale', 'Scott Speedman', 'Michael Sheen', 'Shane Brolly', 'Bill Nighy', 'Erwin Leder', 'Sophia Myles', 'Robbie Gee', 'Wentworth Miller', 'Kevin Grevioux', 'Zita Görög', 'Scott McElroy', 'Richard Cetrone', 'Mike Mukatis', 'Dennis J. Kozeluh', 'Todd Schneider', 'Sándor Bolla', 'Hank Amos', 'Zsuzsa Barsi', 'Andreas Patton', 'Danny McBride', 'Jázmin Dammak', 'Judit Kuchta', 'Vanessa Nagy', 'Atilla Pinke', 'Ildikó Kovács', 'Sándor Boros', 'János Oláh', 'Brian Steele', 'Kurt Carley', 'Rana Morrison', 'Zoltan Papp'], 'directors': ['Len Wiseman'], 'screenwriters': ['Paul Haslinger'], 'music_composers': ['Danny McBride']},\n",
       " 'm_20': {'movie_id': 'm_20', 'title': 'My Life Without Me', 'genres': ['Drama', 'Romance'], 'production_countries': ['CA', 'ES'], 'collection_name': '', 'release_year': '2003', 'actors': ['Sarah Polley', 'Amanda Plummer', 'Scott Speedman', 'Leonor Watling', 'Deborah Harry', 'Maria de Medeiros', 'Julian Richings', 'Jessica Amlee', 'Kenya Jo Kennedy', 'Camille Martinez', 'Alfred Molina', 'Mark Ruffalo'], 'directors': ['Isabel Coixet'], 'screenwriters': ['Alfonso Vilallonga'], 'music_composers': []},\n",
       " 'm_837': {'movie_id': 'm_837', 'title': 'Videodrome', 'genres': ['Horror', 'Mystery', 'Science Fiction'], 'production_countries': ['CA'], 'collection_name': '', 'release_year': '1983', 'actors': ['James Woods', 'Sonja Smits', 'Deborah Harry', 'Peter Dvorsky', 'Jack Creley', 'Lynne Gorman', 'Julie Khaner', 'Reiner Schwarz', 'David Bolt', 'Lally Cadeau', 'Leslie Carlson', 'Henry Gomez', 'Harvey Chao', 'David Tsubouchi', 'Kay Hawtrey', 'Sam Malkin', 'Bob Church', 'Jayne Eastwood', 'Franciszka Hedland', 'David Cronenberg'], 'directors': ['David Cronenberg'], 'screenwriters': ['Howard Shore'], 'music_composers': []},\n",
       " 'm_1358': {'movie_id': 'm_1358', 'title': 'A Brief History of Time', 'genres': ['Documentary'], 'production_countries': ['GB'], 'collection_name': '', 'release_year': '1991', 'actors': ['Stephen Hawking', 'Isobel Hawking', 'Janet Humphrey', 'Mary Hawking'], 'directors': ['Errol Morris'], 'screenwriters': [], 'music_composers': []},\n",
       " 'm_3087': {'movie_id': 'm_3087', 'title': 'Yankee Doodle Dandy', 'genres': ['Drama', 'Music'], 'production_countries': ['US'], 'collection_name': '', 'release_year': '1942', 'actors': ['James Cagney', 'Joan Leslie', 'Walter Huston', 'Richard Whorf', 'Irene Manning', 'George Tobias', 'Rosemary DeCamp', 'Jeanne Cagney', 'Frances Langford', 'George Barbier', 'Walter Catlett', 'Douglas Croft', 'Eddie Foy Jr.', 'Minor Watson', 'Chester Clute', 'Odette Myrtil', 'Patsy Parsons', 'S.Z. Sakall', 'Jack Young'], 'directors': ['Michael Curtiz'], 'screenwriters': ['Heinz Roemheld', 'Ray Heindorf'], 'music_composers': ['Robert Buckner', 'Edmund Joseph', 'Julius J. Epstein', 'Philip G. Epstein']},\n",
       " 'm_2116': {'movie_id': 'm_2116', 'title': 'Out of Time', 'genres': ['Thriller', 'Crime', 'Drama'], 'production_countries': ['US'], 'collection_name': '', 'release_year': '2003', 'actors': ['Denzel Washington', 'Eva Mendes', 'Sanaa Lathan', 'John Billingsley', 'Dean Cain', 'Alex Carter', 'Antoni Corone', 'Robert Baker', 'Ron Madoff', 'Terry Loughlin', 'Nora Dunn', 'Jesse Beaton'], 'directors': ['Carl Franklin'], 'screenwriters': ['Graeme Revell'], 'music_composers': ['David Collard']},\n",
       " 'm_1584': {'movie_id': 'm_1584', 'title': 'School of Rock', 'genres': ['Comedy', 'Music'], 'production_countries': ['DE', 'US'], 'collection_name': '', 'release_year': '2003', 'actors': ['Jack Black', 'Joan Cusack', 'Mike White', 'Sarah Silverman', 'Adam Pascal', 'Lucas Papaelias', 'Chris Stack', 'Joey Gaydos Jr.', 'Lucas Babin', 'Jordan-Claire Green', 'Veronica Afflerbach', 'Miranda Cosgrove', 'Kevin Alexander Clark', 'Robert Tsai', 'Maryam Hassan', 'Angelo Massagli', 'Caitlin Hale', 'Cole Hawkins', 'Brian Falduto', 'James Hosey', 'Aleisha Allen', 'Zachary Infante', 'Rebecca Brown', 'Jaclyn Neidenthal', 'Suzzanne Douglas', 'Eron Otcasek', 'Carlos Velazquez', 'Kimberly Grigsby', 'Lee Wilkof', 'Kate McGregor-Stewart', 'Wally Dunn', 'Tim Hopper', 'Michael Dominguez-Rudolph', 'Crash Cortez', 'Nicky Katt', 'John Highsmith', 'Heather Goldenhersh', 'Timothy \"Speed\" Levitch', 'Scott Graham', 'Sharon Washington', 'Kim Brockington', 'Marty Murphy', 'Kathleen McNenny', 'Joanna Adler', 'Robert Lin', 'Barry Shurchin', 'MacIntyre Dixon', 'Amy Sedaris', 'Mary Fortune', 'Mandy Siegfried', 'Elisa Pugliese', 'Carlos J. Da Silva', \"Ian O'Malley\", 'Chris Line', 'Kyle Meaney', 'Frank Whaley', 'Lauren Adler', 'Kelly Anne Burns', 'Leanne Cabrera', 'Catherine A. Callahan', 'Cedric Cannon', 'Mike Clemente', 'Anivile Daniel', 'Jane DeNoble', 'Riley G. Matthews Jr.', 'Jada Montemarano', 'Mateo Moreno', 'Lian Moy', 'Karen Nazarov', \"Ryan O'Connor\", 'Scott Ross', 'Caileigh Scott', 'Johnny Sullivan', 'Jamie Vergan', 'Joe Wachowski'], 'directors': ['Richard Linklater'], 'screenwriters': [], 'music_composers': ['Mike White']},\n",
       " 'm_322': {'movie_id': 'm_322', 'title': 'Mystic River', 'genres': ['Thriller', 'Crime', 'Drama', 'Mystery'], 'production_countries': ['US'], 'collection_name': '', 'release_year': '2003', 'actors': ['Sean Penn', 'Tim Robbins', 'Kevin Bacon', 'Laurence Fishburne', 'Marcia Gay Harden', 'Laura Linney', 'Kevin Chapman', 'Tom Guiry', 'Emmy Rossum', 'Eli Wallach', 'Spencer Treat Clark', 'Andrew Mackin', 'Adam Nelson', 'Robert Wahlberg', \"Jenny O'Hara\", 'John Doman', 'Cameron Bowen', 'Jason Kelly', 'Connor Paolo', 'T. Bruce Page', 'Miles Herter', 'Cayden Boyd', 'Tori Davis', 'Jonathan Togo', 'Philip Ettington'], 'directors': ['Clint Eastwood'], 'screenwriters': ['Clint Eastwood'], 'music_composers': []},\n",
       " 'm_24': {'movie_id': 'm_24', 'title': 'Kill Bill: Vol. 1', 'genres': ['Action', 'Crime'], 'production_countries': ['US'], 'collection_name': 'Kill Bill Collection', 'release_year': '2003', 'actors': ['Uma Thurman', 'Lucy Liu', 'Vivica A. Fox', 'Daryl Hannah', 'David Carradine', 'Michael Madsen', 'Julie Dreyfus', 'Chiaki Kuriyama', 'Sonny Chiba', 'Gordon Liu Chia-Hui', 'Michael Parks', 'Michael Bowen', 'Jun Kunimura', 'Kenji Ohba', 'Yuki Kazamatsuri', 'James Parks', 'Sakichi Satô', 'Jonathan Loughran', 'Yoshiyuki Morishita', 'Tetsuro Shimaguchi', 'Kazuki Kitamura', 'Yoji Tanaka', 'Sô Yamanaka', 'Julie Manase', 'Akaji Maro', 'Goro Daimon', 'Shun Sugata', 'Zhang Jin Zhan', 'Hu Xiaohui', 'Ambrosia Kelley', 'Sachiko Fujii', 'Shu Lan Tuan', 'Ai Maeda', 'Naomi Kusumi', 'Hikaru Midorikawa', '高桥一生'], 'directors': ['Quentin Tarantino'], 'screenwriters': ['RZA'], 'music_composers': []},\n",
       " 'm_1376': {'movie_id': 'm_1376', 'title': 'Sweet Sixteen', 'genres': ['Crime', 'Drama'], 'production_countries': ['GB'], 'collection_name': '', 'release_year': '2002', 'actors': ['Martin Compston', 'Annmarie Fulton', 'William Ruane', 'Michelle Abercromby', 'Michelle Coulter', 'Gary McCormack', 'Tommy McKee', 'Calum McAlees', 'Robert Rennie', 'Martin McCardie', 'Jon Morrison'], 'directors': ['Ken Loach'], 'screenwriters': ['George Fenton'], 'music_composers': ['Paul Laverty']},\n",
       " 'm_2348': {'movie_id': 'm_2348', 'title': 'Holy Matrimony', 'genres': ['Comedy'], 'production_countries': ['US'], 'collection_name': '', 'release_year': '1994', 'actors': ['Patricia Arquette', 'Joseph Gordon-Levitt', 'Armin Mueller-Stahl', 'Tate Donovan', 'John Schuck', 'Lois Smith', 'Courtney B. Vance', 'Jeffrey Nordling'], 'directors': ['Leonard Nimoy'], 'screenwriters': ['Bruce Broughton'], 'music_composers': ['David Weisberg']},\n",
       " 'm_224': {'movie_id': 'm_224', 'title': 'Człowiek z marmuru', 'genres': ['Drama', 'History'], 'production_countries': ['PL'], 'collection_name': 'Man of Marble/Iron Collection', 'release_year': '1977', 'actors': ['Krystyna Janda', 'Jerzy Radziwiłowicz', 'Jerzy Radziwiłowicz', 'Tadeusz Łomnicki', 'Jacek Lomnicki', 'Michał Tarkowski', 'Piotr Cieslak', 'Wieslaw Wójcik', 'Krystyna Zachwatowicz', 'Magda Teresa Wójcik', 'Zdzisław Kozień', 'Dorota Stalińska', 'Kazimierz Kaczor', 'Ewa Ziętek', 'Andrzej Graziewicz', 'Jerzy Moniak'], 'directors': ['Andrzej Wajda'], 'screenwriters': ['Andrzej Korzynski'], 'music_composers': []},\n",
       " 'm_605': {'movie_id': 'm_605', 'title': 'The Matrix Revolutions', 'genres': ['Adventure', 'Action', 'Thriller', 'Science Fiction'], 'production_countries': ['US', 'AU'], 'collection_name': 'The Matrix Collection', 'release_year': '2003', 'actors': ['Keanu Reeves', 'Laurence Fishburne', 'Carrie-Anne Moss', 'Hugo Weaving', 'Mary Alice', 'Helmut Bakaitis', 'Lambert Wilson', 'Roy Jones Jr.', 'Randall Duk Kim', 'Harry Lennix', 'Matt McColm', 'Harold Perrineau', 'Jada Pinkett Smith', 'Gina Torres', 'Collin Chou', 'Cornel West', 'Nona Gaye', 'Monica Bellucci', 'Maurice Morgan', 'Bernard White', 'Ian Bliss', 'Bruce Spence'], 'directors': ['Lilly Wachowski', 'Lana Wachowski'], 'screenwriters': ['Don Davis'], 'music_composers': ['Lilly Wachowski', 'Lana Wachowski']},\n",
       " 'm_1277': {'movie_id': 'm_1277', 'title': 'Ein Lied von Liebe und Tod – Gloomy Sunday', 'genres': ['Romance', 'Drama'], 'production_countries': ['DE', 'HU'], 'collection_name': '', 'release_year': '1999', 'actors': ['Erika Marozsán', 'Joachim Król', 'Ben Becker', 'Stefano Dionisi', 'András Bálint', 'Géza Boros', 'Rolf Becker', 'Ilse Zielstorff', 'Ferenc Bács', 'Júlia Zsolnai', 'Aron Sipos', 'Ernst Kahl', 'Jörg Gillner', 'Denis Moschitto', 'István Mikó'], 'directors': ['Rolf Schübel'], 'screenwriters': ['Detlef Petersen', 'Rezsö Seress'], 'music_composers': ['Rolf Schübel', 'Ruth Toma']},\n",
       " 'm_508': {'movie_id': 'm_508', 'title': 'Love Actually', 'genres': ['Comedy', 'Romance', 'Drama'], 'production_countries': ['GB', 'US'], 'collection_name': '', 'release_year': '2003', 'actors': ['Keira Knightley', 'Heike Makatsch', 'Emma Thompson', 'Laura Linney', 'Hugh Grant', 'January Jones', 'Bill Nighy', 'Gregor Fisher', 'Colin Firth', 'Sienna Guillory', 'Liam Neeson', 'Kris Marshall', 'Martin Freeman', 'Joanna Page', 'Chiwetel Ejiofor', 'Andrew Lincoln', 'Nina Sosanya', 'Billy Bob Thornton', 'Alan Rickman', 'Martine McCutcheon', 'Thomas Brodie-Sangster', 'Rodrigo Santoro', 'Rowan Atkinson', 'Claudia Schiffer', 'Ivana Miličević', 'Elisha Cuthbert', 'Shannon Elizabeth', 'Denise Richards', 'Sheila Allen', 'Lúcia Moniz', 'Julia Davis', 'Edward Hardwicke', 'Caroline John', 'Declan Donnelly', 'Adam Godley', 'Frances de la Tour', 'Richard Curtis', 'Olivia Olson', 'Laura Rees'], 'directors': ['Richard Curtis'], 'screenwriters': ['Craig Armstrong'], 'music_composers': ['Richard Curtis']},\n",
       " 'm_1702': {'movie_id': 'm_1702', 'title': 'Death Machine', 'genres': ['Action', 'Horror', 'Science Fiction', 'Thriller'], 'production_countries': ['GB'], 'collection_name': '', 'release_year': '1994', 'actors': ['Ely Pouget', 'Brad Dourif', 'William Hootkins', 'John Sharian', 'Martin McDougall', 'Andreas Wisniewski', 'Richard Brake', 'Alex Brooks', 'Stuart St. Paul', 'Rachel Weisz', 'Fredrick Lopez', 'Annemarie Lawless', 'Jackie Sawiris', 'Rob Freeman'], 'directors': ['Stephen Norrington'], 'screenwriters': [], 'music_composers': []},\n",
       " 'm_4823': {'movie_id': 'm_4823', 'title': 'Final Analysis', 'genres': ['Drama', 'Thriller', 'Romance'], 'production_countries': ['US'], 'collection_name': '', 'release_year': '1992', 'actors': ['Richard Gere', 'Kim Basinger', 'Uma Thurman', 'Eric Roberts', 'Paul Guilfoyle', 'Keith David', 'Robert Harper', 'Agustin Rodriguez', 'Rita Zohar', 'Harris Yulin'], 'directors': ['Phil Joanou'], 'screenwriters': [], 'music_composers': ['Wesley Strick']},\n",
       " 'm_780': {'movie_id': 'm_780', 'title': \"La passion de Jeanne d'Arc\", 'genres': ['Drama', 'History'], 'production_countries': ['FR'], 'collection_name': '', 'release_year': '1928', 'actors': ['Maria Falconetti', 'Eugene Silvain', 'André Berley', 'Antonin Artaud', \"Jean d'Yd\", 'Louis Ravet', 'Armand Lurville', 'Jacques Arnna', 'Alexandre Mihalesco', 'Léon Larive', 'Maurice Schutz', 'Michel Simon', 'Jean Aymé', 'Paul Jorge', 'Raymond Narlay', 'Gilbert Dalleu', 'Marie Lacroix', 'Jean Aymé', 'Gilbert Dacheux', 'Paul Delauzac', 'Dimitri Dimitriev', 'Fournez-Goffard', 'Henri Gaultier', 'Henri Maillard'], 'directors': ['Carl Theodor Dreyer'], 'screenwriters': [], 'music_composers': ['Carl Theodor Dreyer', 'Joseph Delteil']},\n",
       " 'm_234': {'movie_id': 'm_234', 'title': 'Das Cabinet des Dr. Caligari', 'genres': ['Drama', 'Horror', 'Thriller', 'Crime'], 'production_countries': ['DE'], 'collection_name': '', 'release_year': '1920', 'actors': ['Werner Krauss', 'Conrad Veidt', 'Friedrich Fehér', 'Lil Dagover', 'Hans Heinrich von Twardowski', 'Rudolf Lettinger', 'Henri Peters-Arnolds', 'Rudolf Klein-Rogge', 'Hans Lanser-Rudolf', 'Ludwig Rex', 'Elsa Wagner'], 'directors': ['Robert Wiene'], 'screenwriters': ['Giuseppe Becce', 'Alfredo Antonini', 'Timothy Brock', 'Richard Marriott', 'Peter Schirmann'], 'music_composers': ['Carl Mayer', 'Hans Janowitz']},\n",
       " 'm_899': {'movie_id': 'm_899', 'title': 'Broken Blossoms', 'genres': ['Drama', 'Romance'], 'production_countries': ['US'], 'collection_name': '', 'release_year': '1919', 'actors': ['Lillian Gish', 'Richard Barthelmess', 'Donald Crisp', 'Arthur Howard', 'Edward Peil Sr.', 'George Beranger', 'Norman Selby'], 'directors': ['D.W. Griffith'], 'screenwriters': [], 'music_composers': []},\n",
       " 'm_2297': {'movie_id': 'm_2297', 'title': 'Kafka', 'genres': ['Comedy', 'Drama', 'Mystery'], 'production_countries': ['FR', 'US'], 'collection_name': '', 'release_year': '1991', 'actors': ['Jeremy Irons', 'Theresa Russell', 'Armin Mueller-Stahl', 'Joel Grey', 'Ian Holm', 'Jeroen Krabbé', 'Alec Guinness', 'Brian Glover', 'Keith Allen'], 'directors': ['Steven Soderbergh'], 'screenwriters': ['Cliff Martinez'], 'music_composers': ['Lem Dobbs']},\n",
       " 'm_951': {'movie_id': 'm_951', 'title': 'Kindergarten Cop', 'genres': ['Comedy'], 'production_countries': ['US'], 'collection_name': 'Kindergarten Cop Collection', 'release_year': '1990', 'actors': ['Arnold Schwarzenegger', 'Penelope Ann Miller', 'Pamela Reed', 'Linda Hunt', 'Richard Tyson', 'Alix Koromzay', 'Carroll Baker', 'Cathy Moriarty', 'Joseph Cousins', 'Christian Cousins', 'Park Overall', 'Richard Portnow', 'Tom Kurlander', 'Betty Lou Henson', 'Jayne Brook', 'Tom Dugan', 'Catherine Reitman', 'Miko Hughes', 'Adam Wylie', 'Michael Chapman', 'Odette Annable', 'Heidi Swedberg', 'Bob Nelson', 'Molly Cleator', 'Eugene Elman', 'Susan Burns', 'Jason Stuart', 'Ray Glanzmann', 'Ed Crick', 'Angela Bassett', 'Chi Muoi Lo', 'John Hammil', 'Steve Park', 'John Steinkamp', 'Charlie Holliday', 'Lee Forest', 'Judy Wix', 'Galen Yuen', 'Frankie Avina', 'Terry Golden', 'Lee Dupree', 'Debra Casey', 'Peter Mark Vasquez', 'Jacques Apollo Bolton', 'Leo Lee', 'Kenneth Chapman', 'Rick Jones', 'Mimi J. Kauffman', 'Tiffany Reaves', 'Jason Reitman', 'Anne Merrem', 'Arlene J. Phalon', 'Justin Page', 'Peter Rakow', 'Sarah Rose Karr', 'Marissa Rosen', 'Ben McCreary', 'Robert Cave', 'Ben Diskin', 'Tameka Runnels', 'Medha Garg', 'Brian Wagner', 'John Christian Graas', 'Jimmy Darrin Jackson III', 'Ian Baumer', 'Amy Wald', 'Tiffany Mataras', 'Krystle Mataras', 'James Chance', 'Nicole Nagorsky', 'Ross Malinger', 'Amber Reaves', 'Tina Hart', 'Emily Ann Lloyd', 'Haley Hileman', 'Bethany Allyn', 'Zachary Marsh', 'Anthony Wong', 'Remone Bradley', 'Jaime Lucero Jr.', 'Gary Rodriguez', 'Thomas Rosales, Jr.', 'William Rossman', 'Rob Wegner', 'Kim Delgado'], 'directors': ['Ivan Reitman'], 'screenwriters': ['Randy Edelman'], 'music_composers': ['Murray Salem', 'Herschel Weingrod', 'Timothy Harris']},\n",
       " 'm_3176': {'movie_id': 'm_3176', 'title': 'バトル・ロワイアル', 'genres': ['Drama', 'Thriller', 'Adventure'], 'production_countries': ['JP'], 'collection_name': 'Battle Royale Collection', 'release_year': '2000', 'actors': ['Takeshi Kitano', 'Tsuyako Kinoshita', 'Eri Ishikawa', 'Sayaka Ikeda', 'Tomomi Shimaki', 'Tamaki Mihara', 'Yukari Kanasawa', 'Misao Kato', 'Takayo Mimura', 'Hitomi Hyuga', 'Anna Nagata', 'Kou Shibasaki', 'Satomi Ishii', 'Chiaki Kuriyama', 'Haruka Nomiyama', 'Aki Maeda', 'Satomi Hanamura', 'Sayaka Kamiya', 'Aki Inoue', 'Asami Kanai', 'Mai Sekiguchi', 'Takako Baba', 'Shin Kusaka', 'Ren Matsuzawa', 'Shigehiro Yamaguchi', 'Taro Yamamoto', 'Masanobu Ando', 'Yukihiro Kotani', 'Sousuke Takaoka', 'Yutaka Shimada', 'Tatsuya Fujiwara', 'Hirohito Honda', 'Yousuke Shibata', 'Takashi Tsukamoto', 'Jirô Nitta', 'Yasuomi Sano', 'Yuko Miyamura', 'Kazutoshi Yokoyama', 'Minami', 'Yuuki Masuda', 'Shigeki Hirokawa', 'Ai Iwamura', 'Ai Maeda', 'Michi Yamamura', 'Suzuka Tonegawa', 'Taro Suwa', 'Reiko Kataoka', 'Takeyuki Hirai', 'Tomu Asakawa', 'Yûya Nakahara', 'Takashi Komori', 'Ryôta Nakamura', 'Akihiro Ugajin', 'Yôichi Murakami', 'Tsuguharu Niizaki', \"Jun'ichi Nashiki\", 'Hiroshi Kitagawa', 'Hideaki Kawashima', 'Umiji Tasaki', 'Hidetsugu Okumura', 'Daisuke Yazawa', 'Nobuki Baba', 'Naoki Iwasawa', 'Kôji Tokuhisa', 'Mikiya Sanada', 'Kazuhiro Yokokura', 'Shigeki Homma', 'Kazuo Araki', 'Gôshi Matsuhara', 'Akira Yoshizawa', 'Kenzo Shirahama', 'Kanji Okumura', 'Shôji Takano', 'Ryouji Sugimoto', 'Hajime Yoneda', 'Hideaki Kojima', 'Nanami Ohta', 'Ayana Noguchi', 'Kotaru Kamijou', 'Hirobumi Seki', 'Kiyoyuki Matsumoto', 'Gou Ryugawa', 'Ken Nakaide', 'Kanako Fukaura', 'Shiro Go', 'Gouki Nishimura', 'Osamu Ohnishi', 'Satoshi Yokomichi', 'Junichi Naitou', 'Mitsuaki Tachikawa', 'Tetsu Masuda', 'Takashi Taniguchi'], 'directors': ['Kinji Fukasaku'], 'screenwriters': ['Masamichi Amano'], 'music_composers': ['Kenta Fukasaku']},\n",
       " 'm_3681': {'movie_id': 'm_3681', 'title': \"What's New Pussycat?\", 'genres': ['Comedy', 'Romance'], 'production_countries': ['FR', 'US'], 'collection_name': '', 'release_year': '1965', 'actors': ['Peter Sellers', \"Peter O'Toole\", 'Romy Schneider', 'Capucine', 'Paula Prentiss', 'Woody Allen', 'Ursula Andress', 'Eddra Gale', 'Michel Subor', 'Katrin Schaake', 'Jacques Balutin', 'Jean Parédès', 'Eléonore Hirt', 'Jess Hahn', 'Howard Vernon', 'Tanya Lopert', 'Daniel Emilfork', 'Louise Lasser', 'Sabine Sun', 'Richard Burton', 'Barbara Sommers', 'Françoise Hardy'], 'directors': ['Clive Donner'], 'screenwriters': ['Burt Bacharach'], 'music_composers': ['Woody Allen']},\n",
       " 'm_898': {'movie_id': 'm_898', 'title': 'Birdman of Alcatraz', 'genres': ['Drama'], 'production_countries': ['US'], 'collection_name': '', 'release_year': '1962', 'actors': ['Burt Lancaster', 'Karl Malden', 'Thelma Ritter', 'Neville Brand', 'Betty Field', 'Telly Savalas', \"Edmond O'Brien\", 'Hugh Marlowe', 'Whit Bissell', 'Crahan Denton', 'James Westerfield', 'Robert Bailey', 'Nicky Blair', 'Mushy Callahan', 'James J. Casino', 'Noble Chissell', 'John Indrisano', 'Pete Kellett', 'David McMahon', 'Pat Moran', 'Ben Roseman', 'Frankie Van', 'Robert Burton', 'Lewis Charles', 'Nick Dennis', 'Mike Mahoney', 'Raymond Greenleaf', 'William Hansen', 'Wayne Heffley', 'Michael Masters', 'Joe McGuinn', 'Victor Romito', 'Anton von Stralen', 'Robert Williams', 'William Hoehne Jr.', 'Dale Van Sickel', 'Kermit Maynard', 'Harry Holcombe', 'Fred Libby', 'Len Lesser', 'Edward Mallory', 'Adrienne Marden', 'George Mitchell', 'Leo Penn', 'Chris Robinson', 'Michael Ross', 'Phil Schumacher', 'Ray Spiker', 'Harry Jackson'], 'directors': ['John Frankenheimer'], 'screenwriters': ['Elmer Bernstein'], 'music_composers': ['Guy Trosper']},\n",
       " 'm_2000': {'movie_id': 'm_2000', 'title': 'Aguirre, der Zorn Gottes', 'genres': ['Adventure', 'Drama', 'History'], 'production_countries': ['DE', 'PE'], 'collection_name': '', 'release_year': '1972', 'actors': ['Klaus Kinski', 'Helena Rojo', 'Del Negro', 'Ruy Guerra', 'Peter Berling', 'Cecilia Rivera', 'Edward Roland', 'Daniel Ades', 'Armando Polanah', 'Daniel Farfán', 'Julio E. Martínez', 'Alejandro Chavez', 'Antonio Marquez', 'Alejandro Repullés', 'Uwe Paulsen'], 'directors': ['Werner Herzog'], 'screenwriters': ['Popol Vuh'], 'music_composers': []},\n",
       " 'm_648': {'movie_id': 'm_648', 'title': 'La belle et la bête', 'genres': ['Drama', 'Fantasy', 'Romance'], 'production_countries': ['FR'], 'collection_name': '', 'release_year': '1946', 'actors': ['Jean Marais', 'Josette Day', 'Marcel André', 'Mila Parély', 'Nane Germon', 'Michel Auclair', 'Raoul Marco', 'Jean Cocteau'], 'directors': ['Jean Cocteau'], 'screenwriters': ['Georges Auric'], 'music_composers': ['Jean Cocteau']},\n",
       " 'm_3089': {'movie_id': 'm_3089', 'title': 'Red River', 'genres': ['Western'], 'production_countries': ['US'], 'collection_name': '', 'release_year': '1948', 'actors': ['John Wayne', 'Montgomery Clift', 'Joanne Dru', 'Walter Brennan', 'Coleen Gray', 'Harry Carey', 'John Ireland', 'Noah Beery, Jr.', 'Harry Carey, Jr.', 'Chief Yowlachie', 'Paul Fix', 'Hank Worden', 'Mickey Kuhn', 'Ray Hyke', 'Hal Taliaferro'], 'directors': ['Howard Hawks', 'Arthur Rosson'], 'screenwriters': [], 'music_composers': ['Borden Chase', 'Charles Schnee']},\n",
       " 'm_1594': {'movie_id': 'm_1594', 'title': 'A Shot in the Dark', 'genres': ['Comedy', 'Crime'], 'production_countries': ['GB', 'US'], 'collection_name': 'The Pink Panther (Original) Collection', 'release_year': '1964', 'actors': ['Peter Sellers', 'Elke Sommer', 'George Sanders', 'Herbert Lom', 'Graham Stark', 'Moira Redmond', 'Tracy Reed', 'Burt Kwouk', 'André Maranne', 'Vanda Godsell', 'Maurice Kaufmann', 'Ann Lynn', 'David Lodge', 'Martin Benson', 'Reginald Beckwith', 'Douglas Wilmer', 'Bryan Forbes', 'Andre Charisse', 'Howard Greene', 'John Herrington', 'Jack Melford', 'Victor Baring', 'Victor Beaumont', 'Tutte Lemkow', 'Hurtado de Cordoba Ballet', 'Fred Hugh', 'Rose Hill', 'Tahitian Dance Group'], 'directors': ['Blake Edwards'], 'screenwriters': ['Henry Mancini'], 'music_composers': ['Blake Edwards', 'William Peter Blatty']},\n",
       " 'm_916': {'movie_id': 'm_916', 'title': 'Bullitt', 'genres': ['Action', 'Crime', 'Drama', 'Thriller'], 'production_countries': ['US'], 'collection_name': '', 'release_year': '1968', 'actors': ['Steve McQueen', 'Robert Vaughn', 'Jacqueline Bisset', 'Don Gordon', 'Robert Duvall', 'Simon Oakland', 'Norman Fell', 'Georg Stanford Brown', 'Justin Tarr', 'Carl Reindel', 'Felice Orlandi', 'Vic Tayback', 'Robert Lipton', 'Ed Peck', 'Pat Renella', 'Paul Genge', 'John Aprea', 'Al Checco', 'Bill Hickman'], 'directors': ['Peter Yates'], 'screenwriters': ['Lalo Schifrin'], 'music_composers': ['Alan Trustman', 'Harry Kleiner']},\n",
       " 'm_31685': {'movie_id': 'm_31685', 'title': 'The Hunchback of Notre Dame', 'genres': ['Romance', 'Drama', 'Horror'], 'production_countries': ['US'], 'collection_name': '', 'release_year': '1939', 'actors': ['Charles Laughton', 'Cedric Hardwicke', 'Thomas Mitchell', \"Maureen O'Hara\", \"Edmond O'Brien\", 'Alan Marshal', 'Walter Hampden', 'Harry Davenport', 'Katharine Alexander', 'George Zucco', 'Fritz Leiber', 'Etienne Girardot', 'Helene Reynolds', 'Minna Gombell', 'Arthur Hohl', 'Curt Bois', 'George Tobias', 'Rod La Rocque', 'Spencer Charters', 'Kathryn Adams', 'Diane Hunter', 'Sig Arno', 'Eddie Abdo', 'Louis Adlon', 'George Barrows', 'Vangie Beilby', 'Lionel Belmore', 'Barlowe Borland', 'Earl Clyde', 'Edmund Cobb', 'Alan Copeland', 'Harry Cording', 'Charles Drake', 'Arthur Dulac', 'Ralph Dunn', 'Gretl Dupont', 'Thom Fox', 'Alexander Granach', 'Charlie Hall', 'Charles Halton', 'Kenner G. Kemp', 'Joseph P. Mack', 'Frank Mazzola', 'Arthur Millett', 'Frank Mills', 'Angela Mulinos', 'Ferdinand Munier', 'Paul Newlan', 'Lillian Nicholson', 'Nestor Paiva', 'Russ Powell', 'Ward Shattuck', 'Alan Spear', 'Louis Zamperini'], 'directors': ['William Dieterle'], 'screenwriters': ['Alfred Newman'], 'music_composers': ['Sonya Levien']},\n",
       " 'm_3062': {'movie_id': 'm_3062', 'title': '42nd Street', 'genres': ['Music', 'Comedy', 'Romance'], 'production_countries': ['US'], 'collection_name': '', 'release_year': '1933', 'actors': ['Warner Baxter', 'Bebe Daniels', 'George Brent', 'Ruby Keeler', 'Guy Kibbee', 'Una Merkel', 'Ginger Rogers', 'Ned Sparks', 'Dick Powell', 'Allen Jenkins', 'Edward Nugent', 'Robert McWade', 'George E. Stone', 'Toby Wing', 'Louise Beavers', 'Charles Lane', 'Wallis Clark', 'Tom Kennedy', 'Harry Akst', 'George Irving', 'Clarence Nordstrum', 'Jack La Rue', 'Henry B. Walthall', 'Jayne Shadduck', 'Lyle Talbot', 'Dorothy Coonan Wellman'], 'directors': ['Lloyd Bacon'], 'screenwriters': [], 'music_composers': ['Rian James', 'James Seymour', 'Whitney Bolton']},\n",
       " 'm_79': {'movie_id': 'm_79', 'title': '英雄', 'genres': ['Drama', 'Adventure', 'Action', 'History'], 'production_countries': ['CN'], 'collection_name': '', 'release_year': '2002', 'actors': ['Jet Li', 'Tony Leung Chiu-Wai', 'Maggie Cheung', 'Donnie Yen', 'Zhang Ziyi', 'Chen Dao-Ming', 'Liu Zhong Yuan', 'Zheng Tia Yong', 'Yan Qin', 'Chang Xiao Yang', 'James Hong', 'Xia Bin', 'Hua Cao', 'Heizi', 'Ma Wen Hua', 'Xu Kuang Hua', 'Li Lei', 'Emil Lin', 'Liu Jie', 'Bruce Locke', 'Jin Ming', 'Angela Oh', 'Peng Qiang', 'James Sie', 'Elizabeth Sung', 'Shou Xin Wang', 'Yakun Zhang'], 'directors': ['Zhang Yimou'], 'screenwriters': ['Dun Tan'], 'music_composers': []},\n",
       " 'm_81': {'movie_id': 'm_81', 'title': '風の谷のナウシカ', 'genres': ['Adventure', 'Animation', 'Fantasy'], 'production_countries': ['JP'], 'collection_name': '', 'release_year': '1984', 'actors': ['Sumi Shimamoto', 'Ichirō Nagai', 'Gorō Naya', 'Yōji Matsuda', 'Yoshiko Sakakibara', 'Iemasa Kayumi', 'Hisako Kyouda', 'Mahito Tsujimura', 'Mîna Tominaga', 'Kōhei Miyauchi', 'Jōji Yanami', 'Minoru Yada', 'Rihoko Yoshida', 'Tetsuo Mizutori'], 'directors': ['Hayao Miyazaki'], 'screenwriters': ['Joe Hisaishi'], 'music_composers': ['Hayao Miyazaki']},\n",
       " 'm_616': {'movie_id': 'm_616', 'title': 'The Last Samurai', 'genres': ['Drama', 'Action', 'War', 'History'], 'production_countries': ['JP', 'US', 'NZ'], 'collection_name': '', 'release_year': '2003', 'actors': ['Tom Cruise', 'Ken Watanabe', 'William Atherton', 'Chad Lindberg', 'Billy Connolly', 'Tony Goldwyn', 'Shichinosuke Nakamura', 'Koyuki', 'Timothy Spall', 'Togo Igawa', 'Scott Wilson', 'Shun Sugata', 'Shin Koyamada', 'Hiroyuki Sanada', 'Masato Harada', 'Masashi Odate', 'John Koyama', 'Satoshi Nikaido', 'Shintaro Wada', 'Sosuke Ikematsu', 'Aoi Minato', 'Shoji Yoshihara', 'Seizô Fukumoto', 'Ray Godshall Sr.', 'Kosaburo Nomura IV', 'Takashi Noguchi', 'Noguchi Takayuki', 'Sven Toorvald', 'Yuki Matsuzaki', 'Mitsuyuki Oishi', 'Jiro Wada', 'Hiroshi Watanabe', 'Yusuke Myochin', 'Hiroaki Amano', 'Kenta Daibo', 'Koji Fujii', 'Makoto Hashiba', 'Shimpei Horinouchi', 'Takashi Kora', 'Shane Kosugi', 'Takeshi Maya', 'Seiji Morita', 'Lee Murayama', 'Takeru Shimizu', 'Shinji Suzuki', 'Hisao Takeda', 'Ryoichiro Yonekura'], 'directors': ['Edward Zwick'], 'screenwriters': ['Hans Zimmer'], 'music_composers': ['John Logan', 'Edward Zwick', 'Marshall Herskovitz']},\n",
       " 'm_587': {'movie_id': 'm_587', 'title': 'Big Fish', 'genres': ['Adventure', 'Fantasy', 'Drama'], 'production_countries': ['US'], 'collection_name': '', 'release_year': '2003', 'actors': ['Ewan McGregor', 'Albert Finney', 'Billy Crudup', 'Jessica Lange', 'Helena Bonham Carter', 'Alison Lohman', 'Marion Cotillard', 'Robert Guillaume', 'Matthew McGrory', 'David Denman', 'Missi Pyle', 'Loudon Wainwright III', 'Arlene Tai', 'Ada Tai', 'Steve Buscemi', 'Danny DeVito', 'Deep Roy', 'Perry Walston', 'Hailey Anne Nelson', 'R. Keith Harris', 'Grayson Stone', 'Miley Cyrus', 'Karla Droege', 'Zac Gardner', 'John Lowell', 'Sallie Hedrick', 'Charles McLawhorn', 'Frank Hoyt Taylor', 'Billy Redden', 'James DeForest Parker', 'Russell Hodgkinson', 'Don Young', 'David Ramsey', 'Greg Hohn', 'Zach Hanner', 'Jeff Campbell', 'Bonnie Johnson', 'Joanne Pankow', 'Trevor Gagnon', 'Daniel Wallace', 'Jake Brake', 'L.C. Holt', 'Will Thomas'], 'directors': ['Tim Burton'], 'screenwriters': ['Danny Elfman'], 'music_composers': ['John August']},\n",
       " 'm_1792': {'movie_id': 'm_1792', 'title': 'Stuck on You', 'genres': ['Comedy'], 'production_countries': ['US'], 'collection_name': '', 'release_year': '2003', 'actors': ['Matt Damon', 'Greg Kinnear', 'Eva Mendes', 'Wen Yann Shih', 'Seymour Cassel', 'Dane Cook', 'Cam Neely', 'Cher', 'Frankie Muniz', 'Daniel Greene', 'Jessica Cauffiel', 'Nikki Tyler-Flynn', 'Pat Crawford Brown', 'Terence Bernie Hines', 'Jackie Flynn', 'Griffin Dunne', 'Danny Murphy', 'Skyler Stone', 'Mike Cerrone', 'Michael Lee Merrins', 'Jonathan Cauff', 'Michael Callan', 'Steve Tyler', 'Peter Dante', 'Benjamin Koldyke', 'Elaine Curtis', 'Gary Valentine', 'Roger Fan', 'Sayed Badreya', 'Troy Brown', 'Catherine McCord', 'Kelly Albanese', 'Paulina Neely', 'Tracy Ashton', 'Ellen Jacoby', 'Ben Carson', 'Deborah Smith Ford', 'Rhona Mitra', 'Bella Thorne', 'Meryl Streep'], 'directors': ['Bobby Farrelly', 'Peter Farrelly'], 'screenwriters': ['Michael Andrews', 'Charlie Gartner'], 'music_composers': ['Bobby Farrelly', 'Peter Farrelly']},\n",
       " 'm_3635': {'movie_id': 'm_3635', 'title': 'Girl with a Pearl Earring', 'genres': ['Drama', 'Romance'], 'production_countries': ['GB', 'LU'], 'collection_name': '', 'release_year': '2003', 'actors': ['Scarlett Johansson', 'Colin Firth', 'Cillian Murphy', 'Tom Wilkinson', 'Judy Parfitt', 'Essie Davis', 'Joanna Scanlan', 'Gabrielle Reidy', 'Chris McHallem', 'Alakina Mann', 'Rollo Weeks', 'Anna Popplewell', 'Claire Johnston'], 'directors': ['Peter Webber'], 'screenwriters': ['Alexandre Desplat'], 'music_composers': ['Olivia Hetreed']},\n",
       " 'm_122': {'movie_id': 'm_122', 'title': 'The Lord of the Rings: The Return of the King', 'genres': ['Adventure', 'Fantasy', 'Action'], 'production_countries': ['NZ', 'US'], 'collection_name': 'The Lord of the Rings Collection', 'release_year': '2003', 'actors': ['Elijah Wood', 'Ian McKellen', 'Viggo Mortensen', 'Liv Tyler', 'Orlando Bloom', 'John Rhys-Davies', 'Sean Astin', 'Billy Boyd', 'Dominic Monaghan', 'Andy Serkis', 'Hugo Weaving', 'Ian Holm', 'Bernard Hill', 'Miranda Otto', 'David Wenham', 'Karl Urban', 'John Noble', 'Cate Blanchett', 'Lawrence Makoare', 'Paul Norell', 'Thomas Robins', 'Sarah McLeod', 'Sean Bean', 'Marton Csokas', 'Christopher Lee', 'David Aston', 'Sadwyn Brophy', 'Alistair Browning', 'Ian Hughes'], 'directors': ['Peter Jackson'], 'screenwriters': ['Howard Shore'], 'music_composers': ['Peter Jackson', 'Fran Walsh', 'Philippa Boyens']},\n",
       " 'm_2289': {'movie_id': 'm_2289', 'title': 'Cold Mountain', 'genres': ['Drama'], 'production_countries': ['US', 'GB', 'RO', 'IT'], 'collection_name': '', 'release_year': '2003', 'actors': ['Jude Law', 'Nicole Kidman', 'Renée Zellweger', 'Eileen Atkins', 'Brendan Gleeson', 'Philip Seymour Hoffman', 'Natalie Portman', 'Emily Deschanel', 'Giovanni Ribisi', 'Donald Sutherland', 'Ray Winstone', 'Kathy Baker', 'Charlie Hunnam', 'Ethan Suplee', 'Jena Malone', 'Lucas Black', 'Taryn Manning', 'Tom Aldredge', 'James Rebhorn', 'Cillian Murphy', 'Jack White', 'William Boyer', 'Jamie Lee'], 'directors': ['Anthony Minghella'], 'screenwriters': ['Gabriel Yared'], 'music_composers': ['Anthony Minghella']},\n",
       " 'm_1882': {'movie_id': 'm_1882', 'title': 'The Men', 'genres': ['Drama'], 'production_countries': ['US'], 'collection_name': '', 'release_year': '1950', 'actors': ['Marlon Brando', 'Teresa Wright', 'Everett Sloane', 'Jack Webb', 'Richard Erdman', 'Arthur Jurado', 'Virginia Farmer', 'Dorothy Tree', 'Howard St. John', 'Nita Hunter', 'Patricia Joiner'], 'directors': ['Fred Zinnemann'], 'screenwriters': ['Dimitri Tiomkin'], 'music_composers': ['Carl Foreman']},\n",
       " 'm_427': {'movie_id': 'm_427', 'title': 'Mon oncle', 'genres': ['Comedy'], 'production_countries': ['FR', 'IT'], 'collection_name': '', 'release_year': '1958', 'actors': ['Jacques Tati', 'Jean-Pierre Zola', 'Adrienne Servantie', 'Alain Bécourt', 'Lucien Frégis', 'Adelaide Danieli', 'Betty Schneider', 'Jean-François Martial', 'Dominique Marie', 'Yvonne Arnaud', 'Régis Fontenay'], 'directors': ['Jacques Tati'], 'screenwriters': ['Franck Barcellini', 'Alain Romans', 'Norbert Glanzberg'], 'music_composers': ['Jacques Tati', 'Jacques Lagrange', \"Jean L'Hôte\"]},\n",
       " 'm_3022': {'movie_id': 'm_3022', 'title': 'Dr. Jekyll and Mr. Hyde', 'genres': ['Drama', 'Horror', 'Science Fiction'], 'production_countries': ['US'], 'collection_name': '', 'release_year': '1941', 'actors': ['Spencer Tracy', 'Ingrid Bergman', 'Lana Turner', 'Donald Crisp', 'Ian Hunter', 'Barton MacLane', 'C. Aubrey Smith', 'Peter Godfrey', 'Sara Allgood', 'Frederick Worlock', 'William Tannen', 'Frances Robinson', 'Denis Greene', 'Billy Bevan', 'Forrester Harvey', 'Lumsden Hare', 'Lawrence Grant', 'John Barclay'], 'directors': ['Victor Fleming'], 'screenwriters': ['Franz Waxman', 'Daniele Amfitheatrof', 'Mario Castelnuovo-Tedesco'], 'music_composers': ['Samuel Hoffenstein', 'Percy Heath', 'John Lee Mahin']},\n",
       " 'm_778': {'movie_id': 'm_778', 'title': 'Les Vacances de Monsieur Hulot', 'genres': ['Comedy', 'Family'], 'production_countries': ['FR'], 'collection_name': '', 'release_year': '1953', 'actors': ['Jacques Tati', 'Nathalie Pascaud', 'Micheline Rolla', 'Valentine Camax', 'Louis Perrault', 'André Dubois', 'Lucien Frégis', 'Raymond Carl', 'René Lacourt', 'Suzy Willy'], 'directors': ['Jacques Tati'], 'screenwriters': ['Alain Romans'], 'music_composers': ['Jacques Tati']},\n",
       " 'm_3088': {'movie_id': 'm_3088', 'title': 'My Darling Clementine', 'genres': ['Drama', 'Western'], 'production_countries': ['US'], 'collection_name': '', 'release_year': '1946', 'actors': ['Henry Fonda', 'Linda Darnell', 'Victor Mature', 'Cathy Downs', 'Walter Brennan', 'Tim Holt', 'Ward Bond', 'Alan Mowbray', 'John Ireland', 'Roy Roberts', 'Jane Darwell', 'Grant Withers', 'J. Farrell MacDonald', 'Russell Simpson', 'Ruth Clifford', 'Francis Ford', 'Don Garner', 'Mae Marsh', 'Kermit Maynard', 'Robert Adler', 'Jack Pennick', 'C.E. Anderson', 'Tex Cooper', 'Tex Driscoll', 'Duke R. Lee', 'Don Barclay', 'Hank Bell', 'Danny Borzage', 'Frank Conlan', 'Jack Curtis', 'William B. Davidson', 'James Dime', 'Frank Ellis', 'Jack Kenny', 'Earle Foxe', 'Ben Hall', 'Aleth Hansen', 'Fred Libby', 'Margaret Martin', 'Louis Mercier', 'Jack Montgomery', 'Mickey Simpson', 'Charles Stevens', 'Arthur Walsh', 'Harry Woods'], 'directors': ['John Ford'], 'screenwriters': ['Cyril J. Mockridge'], 'music_composers': ['Samuel G. Engel', 'Winston Miller']},\n",
       " 'm_405': {'movie_id': 'm_405', 'title': 'La strada', 'genres': ['Drama'], 'production_countries': ['IT'], 'collection_name': '', 'release_year': '1954', 'actors': ['Anthony Quinn', 'Giulietta Masina', 'Richard Basehart', 'Aldo Silvani', 'Marcella Rovere', 'Lidia Venturini', 'Gustavo Giorgi', 'Yami Kamadeva', 'Mario Passante', 'Anna Primula', 'Pietro Ceccarelli', 'Goffredo Unger', 'Nazzareno Zamperla'], 'directors': ['Federico Fellini'], 'screenwriters': ['Nino Rota'], 'music_composers': ['Federico Fellini', 'Tullio Pinelli', 'Ennio Flaiano']},\n",
       " 'm_1954': {'movie_id': 'm_1954', 'title': 'The Butterfly Effect', 'genres': ['Science Fiction', 'Thriller'], 'production_countries': ['CA', 'US'], 'collection_name': 'The Butterfly Effect Collection', 'release_year': '2004', 'actors': ['Ashton Kutcher', 'Melora Walters', 'Amy Smart', 'Elden Henson', 'William Lee Scott', 'Eric Stoltz', 'Logan Lerman', 'Ethan Suplee', 'Nathaniel DeVeaux', 'Kevin G. Schmidt', 'Jesse James', 'Callum Keith Rennie', 'Irene Gorovaia', 'John Patrick Amedori', 'Cameron Bright', 'Lorena Gale', 'Kendall Cross', 'John Tierney', 'Ted Friend', 'John B. Lowe', 'Camille Sullivan', 'Tara Wilson', 'Jesse Hutch', 'Bill Croft', 'Kevan Ohtsji', 'Daniel Spink', 'Meilani Paul', 'Grant Thompson'], 'directors': ['Eric Bress', 'J. Mackye Gruber'], 'screenwriters': ['Michael Suby'], 'music_composers': ['Eric Bress', 'J. Mackye Gruber']},\n",
       " 'm_1278': {'movie_id': 'm_1278', 'title': 'The Dreamers', 'genres': ['Drama', 'Romance'], 'production_countries': ['FR', 'IT', 'GB'], 'collection_name': '', 'release_year': '2003', 'actors': ['Michael Pitt', 'Eva Green', 'Louis Garrel', 'Anna Chancellor', 'Robin Renucci', 'Jean-Pierre Kalfon', 'Jean-Pierre Léaud', 'Florian Cadiou', 'Pierre Hancisse', 'Valentin Merlet', 'Lola Peploe', 'Ingy Fillion'], 'directors': ['Bernardo Bertolucci'], 'screenwriters': [], 'music_composers': ['Gilbert Adair']},\n",
       " 'm_337': {'movie_id': 'm_337', 'title': 'Monsieur Ibrahim et les fleurs du Coran', 'genres': ['Drama'], 'production_countries': ['FR'], 'collection_name': '', 'release_year': '2003', 'actors': ['Omar Sharif', 'Pierre Boulanger', 'Gilbert Melki', 'Isabelle Renauld', 'Lola Naymark', 'Anne Suarez', 'Mata Gabin', 'Céline Samie', 'Isabelle Adjani', 'Guillaume Gallienne', 'Guillaume Rannou', 'Manuel Le Lièvre', 'Daniel Znyk'], 'directors': ['François Dupeyron'], 'screenwriters': ['Philippe Miller'], 'music_composers': ['François Dupeyron']},\n",
       " 'm_338': {'movie_id': 'm_338', 'title': 'Good bye, Lenin!', 'genres': ['Comedy', 'Drama', 'Romance'], 'production_countries': ['DE'], 'collection_name': '', 'release_year': '2003', 'actors': ['Daniel Brühl', 'Katrin Sass', 'Chulpan Khamatova', 'Maria Simon', 'Florian Lukas', 'Alexander Beyer', 'Burghart Klaußner', 'Michael Gwisdek', 'Christine Schorn', 'Jürgen Holtz', 'Jochen Stern', 'Stefan Walz', 'Eberhard Kirchberg', 'Hans-Uwe Bauer', 'Jürgen Vogel', 'Elke Werner'], 'directors': ['Wolfgang Becker'], 'screenwriters': ['Yann Tiersen'], 'music_composers': ['Wolfgang Becker', 'Bernd Lichtenberg']},\n",
       " 'm_2023': {'movie_id': 'm_2023', 'title': 'Hidalgo', 'genres': ['Western', 'Adventure'], 'production_countries': ['US', 'MA'], 'collection_name': '', 'release_year': '2004', 'actors': ['Viggo Mortensen', 'Zuleikha Robinson', 'Omar Sharif', 'Adam Alexi-Malle', 'Louise Lombard', 'Silas Carson', 'Harsh Nayyar', 'C. Thomas Howell', 'J.K. Simmons', 'Adoni Maropis', 'Joshua Wolf Coleman', 'Saïd Taghmaoui', 'Victor Talmadge', 'Peter Mensah', 'Franky Mwangi', 'Floyd Red Crow Westerman'], 'directors': ['Joe Johnston'], 'screenwriters': ['James Newton Howard'], 'music_composers': ['John Fusco']},\n",
       " 'm_1586': {'movie_id': 'm_1586', 'title': 'Secret Window', 'genres': ['Thriller', 'Mystery'], 'production_countries': ['US'], 'collection_name': '', 'release_year': '2004', 'actors': ['Johnny Depp', 'John Turturro', 'Maria Bello', 'Timothy Hutton', 'Charles S. Dutton', 'Len Cariou', 'Joan Heney', 'John Dunn-Hill', 'Vlasta Vrána', 'Matt Holland', 'Gillian Ferrabee', 'Bronwen Mantel', 'Elizabeth Marleau', 'Kyle Allatt', 'Richard Jutras'], 'directors': ['David Koepp'], 'screenwriters': ['Philip Glass', 'Geoff Zanelli'], 'music_composers': ['David Koepp']},\n",
       " 'm_156': {'movie_id': 'm_156', 'title': 'Wilbur begår selvmord', 'genres': ['Comedy', 'Drama', 'Romance'], 'production_countries': ['DK', 'FR', 'GB', 'SE'], 'collection_name': '', 'release_year': '2002', 'actors': ['Jamie Sives', 'Adrian Rawlins', 'Shirley Henderson', 'Lisa McKinlay', 'Mads Mikkelsen', 'Julia Davis', 'Susan Vidler', 'Robert McIntosh', 'Lorraine McIntosh', 'Gordon Brown', 'Mhairi Morrison', 'Andrew Townsley', 'Coral Preston', 'Colin McAllister', 'Owen Gorman', 'Elaine MacKenzie Ellis'], 'directors': ['Lone Scherfig'], 'screenwriters': ['Joachim Holbek'], 'music_composers': ['Anders Thomas Jensen', 'Lone Scherfig']},\n",
       " 'm_924': {'movie_id': 'm_924', 'title': 'Dawn of the Dead', 'genres': ['Fantasy', 'Horror', 'Action'], 'production_countries': ['US'], 'collection_name': '', 'release_year': '2004', 'actors': ['Sarah Polley', 'Ving Rhames', 'Jake Weber', 'Mekhi Phifer', 'Ty Burrell', 'Matt Frewer', 'Michael Kelly', 'Kevin Zegers', 'Lindy Booth', 'Michael Barry', 'Jayne Eastwood', 'Boyd Banks', 'Inna Korobkina', 'Kim Poirier', 'Louis Ferreira', 'Scott H. Reiniger', 'Tom Savini', 'Ken Foree', 'Natalie Brown', 'Phillip MacKenzie'], 'directors': ['Zack Snyder'], 'screenwriters': ['Tyler Bates'], 'music_composers': ['George A. Romero', 'James Gunn']},\n",
       " 'm_553': {'movie_id': 'm_553', 'title': 'Dogville', 'genres': ['Crime', 'Drama', 'Thriller'], 'production_countries': ['DK', 'FI', 'FR', 'DE', 'IT', 'NL', 'NO', 'SE', 'GB'], 'collection_name': 'USA: Land of Opportunities Collection', 'release_year': '2003', 'actors': ['Nicole Kidman', 'Harriet Andersson', 'Lauren Bacall', 'Jean-Marc Barr', 'Paul Bettany', 'Blair Brown', 'James Caan', 'Patricia Clarkson', 'Jeremy Davies', 'Ben Gazzara', 'Philip Baker Hall', 'Thom Hoffman', 'Siobhan Fallon', 'Zeljko Ivanek', 'John Randolph Jones', 'Udo Kier', 'Cleo King', 'Miles Purinton', 'Bill Raymond', 'Chloë Sevigny', 'Shauna Shim', 'Stellan Skarsgård', 'Evelina Brinkemo', 'Anna Brobeck', 'Tilde Lindgren', 'Evelina Lundqvist', 'Helga Olofsson', 'John Hurt', 'Jan Coster', 'Ingvar Örner', 'Erich Silva'], 'directors': ['Lars von Trier'], 'screenwriters': ['Antonio Vivaldi'], 'music_composers': ['Lars von Trier']},\n",
       " 'm_2122': {'movie_id': 'm_2122', 'title': 'The Whole Ten Yards', 'genres': ['Comedy', 'Thriller', 'Crime'], 'production_countries': ['US'], 'collection_name': 'The Whole Nine/Ten Yards Collection', 'release_year': '2004', 'actors': ['Bruce Willis', 'Matthew Perry', 'Amanda Peet', 'Kevin Pollak', 'Frank Collison', 'Johnny Messner', 'Natasha Henstridge', 'Tasha Smith', 'Silas Weir Mitchell', 'Elisa Gallay'], 'directors': ['Howard Deutch'], 'screenwriters': ['John Debney'], 'music_composers': ['George Gallo']},\n",
       " 'm_923': {'movie_id': 'm_923', 'title': 'Dawn of the Dead', 'genres': ['Horror'], 'production_countries': ['IT', 'JP', 'US'], 'collection_name': 'Living Dead Collection', 'release_year': '1978', 'actors': ['David Emge', 'Ken Foree', 'Scott H. Reiniger', 'Gaylen Ross', 'David Crawford', 'David Early', 'Richard France', 'Howard Smith', 'Daniel Dietrich', 'Fred Baker', 'James A. Baffico', 'Rod Stouffer', 'Jese Del Gre', 'Clayton McKinnon', 'John Rice', 'Ted Bank', 'Randy Kovitz', 'Patrick McCloskey', 'Joseph Pilato', 'Pasquale Buba', 'Tom Savini', 'Marty Schiff', 'Taso N. Stavrakis', 'Sharon Ceccatti', 'Mike Christopher', 'Clayton Hill', 'Christine Forrest', 'George A. Romero', 'John Amplas', 'Greg Besnak', 'Rik Billock', 'Roy Frumkes', 'Debra Gordon', 'Michael Gornick', 'Donald Rubinstein', 'Warner Shook', 'Sara Venable'], 'directors': ['George A. Romero'], 'screenwriters': ['Agostino Marangolo', 'Massimo Morante', 'Fabio Pignatelli', 'Claudio Simonetti'], 'music_composers': ['George A. Romero']},\n",
       " 'm_3591': {'movie_id': 'm_3591', 'title': 'One Million Years B.C.', 'genres': ['Action', 'Adventure', 'Fantasy'], 'production_countries': ['GB'], 'collection_name': '', 'release_year': '1966', 'actors': ['Raquel Welch', 'John Richardson', 'Percy Herbert', 'Robert Brown', 'Martine Beswick', 'Jean Wladon', 'Lisa Thomas'], 'directors': ['Don Chaffey'], 'screenwriters': ['Mario Nascimbene'], 'music_composers': ['Michael Carreras']},\n",
       " 'm_237': {'movie_id': 'm_237', 'title': 'Young Adam', 'genres': ['Drama', 'Thriller', 'Crime', 'Romance'], 'production_countries': ['FR', 'GB'], 'collection_name': '', 'release_year': '2003', 'actors': ['Ewan McGregor', 'Tilda Swinton', 'Peter Mullan', 'Emily Mortimer', 'Jack McElhone', 'Therese Bradley', 'Ewan Stewart', 'Stuart McQuarrie', 'Pauline Turner', 'Alan Cooke', 'Rory McCann', 'Ian Hanmore', 'Mhairi Morrison', 'Anne Marie Timoney'], 'directors': ['David Mackenzie'], 'screenwriters': ['David Byrne'], 'music_composers': ['David Mackenzie']},\n",
       " 'm_502': {'movie_id': 'm_502', 'title': 'Fail-Safe', 'genres': ['Drama', 'History', 'Thriller'], 'production_countries': ['US'], 'collection_name': '', 'release_year': '1964', 'actors': ['Henry Fonda', 'Walter Matthau', 'Fritz Weaver', 'Larry Hagman', 'Frank Overton', 'Edward Binns', \"Dan O'Herlihy\", 'William Hansen', 'Russell Hardie', 'Janet Ward', 'Dom DeLuise', 'Russell Collins', 'Sorrell Booke', 'Nancy Berg', 'John Connell', 'Frank Simpson', 'Hildy Parks', 'Dana Elcar', 'Louise Larabee', 'Stewart Germain', 'Geri Miller', 'Charles Tyner'], 'directors': ['Sidney Lumet'], 'screenwriters': [], 'music_composers': ['Walter Bernstein']},\n",
       " 'm_1373': {'movie_id': 'm_1373', 'title': 'The Discovery of Heaven', 'genres': ['Drama', 'Fantasy'], 'production_countries': ['GB', 'NL'], 'collection_name': '', 'release_year': '2001', 'actors': ['Stephen Fry', 'Greg Wise', 'Neil Newbon', 'Viv Weatherall', 'Jeroen Krabbé', 'Flora Montgomery', 'Dimitris Philippou', 'Diana Quick', 'Gillian Barge', 'Nettie Blanken', 'Victoria Carling', 'Lois de Jong', 'John Franklyn-Robbins', 'Geraldine Alexander', 'Nicholas Palliser', 'Emma Fielding', 'Sean Harris'], 'directors': ['Jeroen Krabbé'], 'screenwriters': ['Henny Vrienten'], 'music_composers': ['Edwin de Vries']},\n",
       " 'm_204': {'movie_id': 'm_204', 'title': 'Le salaire de la peur', 'genres': ['Drama', 'Thriller', 'Adventure'], 'production_countries': ['FR', 'IT'], 'collection_name': '', 'release_year': '1953', 'actors': ['Yves Montand', 'Charles Vanel', 'Peter van Eyck', 'Folco Lulli', 'Véra Clouzot', 'Antonio Centa', 'Luis De Lima', 'Jo Dest', 'Darío Moreno', 'William Tubbs', 'Grégoire Gromoff', 'Joseph Palau-Fabre', 'Darling Légitimus', 'François Valorbe'], 'directors': ['Henri-Georges Clouzot'], 'screenwriters': ['Georges Auric'], 'music_composers': ['Henri-Georges Clouzot', 'Jérôme Géronimi']},\n",
       " 'm_1394': {'movie_id': 'm_1394', 'title': 'Nostalghia', 'genres': ['Drama', 'Romance'], 'production_countries': ['SU', 'IT'], 'collection_name': '', 'release_year': '1983', 'actors': ['Oleg Yankovskiy', 'Erland Josephson', 'Domiziana Giordano', 'Patrizia Terreno', 'Laura De Marchi', 'Delia Boccardo', 'Milena Vukotic'], 'directors': ['Andrei Tarkovsky'], 'screenwriters': [], 'music_composers': ['Andrei Tarkovsky', 'Tonino Guerra']},\n",
       " 'm_1719': {'movie_id': 'm_1719', 'title': 'La Peau douce', 'genres': ['Drama', 'Romance'], 'production_countries': ['FR'], 'collection_name': '', 'release_year': '1964', 'actors': ['Françoise Dorléac', 'Jean Desailly', 'Nelly Benedetti', 'Daniel Ceccaldi', 'Laurence Badie', 'Philippe Dumat', 'Paule Emanuele', 'Maurice Garrel', 'Sabine Haudepin', 'Dominique Lacarrière', 'Jean Lanier', 'Pierre Risch'], 'directors': ['François Truffaut'], 'screenwriters': ['Georges Delerue'], 'music_composers': ['François Truffaut', 'Jean-Louis Richard']},\n",
       " 'm_222': {'movie_id': 'm_222', 'title': 'Berlin: Die Sinfonie der Grosstadt', 'genres': ['Documentary', 'History'], 'production_countries': ['DE'], 'collection_name': '', 'release_year': '1927', 'actors': ['Paul von Hindenburg'], 'directors': ['Walter Ruttmann'], 'screenwriters': ['Edmund Meisel'], 'music_composers': []},\n",
       " 'm_1059': {'movie_id': 'm_1059', 'title': '隠し砦の三悪人', 'genres': ['Adventure', 'Drama', 'Action', 'Comedy'], 'production_countries': ['JP'], 'collection_name': '', 'release_year': '1958', 'actors': ['Toshirō Mifune', 'Takashi Shimura', 'Minoru Chiaki', 'Misa Uehara', 'Kamatari Fujiwara', 'Susumu Fujita', 'Eiko Miyoshi', 'Toshiko Higuchi', 'Yû Fujiki', 'Yoshio Tsuchiya', 'Kokuten Kôdô', 'Takeshi Katô', 'Kôji Mitsui', 'Toranosuke Ogawa', 'Kichijirô Ueda', 'Nakajirô Tomita', 'Yoshifumi Tajima', 'Ikio Sawamura', 'Senkichi Ômura', 'Sachio Sakai', 'Makoto Satô', 'Yoshio Kosugi', 'Akira Tani', 'Yutaka Sada', 'Takeo Oikawa', 'Tadao Nakamaru', 'Takuzô Kumagai', 'Shôichi Hirose', 'Etsurô Saijô', 'Masayoshi Nagashima', 'Fuminori Ôhashi', 'Shin Ôtomo', 'Minoru Itô', 'Haruo Suzuki', 'Shigekatsu Kanazawa', 'Kazuo Higata', 'Haruo Nakajima', 'Ryû Kuze', 'Ichirô Chiba', 'Shigemi Sunagawa', 'Rinsaku Ogata', 'Hiroyoshi Yamaguchi', 'Haruya Sakamoto'], 'directors': ['Akira Kurosawa'], 'screenwriters': ['Masaru Satô'], 'music_composers': ['Akira Kurosawa']},\n",
       " 'm_5481': {'movie_id': 'm_5481', 'title': 'Schock', 'genres': ['Horror', 'Thriller'], 'production_countries': ['IT'], 'collection_name': '', 'release_year': '1977', 'actors': ['Daria Nicolodi', 'John Steiner', 'David Colin Jr.', 'Ivan Rassimov', 'Paul Costello', 'Nicola Salerno'], 'directors': ['Mario Bava'], 'screenwriters': ['Dino Cappa', 'Alessandro Centofanti', 'Walter Martino'], 'music_composers': ['Francesco Barbieri', 'Lamberto Bava', 'Paolo Brigenti', 'Dardano Sacchetti']},\n",
       " 'm_7090': {'movie_id': 'm_7090', 'title': 'Ken Park', 'genres': ['Drama'], 'production_countries': ['FR', 'NL', 'US'], 'collection_name': '', 'release_year': '2002', 'actors': ['James Ransone', 'Tiffany Limos', 'Maeve Quinlan', 'Amanda Plummer', 'Wade Williams', 'Stephen Jasso', 'James Bullard', 'Mike Apaletegui', 'Adam Chubbuck', 'Julio Oscar Mechoso', 'Patricia Place', 'Harrison Young', 'Eddie Daniels'], 'directors': ['Edward Lachman', 'Larry Clark'], 'screenwriters': [], 'music_composers': ['Harmony Korine']},\n",
       " 'm_5902': {'movie_id': 'm_5902', 'title': 'A Bridge Too Far', 'genres': ['Drama', 'History', 'War'], 'production_countries': ['GB', 'US'], 'collection_name': '', 'release_year': '1977', 'actors': ['Dirk Bogarde', 'James Caan', 'Michael Caine', 'Sean Connery', 'Edward Fox', 'Elliott Gould', 'Gene Hackman', 'Anthony Hopkins', 'Hardy Krüger', 'Laurence Olivier', \"Ryan O'Neal\", 'Robert Redford', 'Maximilian Schell', 'Liv Ullmann', 'John Judd', 'Denholm Elliott', 'Jeremy Kemp', 'Wolfgang Preiss', 'Nicholas Campbell', 'Colin Farrell', 'Walter Kohut', 'Alun Armstrong', 'Hans von Borsody', 'Hartmut Becker', 'Michael Byrne', 'Garrick Hagon', 'John Ratzenberger', 'Fred Williams', 'Ben Cross', 'Arthur Hill', 'Edward Kalinski', 'Ben Howard', 'Donald Douglas', 'Philip Ettington'], 'directors': ['Richard Attenborough'], 'screenwriters': ['John Addison'], 'music_composers': ['William Goldman']},\n",
       " 'm_203': {'movie_id': 'm_203', 'title': 'Mean Streets', 'genres': ['Drama', 'Crime'], 'production_countries': ['US'], 'collection_name': '', 'release_year': '1973', 'actors': ['Harvey Keitel', 'Robert De Niro', 'David Proval', 'Amy Robinson', 'Richard Romanus', 'Cesare Danova', 'Victor Argo', 'George Memmoli', 'Lenny Scaletta', 'Jean Bell', 'Murray Moston', 'David Carradine', 'Robert Carradine', 'Harry Northup', \"D'Mitch Davis\"], 'directors': ['Martin Scorsese'], 'screenwriters': ['Eric Clapton'], 'music_composers': ['Martin Scorsese', 'Mardik Martin']},\n",
       " 'm_316': {'movie_id': 'm_316', 'title': 'Halbe Treppe', 'genres': ['Comedy', 'Drama'], 'production_countries': ['DE'], 'collection_name': '', 'release_year': '2002', 'actors': ['Steffi Kühnert', 'Gabriela Maria Schmeide', 'Thorsten Merten', 'Axel Prahl', 'Janko Brett', 'Miro De Vittoris', 'Knut Elstermann', 'Carmen Engler', 'Frank Fuhrmann', 'Jens Graßmehl', 'Julia Ziesche'], 'directors': ['Andreas Dresen'], 'screenwriters': ['17 Hippies'], 'music_composers': ['Andreas Dresen']},\n",
       " 'm_3072': {'movie_id': 'm_3072', 'title': 'Frankenstein Unbound', 'genres': ['Drama', 'Horror', 'Science Fiction'], 'production_countries': ['US'], 'collection_name': '', 'release_year': '1990', 'actors': ['John Hurt', 'Raúl Juliá', 'Nick Brimble', 'Bridget Fonda', 'Jason Patric', 'Michael Hutchence', 'Catherine Rabett', 'Catherine Corman', 'William Geiger', 'Mickey Knox', 'Myriam Cyr', 'Terri Treas', 'Cynthia Allison', 'Isabella Rocchietta', 'John Karlsen', 'Donald Hodson'], 'directors': ['Roger Corman'], 'screenwriters': ['Carl Davis'], 'music_composers': ['Roger Corman', 'F.X. Feeney']},\n",
       " 'm_48385': {'movie_id': 'm_48385', 'title': 'Indestructible Man', 'genres': ['Crime', 'Horror', 'Science Fiction'], 'production_countries': ['US'], 'collection_name': '', 'release_year': '1956', 'actors': ['Lon Chaney Jr.', 'Max Showalter', 'Marian Carr', 'Ross Elliott', 'Stuart Randall', 'Marvin Press', 'Ken Terrell', 'Roy Engle', 'Peggy Maley', 'Robert Shayne', 'Joe Flynn', 'Robert Foulk', 'Eddie Marr', 'Madge Bennett', 'Madge Cleveland', 'Marjorie Stapp', 'Rita Greene', 'Dorothy Ford', 'Lyle Latell', 'Russell Custer', 'Fred Rapport'], 'directors': ['Jack Pollexfen'], 'screenwriters': [], 'music_composers': ['Sue Dwiggins', 'Vy Russell']},\n",
       " 'm_1994': {'movie_id': 'm_1994', 'title': 'The Most Dangerous Game', 'genres': ['Adventure', 'Horror', 'Thriller'], 'production_countries': ['US'], 'collection_name': '', 'release_year': '1932', 'actors': ['Joel McCrea', 'Fay Wray', 'Leslie Banks', 'Robert Armstrong', 'Noble Johnson', 'Hale Hamilton', 'Steve Clemente', 'Buster Crabbe', 'James Flavin', 'William B. Davidson', 'Landers Stevens'], 'directors': ['Ernest B. Schoedsack', 'Irving Pichel'], 'screenwriters': ['Max Steiner'], 'music_composers': ['James Ashmore Creelman']},\n",
       " 'm_435': {'movie_id': 'm_435', 'title': 'The Day After Tomorrow', 'genres': ['Action', 'Adventure', 'Science Fiction', 'Thriller'], 'production_countries': ['US'], 'collection_name': '', 'release_year': '2004', 'actors': ['Dennis Quaid', 'Jake Gyllenhaal', 'Emmy Rossum', 'Dash Mihok', 'Jay O. Sanders', 'Sela Ward', 'Austin Nichols', 'Arjay Smith', 'Tamlyn Tomita', 'Sasha Roiz', 'Ian Holm', 'Nassim Sharara', 'Carl Alacchi', 'Kenneth Welsh', \"Michel 'Gish' Abou-Samah\", 'Kenneth Moskow', 'Glenn Plummer', 'Adrian Lester', 'Nestor Serrano', 'John Maclaren', 'Richard Zeman', 'Perry King', 'Mimi Kuzyk', 'Vitali Makarov', 'Russell Yuen', 'Christopher Britton', 'Christian Tessier'], 'directors': ['Roland Emmerich'], 'screenwriters': ['Harald Kloser', 'Thomas Wanker'], 'music_composers': []},\n",
       " 'm_673': {'movie_id': 'm_673', 'title': 'Harry Potter and the Prisoner of Azkaban', 'genres': ['Adventure', 'Fantasy', 'Family'], 'production_countries': ['GB', 'US'], 'collection_name': 'Harry Potter Collection', 'release_year': '2004', 'actors': ['Daniel Radcliffe', 'Rupert Grint', 'Emma Watson', 'Gary Oldman', 'David Thewlis', 'Alan Rickman', 'Michael Gambon', 'Robbie Coltrane', 'Tom Felton', 'Emma Thompson', 'Maggie Smith', 'Bonnie Wright', 'James Phelps', 'Oliver Phelps', 'Timothy Spall', 'Matthew Lewis', 'David Bradley', 'Julie Walters', 'Mark Williams', 'Richard Griffiths', 'Fiona Shaw', 'Harry Melling', 'Alfie Enoch', 'Devon Murray', 'Jamie Waylett', 'Josh Herdman', 'Chris Rankin', 'Robert Hardy', 'Pam Ferris', 'Warwick Davis', 'Dawn French', 'Lee Ingleby', 'Lenny Henry', 'Genevieve Gaunt', 'Sitara Shah', 'Danielle Tabor', 'Bronson Webb', 'Jim Tavaré', 'Ekow Quartey', 'Jimmy Gardner', 'Julie Christie', 'Paul Whitehouse', 'Geraldine Somerville', 'Adrian Rawlins', 'Jennifer Smith', 'Peter Best', 'Marianne Chase', 'Samantha Clinch', 'Kandice Morris', 'Lewis Barnshaw', 'Violet Columbus'], 'directors': ['Alfonso Cuarón'], 'screenwriters': ['John Williams'], 'music_composers': ['Steve Kloves']},\n",
       " 'm_246': {'movie_id': 'm_246', 'title': '座頭市', 'genres': ['Adventure', 'Drama', 'Action'], 'production_countries': ['JP'], 'collection_name': '', 'release_year': '2003', 'actors': ['Takeshi Kitano', 'Tadanobu Asano', 'Michiyo Ohkusu', 'Gadarukanaru Taka', 'Daigorō Tachibana', 'Yûko Daike', 'Yui Natsukawa', 'Ittoku Kishibe', 'Saburo Ishikura', 'Akira Emoto'], 'directors': ['Takeshi Kitano'], 'screenwriters': ['Keiichi Suzuki'], 'music_composers': ['Takeshi Kitano']},\n",
       " 'm_46976': {'movie_id': 'm_46976', 'title': 'Wish You Were Here', 'genres': ['Comedy', 'Drama', 'Foreign', 'Romance'], 'production_countries': ['GB'], 'collection_name': '', 'release_year': '1987', 'actors': ['Emily Lloyd', 'Tom Bell', 'Jesse Birdsall', 'Clare Clifford', 'Sheila Kelley', 'Trudi Cavanagh', 'Barbara Durkin', 'Geoffrey Hutchings', 'Charlotte Barker', 'Chloe Leland', 'Charlotte Ball', 'Pat Heywood', 'Abigail Leland', 'Susan Skipper', 'Geoffrey Durham', 'Neville Smith', 'Lee Whitlock', 'Frederick Hall', 'Bob Flag', 'Bob Flag', 'William Lawford', 'Pamela Duncan', 'Pamela Duncan', 'David Hatton', 'Ben Daniels', 'Kim McDermott', 'Barrie Houghton', 'Jim Dowdall', 'Dani Phelps', 'Marjorie Sudell'], 'directors': ['David Leland'], 'screenwriters': [], 'music_composers': []},\n",
       " 'm_3019': {'movie_id': 'm_3019', 'title': 'Dr. Jekyll and Mr. Hyde', 'genres': ['Horror', 'Science Fiction'], 'production_countries': ['US'], 'collection_name': '', 'release_year': '1931', 'actors': ['Fredric March', 'Miriam  Hopkins', 'Rose Hobart', 'Holmes Herbert', 'Halliwell Hobbes', 'Edgar Norton', 'Tempe Pigott'], 'directors': ['Rouben Mamoulian'], 'screenwriters': [], 'music_composers': ['Samuel Hoffenstein', 'Percy Heath']},\n",
       " 'm_594': {'movie_id': 'm_594', 'title': 'The Terminal', 'genres': ['Comedy', 'Drama'], 'production_countries': ['US'], 'collection_name': '', 'release_year': '2004', 'actors': ['Tom Hanks', 'Catherine Zeta-Jones', 'Stanley Tucci', 'Chi McBride', 'Diego Luna', 'Barry Shabaka Henley', 'Kumar Pallana', 'Zoe Saldana', 'Eddie Jones', 'Jude Ciccolella', 'Corey Reynolds', 'Guillermo Díaz', 'Rini Bell', 'Stephen Mendel', 'Michael Nouri', 'Sasha Spielberg', 'John Eddins', 'Valeriy Nikolaev', 'Lydia Blanco Garza', 'Susan Slome', 'Kenneth Choi', 'Scott Adsit', 'Eddie Santiago'], 'directors': ['Steven Spielberg'], 'screenwriters': ['John Williams'], 'music_composers': ['Jeff Nathanson', 'Sacha Gervasi']},\n",
       " 'm_8981': {'movie_id': 'm_8981', 'title': 'Dear Frankie', 'genres': ['Drama', 'Family'], 'production_countries': ['GB'], 'collection_name': '', 'release_year': '2004', 'actors': ['Gerard Butler', 'Emily Mortimer', 'Jack McElhone', 'Sharon Small', 'Katy Murphy', 'Jayd Johnson', 'Mary Riggans', 'Cal Macaninch', 'John Kazek', 'Anne Marie Timoney', 'Andrea Gibb', 'Sophie Main', 'Elaine MacKenzie Ellis', 'Rony Bridges'], 'directors': ['Shona Auerbach'], 'screenwriters': ['Alex Heffes'], 'music_composers': ['Andrea Gibb']},\n",
       " 'm_1944': {'movie_id': 'm_1944', 'title': 'The Door in the Floor', 'genres': ['Drama'], 'production_countries': ['US'], 'collection_name': '', 'release_year': '2004', 'actors': ['Jeff Bridges', 'Kim Basinger', 'Elle Fanning', 'Jon Foster'], 'directors': ['Tod Williams'], 'screenwriters': [], 'music_composers': ['Tod Williams']},\n",
       " 'm_1997': {'movie_id': 'm_1997', 'title': 'Deux frères', 'genres': ['Adventure', 'Drama', 'Family'], 'production_countries': ['FR', 'GB'], 'collection_name': '', 'release_year': '2004', 'actors': ['Maï Anh Le', 'Guy Pearce', 'Oanh Nguyen', \"Jaran 'See Tao' Petcharoen\", 'Stéphanie Lagarde', 'Jean-Claude Dreyfus', 'Philippine Leroy-Beaulieu', 'Vincent Scarito', 'Moussa Maaskri', 'Freddie Highmore', 'Bernard Flavien', 'Annop Varapanya', 'David Gant', 'Teerawat Mulvilai', 'Somjin Chimwong'], 'directors': ['Jean-Jacques Annaud'], 'screenwriters': ['Stephen Warbeck'], 'music_composers': ['Jean-Jacques Annaud', 'Alain Godard']},\n",
       " 'm_2334': {'movie_id': 'm_2334', 'title': 'Taxi 3', 'genres': ['Action', 'Comedy'], 'production_countries': ['FR'], 'collection_name': 'Taxi Collection', 'release_year': '2003', 'actors': ['Samy Naceri', 'Frédéric Diefenthal', 'Marion Cotillard', 'Emma Wiklund', 'Bernard Farcy', 'Bai Ling', 'Edouard Montoute', 'Jean-Christophe Bouvet', 'Bernard Llopis', 'Jean-Louis Schlesser', 'Jean-Pierre Mas', 'Michel Neugarten', 'Patrice Abbou', 'Claude Sesé', 'Cyril Brunet', 'Bernard Destouches', 'Philippe Paimblanc', 'David Gabison', 'Vincent Tulli', 'Gérard Krawczyk', 'Dara-Indo Oum', 'Bonnafet Tarbouriech', 'Shirley Kohn', 'Norbert Daverio', 'Julian Naceri', 'Laurent Desponds', 'Valeska Chabouis', 'Franck Fouret', 'Albert Lerda', 'Christian Waldner', 'Jennifer Herrera', 'Sylvester Stallone', 'Éric Naggar'], 'directors': ['Gérard Krawczyk'], 'screenwriters': [], 'music_composers': ['Luc Besson']},\n",
       " 'm_2912': {'movie_id': 'm_2912', 'title': 'Le Boucher', 'genres': ['Drama', 'Foreign', 'Thriller'], 'production_countries': ['FR'], 'collection_name': '', 'release_year': '1970', 'actors': ['Stéphane Audran', 'Jean Yanne', 'Roger Rudel', 'Mario Beccara', 'William Guérault', 'Pascal Ferone'], 'directors': ['Claude Chabrol'], 'screenwriters': ['Pierre Jansen'], 'music_composers': ['Claude Chabrol']},\n",
       " 'm_2202': {'movie_id': 'm_2202', 'title': 'Lassie Come Home', 'genres': ['Adventure', 'Drama', 'Family'], 'production_countries': ['US'], 'collection_name': 'Lassie (Kinofilme)', 'release_year': '1943', 'actors': ['Roddy McDowall', 'Donald Crisp', 'Dame May Whitty', 'Edmund Gwenn', 'Nigel Bruce', 'Elsa Lanchester', 'Elizabeth Taylor', 'Ben Webster', \"J. Pat O'Malley\", 'Alan Napier', 'John Rogers', 'Alec Craig'], 'directors': ['Fred M. Wilcox'], 'screenwriters': ['Daniele Amfitheatrof'], 'music_composers': ['Hugo Butler']},\n",
       " 'm_3484': {'movie_id': 'm_3484', 'title': 'The Mask of Fu Manchu', 'genres': ['Adventure', 'Fantasy', 'Horror'], 'production_countries': ['US'], 'collection_name': '', 'release_year': '1932', 'actors': ['Boris Karloff', 'Lewis Stone', 'Karen Morley', 'Charles Starrett', 'Myrna Loy', 'Jean Hersholt', 'Lawrence Grant', 'David Torrence'], 'directors': ['Charles Brabin', 'Charles Vidor'], 'screenwriters': [], 'music_composers': ['Edgar Allan Woolf', 'Irene Kuhn', 'John Willard']},\n",
       " 'm_1777': {'movie_id': 'm_1777', 'title': 'Fahrenheit 9/11', 'genres': [], 'production_countries': ['US'], 'collection_name': '', 'release_year': '2004', 'actors': ['Robert De Niro', 'Michael Moore', 'George W. Bush', 'Ben Affleck', 'Stevie Wonder', 'Al Gore', 'Saddam Hussein', 'George H. W. Bush', 'Ricky Martin', 'Osama Bin Laden', 'Larry King', 'Bill Clinton', 'Donald Rumsfeld', 'Condoleezza Rice', 'Tony Blair', 'Britney Spears', 'Colin Powell'], 'directors': ['Michael Moore'], 'screenwriters': [], 'music_composers': []},\n",
       " 'm_2502': {'movie_id': 'm_2502', 'title': 'The Bourne Supremacy', 'genres': ['Action', 'Drama', 'Thriller'], 'production_countries': ['DE', 'US'], 'collection_name': 'The Bourne Collection', 'release_year': '2004', 'actors': ['Matt Damon', 'Franka Potente', 'Brian Cox', 'Julia Stiles', 'Karl Urban', 'Gabriel Mann', 'Joan Allen', 'Marton Csokas', 'Tom Gallop', 'John Bedford Lloyd', 'Ethan Sandler', 'Michelle Monaghan', 'Karel Roden', 'Tomas Arana', 'Oksana Akinshina', 'Yevgeni Sitokhin', 'Marina Weis', 'Tim Griffin', 'Sean Smith', 'Maxim Kovalevski', 'Patrick Crowley', 'Jon Collin Barclay', 'Sam Brown', 'Shane Sinutko', 'Barnaby Smith', 'Dominique Chiout', 'Wanja Mues', 'Aleksey Shmarinov', 'Stephan Wolf-Schönburg', 'Olov Ludwig', 'Keshav Nadkarni', 'Violetta Gräfin Tarnowska Bronner', 'Aleksey Medvedev', 'Aleksandr Dubina', 'Aleksandr Boev', 'Claudio Maniscalco', 'Manfred Witt', 'Aleksey Trotsenko', 'Victoria Unikel', 'Oksana Semenova', 'Vitaliy Abdulov', 'Dirk Schoedon', 'Ivan Shvedoff', 'Denis Burgazliev', 'Nick Wilder', 'Chris Cooper'], 'directors': ['Paul Greengrass'], 'screenwriters': ['John Powell'], 'music_composers': ['Tony Gilroy']},\n",
       " 'm_314': {'movie_id': 'm_314', 'title': 'Catwoman', 'genres': ['Action', 'Crime'], 'production_countries': ['US'], 'collection_name': '', 'release_year': '2004', 'actors': ['Halle Berry', 'Benjamin Bratt', 'Sharon Stone', 'Lambert Wilson', 'Frances Conroy', 'Alex Borstein', 'Michael Massee', 'Byron Mann', 'Kim Smith', 'Christopher Heyerdahl', 'Peter Wingfield', 'Berend McKenzie', 'Patricia Mayen-Salazar', 'Ona Grauer', 'Landy Cannon', 'Michael P. Northey', 'Aaron Douglas', 'Peter Williams', 'Janet Varney', 'Larry Sullivan', 'James Ashcroft', 'Michasha Armstrong', 'Brooke Theiss', 'Ryan Robbins', 'John Cassini', 'Diego Diablo Del Mar', 'Herbert Duncanson', 'Judith Maxie', 'Dagmar Midcap', 'John Mann', 'Chase Nelson-Murray', 'Manny Petruzzelli', 'Harley Reiner', 'Michael Daingerfield', 'Benita Ha', 'James Lloyd Reynolds', 'Jill Krop', 'Connor Dunn', 'Ashlea Earl', 'Lori Fung', 'Ursula Haczkiewicz', 'Alisoun Payne', 'Laurence Racine', 'Leigh Bush', 'Brett Chan', 'Holly Eglinton', 'Anne Fletcher', 'Angie Jaree', 'Everjoy Kriekenbeek', 'Alfred Liu', 'Aaron Miko', 'Mike Mitchell', 'Stephanie Moseley', 'Kennith Overbey', 'Missy Peregrym', 'Bobby Silva', 'Kimani Ray Smith', 'Shaina Tianne Unger'], 'directors': ['Pitof'], 'screenwriters': ['Klaus Badelt'], 'music_composers': ['John Rogers']},\n",
       " 'm_69526': {'movie_id': 'm_69526', 'title': 'The Assassination Bureau', 'genres': ['Thriller', 'Crime', 'Comedy', 'Action', 'Adventure'], 'production_countries': ['GB'], 'collection_name': '', 'release_year': '1969', 'actors': ['Oliver Reed', 'Diana Rigg', 'Telly Savalas', 'Curd Jürgens', 'Philippe Noiret', 'Warren Mitchell', 'Beryl Reid', 'Clive Revill', 'Kenneth Griffith', 'Vernon Dobtcheff', 'Annabella Incontrera', 'Jess Conrad', 'George Coulouris', 'Ralph Michael', 'Katherine Kath', 'Eugene Deckers', 'Olaf Pooley', 'George Murcell', 'Michael Wolf', 'Gordon Sterne', 'Peter Bowles', 'William Kendall', 'Jeremy Lloyd', 'Roger Delgado', 'Maurice Browning', 'Clive Cazes', 'Milton Reid', 'Frank Thornton', 'Nita Lorraine'], 'directors': ['Basil Dearden'], 'screenwriters': [], 'music_composers': []},\n",
       " 'm_6947': {'movie_id': 'm_6947', 'title': 'The Village', 'genres': ['Drama', 'Mystery', 'Thriller'], 'production_countries': ['US'], 'collection_name': '', 'release_year': '2004', 'actors': ['Bryce Dallas Howard', 'Joaquin Phoenix', 'Adrien Brody', 'William Hurt', 'Sigourney Weaver', 'Brendan Gleeson', 'Cherry Jones', 'Celia Weston', 'John Christopher Jones', 'Frank Collison', 'Jayne Atkinson', 'Judy Greer', 'Fran Kranz', 'Jesse Eisenberg', 'Michael Pitt', 'M. Night Shyamalan'], 'directors': ['M. Night Shyamalan'], 'screenwriters': ['James Newton Howard'], 'music_composers': []},\n",
       " 'm_2003': {'movie_id': 'm_2003', 'title': \"Anatomie de l'enfer\", 'genres': ['Drama'], 'production_countries': ['FR'], 'collection_name': '', 'release_year': '2004', 'actors': ['Amira Casar', 'Rocco Siffredi', 'Jacques Monge', 'Catherine Breillat'], 'directors': ['Catherine Breillat'], 'screenwriters': [], 'music_composers': ['Catherine Breillat']},\n",
       " 'm_1653': {'movie_id': 'm_1653', 'title': 'Diarios de motocicleta', 'genres': ['Drama'], 'production_countries': ['BR', 'AR', 'CL', 'FR', 'DE', 'PE', 'GB', 'US'], 'collection_name': '', 'release_year': '2004', 'actors': ['Gael García Bernal', 'Rodrigo de la Serna', 'Mercedes Morán', 'Mía Maestro', 'Jean Pierre Noher', 'Lucas Oro', 'Marina Glezer', 'Sofia Bertolotto', 'Franco Solazzi', 'Ricardo Díaz Mourelle', 'Gustavo Bueno', 'Antonella Costa', 'Natalia Lobo'], 'directors': ['Walter Salles'], 'screenwriters': ['Gustavo Santaolalla'], 'music_composers': ['José Rivera']},\n",
       " 'm_176': {'movie_id': 'm_176', 'title': 'Saw', 'genres': ['Horror', 'Mystery', 'Crime'], 'production_countries': ['US'], 'collection_name': 'Saw Collection', 'release_year': '2004', 'actors': ['Cary Elwes', 'Danny Glover', 'Monica Potter', 'Michael Emerson', 'Ken Leung', 'Tobin Bell', 'Leigh Whannell', 'Dina Meyer', 'Mike Butters', 'Paul Gutrecht', 'Benito Martinez', 'Shawnee Smith', 'Makenzie Vega Norfolk', 'Ned Bellamy', 'Alexandra Bokyun Chun', 'Avner Garbi', 'Hans Raith'], 'directors': ['James Wan'], 'screenwriters': ['Charlie Clouser'], 'music_composers': []},\n",
       " 'm_866': {'movie_id': 'm_866', 'title': 'Finding Neverland', 'genres': ['Drama'], 'production_countries': ['GB', 'US'], 'collection_name': '', 'release_year': '2004', 'actors': ['Johnny Depp', 'Kate Winslet', 'Julie Christie', 'Dustin Hoffman', 'Freddie Highmore', 'Radha Mitchell', 'Kate Maberly', 'Joe Prospero', 'Nick Roud', 'Luke Spill', 'Eileen Essell', 'Ian Hart', 'Kelly Macdonald', 'Tim Potter', 'Toby Jones', 'Angus Barnett', 'Mackenzie Crook', 'Rosie Ede', 'Tobias Menzies', 'Jimmy Gardner'], 'directors': ['Marc Forster'], 'screenwriters': ['Jan A.P. Kaczmarek'], 'music_composers': ['David Magee', 'Allan Knee']},\n",
       " 'm_2059': {'movie_id': 'm_2059', 'title': 'National Treasure', 'genres': ['Adventure', 'Action', 'Thriller', 'Mystery'], 'production_countries': ['US'], 'collection_name': 'National Treasure Collection', 'release_year': '2004', 'actors': ['Nicolas Cage', 'Diane Kruger', 'Justin Bartha', 'Sean Bean', 'Jon Voight', 'Harvey Keitel', 'Christopher Plummer', 'David Dayan Fisher', 'Stewart Finlay-McLennan', 'Oleg Taktarov', 'Stephen A. Pope', 'Annie Parisse', 'Mark Pellegrino', 'Armando Riesco', 'Erik King', 'Don McManus', 'Ron Canada', 'Hunter Gomez', 'Deborah Yates', 'Arabella Field', 'Sharon Wilkins', 'Alexandra Balahoutis', 'Dior Raye', 'Yves Michel-Beneche', 'Jason Earles', 'Terrence Currier', 'Rod McLachlan', 'Elizabeth Greenberg', 'Jody Halse', 'Liam Noble', 'Joshua Bitton', 'Michael Russo', 'Fern D. Baguidy Jr.', 'Thomas Q. Morris', 'Antony Alda', 'John Travis', 'Heidi Albertsen', 'Adriana Alveario'], 'directors': ['Jon Turteltaub'], 'screenwriters': ['Trevor Rabin'], 'music_composers': ['Jim Kouf', 'Cormac Wibberley', 'Marianne Wibberley']},\n",
       " 'm_140': {'movie_id': 'm_140', 'title': 'La mala educación', 'genres': ['Crime', 'Drama', 'Romance', 'Thriller'], 'production_countries': ['ES'], 'collection_name': '', 'release_year': '2004', 'actors': ['Gael García Bernal', 'Fele Martínez', 'Daniel Giménez Cacho', 'Lluís Homar', 'Francisco Maestre', 'Francisco Boira', 'Nacho Pérez', 'Raúl García Forneiro', 'Javier Cámara', 'Alberto Ferreiro', 'Leonor Watling', 'Petra Martínez', 'Roberto Hoyas', 'Agustín Almodóvar', 'Pedro Almodóvar', 'Sara Montiel', 'Pau Poch', 'Juan Fernández', 'Sandra', 'Luis Martín Gil'], 'directors': ['Pedro Almodóvar'], 'screenwriters': ['Alberto Iglesias'], 'music_composers': ['Pedro Almodóvar']},\n",
       " 'm_1966': {'movie_id': 'm_1966', 'title': 'Alexander', 'genres': ['War', 'History', 'Action', 'Adventure', 'Drama', 'Romance'], 'production_countries': ['FR', 'DE', 'IT', 'NL', 'GB', 'US'], 'collection_name': '', 'release_year': '2004', 'actors': ['Colin Farrell', 'Angelina Jolie', 'Val Kilmer', 'Jared Leto', 'Jonathan Rhys Meyers', 'Anthony Hopkins', 'Jessie Kamm', 'Christopher Plummer', 'Connor Paolo', 'Patrick Carroll', 'Peter Williamson', 'Morgan Christopher Ferris', 'Robert Earley', 'Aleczander Gordon', 'John Kavanagh', 'Gary Stretch', 'Rosario Dawson', 'Féodor Atkine', 'Toby Kebbell', \"Fiona O'Shaughnessy\", 'Laird Macintosh', 'Francisco Bosch', 'Neil Jackson', 'Garrett Lombard', 'Chris Aberdein', 'Rory McCann', 'Raz Degan', 'Joseph Morgan', 'David Bedella', 'Brian Blessed', 'Marie Meyer', 'Nick Dunning', 'Elliot Cowan', 'Ian Beattie', 'Denis Conway', 'Michael Dixon', 'Tim Pigott-Smith', 'Erol Sander', 'Stéphane Ferrara', 'Tadhg Murphy', 'Annelise Hesme', 'Tsouli Mohammed', 'Rab Affleck', 'Michelle Lukes', 'Gillian Grueber', 'Anjali Mehra', 'Benny Maslov', 'Monica Zamora', 'Monica Perego', 'Tania Matos', 'Marta Barahona'], 'directors': ['Oliver Stone'], 'screenwriters': ['Vangelis'], 'music_composers': ['Oliver Stone', 'Laeta Kalogridis', 'Christopher Kyle']},\n",
       " 'm_2288': {'movie_id': 'm_2288', 'title': 'Closer', 'genres': ['Drama', 'Romance'], 'production_countries': ['US'], 'collection_name': '', 'release_year': '2004', 'actors': ['Julia Roberts', 'Jude Law', 'Natalie Portman', 'Clive Owen', 'Colin Stinton', 'Nick Hobbs', 'Steve Benham', 'Elizabeth Bower', 'Ray Donn', 'Daniel Dresner', 'Rrenford Junior Fagan', 'Antony Gabriel', 'Michael Haley', 'Selena Mars', 'Steve Morphew', 'Peter Rnic', 'Robert Stone', 'Jacqui-Lee Pryce'], 'directors': ['Mike Nichols'], 'screenwriters': [], 'music_composers': ['Patrick Marber']},\n",
       " 'm_163': {'movie_id': 'm_163', 'title': \"Ocean's Twelve\", 'genres': ['Thriller', 'Crime'], 'production_countries': ['US'], 'collection_name': \"Ocean's Collection\", 'release_year': '2004', 'actors': ['George Clooney', 'Brad Pitt', 'Catherine Zeta-Jones', 'Julia Roberts', 'Andy García', 'Casey Affleck', 'Scott Caan', 'Shaobo Qin', 'Bernie Mac', 'Don Cheadle', 'Matt Damon', 'Carl Reiner', 'Eddie Jemison', 'Elliott Gould', 'Robbie Coltrane', 'Jeroen Krabbé', 'Vincent Cassel', 'Eddie Izzard', 'Bruce Willis', 'Cherry Jones', 'Albert Finney', 'Adriano Giannini', 'Johan Widerberg', 'Luciano Miele', 'Antonio De Matteo', 'Giselda Volodi', 'Mattia Sbragia'], 'directors': ['Steven Soderbergh'], 'screenwriters': ['David Holmes'], 'music_composers': ['George Nolfi']},\n",
       " 'm_3016': {'movie_id': 'm_3016', 'title': 'Dr. Jekyll and Mr. Hyde', 'genres': ['Drama', 'Horror', 'Science Fiction'], 'production_countries': ['US'], 'collection_name': '', 'release_year': '1920', 'actors': ['John Barrymore', 'Charles Willis Lane', 'Brandon Hurst', 'Cecil Clovelly', 'Nita Naldi', 'Alma Aiken', 'J. Malcolm Dunn', 'Martha Mansfield', 'Edgard Varèse', 'Louis Wolheim', 'George Stevens'], 'directors': ['John S. Robertson'], 'screenwriters': [], 'music_composers': ['Thomas Russell Sullivan']},\n",
       " 'm_3060': {'movie_id': 'm_3060', 'title': 'The Big Parade', 'genres': ['Drama', 'Romance', 'War'], 'production_countries': ['US'], 'collection_name': '', 'release_year': '1925', 'actors': ['John Gilbert', 'Renée Adorée', 'Hobart Bosworth', 'Claire McDowell', 'Claire Adams', 'Robert Ober', \"Tom O'Brien\", 'Karl Dane', 'Kathleen Key', 'Rosita Marstini', 'Julanne Johnston'], 'directors': ['King Vidor'], 'screenwriters': [], 'music_composers': ['Harry Behn']},\n",
       " 'm_1405': {'movie_id': 'm_1405', 'title': 'Greed', 'genres': ['Drama', 'History'], 'production_countries': ['US'], 'collection_name': '', 'release_year': '1924', 'actors': ['Zasu Pitts', 'Gibson Gowland', 'Jean Hersholt', 'Dale Fuller', 'Tempe Pigott', 'Sylvia Ashton', 'Chester Conklin', 'Joan Standing', 'Erich von Stroheim', 'Jack Curtis', 'James F. Fulton', 'Florence Gibson', 'Cesare Gravina', 'Frank Hayes', 'Austen Jewell', 'Tiny Jones', 'Lillian Lawrence', 'Hughie Mack', 'Jack McDonald', 'Fanny Midgley', 'Lon Poff', 'S.S. Simon', 'Erich von Ritzau', 'James Wang'], 'directors': ['Erich von Stroheim'], 'screenwriters': ['William Axt'], 'music_composers': ['Erich von Stroheim', 'June Mathis']},\n",
       " 'm_905': {'movie_id': 'm_905', 'title': 'Die Büchse der Pandora', 'genres': ['Drama', 'Thriller', 'Romance'], 'production_countries': ['DE'], 'collection_name': '', 'release_year': '1929', 'actors': ['Louise Brooks', 'Fritz Kortner', 'Francis Lederer', 'Carl Goetz', 'Krafft-Raschig', 'Alice Roberts'], 'directors': ['G.W. Pabst'], 'screenwriters': [], 'music_composers': ['Ladislaus Vajda']},\n",
       " 'm_3061': {'movie_id': 'm_3061', 'title': 'The Crowd', 'genres': ['Drama'], 'production_countries': ['US'], 'collection_name': '', 'release_year': '1928', 'actors': ['Eleanor Boardman', 'James Murray', 'Bert Roach', 'Estelle Clark', 'Daniel G. Tomlinson', 'Lucy Beaumont', 'Freddie Burke Frederick', 'Alice Mildred Puter'], 'directors': ['King Vidor'], 'screenwriters': [], 'music_composers': ['King Vidor', 'John V.A. Weaver']},\n",
       " 'm_4558': {'movie_id': 'm_4558', 'title': 'Orphée', 'genres': ['Drama', 'Fantasy', 'Romance'], 'production_countries': ['FR'], 'collection_name': 'The Orphic Trilogy', 'release_year': '1950', 'actors': ['Jean Marais', 'María Casares', 'François Périer', 'Marie Déa', 'Juliette Gréco', 'Henri Crémieux', 'Edouard Dermithe', 'Roger Blin', 'Pierre Bertin'], 'directors': ['Jean Cocteau'], 'screenwriters': ['Georges Auric'], 'music_composers': []},\n",
       " 'm_800': {'movie_id': 'm_800', 'title': 'Los Olvidados', 'genres': ['Crime', 'Drama'], 'production_countries': ['MX'], 'collection_name': '', 'release_year': '1950', 'actors': ['Alfonso Mejía', 'Estela Inda', 'Miguel Inclán', 'Roberto Cobo', 'Alma Delia Fuentes', 'Francisco Jambrina', 'Jesús García ', 'Efraín Arauz', 'Jorge Pérez', 'Javier Amézcua', 'Mário Ramírez', 'Sergio Virel', 'Ernesto Alonso', 'Victorio Blanco', 'Lupe Carriles', 'Enedina Díaz de León', 'Antulio Jimenez Pons', 'José Loza', 'Inés Murillo', 'Roberto Navarrete', 'Salvador Quiroz', 'Charles Rooner'], 'directors': ['Luis Buñuel'], 'screenwriters': ['Rodolfo Halffter', 'Gustavo Pittaluga'], 'music_composers': ['Luis Buñuel', 'Luis Alcoriza']},\n",
       " 'm_750': {'movie_id': 'm_750', 'title': 'Murder She Said', 'genres': ['Drama', 'Crime', 'Mystery', 'Comedy'], 'production_countries': ['GB'], 'collection_name': '', 'release_year': '1961', 'actors': ['Margaret Rutherford', 'Arthur Kennedy', 'Muriel Pavlow', 'James Robertson Justice', 'Thorley Walters', 'Charles Tingwell', 'Conrad Phillips', 'Ronald Howard', 'Joan Hickson', 'Stringer Davis', 'Ronnie Raymond', 'Gerald Cross', 'Michael Golden', 'Richard Briers', 'Lucy Griffiths', 'Peter Butterworth', 'Barbara Leake', 'Gordon Harris', 'Richard Briers', 'Aileen Lewis', 'Nadia Pavlova'], 'directors': ['George Pollock'], 'screenwriters': ['Ron Goodwin'], 'music_composers': ['David D. Osborn', 'David Pursall', 'Jack Seddon']},\n",
       " 'm_4025': {'movie_id': 'm_4025', 'title': 'The Prize', 'genres': ['Drama', 'Mystery', 'Crime'], 'production_countries': ['US'], 'collection_name': '', 'release_year': '1963', 'actors': ['Paul Newman', 'Edward G. Robinson', 'Elke Sommer', 'Diane Baker', 'Micheline Presle', 'Gérard Oury', 'Sacha Pitoëff', 'Sergio Fantoni', 'Kevin McCarthy', 'Leo G. Carroll', 'Jacqueline Beer', 'John Wengraf', 'Don Dubbins', 'Virginia Christine', 'Rudolph Anders', 'Bess Flowers'], 'directors': ['Mark Robson'], 'screenwriters': ['Jerry Goldsmith'], 'music_composers': []},\n",
       " 'm_3763': {'movie_id': 'm_3763', 'title': '鬼婆', 'genres': ['Horror'], 'production_countries': ['JP'], 'collection_name': '', 'release_year': '1964', 'actors': ['Nobuko Otowa', 'Jitsuko Yoshimura', 'Kei Satô', 'Jukichi Uno', 'Taiji Tonoyama', 'Someshô Matsumoto', 'Kentarô Kaji', 'Fudeko Tanaka', 'Hiroyoshi Yamaguchi', 'Hiroshi Tanaka', 'Kanzô Uni'], 'directors': ['Kaneto Shindô'], 'screenwriters': ['Hikaru Hayashi'], 'music_composers': []},\n",
       " 'm_135': {'movie_id': 'm_135', 'title': 'Dont Look Back', 'genres': ['Documentary', 'Music'], 'production_countries': ['GB'], 'collection_name': '', 'release_year': '1967', 'actors': ['Bob Dylan', 'Albert Grossman', 'Bob Neuwirth', 'Joan Baez', 'Alan Price', 'Tito Burns', 'Donovan', 'Derroll Adams'], 'directors': ['D.A. Pennebaker'], 'screenwriters': ['Bob Dylan'], 'music_composers': []},\n",
       " 'm_839': {'movie_id': 'm_839', 'title': 'Duel', 'genres': ['TV Movie', 'Action', 'Thriller'], 'production_countries': ['US'], 'collection_name': '', 'release_year': '1972', 'actors': ['Dennis Weaver', 'Jacqueline Scott', 'Eddie Firestone', 'Lou Frizzell', 'Gene Dynarski', 'Lucille Benson', 'Tim Herbert', 'Charles Seel', \"Shirley O'Hara\", 'Alexander Lockwood', 'Amy Douglass', 'Dick Whittington', 'Carey Loftin', 'Dale Van Sickel', 'Shawn Steinman'], 'directors': ['Steven Spielberg'], 'screenwriters': ['Billy Goldenberg'], 'music_composers': ['Richard Matheson']},\n",
       " 'm_5618': {'movie_id': 'm_5618', 'title': 'Cousin, Cousine', 'genres': ['Romance', 'Comedy'], 'production_countries': ['FR'], 'collection_name': '', 'release_year': '1975', 'actors': ['Marie-Christine Barrault', 'Victor Lanoux', 'Guy Marchand', 'Marie-France Pisier', 'Ginette Garcin', 'Sybil Maas', 'Hubert Gignoux', 'Popeck', 'Catherine Verlor', 'Alain Doutey', 'Anna Gaylor', 'Pierre Forget'], 'directors': ['Jean-Charles Tacchella'], 'screenwriters': [], 'music_composers': []},\n",
       " 'm_1835': {'movie_id': 'm_1835', 'title': 'Farewell, My Lovely', 'genres': ['Crime', 'Mystery', 'Thriller'], 'production_countries': ['US'], 'collection_name': '', 'release_year': '1975', 'actors': ['Robert Mitchum', 'Charlotte Rampling', 'Sylvia Miles', 'John Ireland', 'Anthony Zerbe', 'Harry Dean Stanton', 'Jimmy Thompson', 'Joe Spinell', 'Sylvester Stallone', 'Kate Murtagh', \"Jack O'Halloran\", \"John O'Leary\", 'Walter McGinn', 'Burton Gilliam', 'Jim Thompson', 'Jimmy Archer', 'Cheryl Smith', 'Mark Allen'], 'directors': ['Dick Richards'], 'screenwriters': ['David Shire'], 'music_composers': ['David Zelag Goodman']},\n",
       " 'm_232': {'movie_id': 'm_232', 'title': 'Rumble Fish', 'genres': ['Action', 'Adventure', 'Crime', 'Drama', 'Romance'], 'production_countries': ['US'], 'collection_name': '', 'release_year': '1983', 'actors': ['Matt Dillon', 'Mickey Rourke', 'Diane Lane', 'Dennis Hopper', 'Diana Scarwid', 'Vincent Spano', 'Nicolas Cage', 'Chris Penn', 'Laurence Fishburne', 'William Smith', 'Michael Higgins', 'Tom Waits', 'Sofia Coppola', 'Tracey Walter', 'Glenn Withrow', 'S.E. Hinton', 'Kristi Somers'], 'directors': ['Francis Ford Coppola'], 'screenwriters': ['Stewart Copeland'], 'music_composers': ['Francis Ford Coppola', 'S.E. Hinton']},\n",
       " 'm_30707': {'movie_id': 'm_30707', 'title': 'Star 80', 'genres': ['Drama'], 'production_countries': ['US'], 'collection_name': '', 'release_year': '1983', 'actors': ['Mariel Hemingway', 'Eric Roberts', 'Cliff Robertson', 'Carroll Baker', 'Roger Rees', 'David Clennon', 'Josh Mostel', 'Lisa Gordon', 'Sidney Miller', 'Kathryn Witt', 'James Luisi', 'Keenen Ivory Wayans', 'Deborah Geffner', 'Robert Picardo', 'Erica Yohn', 'Tracy Vaccaro', 'Lorraine Michaels', 'Brinke Stevens', 'Jordan Christopher'], 'directors': ['Bob Fosse'], 'screenwriters': [], 'music_composers': ['Bob Fosse']},\n",
       " 'm_1884': {'movie_id': 'm_1884', 'title': 'The Ewok Adventure', 'genres': ['Adventure', 'Family', 'Fantasy', 'Science Fiction', 'TV Movie'], 'production_countries': ['US'], 'collection_name': 'Star Wars: The Ewok Adventures Collection', 'release_year': '1985', 'actors': ['Aubree Miller', 'Fionnula Flanagan', 'Warwick Davis', 'Tony Cox', 'Debbie Lee Carrington', 'Daniel Frishman', 'Guy Boyd', 'Kevin Thompson', 'Burl Ives', 'Margarita Fernández', 'Eric Walker'], 'directors': ['John Korty'], 'screenwriters': ['Peter Bernstein'], 'music_composers': []},\n",
       " 'm_31696': {'movie_id': 'm_31696', 'title': 'A Kiss Before Dying', 'genres': ['Mystery', 'Thriller', 'Crime'], 'production_countries': ['GB', 'US'], 'collection_name': '', 'release_year': '1991', 'actors': ['Matt Dillon', 'Sean Young', 'Max von Sydow', 'Diane Ladd', 'Adam Horovitz', 'Briony Glassco', 'James Russo'], 'directors': ['James Dearden'], 'screenwriters': [], 'music_composers': ['James Dearden']},\n",
       " 'm_8983': {'movie_id': 'm_8983', 'title': 'Felidae', 'genres': ['Animation', 'Mystery', 'Thriller'], 'production_countries': ['DE'], 'collection_name': '', 'release_year': '1994', 'actors': ['Ulrich Tukur', 'Mario Adorf', 'Helge Schneider', 'Uwe Ochsenknecht', 'Klaus Maria Brandauer', 'Mona Seefried', 'Ulrich Wildgruber', 'Manfred Steffen'], 'directors': ['Michael Schaack'], 'screenwriters': [], 'music_composers': ['Martin Kluger']},\n",
       " 'm_1283': {'movie_id': 'm_1283', 'title': 'Torrente, el brazo tonto de la ley', 'genres': ['Comedy', 'Crime'], 'production_countries': ['ES'], 'collection_name': 'Torrente Collection', 'release_year': '1998', 'actors': ['Santiago Segura', 'Javier Cámara', 'Neus Asensi', 'Chus Lampreave', 'Tony Leblanc', 'Jimmy Barnatán', 'Darío Paso', 'Cañita Brava', 'Manuel Manquiña', 'Carlos Bardem', 'Antonio de la Torre', 'Julio Sanjuán', 'César Vea', 'Javier Jurdao'], 'directors': ['Santiago Segura'], 'screenwriters': ['Roque Baños'], 'music_composers': []},\n",
       " 'm_344': {'movie_id': 'm_344', 'title': 'Bang Boom Bang - Ein todsicheres Ding', 'genres': ['Crime', 'Action', 'Comedy'], 'production_countries': ['DE'], 'collection_name': 'Unna Trilogie', 'release_year': '1999', 'actors': ['Oliver Korittke', 'Markus Knüfken', 'Ralf Richter', 'Diether Krebs', 'Martin Semmelrogge', 'Alexandra Neldel', 'Heinrich Giskes', 'Christian Kahrmann', 'Monica Nancy Wick', 'Willi Thomczyk', 'Sabine Kaack', 'Hilmi Sözer', 'Jochen Nickel', 'Til Schweiger', 'Detlef Bothe', 'Ömer Simsek', 'Ingolf Lück', 'Ralph Herforth', 'Peter Thorwarth'], 'directors': ['Peter Thorwarth'], 'screenwriters': ['Rainer Kühn'], 'music_composers': []},\n",
       " 'm_2463': {'movie_id': 'm_2463', 'title': '暗戰', 'genres': ['Drama', 'Action', 'Thriller', 'Crime'], 'production_countries': ['HK'], 'collection_name': 'Running Out Of Time Collection', 'release_year': '1999', 'actors': ['Lau Ching-Wan', 'Andy Lau', 'Yoyo Mung', 'Waise Lee', 'Hui Siu-Hung', 'Lam Suet', 'Ruby Wong', 'Hung Wai-Leung', 'Oscar Lam Wai-Kin', 'Wong Wa-Wo', 'Lee Sau-Kei', 'Ai Wai'], 'directors': ['Johnnie To'], 'screenwriters': [], 'music_composers': ['Julien Carbon', 'Laurent Courtiaud', 'Yau Nai-Hoi']},\n",
       " 'm_919': {'movie_id': 'm_919', 'title': 'Blood: The Last Vampire', 'genres': ['Fantasy', 'Animation', 'Horror', 'Comedy', 'Thriller', 'Science Fiction'], 'production_countries': ['JP'], 'collection_name': '', 'release_year': '2000', 'actors': ['Youki Kudoh', 'Saemi Nakamura', 'Joe Romersa', 'Rebecca Forstadt', 'Stuart Robinson', 'Akira Koteyama', 'Tom Fahn', 'Fitz Houston', 'Paul Carr'], 'directors': ['Hiroyuki Kitakubo'], 'screenwriters': ['Yoshihiro Ike'], 'music_composers': ['Kenji Kamiyama']},\n",
       " 'm_2111': {'movie_id': 'm_2111', 'title': '巴尔扎克与小裁缝', 'genres': ['Drama', 'Foreign'], 'production_countries': ['CN', 'FR'], 'collection_name': '', 'release_year': '2002', 'actors': ['Zhou Xun', 'Chen Kun', 'Liu Ye', 'Xu Zu', 'Shuangbao Wang'], 'directors': ['Sijie Dai'], 'screenwriters': [], 'music_composers': ['Sijie Dai']},\n",
       " 'm_4326': {'movie_id': 'm_4326', 'title': 'Herr Lehmann', 'genres': ['Comedy', 'Drama'], 'production_countries': ['DE'], 'collection_name': 'Herr Lehmann Filmreihe', 'release_year': '2003', 'actors': ['Christian Ulmen', 'Katja Danowski', 'Detlev Buck', 'Janek Rieke', 'Uwe Dag Berlin', 'Martin Olbertz', 'Hartmut Lange', 'Margit Bendokat', 'Johann Adam Oest', 'Annika Kuhl', 'Tim Fischer', 'Michael Gwisdek', 'Sven Martinek', 'Bernhard Schütz', 'Stephan Baumecker', 'Karsten Speck', 'Fabian Oscar Wien', 'Heidi Züger', 'Christoph Waltz', 'Thomas Brussig', 'Ümit Inaler', 'Pepe Danquart', 'Steffi Kühnert', 'Thorsten Ranft', 'Michael Beck'], 'directors': ['Leander Haußmann'], 'screenwriters': [], 'music_composers': ['Sven Regener']},\n",
       " 'm_2841': {'movie_id': 'm_2841', 'title': 'Un long dimanche de fiançailles', 'genres': ['Drama'], 'production_countries': ['FR'], 'collection_name': '', 'release_year': '2004', 'actors': ['Audrey Tautou', 'Gaspard Ulliel', 'Dominique Pinon', 'Chantal Neuwirth', 'André Dussollier', 'Ticky Holgado', 'Marion Cotillard', 'Dominique Bettenfeld', 'Jodie Foster', 'Jean-Pierre Darroussin', 'Denis Lavant', 'Rufus', 'Jérôme Kircher', 'Denis Lavant', 'Albert Dupontel', 'Elina Löwensohn', 'Jean-Claude Dreyfus', 'Clovis Cornillac', 'Jean-Pierre Becker', 'Jean-Paul Rouve', 'Julie Depardieu', 'Michel Vuillermoz', 'Urbain Cancelier', 'Maud Rayer', 'Michel Robin', 'Tchéky Karyo', 'Philippe Duquesne', 'Bouli Lanners', 'Stéphane Butet', 'Christian Pereira', 'François Levantal', 'Patrick Paroux', 'Solène Le Pechon', 'Virgil Leclaire', 'Florence Thomassin', 'Thierry Gibault', 'Myriam Roustan', 'Gilles Masson', 'Sandrine Rigault', 'Michel Chalmeau', 'Marc Faure', 'Rodolphe Pauly', 'Xavier Maly', 'Till Bahlmann', 'Tony Gaultier', 'Louis-Marie Audubert', 'Jean-Gilles Barbier', 'Marc Robert', 'Pierre Heitz', 'Philippe Maymat', 'Eric Debrosse', 'Michel Gondoin ', 'Éric Fraticelli', 'Philippe Beautier', 'Gérald Weingand', 'Luc Sonzogni', 'Xavier Berlioz', 'Frankie Pain', 'Marcel Philippot', 'Pascale Lievyn', 'Jean-Claude Lecoq', 'Esther Sironneau', 'Stéphanie Gesnel', 'Frédérique Bel', 'Alexandre Caumartin', 'Eric Defosse', 'Gaspar Claus', 'Jean-Philippe Bèche', 'Anaïs Durand'], 'directors': ['Jean-Pierre Jeunet'], 'screenwriters': ['Angelo Badalamenti'], 'music_composers': ['Jean-Pierre Jeunet', 'Guillaume Laurant']},\n",
       " 'm_2539': {'movie_id': 'm_2539', 'title': 'Spanglish', 'genres': ['Comedy'], 'production_countries': ['US'], 'collection_name': '', 'release_year': '2004', 'actors': ['Adam Sandler', 'Téa Leoni', 'Paz Vega', 'Cloris Leachman', 'Shelbie Bruce', 'Sarah Steele', 'Ian Hyland', 'Cecilia Suárez', 'Sarah Hyland', 'Spencer Locke', 'Liz Carey', 'Victoria Luna', 'Ricardo Molina', 'Brenda Canela'], 'directors': ['James L. Brooks'], 'screenwriters': ['Hans Zimmer'], 'music_composers': []},\n",
       " 'm_5528': {'movie_id': 'm_5528', 'title': 'Les Choristes', 'genres': ['Drama'], 'production_countries': ['CH', 'DE', 'FR'], 'collection_name': '', 'release_year': '2004', 'actors': ['Gérard Jugnot', 'François Berléand', 'Kad Merad', 'Jean-Paul Bonnaire', 'Marie Bunel', 'Jean-Baptiste Maunier', 'Maxence Perrin', 'Grégory Gatignol', 'Thomas Blumenthal', 'Cyril Bernicot', 'Philippe du Janerand', 'Carole Weiss', 'Erick Desmarestz', 'Didier Flamand', 'Jacques Perrin', 'Simon Fargeot', 'Théodule Carré-Cassaigne', 'Armen Godel', 'Steve Gadler', 'Michel Caccia'], 'directors': ['Christophe Barratier'], 'screenwriters': [], 'music_composers': ['Philippe Lopes-Curval', 'Christophe Barratier', 'Noël-Noël']},\n",
       " 'm_3396': {'movie_id': 'm_3396', 'title': 'The Yes Men', 'genres': ['Comedy', 'Documentary'], 'production_countries': ['US'], 'collection_name': 'The Yes Men Collection', 'release_year': '2003', 'actors': ['Mike Bonanno', 'Andy Bichlbaum', 'Michael Moore', 'Patrick Lichty', 'Sal Salamone', 'Phil Bayly', 'Andy Bichlbaum', 'Philip De Lorenzo', 'Greg Palast'], 'directors': ['Dan Ollman', 'Sarah Price', 'Chris Smith'], 'screenwriters': [], 'music_composers': []},\n",
       " 'm_1126': {'movie_id': 'm_1126', 'title': \"In My Father's Den\", 'genres': ['Drama', 'Thriller'], 'production_countries': ['NZ'], 'collection_name': '', 'release_year': '2004', 'actors': ['Matthew Macfadyen', 'Emily Barclay', 'Miranda Otto', 'Colin Moy', 'Jimmy Keen', 'Jodie Rimmer', 'Vicky Haughton', 'Toby Alexander', 'Nicholas Hayward', 'Vanessa Riddell'], 'directors': ['Brad McGann'], 'screenwriters': ['Simon Boswell'], 'music_composers': ['Brad McGann']},\n",
       " 'm_4896': {'movie_id': 'm_4896', 'title': 'Muxmäuschenstill', 'genres': ['Comedy', 'Drama'], 'production_countries': ['DE'], 'collection_name': '', 'release_year': '2004', 'actors': ['Jan Henrik Stahlberg', 'Fritz Roth', 'Wanda Perdelwitz', 'Joachim Kretzer', 'Dieter Dost', 'Wolfgang Grindemann', 'Markus von Lingen', 'Oliver Urbanski', 'Kathrin Spielvogel', 'Michael Jahnke', 'Jürgen Ruoff', 'Milena Dreißig', 'Lydia Stange', 'Fleuer S. Marsh', 'Laura Santiso Gil', 'Katharina Gräfe', 'Karin Kuschik', 'Ruwen Schneider', 'Alexander Wüst', 'Jaser Abib', 'Christoph Kottenkamp', 'Rainer Adker', 'Niklas Kohrt', 'Addi Münstermann', 'Siegfried Effenberger', 'Torsten Schwick', 'Günther Volkmann', 'Ruth Petschke', 'Lucia Chiarla', 'Christoph Zrenner', 'Sonja Heinrich', 'Sybille Wagner', 'Nicole Ciroth', 'Juliette Dipplet', 'Throsten Loeb', 'Zeno Kakuschke', 'Randy Held', 'Sahand Yousefi-Moridami', 'Sofian Makhkouji', 'Henning Grübl', 'Claus Rickert', 'Sándor Söth', 'Szilvia Ruszev', 'Holger Gronemann', 'Markus Letto', 'Attila Sökmen', 'Adanur Fesih', 'Sascha Weikert', 'Vespa Vasic', 'Gertrud Meyer', 'Dominik Weber', 'Robert Matuszewski', 'Chantal Sommerfeld', 'Jeffrey Ott', 'Kristina Borm', 'Christoph Huber', 'Julian Bölting', 'Stefanie Holletschek', 'Sebastian Schönwald', 'Fabian Schönwald', 'Viven Machui', 'Claus Fleischhauer', 'Elvia Thomas', 'Gabriele Bölting', 'Uli Schickentanz', 'Annika Krause', 'Ingo Fischer', 'Silvio Kraft', 'Silvie Treml', 'Uli Melcher', 'Rainer Rüßmann', 'Philipp Hallenberger', 'Michael Meier', 'Hans-Dieter Stallmann', 'Peter Rettenbach', 'Peter Hoffmann', 'Dirk Wächter', 'Wolfram Fleischhauer', 'Bernd Köppe', 'Martin Klodzinski', 'Mehmet Yilmaz', 'Cem Sultan Ungan', 'Ursula Wille', 'Britta Jasper', 'Siegfried Brandstetter', 'Christian Gaebler', 'Raul Gonzales', 'Nenea Triebel', 'Eddy Scheuzger', 'Feline Lange', 'Hans-Jürgen Kreiß', 'Veronika Wildt', 'Wolfgang Fenner', 'Paulus Clemens', 'Bärbel Liesecke', 'Fikert Abdurahmanovic', 'Bettina Schröder', 'Tatyana Fesenko', 'Garbiella Schmidt', 'Michael Borbonus', 'Franz Schmidt', 'Bernd Bartelmess', 'Natalie Fesenko', 'Eduard Fesenko', 'Marianne Wolf', 'Nicole Niketta', 'Dieter Gericke', 'Süreya Sendey', 'Uckesen Hakan', 'Jutta Garlipp', 'Gunnar Baginski', 'Mirijam Schroth', 'Jacob Strasser', 'Jürger Sücker', 'Markus Will', 'Joachim David', 'Michael Kloos', 'Michael Reitz', 'Fritz-Wilhelm Meischke', 'Karsten Kuschel', 'Peter Sander', 'Claudia Stahlberg', 'Katja Hildebrandt', 'Martin Zemlin', 'Christopher Pötsch', 'Sabrina Moschütz', 'Felix Galan', 'Philipp Pühlmann', 'Jeniffer Busse', 'Tracy Rodtke', 'Franziska Lajow', 'Marcel Böcker', 'Engelbert von Nordhausen', 'Urlich Meyer', 'Stefan Raab', 'Marietta Slomka', 'Ulrich Wickert'], 'directors': ['Marcus Mittermeier'], 'screenwriters': [], 'music_composers': ['Jan Henrik Stahlberg']},\n",
       " 'm_986': {'movie_id': 'm_986', 'title': 'Falstaff', 'genres': ['Comedy', 'Drama', 'History'], 'production_countries': ['CH', 'ES', 'FR'], 'collection_name': '', 'release_year': '1965', 'actors': ['Orson Welles', 'Jeanne Moreau', 'Margaret Rutherford', 'John Gielgud', 'Marina Vlady', 'Walter Chiari', 'Michael Aldridge', 'Tony Beckley', 'Jeremy Rowe', 'Norman Rodway', 'Keith Baxter', 'Alan Webb', 'Fernando Rey', 'José Nieto', 'Andrew Faulds', 'Che Tejada', 'Patrick Bedford', 'Ralph Richardson', 'Ingrid Pitt'], 'directors': ['Orson Welles'], 'screenwriters': ['Angelo Francesco Lavagnino'], 'music_composers': ['Orson Welles']},\n",
       " 'm_70': {'movie_id': 'm_70', 'title': 'Million Dollar Baby', 'genres': ['Drama'], 'production_countries': ['US'], 'collection_name': '', 'release_year': '2004', 'actors': ['Clint Eastwood', 'Hilary Swank', 'Morgan Freeman', 'Jay Baruchel', 'Mike Colter', 'Lucia Rijker', \"Brían F. O'Byrne\", 'Anthony Mackie', 'Margo Martindale', 'Riki Lindhome', 'Michael Peña', 'Benito Martinez', 'Bruce MacVittie', 'David Powledge', \"Joe D'Angerio\", 'Marcus Chait', 'Tom McCleister', 'Erica Grant', 'Naveen', 'Morgan Eastwood', 'Jamison Yang', 'Susan Krebs', 'V.J. Foster', 'Steven M. Porter', 'Ming Lo', 'Miguel Pérez', 'Jim Cantafio', 'Ted Grossman', 'Ned Eisenberg', 'Marco Rodríguez', 'Mark Thomason', 'Brian T. Finney', 'Spice Williams-Crosby', 'Kim Strauss', 'Kirsten Berman', 'Jimmy Alioto', 'Jason Williams', 'Nina Avetisova', 'Michael Bentt', 'Bruce Gerard Brown', 'McKay Stewart', 'Jude Ciccolella', 'Kimberly Estrada', 'Sean LoGrasso', 'Maher McClung', 'Robert McMurrer', 'Michael Saglimbeni', \"Sean O'Kane\", 'Vladimir Rajcic'], 'directors': ['Clint Eastwood'], 'screenwriters': ['Clint Eastwood'], 'music_composers': ['Paul Haggis']},\n",
       " 'm_1280': {'movie_id': 'm_1280', 'title': '빈집', 'genres': ['Drama', 'Romance', 'Crime'], 'production_countries': ['KR', 'JP'], 'collection_name': '', 'release_year': '2004', 'actors': ['Lee Seung-yeon', 'Jae Hee', 'Kwon Hyuk-Ho', 'Choi Jeong-ho', 'Lee Mi-suk', 'Lee Ju-seok', 'Moon Sung-hyuk', 'Jang Jae-yong', 'Rhee Dah-hae', 'Park Ji-ah ', 'Ju Jin-mo'], 'directors': ['Kim Ki-duk'], 'screenwriters': ['Slvian'], 'music_composers': ['Kim Ki-duk']},\n",
       " 'm_421': {'movie_id': 'm_421', 'title': 'The Life Aquatic with Steve Zissou', 'genres': ['Adventure', 'Comedy', 'Drama'], 'production_countries': ['US'], 'collection_name': '', 'release_year': '2004', 'actors': ['Bill Murray', 'Anjelica Huston', 'Cate Blanchett', 'Willem Dafoe', 'Owen Wilson', 'Jeff Goldblum', 'Michael Gambon', 'Noah Taylor', 'Bud Cort', 'Seu Jorge', 'Matthew Gray Gubler', 'Antonio Monda', 'Isabella Blow', 'Seymour Cassel', 'Robyn Cohen', 'Waris Ahluwalia'], 'directors': ['Wes Anderson'], 'screenwriters': ['Mark Mothersbaugh'], 'music_composers': ['Wes Anderson', 'Noah Baumbach']},\n",
       " 'm_2567': {'movie_id': 'm_2567', 'title': 'The Aviator', 'genres': ['Drama'], 'production_countries': ['US'], 'collection_name': '', 'release_year': '2004', 'actors': ['Leonardo DiCaprio', 'Cate Blanchett', 'Kate Beckinsale', 'John C. Reilly', 'Alec Baldwin', 'Alan Alda', 'Ian Holm', 'Jude Law', 'Kelli Garner', 'Danny Huston', 'Brent Spiner', 'Willem Dafoe', 'Gwen Stefani', 'Adam Scott', 'Matt Ross', 'Frances Conroy', 'Stanley DeSantis', 'Keith Campbell', 'Amy Sloan', \"Kevin O'Rourke\", 'Nellie Sciutto', 'Edward Herrmann', 'Kenneth Welsh', 'J.C. MacKenzie', 'Jacob Davich', 'Sam Hennings', 'Vince Giordano', 'Jason Cavalier', 'Rufus Wainwright', 'Loudon Wainwright III', 'Martha Wainwright', 'Al Dubois', 'John Koensgen', 'Harry Standjofski', 'Josie Maran', 'Joe Chrest', 'Justin Shilton', 'Arthur Holden', 'Joseph P. Reidy', 'Stéphane Demers', 'Yves Jacques', 'Chris Ufland', 'Sebastian Tillinger', 'James Bradford', 'Francesca Scorsese', 'Alan Toy', 'Joe Cobden', 'Linda Smith', 'David Purdham', 'Alan Fawcett', 'Lisa Bronwyn Moore', 'Emma Campbell', 'Vincent Laresca', 'Matt Holland', 'Dennis St John', 'Al Vandecruys', 'James Rae', 'Kathleen McAuliffe', 'Terry Haig', 'Danielle Franke', 'Meghan Elizabeth', 'Elizabeth DeCicco', 'Elisa Dyann', 'Isabelle Champeau', 'Al Coronel'], 'directors': ['Martin Scorsese'], 'screenwriters': ['Howard Shore'], 'music_composers': ['John Logan']},\n",
       " 'm_342': {'movie_id': 'm_342', 'title': 'Sommersturm', 'genres': ['Comedy', 'Drama'], 'production_countries': ['DE'], 'collection_name': '', 'release_year': '2004', 'actors': ['Robert Stadlober', 'Kostja Ullmann', 'Alicja Bachleda-Curuś', 'Jürgen Tonkel', 'Tristano Casanova', 'Miriam Morgenstern', 'Marlon Kittel', 'Hanno Koffler', \"Joseph M'Barek\", 'Alexa Maria Surholt', 'Jeff Fischer', 'Michael Wiesner', 'Benjamin Vilzmann', 'Ludwig Blochberger'], 'directors': ['Marco Kreuzpaintner'], 'screenwriters': ['Niki Reiser', 'Matthew Caws'], 'music_composers': []},\n",
       " 'm_613': {'movie_id': 'm_613', 'title': 'Der Untergang', 'genres': ['Drama', 'History', 'War'], 'production_countries': ['AT', 'DE', 'IT'], 'collection_name': '', 'release_year': '2004', 'actors': ['Bruno Ganz', 'Alexandra Maria Lara', 'Corinna Harfouch', 'Ulrich Matthes', 'Juliane Köhler', 'Heino Ferch', 'Christian Berkel', 'Thomas Kretschmann', 'Ulrich Noethen', 'Birgit Minichmayr', 'Rolf Kanies', 'Justus von Dohnányi', 'Michael Mendl', 'André Hennicke', 'Christian Redl', 'Götz Otto', 'Thomas Limpinsel', 'Thomas Thieme', 'Donevan Gunia', 'Matthias Habich', 'Alexander Held', 'Devid Striesow', 'Dieter Mann', 'Bettina Redlich', 'Heinrich Schmieder', 'Anna Thalbach', 'Dietrich Hollinderbäumer', 'Ulrike Krumbiegel', 'Karl Kranzkowski', 'Thorsten Krohn', 'Jürgen Tonkel', 'Fabian Busch', 'Christian Hoening', 'Dirk Borchardt', 'Elizaveta Boyarskaya', 'Michael Brandner', 'Igor Bubenchikov', 'Martin Butzke', 'Dmitriy Bykovskiy-Romashov', 'Mathias Gnädinger', 'Bohdan Graczyk', 'Norbert Heckner', 'Enno Hesse', 'Julia Jentsch', 'Michael Kind', 'Elisabeth von Koch', 'Konstantin Lukashov', 'Stefan Mehren', 'Katerina Poladjan', 'Oleg Popov', 'Tanja Schleiff', 'Christian Schmidt', 'August Schmölzer', 'Jurij Schrader', 'Maria Semenova', 'Igor Sergeev', 'Klaus-Jürgen Steinmann', 'Oliver Stritzel', 'Veit Stübner', 'Vsevolod Tsurilo', 'Henning Peker', 'Dieter Rupp'], 'directors': ['Oliver Hirschbiegel'], 'screenwriters': ['Stephan Zacharias'], 'music_composers': ['Bernd Eichinger']},\n",
       " 'm_273': {'movie_id': 'm_273', 'title': 'Das weisse Rauschen', 'genres': ['Drama'], 'production_countries': ['DE'], 'collection_name': '', 'release_year': '2001', 'actors': ['Daniel Brühl', 'Patrick Joswig', 'Katharina Schüttler', 'Ilse Strambowski', 'Michael Schütz', 'Eno Hünninger'], 'directors': ['Hans Weingartner'], 'screenwriters': ['Marek Goldowski'], 'music_composers': []},\n",
       " 'm_661': {'movie_id': 'm_661', 'title': 'Die Ehe der Maria Braun', 'genres': ['War', 'Drama'], 'production_countries': ['DE'], 'collection_name': 'The BRD Collection', 'release_year': '1979', 'actors': ['Hanna Schygulla', 'Klaus Löwitsch', 'Ivan Desny', 'George Eagles', 'Gisela Uhlen', 'Elisabeth Trissenaar', 'Gottfried John', 'Hark Bohm', 'Günter Lamprecht', 'Lilo Pempeit', 'Michael Ballhaus', 'Rainer Werner Fassbinder'], 'directors': ['Rainer Werner Fassbinder'], 'screenwriters': ['Peer Raben'], 'music_composers': ['Pea Fröhlich', 'Peter Märthesheimer']},\n",
       " 'm_42011': {'movie_id': 'm_42011', 'title': 'Marusa no onna', 'genres': ['Comedy', 'Crime'], 'production_countries': ['JP'], 'collection_name': '', 'release_year': '1987', 'actors': ['Nobuko Miyamoto', 'Tsutomu Yamazaki', 'Masahiko Tsugawa', 'Yasuo Daichi', 'Kinzoh Sakura', 'Hajime Asô', 'Kiriko Shimizu', 'Kazuyo Matsui', 'Hideo Murota', 'Machiko Watanabe', 'Shôtarô Takeuchi', 'Mitsuhiko Kiyohisa', 'Akira Shioji', 'Kôichi Ueda', 'Yûsuke Nagumo', 'Tadashi Okuno', 'Gilyak Amagasaki', 'Mariko Okada'], 'directors': ['Juzo Itami'], 'screenwriters': ['Toshiyuki Honda'], 'music_composers': []},\n",
       " 'm_7454': {'movie_id': 'm_7454', 'title': 'The Bunker', 'genres': ['Action', 'History', 'Horror'], 'production_countries': ['US'], 'collection_name': '', 'release_year': '2001', 'actors': ['Jason Flemyng', 'Andrew Tiernan', 'Christopher Fairbank', 'Jack Davenport', 'Andrew-Lee Potts', 'Simon Kunz', 'John Carlisle', 'Charley Boorman', 'Nicholas Hamnett', \"Peter O'Connor\", 'Iain McKee'], 'directors': ['Rob Green'], 'screenwriters': [], 'music_composers': ['Clive Dawson']},\n",
       " 'm_41569': {'movie_id': 'm_41569', 'title': 'The Nomi Song', 'genres': ['Documentary', 'Foreign'], 'production_countries': ['DE'], 'collection_name': '', 'release_year': '2004', 'actors': ['David Bowie', 'Calvin Churchman', 'Klaus Nomi', 'Ann Magnuson', 'Gabriele Lafari', 'David McDermott', 'Page Wood', 'Tony Frere'], 'directors': ['Andrew Horn'], 'screenwriters': [], 'music_composers': []},\n",
       " 'm_2926': {'movie_id': 'm_2926', 'title': 'The Three Musketeers', 'genres': ['Action', 'Adventure', 'Comedy', 'Drama'], 'production_countries': ['US'], 'collection_name': 'The Musketeers Collection', 'release_year': '1973', 'actors': ['Michael York', 'Oliver Reed', 'Richard Chamberlain', 'Frank Finlay', 'Faye Dunaway', 'Raquel Welch', 'Christopher Lee', 'Geraldine Chaplin', 'Jean-Pierre Cassel', 'Spike Milligan', 'Charlton Heston', 'Simon Ward', 'Georges Wilson', 'Roy Kinnear', 'Joss Ackland', 'Sybil Danning', 'Michael Gothard', 'Nicole Calfan', 'Gitty Djamal', 'Ángel del Pozo', 'Rodney Bewes', 'Gretchen Franklin'], 'directors': ['Richard Lester'], 'screenwriters': ['Michel Legrand'], 'music_composers': ['George MacDonald Fraser']},\n",
       " 'm_4974': {'movie_id': 'm_4974', 'title': '5x2', 'genres': ['Drama', 'Romance'], 'production_countries': ['FR'], 'collection_name': '', 'release_year': '2004', 'actors': ['Valeria Bruni Tedeschi', 'Stéphane Freiss', 'Géraldine Pailhas', 'Françoise Fabian', 'Antoine Chappey', 'Michael Lonsdale', 'Marc Ruchmann', 'Jason Tavassoli', 'Jean-Pol Brissart', 'Eliane Kherris', 'Yannis Belkacem', 'Sylvie Debrun', 'Jean Neisser', 'Ninon Brétécher', 'Marie-Madeleine Fouquet', 'Pierre Chollet'], 'directors': ['François Ozon'], 'screenwriters': [], 'music_composers': ['François Ozon']},\n",
       " 'm_258': {'movie_id': 'm_258', 'title': 'Domicile Conjugal', 'genres': ['Comedy', 'Drama', 'Romance'], 'production_countries': ['FR'], 'collection_name': 'The Adventures of Antoine Doinel', 'release_year': '1970', 'actors': ['Jean-Pierre Léaud', 'Claude Jade', 'Daniel Ceccaldi', 'Claire Duhamel', 'Hiroko Berghauer', 'Daniel Boulanger', 'Silvana Blasi', 'Barbara Laage', 'Claude Véga', 'Danièle Girard', 'Marie Irakane', 'Philippe Léotard', 'François Truffaut', 'Jacques Robiolles', 'Jacques Jouanneau', 'Christophe Vesque', 'Pierre Maguelon', 'Guy Piérauld', 'Annick Asty', 'Yvon Lec', 'Pierre Fabre', 'Billy Kearns', 'Marianne Piketti', 'Marie Dedieu', 'Jacques Rispal', 'Christian de Tillière'], 'directors': ['François Truffaut'], 'screenwriters': ['Antoine Duhamel'], 'music_composers': []},\n",
       " 'm_4235': {'movie_id': 'm_4235', 'title': 'Le Clan des Siciliens', 'genres': ['Crime'], 'production_countries': ['FR'], 'collection_name': '', 'release_year': '1969', 'actors': ['Jean Gabin', 'Alain Delon', 'Lino Ventura', 'Irina Demick', 'Elisa Cegani', 'Marc Porel', 'Danielle Volle', 'Jacques Duby', 'Karen Blanguernon', 'Philippe Baronnet', 'Gérard Buhr', 'Yves Brainville', 'Edward Meeks', 'Sally Nesbitt', 'Amedeo Nazzari', 'André Pousse'], 'directors': ['Henri Verneuil'], 'screenwriters': ['Ennio Morricone'], 'music_composers': ['Henri Verneuil', 'José Giovanni']},\n",
       " 'm_6593': {'movie_id': 'm_6593', 'title': 'ゴジラvsメカゴジラ', 'genres': ['Action', 'Drama', 'Fantasy', 'Foreign', 'Science Fiction'], 'production_countries': ['JP'], 'collection_name': 'Godzilla (Heisei) Collection', 'release_year': '1993', 'actors': ['Masahiro Takashima', 'Ryoko Sano', 'Megumi Odaka', 'Yûsuke Kawazu', 'Akira Nakao', 'Kôichi Ueda', 'Leo Meneghetti', 'Kenji Sahara', 'Shinobu Nakayama', 'Sayaka Osawa', 'Keiko Imamura'], 'directors': ['Takao Okawara'], 'screenwriters': ['Akira Ifukube'], 'music_composers': ['Wataru Mimura']},\n",
       " 'm_1918': {'movie_id': 'm_1918', 'title': 'Or', 'genres': ['Drama'], 'production_countries': ['IL', 'FR'], 'collection_name': '', 'release_year': '2004', 'actors': ['Ronit Elkabetz', 'Dana Ivgy', 'Meshar Cohen', 'Katia Zinbris', 'Shmuel Edelman'], 'directors': ['Keren Yedaya'], 'screenwriters': [], 'music_composers': []},\n",
       " 'm_1093': {'movie_id': 'm_1093', 'title': \"Ascenseur pour l'échafaud\", 'genres': ['Drama', 'Thriller', 'Crime'], 'production_countries': ['FR'], 'collection_name': '', 'release_year': '1958', 'actors': ['Jeanne Moreau', 'Maurice Ronet', 'Georges Poujouly', 'Yori Bertin', 'Lino Ventura', 'Iván Petrovich', 'Elga Andersen', 'Jean Wall', 'Gérard Darrieu', 'Micheline Bona', 'Charles Denner', 'Félix Marten', 'Hubert Deschamps', 'Jacques Hilling', 'Marcel Journet', 'François Joux', 'Jean-Claude Brialy', 'Gisèle Grandpré', 'Jacqueline Staup', 'Marcel Cuvelier', 'Nicolas Bataille', 'Pierre Frag', 'Christian Brocard', 'Marcel Bernier', 'Guy Henry', 'Roger Jacquet', 'Alice Reichen'], 'directors': ['Louis Malle'], 'screenwriters': ['Miles Davis'], 'music_composers': ['Louis Malle', 'Roger Nimier']},\n",
       " 'm_1589': {'movie_id': 'm_1589', 'title': 'The Boys from County Clare', 'genres': ['Romance', 'Comedy', 'Music'], 'production_countries': ['GB', 'IE', 'DE'], 'collection_name': '', 'release_year': '2003', 'actors': ['Colm Meaney', 'Bernard Hill', 'Shaun Evans', 'Andrea Corr', 'Ian Shaw', 'Charlotte Bradley', 'Eamonn Owens', 'Stephen Brennan', 'Malachy Bourke', 'Patrick Bergin', 'Margi Clarke'], 'directors': ['John Irvin'], 'screenwriters': ['Fiachra Trench'], 'music_composers': []},\n",
       " 'm_540': {'movie_id': 'm_540', 'title': 'D.E.B.S.', 'genres': ['Action'], 'production_countries': ['US'], 'collection_name': '', 'release_year': '2004', 'actors': ['Sara Foster', 'Meagan Good', 'Jordana Brewster', 'Devon Aoki', 'Jill Ritchie', 'Christina Kirk', 'Geoff Stults', 'Jimmi Simpson', 'Holland Taylor', 'Michael Clarke Duncan', 'Jessica Cauffiel', 'J.B. Ghuman Jr.', 'Scoot McNairy', 'Jean St. James', 'Eric Dearborn', 'Jenny Mollen', 'Aimee Garcia', 'Roger Fan', 'Krista Conti', 'Gina Salemi', 'Kasey Stevens', 'Jennifer Carpenter', 'Eric Bachniarz', 'Ryan Xavier', 'Michael David Masters', 'Anthony Cecere'], 'directors': ['Angela Robinson'], 'screenwriters': ['Messy', 'Steven M. Stern'], 'music_composers': ['Angela Robinson']},\n",
       " 'm_158': {'movie_id': 'm_158', 'title': \"Knockin' on Heaven's Door\", 'genres': ['Comedy', 'Crime'], 'production_countries': ['BE', 'DE', 'NL'], 'collection_name': '', 'release_year': '1997', 'actors': ['Til Schweiger', 'Jan Josef Liefers', 'Thierry van Werveke', 'Moritz Bleibtreu', 'Huub Stapel', 'Leonard Lansink', 'Ralph Herforth', 'Cornelia Froboess', 'Rutger Hauer', 'Christiane Paul', 'Hannes Jaenicke', 'Markus Knüfken', 'Willi Thomczyk', 'Tobias Schenke', 'Jenny Elvers', 'Corinna Harfouch', 'Hark Bohm', 'Muriel Baumeister', 'Jürgen Becker', 'Wolfgang Kaven', 'Bernd Hoffmann', 'Helen Duval', 'Christoph Ott', 'Sönke Wortmann', 'Florian Fitz', 'Xenia Seeberg'], 'directors': ['Thomas Jahn'], 'screenwriters': ['Franz Plasa', 'Andreas Kirnberger'], 'music_composers': []},\n",
       " 'm_1772': {'movie_id': 'm_1772', 'title': 'City of Hope', 'genres': ['Drama'], 'production_countries': ['US'], 'collection_name': '', 'release_year': '1991', 'actors': ['Vincent Spano', 'Stephen Mendillo', 'Tony Lo Bianco', 'Chris Cooper', 'Jace Alexander', 'Todd Graff', 'David Strathairn', 'Charlie Yanko', 'Joe Morton', 'Gina Gershon'], 'directors': ['John Sayles'], 'screenwriters': ['Mason Daring'], 'music_composers': []},\n",
       " 'm_26614': {'movie_id': 'm_26614', 'title': 'La Chienne', 'genres': ['Drama'], 'production_countries': ['FR'], 'collection_name': '', 'release_year': '1931', 'actors': ['Michel Simon', 'Janie Marèse', 'Georges Flamant', 'Magdeleine Bérubet', 'Roger Gaillard', 'Jean Gehret', 'Alexandre Rignault', 'Lucien Mancini', 'Marcel Courmes', 'Max Dalban', 'Henri Guisol', 'Romain Bouquet', 'Pierre Desty', 'Jane Pierson', 'Christian Argentin', 'Sylvain Itkine', 'Colette Borelli', 'Mlle Doryans', 'Agnès Capri', 'Adèle Legrand', 'Olga Nilza', 'Viviane Romance'], 'directors': ['Jean Renoir'], 'screenwriters': [], 'music_composers': []},\n",
       " 'm_1566': {'movie_id': 'm_1566', 'title': 'Die Brücke', 'genres': ['Drama', 'History', 'War'], 'production_countries': ['DE'], 'collection_name': '', 'release_year': '1959', 'actors': ['Folker Bohnet', 'Fritz Wepper', 'Michael Hinz', 'Frank Glaubrecht', 'Karl Michael Balzer', 'Volker Lechtenbrink', 'Günther Hoffmann', 'Cordula Trantow', 'Wolfgang Stumpf', 'Günter Pfitzmann', 'Heinz Spitzner', 'Siegfried Schürenberg', 'Ruth Hausmeister', 'Eva Vaitl', 'Edith Schultze-Westrum', 'Hans Elwenspoek', 'Trude Breitschopf', 'Klaus Hellmold', 'Inge Benz', 'Til Kiwe', 'Edeltraut Elsner', 'Vicco von Bülow', 'Georg Lehn', 'Johannes Buzalski', 'Heini Göbel', 'Alexander Hunzinger', 'Alfons Teuber'], 'directors': ['Bernhard Wicki'], 'screenwriters': ['Hans-Martin Majewski'], 'music_composers': ['Bernhard Wicki', 'Michael Mansfeld', 'Karl-Wilhelm Vivier']},\n",
       " 'm_1279': {'movie_id': 'm_1279', 'title': '사마리아', 'genres': ['Drama'], 'production_countries': ['KR'], 'collection_name': '', 'release_year': '2004', 'actors': ['Han Yeo-reum', 'Kwak Ji-min', 'Lee Eol', 'Kwon Hyun-Min', 'Oh Young', 'Gyun-Ho Im', 'Lee Jong-Gil'], 'directors': ['Kim Ki-duk'], 'screenwriters': ['Park Ji-Woong', 'Park Ji'], 'music_composers': ['Kim Ki-duk']},\n",
       " 'm_1895': {'movie_id': 'm_1895', 'title': 'Star Wars: Episode III - Revenge of the Sith', 'genres': ['Science Fiction', 'Adventure', 'Action'], 'production_countries': ['US'], 'collection_name': 'Star Wars Collection', 'release_year': '2005', 'actors': ['Ewan McGregor', 'Natalie Portman', 'Hayden Christensen', 'Ian McDiarmid', 'Samuel L. Jackson', 'Christopher Lee', 'Anthony Daniels', 'Kenny Baker', 'Frank Oz', 'Jimmy Smits', 'Peter Mayhew', 'Oliver Ford Davies', 'Ahmed Best', 'Silas Carson', 'Joel Edgerton', 'Bonnie Piesse', 'Matthew Wood', 'Temuera Morrison', 'Bruce Spence', 'Jeremy Bulloch', 'Wayne Pygram', 'Nick Gillard', 'Aidan Barton', 'James Earl Jones', 'George Lucas', 'Jett Lucas', 'Amanda Lucas', 'Katie Lucas', \"Jay Laga'aia\", 'Rohan Nichol', 'David Bowers', 'Keisha Castle-Hughes', 'Matt Sloan', 'Rebecca Jackson Mendoza', 'Tux Akindoyeni', 'Matt Rowan', 'Kenji Oates', 'Amy Allen', 'Bodie Taylor', 'Graeme Blundell', 'Trisha Noble', 'Claudia Karvan', 'Keira Wingate', 'Hayley Mooy', 'Sandi Finlay', \"Genevieve O'Reilly\", 'Warren Owens', 'Kee Chan', 'Rena Owen', 'Christopher Kirby', 'Kristy Wright', 'Coinneach Alexander', 'Mousy McCallum', 'Michael Kingma', 'Axel Dench', 'Steven Foy', 'Julian Khazzouh', 'James Rowland', 'David Stiff', 'Robert Cope'], 'directors': ['George Lucas'], 'screenwriters': ['John Williams'], 'music_composers': ['George Lucas']},\n",
       " 'm_953': {'movie_id': 'm_953', 'title': 'Madagascar', 'genres': ['Family', 'Animation'], 'production_countries': ['US'], 'collection_name': 'Madagascar Collection', 'release_year': '2005', 'actors': ['Ben Stiller', 'Chris Rock', 'David Schwimmer', 'Jada Pinkett Smith', 'Sacha Baron Cohen', 'Paco León', 'Cedric the Entertainer', 'Andy Richter', 'Tom McGrath', 'Christopher Knights', 'Chris Miller', 'Conrad Vernon', 'Eric Darnell', 'David Cowgill', 'Elisa Gabrielli', 'Stephen Apostolina', 'Devika Parikh', 'David P. Smith', 'Cody Cameron', 'Bob Saget', 'Jeffrey Katzenberg'], 'directors': ['Eric Darnell', 'Tom McGrath'], 'screenwriters': ['Hans Zimmer'], 'music_composers': []},\n",
       " 'm_921': {'movie_id': 'm_921', 'title': 'Cinderella Man', 'genres': ['Romance', 'Drama', 'History'], 'production_countries': ['US'], 'collection_name': '', 'release_year': '2005', 'actors': ['Russell Crowe', 'Renée Zellweger', 'Paul Giamatti', 'Craig Bierko', 'Paddy Considine', 'Bruce McGill', 'David Huband', 'Connor Price', 'Ariel Waller', 'Patrick Louis', 'Rosemarie DeWitt', 'Linda Kash', 'Nicholas Campbell', 'Gene Pyrz', 'Chuck Shamata', 'Ron Canada', 'Matthew G. Taylor', 'Rance Howard', 'James Ritz', 'Fulvio Cecere', 'Clint Howard', 'Ken James', 'Rufus Crawford', 'Wayne Gordon', 'Nick Alachiotis', 'Stuart Clark', 'Eric Fink', 'Sergio Di Zio', 'Gavin Grazer', 'Boyd Banks', 'Daniel Kash', 'Judah Katz', 'Angelo Tsarouchas', 'Robert Smith', 'Aaron Abrams', 'Duff MacDonald', 'Christopher Crumb', 'Gerry Quigley', 'Peter MacNeill', 'Darrin Brown', 'James Kirchner', 'Nola Augustson', 'Gino Marrocco', 'Alec Stockwell', 'Chick Roberts', 'Isabella Fink', 'Beau Starr', 'Philip Craig', 'Roman Podhora', 'R.D. Reid', 'Michael Dyson', 'Sam Malkin', 'Tony Munch', 'Conrad Bergschneider', 'Richard Binsley', 'Ramona Pringle', 'Alon Nashman', 'Dominic Cuzzocrea', 'Neil Foster', 'Brian Jagersky', 'Tim Eddis', 'Krysta Carter', 'Rick Cordeiro', 'Riva Di Paola', 'Andrew Priestman', 'Michael Stevens', 'Egidio Tari', 'Mark Falvo'], 'directors': ['Ron Howard'], 'screenwriters': ['Thomas Newman'], 'music_composers': ['Akiva Goldsman', 'Cliff Hollingsworth']},\n",
       " 'm_272': {'movie_id': 'm_272', 'title': 'Batman Begins', 'genres': ['Action', 'Crime', 'Drama'], 'production_countries': ['GB', 'US'], 'collection_name': 'The Dark Knight Collection', 'release_year': '2005', 'actors': ['Christian Bale', 'Michael Caine', 'Liam Neeson', 'Katie Holmes', 'Gary Oldman', 'Cillian Murphy', 'Tom Wilkinson', 'Morgan Freeman', 'Rutger Hauer', 'Ken Watanabe', 'Mark Boone Junior', 'Linus Roache', 'Larry Holden', 'Gerard Murphy', 'Colin McFarlane', 'Jack Gleeson', 'T.J. Ramini', 'Kieran Hurley', 'Catherine Porter', 'Gus Lewis', 'Rade Serbedzija', 'Sara Stewart', 'Richard Brake', 'Emma Lockhart', 'Christine Adams', 'John Nolan', 'Karen David', 'Jonathan D. Ellis', 'Tamer Hassan', 'Ronan Leahy', 'Vincent Wong', 'Том Ву', 'Mark Chiu', 'Turbo Kong', 'Sai-Kit Yung', 'Chike Chan', 'Jamie Hayden', 'David Murray', 'Darragh Kelly', 'John Kazek', 'Joseph Rye', 'Kwaku Ankomah', 'Jo Martin', 'Charles Edwards', 'Lucy Russell', 'Mark Straker', 'Timothy Deenihan', 'Flavia Masetto', 'Emily Steven-Daly', 'David Bedella', 'Martin McDougall', 'Noah Lee Margetts', 'Joe Hanley', 'Karl Shiels', 'Roger Griffiths', 'Stephen Walters', 'Richard Laing', 'Matt Miller', 'Risteard Cooper', 'Shane Rimmer', 'Jeremy Theobald', 'Alexandra Bastedo', 'John Judd', 'Soo Hee Ding', 'Phill Curr', 'Sarah Wateridge', 'Charlie Kranz', 'Terry McMahon', 'Cedric Young', 'Tim Booth', 'Tom Nolan', 'Roger Yuan', 'Joe Sargent', 'Emmanuel Idowu', 'Mel Taylor', 'Ilyssa Fradin', 'Andrew Pleavin', 'Jeff Christian', 'Tenzin Gyurme', 'Tenzin Clive Ball', 'John Burke', 'Earlene Bentley', 'Alex Moggridge', 'Jay Buozzi', 'Rory Campbell', 'Poppy Tierney', 'Spencer Wilding', 'Mark Smith', 'Dave Legeno', 'Khan Bonfils', 'Ruben Halse', 'Jordan Shaw', 'Dominic Burgess', 'Nadia Cameron-Blakey', 'Jeff Tanner', 'Omar Mostafa', 'Leon Delroy Williams', 'Fabio Cardascia', 'Dean Alexandrou', 'Joey Ansah', 'Jon Foo', 'Emil Martirossian', 'Mark Strange', 'Lasco Atkins', 'Rick Avery', 'James Embree', 'Gil Kolirin', 'Jane Osborn', 'Dan Poole', 'Tommy Gunn', 'Philip Harvey', 'Russell Wilcox', 'Ray Donn'], 'directors': ['Christopher Nolan'], 'screenwriters': ['Hans Zimmer', 'James Newton Howard'], 'music_composers': ['Christopher Nolan', 'David S. Goyer']},\n",
       " 'm_276': {'movie_id': 'm_276', 'title': 'Die fetten Jahre sind vorbei', 'genres': ['Drama', 'Comedy'], 'production_countries': ['AT', 'DE'], 'collection_name': '', 'release_year': '2004', 'actors': ['Daniel Brühl', 'Julia Jentsch', 'Stipe Erceg', 'Burghart Klaußner', 'Peer Martiny', 'Petra Zieser', 'Laura Schmidt', 'Sebastian Butz', 'Oliver Bröcker', 'Hanns Zischler', 'Claudio Caiolo', 'Bernhard Bettermann'], 'directors': ['Hans Weingartner'], 'screenwriters': ['Andreas Wodraschke'], 'music_composers': []},\n",
       " 'm_74': {'movie_id': 'm_74', 'title': 'War of the Worlds', 'genres': ['Adventure', 'Thriller', 'Science Fiction'], 'production_countries': ['US'], 'collection_name': '', 'release_year': '2005', 'actors': ['Tom Cruise', 'Dakota Fanning', 'Miranda Otto', 'Justin Chatwin', 'Tim Robbins', 'Camillia Sanes', 'John Scurti', 'Morgan Freeman', 'Takayo Fischer', 'Yul Vazquez', 'Ann Robinson', 'Gene Barry', 'Daniel Eric Gold', 'Channing Tatum', 'Dempsey Pappion', 'Lisa Ann Walter', 'Lenny Venito', 'Rick Gonzalez', 'David Alan Basche', 'Roz Abrams', 'Marlon Young', 'John Eddins', 'Amy Ryan', 'Jim Hanna', 'James DuMont', 'Travis Aaron Wade', 'Columbus Short', 'Tom Kenny', 'Ty Simpkins'], 'directors': ['Steven Spielberg'], 'screenwriters': ['John Williams'], 'music_composers': []},\n",
       " 'm_36401': {'movie_id': 'm_36401', 'title': 'Pornografia', 'genres': ['War', 'Drama', 'Romance'], 'production_countries': ['FR', 'PL'], 'collection_name': '', 'release_year': '2003', 'actors': ['Sandra Samos', 'Krzysztof Majchrzak', 'Adam Ferency', 'Krzysztof Globisz', 'Grażyna Błęcka-Kolska'], 'directors': ['Jan Jakub Kolski'], 'screenwriters': [], 'music_composers': []},\n",
       " 'm_1635': {'movie_id': 'm_1635', 'title': 'The Island', 'genres': ['Action', 'Thriller', 'Science Fiction', 'Adventure'], 'production_countries': ['US'], 'collection_name': '', 'release_year': '2005', 'actors': ['Ewan McGregor', 'Scarlett Johansson', 'Djimon Hounsou', 'Sean Bean', 'Steve Buscemi', 'Michael Clarke Duncan', 'Ethan Phillips', 'Brian Stepanek', 'Noa Tishby', 'Siobhan Flynn', 'Troy Blendell', 'Jamie McBride', 'Kevin McCorkle', 'Gary Nickens', 'Kathleen Rose Perkins', 'Katy Boyer', 'Wendy Haines', 'Glenn Morshower', 'Shawnee Smith', 'Max Baker', 'Phil Abrams', 'Svetlana Efremova', 'Randy Oglesby', 'Yvette Nicole Brown', 'Taylor Gilbert', 'Tim Halligan', 'Michael Canavan', 'Jimmy Smagula', 'Ben Tolpin', 'Rich Hutchman', 'Gonzalo Menendez', 'Olivia Tracey', 'Ray Xifo', 'Mary Pat Gleason', 'Whitney Dylan', 'Mitzi Martin', 'Shelby Leverington', 'Don Creech', 'Richard V. Licata', 'Chris Ellis', 'Eric Stonestreet'], 'directors': ['Michael Bay'], 'screenwriters': ['Steve Jablonsky'], 'music_composers': ['Alex Kurtzman', 'Roberto Orci', 'Caspian Tredwell-Owen']},\n",
       " 'm_308': {'movie_id': 'm_308', 'title': 'Broken Flowers', 'genres': ['Comedy', 'Drama', 'Mystery', 'Romance'], 'production_countries': ['FR', 'US'], 'collection_name': '', 'release_year': '2005', 'actors': ['Bill Murray', 'Julie Delpy', 'Sharon Stone', 'Tilda Swinton', 'Jessica Lange', 'Jeffrey Wright', 'Frances Conroy', 'Alexis Dziena', 'Heather Simms', 'Brea Frazier', 'Pell James', 'Nicole Abisinio', 'Ryan Donowho', 'Christopher McDonald', 'Chris Bauer', 'Chloë Sevigny', 'Mark Webber', 'Homer Murray', 'Larry Fessenden'], 'directors': ['Jim Jarmusch'], 'screenwriters': ['Mulatu Astatke'], 'music_composers': ['Jim Jarmusch']},\n",
       " 'm_501': {'movie_id': 'm_501', 'title': 'Grizzly Man', 'genres': ['Documentary'], 'production_countries': ['US'], 'collection_name': '', 'release_year': '2005', 'actors': ['Timothy Treadwell', 'Kathleen Parker', 'Warren Queeney', 'Willy Fulton', 'Sam Egli', 'Werner Herzog', 'David Letterman', 'Jewel Palovak'], 'directors': ['Werner Herzog'], 'screenwriters': ['Richard Thompson'], 'music_composers': ['Werner Herzog']},\n",
       " 'm_6957': {'movie_id': 'm_6957', 'title': 'The 40 Year Old Virgin', 'genres': ['Comedy', 'Romance'], 'production_countries': ['US'], 'collection_name': '', 'release_year': '2005', 'actors': ['Steve Carell', 'Catherine Keener', 'Paul Rudd', 'Romany Malco', 'Seth Rogen', 'Jane Lynch', 'Leslie Mann', 'Elizabeth Banks', 'Kat Dennings', 'Mindy Kaling', 'Marilyn Dodds Frank', 'Gerry Bednob', 'Shelley Malil', 'Jordan Masterson', 'Chelsea Smith', 'Erica Vittina Phillips', 'Marika Dominczyk', 'Mo Collins', 'Lee Weaver', 'Stormy Daniels', 'Kevin Hart', 'Jonah Hill', 'Gillian Vigman', 'Kimberly Page', 'Siena Goines', 'Charlie Hartsock', 'Nancy Carell', 'Cedric Yarbrough', 'David Koechner', 'Jeff Kahn', 'Nick Lashaway', 'Loren Berman', 'Miki Mia', 'Jazzmun', 'Shannon Bradley', 'Brianna Brown', 'Liz Carey', 'Elizabeth DeCicco', 'Hilary Shepard', 'Barret Swatek', 'Carla Gallo', 'Michael Bierman', 'Marisa Guterman', 'Wayne Federman', 'Ron Marasco', 'Kate Luyben', 'Joe Nunez', 'Rose Abdoo', 'Steve Bannos', 'Brooke Hamlin', 'Miyoko Shimosawa', 'Ann Christine', 'Brandon Killham', 'Nicole Randall Johnson', 'Suzy Nakamura', 'Jenna Fischer', 'Stephanie Lemelin', 'Jamie Elle Mann', 'Leah McCormick', 'Samantha J. Reese', 'Brittney Skye', 'Phyllis Smith', 'Christopher T. Wood', 'Wyatt Smith', 'Kira Turnage', 'Penny Vital', 'Christa Nicole Wells'], 'directors': ['Judd Apatow'], 'screenwriters': ['Lyle Workman'], 'music_composers': ['Steve Carell', 'Judd Apatow']},\n",
       " 'm_1917': {'movie_id': 'm_1917', 'title': 'Qui a tué Bambi ?', 'genres': ['Thriller'], 'production_countries': ['FR'], 'collection_name': '', 'release_year': '2003', 'actors': ['Sophie Quinton', 'Laurent Lucas', 'Catherine Jacob', 'Yasmine Belmadi', 'Michèle Moretti', 'Valérie Donzelli', 'Sophie Medina'], 'directors': ['Gilles Marchand'], 'screenwriters': [], 'music_composers': ['Gilles Marchand', 'Vincent Dietschy']},\n",
       " 'm_1676': {'movie_id': 'm_1676', 'title': 'Will Penny', 'genres': ['Romance', 'Western'], 'production_countries': ['US'], 'collection_name': '', 'release_year': '1967', 'actors': ['Charlton Heston', 'Ben Johnson', 'Donald Pleasence', 'Joan Hackett', 'Lee Majors', 'Bruce Dern', 'Roy Jenson', 'Slim Pickens', 'Clifton James', 'Anthony Zerbe', 'G. D. Spradlin', 'Quentin Dean', 'William Schallert', 'Lydia Clarke', 'Luke Askew', 'Matt Clark', 'Gene Rutherford', 'Jon Gries'], 'directors': ['Tom Gries'], 'screenwriters': ['David Raksin'], 'music_composers': []},\n",
       " 'm_2125': {'movie_id': 'm_2125', 'title': 'Wedlock', 'genres': ['Action', 'Science Fiction', 'Thriller'], 'production_countries': ['US'], 'collection_name': '', 'release_year': '1991', 'actors': ['Rutger Hauer', 'Mimi Rogers', 'Joan Chen', 'James Remar', 'Stephen Tobolowsky', 'Basil Wallace'], 'directors': ['Lewis Teague'], 'screenwriters': ['Richard Gibbs'], 'music_composers': ['Broderick Miller']},\n",
       " 'm_1947': {'movie_id': 'm_1947', 'title': 'An Unfinished Life', 'genres': ['Drama'], 'production_countries': ['US', 'DE'], 'collection_name': '', 'release_year': '2005', 'actors': ['Robert Redford', 'Jennifer Lopez', 'Morgan Freeman', 'Becca Gardner', 'Josh Lucas', 'Damian Lewis', 'Camryn Manheim', 'Lynda Boyd', 'Rob Hayter', 'P. Lynn Johnson', 'Byron Lucas', 'Trevor Moss', 'R. Nelson Brown', 'Dillard Brinson', 'Jason Diablo'], 'directors': ['Lasse Hallström'], 'screenwriters': [], 'music_composers': ['Mark Spragg', 'Virginia Korus Spragg']},\n",
       " 'm_257': {'movie_id': 'm_257', 'title': 'Oliver Twist', 'genres': ['Crime', 'Drama', 'Family'], 'production_countries': ['CZ', 'FR', 'IT', 'GB'], 'collection_name': '', 'release_year': '2005', 'actors': ['Barney Clark', 'Ben Kingsley', 'Jamie Foreman', 'Harry Eden', 'Edward Hardwicke', 'Leanne Rowe', 'Ian McNeice', 'Chris Overton', 'Andy Linden', 'Teresa Churcher', 'Jake Curran', 'Turbo', 'Lewis Chase', 'Levi Hayes', 'Jeremy Swift', 'Gillian Hanna', 'Michael Heath', 'Patrick Godfrey', 'Mark Strong', 'Ophelia Lovibond', 'Liz Smith', 'Andy de la Tour', 'Richard Durden', 'Peter Copley', 'John Nettleton', 'Tony Noble', 'Gerard Horan', 'Morgane Polanski', 'Alun Armstrong', 'Frances Cuka', 'Paul Brooke', 'Nick Stringer', 'Frank Mills', 'Richard Ridings'], 'directors': ['Roman Polanski'], 'screenwriters': ['Rachel Portman'], 'music_composers': ['Ronald Harwood']},\n",
       " 'm_647': {'movie_id': 'm_647', 'title': 'Final Fantasy VII: Advent Children', 'genres': ['Action', 'Adventure', 'Animation', 'Fantasy'], 'production_countries': ['JP'], 'collection_name': 'Final Fantasy Collection', 'release_year': '2005', 'actors': ['Takahiro Sakurai', 'Toshiyuki Morikawa', 'Ayumi Ito', 'Keiji Fujiwara', 'Kyosuke Ikeda', 'Megumi Toyoguchi', 'Maaya Sakamoto', 'Rina Mogami', 'Kazuyuki Yama', 'Shoutarou Morikubo', 'Yumi Kakazu', '野島 健児', 'Masachika Ichimura', 'Taiten Kusunoki', 'Toru Okawa', 'Hideo Ishikawa', 'Junichi Suwabe', 'Shôgo Suzuki', 'Masahiro Kobayashi', 'Miyuu Tsuzuhara', 'Yūji Kishi', 'Kenichi Suzumura'], 'directors': ['Tetsuya Nomura', 'Takeshi Nozue'], 'screenwriters': ['Nobuo Uematsu'], 'music_composers': []},\n",
       " 'm_349': {'movie_id': 'm_349', 'title': 'Crustacés et coquillages', 'genres': ['Comedy'], 'production_countries': ['FR'], 'collection_name': '', 'release_year': '2005', 'actors': ['Valeria Bruni Tedeschi', 'Gilbert Melki', 'Jean-Marc Barr', 'Jacques Bonnaffé', 'Edouard Collin', 'Romain Torres', 'Sabrina Seyvecou', 'Yannick Baudin', 'Julien Weber', 'Sébastien Cormier', 'Marion Roux'], 'directors': ['Olivier Ducastel', 'Jacques Martineau'], 'screenwriters': ['Philippe Miller'], 'music_composers': []},\n",
       " 'm_3527': {'movie_id': 'm_3527', 'title': \"Don't Come Knocking\", 'genres': ['Drama', 'Music'], 'production_countries': ['FR', 'DE', 'US'], 'collection_name': '', 'release_year': '2005', 'actors': ['Sam Shepard', 'Jessica Lange', 'Sarah Polley', 'Tim Roth', 'Gabriel Mann', 'Fairuza Balk', 'Rachel Amondson', 'Tom Farrell', 'Eva Marie Saint', 'Marley Shelton'], 'directors': ['Wim Wenders'], 'screenwriters': ['T Bone Burnett'], 'music_composers': ['Sam Shepard']},\n",
       " 'm_41566': {'movie_id': 'm_41566', 'title': 'New York Doll', 'genres': ['Documentary', 'Music'], 'production_countries': ['US'], 'collection_name': '', 'release_year': '2005', 'actors': ['Arthur Kane', 'Nina Antonia', 'Clem Burke', 'David Johansen', 'Leee Black Childers', 'Bob Geldof', 'Chrissie Hynde', 'Morrissey', 'Iggy Pop', 'Sylvain Sylvain'], 'directors': ['Greg Whiteley'], 'screenwriters': [], 'music_composers': []},\n",
       " 'm_215': {'movie_id': 'm_215', 'title': 'Saw II', 'genres': ['Horror'], 'production_countries': ['US'], 'collection_name': 'Saw Collection', 'release_year': '2005', 'actors': ['Tobin Bell', 'Shawnee Smith', 'Donnie Wahlberg', 'Franky G', 'Glenn Plummer', 'Beverley Mitchell', 'Dina Meyer', 'Emmanuelle Vaugier', 'Erik Knudsen', 'Tim Burd', 'Lyriq Bent', 'Noam Jenkins', 'Tony Nappo', 'Kelly Jones', 'Vincent Rother'], 'directors': ['Darren Lynn Bousman'], 'screenwriters': ['Charlie Clouser'], 'music_composers': ['Leigh Whannell', 'Darren Lynn Bousman']},\n",
       " 'm_2313': {'movie_id': 'm_2313', 'title': 'Prime', 'genres': ['Comedy', 'Drama', 'Romance'], 'production_countries': ['US'], 'collection_name': '', 'release_year': '2005', 'actors': ['Uma Thurman', 'Bryan Greenberg', 'Meryl Streep', 'Annie Parisse', 'Zak Orth', 'Jerry Adler', 'Doris Belack', 'Jon Abrahams', 'Mini Anden', 'Ato Essandoh', 'Aubrey Dollar', 'Sebastian Sozzi', 'Naomi Aborn', 'Madhur Jaffrey', 'Adam LaFramboise'], 'directors': ['Ben Younger'], 'screenwriters': [], 'music_composers': ['Ben Younger']},\n",
       " 'm_1951': {'movie_id': 'm_1951', 'title': 'Manderlay', 'genres': ['Drama'], 'production_countries': ['DK', 'FR', 'DE', 'IT', 'NL', 'SE', 'GB'], 'collection_name': 'USA: Land of Opportunities Collection', 'release_year': '2005', 'actors': ['Bryce Dallas Howard', 'Isaach De Bankolé', 'Danny Glover', 'Willem Dafoe', 'Michaël Abiteboul', 'Lauren Bacall', 'Jeremy Davies', 'Udo Kier', 'Chloë Sevigny', 'John Hurt', 'Suzette Llewellyn', 'Geoffrey Bateman'], 'directors': ['Lars von Trier'], 'screenwriters': [], 'music_composers': ['Lars von Trier']},\n",
       " 'm_25': {'movie_id': 'm_25', 'title': 'Jarhead', 'genres': ['Drama', 'War'], 'production_countries': ['DE', 'US'], 'collection_name': 'Jarhead Collection', 'release_year': '2005', 'actors': ['Jamie Foxx', 'Jake Gyllenhaal', 'Scott MacDonald', 'Lucas Black', 'Peter Sarsgaard', 'Laz Alonso', 'Chris Cooper', 'Brian Geraghty', 'Damion Poitier', 'John Krasinski', 'Jocko Sims', 'Kevin Foster', 'Riad Galayini', 'Craig Coyne', 'Katherine Randolph', 'Honorine Bell', 'Dendrie Taylor', 'James Morrison', 'Ming Lo', 'Dennis Haysbert'], 'directors': ['Sam Mendes'], 'screenwriters': ['Thomas Newman', 'Jim Morrison'], 'music_composers': []},\n",
       " 'm_5620': {'movie_id': 'm_5620', 'title': 'Nachts, wenn Dracula erwacht', 'genres': ['Horror'], 'production_countries': ['DE', 'IT', 'LI', 'ES'], 'collection_name': '', 'release_year': '1970', 'actors': ['Christopher Lee', 'Klaus Kinski', 'Herbert Lom', 'Maria Rohm', 'Soledad Miranda', 'Fred Williams', 'Paul Müller', 'Jack Taylor', 'Jesús Puente', 'José Martínez Blanco', 'Emma Cohen', 'Jeannine Mestre', 'Teresa Gimpera', 'Colette Giacobine', 'Jesús Franco'], 'directors': ['Jesús Franco'], 'screenwriters': ['Bruno Nicolai'], 'music_composers': ['Harry Alan Towers', 'Jesús Franco', 'Augusto Finocchi']},\n",
       " 'm_231': {'movie_id': 'm_231', 'title': 'Syriana', 'genres': ['Drama', 'Thriller'], 'production_countries': ['US'], 'collection_name': '', 'release_year': '2005', 'actors': ['George Clooney', 'Matt Damon', 'Jeffrey Wright', 'Chris Cooper', 'Amanda Peet', 'William Hurt', 'Christopher Plummer', 'Alexander Siddig', 'Kayvan Novak', 'Amr Waked', 'Robert Foxworth', 'Nicky Henson', 'Nicholas Art', 'Steven Hinkle', 'Daisy Tormé', 'Peter Gerety', 'Richard Lintern', 'Mazhar Munir', 'Jocelyn Quivrin', 'Shahid Ahmed', 'Bikram Singh Bhamra', 'Roger Yuan', 'Jamey Sheridan', 'Max Minghella', 'Nadim Sawalha', 'Akbar Kurtha', 'Sonnell Dadral', 'Tim Blake Nelson', 'Mark Strong', 'Badria Timimi', 'Viola Davis'], 'directors': ['Stephen Gaghan'], 'screenwriters': ['Alexandre Desplat'], 'music_composers': ['Stephen Gaghan']},\n",
       " 'm_674': {'movie_id': 'm_674', 'title': 'Harry Potter and the Goblet of Fire', 'genres': ['Adventure', 'Fantasy', 'Family'], 'production_countries': ['GB', 'US'], 'collection_name': 'Harry Potter Collection', 'release_year': '2005', 'actors': ['Daniel Radcliffe', 'Rupert Grint', 'Emma Watson', 'Ralph Fiennes', 'Michael Gambon', 'Alan Rickman', 'Robbie Coltrane', 'Brendan Gleeson', 'Miranda Richardson', 'Gary Oldman', 'Robert Pattinson', 'Stanislav Yanevski', 'Clémence Poésy', 'Josh Herdman', 'Maggie Smith', 'Geraldine Somerville', 'Matthew Lewis', 'Frances de la Tour', 'Tom Felton', 'Roger Lloyd Pack', 'Jason Isaacs', 'Eric Sykes', 'Timothy Spall', 'David Tennant', 'Mark Williams', 'James Phelps', 'Oliver Phelps', 'Bonnie Wright', 'Jeff Rawle', 'Robert Hardy', 'Sheila Allen', 'Su Elliott', 'Anne Lacy', 'Flip Webster', 'David Sterne', 'Christopher Whittingham', 'Liam McKenna', 'Campbell Graham', 'Margery Mason', 'Katie Leung', 'William Melling', 'David Bradley', 'Devon Murray', 'Afshan Azad', 'Warwick Davis', 'Shefali Chowdhury', 'Angelica Mandy', 'Predrag Bjelac', 'Tolga Safer', 'Alfie Enoch', 'Louis Doyle', 'Jamie Waylett', 'Charlotte Skeoch', 'Robert Wilfort', 'Tiana Benjamin', 'Henry Lloyd-Hughes', 'Jarvis Cocker', 'Jonny Greenwood', 'Phil Selway', 'Steve Mackey', 'Jason Buckle', 'Steve Claydon', 'Shirley Henderson', 'Alan Watt', 'Adrian Rawlins'], 'directors': ['Mike Newell'], 'screenwriters': ['Patrick Doyle'], 'music_composers': ['Steve Kloves']},\n",
       " 'm_69': {'movie_id': 'm_69', 'title': 'Walk the Line', 'genres': ['Drama', 'Music', 'Romance'], 'production_countries': ['DE', 'US'], 'collection_name': '', 'release_year': '2005', 'actors': ['Joaquin Phoenix', 'Reese Witherspoon', 'Ginnifer Goodwin', 'Robert Patrick', 'Tyler Hilton', 'Johnathan Rice', 'Shooter Jennings', 'Waylon Payne', 'Dallas Roberts', 'Dan John Miller', 'Larry Bagby', 'Sandra Ellis Lafferty', 'Dan Beene', 'Lucas Till', 'Victoria Hester', 'Hailey Anne Nelson', 'Shelby Lynne', 'Clay Steakley', 'Ridge Canipe', 'Kerris Dorsey', 'Deborah Rawlings', 'James DeForest Parker', 'James Keach', 'Danny Vinson', 'Natalie Canerday', 'Rhoda Griffis', 'Jeff Bailey', 'J.D. Evermore', 'Tim Ware', 'Dolan Wilson', 'Clare Grant', 'Glenda Pannell', 'Amy Lavere', 'John Carter Cash', 'Aaron Covington', 'Geoff Falk', 'Jan Falk', 'Marc Farley', 'Cody Hanford', 'Donald Meyers', 'Mike Montgomery', 'Brit Shaw', 'Melissa Goodwin Shepherd', 'Ben Taylor', 'Frank Hoyt Taylor'], 'directors': ['James Mangold'], 'screenwriters': ['T Bone Burnett'], 'music_composers': ['James Mangold', 'Gill Dennis']},\n",
       " 'm_1833': {'movie_id': 'm_1833', 'title': 'Rent', 'genres': ['Drama', 'Romance'], 'production_countries': ['US'], 'collection_name': '', 'release_year': '2005', 'actors': ['Anthony Rapp', 'Adam Pascal', 'Rosario Dawson', 'Jesse L. Martin', 'Wilson Jermaine Heredia', 'Idina Menzel', 'Tracie Thoms', 'Taye Diggs', 'Aaron Lohr', 'Daniel London', 'Sarah Silverman', 'Daryl Edwards', 'Anna Deavere Smith'], 'directors': ['Chris Columbus'], 'screenwriters': [], 'music_composers': ['Stephen Chbosky']},\n",
       " 'm_2153': {'movie_id': 'm_2153', 'title': 'The Driver', 'genres': ['Action', 'Crime', 'Drama', 'Thriller'], 'production_countries': ['GB', 'US'], 'collection_name': '', 'release_year': '1978', 'actors': [\"Ryan O'Neal\", 'Bruce Dern', 'Isabelle Adjani', 'Ronee Blakley', 'Matt Clark', 'Felice Orlandi', 'Joseph Walsh', 'Denny Macko'], 'directors': ['Walter Hill'], 'screenwriters': ['Michael Small'], 'music_composers': ['Walter Hill']},\n",
       " 'm_546': {'movie_id': 'm_546', 'title': 'Transamerica', 'genres': ['Drama'], 'production_countries': ['US'], 'collection_name': '', 'release_year': '2005', 'actors': ['Felicity Huffman', 'Kevin Zegers', 'Elizabeth Peña', 'Danny Burstein', 'Maurice Orozco', 'Graham Greene', 'Stella Maeve', 'Teala Dunn', 'Grant Monohon', 'Burt Young', 'Carrie Preston', 'Paul Borghese', 'Fionnula Flanagan'], 'directors': ['Duncan Tucker'], 'screenwriters': ['David Mansfield'], 'music_composers': ['Duncan Tucker']},\n",
       " 'm_6934': {'movie_id': 'm_6934', 'title': 'Yesterday', 'genres': ['Drama'], 'production_countries': ['ZA'], 'collection_name': '', 'release_year': '2004', 'actors': ['Leleti Khumalo', 'Kenneth Khambula', 'Harriet Lenabe', 'Lihle Mvelase', 'Camilla Walker'], 'directors': ['Darrell James Roodt'], 'screenwriters': ['Madala Kunene'], 'music_composers': ['Darrell James Roodt']},\n",
       " 'm_1690': {'movie_id': 'm_1690', 'title': 'Hostel', 'genres': ['Horror'], 'production_countries': ['US'], 'collection_name': 'Hostel Collection', 'release_year': '2005', 'actors': ['Jay Hernandez', 'Derek Richardson', 'Eythor Gudjonsson', 'Barbara Nedeljakova', 'Jana Kaderabkova', 'Jan Vlasák', 'Lubomir Bukovy', 'Takashi Miike', 'Keiko Seiko', 'Jana Havlickova', 'Rick Hoffman', 'Petr Janis', 'Jennifer Lim', 'Eli Roth', 'Josef Bradna'], 'directors': ['Eli Roth'], 'screenwriters': ['Nathan Barr'], 'music_composers': []},\n",
       " 'm_2455': {'movie_id': 'm_2455', 'title': 'Vivement dimanche!', 'genres': ['Drama', 'Comedy', 'Crime'], 'production_countries': ['FR'], 'collection_name': '', 'release_year': '1983', 'actors': ['Fanny Ardant', 'Jean-Louis Trintignant', 'Philippe Laudenbach', 'Jean-Pierre Kalfon', 'Philippe Morier-Genoud', 'Caroline Sihol', 'Xavier Saint-Macary', 'Jean-Louis Richard'], 'directors': ['François Truffaut'], 'screenwriters': ['Georges Delerue'], 'music_composers': ['François Truffaut', 'Jean Aurel', 'Suzanne Schiffman']},\n",
       " 'm_2117': {'movie_id': 'm_2117', 'title': 'Sophie Scholl – Die letzten Tage', 'genres': ['Drama', 'History'], 'production_countries': ['DE'], 'collection_name': '', 'release_year': '2005', 'actors': ['Julia Jentsch', 'Fabian Hinrichs', 'Alexander Held', 'Johanna Gastdorf', 'André Hennicke', 'Florian Stetter', 'Maximilian Brückner', 'Johannes Suhm', 'Jörg Hube', 'Petra Kelling', 'Franz Staber', 'Lilli Jung', 'Norbert Heckner', 'Klaus Händl', 'Maria Hofstätter', 'Wolfgang Pregler', 'Christian Hoening', 'Paul Herwig', 'Walter Hess', 'Anne Clausen', 'Anton Figl', 'Dieter Rupp', 'Johannes Herrschmann', 'Joachim Höppner', 'Franco Moscon'], 'directors': ['Marc Rothemund'], 'screenwriters': [], 'music_composers': ['Fred Breinersdorfer']},\n",
       " 'm_17': {'movie_id': 'm_17', 'title': 'The Dark', 'genres': ['Horror', 'Thriller', 'Mystery'], 'production_countries': ['DE', 'GB'], 'collection_name': '', 'release_year': '2006', 'actors': ['Sean Bean', 'Maria Bello', 'Richard Elfyn', 'Maurice Roeves', 'Abigail Stone', 'Sophie Stuckey', 'Casper Harvey', 'Eluned Jones', 'Gwenyth Petty', 'Robin Griffith'], 'directors': ['John Fawcett'], 'screenwriters': [], 'music_composers': ['Stephen Massicotte']},\n",
       " 'm_292': {'movie_id': 'm_292', 'title': \"Dave Chappelle's Block Party\", 'genres': ['Comedy', 'Documentary', 'Music'], 'production_countries': ['US'], 'collection_name': '', 'release_year': '2005', 'actors': ['Dave Chappelle', 'Erykah Badu', 'Common', 'Yasiin Bey', 'Bilal', \"Lil' Cease\", 'Cody ChestnuTT', \"James 'Kamal' Gray\", 'Lauryn Hill', \"Leonard 'Hub' Hubbard\", 'Wyclef Jean', 'Tiffany Limos', 'Ahmir-Khalib Thompson', 'Kanye West', 'Jill Scott'], 'directors': ['Michel Gondry'], 'screenwriters': ['Cory Smith'], 'music_composers': []},\n",
       " 'm_1544': {'movie_id': 'm_1544', 'title': 'Imagine Me & You', 'genres': ['Drama', 'Comedy', 'Romance'], 'production_countries': ['DE', 'GB', 'US'], 'collection_name': '', 'release_year': '2005', 'actors': ['Piper Perabo', 'Lena Headey', 'Matthew Goode', 'Celia Imrie', 'Darren Boyd', 'Sharon Horgan', 'Sue Johnston', 'Boo Jackson', 'Vinette Robinson', 'Eva Birthistle', 'Anthony Stewart Head', 'Angel Coulby', 'Ben Miles', 'Rick Warden', 'Ruth Sheen'], 'directors': ['Ol Parker'], 'screenwriters': ['Alex Heffes'], 'music_composers': []},\n",
       " 'm_950': {'movie_id': 'm_950', 'title': 'Ice Age: The Meltdown', 'genres': ['Animation', 'Family', 'Comedy', 'Adventure'], 'production_countries': ['US'], 'collection_name': 'Ice Age Collection', 'release_year': '2006', 'actors': ['Ray Romano', 'John Leguizamo', 'Denis Leary', 'Queen Latifah', 'Seann William Scott', 'Josh Peck', 'Jay Leno', 'Will Arnett', 'Chris Wedge', 'Peter Ackerman', 'Caitlin Rose Anderson', 'Connor Anderson', 'Joseph Bologna', 'Jack Crocicchia', 'Peter DeSeve', 'Ariel Winter', 'Clea Lewis', 'Stephen Root', 'Nicole DeFelice', 'Debi Derryberry', 'Marshall Efron', 'Tom Fahn', 'Jason Fricchione', 'James Edmund Godwin', 'George Jacobs', 'Brian Scott McFadden', 'Jansen Panettiere', 'Gregory Romano', 'Matthew Romano', 'Carlos Saldanha', 'Manoela Scarpa Saldanha', 'Sofia Scarpa Saldanha', 'Reyna Shaskan', 'James Sie', 'Cindy Slattery', 'Mindy Sterling', 'Alex Sullivan', 'Renée Taylor', 'Alan Tudyk', 'Claudia Besso', 'Jess Harnell', 'Madeleine Martin'], 'directors': ['Carlos Saldanha'], 'screenwriters': ['John Powell'], 'music_composers': ['Jon Vitti']},\n",
       " 'm_1967': {'movie_id': 'm_1967', 'title': 'Ask the Dust', 'genres': ['Drama', 'Romance'], 'production_countries': ['US'], 'collection_name': '', 'release_year': '2006', 'actors': ['Colin Farrell', 'Salma Hayek', 'Donald Sutherland', 'Eileen Atkins', 'Idina Menzel', 'Justin Kirk', 'William Mapother', 'Tamara Craig Thomas', 'Dion Basco', 'Jeremy Crutchley', 'Natasha Staples', 'Paul Rylander', 'Ronald France', 'Wayne Harrison', 'Donna Mosley', 'Tamara Marie Watson'], 'directors': ['Robert Towne'], 'screenwriters': [], 'music_composers': ['Robert Towne']},\n",
       " 'm_1379': {'movie_id': 'm_1379', 'title': 'Laitakaupungin valot', 'genres': ['Crime', 'Drama'], 'production_countries': ['FI'], 'collection_name': \"Aki Kaurismäki's Finland trilogy\", 'release_year': '2006', 'actors': ['Janne Hyytiäinen', 'Maria Heiskanen', 'Maria Järvenhelmi', 'Ilkka Koivula', 'Kati Outinen', 'Vesa Häkli'], 'directors': ['Aki Kaurismäki'], 'screenwriters': ['Melrose'], 'music_composers': []},\n",
       " 'm_52885': {'movie_id': 'm_52885', 'title': 'Csillagosok, Katonák', 'genres': ['Drama', 'War', 'Foreign'], 'production_countries': ['HU', 'RU'], 'collection_name': '', 'release_year': '1967', 'actors': ['József Madaras', 'Tibor Molnár', 'András Kozák', 'Jácint Juhász', 'Anatoli Yabbarov', 'Sergey Nikonenko', 'Mikhail Kozakov', 'Tatyana Konyukhova', 'Krystyna Mikołajewská', 'Viktor Avdyushko', 'Gleb Strizhenov', 'Nikita Mikhalkov', 'Vladimir Prokofyev', 'Valentin Bryleev', 'Bolot Beyshenaliev'], 'directors': ['Miklós Jancsó'], 'screenwriters': [], 'music_composers': []},\n",
       " 'm_186': {'movie_id': 'm_186', 'title': 'Lucky Number Slevin', 'genres': ['Drama', 'Thriller', 'Crime', 'Mystery'], 'production_countries': ['DE', 'US'], 'collection_name': '', 'release_year': '2006', 'actors': ['Josh Hartnett', 'Bruce Willis', 'Lucy Liu', 'Morgan Freeman', 'Ben Kingsley', 'Michael Rubenfeld', 'Peter Outerbridge', 'Stanley Tucci', 'Kevin Chamberlin', 'Dorian Missick', 'Mykelti Williamson', 'Scott Gibson', 'Corey Stoll', 'Robert Forster', 'Sam Jaeger', 'Danny Aiello', 'Jennifer Miller'], 'directors': ['Paul McGuigan'], 'screenwriters': ['Christopher Roberts'], 'music_composers': ['Jason Smilovic']},\n",
       " 'm_84954': {'movie_id': 'm_84954', 'title': 'Geheimnisse einer Seele', 'genres': ['Thriller', 'Drama'], 'production_countries': ['DE'], 'collection_name': '', 'release_year': '1926', 'actors': ['Werner Krauss', 'Ruth Weyher', 'Ilka Grüning', 'Jack Trevor', 'Lili Damita', 'Pavel Pavlov', 'Hertha von Walther', 'Renate Brausewetter', 'Colin Ross'], 'directors': ['G.W. Pabst'], 'screenwriters': ['Giuseppe Becce'], 'music_composers': []},\n",
       " 'm_588': {'movie_id': 'm_588', 'title': 'Silent Hill', 'genres': ['Horror', 'Mystery'], 'production_countries': ['CA', 'FR', 'JP', 'US'], 'collection_name': 'Silent Hill Collection', 'release_year': '2006', 'actors': ['Radha Mitchell', 'Sean Bean', 'Laurie Holden', 'Deborah Kara Unger', 'Kim Coates', 'Tanya Allen', 'Alice Krige', 'Jodelle Ferland', 'Colleen Williams', 'Ron Gabriel', 'Derek Ritschel', 'Eve Crawford', 'Amanda Hiebert', 'Nicky Guadagni', 'Roberto Campanella', 'Maxine Dumont'], 'directors': ['Christophe Gans'], 'screenwriters': [], 'music_composers': []},\n",
       " 'm_1416': {'movie_id': 'm_1416', 'title': '해안선', 'genres': ['Thriller', 'Drama'], 'production_countries': ['KR'], 'collection_name': '', 'release_year': '2002', 'actors': ['Jang Dong-gun', 'Jeong-hak Kim', 'Park Ji-ah ', 'Hye-jin Yu', 'Kim Tae-woo', 'Jung Hee-tae', 'Jeong Jin'], 'directors': ['Kim Ki-duk'], 'screenwriters': [], 'music_composers': ['Kim Ki-duk']},\n",
       " 'm_920': {'movie_id': 'm_920', 'title': 'Cars', 'genres': ['Animation', 'Adventure', 'Comedy', 'Family'], 'production_countries': ['US'], 'collection_name': 'Cars Collection', 'release_year': '2006', 'actors': ['Owen Wilson', 'Paul Newman', 'Bonnie Hunt', 'Larry the Cable Guy', 'Tony Shalhoub', 'Cheech Marin', 'Michael Wallis', 'George Carlin', 'Paul Dooley', 'Jenifer Lewis', 'Guido Quaroni', 'Richard Petty', 'Michael Keaton', 'Katherine Helmond', 'John Ratzenberger', 'Joe Ranft', 'Jeremy Piven', 'Jeremy Clarkson', 'Dale Earnhardt Jr.', 'Mario Andretti', 'Michael Schumacher', 'Jay Leno', 'Tom Hanks', 'Tim Allen', 'Billy Crystal', 'John Goodman', 'Dave Foley', 'Bob Costas', 'Darrell Waltrip', 'Richard Kind', 'Edie McClurg', 'Humpy Wheeler', 'Tom Magliozzi', 'Ray Magliozzi', 'Lynda Petty', 'Andrew Stanton', 'Sarah Clark', 'Mike Nelson', 'Joe Ranft', 'Jonas Rivera', 'Lou Romano', 'Adrian Ochoa', 'E.J. Holowicki', 'Elissa Knight', 'Lindsey Collins', 'Larry Benton', 'Douglas Keever', 'Vanness Wu'], 'directors': ['John Lasseter', 'Joe Ranft'], 'screenwriters': ['Randy Newman'], 'music_composers': ['John Lasseter', 'Joe Ranft', 'Dan Fogelman', 'Jorgen Klubien', 'Kiel Murray', 'Phil Lorin']},\n",
       " 'm_350': {'movie_id': 'm_350', 'title': 'The Devil Wears Prada', 'genres': ['Comedy', 'Drama', 'Romance'], 'production_countries': ['US'], 'collection_name': '', 'release_year': '2006', 'actors': ['Meryl Streep', 'Anne Hathaway', 'Emily Blunt', 'Stanley Tucci', 'Simon Baker', 'Adrian Grenier', 'Tracie Thoms', 'Rich Sommer', 'Daniel Sunjata', 'David Marshall Grant', 'Rebecca Mader', 'Gisele Bündchen', 'Heidi Klum', 'Alyssa Sutherland', 'Ines Rivero', 'Stephanie Szostak', 'Ivanka Trump', 'Tibor Feldman'], 'directors': ['David Frankel'], 'screenwriters': ['Theodore Shapiro'], 'music_composers': ['Aline Brosh McKenna']},\n",
       " 'm_58': {'movie_id': 'm_58', 'title': \"Pirates of the Caribbean: Dead Man's Chest\", 'genres': ['Adventure', 'Fantasy', 'Action'], 'production_countries': ['US'], 'collection_name': 'Pirates of the Caribbean Collection', 'release_year': '2006', 'actors': ['Johnny Depp', 'Orlando Bloom', 'Keira Knightley', 'Stellan Skarsgård', 'Bill Nighy', 'Jack Davenport', 'Kevin McNally', 'Jonathan Pryce', 'Lee Arenberg', 'Mackenzie Crook', 'Tom Hollander', 'Naomie Harris', 'David Bailie', 'Martin Klebba', 'David Schofield', 'Alex Norton', 'Geoffrey Rush', 'Dermot Keaney', 'Andy Beckwith', 'Clive Ashborn', 'Reggie Lee', 'Christopher Adamson', 'Jonathan Linsley', 'John Boswall', 'Max Baker', 'Steve Speirs', 'Lauren Maher', 'Vanessa Branch', 'Luke de Woolfson', 'Jonathan Kite', 'Ho-Kwan Tse', 'Peter Donald Badalamenti II', 'Christopher S. Capp', 'Philip Ettington'], 'directors': ['Gore Verbinski'], 'screenwriters': ['Hans Zimmer'], 'music_composers': ['Ted Elliott', 'Terry Rossio']},\n",
       " 'm_1611': {'movie_id': 'm_1611', 'title': 'Das Wunder von Bern', 'genres': ['Drama', 'Comedy'], 'production_countries': ['DE'], 'collection_name': '', 'release_year': '2003', 'actors': ['Louis Klamroth', 'Peter Lohmeyer', 'Johanna Gastdorf', 'Mirko Lang', 'Birthe Wolter', 'Katharina Wackernagel', 'Peter Franke', 'Sascha Göpel', 'Knut Hartwig', 'Holger Dexne', 'Simon Verhoeven', 'Jo Stock', 'Martin Bretschneider', 'Christian Broos', 'Andreas Bath', 'Tobias Hartmann', 'Andreas Obering', 'Lucas Gregorowicz'], 'directors': ['Sönke Wortmann'], 'screenwriters': [], 'music_composers': []},\n",
       " 'm_410': {'movie_id': 'm_410', 'title': 'Sommer vorm Balkon', 'genres': ['Comedy', 'Drama'], 'production_countries': ['DE'], 'collection_name': '', 'release_year': '2005', 'actors': ['Inka Friedrich', 'Nadja Uhl', 'Andreas Schmidt', 'Vincent Redetzki', 'Stephanie Schönfeld', 'Christel Peters', 'Kurt Radeke', 'Hannes Stelzer', 'Barbara Bachmann', 'Traute Hoess', 'Veit Schubert', 'Olaf Burmeister'], 'directors': ['Andreas Dresen'], 'screenwriters': ['Pascal Comelade'], 'music_composers': ['Wolfgang Kohlhaase']},\n",
       " 'm_1262': {'movie_id': 'm_1262', 'title': 'Stranger Than Fiction', 'genres': ['Comedy', 'Drama', 'Fantasy', 'Romance'], 'production_countries': ['US'], 'collection_name': '', 'release_year': '2006', 'actors': ['Will Ferrell', 'Maggie Gyllenhaal', 'Dustin Hoffman', 'Emma Thompson', 'Queen Latifah', 'Ricky Adams', 'Denise Hughes', 'Christian Stolte', 'William Dick', 'Tony Hale', 'Peggy Roeder', 'Peter Grosz', 'Tonray Ho', 'Danny Rhodes', 'Linara Washington', 'T.J. Jagodowski', 'David Pompeii', 'Larry Neumann Jr.', 'John Mohrlein', 'Tom Hulce', 'Bruce Jarchow', 'Linda Hunt', 'Kristin Chenoweth', 'Jarrett Sleeper', 'Keith Kupferer', 'Danny McCarthy', 'Tab Baker', 'Celeste Pechous', 'Michael Cook', 'Cheryl Lynn Bruce', 'Ora Jones', 'Will Clinger', 'Frank Caeti', 'Andrew Rothenberg', 'Bob Papenbrook', 'Nathan Adloff', 'Edy Cullen', 'Beth Hebert', 'Tim Krueger', 'Eli Goodman', 'Sia Moody'], 'directors': ['Marc Forster'], 'screenwriters': ['Britt Daniel'], 'music_composers': ['Zach Helm']},\n",
       " 'm_2805': {'movie_id': 'm_2805', 'title': 'ฟ้าทะลายโจร', 'genres': ['Romance', 'Comedy', 'Action'], 'production_countries': ['TH'], 'collection_name': '', 'release_year': '2000', 'actors': ['Chartchai Ngamsan', 'Suwinit Panjamawat', 'Stella Malucchi', 'Supakorn Kitsuwon', 'Arawat Ruangvuth', 'Sombat Metanee', 'Pairoj Jaisingha', 'Naiyana Shewanan', 'Kanchit Kwanpracha', 'Chamloen Sridang', 'Nicole Dionne', 'Philip Hersh'], 'directors': ['Wisit Sasanatieng'], 'screenwriters': [], 'music_composers': ['Wisit Sasanatieng']},\n",
       " 'm_1948': {'movie_id': 'm_1948', 'title': 'Crank', 'genres': ['Action', 'Thriller', 'Crime'], 'production_countries': ['US'], 'collection_name': 'Crank Collection', 'release_year': '2006', 'actors': ['Jason Statham', 'Amy Smart', 'Jose Pablo Cantillo', 'Efren Ramirez', 'Dwight Yoakam', 'Carlos Sanz', 'Reno Wilson', 'Edi Gathegi', 'Glenn Howerton', 'Jay Xcala', 'Keone Young', 'Valarie Rae Miller', 'Yousuf Azami', 'Laurent Schwaar', 'David Brown', 'Dorian Kingi', 'Med Abrous', 'Daniel Stevens', 'Wally Lozano', 'Eve Loseth', 'David T. Green', 'Eve Loseth', 'Allen Bloomfield', 'Stephanie Mace', 'Chester Bennington', 'Michael McLafferty', 'Earl Carroll', 'Brian Swibel', 'Donnie Smith', 'Sean Graham', 'Dan Callahan', 'Noel Gugliemi', 'Daniel Venegas', 'Francis Capra', 'Frank Blake', 'Mike G.', 'Ken Moreno', 'Troy Robinson', 'Eddie Perez', 'Justin Riemer', 'Peter Choi', 'Elizabeth Jayne Hong', 'Toshi Toda', 'Samuel Witwer', 'Jai Stefan', 'Jacki R. Chan', 'Rick Shuster', 'Ted Garcia'], 'directors': ['Brian Taylor', 'Mark Neveldine'], 'screenwriters': [], 'music_composers': ['Brian Taylor', 'Mark Neveldine']},\n",
       " 'm_1023': {'movie_id': 'm_1023', 'title': 'Adams æbler', 'genres': ['Drama', 'Comedy', 'Crime'], 'production_countries': ['DK', 'DE'], 'collection_name': '', 'release_year': '2005', 'actors': ['Mads Mikkelsen', 'Ulrich Thomsen', 'Paprika Steen', 'Ole Thestrup', 'Nikolaj Lie Kaas', 'Nicolas Bro', 'Ali Kazim', 'Gyrd Løfquist', 'Lars Ranthe', 'Peter Reichhardt', 'Tomas Villum Jensen', 'Peter Lambert', 'Emil Kevin Olsen', 'Solvej Christensen', 'Rasmus Rise Michaelsen', 'Jacob-Ole Remming'], 'directors': ['Anders Thomas Jensen'], 'screenwriters': ['Jeppe Kaas'], 'music_composers': ['Anders Thomas Jensen']},\n",
       " 'm_1249': {'movie_id': 'm_1249', 'title': 'Hollywoodland', 'genres': ['Drama', 'Thriller', 'Crime'], 'production_countries': ['US'], 'collection_name': '', 'release_year': '2006', 'actors': ['Adrien Brody', 'Diane Lane', 'Ben Affleck', 'Bob Hoskins', 'Lois Smith', 'Kathleen Robertson', 'Robin Tunney', 'Todd Grinnell'], 'directors': ['Allen Coulter'], 'screenwriters': [], 'music_composers': ['Paul Bernbaum']},\n",
       " 'm_1381': {'movie_id': 'm_1381', 'title': 'The Fountain', 'genres': ['Drama', 'Adventure', 'Science Fiction', 'Romance'], 'production_countries': ['US'], 'collection_name': '', 'release_year': '2006', 'actors': ['Hugh Jackman', 'Rachel Weisz', 'Ellen Burstyn', 'Mark Margolis', 'Stephen McHattie', 'Fernando Hernandez', 'Sean Patrick Thomas', 'Donna Murphy', 'Ethan Suplee', 'Richard McMillan', 'Lorne Brass', 'Boyd Banks', 'Kevin Kelsall', 'Cliff Curtis'], 'directors': ['Darren Aronofsky'], 'screenwriters': ['Clint Mansell'], 'music_composers': ['Darren Aronofsky']},\n",
       " 'm_300': {'movie_id': 'm_300', 'title': 'La science des rêves', 'genres': ['Comedy', 'Drama', 'Fantasy'], 'production_countries': ['FR', 'IT'], 'collection_name': '', 'release_year': '2006', 'actors': ['Gael García Bernal', 'Charlotte Gainsbourg', 'Miou-Miou', 'Alain Chabat', 'Emma de Caunes', 'Aurélia Petit', 'Sacha Bourdo', 'Pierre Vaneck', 'Stéphane Metzger', 'Alain de Moyencourt', 'Inigo Lezzi', 'Yvette Petit', 'Jean-Michel Bernard', 'Bertrand Delpierre', 'Eric Mariotto'], 'directors': ['Michel Gondry'], 'screenwriters': ['Jean-Michel Bernard'], 'music_composers': []},\n",
       " 'm_1717': {'movie_id': 'm_1717', 'title': \"All the King's Men\", 'genres': ['Drama', 'Thriller'], 'production_countries': ['US'], 'collection_name': '', 'release_year': '2006', 'actors': ['Sean Penn', 'Jude Law', 'Kate Winslet', 'James Gandolfini', 'Patricia Clarkson', 'Anthony Hopkins', 'Kathy Baker', 'Jackie Earle Haley', 'Travis Champagne', 'Connor Fox', 'Montgomery John', 'Mark Ruffalo'], 'directors': ['Steven Zaillian'], 'screenwriters': ['James Horner'], 'music_composers': []},\n",
       " 'm_4643': {'movie_id': 'm_4643', 'title': 'The Guardian', 'genres': ['Action', 'Adventure', 'Drama'], 'production_countries': ['US'], 'collection_name': '', 'release_year': '2006', 'actors': ['Kevin Costner', 'Ashton Kutcher', 'Sela Ward', 'Melissa Sagemiller', 'Omari Hardwick', 'Clancy Brown', 'Neal McDonough', 'Bryce Cass', 'Benny Ciaramello', 'Shelby Fenner', 'Peter Gail', 'Damon Lipari', 'Scott Mueller', 'Travis Willingham', 'Eric Norris'], 'directors': ['Andrew Davis'], 'screenwriters': ['Trevor Rabin'], 'music_composers': ['Ron L. Brinkerhoff']},\n",
       " 'm_1422': {'movie_id': 'm_1422', 'title': 'The Departed', 'genres': ['Drama', 'Thriller', 'Crime'], 'production_countries': ['HK', 'US'], 'collection_name': '', 'release_year': '2006', 'actors': ['Leonardo DiCaprio', 'Matt Damon', 'Jack Nicholson', 'Mark Wahlberg', 'Martin Sheen', 'Ray Winstone', 'Vera Farmiga', 'Anthony Anderson', 'Alec Baldwin', 'Kevin Corrigan', 'James Badge Dale', \"David O'Hara\", 'Robert Wahlberg', 'Kristen Dalton', 'Thomas B. Duffy', 'Richard Hughes', 'Chance Kelly', 'Larry Mitchell', 'Mark Rolston', 'J.C. MacKenzie', 'Mary Klug', \"Robert 'Toshi' Kar Yuen Chan\", 'Gurdeep Singh', 'Armen Garo', 'John Cenatiempo', 'Billy Smith', 'Brian Smyj', 'William Severs', 'Douglas Crosby', 'Dorothy Lyman', 'Audrie Neenan', 'Conor Donovan', 'Patrick Coppola', \"Mick O'Rourke\", 'Nellie Sciutto', 'Henry Yuk', 'John Rue', 'Joseph P. Reidy', 'John Farrer', 'Brian Haley', 'Terry Serpico', 'Jay Giannone', 'David Conley', 'Jill Brown', 'Tom Kemp', 'Johnny Cicco', 'Shay Duffin', 'David Fischer', 'Emma Tillinger Koskoff', 'Craig Castaldo', 'James P. Anderson', 'Takumi Bando', 'Eric Bruno Borgman', 'David Boston', 'Brendan Burke', 'Chris Chinn', 'Jeffrey Corazzini', 'Jim Ford', 'Trudi Goodman', 'Steve Lord', 'Jack McCullough', 'Osmani Rodriguez', 'Lawrence Cameron Steele', 'Stream', 'Conor Timmis', 'Joseph Oliveira', 'Mark Falvo', 'Adam Masnyk', 'Shawn Fogarty', 'John Franchi', 'Paul McGillicuddy'], 'directors': ['Martin Scorsese'], 'screenwriters': [], 'music_composers': ['William Monahan', 'Alan Mak', 'Felix Chong']},\n",
       " 'm_3593': {'movie_id': 'm_3593', 'title': 'Dr. Cyclops', 'genres': ['Adventure', 'Horror', 'Science Fiction'], 'production_countries': ['US'], 'collection_name': '', 'release_year': '1940', 'actors': ['Albert Dekker', 'Thomas Coley', 'Janice Logan', 'Charles Halton', 'Victor Kilian', 'Frank Yaconelli', 'Paul Fix', 'Frank Reicher', 'Jane Webb', 'Billy Wilkerson'], 'directors': ['Ernest B. Schoedsack'], 'screenwriters': ['Gerard Carbonara'], 'music_composers': ['Malcolm Stuart Boylan', 'Tom Kilpatrick']},\n",
       " 'm_39183': {'movie_id': 'm_39183', 'title': 'Once in a Lifetime: The Extraordinary Story of the New York Cosmos', 'genres': ['Documentary'], 'production_countries': [], 'collection_name': '', 'release_year': '2006', 'actors': ['Pelé', 'Franz Beckenbauer', 'Carlos Alberto', 'Raphael de la Sierra', 'Phil Woosnam', 'Jay Emmett', 'Werner Roth', 'Peppe Pinton', 'Giorgio Chinaglia', 'Shep Messing', 'Clive Toye', 'Nesuhi Ertegün', 'Ahmet Ertegun', 'Matt Dillon'], 'directors': ['Paul Crowder', 'John Dower'], 'screenwriters': [], 'music_composers': ['Mark Monroe', 'John Dower']},\n",
       " 'm_86': {'movie_id': 'm_86', 'title': 'Elementarteilchen', 'genres': ['Drama', 'Romance'], 'production_countries': ['DE', 'IE'], 'collection_name': '', 'release_year': '2006', 'actors': ['Christian Ulmen', 'Moritz Bleibtreu', 'Martina Gedeck', 'Franka Potente', 'Nina Hoss', 'Corinna Harfouch', 'Uwe Ochsenknecht', 'Jasmin Tabatabai', 'Tom Schilling', 'Thomas Drechsel', 'Nina Kronjäger', 'Hermann Beyer', 'Ulrike Kriener', 'Jennifer Ulrich', 'Michael Gwisdek', 'Herbert Knaup', 'Deborah Kaufmann', 'Rüdiger Klink', 'Thorsten Merten', 'Franziska Schlattner', 'Ingeborg Westphal', 'Ursula Karusseit', 'Dieter Bach', 'Wilfried Hochholdinger', 'Simon Licht', 'Michael Zühlke', 'Tyra Misoux', 'Bernd Stempel', 'Joachim Kretzer', 'Christian Schmidt', 'Manfred Möck', 'Thomas Huber', 'Reiner Heise'], 'directors': ['Oskar Roehler'], 'screenwriters': ['Martin Todsharow'], 'music_composers': ['Oskar Roehler']},\n",
       " 'm_1378': {'movie_id': 'm_1378', 'title': 'Shortbus', 'genres': ['Romance', 'Drama', 'Comedy'], 'production_countries': ['US'], 'collection_name': '', 'release_year': '2006', 'actors': ['Sook-Yin Lee', 'Paul Dawson', 'PJ DeBoy', 'Jay Brannan', 'Lindsay Beamish', 'Raphael Barker', 'Peter Stickles', 'Ray Rivas', 'Bitch', 'Shanti Carson', 'Justin Hagan', 'Miriam Shor', 'Bradford Scobie', 'Reg Vermue', 'Adam Hardman', 'Alan Mandell', 'Jan Hilmer', 'Stephen Kent Jusick', 'Yolonda Ross', 'Jocelyn Samson', 'Daniela Sea', 'Rachael C. Smith', 'Derek Jackson', 'Jonathan Caouette', 'Mary Beth Peil', 'Tristan Taormino', 'Justin Bond'], 'directors': ['John Cameron Mitchell'], 'screenwriters': [], 'music_composers': ['John Cameron Mitchell']},\n",
       " 'm_1124': {'movie_id': 'm_1124', 'title': 'The Prestige', 'genres': ['Drama', 'Mystery', 'Thriller'], 'production_countries': ['US'], 'collection_name': '', 'release_year': '2006', 'actors': ['Hugh Jackman', 'Christian Bale', 'Michael Caine', 'Scarlett Johansson', 'Andy Serkis', 'Samantha Mahurin', 'David Bowie', 'Piper Perabo', 'Rebecca Hall', 'Daniel Davis', 'Roger Rees', 'Ricky Jay', 'Jim Piddock', 'Christopher Neame', 'Mark Ryan', 'Jamie Harris', 'Monty Stuart', 'Ron Perkins', 'Anthony De Marco', 'Chao Li Chi', 'John B. Crye', 'William Morgan Sheppard', 'Ezra Buzzington', 'James Lancaster', 'Johnny Liska', 'Russ Fega', 'Kevin Will', 'Edward Hibbert', 'James Otis', 'Sam Menning', 'Brian Tahash', 'Jodi Bianca Wise', 'Enn Reitel', 'Robert W. Arbogast', 'Chris Cleveland', 'Rock Anthony', 'Basilina Butler', 'Erin Cipolletti', 'Tim Pilleri', 'Gary Sievers', 'Inna Swann'], 'directors': ['Christopher Nolan'], 'screenwriters': ['David Julyan'], 'music_composers': ['Christopher Nolan', 'Jonathan Nolan']},\n",
       " 'm_3683': {'movie_id': 'm_3683', 'title': 'Flags of Our Fathers', 'genres': ['War', 'Drama', 'History'], 'production_countries': ['US'], 'collection_name': \"Clint Eastwood's Iwo Jima Collection\", 'release_year': '2006', 'actors': ['Ryan Phillippe', 'Adam Beach', 'Jesse Bradford', 'John Benjamin Hickey', 'John Slattery', 'Barry Pepper', 'Jamie Bell', 'Paul Walker', 'Robert Patrick', 'Neal McDonough', 'Melanie Lynskey', 'Chris Bauer', 'Gordon Clapp', 'Judith Ivey', 'Joseph Cross', 'Benjamin Walker', 'Alessandro Mastrobuono', 'Stark Sands', 'Ann Dowd', 'Beth Grant', 'Brian Kimmet', 'Jason Gray-Stanford', 'David Rasche', 'James Newman', 'Beth Tapper', 'Shakti Shannon', 'Scott Eastwood', 'Michael Cumpsty'], 'directors': ['Clint Eastwood'], 'screenwriters': ['Clint Eastwood'], 'music_composers': ['William Broyles Jr.', 'Paul Haggis']},\n",
       " 'm_2357': {'movie_id': 'm_2357', 'title': '10 Items or Less', 'genres': ['Comedy', 'Drama'], 'production_countries': ['US'], 'collection_name': '', 'release_year': '2006', 'actors': ['Paz Vega', 'Morgan Freeman', 'Bobby Cannavale', 'Anne Dudek', 'Jennifer Echols', 'Leonardo Nam', 'Kumar Pallana', 'Jim Parsons', 'Alexandra Berardi', 'Hector Atreyu Ruiz', 'Danny DeVito', 'Rhea Perlman', 'Alexis Hernandez', 'Silvia Curiel', 'Matthew Perales', \"Eddie 'Piolin' Sotelo\", 'Nacho Pina', 'Francisca Hernandez', 'Rosa Diaz', 'Ski Carr', 'Jonah Hill'], 'directors': ['Brad Silberling'], 'screenwriters': [], 'music_composers': ['Brad Silberling']},\n",
       " 'm_2447': {'movie_id': 'm_2447', 'title': 'The Nativity Story', 'genres': ['Drama', 'History'], 'production_countries': ['US'], 'collection_name': '', 'release_year': '2006', 'actors': ['Keisha Castle-Hughes', 'Oscar Isaac', 'Hiam Abbass', 'Shaun Toub', 'Ciarán Hinds', 'Shohreh Aghdashloo', 'Stanley Townsend', 'Alexander Siddig', 'Nadim Sawalha', 'Eriq Ebouaney', 'Stefan Kalipha', 'Alessandro Giuggioli', 'Farida Ouchani', 'Saïd Amadis', 'Maria Giovanna Donzelli', 'Francesca Piliero', 'Serge Feuillard', 'Kais Nashif', 'Andy Lucas', 'Tomer Sisley', 'Jeffery Kissoon', 'Lucia Zotti', 'Monica Contini', 'Paola Sotgiu', 'Gabrielle Scharnitzky', 'Stewart Scudamore', 'Chiara Di Pede', 'Zinedine Soualem', 'Luciana Paolicelli', 'Damir Todorovic', 'Matt Patresi', 'Yvonne Sciò', 'Andrea Bruschi', 'Jean-Claude Deret', 'Angela Iurilli', 'Francesco Martoccia', 'Alessandro Piscitelli', 'Maria Antonietta DiMonte', 'Emilio Adrisani', 'Emilia Fortunato', 'Shelby Young', 'Sami Samir', 'Ted Rusoff'], 'directors': ['Catherine Hardwicke'], 'screenwriters': ['Mychael Danna'], 'music_composers': ['Mike Rich']},\n",
       " 'm_1372': {'movie_id': 'm_1372', 'title': 'Blood Diamond', 'genres': ['Drama', 'Thriller', 'Action'], 'production_countries': ['DE', 'US'], 'collection_name': '', 'release_year': '2006', 'actors': ['Leonardo DiCaprio', 'Djimon Hounsou', 'Jennifer Connelly', 'Kagiso Kuypers', 'Arnold Vosloo', 'Antony Coleman', 'Benu Mabhena', 'Anointing Lukola', 'David Harewood', 'Basil Wallace', 'Jimi Mistry', 'Michael Sheen', 'Marius Weyers', 'Stephen Collins', 'Ntare Guma Mbaho Mwine ', 'Ato Essandoh', 'David S. Lee', 'Percy Matsemela', 'Klemens Becker', 'Grant Swanby', \"Adetokumboh M'Cormack\", 'Tyrone Keogh'], 'directors': ['Edward Zwick'], 'screenwriters': ['James Newton Howard'], 'music_composers': ['Charles Leavitt']},\n",
       " 'm_1246': {'movie_id': 'm_1246', 'title': 'Rocky Balboa', 'genres': ['Drama'], 'production_countries': ['US'], 'collection_name': 'Rocky Collection', 'release_year': '2006', 'actors': ['Sylvester Stallone', 'Burt Young', 'Milo Ventimiglia', 'Geraldine Hughes', 'James Francis Kelly III', 'Tony Burton', 'A. J. Benza', 'Talia Shire', 'Henry G. Sanders', 'Antonio Tarver', 'Pedro Lovell', 'Ana Gerena', 'Angela Boyd', 'Louis Giansante', 'Maureen Schilling', 'Lahmard J. Tate'], 'directors': ['Sylvester Stallone'], 'screenwriters': ['Bill Conti'], 'music_composers': ['Sylvester Stallone']},\n",
       " 'm_1247': {'movie_id': 'm_1247', 'title': 'The Good Shepherd', 'genres': ['Drama', 'Thriller', 'History'], 'production_countries': ['US'], 'collection_name': '', 'release_year': '2006', 'actors': ['Matt Damon', 'Angelina Jolie', 'Alec Baldwin', 'Tammy Blanchard', 'Robert De Niro', 'Billy Crudup', 'Keir Dullea', 'Michael Gambon', 'Martina Gedeck', 'William Hurt', 'Timothy Hutton', 'Lee Pace', 'Joe Pesci', 'John Turturro', 'Lee Bryant', 'Eddie Redmayne', 'Josh Pence', 'John Hill'], 'directors': ['Robert De Niro'], 'screenwriters': [], 'music_composers': []},\n",
       " 'm_1125': {'movie_id': 'm_1125', 'title': 'Dreamgirls', 'genres': ['Drama'], 'production_countries': ['US'], 'collection_name': '', 'release_year': '2006', 'actors': ['Jamie Foxx', 'Beyoncé Knowles', 'Eddie Murphy', 'Danny Glover', 'Jennifer Hudson', 'Anika Noni Rose', 'Keith Robinson', 'Sharon Leal', 'Hinton Battle', 'Mariah I. Wilson', 'Yvette Cason', 'Ralph Louis Harris', 'Michael-Leon Wooley', 'Loretta Devine', 'Jocko Sims', 'Ken Page', 'John Lithgow', 'John Krasinski', 'Alexander Folk', 'Esther Scott', 'Laura Bell Bundy', 'Yvette Nicole Brown', 'Damion Poitier'], 'directors': ['Bill Condon'], 'screenwriters': ['Henry Krieger'], 'music_composers': ['Bill Condon']},\n",
       " 'm_1259': {'movie_id': 'm_1259', 'title': 'Notes on a Scandal', 'genres': ['Drama', 'Romance'], 'production_countries': ['GB'], 'collection_name': '', 'release_year': '2006', 'actors': ['Judi Dench', 'Cate Blanchett', 'Bill Nighy', 'Juno Temple', 'Max Lewis', 'Andrew Simpson', 'Michael Maloney', 'Joanna Scanlan', 'Shaun Parkes', 'Emma Kennedy', 'Syreeta Kumar', 'Wendy Nottingham', 'Jill Baker', 'Alice Bird', 'Benedict Taylor', 'Stephen Kennedy', 'Derbhle Crotty', 'Anne-Marie Duff', 'Phil Davis', 'Julia McKenzie', 'Adrian Scarborough', 'Jill Baker', 'Miranda Pleasence'], 'directors': ['Richard Eyre'], 'screenwriters': ['Philip Glass'], 'music_composers': ['Patrick Marber']},\n",
       " 'm_1251': {'movie_id': 'm_1251', 'title': 'Letters from Iwo Jima', 'genres': ['Action', 'Adventure', 'Drama', 'War'], 'production_countries': ['JP', 'US'], 'collection_name': \"Clint Eastwood's Iwo Jima Collection\", 'release_year': '2006', 'actors': ['Ken Watanabe', 'Kazunari Ninomiya', 'Tsuyoshi Ihara', 'Ryo Kase', 'Shidou Nakamura', 'Hiroshi Watanabe', 'Eijiro Ozaki', 'Lucas Elliot Eberl', 'Yuki Matsuzaki', 'Hiro Abe', 'Sonny Saito', 'Steve Santa Sekiyoshi', 'Toshiya Agata', 'Toshi Toda', 'Ken Kensei', 'Ikuma Ando', 'Akiko Shima', 'Masashi Nagadoi'], 'directors': ['Clint Eastwood'], 'screenwriters': ['Kyle Eastwood', 'Michael Stevens'], 'music_composers': ['Paul Haggis', 'Iris Yamashita']},\n",
       " 'm_2433': {'movie_id': 'm_2433', 'title': 'Les demoiselles de Rochefort', 'genres': ['Music', 'Romance', 'Drama', 'Comedy'], 'production_countries': ['FR'], 'collection_name': '', 'release_year': '1967', 'actors': ['Catherine Deneuve', 'Françoise Dorléac', 'Jacques Perrin', 'George Chakiris', 'Grover Dale', 'Michel Piccoli', 'Gene Kelly', 'Danielle Darrieux', 'Agnès Varda'], 'directors': ['Jacques Demy'], 'screenwriters': ['Michel Legrand'], 'music_composers': ['Jacques Demy']},\n",
       " 'm_3549': {'movie_id': 'm_3549', 'title': 'Efter brylluppet', 'genres': ['Drama'], 'production_countries': ['DK', 'SE'], 'collection_name': '', 'release_year': '2006', 'actors': ['Mads Mikkelsen', 'Stine Fischer Christensen', 'Sidse Babett Knudsen', 'Rolf Lassgård', 'Christian Tafdrup', 'Frederik Gullits Ernst', 'Kristian Gullits Ernst', 'Ida Dwinger', 'Mona Malm', 'Neel Rønholt', 'Anne Fletting', 'Henrik Larsen', 'Niels Anders Thorn', 'Henning Jensen', 'Thomas Voss', 'Troels II Munk', 'Julie R. Ølgaard', 'Claus Flygare', 'Meenal Petal', 'Meenal Petal', 'Neeral Mulchandani'], 'directors': ['Susanne Bier'], 'screenwriters': ['Johan Söderqvist'], 'music_composers': ['Anders Thomas Jensen']},\n",
       " 'm_1265': {'movie_id': 'm_1265', 'title': 'Bridge to Terabithia', 'genres': ['Adventure', 'Drama', 'Family'], 'production_countries': ['US'], 'collection_name': '', 'release_year': '2007', 'actors': ['Josh Hutcherson', 'AnnaSophia Robb', 'Robert Patrick', 'Zooey Deschanel', 'Bailee Madison', 'Kate Butler', 'Emma Fenton', 'Latham Gaines', 'Judy McIntosh', 'Grace Brannigan', 'Lauren Clinton', 'Isabelle Rose Kircher', 'Patricia Aldersley', 'Carly Owen', 'James Gaylyn', 'Jen Wolfe', 'Ian Harcourt', 'Maisy McLeod-Riera', 'Phil Grieve'], 'directors': ['Gábor Csupó'], 'screenwriters': ['Aaron Zigman'], 'music_composers': ['Jeff Stockwell']},\n",
       " 'm_1257': {'movie_id': 'm_1257', 'title': 'Because I Said So', 'genres': ['Comedy'], 'production_countries': ['US'], 'collection_name': '', 'release_year': '2007', 'actors': ['Diane Keaton', 'Mandy Moore', 'Gabriel Macht', 'Tom Everett Scott', 'Lauren Graham', 'Piper Perabo', 'Stephen Collins', 'Ty Panitz', 'Matt Champagne', 'Colin Ferguson', 'Tony Hale', 'Curt Clendenin', 'John Ross Bowie', 'Parvesh Cheena', 'Mary Pat Gleason', 'Willam Belli'], 'directors': ['Michael Lehmann'], 'screenwriters': [], 'music_composers': ['Karen Leigh Hopkins', 'Jessie Nelson']},\n",
       " 'm_1248': {'movie_id': 'm_1248', 'title': 'Hannibal Rising', 'genres': ['Crime', 'Drama', 'Thriller'], 'production_countries': ['GB', 'CZ', 'FR', 'IT'], 'collection_name': 'The Hannibal Lecter Anthology', 'release_year': '2007', 'actors': ['Gaspard Ulliel', 'Aaran Thomas', 'Gong Li', 'Dominic West', 'Rhys Ifans', 'Richard Brake', 'Kevin McKidd', 'Stephen Walters', 'Ivan Marevich', 'Helena-Lia Tachovská', 'Richard Leaf', 'Ingeborga Dapkunaite', 'Michele Wade', 'Martin Hub', 'Joerg Stadler', 'Hugh Ross', 'Robbie Kay'], 'directors': ['Peter Webber'], 'screenwriters': ['Shigeru Umebayashi', 'Ilan Eshkeri'], 'music_composers': ['Thomas Harris']},\n",
       " 'm_1252': {'movie_id': 'm_1252', 'title': 'Lonely Hearts', 'genres': ['Drama', 'Thriller', 'Crime', 'Romance'], 'production_countries': ['US'], 'collection_name': '', 'release_year': '2006', 'actors': ['John Travolta', 'James Gandolfini', 'Salma Hayek', 'Jared Leto', 'Laura Dern', 'Michael Gaston', 'Dan Byrd', 'Alice Krige', 'Dagmara Domińczyk', 'Bailee Madison', 'Bruce MacVittie', 'John Doman', 'Ellen Travolta', 'Jason Gray-Stanford', 'Sam Travolta', 'Jonathan Rau'], 'directors': ['Todd Robinson'], 'screenwriters': [], 'music_composers': ['Todd Robinson']},\n",
       " 'm_1250': {'movie_id': 'm_1250', 'title': 'Ghost Rider', 'genres': ['Thriller', 'Action', 'Fantasy', 'Horror'], 'production_countries': ['US', 'AU'], 'collection_name': 'Ghost Rider Collection', 'release_year': '2007', 'actors': ['Nicolas Cage', 'Eva Mendes', 'Wes Bentley', 'Donal Logue', 'Sam Elliott', 'Peter Fonda', 'Brett Cullen', 'Matt Long', 'Raquel Alessi', 'Tony Ghosthawk', 'Hugh Sexton', 'Marcus Jones', 'Matt Norman', 'Lawrence Cameron Steele', 'Eddie Baroo', 'Jessica Napier', 'Rebel Wilson', 'Daniel Fredericsen', 'Mathew Wilkinson'], 'directors': ['Mark Steven Johnson'], 'screenwriters': ['Christopher Young'], 'music_composers': ['Mark Steven Johnson']},\n",
       " 'm_3594': {'movie_id': 'm_3594', 'title': 'The Number 23', 'genres': ['Thriller', 'Drama', 'Mystery'], 'production_countries': ['DE', 'US'], 'collection_name': '', 'release_year': '2007', 'actors': ['Jim Carrey', 'Virginia Madsen', 'Logan Lerman', 'Danny Huston', 'Lynn Collins', 'Mark Pellegrino', 'Rhona Mitra', 'David Stifel', 'Corey Stoll', 'Michelle Arthur', 'Paul Butcher', 'Ed Lauter', 'Troy Kotsur', 'Patricia Belcher', 'Lesli Margherita', 'Shakti Shannon', 'Tara Karsian'], 'directors': ['Joel Schumacher'], 'screenwriters': ['Harry Gregson-Williams'], 'music_composers': ['Fernley Phillips']},\n",
       " 'm_4638': {'movie_id': 'm_4638', 'title': 'Hot Fuzz', 'genres': ['Crime', 'Action', 'Comedy'], 'production_countries': ['GB'], 'collection_name': '', 'release_year': '2007', 'actors': ['Simon Pegg', 'Nick Frost', 'Jim Broadbent', 'Paddy Considine', 'Rafe Spall', 'Kevin Eldon', 'Olivia Colman', 'Karl Johnson', 'Bill Bailey', 'Timothy Dalton', 'Edward Woodward', 'Billie Whitelaw', 'Eric Mason', 'Stuart Wilson', 'Paul Freeman', 'Rory McCann', 'Kenneth Cranham', 'Maria Charles', 'Peter Wight', 'Julia Deakin', 'Trevor Nichols', 'Elizabeth Elvin', 'Patricia Franklin', 'Lorraine Hilton', 'Tim Barlow', 'Anne Reid', 'Ben McKay', 'Adam Buxton', 'David Threlfall', 'Lucy Punch', 'David Bradley', 'Ron Cook', 'Stephen Merchant', 'Alice Lowe', 'Martin Freeman', 'Steve Coogan', 'Bill Nighy', 'Peter Jackson', 'Cate Blanchett', 'Garth Jennings', 'Edgar Wright', 'Robert Popper', 'Joe Cornish', 'Chris Waitt', 'Colin Michael Carmichael'], 'directors': ['Edgar Wright'], 'screenwriters': ['David Arnold'], 'music_composers': ['Edgar Wright', 'Simon Pegg']},\n",
       " 'm_1253': {'movie_id': 'm_1253', 'title': 'Breaking and Entering', 'genres': ['Drama', 'Romance'], 'production_countries': ['GB', 'US'], 'collection_name': '', 'release_year': '2006', 'actors': ['Jude Law', 'Juliette Binoche', 'Vera Farmiga', 'Robin Wright', 'Martin Freeman', 'Rafi Gavron', 'Poppy Rogers', 'Ray Winstone', 'Ed Westwick', 'Anna Chancellor', 'Lisa Kay', 'Juliet Stevenson', 'Mark Benton', 'Velibor Topic', 'Eleanor Matsuura'], 'directors': ['Anthony Minghella'], 'screenwriters': [], 'music_composers': ['Anthony Minghella']},\n",
       " 'm_1271': {'movie_id': 'm_1271', 'title': '300', 'genres': ['Action', 'Adventure', 'War'], 'production_countries': ['US'], 'collection_name': '300 Collection', 'release_year': '2006', 'actors': ['Gerard Butler', 'Lena Headey', 'Dominic West', 'David Wenham', 'Vincent Regan', 'Michael Fassbender', 'Tom Wisdom', 'Andrew Tiernan', 'Andrew Pleavin', 'Rodrigo Santoro', 'Giovani Cimmino', 'Tyler Neitzel', 'Stephen McHattie', 'Eli Snyder', 'Tim Connolly', 'Marie-Julie Rivest', 'Peter Mensah', 'Arthur Holden', 'Michael Sinelnikoff', 'Kelly Craig', 'Greg Kramer', 'Alex Ivanovici', 'Tom Rack', 'David Francis', 'James Bradford', 'Sebastian St. Germain', 'John Dunn-Hill', 'Dennis St John', 'Neil Napier', 'Dylan Smith', 'Maurizio Terrazzano', 'Kwasi Songui', 'Alexandra Beaton', 'Frédéric Smith', 'Loucas Minchillo', 'Nicholas Minchillo', 'Andrew Shaver', 'Marcel Jeannin', 'Robin Wilcock', 'Robert Paradis', 'Jere Gillis', 'Jeremy Thibodeau', 'Tyrone Benskin', 'Robert Maillet', 'Patrick Sabongui', 'David Schaap', 'Leon Laderach', 'Dave Lapommeray', 'Vervi Mauricio', 'Charles Papasoff', 'Isabelle Champeau', 'Veronique-Natale Szalankiewicz', 'Maéva Nadon', 'David Thibodeau', 'Jean Michel Paré', 'Stewart Myiow', 'Andreanne Ross', 'Sara Giacalone', 'Ariadne Bourbonnière', 'Isabelle Fournel', 'Sandrine Merette-Attiow', 'Danielle Hubbard', 'Elisabeth Etienne', 'Ruan Vibegaard', 'Genevieve Guilbault', 'Bonnie Mak', 'Amélie Sorel', 'Caroline Aspirot', 'Gina Gagnon', 'Tania Trudell', 'Stéphanie Aubry', 'Mercedes Leggett', 'Stephania Gambaroff', 'Chanelle Lamothe', 'Sabrina-Jasmine Guilbault', 'Manny Cortez Tuazon', 'Atif Y. Siddiqi', 'Camille Rizkallah', 'Trudi Hanley', 'Neon Cobran', 'Gary A. Hecker', 'Devin Delorme', 'Deke Richards', 'Darren Shahlavi', 'Marc Trottier', 'Duy Vo Van', 'Agnieshka Wnorowska'], 'directors': ['Zack Snyder'], 'screenwriters': ['Tyler Bates'], 'music_composers': ['Zack Snyder', 'Kurt Johnstad', 'Michael B. Gordon']},\n",
       " 'm_1255': {'movie_id': 'm_1255', 'title': '괴물', 'genres': ['Horror', 'Drama', 'Science Fiction'], 'production_countries': ['KR'], 'collection_name': '', 'release_year': '2006', 'actors': ['Song Kang-ho', 'Park Hae-il', 'Bae Doona', 'Ko Ah-sung', 'Byun Hee-bong', 'Scott Wilson', 'Paul Lazar'], 'directors': ['Bong Joon-ho'], 'screenwriters': ['Byungwoo Lee'], 'music_composers': ['Bong Joon-ho', 'Chul-hyun Baek']},\n",
       " 'm_2355': {'movie_id': 'm_2355', 'title': 'Reign Over Me', 'genres': ['Drama'], 'production_countries': ['US'], 'collection_name': '', 'release_year': '2007', 'actors': ['Adam Sandler', 'Don Cheadle', 'Jada Pinkett Smith', 'Liv Tyler', 'Saffron Burrows', 'Donald Sutherland', 'Robert Klein', 'Melinda Dillon', 'Mike Binder', 'Jonathan Banks', 'Rae Allen', 'Paula Newsome', 'John de Lancie', 'Paul Butler', 'Camille LaChe Smith', 'Imani Hakim', 'Denise Dowse', 'Anthony Chisholm', 'B. J. Novak', 'Jessica Golden', 'Ted Raimi', 'Harris Peet', 'Molly Binder', 'Tommy Nohilly', 'Robert Harvey', 'Nick Taylor', 'M.D. Walton', 'Chad Brigockas', 'Elizabeth Andrews', 'Neal Young', 'Lela Loren'], 'directors': ['Mike Binder'], 'screenwriters': ['Rolfe Kent'], 'music_composers': ['Mike Binder']},\n",
       " 'm_1273': {'movie_id': 'm_1273', 'title': 'TMNT', 'genres': ['Adventure', 'Animation', 'Comedy', 'Family'], 'production_countries': ['US'], 'collection_name': '', 'release_year': '2007', 'actors': ['Chris Evans', 'Sarah Michelle Gellar', 'Mako', 'Kevin Smith', 'Patrick Stewart', 'Zhang Ziyi', 'Laurence Fishburne', 'Mitchell Whitfield', 'James Arnold Taylor', 'Mikey Kelley', 'Nolan North', 'John DiMaggio', 'Paula Mattioli', 'Kevin Michael Richardson', 'Fred Tatasciore'], 'directors': ['Kevin Munroe'], 'screenwriters': [], 'music_composers': []},\n",
       " 'm_1267': {'movie_id': 'm_1267', 'title': 'Meet the Robinsons', 'genres': ['Animation', 'Comedy', 'Family'], 'production_countries': ['US'], 'collection_name': '', 'release_year': '2007', 'actors': ['Tom Selleck', 'Laurie Metcalf', 'Angela Bassett', 'Nicole Sullivan', 'Harland Williams', 'Daniel Hansen', 'Jordan Fry', 'Matthew Josten', 'John H. H. Ford', 'Dara McGarry', 'Tom Kenny', 'Don Hall', 'Paul Butcher', 'Tracey Miller-Zarneke', 'Wesley Singerman', 'Jessie Flower', 'Stephen J. Anderson', 'Ethan Sandler', 'Nathan Greno', 'Kelly Hoover', 'Adam West', 'Aurian Redson', 'Joseph Mateo', 'Joe Whyte'], 'directors': ['Stephen J. Anderson'], 'screenwriters': [], 'music_composers': ['Michelle Bochner']},\n",
       " 'm_1272': {'movie_id': 'm_1272', 'title': 'Sunshine', 'genres': ['Science Fiction', 'Thriller'], 'production_countries': ['GB', 'US'], 'collection_name': '', 'release_year': '2007', 'actors': ['Cillian Murphy', 'Rose Byrne', 'Chris Evans', 'Michelle Yeoh', 'Cliff Curtis', 'Hiroyuki Sanada', 'Troy Garity', 'Benedict Wong', 'Mark Strong', 'Chipo Chung', 'Paloma Baeza', 'Archie Macdonald'], 'directors': ['Danny Boyle'], 'screenwriters': [], 'music_composers': ['Alex Garland']},\n",
       " 'm_1590': {'movie_id': 'm_1590', 'title': 'Copying Beethoven', 'genres': ['Drama'], 'production_countries': ['DE', 'US'], 'collection_name': '', 'release_year': '2006', 'actors': ['Ed Harris', 'Diane Kruger', 'Matthew Goode', 'Phyllida Law', 'Ralph Riach', 'Bill Stewart', 'Angus Barnett', 'Viktoria Dihen', 'Matyelok Gibbs'], 'directors': ['Agnieszka Holland'], 'screenwriters': [], 'music_composers': ['Christopher Wilkinson', 'Stephen J. Rivele']},\n",
       " 'm_1407': {'movie_id': 'm_1407', 'title': 'La Môme', 'genres': ['Romance', 'Music', 'Drama'], 'production_countries': ['CZ', 'FR', 'GB'], 'collection_name': '', 'release_year': '2007', 'actors': ['Marion Cotillard', 'Sylvie Testud', 'Pascal Greggory', 'Emmanuelle Seigner', 'Jean-Paul Rouve', 'Gérard Depardieu', 'Clotilde Courau', 'Jean-Pierre Martins', 'Catherine Allégret', 'Marc Barbé', 'Caroline Sihol', 'Manon Chevallier', 'Pauline Burlet', 'Elisabeth Commelin', 'André Penvern', 'Marie-Armelle Deguy', 'Valérie Moreau', 'Marc Gannot', 'Jean-Paul Muel', 'Nathalie Dorval', 'Caroline Raynaud', 'Christophe Odent', 'Harry Hadden-Paton', 'Cylia Malki', 'Édith Le Merdy', 'Denis Ménochet', 'Josette Ménard', 'Dominique Paturel', 'Nicholas Pritchard', 'William Armstrong', 'Aubert Fenoy', 'Mario Hacquard', 'Agathe Bodin', 'Olivier Cruveiller', 'Ashley Wanninger', 'Laurent Schilling', 'Dominique Bettenfeld', 'Alban Casterman', 'Sébastien Tavel', 'Nicole Dubois', 'Martin Janis', 'Eric Franquelin', 'Marc Chapiteau', 'Maureen Demidof', 'Pierre Peyrichout', 'Liliane Cebrian', 'Paulina Nemcova', 'Jean-Jacques Desplanque', 'Alain Figlarz', 'Nathalie Cox', 'Pierre Derenne', 'Emy Lévy', 'Olivier Raoux', 'Philippe Bricard', 'Pier Luigi Colombetti', 'Rodolphe Saulnier', 'Fabien Duval', 'Nicolas Simon', 'Jil Aigrot', 'Stéphane Bern'], 'directors': ['Olivier Dahan'], 'screenwriters': ['Christopher Gunning'], 'music_composers': ['Olivier Dahan', 'Isabelle Sobelman']},\n",
       " 'm_1441': {'movie_id': 'm_1441', 'title': 'The Contract', 'genres': ['Drama', 'Action', 'Thriller', 'Crime'], 'production_countries': ['BG', 'US'], 'collection_name': '', 'release_year': '2006', 'actors': ['Morgan Freeman', 'John Cusack', 'Alice Krige', 'Megan Dodds', 'Corey Johnson', 'Jonathan Hyde', 'Bill Smitrovich', 'Anthony Warren', 'Ned Bellamy', 'Thomas Lockyer', 'Gary Whelan', 'Ian Shaw', 'Mark Johnson', 'Jamie Anderson'], 'directors': ['Bruce Beresford'], 'screenwriters': [], 'music_composers': []},\n",
       " 'm_1268': {'movie_id': 'm_1268', 'title': \"Mr. Bean's Holiday\", 'genres': ['Family', 'Comedy'], 'production_countries': ['GB', 'US', 'FR', 'DE'], 'collection_name': 'Mr. Bean Collection', 'release_year': '2007', 'actors': ['Rowan Atkinson', 'Max Baldry', 'Emma de Caunes', 'Willem Dafoe', 'Karel Roden', 'Steve Pemberton', 'Jean Rochefort', 'Michel Winogradoff'], 'directors': ['Steve Bendelack'], 'screenwriters': [], 'music_composers': ['Robin Driscoll', 'Hamish McColl']},\n",
       " 'm_1950': {'movie_id': 'm_1950', 'title': 'Lucky You', 'genres': ['Drama', 'Romance'], 'production_countries': ['US'], 'collection_name': '', 'release_year': '2007', 'actors': ['Eric Bana', 'Drew Barrymore', 'Robert Duvall', 'Debra Messing', 'Robert Downey Jr.', 'Phyllis Somerville', 'Horatio Sanz', 'Michael Shannon'], 'directors': ['Curtis Hanson'], 'screenwriters': ['Christopher Young'], 'music_composers': ['Eric Roth', 'Curtis Hanson']},\n",
       " 'm_27904': {'movie_id': 'm_27904', 'title': 'แสงศตวรรษ', 'genres': ['Drama', 'Romance'], 'production_countries': ['TH', 'AT', 'FR'], 'collection_name': '', 'release_year': '2006', 'actors': ['Arkanae Cherkam', 'Jaruchai Iamaram', 'Sakda Kaewbuadee', 'Nantarat Sawaddikul', 'Sophon Pukanok', 'Jenjira Pongpas'], 'directors': ['Apichatpong Weerasethakul'], 'screenwriters': [], 'music_composers': []},\n",
       " 'm_2269': {'movie_id': 'm_2269', 'title': 'Дневной дозор', 'genres': ['Fantasy', 'Horror'], 'production_countries': ['RU'], 'collection_name': 'World of Watches Collection', 'release_year': '2006', 'actors': ['Konstantin Khabenskiy', 'Mariya Poroshina', 'Vladimir Menshov', 'Galina Tyunina', 'Zhanna Friske', 'Viktor Verzhbitskiy', 'Dmitriy Martynov', 'Nurzhuman Ikhtymbayev', 'Aleksei Maklakov', 'Aleksandr Samoylenko', 'Yuriy Kutsenko', 'Irina Yakovleva', 'Georgiy Dronov', 'Nikolay Olyalin', 'Valeriy Zolotukhin', 'Rimma Markova', 'Anna Slyusareva', 'Igor Lifanov', 'Mariya Mironova', 'Anna Dubrovskaya', 'Sergey Ovchinnikov', 'Anton Stepanenko', 'Sergey Trofimov', 'Aleksey Chadov'], 'directors': ['Timur Bekmambetov'], 'screenwriters': ['Yuriy Poteenko'], 'music_composers': ['Aleksandr Talal']},\n",
       " 'm_2976': {'movie_id': 'm_2976', 'title': 'Hairspray', 'genres': ['Family', 'Comedy', 'Music', 'Romance'], 'production_countries': ['GB', 'US'], 'collection_name': '', 'release_year': '2007', 'actors': ['John Travolta', 'Michelle Pfeiffer', 'Christopher Walken', 'James Marsden', 'Queen Latifah', 'Nikki Blonsky', 'Zac Efron', 'Amanda Bynes', 'Elijah Kelley', 'Brittany Snow', 'Allison Janney', 'Taylor Parks', 'Jayne Eastwood', 'Paul Dooley', 'Jerry Stiller', 'Darren Frost', 'John Waters', 'Joe Parro', 'Nick Loren', 'Bryan Hindle', 'Sheldon Smith', 'Greg Farkas', 'Bruce McFee', 'Christian Hagen', 'John Andersen', 'Neil Crone', 'George King', 'James Kirchner', 'Brendan Wall', 'Ted Ludzik', 'Ron Pardo', 'Geri Hall', 'Seth Howard', 'Ricki Lake', 'Adam Shankman', 'Marc Shaiman', 'Scott Wittman', 'Anne Fletcher', 'Joey Pizzi', 'Zachary Woodlee', 'Laura Edwards', 'Becca Sweitzer', 'Cassie Silva', 'Tiffany Engen', 'Brooke Engen', 'Sarah Jayne Jensen', 'Hayley Podschun', 'Nick Baga', 'Curtis Holbrook', 'J.P. Ferreri', 'Spencer Liff', 'Phillip Spaeth', 'Tabitha Lupien', 'Kelly Fletcher', 'Jesse Weafer', 'Corey Gorewicz', 'Josh Feldman', 'Everett Smith', 'Ariel Reid', 'Whitney Brown', 'Jason Dolphin', 'Anthony Carr', 'Chris Andrew Robinson', 'Sarah Francis', 'Starr Domingue', 'Shawn Byfield', 'Shane Simpson', 'Jade Anderson', 'Rhonda Roberts', 'Jennifer Abbey', 'Sherisse Springer', 'Vanessa Cobham', 'Eboni Nichols', 'Holly Alexis Hyman', 'Jamal Sims', 'Damon Butler', 'Stephen Boss', 'Marc Spaulding', 'Arike Rice', 'Tanee McCall', 'Nadine Ellis', 'Reggie Jackson', 'Tramaine Montell Ford', 'Khetanya Henderson', 'Loriel Hennington', 'Daniel Dyer', 'Kristen Munro', 'Ingrid Gaynor', 'Stacey Martino', 'Sal Scozzari', 'Charles Seminerio', 'Alison Smyth', 'Christine Moore', 'Emily Andrews', 'Julianne Jackson', 'Laura Lawson', 'Melissa Leifer', 'Janelle Hutchison', 'Jenny Parsons', 'Susan Henley', 'Gerry Mendicino', 'Nick Settimi', 'Kyle Golemba', 'Tiffany Green', 'Rachael Dolan', 'Kristina Uranowski', 'Charlotte Szivak', 'Deborah Overes', 'Mary McCandless', 'Sharron Matthews', 'Jeffrey James', 'Carla Guiliani', 'Chantelle Leonardo', 'Melissa Williams', 'Krystal Kiran', 'Jessica Dawson', 'Sheri Godfrey', 'Jessica Keeling', \"Romina D'Ugo\", 'Julia Juhas', 'Cindy Willems', 'Faye Rauw', 'Niky Johnson', 'Shannon Whelan', 'Diana Coatsworth', 'Keri Tkacz', 'Krista Leis', 'Sammy Rosen', 'Stephen Findlay', 'Mike Cota', 'Dennis Lupien', 'Serge Kushnier', 'Austin Di Iulio', 'Chad McFadden', 'Ted Banfalvi', 'Shaun Amyot', 'Blaine Totten', 'Glen Kerr', 'Paul Gordon', 'Gerard McIsaac', 'Josh Epstein', 'Derek Gilroy', 'A. Frank Ruffo', 'Darcy Evans', 'Marc Kimelman', 'Larry Mannell', 'Wally Michaels', 'Matthew Caruso', 'Lyne Tremblay', 'Mary Pitt', 'Janice Luey', 'Dondraico Johnson'], 'directors': ['Adam Shankman'], 'screenwriters': [], 'music_composers': ['John Waters', 'Leslie Dixon']},\n",
       " 'm_1562': {'movie_id': 'm_1562', 'title': '28 Weeks Later', 'genres': ['Horror', 'Thriller', 'Science Fiction'], 'production_countries': ['ES', 'GB'], 'collection_name': '28 Days/Weeks Later Collection', 'release_year': '2007', 'actors': ['Imogen Poots', 'Robert Carlyle', 'Rose Byrne', 'Jeremy Renner', 'Harold Perrineau', 'Catherine McCormack', 'Idris Elba', 'Mackintosh Muggleton', 'Amanda Walker', 'Shahid Ahmed', 'Garfield Morgan', 'Emily Beecham', 'Beans El-Balawi', 'Meghan Popiel', 'Stewart Alexander', 'Philip Bulcock', 'Chris Ryman', 'Tristan Tait', 'William Meredith', 'Matt Reeves', 'Thomas Garvey', 'Tom Bodell', 'Andrew Byron', 'Sarah Finigan', 'Roderic Culver', 'Maeve Malley-Ryan', 'Ed Coleman', 'Karen Meagher', 'Amanda Lawrence', 'Drew Rhys-Williams', 'Raymond Waring', 'Kish Sharma', 'Jane Thorne', 'Dean Alexandrou', 'Didier Dell Benjamin', 'Gareth Clarke', 'James Fiddy', 'Tommy Gunn', 'Daniel Jefferson', 'Debbie Kurup', 'Selina Lo', 'João Costa Menezes', 'Jane Osborn', 'Jude Poyer', 'Joseph Ripley', 'Simon Delaney', 'Stuart Adams', 'Daniel Baggs', 'Katie Borland', 'Jason Curle', 'Laine Edwards', 'Pip Henderson'], 'directors': ['Juan Carlos Fresnadillo'], 'screenwriters': [], 'music_composers': ['Juan Carlos Fresnadillo', 'Enrique López Lavigne', 'Rowan Joffe', 'Jesús Olmo']},\n",
       " 'm_3489': {'movie_id': 'm_3489', 'title': '88 Minutes', 'genres': ['Crime', 'Mystery', 'Thriller'], 'production_countries': ['US'], 'collection_name': '', 'release_year': '2007', 'actors': ['Al Pacino', 'Alicia Witt', 'Leelee Sobieski', 'Amy Brenneman', 'William Forsythe', 'Deborah Kara Unger', 'Ben McKenzie', 'Neal McDonough', 'Leah Cairns', 'Stephen Moyer', 'Christopher Redman', 'Brendan Fletcher', 'Paul Campbell', 'Victoria Tennant', 'Tim Perez'], 'directors': ['Jon Avnet'], 'screenwriters': ['Ed Shearmur'], 'music_composers': ['Gary Scott Thompson']},\n",
       " 'm_2359': {'movie_id': 'm_2359', 'title': 'Sicko', 'genres': ['Documentary'], 'production_countries': ['US'], 'collection_name': '', 'release_year': '2007', 'actors': ['Michael Moore', 'George W. Bush', 'Bill Clinton', 'Hillary Clinton', 'Billy Crystal', 'Tony Benn'], 'directors': ['Michael Moore'], 'screenwriters': [\"Erin O'Hara\"], 'music_composers': []},\n",
       " 'm_442': {'movie_id': 'm_442', 'title': 'Populärmusik från Vittula', 'genres': ['Comedy', 'Drama'], 'production_countries': ['FI', 'SE'], 'collection_name': '', 'release_year': '2004', 'actors': ['Niklas Ulfvarson', 'Max Enderfors', 'Tommy Vallikari', 'Andreas af Enehjelm', 'Jarmo Mäkinen', 'Kati Outinen', 'Tarja-Tuulikki Tarsala', 'Björn Kjellman', 'Göran Forsmark', 'Lisa Lindgren', 'Sten Ljunggren', 'Annika Marklund', 'Lennart Jähkel', 'Fredrik Hammar'], 'directors': ['Reza Bagher'], 'screenwriters': ['Halfdan E', 'Lars Daniel Terkelsen'], 'music_composers': ['Reza Bagher', 'Erik Norberg']},\n",
       " 'm_2959': {'movie_id': 'm_2959', 'title': 'License to Wed', 'genres': ['Comedy'], 'production_countries': ['AU', 'US'], 'collection_name': '', 'release_year': '2007', 'actors': ['Robin Williams', 'Mandy Moore', 'John Krasinski', 'Eric Christian Olsen', 'Christine Taylor', 'Josh Flitter', 'DeRay Davis', 'Peter Strauss', 'Grace Zabriskie', 'Roxanne Hart', 'Mindy Kaling', 'David Quinlan', 'Angela Kinsey'], 'directors': ['Ken Kwapis'], 'screenwriters': ['Christophe Beck'], 'music_composers': ['Kim Barker', 'Tim Rasmussen', 'Vince Di Meglio']},\n",
       " 'm_81847': {'movie_id': 'm_81847', 'title': 'The Dawn Patrol', 'genres': ['Action', 'War', 'Drama'], 'production_countries': ['US'], 'collection_name': '', 'release_year': '1930', 'actors': ['Richard Barthelmess', 'Douglas Fairbanks Jr.', 'Neil Hamilton', 'Frank McHugh', 'Clyde Cook', 'James Finlayson', 'Howard Hawks', \"Dave O'Brien\"], 'directors': ['Howard Hawks'], 'screenwriters': ['Rex Dunn'], 'music_composers': []},\n",
       " 'm_35': {'movie_id': 'm_35', 'title': 'The Simpsons Movie', 'genres': ['Animation', 'Comedy', 'Family'], 'production_countries': ['US'], 'collection_name': '', 'release_year': '2007', 'actors': ['Dan Castellaneta', 'Julie Kavner', 'Nancy Cartwright', 'Yeardley Smith', 'Hank Azaria', 'Harry Shearer', 'Kelsey Grammer', 'Maile Flanagan', 'Pamela Hayden', 'Marcia Wallace', 'Joe Mantegna', 'Tom Hanks', 'Billie Joe Armstrong', 'Mike Dirnt', 'Tre Cool', 'Tress MacNeille', 'Albert Brooks', 'Russi Taylor', 'Karl Wiedergott', 'Maggie Roswell', 'Philip Rosenthal'], 'directors': ['David Silverman'], 'screenwriters': ['Hans Zimmer'], 'music_composers': ['Matt Groening', 'James L. Brooks', 'Sam Simon', 'Jon Vitti', 'David Mirkin', 'Mike Reiss', 'Al Jean', 'George Meyer', 'Mike Scully', 'Ian Maxtone-Graham', 'Matt Selman', 'John Swartzwelder']},\n",
       " 'm_3638': {'movie_id': 'm_3638', 'title': 'No Reservations', 'genres': ['Comedy'], 'production_countries': ['AU', 'US'], 'collection_name': '', 'release_year': '2007', 'actors': ['Catherine Zeta-Jones', 'Aaron Eckhart', 'Abigail Breslin', 'Patricia Clarkson', 'Jenny Wade', 'Bob Balaban', \"Brían F. O'Byrne\", 'Lily Rabe', 'Eric Silver', 'Arija Bareikis', 'Zoë Kravitz', 'John McMartin', 'Celia Weston', 'Matthew Rauch', 'Katherine Sigismund', 'Dearbhla Molloy', 'Stephanie Berry'], 'directors': ['Scott Hicks'], 'screenwriters': [], 'music_composers': ['Carol Fuchs']},\n",
       " 'm_1721': {'movie_id': 'm_1721', 'title': '...Più forte ragazzi!', 'genres': ['Adventure', 'Action', 'Comedy'], 'production_countries': ['IT'], 'collection_name': '', 'release_year': '1972', 'actors': ['Alexander Allerson', 'Bud Spencer', 'Terence Hill', 'Cyril Cusack', 'Reinhard Kolldehoff', 'Carlos Muñoz', 'Riccardo Pizzuti', 'Marcello Verziera'], 'directors': ['Giuseppe Colizzi'], 'screenwriters': ['Guido De Angelis', 'Maurizio De Angelis'], 'music_composers': ['Giuseppe Colizzi', 'Barbara Alberti', 'Amedeo Pagani']},\n",
       " 'm_5956': {'movie_id': 'm_5956', 'title': 'Joshua', 'genres': ['Drama', 'Thriller', 'Horror'], 'production_countries': ['US'], 'collection_name': '', 'release_year': '2007', 'actors': ['Sam Rockwell', 'Vera Farmiga', 'Jacob Kogan', 'Celia Weston', 'Dallas Roberts', 'Michael McKean', 'Randy Ryan '], 'directors': ['George Ratliff'], 'screenwriters': [], 'music_composers': ['George Ratliff', 'David Gilbert']},\n",
       " 'm_1127': {'movie_id': 'm_1127', 'title': 'Princesas', 'genres': ['Drama'], 'production_countries': ['ES'], 'collection_name': '', 'release_year': '2005', 'actors': ['Candela Peña', 'Micaela Nevárez', 'Mariana Cordero', 'Llum Barrera', 'Violeta Pérez', 'Mònica Van Campen', 'Flora Álvarez', 'María Ballesteros', 'Alejandra Llorente', 'Luis Callejo', 'Antonio Durán Morris', 'Pere Arquillué', 'Pepa Aniorte', 'Alberto Ferreiro', 'Enrique Villén'], 'directors': ['Fernando León de Aranoa'], 'screenwriters': ['Alfonso Vilallonga', 'Manu Chao'], 'music_composers': ['Fernando León de Aranoa']},\n",
       " 'm_1393': {'movie_id': 'm_1393', 'title': 'Die Höhle des gelben Hundes', 'genres': ['Documentary', 'Drama'], 'production_countries': ['MN', 'DE'], 'collection_name': '', 'release_year': '2005', 'actors': ['Batchuluun Urjindorj', 'Buyandulam Daramdadi', 'Nansal Batchuluun', 'Nansalmaa Batchuluun'], 'directors': ['Byambasuren Davaa'], 'screenwriters': ['Börte'], 'music_composers': ['Byambasuren Davaa']},\n",
       " 'm_2701': {'movie_id': 'm_2701', 'title': 'Abraham', 'genres': ['Drama'], 'production_countries': ['AT', 'DE', 'IT', 'US'], 'collection_name': 'The Bible Collection', 'release_year': '1994', 'actors': ['Richard Harris', 'Barbara Hershey', 'Vittorio Gassman', 'Carolina Rosi', 'Andrea Prodan', 'Gottfried John', 'Kevin McNally', 'Simona Ferraro', 'Tom Radcliffe', 'Jude Alderson', 'Evelina Meghnagi', 'Danny Mertsoy', 'Giuseppe Peluso', 'Timur Yusef', 'Taylor Scipio', 'Paolo Bonacelli', 'Mattia Sbragia', 'Christian Kohlund', 'Vincent Riotta', 'Renato Scarpa', 'Mario Erpichini', 'Emidio La Vella', 'Orso Maria Guerrini', 'Francesco Carnelutti', 'Mauro Marino', 'Maurizio Benazzo', 'Paco Reconti', 'Aziz Khaldoun', 'Rodolfo Corsato', 'Francesco Siciliano', 'Nadim Sawalha', 'Joel Proust', 'John McEnery', 'Maximilian Schell'], 'directors': ['Joseph Sargent'], 'screenwriters': ['Ennio Morricone', 'Marco Frisina'], 'music_composers': ['Robert McKee']},\n",
       " 'm_2082': {'movie_id': 'm_2082', 'title': 'Halloween', 'genres': ['Horror'], 'production_countries': ['US'], 'collection_name': 'Halloween (Rob Zombie Series) Collection', 'release_year': '2007', 'actors': ['Malcolm McDowell', 'Brad Dourif', 'Daeg Faerch', 'Tyler Mane', 'Scout Taylor-Compton', 'Sheri Moon Zombie', 'William Forsythe', 'Danielle Harris', 'Kristina Klebe', 'Udo Kier', 'Danny Trejo', 'Skyler Gisondo', 'Tom Towles', 'Bill Moseley', 'Leslie Easterbrook', 'Richard Lynch', 'Lew Temple', 'Pat Skipper', 'Ken Foree', 'Sybil Danning', 'Micky Dolenz', 'Daniel Roebuck', 'Sid Haig', 'Hanna Hall', 'Dee Wallace', 'Steve Boyles', 'Clint Howard', 'Jenny Gregg Stewart', 'Adam Weisman', 'Sydnie Pitzer', 'Myla Pitzer', 'Stella Altman', 'Max Van Ville', 'Nick Mennell', 'Daryl Sabara', 'Richmond Arquette'], 'directors': ['Rob Zombie'], 'screenwriters': ['Tyler Bates'], 'music_composers': ['Debra Hill', 'John Carpenter', 'Rob Zombie']},\n",
       " 'm_1845': {'movie_id': 'm_1845', 'title': '2 Days in Paris', 'genres': ['Comedy', 'Romance'], 'production_countries': ['FR', 'DE'], 'collection_name': '2 Days In... Collection', 'release_year': '2007', 'actors': ['Julie Delpy', 'Adam Goldberg', 'Daniel Brühl', 'Adan Jodorowsky', 'Alexandre Nahon', 'Albert Delpy', 'Alexia Landeau', 'Vanessa Seward', 'Marie Pillet', 'Charlotte Maury-Sentier', 'Thibault De Lussy', 'Sandra Berrebi', 'Arnaud Beunaiche', 'Ludovic Berthillot', 'Chick Ortega', 'Patrick Chupin', 'Antar Boudache', 'Hubert Toint', 'René-Alban Fleury', 'Pierre Alloggia', 'Jean-François Perrone', 'Bela Grushka', 'Benjamin Baroche'], 'directors': ['Julie Delpy'], 'screenwriters': [], 'music_composers': ['Julie Delpy']},\n",
       " 'm_2335': {'movie_id': 'm_2335', 'title': 'Taxi 4', 'genres': ['Action', 'Comedy'], 'production_countries': ['FR'], 'collection_name': 'Taxi Collection', 'release_year': '2007', 'actors': ['Samy Naceri', 'Frédéric Diefenthal', 'Emma Wiklund', 'Edouard Montoute', 'Jean-Christophe Bouvet', 'Jean-Luc Couchard', 'François Damiens', 'Mourade Zeguendi', 'Miguel Eduardo Cueva', 'Bernard Farcy', 'Driss Spinosa', 'Mermoz Melchior', 'Frédérique Tirmont', 'Djibril Cissé', \"Patrick Poivre d'Arvor\", 'Johnson Douyard', 'Boris Napes', 'Marc Andréoni', 'Jean-Louis Barcelona', 'Paul Bebga', 'Jean-François Palaccio', 'Gilbert Bourguignon', 'Stéphane Dausse', 'Husky Kihal', 'Jan Rouiller', 'Alexandre Le Provost', 'Gérard Pinter', 'Alexandre de Seze', 'Jean-Claude Dumas', 'René Brunie', 'Hausman Hugues', 'Sidney Zaoui', 'Frédéric Restagno', 'Vincent Joncquez', 'Jean-François Fagour', 'Jil Milan', 'Olivier Ledauphin', 'Bernard Destouches', 'Henri Cohen', 'Pierre Cuer', 'Michel Neugarten', 'Laurent Dallias', 'Iván González', 'Jean-François Malet', 'Sébastian Montangeron', 'Solange Milhaud', 'Catalina Denis', 'Toby Leonard Moore'], 'directors': ['Gérard Krawczyk'], 'screenwriters': [], 'music_composers': ['Luc Besson']},\n",
       " 'm_4351': {'movie_id': 'm_4351', 'title': 'Bordertown', 'genres': ['Crime', 'Drama', 'Mystery'], 'production_countries': ['US'], 'collection_name': '', 'release_year': '2006', 'actors': ['Jennifer Lopez', 'Martin Sheen', 'Antonio Banderas', 'Maya Zapata', 'Sônia Braga', 'Kate del Castillo', 'Randall Batinkoff', 'Juan Diego Botto', 'Irineo Alvarez', 'Julio Cedillo', 'Zaide Silvia Gutiérrez', 'Rene Rivera', 'Karolinah Villarreal', 'Debrianna Mansini', 'J.D. Garfield', 'Juanes', 'Teresa Ruiz', 'Marilyn Dodds Frank', 'Paul Blott', 'Doris Hargrave', 'Amelia Zapata', 'Peter Gonzales Falcon', 'John Norman', 'Gonzalo Mauro Montiel Aguirre', 'Mike Campos', 'Jorge Urzua', 'Ruben Rojas', 'Irene Estrada', 'Deborah Martinez', 'Eduardo Garza', 'Miguel Piliado', 'Héctor Zavala', 'Ronald Robert Hamilton', 'Arlin Alcala', 'Brandon Smith', 'Charles Dowdy III'], 'directors': ['Gregory Nava'], 'screenwriters': ['Graeme Revell'], 'music_composers': ['Gregory Nava']},\n",
       " 'm_2009': {'movie_id': 'm_2009', 'title': '4 luni, 3 săptămîni și 2 zile', 'genres': ['Drama'], 'production_countries': ['BE', 'RO'], 'collection_name': '', 'release_year': '2007', 'actors': ['Anamaria Marinca', 'Laura Vasiliu', 'Vlad Ivanov', 'Alexandru Potocean', 'Luminița Gheorghiu', 'Adi Carauleanu', 'Liliana Mocanu', 'Doru Ana', 'Ion Sapdaru', 'Cerasela Iosifescu', 'Tania Popa', 'Teodor Corban', 'Eugenia Bosânceanu', 'Marioara Sterian', 'Georgeta Paduraru Burdujan', 'Geo Dobre', 'Mădălina Ghițescu', 'Catalina Harabagiu', 'Sanziana Tarta', 'Adina Cristescu', 'Constantin Bojog'], 'directors': ['Cristian Mungiu'], 'screenwriters': [], 'music_composers': ['Cristian Mungiu']},\n",
       " 'm_3469': {'movie_id': 'm_3469', 'title': 'Far from the Madding Crowd', 'genres': ['Drama', 'Romance'], 'production_countries': ['GB'], 'collection_name': '', 'release_year': '1967', 'actors': ['Julie Christie', 'Terence Stamp', 'Alan Bates', 'Peter Finch', 'Fiona Walker', 'Prunella Ransome', 'Alison Leggatt', 'Paul Dawkins', 'Julian Somers', 'Freddie Jones', 'Andrew Robertson', 'Brian Rawlinson', 'Vincent Harding', 'Victor Stone', 'Owen Berry', 'Lawrence Carter', 'Pauline Melville'], 'directors': ['John Schlesinger'], 'screenwriters': [], 'music_composers': ['Frederic Raphael']},\n",
       " 'm_2252': {'movie_id': 'm_2252', 'title': 'Eastern Promises', 'genres': ['Thriller', 'Crime', 'Mystery'], 'production_countries': ['GB', 'US', 'CA'], 'collection_name': '', 'release_year': '2007', 'actors': ['Naomi Watts', 'Viggo Mortensen', 'Vincent Cassel', 'Armin Mueller-Stahl', 'Sinéad Cusack', 'Donald Sumpter', 'Jerzy Skolimowski', 'Josef Altin', 'Mina E. Mina', 'Aleksander Mikic', 'Sarah-Jeanne Labrosse', 'Tatiana Maslany', 'Tereza Srbová', 'David Papava', 'Tamer Hassan', 'Raza Jaffrey', 'Elisa Lasowski', 'Alice Henley', 'Tony Cook'], 'directors': ['David Cronenberg'], 'screenwriters': ['Howard Shore'], 'music_composers': ['Steven Knight']},\n",
       " 'm_2728': {'movie_id': 'm_2728', 'title': 'Postal', 'genres': ['Action', 'Comedy'], 'production_countries': ['CA'], 'collection_name': '', 'release_year': '2007', 'actors': ['Zack Ward', 'Dave Foley', 'Chris Coppola', 'J.K. Simmons', 'Michael Benyaer', 'Jackie Tohn', 'Erick Avari', 'Ralf Moeller', 'Chris Spencer', 'Seymour Cassel', 'David Huddleston', 'Verne Troyer', 'Uwe Boll', 'Vince Desiderio', 'Larry Thomas', 'Michaela Mann', 'Melanie Papalia', 'Lorielle New', 'Michael Paré', 'Lindsay Hollister', 'Brent Mendenhall', 'Rick Hoffman', 'Holly Eglinton', 'Lucie Guest', 'Carrie Genzel', 'Daniel Boileau', 'Heather Feeney', 'Paulino Nunes', 'Merik Tadros', 'Julia Sandberg Hansson', 'Mike Antonakos', 'Jodie Stewart', 'Bill Mondy', 'Samir El Sharkawi', 'Jason Emanuel', 'Geoff Gustafson', 'Colin Foo', 'Steffen Mennekes', 'Reese Alexander', 'Tony Alcantar'], 'directors': ['Uwe Boll'], 'screenwriters': [], 'music_composers': []},\n",
       " 'm_2001': {'movie_id': 'm_2001', 'title': 'We Own the Night', 'genres': ['Drama', 'Crime', 'Thriller'], 'production_countries': ['US'], 'collection_name': '', 'release_year': '2007', 'actors': ['Joaquin Phoenix', 'Eva Mendes', 'Alex Veadov', 'Mark Wahlberg', 'Robert Duvall', 'Antoni Corone', 'Tony Musante', 'Katie Condidorio', 'Danny Hoch', 'Oleg Taktarov', 'Dominic Colón', \"Joe D'Onofrio\", 'Yelena Solovey', 'Moni Moshonov', 'Maggie Kiley', 'Paul Herman', 'Craig Walker', 'Claudia Lopez', 'Edward Shkolnikov', 'Katya Savina', 'Matthew Djentchouraev', 'Scott Nicholson', 'Robert C. Kirk', 'Al Linea', 'Teddy Coluca', 'Frank Girardeau', 'Joseph Coffey', 'Jose Edwin Soto', 'Greg Wilson', 'Ed Koch', 'Fred Burrell', 'Mike Massimino', 'Edward Conlon', 'Sharon Wilkins', 'Ross Brodar', 'Francis Toumbakaris', 'Hoon Lee', 'Barbara Ann Davison', 'Irwin Gray', 'Luigi Scorcia', 'Miriam Cruz', 'Doug Torres', 'Tony Guida', 'Robert McKay', 'Blaise Corrigan', 'Karl Bury', 'Joe Forbrich', 'Robert A. Pennacchia', 'Richard Petrocelli', 'Nik Pjeternikaj', 'Jamal Weathers', 'Elliot Santiago', 'Jeff Ward', 'Christopher Place', 'Samantha MacIvor', 'Bob Colletti', 'Aaron Vexler', 'Victor Tatarkin', 'Patrick M. Walsh', 'Salvatore Inzerillo', 'Ava Lee Scott', 'Douglas J. Aguirre', 'Ashley Avis', 'James Balsamo', 'Edwin J. Birmingham', 'Robert Bizik', 'John Borras', 'Mike Burke', 'Dominick Cicco', 'J.W. Cortes', 'Erin Deighan', 'Tony Devon', 'Turi Haim', 'Gina Hernandez', 'Philip E Jones', 'Edward M. Kelahan', 'Nina Lisandrello', 'Bernadette Lords', 'Robert Myers', 'Robert Nardi', 'Karen Nazarov', 'Tyler Noble', 'Loukas Papas', 'Martin Pfefferkorn', 'Alexandra Tejeda Rieloff', 'Marilyn Salisbury', 'Kristen Schiano', 'Aaron Scotti', 'Richard Shankman', 'Sybelle Silverphoenix', 'Christopher Stadulis', 'Stream'], 'directors': ['James Gray'], 'screenwriters': ['Wojciech Kilar'], 'music_composers': ['James Gray']},\n",
       " 'm_2011': {'movie_id': 'm_2011', 'title': 'Persepolis', 'genres': ['Animation', 'Drama'], 'production_countries': ['FR', 'US'], 'collection_name': '', 'release_year': '2007', 'actors': ['Chiara Mastroianni', 'Danielle Darrieux', 'Catherine Deneuve', 'Simon Abkarian', 'Gabrielle Lopes Benites', 'François Jerosme', 'Tilly Mandelbrot', 'Sophie Arthuys', 'Arié Elmaleh', 'Mathias Mlekuz', 'Sean Penn'], 'directors': ['Vincent Paronnaud', 'Marjane Satrapi'], 'screenwriters': ['Olivier Bernet'], 'music_composers': ['Vincent Paronnaud', 'Marjane Satrapi']},\n",
       " 'm_2014': {'movie_id': 'm_2014', 'title': 'Auf der anderen Seite', 'genres': ['Drama'], 'production_countries': ['DE', 'TR'], 'collection_name': '', 'release_year': '2007', 'actors': ['Baki Davrak', 'Tuncel Kurtiz', 'Hanna Schygulla', 'Patrycia Ziolkowska', 'Nursel Köse', 'Yelda Reynaud', 'Nurgül Yeşilçay'], 'directors': ['Fatih Akin'], 'screenwriters': [], 'music_composers': ['Fatih Akin']},\n",
       " 'm_663': {'movie_id': 'm_663', 'title': 'Saw IV', 'genres': ['Horror', 'Thriller', 'Crime'], 'production_countries': ['US'], 'collection_name': 'Saw Collection', 'release_year': '2007', 'actors': ['Tobin Bell', 'Scott Patterson', 'Costas Mandylor', 'Betsy Russell', 'Lyriq Bent', 'Louis Ferreira', 'Athena Karkanis', 'Simon Reynolds', 'Mike Realba', 'Marty Adams', 'Sarain Boylan', 'Billy Otis', 'Niamh Wilson', 'Julian Richings', 'Joanne Boland', 'Donnie Wahlberg', 'Shawnee Smith', 'Angus Macfadyen', 'Dina Meyer', 'James Van Patten', 'Emmanuelle Vaugier'], 'directors': ['Darren Lynn Bousman'], 'screenwriters': ['Charlie Clouser'], 'music_composers': ['Patrick Melton', 'Marcus Dunstan']},\n",
       " 'm_2015': {'movie_id': 'm_2015', 'title': '밀양', 'genres': ['Drama'], 'production_countries': ['KR'], 'collection_name': '', 'release_year': '2007', 'actors': ['Jeon Do-yeon', 'Song Kang-ho', 'Park Myung-shin', 'Cho Youg-jin', 'Kim Young-jae'], 'directors': ['Lee Chang-dong'], 'screenwriters': ['Christian Basso'], 'music_composers': []},\n",
       " 'm_2013': {'movie_id': 'm_2013', 'title': 'Le scaphandre et le papillon', 'genres': ['Drama'], 'production_countries': ['FR', 'US'], 'collection_name': '', 'release_year': '2007', 'actors': ['Mathieu Amalric', 'Emmanuelle Seigner', 'Marie-Josée Croze', 'Anne Consigny', 'Patrick Chesnais', 'Niels Arestrup', 'Olatz López Garmendia', 'Jean-Pierre Cassel', 'Marina Hands', 'Max von Sydow', 'Isaach De Bankolé', 'Emma de Caunes', 'Jean-Philippe Écoffey', 'Gérard Watkins', 'Nicolas Le Riche', 'Théo Sampaio', 'Fiorella Campanella', 'Talina Boyaci', 'Anne Alvaro', 'Françoise Lebrun', 'Zinedine Soualem', 'Laure de Clermont-Tonnerre', 'Agathe de La Fontaine'], 'directors': ['Julian Schnabel'], 'screenwriters': ['Paul Cantelon'], 'music_composers': ['Ronald Harwood']},\n",
       " 'm_1620': {'movie_id': 'm_1620', 'title': 'Hitman', 'genres': ['Action', 'Crime', 'Drama', 'Thriller'], 'production_countries': ['FR', 'US'], 'collection_name': 'Hitman Collection', 'release_year': '2007', 'actors': ['Timothy Olyphant', 'Dougray Scott', 'Olga Kurylenko', 'Robert Knepper', 'Ulrich Thomsen', 'Henry Ian Cusick', 'Michael Offei', 'Christian Erickson', 'Eriq Ebouaney', 'Joe Sheridan', 'James Faulkner'], 'directors': ['Xavier Gens'], 'screenwriters': ['Geoff Zanelli'], 'music_composers': ['Skip Woods']},\n",
       " 'm_2268': {'movie_id': 'm_2268', 'title': 'The Golden Compass', 'genres': ['Adventure', 'Fantasy'], 'production_countries': ['GB', 'US'], 'collection_name': '', 'release_year': '2007', 'actors': ['Dakota Blue Richards', 'Nicole Kidman', 'Daniel Craig', 'Sam Elliott', 'Eva Green', 'Freddie Highmore', 'Ian McKellen', 'Ben Walker', 'Ian McShane', 'Kristin Scott Thomas', 'Kathy Bates', 'Jim Carter', 'Tom Courtenay', 'Christopher Lee', 'Simon McBurney', 'Jack Shepherd', 'Magda Szubanski', 'Derek Jacobi', 'Clare Higgins', 'Charlie Rowe', 'Steven Loton', 'Michael Antoniou', 'Mark Mottram', 'Hattie Morahan', 'Jason Watkins', 'Sam Hoare', 'Brian Nickels', 'Thomas Arnold', 'Helen Soraya'], 'directors': ['Chris Weitz'], 'screenwriters': ['Alexandre Desplat'], 'music_composers': ['Chris Weitz']},\n",
       " 'm_6537': {'movie_id': 'm_6537', 'title': 'El orfanato', 'genres': ['Horror', 'Drama', 'Thriller'], 'production_countries': ['ES', 'MX'], 'collection_name': '', 'release_year': '2007', 'actors': ['Belén Rueda', 'Fernando Cayo', 'Roger Príncep', 'Mabel Rivera', 'Montserrat Carulla', 'Andrés Gertrúdix', 'Édgar Vivar', 'Óscar Casas', 'Geraldine Chaplin', 'Carmen López'], 'directors': ['Juan Antonio Bayona'], 'screenwriters': ['Fernando Velázquez'], 'music_composers': ['Sergio G. Sánchez']},\n",
       " 'm_440': {'movie_id': 'm_440', 'title': 'Aliens vs Predator: Requiem', 'genres': ['Fantasy', 'Action', 'Science Fiction', 'Thriller', 'Horror'], 'production_countries': ['US'], 'collection_name': 'AVP Collection', 'release_year': '2007', 'actors': ['Steven Pasquale', 'Reiko Aylesworth', 'John Ortiz', 'Ariel Gade', 'Sam Trammell', 'Kristen Hager', 'Robert Joy', 'David Paetkau', 'Tom Woodruff Jr.', 'Ian Whyte', 'Chelah Horsdal', 'Meshach Peters', 'Matt Ward', 'Gina Holden', 'Kurt Max Runte', 'Liam James', 'Ty Olsson', 'Johnny Lewis', 'Catherine Lough Haggquist', 'Rekha Sharma', 'Victoria Bidewell', 'Michal Suchánek', 'David Hornsby', 'Chris William Martin', 'James Chutter', 'Françoise Yip', 'Juan Riedinger', 'Tim Perez', 'Dalias Blake', 'Rainbow Francks', 'Tim Henry', 'Tom McBeath', 'Anthony Harrison', 'Lloyd Berry', 'Ryan Robbins', 'Curtis Caravaggio', 'Glen Brkich', 'Adrian Hough', 'Jay-Lyn Green', 'Lili Wexu'], 'directors': ['Colin Strause', 'Greg Strause'], 'screenwriters': ['Brian Tyler'], 'music_composers': ['Shane Salerno']},\n",
       " 'm_1488': {'movie_id': 'm_1488', 'title': '綠草地', 'genres': ['Drama', 'Comedy'], 'production_countries': ['CN'], 'collection_name': '', 'release_year': '2005', 'actors': ['Hurichabilike', 'Dawa', 'Geliban', 'Yidexinnaribu', 'Badema', 'Wurima', 'Dugema', 'Jinlaowu', 'Buhebilike', 'Sarengaowa'], 'directors': ['Ning Hao'], 'screenwriters': ['Wuhe'], 'music_composers': ['Ning Hao']},\n",
       " 'm_2312': {'movie_id': 'm_2312', 'title': 'In the Name of the King: A Dungeon Siege Tale', 'genres': ['Adventure', 'Fantasy', 'Action', 'Drama'], 'production_countries': ['CA', 'DE', 'US'], 'collection_name': 'In the Name of the King Collection', 'release_year': '2007', 'actors': ['Jason Statham', 'John Rhys-Davies', 'Ray Liotta', 'Leelee Sobieski', 'Burt Reynolds', 'Ron Perlman', 'Brian J. White', 'Kristanna Loken', 'Matthew Lillard', 'Claire Forlani', 'Mike Dopud', 'Tania Saulnier', 'Gabrielle Rose', 'Terence Kelly', 'Carrie Fleming', 'Eva Padberg', 'Will Sanderson', 'Jacqueline Ann Steuart', 'Travis MacDonald'], 'directors': ['Uwe Boll'], 'screenwriters': [], 'music_composers': ['Jason Rappaport', 'Doug Taylor', 'Dan Stroncak']},\n",
       " 'm_4034': {'movie_id': 'm_4034', 'title': \"L'Homme de Rio\", 'genres': ['Action', 'Adventure', 'Comedy'], 'production_countries': ['FR'], 'collection_name': '', 'release_year': '1964', 'actors': ['Jean-Paul Belmondo', 'Françoise Dorléac', 'Jean Servais', 'Simone Renant', 'Adolfo Celi', 'Roger Dumas', 'Daniel Ceccaldi', 'Ubiracy De Oliveira', 'Milton Ribeiro', 'Lucien Raimbourg'], 'directors': ['Philippe de Broca'], 'screenwriters': ['Georges Delerue'], 'music_composers': []},\n",
       " 'm_1479': {'movie_id': 'm_1479', 'title': 'Clean, Shaven', 'genres': ['Drama', 'Crime'], 'production_countries': ['US'], 'collection_name': '', 'release_year': '1993', 'actors': ['Peter Greene', 'Alice Levitt', 'Megan Owen', 'Jennifer MacDonald', 'Molly Castelloe', 'Robert Albert', 'J. Dixon Byrne'], 'directors': ['Lodge Kerrigan'], 'screenwriters': ['Hahn Rowe'], 'music_composers': ['Lodge Kerrigan']},\n",
       " 'm_2282': {'movie_id': 'm_2282', 'title': 'À nos amours', 'genres': ['Drama', 'Romance'], 'production_countries': ['FR'], 'collection_name': '', 'release_year': '1983', 'actors': ['Sandrine Bonnaire', 'Evelyne Ker', 'Maurice Pialat', 'Dominique Besnehard', 'Anne-Sophie Maillé', 'Pierre-Loup Rajot', 'Maïté Maillé', 'Christophe Odent', 'Jacques Fieschi', 'Cyr Boitard', 'Cyril Collard'], 'directors': ['Maurice Pialat'], 'screenwriters': [], 'music_composers': ['Maurice Pialat', 'Arlette Langmann']},\n",
       " 'm_33166': {'movie_id': 'm_33166', 'title': 'Downhill Racer', 'genres': ['Drama'], 'production_countries': ['US'], 'collection_name': '', 'release_year': '1969', 'actors': ['Sylvester Stallone', 'Robert Redford', 'Gene Hackman', 'Camilla Sparv', 'Karl Michael Vogler', 'Jim McMullan', 'Kathleen Crowley', 'Dabney Coleman'], 'directors': ['Michael Ritchie'], 'screenwriters': [], 'music_composers': []},\n",
       " 'm_383': {'movie_id': 'm_383', 'title': 'Mala Noche', 'genres': ['Drama'], 'production_countries': ['US'], 'collection_name': '', 'release_year': '1986', 'actors': ['Doug Cooeyate', 'Tim Streeter', 'Sam Downey', 'Nyla McCarthy', 'Ray Monge', 'Robert Lee Pitchlynn'], 'directors': ['Gus Van Sant'], 'screenwriters': ['Peter Dammann', 'Karen Kitchen', 'Creighton Lindsay'], 'music_composers': ['Gus Van Sant']},\n",
       " 'm_1266': {'movie_id': 'm_1266', 'title': 'Street Kings', 'genres': ['Action', 'Crime', 'Drama', 'Thriller'], 'production_countries': ['US'], 'collection_name': 'Street Kings Collection', 'release_year': '2008', 'actors': ['Keanu Reeves', 'Forest Whitaker', 'Chris Evans', 'Hugh Laurie', 'Martha Higareda', 'Cedric the Entertainer', 'Naomie Harris', 'Common', 'Angela Sun', 'Cle Shaheed Sloan', 'Jayceon Terrell Taylor', 'Michael Monks', 'Jay Mohr', 'Terry Crews', 'Game', 'Kate Clarke', 'John Corbett', 'Amaury Nolasco', 'Noel Gugliemi', 'Michael Monks', 'Clifton Powell', 'Daryl Gates', 'Kenneth Choi', 'Wally Rudolph', 'Garret Sato', 'Kerry Wong', 'Aaron McPherson', 'Paul Anthony Barreras', 'Yonda Davis', 'Siobhan Parisi', 'Emilio Rivera', 'Michael D. Roberts', 'Kami Jones', 'Jernard Burks', 'Kevin Benton', 'Amy Dudgeon', 'Genesis Codina', 'Michaela Pereira', 'Jaime FitzSimons', 'Joanne Chew', 'Kel Ann Hsieh', 'Patrick Gallagher', 'Kirstin Pierce', 'Carlos Amezcua', 'David Ayer', 'Candice A. Buenrostro', 'Daniel Van Dyke', 'Masen Faison'], 'directors': ['David Ayer'], 'screenwriters': ['Graeme Revell'], 'music_composers': ['Kurt Wimmer', 'Jamie Moss', 'James Ellroy']},\n",
       " 'm_1729': {'movie_id': 'm_1729', 'title': 'The Forbidden Kingdom', 'genres': ['Action', 'Adventure', 'Fantasy'], 'production_countries': ['CN', 'US'], 'collection_name': '', 'release_year': '2008', 'actors': ['Jackie Chan', 'Jet Li', 'Michael Angarano', 'Liu Yifei', 'Li Bingbing', 'Collin Chou', 'Morgan Benoit', 'Thomas McDonell', 'Jack Posobiec', 'Juana Collignon', 'Zhi Ma Gui', 'Shen Shou He', 'Bin Jiang', 'Shaohua Yang', 'Yu Yuan Zeng'], 'directors': ['Rob Minkoff'], 'screenwriters': ['David Buckley'], 'music_composers': []},\n",
       " 'm_1810': {'movie_id': 'm_1810', 'title': 'Viva Zapata!', 'genres': ['History', 'Drama', 'Western'], 'production_countries': ['US'], 'collection_name': '', 'release_year': '1952', 'actors': ['Marlon Brando', 'Jean Peters', 'Anthony Quinn', 'Joseph Wiseman', 'Arnold Moss', 'Alan Reed', 'Margo', 'Harold Gordon', 'Lou Gilbert', 'Frank Silvera', 'Joseph Granby', 'Fay Roope', 'Frank De Kova'], 'directors': ['Elia Kazan'], 'screenwriters': ['Alex North', 'Alfred Newman'], 'music_composers': ['John Steinbeck']},\n",
       " 'm_2454': {'movie_id': 'm_2454', 'title': 'The Chronicles of Narnia: Prince Caspian', 'genres': ['Adventure', 'Family', 'Fantasy'], 'production_countries': ['CZ', 'PL', 'SI', 'US'], 'collection_name': 'The Chronicles of Narnia Collection', 'release_year': '2008', 'actors': ['Ben Barnes', 'William Moseley', 'Anna Popplewell', 'Skandar Keynes', 'Georgie Henley', 'Sergio Castellitto', 'Alicia Borrachero', 'Peter Dinklage', 'Warwick Davis', 'Vincent Grass', 'Pierfrancesco Favino', 'Damián Alcázar', 'Simón Andreu', 'Predrag Bjelac', 'Shane Rangi', 'Cornell John', 'Liam Neeson', 'Ken Stott', 'Tilda Swinton', 'Eddie Izzard', 'Klára Issová'], 'directors': ['Andrew Adamson'], 'screenwriters': ['Harry Gregson-Williams'], 'music_composers': ['Andrew Adamson', 'Christopher Markus', 'Stephen McFeely']},\n",
       " 'm_4857': {'movie_id': 'm_4857', 'title': \"Adieu l'ami\", 'genres': ['Crime', 'Action', 'Adventure'], 'production_countries': ['FR', 'IT'], 'collection_name': '', 'release_year': '1968', 'actors': ['Alain Delon', 'Charles Bronson', 'Olga Georges-Picot', 'Brigitte Fossey', 'Bernard Fresson', 'Marianna Falk', 'Ellen Bahl', 'Jean-Claude Ballard', 'Jean-Paul Tribout', 'Raoul Guylad', 'Catherine Sola'], 'directors': ['Jean Herman'], 'screenwriters': ['François de Roubaix'], 'music_composers': ['Sébastien Japrisot', 'Jean Herman']},\n",
       " 'm_8645': {'movie_id': 'm_8645', 'title': 'The Happening', 'genres': ['Thriller', 'Science Fiction'], 'production_countries': ['US', 'IN', 'FR'], 'collection_name': '', 'release_year': '2008', 'actors': ['Mark Wahlberg', 'Zooey Deschanel', 'John Leguizamo', 'Spencer Breslin', 'Betty Buckley', 'Ashlyn Sanchez', 'Robert Bailey Jr.', 'Frank Collison', 'Jeremy Strong', 'Alan Ruck', 'Victoria Clark', 'M. Night Shyamalan', 'Alison Folland', 'Kristen Connolly', 'Cornell Womack', 'Roberto Lombardi', 'Brian Anthony Wilson', \"Kerry O'Malley\", 'Traci Law', 'William James Kelly', 'Art Lyle', 'Mara Hobel'], 'directors': ['M. Night Shyamalan'], 'screenwriters': ['James Newton Howard'], 'music_composers': ['M. Night Shyamalan']},\n",
       " 'm_31658': {'movie_id': 'm_31658', 'title': 'Hour of the Gun', 'genres': ['Action', 'Drama', 'Western'], 'production_countries': ['US'], 'collection_name': '', 'release_year': '1967', 'actors': ['James Garner', 'Jason Robards', 'Robert Ryan', 'Albert Salmi', 'Charles Aidman', 'Steve Ihnat', 'Michael Tolan', 'William Windom', 'Lonny Chapman', 'Larry Gates', 'William Schallert', 'Monte Markham', 'Jon Voight'], 'directors': ['John Sturges'], 'screenwriters': ['Jerry Goldsmith'], 'music_composers': []},\n",
       " 'm_428': {'movie_id': 'm_428', 'title': \"Sommer '04\", 'genres': ['Drama', 'Romance'], 'production_countries': ['DE'], 'collection_name': '', 'release_year': '2006', 'actors': ['Martina Gedeck', 'Robert Seeliger', 'Svea Lohde', 'Lucas Kotaranin', 'Nicole Marischka', 'Gábor Altorjay', 'Michael Benthin', 'Peter Davor'], 'directors': ['Stefan Krohmer'], 'screenwriters': [], 'music_composers': ['Daniel Nocke']},\n",
       " 'm_2002': {'movie_id': 'm_2002', 'title': 'Une vieille maîtresse', 'genres': ['Drama', 'Romance'], 'production_countries': ['IT', 'FR'], 'collection_name': '', 'release_year': '2007', 'actors': ['Asia Argento', \"Fu'ad Aït Aattou\", 'Roxane Mesquida', 'Claude Sarraute', 'Yolande Moreau', 'Michael Lonsdale', 'Anne Parillaud', 'Amira Casar', 'Lio', 'Caroline Ducey', 'Jean-Philippe Tesse', 'Sarah Pratt', 'Léa Seydoux', 'Isabelle Renauld', 'Jean-Claude Binoche', 'Frédéric Botton', 'Nicholas Hawtrey', 'Thomas Hardy'], 'directors': ['Catherine Breillat'], 'screenwriters': [], 'music_composers': ['Catherine Breillat']},\n",
       " 'm_1735': {'movie_id': 'm_1735', 'title': 'The Mummy: Tomb of the Dragon Emperor', 'genres': ['Adventure', 'Action', 'Fantasy'], 'production_countries': ['DE', 'US'], 'collection_name': 'The Mummy Collection', 'release_year': '2008', 'actors': ['Brendan Fraser', 'Jet Li', 'John Hannah', 'Maria Bello', 'Luke Ford', 'Michelle Yeoh', 'Isabella Leong', 'Anthony Wong', 'Russell Wong', 'Liam Cunningham', 'David Calder', 'Jessey Meng', 'Tian Liang', 'Albert Kwan', 'Wu Jing'], 'directors': ['Rob Cohen'], 'screenwriters': [], 'music_composers': ['Miles Millar', 'Alfred Gough']},\n",
       " 'm_2012': {'movie_id': 'm_2012', 'title': 'Stellet Licht', 'genres': ['Drama'], 'production_countries': ['MX', 'DE', 'FR', 'NL'], 'collection_name': '', 'release_year': '2007', 'actors': ['Elizabeth Fehr', 'Jacobo Klassen', 'Maria Pankratz', 'Miriam Toews', 'Cornelio Wall', 'Peter Wall'], 'directors': ['Carlos Reygadas'], 'screenwriters': [], 'music_composers': ['Carlos Reygadas']},\n",
       " 'm_3': {'movie_id': 'm_3', 'title': 'Varjoja paratiisissa', 'genres': ['Drama', 'Comedy'], 'production_countries': ['FI'], 'collection_name': '', 'release_year': '1986', 'actors': ['Matti Pellonpää', 'Kati Outinen', 'Sakari Kuosmanen', 'Esko Nikkari', 'Kylli Köngäs', 'Pekka Laiho', 'Jukka-Pekka Palo'], 'directors': ['Aki Kaurismäki'], 'screenwriters': [], 'music_composers': ['Aki Kaurismäki']},\n",
       " 'm_3097': {'movie_id': 'm_3097', 'title': 'The Tulse Luper Suitcases, Part 1: The Moab Story', 'genres': ['War', 'Drama', 'History', 'Adventure', 'Romance', 'Thriller'], 'production_countries': ['GB', 'NL'], 'collection_name': 'Tulse Luper', 'release_year': '2003', 'actors': ['J. J. Feild', 'Caroline Dhavernas', 'Jordi Mollà', 'Steven Mackintosh', 'Raymond J. Barry', 'Scot Williams', 'Drew Mulligan', 'Yorick van Wageningen', 'Jack Wouterse', 'Naím Thomas', 'Nilo Mur', 'Valentina Cervi', 'Tom Bower', 'Michèle Bernier', 'Barbara Tarbuck', 'Enrique Alcides', 'Shaun Phillips', 'Kevin Tighe', 'Guillermo Ayesa', 'Joan Codina', 'Xavier Aliguer', 'Iván Andrade', 'Lauren Hadley', 'Joshua Light', 'Adam Williams', 'Vincent Bonnet', 'Sally-Jo Jenkins', 'Manu Fullola', 'Oriol Vila', 'Winston Evans', 'Francine Morgan', 'Thomas Bodmer', 'Joan-Francesc Ainaud', 'Phillippe Boekstal', 'Edmon Roch', 'Amelia White', 'Clare Boland', 'Marlene Griffiths', 'Roger Nott', 'Deborah Harry', 'Josep de Font', 'Ivan Labanda', 'Roger Padilla', 'Joan Pastor', 'Aimar Pérez', 'Phil Rowlands', 'Marti Santiago', 'Pablo Derqui', 'Albert López-Murtra', 'Ivan Massagué', 'Bruno Pichot', 'Coast Alexander Ryen', 'Tanya Moodie', 'Paul Rockenbrod', 'Isabella Rossellini', 'Francesco Salvi', 'Dávid Spáh', 'Nigel Terry', 'Alec Von Bargen', 'Leslie Woodhall', 'Ana Torrent', 'Molly Ringwald', 'Francesco Guzzo', 'Keram Malicki-Sánchez', 'Ricard Sales', 'Albert Kitzl', 'Franka Potente', 'Ornella Muti'], 'directors': ['Peter Greenaway'], 'screenwriters': ['Borut Krzisnik', 'Eduardo Polonio'], 'music_composers': []},\n",
       " 'm_4701': {'movie_id': 'm_4701', 'title': 'A Tale of Two Cities', 'genres': ['Drama', 'History', 'Romance'], 'production_countries': ['GB'], 'collection_name': '', 'release_year': '1958', 'actors': ['Dirk Bogarde', 'Dorothy Tutin', 'Paul Guers', 'Marie Versini', 'Ian Bannen', 'Cecil Parker', 'Stephen Murray', 'Athene Seyler', 'Alfie Bass', 'Sacha Pitoëff', 'Christopher Lee', 'Donald Pleasence', 'Leo McKern', 'Eric Pohlmann', 'Duncan Lamont', 'Rosalie Crutchley', 'Freda Jackson', 'Yves Brainville', 'Alan Tilvern', 'Ernest Clark '], 'directors': ['Ralph Thomas'], 'screenwriters': ['Richard Addinsell'], 'music_composers': []},\n",
       " 'm_111759': {'movie_id': 'm_111759', 'title': 'Don Q Son of Zorro', 'genres': ['Western', 'Adventure', 'Romance'], 'production_countries': ['US'], 'collection_name': '', 'release_year': '1925', 'actors': ['Douglas Fairbanks', 'Mary Astor', 'Donald Crisp', 'Jack McDonald', 'Warner Oland', 'Stella De Lanti', 'Jean Hersholt'], 'directors': ['Donald Crisp'], 'screenwriters': [], 'music_composers': []},\n",
       " 'm_8966': {'movie_id': 'm_8966', 'title': 'Twilight', 'genres': ['Adventure', 'Fantasy', 'Drama', 'Romance'], 'production_countries': ['US'], 'collection_name': 'The Twilight Collection', 'release_year': '2008', 'actors': ['Kristen Stewart', 'Robert Pattinson', 'Billy Burke', 'Taylor Lautner', 'Peter Facinelli', 'Ashley Greene', 'Jackson Rathbone', 'Elizabeth Reaser', 'Kellan Lutz', 'Nikki Reed', 'Anna Kendrick', 'Sarah Clarke', 'Gil Birmingham', 'Rachelle Lefevre', 'Cam Gigandet', 'Edi Gathegi', 'Michael Welch', 'Christian Serratos', 'Justin Chon', 'Tyson Houseman', 'Matt Bushell', 'Gregory Tyree Boyce', 'Ned Bellamy', 'José Zúñiga', 'Ayanna Berkshire', 'Stephenie Meyer'], 'directors': ['Catherine Hardwicke'], 'screenwriters': [], 'music_composers': ['Melissa Rosenberg']},\n",
       " 'm_2574': {'movie_id': 'm_2574', 'title': 'Les amants', 'genres': ['Romance', 'Drama'], 'production_countries': ['FR'], 'collection_name': '', 'release_year': '1958', 'actors': ['Jeanne Moreau', 'Alain Cuny', 'José Luis de Villalonga', 'Jean-Marc Bory', 'Judith Magre', 'Gaston Modot', 'Michèle Girardon', 'Claude Mansard', 'Georgette Lobre', 'Patricia Maurin', 'Lucienne Hamon', 'Pierre Frag', 'Gib Grossac', 'Jean-Claude Brialy'], 'directors': ['Louis Malle'], 'screenwriters': ['Johannes Brahms'], 'music_composers': ['Louise de Vilmorin']},\n",
       " 'm_1964': {'movie_id': 'm_1964', 'title': 'Ein Freund von mir', 'genres': ['Drama'], 'production_countries': ['DE'], 'collection_name': '', 'release_year': '2006', 'actors': ['Jürgen Vogel', 'Daniel Brühl', 'Sabine Timoteo', 'Peter Kurth', 'Oktay Özdemir', 'Michael Wittenborn', 'Steffen Groth', 'Jan Ole Gerster', 'Jens Münchow'], 'directors': ['Sebastian Schipper'], 'screenwriters': [], 'music_composers': []},\n",
       " 'm_5816': {'movie_id': 'm_5816', 'title': 'Ober', 'genres': ['Comedy'], 'production_countries': ['NL'], 'collection_name': '', 'release_year': '2006', 'actors': ['Alex van Warmerdam', 'Ariane Schluter', 'Jaap Spijkers', 'Mark Rietman', 'Thekla Reuten', 'Kees Prins', 'Pierre Bokma', 'Lyne Renee', 'Waldemar Kobus', 'Fedja van Huêt', 'Joop Admiraal', 'Jakop Ahlbom', 'Martine Berghuijs', \"René van 't Hof\", 'Togo Igawa', 'Marc van Warmerdam', 'Porgy Franssen'], 'directors': ['Alex van Warmerdam'], 'screenwriters': [], 'music_composers': ['Alex van Warmerdam']},\n",
       " 'm_2694': {'movie_id': 'm_2694', 'title': 'Tuya de hun shi', 'genres': ['Drama', 'Romance', 'Foreign'], 'production_countries': ['CN'], 'collection_name': '', 'release_year': '2006', 'actors': ['Nan Yu', 'Bater', \"Sen'ge\", 'Zhaya'], 'directors': [\"Wang Quan'an\"], 'screenwriters': [], 'music_composers': [\"Wang Quan'an\", 'Lu Wei']},\n",
       " 'm_2253': {'movie_id': 'm_2253', 'title': 'Valkyrie', 'genres': ['Drama', 'Thriller', 'History', 'War'], 'production_countries': ['DE', 'US'], 'collection_name': '', 'release_year': '2008', 'actors': ['Tom Cruise', 'Carice van Houten', 'Kenneth Branagh', 'Bill Nighy', 'Terence Stamp', 'Tom Wilkinson', 'Eddie Izzard', 'David Bamber', 'Thomas Kretschmann', 'David Schofield', 'Kevin McNally', 'Christian Berkel', 'Kenneth Cranham', 'Tom Hollander', 'Jamie Parker', 'Danny Webb', 'Bernard Hill', 'Ian McNeice', 'Chris Larkin', 'Matthew Burton', 'Gerhard Haase-Hindenberg', 'Matthias Freihof', 'Halina Reijn', 'Manfred-Anton Algrang', 'Werner Daehn', 'Matthias Schweighöfer', 'Andy Gätjen', 'Christopher Karl Hemeyer', 'Philipp von Schulthess', 'Karl Alexander Seidel', 'Justus Kammerer', 'Frank Christian Marx', 'Florian Panzner', 'Tim Williams', 'Julian Morris'], 'directors': ['Bryan Singer'], 'screenwriters': ['John Ottman'], 'music_composers': ['Christopher McQuarrie', 'Nathan Alexander']},\n",
       " 'm_6936': {'movie_id': 'm_6936', 'title': 'Ben X', 'genres': ['Drama'], 'production_countries': ['BE'], 'collection_name': '', 'release_year': '2007', 'actors': ['Greg Timmermans', 'Laura Verlinden', 'Marijke Pinoy', 'Pol Goossen', 'Titus De Voogdt', 'Maarten Claeyssens', 'Tania Van der Sanden', 'Cesar De Sutter', 'Gilles De Schrijver', 'Bavo Smets', 'Ron Cornet', 'Katrien Pierlet'], 'directors': ['Nic Balthazar'], 'screenwriters': ['Praga Khan'], 'music_composers': ['Nic Balthazar']},\n",
       " 'm_4148': {'movie_id': 'm_4148', 'title': 'Revolutionary Road', 'genres': ['Drama', 'Romance'], 'production_countries': ['GB', 'US'], 'collection_name': '', 'release_year': '2008', 'actors': ['Leonardo DiCaprio', 'Kate Winslet', 'Michael Shannon', 'Kathryn Hahn', 'David Harbour', 'Kathy Bates', 'Ty Simpkins', 'Ryan Simpkins', 'Richard Easton', 'Dylan Baker', 'Zoe Kazan', 'Max Casella', 'Jay O. Sanders', 'Kristen Connolly', 'John Behlmann', 'Max Baker', 'Keith Reddin', 'Dylan Clark Marshall', 'Marin Ireland'], 'directors': ['Sam Mendes'], 'screenwriters': [], 'music_composers': ['Justin Haythe']},\n",
       " 'm_53519': {'movie_id': 'm_53519', 'title': 'High and Dizzy', 'genres': ['Comedy'], 'production_countries': ['US'], 'collection_name': '', 'release_year': '1920', 'actors': ['Harold Lloyd', 'Roy Brooks', 'Mildred Davis', 'Wallace Howe'], 'directors': ['Hal Roach'], 'screenwriters': [], 'music_composers': []},\n",
       " 'm_317': {'movie_id': 'm_317', 'title': 'Grbavica', 'genres': ['Drama', 'History'], 'production_countries': ['BA', 'AT', 'DE', 'HR'], 'collection_name': '', 'release_year': '2006', 'actors': ['Mirjana Karanović', 'Luna Mijovic', 'Leon Lučev', 'Kenan Catic', 'Jasna Beri', 'Dejan Aćimović', 'Bogdan Diklić', 'Ermin Bravo', 'Semka Sokolović-Bertok', 'Emir Hadžihafizbegović'], 'directors': ['Jasmila Zbanic'], 'screenwriters': ['Enes Zlatar'], 'music_composers': ['Jasmila Zbanic', 'Barbara Albert']},\n",
       " 'm_1961': {'movie_id': 'm_1961', 'title': 'My Name Is Bruce', 'genres': ['Comedy', 'Horror'], 'production_countries': ['US'], 'collection_name': '', 'release_year': '2007', 'actors': ['Bruce Campbell', 'Grace Thorsen', 'Ted Raimi', 'Adam Boyd', 'Mike Estes', 'Janelle Farber', 'Dani Kelly'], 'directors': ['Bruce Campbell'], 'screenwriters': [], 'music_composers': ['Mark Verheiden']},\n",
       " 'm_434': {'movie_id': 'm_434', 'title': 'Knallhart', 'genres': ['Drama', 'Thriller'], 'production_countries': ['DE'], 'collection_name': '', 'release_year': '2006', 'actors': ['David Kross', 'Jenny Elvers', 'Erhan Emre', 'Oktay Özdemir', 'Kida Khodr Ramadan', 'Arnel Taci', 'Kai Michael Müller', 'Hans Löw', 'Jan Henrik Stahlberg', 'Sinan Akdeniz', 'Ali-Kemal Akyaz', 'Peter Bucksch', 'Hassan Chahrour', 'Roland Florstedt', 'Stephan Grossmann', 'Rebecca Hessing', 'Bernhard Howe', 'Franziska Jünger', 'Eva Löbau', 'Stefan Konarske', 'Fabian Krüger', 'Georg Friedrich'], 'directors': ['Detlev Buck'], 'screenwriters': ['Bert Wrede'], 'music_composers': ['Zoran Drvenkar', 'Gregor Tressnow']},\n",
       " 'm_1387': {'movie_id': 'm_1387', 'title': 'Superstar: The Karen Carpenter Story', 'genres': ['Drama', 'Music'], 'production_countries': ['US'], 'collection_name': '', 'release_year': '1988', 'actors': ['Merrill Gruver', 'Michael Edwards', 'Melissa Brown', 'Rob LaBelle', 'Cynthia Schneider', 'Todd Haynes'], 'directors': ['Todd Haynes'], 'screenwriters': [], 'music_composers': ['Todd Haynes']},\n",
       " 'm_2080': {'movie_id': 'm_2080', 'title': 'X-Men Origins: Wolverine', 'genres': ['Adventure', 'Action', 'Thriller', 'Science Fiction'], 'production_countries': ['US'], 'collection_name': 'The Wolverine Collection', 'release_year': '2009', 'actors': ['Hugh Jackman', 'Liev Schreiber', 'Danny Huston', 'Lynn Collins', 'Ryan Reynolds', 'Will.i.am', 'Taylor Kitsch', 'Kevin Durand', 'Dominic Monaghan', 'Daniel Henney', 'Tim Pocock', 'Julia Blake', 'Max Cullen', 'Troye Sivan', 'Michael James Olsen', \"Peter O'Brien\", 'Aaron Jeffery', 'Alice Parkinson', 'Philip A. Patterson', 'Anthony Gee', 'Adelaide Clemens', 'Karl Beattie', \"Tom O'Sullivan\", 'Myles Pollard', 'Stephen Anderton', 'Chris Sadrinna', 'Septimus Caton', 'Matthew Dale', 'Nathin Butler', 'Peter Barry', 'David Ritchie', 'Asher Keddie', 'Socratis Otto', 'Stephen Leeder', 'James D. Dever', 'Martin Obuga', 'Rita Affua Connell', 'John Shrimpton', 'Henry Browne', 'Tahyna Tozzi', 'Daniel Negreanu', 'Alexandra Davies', 'Don Battee', 'Evan Sturrock', 'Rob Flanagan', 'Hakeem Kae-Kazim', 'Alison Araya', 'Eric Breker', 'Eileen Bui', 'Adrian G. Griffiths', 'Bryon Chief-Moon', 'Mike Dopud', 'Beatrice Ilg', 'Kanako Takegishi', 'Panou', 'Johnson Phan', 'Elizabeth Thai', 'Jade Tang', 'Joelle Tang', 'Scott Adkins', 'Warwick Young', 'Dennis Kreusler', 'Patrick Stewart'], 'directors': ['Gavin Hood'], 'screenwriters': [], 'music_composers': ['David Benioff']},\n",
       " 'm_42738': {'movie_id': 'm_42738', 'title': 'Scorpio', 'genres': ['Action', 'Adventure', 'Drama', 'Thriller'], 'production_countries': ['US'], 'collection_name': '', 'release_year': '1973', 'actors': ['Burt Lancaster', 'Alain Delon', 'Paul Scofield', 'John Colicos', 'Gayle Hunnicutt', 'J. D. Cannon', 'Jack Colvin', 'James Sikking', 'Burke Byrnes', 'William Smithers', 'Robert Emhardt', 'Morgan Farley', 'George Mikell', 'Sandor Elès', 'Celeste Yarnall', 'Howard Morton', 'Shmuel Rodensky', 'Vladek Sheybal', 'Mel Stewart', 'Joanne Linville', 'Mary Maude', 'Frederick Jaeger'], 'directors': ['Michael Winner'], 'screenwriters': ['Jerry Fielding'], 'music_composers': ['David W. Rintels', 'Gerald Wilson']},\n",
       " 'm_534': {'movie_id': 'm_534', 'title': 'Terminator Salvation', 'genres': ['Action', 'Science Fiction', 'Thriller'], 'production_countries': ['DE', 'IT', 'GB', 'US'], 'collection_name': 'The Terminator Collection', 'release_year': '2009', 'actors': ['Christian Bale', 'Sam Worthington', 'Anton Yelchin', 'Moon Bloodgood', 'Bryce Dallas Howard', 'Helena Bonham Carter', 'Common', 'Roland Kickinger', 'Michael Ironside', 'Jane Alexander', 'Chris Browning', 'Chris Ashworth', 'Jadagrace', 'David Midthunder', 'Arnold Schwarzenegger'], 'directors': ['McG'], 'screenwriters': ['Danny Elfman'], 'music_composers': []},\n",
       " 'm_761': {'movie_id': 'm_761', 'title': \"L'Aile ou la Cuisse\", 'genres': ['Comedy'], 'production_countries': ['FR'], 'collection_name': '', 'release_year': '1976', 'actors': ['Louis de Funès', 'Coluche', 'Claude Gensac', 'Ann Zacharias', 'Julien Guiomar', 'Georges Chamarat', 'Fernand Guiot', 'Raymond Bussières', 'Vittorio Caprioli', 'Jean Martin', 'Gérard Boucaron', 'Antoine Marin', 'Yves Afonso', 'Philippe Bouvard', 'Marcel Dalio'], 'directors': ['Claude Zidi'], 'screenwriters': ['Vladimir Cosma'], 'music_composers': ['Claude Zidi', 'Michel Fabre']},\n",
       " 'm_3478': {'movie_id': 'm_3478', 'title': 'Ludwig', 'genres': ['Drama', 'History'], 'production_countries': ['FR', 'DE', 'IT'], 'collection_name': '', 'release_year': '1972', 'actors': ['Helmut Berger', 'Romy Schneider', 'Trevor Howard', 'Silvana Mangano', 'Gert Fröbe', 'Helmut Griem', 'Izabella Telezynska', 'Umberto Orsini', 'John Moulder-Brown', 'Marc Porel', 'Sonia Petrovna', 'Folker Bohnet', 'Heinz Moog', 'Nora Ricci', 'Mark Burns', 'Maurizio Bonuglia', 'Adriana Asti', 'Gérard Herter', 'Henning Schlüter', 'Gernot Möhner'], 'directors': ['Luchino Visconti'], 'screenwriters': [], 'music_composers': ['Luchino Visconti', \"Suso Cecchi d'Amico\", 'Enrico Medioli']},\n",
       " 'm_2861': {'movie_id': 'm_2861', 'title': 'Le beau mariage', 'genres': ['Drama', 'Comedy', 'Romance'], 'production_countries': ['FR'], 'collection_name': '', 'release_year': '1982', 'actors': ['Béatrice Romand', 'André Dussollier', 'Féodor Atkine', 'Arielle Dombasle', 'Sophie Renoir', 'Pascal Greggory', 'Huguette Faget', 'Thamila Mezbah', 'Hervé Duhamel', 'Virginie Thévenet', 'Denise Bailly', 'Vincent Gauthier', 'Anne Mercier', 'Catherine Rethi'], 'directors': ['Éric Rohmer'], 'screenwriters': ['Ronan Girre', 'Simon des Innocents'], 'music_composers': []},\n",
       " 'm_5060': {'movie_id': 'm_5060', 'title': 'Carry On Screaming', 'genres': ['Comedy'], 'production_countries': ['GB'], 'collection_name': 'The Carry On Collection', 'release_year': '1966', 'actors': ['Harry H. Corbett', 'Kenneth Williams', 'Jim Dale', 'Charles Hawtrey', 'Fenella Fielding', 'Joan Sims', 'Angela Douglas', 'Bernard Bresslaw', 'Peter Butterworth', 'Jon Pertwee', 'Michael Ward', 'Tom Clegg', 'Billy Cornelius', 'Norman Mitchell', 'Frank Thornton', 'Frank Forsyth', 'Marianne Stone'], 'directors': ['Gerald Thomas'], 'screenwriters': ['Eric Rogers'], 'music_composers': ['Talbot Rothwell']},\n",
       " 'm_4734': {'movie_id': 'm_4734', 'title': 'Van Gogh', 'genres': ['Drama'], 'production_countries': ['FR'], 'collection_name': '', 'release_year': '1991', 'actors': ['Jacques Dutronc', 'Alexandra London', 'Bernard Le Coq', 'Gérard Séty', 'Corinne Bourdon', 'Elsa Zylberstein', 'Leslie Azzoulai', 'Jacques Vidal'], 'directors': ['Maurice Pialat'], 'screenwriters': [], 'music_composers': []},\n",
       " 'm_2973': {'movie_id': 'm_2973', 'title': 'Аэлита', 'genres': ['Science Fiction', 'Adventure', 'Drama', 'Fantasy'], 'production_countries': ['RU'], 'collection_name': '', 'release_year': '1924', 'actors': ['Yuliya Solntseva', 'Igor Ilyinsky', 'Nikolai Tsereteli', 'Nikolai Tsereteli', 'Nikolai Batalov', 'Vera Orlova', 'Valentina Kuindzhi', 'Pavel Pol', 'Konstantin Eggert', 'Yuri Zavadsky', 'Aleksandra Peregonets', 'Iosif Tolchanov', 'N. Tretyakova'], 'directors': ['Yakov Protazanov'], 'screenwriters': [], 'music_composers': ['Aleksei Fajko', 'Fyodor Otsep']},\n",
       " 'm_836': {'movie_id': 'm_836', 'title': 'Vidas secas', 'genres': ['Drama', 'Foreign', 'Romance'], 'production_countries': ['BR'], 'collection_name': '', 'release_year': '1963', 'actors': ['Átila Iório', 'Maria Ribeiro', 'Orlando Macedo', 'Joffre Soares', 'Gilvan Lima', 'Genivaldo Lima'], 'directors': ['Nelson Pereira dos Santos'], 'screenwriters': ['Leonardo Alencar'], 'music_composers': ['Nelson Pereira dos Santos']},\n",
       " 'm_7445': {'movie_id': 'm_7445', 'title': 'Brothers', 'genres': ['Drama', 'Thriller', 'War'], 'production_countries': ['US'], 'collection_name': '', 'release_year': '2009', 'actors': ['Tobey Maguire', 'Jake Gyllenhaal', 'Natalie Portman', 'Sam Shepard', 'Mare Winningham', 'Bailee Madison', 'Taylor Geare', 'Patrick John Flueger', 'Clifton Collins Jr', 'Carey Mulligan', 'Omid Abtahi', 'Navid Negahban', 'Ethan Suplee', 'Arron Shiver', 'Ray Prewitt', 'Jenny Wade', 'Jason E. Hill', 'James D. Dever', 'Luce Rains', 'Enayat Delawary', 'Rick La Monda', 'Kevin Wiggins', 'Yousuf Azami', 'Carrie Fleming'], 'directors': ['Jim Sheridan'], 'screenwriters': ['Thomas Newman'], 'music_composers': ['David Benioff']},\n",
       " 'm_1284': {'movie_id': 'm_1284', 'title': 'Torrente 2: Misión en Marbella', 'genres': ['Comedy', 'Crime'], 'production_countries': ['ES'], 'collection_name': 'Torrente Collection', 'release_year': '2001', 'actors': ['Santiago Segura', 'Gabino Diego', 'Tony Leblanc', 'José Luis Moreno', 'Inés Sastre', 'Arturo Valls', 'Juanito Navarro', 'Eloi Yebra', 'Rosanna Walls', 'Carolina Bona', 'Paloma Cela', 'José María Rubio', 'José Antonio Calvo', 'Ignacio Charrabe', 'Luis Montes', 'Yola Berrocal', 'Ángela Castilla', 'Pilar Ortega', 'Neus Asensi', 'Javier Cámara', 'El Gran Wyoming', 'Pablo Carbonell', 'Alexis Valdés', 'Andreu Buenafuente', 'José Mota', 'José Luis López Vázquez', 'Cañita Brava'], 'directors': ['Santiago Segura'], 'screenwriters': ['Roque Baños'], 'music_composers': ['Santiago Segura']},\n",
       " 'm_2143': {'movie_id': 'm_2143', 'title': \"Carla's Song\", 'genres': ['War', 'Drama', 'Romance'], 'production_countries': ['GB'], 'collection_name': '', 'release_year': '1996', 'actors': ['Robert Carlyle', 'Oyanka Cabezas', 'Scott Glenn', 'Louise Goodall', 'Salvador Espinoza', 'Margaret McAdam', 'Gary Lewis', 'Subash Singh Pall', 'Stewart Preston', 'Richard Loza', 'Greg Friel', 'Anne Marie Timoney', 'Andy Townsley', 'Alicia Devine', 'John Paul Leach', 'Norma Rivera', 'José Meneses', 'Rosa Amelia López', 'Keila Rodriguez', 'Josefa Calderon De Calero', 'Azucena Figueroa', 'Tomasa García', 'Alcides González', 'Manuela Guevara', 'Karla Obando', 'Santos Olivas', 'Alison Paula Rizo', 'Elba Aurora Talavera', 'Luis Talavera', 'Jimmy Jose Arguello', 'José Alberto Avendaño', 'Ana Victoria Borge', 'Junior Escobar', 'Alma Bianco Medina', 'Tatiana Miranda', 'Ramón Monterrey', 'Santiago Neira', 'Belkis Ramirez', 'María José Silva', 'Amy Bank', 'Belinda Forbes', 'Mark Forget', 'Tom Lee', 'Micky Mckay', 'Ruth Pacheco', 'Richard Senghas', 'Anita Setright', 'Laura Tredway', 'Marcelino Cruz', 'Alberto Flores', 'Roberto Flores', 'Narciso González', 'Claire Hemphill', 'Felipe Hernandez', 'Ramón Lozano', 'Thomas McTaggart', 'Ford Kiernan'], 'directors': ['Ken Loach'], 'screenwriters': [], 'music_composers': ['Paul Laverty']},\n",
       " 'm_2395': {'movie_id': 'm_2395', 'title': 'Astérix aux Jeux Olympiques', 'genres': ['Fantasy', 'Adventure', 'Comedy', 'Family'], 'production_countries': ['BE', 'FR', 'DE', 'IT', 'ES'], 'collection_name': 'Asterix and Obelix Collection', 'release_year': '2008', 'actors': ['Clovis Cornillac', 'Gérard Depardieu', 'Franck Dubosc', 'José Garcia', 'Stéphane Rousseau', 'Jean-Pierre Cassel', 'Mónica Cruz', 'Alain Delon', 'Benoît Poelvoorde', 'Vanessa Hessler', 'Michael Herbig', 'Santiago Segura', 'Bouli Lanners', 'Adriana Sklenaříková', 'Jérôme Le Banner', 'Alexandre Astier', 'Luca Bizzarri', 'Paolo Kessisoglu', 'Elie Semoun', 'Francis Lalanne', 'Michael Schumacher', 'Zinedine Zidane', 'Tony Parker', 'Sim', 'Patrice Thibaud', 'Stéphane De Groodt'], 'directors': ['Thomas Langmann', 'Frédéric Forestier'], 'screenwriters': ['Frédéric Talgorn'], 'music_composers': ['Thomas Langmann', 'Alexandre Charlot', 'Olivier Dazat', 'Franck Magnier']},\n",
       " 'm_1912': {'movie_id': 'm_1912', 'title': 'Free Rainer - Dein Fernseher lügt', 'genres': ['Comedy', 'Drama'], 'production_countries': ['DE'], 'collection_name': '', 'release_year': '2007', 'actors': ['Moritz Bleibtreu', 'Elsa Schulz Gambard', 'Gregor Bloéb', 'Milan Peschel', 'Simone Hanselmann', 'Franziska Knuppe', 'Thorsten Feller', 'Vinzenz Kiefer', 'Us Conradi', 'Tom Jahn', 'Robert Viktor Minich', 'Ralf Knicker', 'Andreas Brandt', 'Irshad Panjatan', 'Doris Golpashin', 'Peer Jäger', 'Valentin Platareanu', 'Leyli Timner', 'Finja Martens', 'Islam Ben Arfa', 'Hans Weingartner', 'Jonas Laleman', 'Eva-Maria Kurz', 'Alexander Müller', 'Jörg Purschke', 'Toshko Savov', 'Nicole Pilzecker', 'Walter Hötte'], 'directors': ['Hans Weingartner'], 'screenwriters': [], 'music_composers': ['Hans Weingartner', 'Katharina Held']},\n",
       " 'm_7346': {'movie_id': 'm_7346', 'title': '文雀', 'genres': ['Thriller'], 'production_countries': ['HK'], 'collection_name': '', 'release_year': '2008', 'actors': ['Simon Yam', 'Kelly Lin', 'Gordon Lam Ka-Tung', 'Lo Hoi-Pang', 'Law Wing-cheong', 'Kenneth Cheung', 'Lam Suet'], 'directors': ['Johnnie To'], 'screenwriters': ['Xavier Jamaux'], 'music_composers': ['Fung Chi-keung', 'Kin Chung Chan']},\n",
       " 'm_40819': {'movie_id': 'm_40819', 'title': 'Best Worst Movie', 'genres': ['Documentary', 'Comedy'], 'production_countries': ['US', 'IS', 'IT', 'GB'], 'collection_name': 'Troll Collection', 'release_year': '2009', 'actors': ['Michael Stephenson', 'George Hardy', 'Darren Ewing', 'Jason Steadman', 'Jason Wright', 'Zack Carlson', 'Randall Colburn', 'Adam Deyoe', 'John Gemberling', 'Patrick Gibbs', 'Paul Gibbs', 'Eric Gosselin', 'Rocky Jalil', 'Timothy Marklevitz', 'Ryan Martin', 'Scott Pearlman', 'Chris Pudlo', 'James M. Tate', 'Scott Weinberg', 'Bryn Hammond', 'Simon Robb'], 'directors': ['Michael Stephenson'], 'screenwriters': ['Bobby Tahouri'], 'music_composers': []},\n",
       " 'm_3037': {'movie_id': 'm_3037', 'title': 'Yella', 'genres': ['Drama', 'Romance'], 'production_countries': ['DE'], 'collection_name': '', 'release_year': '2007', 'actors': ['Nina Hoss', 'Devid Striesow', 'Hinnerk Schönemann', 'Burghart Klaußner', 'Barbara Auer', 'Wanja Mues', 'Christian Redl', 'Michael Wittenborn', 'Martin Brambach', 'Joachim Nimtz', 'Selin Bademsoy', 'Peter Benedict'], 'directors': ['Christian Petzold'], 'screenwriters': [], 'music_composers': []},\n",
       " 'm_2363': {'movie_id': 'm_2363', 'title': 'Les Cousins', 'genres': ['Drama'], 'production_countries': ['FR'], 'collection_name': '', 'release_year': '1959', 'actors': ['Gérard Blain', 'Jean-Claude Brialy', 'Juliette Mayniel', 'Guy Decomble', 'Geneviève Cluny', 'Michèle Méritz', 'Stéphane Audran', 'Paul Bisciglia', 'Françoise Vatel', 'Claude Cerval'], 'directors': ['Claude Chabrol'], 'screenwriters': ['Paul Misraki'], 'music_composers': ['Claude Chabrol']},\n",
       " 'm_1920': {'movie_id': 'm_1920', 'title': 'Crime of Passion', 'genres': ['Crime', 'Drama', 'Thriller'], 'production_countries': ['US'], 'collection_name': '', 'release_year': '1957', 'actors': ['Barbara Stanwyck', 'Fay Wray', 'Sterling Hayden', 'Raymond Burr', 'Virginia Grey', 'Royal Dano', 'Robert Griffin', 'Dennis Cross', 'Jay Adler', 'Stuart Whitman', 'Malcolm Atterbury', 'Robert Quarry', 'Gail Bonney', 'Joe Conley', 'Patricia Merlin', 'Ralph Brooks', 'Larry Carr', 'Jack Chefe', 'Richard Collier', 'Nan Dolan', 'Madelon Erin'], 'directors': ['Gerd Oswald'], 'screenwriters': ['Paul Dunlap'], 'music_composers': ['Jo Eisinger']},\n",
       " 'm_3476': {'movie_id': 'm_3476', 'title': \"L'important c'est d'aimer\", 'genres': ['Drama', 'Romance'], 'production_countries': ['FR', 'DE', 'IT'], 'collection_name': '', 'release_year': '1975', 'actors': ['Romy Schneider', 'Fabio Testi', 'Jacques Dutronc', 'Nicoletta Machiavelli', 'Claude Dauphin', 'Klaus Kinski', 'Roger Blin', 'Gabrielle Doulcet', 'Michel Robin', 'Guy Mairesse', 'Katia Tchenko', 'Paul Bisciglia'], 'directors': ['Andrzej Żuławski'], 'screenwriters': ['Georges Delerue'], 'music_composers': []},\n",
       " 'm_1914': {'movie_id': 'm_1914', 'title': 'FC Venus', 'genres': ['Comedy'], 'production_countries': ['DE'], 'collection_name': '', 'release_year': '2006', 'actors': ['Christian Ulmen', 'Nora Tschirner', 'Florian Lukas', 'Anneke Kim Sarnau', 'Heinz Hoenig', 'Andreas Günther', 'Petra Kleinert', 'Steffen Groth', 'Martin Armknecht', 'Leslie Malton'], 'directors': ['Ute Wieland', 'Bruno Grass'], 'screenwriters': ['Oliver Biehler'], 'music_composers': ['Outi Keskevaari', 'Katri Manninen']},\n",
       " 'm_94959': {'movie_id': 'm_94959', 'title': 'Edward, My Son', 'genres': ['Drama'], 'production_countries': ['US'], 'collection_name': '', 'release_year': '1949', 'actors': ['Spencer Tracy', 'Deborah Kerr', 'Ian Hunter', 'James Donald', 'Mervyn Johns', 'Leueen MacGrath', 'Felix Aylmer', 'Walter Fitzgerald', 'Tilsa Page'], 'directors': ['George Cukor'], 'screenwriters': [], 'music_composers': []},\n",
       " 'm_3007': {'movie_id': 'm_3007', 'title': 'Frau im Mond', 'genres': ['Drama', 'Comedy', 'Science Fiction', 'Romance'], 'production_countries': ['DE'], 'collection_name': '', 'release_year': '1929', 'actors': ['Willy Fritsch', 'Gerda Maurus', 'Klaus Pohl', 'Fritz Rasp', 'Gustav von Wangenheim', 'Tilla Durieux', 'Margarete Kupfer', 'Alexa von Porembsky', 'Gerhard Dammann', 'Heinrich Gotho', 'Alfred Loretto', 'Gustl Gstettenbaur'], 'directors': ['Fritz Lang'], 'screenwriters': [], 'music_composers': ['Fritz Lang', 'Hermann Oberth']},\n",
       " 'm_1673': {'movie_id': 'm_1673', 'title': 'Comanche Station', 'genres': ['Action', 'Western'], 'production_countries': ['US'], 'collection_name': '', 'release_year': '1960', 'actors': ['Randolph Scott', 'Nancy Gates', 'Claude Akins', 'Skip Homeier', 'Richard Rust', 'Rand Brooks', 'Dyke Johnson', 'Foster Hood', 'Joe Molina'], 'directors': ['Budd Boetticher'], 'screenwriters': ['Mischa Bakaleinikoff'], 'music_composers': ['Burt Kennedy']},\n",
       " 'm_8464': {'movie_id': 'm_8464', 'title': 'Top of the Food Chain', 'genres': ['Horror', 'Comedy', 'Science Fiction'], 'production_countries': ['CA'], 'collection_name': '', 'release_year': '1999', 'actors': ['Campbell Scott', 'Fiona Loewi', 'Tom Everett Scott', 'Nigel Bennett', 'Hardee T. Lineham', 'James Allodi', 'Bernard Behrens'], 'directors': ['John Paizs'], 'screenwriters': [], 'music_composers': []},\n",
       " 'm_481': {'movie_id': 'm_481', 'title': '7 vírgenes', 'genres': ['Drama'], 'production_countries': ['ES'], 'collection_name': '', 'release_year': '2005', 'actors': ['Juan José Ballesta', 'Jesús Carroza', 'Antonio Dechent', 'Loles León', 'Muriel', 'Iride Barroso', 'Alba Rodríguez', 'Vicente Romero'], 'directors': ['Alberto Rodríguez'], 'screenwriters': ['Julio de la Rosa', 'Miguel Ángel Hernando Trillo'], 'music_composers': ['Alberto Rodríguez', 'Rafael Cobos']},\n",
       " 'm_1361': {'movie_id': 'm_1361', 'title': 'The Return of the King', 'genres': ['Animation', 'Family', 'Fantasy'], 'production_countries': ['US'], 'collection_name': 'The Lord of the Rings Animated Collection', 'release_year': '1980', 'actors': ['Orson Bean', 'Theodore Bikel', 'William Conrad', 'John Huston', 'Roddy McDowall', 'Brother Theodore', 'Paul Frees', 'Casey Kasem', 'Sonny Melendrez', 'Nellie Bellflower'], 'directors': ['Jules Bass', 'Arthur Rankin, Jr.'], 'screenwriters': ['Maury Laws'], 'music_composers': []},\n",
       " 'm_47610': {'movie_id': 'm_47610', 'title': 'Schwerkraft', 'genres': ['Crime', 'Drama'], 'production_countries': ['DE'], 'collection_name': '', 'release_year': '2010', 'actors': ['Jürgen Vogel', 'Fabian Hinrichs', 'Nora von Waldstätten', 'Jule Böwe', 'Eleonore Weisgerber', 'Olaf Burmeister', 'Judith Engel', 'Fahri Yardım'], 'directors': ['Maximilian Erlenwein'], 'screenwriters': [], 'music_composers': []},\n",
       " 'm_1244': {'movie_id': 'm_1244', 'title': 'Das wilde Leben', 'genres': ['Music', 'Drama', 'Comedy'], 'production_countries': ['DE'], 'collection_name': '', 'release_year': '2007', 'actors': ['Natalia Avelon', 'Matthias Schweighöfer', 'David Scheller', 'Victor Norén', 'Alexander Scheer', 'Petra Berndt', 'Inga Busch'], 'directors': ['Achim Bornhak'], 'screenwriters': [], 'music_composers': ['Achim Bornhak', 'Claus Peter Hant', 'Olaf Kraemer']},\n",
       " 'm_471': {'movie_id': 'm_471', 'title': 'Bandyta', 'genres': ['Drama'], 'production_countries': ['DE', 'FR', 'PL'], 'collection_name': '', 'release_year': '1997', 'actors': ['Til Schweiger', 'Polly Walker', 'Ida Jablonska', 'Bartek Pieniazek', 'Wojciech Brzezinski', 'Pete Postlethwaite', 'John Hurt'], 'directors': ['Maciej Dejczer'], 'screenwriters': ['Michał Lorenc'], 'music_composers': ['Cezary Harasimowicz']},\n",
       " 'm_2010': {'movie_id': 'm_2010', 'title': '殯の森', 'genres': ['Drama'], 'production_countries': ['JP'], 'collection_name': '', 'release_year': '2007', 'actors': ['Machiko Ono', 'Shigeki Uda', 'Makiko Watanabe', 'Yôichirô Saitô', 'Kanako Masuda', 'Yûsei Yamamoto'], 'directors': ['Naomi Kawase'], 'screenwriters': ['Masamichi Shigeno'], 'music_composers': ['Naomi Kawase']},\n",
       " 'm_54001': {'movie_id': 'm_54001', 'title': 'مسافر', 'genres': ['Drama'], 'production_countries': ['IR'], 'collection_name': '', 'release_year': '1974', 'actors': ['Hassan Darabi', 'Masud Zandbegleh', 'Mostafa Tari'], 'directors': ['Abbas Kiarostami'], 'screenwriters': ['Kambiz Roshanravan'], 'music_composers': []},\n",
       " 'm_3081': {'movie_id': 'm_3081', 'title': 'The Goddess', 'genres': ['Drama'], 'production_countries': ['US'], 'collection_name': '', 'release_year': '1958', 'actors': ['Kim Stanley', 'Lloyd Bridges', 'Patty Duke', 'Bert Freed', 'Joan Copeland', 'Betty Lou Holland', 'Steven Hill', 'Gerald Hiken', 'Elizabeth Wilson', 'Joanne Linville', 'Gail Haworth', 'Joyce Van Patten', 'Louise Beavers', 'Gerald Petrarca', 'Werner Klemperer', 'Burt Brinckerhoff', 'Margaret Brayton', 'Curt Conway', 'Fred Herrick', 'Donald McKee', \"Mike O'Dowd\", 'Sid Raymond', 'David White'], 'directors': ['John Cromwell'], 'screenwriters': ['Virgil Thomson'], 'music_composers': ['Paddy Chayefsky']},\n",
       " 'm_44555': {'movie_id': 'm_44555', 'title': '三枪拍案惊奇', 'genres': ['Comedy', 'Drama', 'Thriller'], 'production_countries': ['CN'], 'collection_name': '', 'release_year': '2009', 'actors': ['Sun Honglei', 'Xiao Shen Yang', 'Yan Ni', 'Ni Dahong', 'Zhao Benshan'], 'directors': ['Zhang Yimou'], 'screenwriters': [], 'music_composers': []},\n",
       " 'm_47518': {'movie_id': 'm_47518', 'title': 'The Tortured', 'genres': ['Horror'], 'production_countries': ['US', 'CA'], 'collection_name': '', 'release_year': '2010', 'actors': ['Erika Christensen', 'Jesse Metcalfe', 'Bill Moseley', 'Chelah Horsdal', 'Fulvio Cecere', 'Aaron Pearl', 'Kayden Kessler', 'Sheila Shah', 'Samantha Gutstadt', 'Jakob Davies', 'Jessie Rusu', 'Viv Leacock', 'Yee Jee Tso', 'Stephen Park', 'Alfonso Quijada', 'Kurt Max Runte', 'Darryl Scheelar', 'Carl Mazzocone Sr.', 'Bill Lippincott', 'Thomas Greenwood', 'Lynn Colliar', 'Marke Driesschen', 'Peter Abrams', 'Linda Curial', 'Paul Herbert', 'Stephen Miller', 'Nigel John Taylor', 'Donita Dyer', 'John Stewart', 'J. Larose', 'Zak Santiago'], 'directors': ['Robert Lieberman'], 'screenwriters': ['Jeff Rona'], 'music_composers': []},\n",
       " 'm_3107': {'movie_id': 'm_3107', 'title': '怪獣総進撃', 'genres': ['Action', 'Science Fiction', 'Thriller', 'Horror'], 'production_countries': ['JP'], 'collection_name': 'Godzilla (Showa) Collection', 'release_year': '1968', 'actors': ['Akira Kubo', 'Jun Tazaki', 'Yukiko Kobayashi', 'Yoshio Tsuchiya', 'Kyôko Ai', 'Andrew Hughes', 'Chôtarô Tôgin', 'Yoshifumi Tajima', 'Kenji Sahara', 'Hisaya Itô', 'Yoshio Katsuda', 'Heihachirô Ôkawa', 'Ikio Sawamura', 'Yutaka Sada', 'Hiroshi Okada', 'Hideo Shibuya', 'Nadao Kirino', 'Yutaka Oka', 'Kamayuki Tsubono', 'Seishirô Kuno', \"Ken'ichirô Maruyama\", 'Kenzo Echigo', 'Wataru Ômae', 'Naoya Kusakawa', 'Kazuo Suzuki', 'Tôru Ibuki', 'Susumu Kurobe', 'Minoru Itô', 'Rinsaku Ogata', 'Haruya Sakamoto', 'Yukihiko Gondô', 'Rei Maki', 'Masaaki Tachibana', 'Saburô Iketani', 'Atsuko Takahashi', 'Yoshio Miyata', 'Ari Segawa', 'Kyoko Mori', 'Midori Uchiyama', 'Wakako Tanabe', 'Michiko Ishii', 'Haruo Nakajima', 'Yû Sekita', 'Teruo Nigaki', 'Susumu Utsumi', \"'Little Man' Machan\"], 'directors': ['Ishirô Honda', 'Seiji Tani'], 'screenwriters': ['Akira Ifukube'], 'music_composers': ['Ishirô Honda', 'Takeshi Kimura']},\n",
       " 'm_51540': {'movie_id': 'm_51540', 'title': 'Horrible Bosses', 'genres': ['Comedy', 'Crime'], 'production_countries': ['US'], 'collection_name': 'Horrible Bosses Collection', 'release_year': '2011', 'actors': ['Jennifer Aniston', 'Jason Bateman', 'Charlie Day', 'Jason Sudeikis', 'Colin Farrell', 'Jamie Foxx', 'Donald Sutherland', 'Lindsay Sloane', 'John Francis Daley', 'Kevin Spacey', 'Julie Bowen', 'Meghan Markle', 'Steve Wiebe', 'Michael Albala', 'Jennifer Hasty', 'Reginald Ballard', 'George Back', 'Barry Livingston', 'Celia Finkelstein', 'P. J. Byrne'], 'directors': ['Seth Gordon'], 'screenwriters': ['Christopher Lennertz'], 'music_composers': ['John Francis Daley', 'Michael Markowitz', 'Jonathan M. Goldstein']},\n",
       " 'm_4641': {'movie_id': 'm_4641', 'title': 'Read It and Weep', 'genres': ['Comedy', 'Drama', 'Family', 'TV Movie'], 'production_countries': ['US'], 'collection_name': '', 'release_year': '2006', 'actors': ['Kay Panabaker', 'Danielle Panabaker', 'Allison Scagliotti', 'Marquise Brown', 'Alexandra Krosney', 'Jason Dolley', 'Chad Broskey', 'Tom Virtue', 'Connie Young', 'Robin Riker'], 'directors': ['Paul Hoen'], 'screenwriters': ['Danny Lux'], 'music_composers': []},\n",
       " 'm_36519': {'movie_id': 'm_36519', 'title': 'Payment Deferred', 'genres': ['Crime', 'Thriller'], 'production_countries': ['US'], 'collection_name': '', 'release_year': '1932', 'actors': ['Charles Laughton', \"Maureen O'Sullivan\", 'Dorothy Peterson', 'Verree Teasdale', 'Ray Milland', 'Billy Bevan', 'Halliwell Hobbes', 'William Stack'], 'directors': ['Lothar Mendes'], 'screenwriters': [], 'music_composers': ['Claudine West', 'Ernest Vajda']},\n",
       " 'm_49530': {'movie_id': 'm_49530', 'title': 'In Time', 'genres': ['Action', 'Thriller', 'Science Fiction'], 'production_countries': ['US'], 'collection_name': '', 'release_year': '2011', 'actors': ['Justin Timberlake', 'Amanda Seyfried', 'Cillian Murphy', 'Olivia Wilde', 'Alex Pettyfer', 'Johnny Galecki', 'Matt Bomer', 'Vincent Kartheiser', 'Yaya DaCosta', 'Toby Hemingway', 'Bella Heathcote', 'Shyloh Oostwald', 'Emma Fitzpatrick', 'Will Harris', 'Michael William Freeman', 'Jesse Lee Soffer', 'Aaron Perilo', 'Zuleyka Silver', 'Colin McGurk', 'Laura Ashley Samuels', 'Ray Santiago', 'William Peltz', 'Christiann Castellanos', 'Abhi Sinha', 'Maximilian Osinski', 'Kristopher Higgins'], 'directors': ['Andrew Niccol'], 'screenwriters': ['Craig Armstrong'], 'music_composers': ['Andrew Niccol']},\n",
       " 'm_47099': {'movie_id': 'm_47099', 'title': 'Tueur à gages', 'genres': [], 'production_countries': ['FR', 'KZ'], 'collection_name': '', 'release_year': '1998', 'actors': [], 'directors': ['Darezhan Omirbayev'], 'screenwriters': [], 'music_composers': []},\n",
       " 'm_1254': {'movie_id': 'm_1254', 'title': \"Je vais bien, ne t'en fais pas\", 'genres': ['Drama'], 'production_countries': ['FR'], 'collection_name': '', 'release_year': '2006', 'actors': ['Mélanie Laurent', 'Kad Merad', 'Isabelle Renauld', 'Julien Boisselier', 'Thibault de Montalembert', 'Mickael Trodoux', 'Simon Buret', 'Aïssa Maïga', 'Flore Vannier-Moreau', 'Blandine Pélissier'], 'directors': ['Philippe Lioret'], 'screenwriters': ['Nicola Piovani'], 'music_composers': []},\n",
       " 'm_2349': {'movie_id': 'm_2349', 'title': 'Erbsen auf halb 6', 'genres': ['Drama'], 'production_countries': ['DE'], 'collection_name': '', 'release_year': '2004', 'actors': ['Fritzi Haberlandt', 'Tina Engel', 'Harald Schrott', 'Jenny Gröllmann', 'Alice Dwyer', 'Max Mauff', 'Annett Renneberg', 'Jens Münchow', 'Petra Hartung', 'Jens Peter Brose', 'Aksana Assmann', 'Imke Büchel', 'Mario Winkelmann', 'Dustin Semmelrogge', 'Ina Holst', 'Jens Peter Brose', 'Matthias Brenner', 'Claudia Dibbern', 'Samantha Viana', 'Christelle Gilles', 'Jodie Ahlborn', 'Cecile Harke', 'Reinhard Wegner', 'Matthias Zelic', 'Heinz Petters', 'Hilmir Snær Guðnason', 'Michael Hanemann'], 'directors': ['Lars Büchel'], 'screenwriters': [], 'music_composers': ['Ruth Toma', 'Lars Büchel']},\n",
       " 'm_8368': {'movie_id': 'm_8368', 'title': 'The Garden of Eden', 'genres': ['Drama'], 'production_countries': ['GB'], 'collection_name': '', 'release_year': '2008', 'actors': ['Jack Huston', 'Mena Suvari', 'Carmen Maura', 'Richard E. Grant', 'Caterina Murino', 'Matthew Modine', 'Isabella Orlowska'], 'directors': ['John Irvin'], 'screenwriters': [], 'music_composers': ['James Scott Linville']},\n",
       " 'm_3051': {'movie_id': 'm_3051', 'title': 'Eye of the Devil', 'genres': ['Crime', 'Horror', 'Mystery'], 'production_countries': ['GB'], 'collection_name': '', 'release_year': '1966', 'actors': ['Deborah Kerr', 'David Niven', 'Sharon Tate', 'David Hemmings', 'Donald Pleasence', 'Edward Mulhare', 'Flora Robson', 'John Le Mesurier', 'Emlyn Williams', 'Michael Miller', 'Donald Bisset', 'Pauline Letts', 'Robert Duncan', 'Suky Appleby'], 'directors': ['J. Lee Thompson'], 'screenwriters': ['Gary McFarland'], 'music_composers': ['Robin Estridge', 'Dennis Murphy']},\n",
       " 'm_2929': {'movie_id': 'm_2929', 'title': 'Frankenstein', 'genres': ['Horror', 'Science Fiction'], 'production_countries': ['US'], 'collection_name': '', 'release_year': '1910', 'actors': ['Mary Fuller', 'Charles Ogle', 'Augustus Phillips'], 'directors': ['J. Searle Dawley'], 'screenwriters': [], 'music_composers': ['J. Searle Dawley']},\n",
       " 'm_77561': {'movie_id': 'm_77561', 'title': 'EVA', 'genres': ['Science Fiction'], 'production_countries': ['ES'], 'collection_name': '', 'release_year': '2011', 'actors': ['Daniel Brühl', 'Alberto Ammann', 'Lluís Homar', 'Anne Canovas', 'Claudia Vega', 'Sara Rosa Losilla', 'Manel Dueso', 'Jordi Díaz', 'Marta Etura ', 'Ona Casamiquela', 'Peter Vives', 'Oscar Valsecchi', 'Bernat Saumell', 'Juan Campavadal', 'Harris Gordon'], 'directors': ['Kike Maíllo'], 'screenwriters': [], 'music_composers': []},\n",
       " 'm_3556': {'movie_id': 'm_3556', 'title': 'Mad Dog Coll', 'genres': ['Crime', 'Drama'], 'production_countries': ['US'], 'collection_name': '', 'release_year': '1961', 'actors': ['John Davis Chandler', 'Kay Doubleday', 'Brooke Hayward', 'Neil Nephew', 'Jerry Orbach', 'Telly Savalas', 'Vincent Gardenia'], 'directors': ['Burt Balaban'], 'screenwriters': ['Stu Phillips'], 'music_composers': ['Leo Lieberman', 'Edward Schreiber']},\n",
       " 'm_85414': {'movie_id': 'm_85414', 'title': 'Brake', 'genres': ['Action', 'Thriller'], 'production_countries': ['US'], 'collection_name': '', 'release_year': '2012', 'actors': ['Stephen Dorff', 'Chyler Leigh', 'JR Bourne', 'Tom Berenger', 'Kali Rocha', 'Kent Shocknek', 'Jaylen Moore', 'Stephen J. Bridgewater', 'Matthew Pollino', 'Jason Raphael', 'Sammy Sheik', 'Pruitt Taylor Vince', 'Mark Wallace'], 'directors': ['Gabe Torres'], 'screenwriters': [], 'music_composers': []},\n",
       " 'm_1556': {'movie_id': 'm_1556', 'title': '薔薇の葬列', 'genres': ['Drama'], 'production_countries': ['JP'], 'collection_name': '', 'release_year': '1969', 'actors': ['Pîtâ', 'Osamu Ogasawara', 'Yoshio Tsuchiya', 'Emiko Azuma', 'Yoshihiro Katô', 'Koichi Nakamura', 'Masato Hara'], 'directors': ['Toshio Matsumoto'], 'screenwriters': ['Jôji Yuasa'], 'music_composers': ['Toshio Matsumoto']},\n",
       " 'm_40629': {'movie_id': 'm_40629', 'title': 'The Mikado', 'genres': ['Drama', 'Comedy', 'Music', 'Romance', 'Foreign'], 'production_countries': [], 'collection_name': '', 'release_year': '1987', 'actors': ['Eric Idle'], 'directors': [], 'screenwriters': [], 'music_composers': []},\n",
       " 'm_96821': {'movie_id': 'm_96821', 'title': 'Cesare deve morire', 'genres': ['Drama', 'Documentary'], 'production_countries': ['IT'], 'collection_name': '', 'release_year': '2012', 'actors': ['Cosimo Rega', 'Salvatore Striano', 'Giovanni Arcuri', 'Antonio Frasca', 'J. Dario Bonetti', 'Vincenzo Gallo'], 'directors': ['Paolo Taviani', 'Vittorio Taviani'], 'screenwriters': [], 'music_composers': ['Paolo Taviani']},\n",
       " 'm_160': {'movie_id': 'm_160', 'title': \"L'arrivée d'un train en gare de La Ciotat\", 'genres': ['Documentary'], 'production_countries': ['FR'], 'collection_name': '', 'release_year': '1896', 'actors': ['Jeanne-Joséphine Lumière'], 'directors': ['Auguste Lumière', 'Louis Lumière'], 'screenwriters': [], 'music_composers': []},\n",
       " 'm_89492': {'movie_id': 'm_89492', 'title': 'This Is 40', 'genres': ['Comedy'], 'production_countries': ['US'], 'collection_name': '', 'release_year': '2012', 'actors': ['Paul Rudd', 'Leslie Mann', 'Jason Segel', 'Maude Apatow', 'Megan Fox', 'Lena Dunham', 'Melissa McCarthy', 'Charlyne Yi', 'John Lithgow', 'Robert Smigel', 'Albert Brooks', \"Chris O'Dowd\", 'Annie Mumolo', 'Billie Joe Armstrong', 'Iris Apatow', 'Michael Ian Black', 'Wyatt Russell', 'Tom Yi', 'Tim Bagley', 'Ava Sambora', 'Graham Parker', 'Megan Grano', 'Derek Basco', 'Nicol Paone', 'Lynne Alana Delaney', 'Katia Kieling'], 'directors': ['Judd Apatow'], 'screenwriters': ['Jon Brion'], 'music_composers': ['Judd Apatow']},\n",
       " 'm_46972': {'movie_id': 'm_46972', 'title': \"Big Girls Don't Cry... They Get Even\", 'genres': ['Comedy', 'Drama', 'Family'], 'production_countries': [], 'collection_name': '', 'release_year': '1992', 'actors': ['Griffin Dunne', 'Dan Futterman', 'Patricia Kalember', 'Jenny Lewis', 'Ben Savage', 'Jessica Seely', 'Adrienne Shelly', 'David Strathairn', 'Trenton Teigen', 'Margaret Whitton', 'Hillary Wolf'], 'directors': ['Joan Micklin Silver'], 'screenwriters': [], 'music_composers': ['Frank Mugavero']},\n",
       " 'm_3146': {'movie_id': 'm_3146', 'title': 'Furankenshutain no Kaijū: Sanda tai Gaira', 'genres': ['Action', 'Horror', 'Science Fiction'], 'production_countries': ['JP'], 'collection_name': '', 'release_year': '1966', 'actors': ['Russ Tamblyn', 'Kumi Mizuno', 'Kenji Sahara', 'Nobuo Nakamura', 'Jun Tazaki', 'Hisaya Itô', 'Yoshifumi Tajima', 'Ren Yamamoto', 'Kipp Hamilton', 'Kôzô Nomura', 'Nadao Kirino', 'Shôichi Hirose', 'Tadashi Okabe', 'Kôji Uno', 'Ikio Sawamura', 'Seishirô Kuno', 'Someshô Matsumoto', 'Haruo Nakajima', 'Yû Sekita'], 'directors': ['Ishirô Honda'], 'screenwriters': ['Akira Ifukube'], 'music_composers': ['Ishirô Honda', 'Takeshi Kimura']},\n",
       " 'm_3052': {'movie_id': 'm_3052', 'title': \"Don't Make Waves\", 'genres': ['Comedy'], 'production_countries': ['US'], 'collection_name': '', 'release_year': '1967', 'actors': ['Tony Curtis', 'Claudia Cardinale', 'Sharon Tate', 'Robert Webber', 'Joanna Barnes', 'David Draper'], 'directors': ['Alexander Mackendrick'], 'screenwriters': ['Vic Mizzy'], 'music_composers': ['Maurice Richlin', 'George Kirgo']},\n",
       " 'm_2966': {'movie_id': 'm_2966', 'title': '20,000 Leagues Under the Sea', 'genres': ['Adventure', 'Fantasy', 'Action', 'Science Fiction'], 'production_countries': ['AU', 'US'], 'collection_name': '', 'release_year': '1997', 'actors': ['Michael Caine', 'Mia Sara', 'Bryan Brown', 'John Bach', 'Nicholas Hammond', 'Peter McCauley', 'Kerry Armstrong', 'Patrick Dempsey', 'Adewale Akinnuoye-Agbaje', 'Cecily Chun', 'Ken Senga', 'Gerry Day', 'Steven Grives', 'Boe Kaan', 'Damian Monk', 'Jeff Dornan', 'Gabriel Carr', 'Peter Settle', 'Peter Scheidel', 'Duke Bannister', 'Christopher Pate', 'Cal Rein', 'Bryon Williams'], 'directors': ['Rod Hardy'], 'screenwriters': ['Mark Snow'], 'music_composers': ['Brian Nelson']},\n",
       " 'm_3160': {'movie_id': 'm_3160', 'title': 'Furankenshutain Tai Chitei Kaijū Baragon', 'genres': ['Horror', 'Science Fiction'], 'production_countries': ['JP'], 'collection_name': '', 'release_year': '1965', 'actors': ['Tadao Takashima', 'Nick Adams', 'Kumi Mizuno', 'Yoshio Tsuchiya', 'Jun Tazaki', 'Susumu Fujita', 'Takashi Shimura', 'Nobuo Nakamura', 'Kenji Sahara', 'Yoshifumi Tajima', 'Kôzô Nomura', 'Haruya Katô', 'Ikio Sawamura', 'Yoshio Kosugi', 'Keiko Sawai', 'Noriko Takahashi', 'Peter Mann', 'Ren Yamamoto', 'Yutaka Sada', 'Hisaya Itô', 'Kenzô Tabu', 'Shigeki Ishida', 'Nadao Kirino', 'Yutaka Nakayama', 'Senkichi Ômura', 'Tadashi Okabe', 'Toshihiko Furuta', 'Kenichiro Kawaji', 'Hideaki Nitani', 'Shin Ôtomo', 'Shôichi Hirose', 'Hideo Shibuya', 'Saburô Iketani', 'Koji Furuhata', 'Haruo Nakajima'], 'directors': ['Ishirô Honda'], 'screenwriters': ['Akira Ifukube'], 'music_composers': ['Takeshi Kimura', 'Jerry Sohl']},\n",
       " 'm_56949': {'movie_id': 'm_56949', 'title': 'El viento se llevó lo qué', 'genres': [], 'production_countries': ['AR', 'FR', 'NL', 'ES'], 'collection_name': '', 'release_year': '1998', 'actors': ['Vera Fogwill', 'Fabián Vena', 'Ángela Molina', 'Jean Rochefort', 'Ulises Dumont'], 'directors': ['Alejandro Agresti'], 'screenwriters': [], 'music_composers': []},\n",
       " 'm_2072': {'movie_id': 'm_2072', 'title': 'Cyberjack', 'genres': ['Action', 'Science Fiction', 'Thriller'], 'production_countries': ['CA'], 'collection_name': '', 'release_year': '1995', 'actors': ['Michael Dudikoff', 'Suki Kaiser', 'Brion James', 'James Thom', 'Topaz Hasfal-Schou', 'Garvin Cross', 'Dean Mckenzie', 'Duncan Fraser', 'Johnny Cuthbert'], 'directors': ['Robert Lee'], 'screenwriters': ['George Blondheim'], 'music_composers': ['Eric Poppen']},\n",
       " 'm_8985': {'movie_id': 'm_8985', 'title': 'Visions of Europe', 'genres': ['Comedy', 'Drama'], 'production_countries': ['AT', 'BE', 'CY', 'CZ', 'DK', 'EE', 'FI', 'FR', 'DE', 'GR', 'HU', 'IE', 'IT', 'LV', 'LT', 'LU', 'MT', 'NL', 'PL', 'PT', 'SK', 'SI', 'ES', 'SE', 'GB'], 'collection_name': '', 'release_year': '2004', 'actors': ['Safia Aggoune', 'Abel Alves', 'Benzirar Baroudi', 'Ina-Marija Bartare'], 'directors': ['Aki Kaurismäki', 'Barbara Albert', 'Fatih Akin', 'Theo van Gogh', 'Peter Greenaway', 'Tony Gatlif', 'Jan Troell', 'Stijn Coninx', 'Béla Tarr', 'Ágnes Hranitzky', 'Šarūnas Bartas', 'Damjan Kozole', 'Aisling Walsh', 'Christos Georgiou', 'Christoffer Boe', 'Francesca Comencini', 'Martin Šulík', 'Teresa Villaverde', 'Sasa Gedeon', 'Małgorzata Szumowska', 'Constantine Giannaris', 'Miguel Hermoso', 'Andy Bausch', 'Arvo Iho', 'Laila Pakalnina', 'Kenneth Scicluna'], 'screenwriters': [], 'music_composers': []},\n",
       " 'm_54272': {'movie_id': 'm_54272', 'title': '座頭市関所破り', 'genres': ['Adventure', 'Action', 'Drama'], 'production_countries': ['JP'], 'collection_name': 'Zatôichi: The Blind Swordsman', 'release_year': '1964', 'actors': ['Shintarô Katsu', 'Miwa Takada', 'Eiko Taki', 'Kichijirô Ueda', 'Daimaru', 'Mikijiro Hira', 'Gen Kimura', 'Akitake Kôno', 'Kôichi Mizuhara', 'Ikuko Môri', 'Rocket Nakata', 'Teruko Omi'], 'directors': ['Kimiyoshi Yasuda'], 'screenwriters': [], 'music_composers': []},\n",
       " 'm_5995': {'movie_id': 'm_5995', 'title': 'Miffo', 'genres': ['Comedy', 'Drama'], 'production_countries': ['SE'], 'collection_name': '', 'release_year': '2003', 'actors': ['Jonas Karlsson', 'Livia Millhagen', 'Ingvar Hirdwall', 'Kajsa Ernst', 'Liv Mjönes', 'Fyr Thorvald Strömberg', 'Isa Aouifia', 'Carina Boberg', 'Malin Crépin'], 'directors': ['Daniel Lind Lagerlöf'], 'screenwriters': ['Paul Bothén'], 'music_composers': ['Daniel Lind Lagerlöf', 'Malin Lind Lagerlöf']},\n",
       " 'm_84152': {'movie_id': 'm_84152', 'title': 'Dollman vs. Demonic Toys', 'genres': ['Horror', 'Thriller', 'Science Fiction', 'Action', 'Fantasy'], 'production_countries': ['US'], 'collection_name': 'Demonic Toys Collection', 'release_year': '1993', 'actors': ['Tim Thomerson', 'Tracy Scoggins', 'Melissa Behr', 'Phil Fondacaro', 'R.C. Bates', 'Willie C. Carpenter', 'Peter Chen'], 'directors': ['Charles Band'], 'screenwriters': ['Richard Band', 'Anthony Riparetti'], 'music_composers': []},\n",
       " 'm_1732': {'movie_id': 'm_1732', 'title': 'The Prisoner of Zenda', 'genres': ['Action', 'Adventure', 'Comedy'], 'production_countries': ['US'], 'collection_name': '', 'release_year': '1979', 'actors': ['Peter Sellers', 'Stuart Wilson', 'Lynne Frederick', 'Elke Sommer', 'Gregory Sierra', 'Catherine Schell', 'Jeremy Kemp', 'John Laurie', 'Ian Abercrombie'], 'directors': ['Richard Quine'], 'screenwriters': ['Henry Mancini'], 'music_composers': ['Dick Clement', 'Ian La Frenais']},\n",
       " 'm_44022': {'movie_id': 'm_44022', 'title': 'Bandido!', 'genres': ['Action', 'Western'], 'production_countries': ['US'], 'collection_name': '', 'release_year': '1956', 'actors': ['Robert Mitchum', 'Ursula Thiess', 'Gilbert Roland', 'Zachary Scott', 'Rodolfo Acosta', 'José Torvay', 'Henry Brandon', 'Douglas Fowley'], 'directors': ['Richard Fleischer'], 'screenwriters': ['Max Steiner'], 'music_composers': []},\n",
       " 'm_2692': {'movie_id': 'm_2692', 'title': 'Der rote Elvis', 'genres': ['Documentary'], 'production_countries': ['DE'], 'collection_name': '', 'release_year': '2007', 'actors': ['Dean Reed', 'Armin Mueller-Stahl', 'Celino Bleiweiß', 'Peter Boyles', 'Egon Krenz', 'Will Roberts', 'Wiebke Reed', 'Nils Düwell', 'Isabel Allende', 'Susanne Kliemsch', 'Renate Blume', 'Günter Reisch'], 'directors': ['Leopold Grün'], 'screenwriters': [], 'music_composers': ['Leopold Grün']},\n",
       " 'm_1285': {'movie_id': 'm_1285', 'title': 'Torrente 3: El protector', 'genres': ['Comedy', 'Crime'], 'production_countries': ['ES'], 'collection_name': 'Torrente Collection', 'release_year': '2005', 'actors': ['Santiago Segura', 'Yvonne Sciò', 'Javier Gutiérrez', 'José Mota', 'Tony Leblanc', 'Enrique Villén', 'Oliver Stone', 'Fabio Testi', 'Jimmy Barnatán', 'Juan Joya Borja', 'Carlos Latre', 'Xavier Deltell', 'Jaime Ordóñez', 'José María Rubio', 'Pablo Pinedo', 'Andreu Buenafuente', 'Cañita Brava', 'Helga Liné', 'John Landis'], 'directors': ['Santiago Segura'], 'screenwriters': [], 'music_composers': ['Santiago Segura']},\n",
       " 'm_256': {'movie_id': 'm_256', 'title': 'Antoine et Colette', 'genres': ['Drama'], 'production_countries': ['FR'], 'collection_name': 'The Adventures of Antoine Doinel', 'release_year': '1962', 'actors': ['Jean-Pierre Léaud', 'Marie-France Pisier', 'Rosy Varte', 'François Darbon', 'Patrick Auffay', 'Jean-François Adam'], 'directors': ['François Truffaut'], 'screenwriters': ['Georges Delerue'], 'music_composers': []},\n",
       " 'm_2089': {'movie_id': 'm_2089', 'title': 'Cutaway', 'genres': ['Action', 'Thriller'], 'production_countries': ['US'], 'collection_name': '', 'release_year': '2000', 'actors': ['Tom Berenger', 'Stephen Baldwin', 'Dennis Rodman', 'Maxine Bahns', 'Ron Silver', 'Roy Ageloff', 'Marcos A. Ferraez', 'Adam Wylie', 'Thomas Ian Nicholas', 'Casper Van Dien'], 'directors': ['Guy Manos'], 'screenwriters': ['Larry Brown'], 'music_composers': ['Greg Manos', 'Guy Manos', 'Ted Williams']},\n",
       " 'm_56152': {'movie_id': 'm_56152', 'title': 'Brigham Young', 'genres': ['History', 'Romance', 'Western'], 'production_countries': ['US'], 'collection_name': '', 'release_year': '1940', 'actors': ['Tyrone Power', 'Linda Darnell', 'Dean Jagger', 'Brian Donlevy', 'Jane Darwell', 'John Carradine', 'Mary Astor', 'Vincent Price', 'Jean Rogers', 'Ann Todd', 'Willard Robertson', 'Moroni Olsen', 'Marc Lawrence', 'Stanley Andrews', 'Frank M. Thomas', 'Fuzzy Knight', 'Dickie Jones', 'Selmer Jackson', 'Frederick Burton', 'Arthur Aylesworth', 'Chief John Big Tree', 'Davison Clark', 'Claire Du Brey', 'Tully Marshall', 'Dick Rich', 'Edwin Maxwell', 'Ralph Dunn', 'Edmund MacDonald', 'George Melford', 'Russell Simpson', 'Paul E. Burns', 'Cliff Clark', 'Edmund Elton', 'Jody Gilbert', 'William Haade', 'Herbert Heywood', 'Cammilla Johnson', 'Cullen Johnson', 'Payne B. Johnson', 'David Kirkland', 'Bob Kortman', 'Paul Kruger', 'Ann Kunde', 'Frank LaRue', 'Charles Frederick Lindsley', 'Tom London', 'Murdock MacQuarrie', 'Louis Mason', 'Charles Middleton', 'Frank Mills', 'Philip Morris', 'Imboden Parrish', 'Ruth Robinson', 'John Roy', 'Frank Shannon', 'Lee Shumway', 'Harry Tyler', 'Eddy Waller', 'Cecil Weston', 'Blackie Whiteford', 'Hank Worden'], 'directors': ['Henry Hathaway'], 'screenwriters': ['Alfred Newman', 'Cyril J. Mockridge', 'David Buttolph', 'Robert Russell Bennett'], 'music_composers': ['Lamar Trotti']},\n",
       " 'm_2139': {'movie_id': 'm_2139', 'title': 'Cleopatra Jones and the Casino of Gold', 'genres': ['Action', 'Adventure', 'Drama'], 'production_countries': ['HK', 'US'], 'collection_name': 'Cleopatra Jones', 'release_year': '1975', 'actors': ['Tamara Dobson', 'Stella Stevens', 'Norman Fell', 'Tanny Tien-Ni', 'Albert Popwell', 'Caro Kenyatta', 'Shen Chan', 'Christopher Hunt', 'Lin Chen-Chi', 'Locke Hua Liu'], 'directors': ['Charles Bail'], 'screenwriters': ['Dominic Frontiere'], 'music_composers': ['William Tennant']},\n",
       " 'm_2699': {'movie_id': 'm_2699', 'title': 'Titanic', 'genres': ['Action', 'Drama', 'Romance'], 'production_countries': ['CA', 'US'], 'collection_name': '', 'release_year': '1996', 'actors': ['Peter Gallagher', 'George C. Scott', 'Catherine Zeta-Jones', 'Eva Marie Saint', 'Tim Curry', 'Roger Rees', 'Harley Jane Kozak', 'Marilu Henner', 'Mike Doyle', 'Sonsee Neu', 'Felicity Waterman', 'Malcolm Stewart', 'Kevin McNulty', 'Kavan Smith', 'Terence Kelly', 'Scott Hylands', 'Janne Mortil', 'Tamsin Kelsey', 'Eric Keenleyside', 'Kevin Conway', 'Devon Hoholuk', 'Crystal Verge', 'Bernard Cuffling', 'Barry Pepper', 'Matt Hill', 'Don MacKay', 'Stephen Dimopoulos', 'Matthew Walker', 'Chris Humphreys', 'Gerard Plunkett', 'Molly Parker', 'Hagan Beggs', 'Brent Stait', 'Aaron Pearl', 'Byron Lucas', 'Ron Halder', 'Eric Michael Roy', 'Gavin Craig', 'Janie Woods-Morris', 'Peter Haworth', 'Martin Evans', 'Katharine Isabelle', 'Lachlan Murdoch', 'Doug Abrahams', 'Robin Driscoll', 'Tina Fiorda', 'Cindy Girling', 'Kim Kondrashoff', 'Richard Lautsch', 'John Tench', 'Shaina Tianne Unger', 'Dale Wilson'], 'directors': ['Robert Lieberman'], 'screenwriters': ['Lennie Niehaus'], 'music_composers': ['Ross LaManna', 'Joyce Eliason']},\n",
       " 'm_4226': {'movie_id': 'm_4226', 'title': 'Shriek If You Know What I Did Last Friday the Thirteenth', 'genres': ['Comedy'], 'production_countries': ['US'], 'collection_name': '', 'release_year': '2000', 'actors': ['Aimee Graham', 'Chris Palermo', 'Kim Greist', 'Harley Cross', 'Simon Rex', 'Coolio', 'Danny Strong', 'Julie Benz', 'Majandra Delfino', 'Steven Anthony Lawrence', 'Tiffani Thiessen', 'Tom Arnold', 'Mink Stole', 'Artie Lange', 'Shirley Jones', 'Jimmie Walker'], 'directors': ['John Blanchard'], 'screenwriters': ['Tyler Bates'], 'music_composers': ['Sue Bailey', 'Joe Nelms']},\n",
       " 'm_4344': {'movie_id': 'm_4344', 'title': 'Hotel Very Welcome', 'genres': ['Comedy', 'Drama', 'Family', 'Foreign', 'Horror'], 'production_countries': ['DE'], 'collection_name': '', 'release_year': '2007', 'actors': ['Svenja Steinfelder', 'Eva Löbau', \"Chris O'Dowd\", 'Ricky Champ', 'Gareth Llewelyn', 'Jinde Khan', 'Martin Löschmann', 'Zorana Musikic', 'Jado Alagad John', 'Nathalie Sorrell', 'Gabriel Kashin'], 'directors': ['Sonja Heiss'], 'screenwriters': ['Christian García'], 'music_composers': ['Sonja Heiss', 'Nikolai von Graevenitz']},\n",
       " 'm_3686': {'movie_id': 'm_3686', 'title': 'Winnetou II', 'genres': ['Western'], 'production_countries': ['DE', 'HR', 'IT', 'FR'], 'collection_name': 'Winnetou Collection', 'release_year': '1964', 'actors': ['Lex Barker', 'Pierre Brice', 'Anthony Steel', 'Karin Dor', 'Klaus Kinski', 'Renato Baldini', 'Terence Hill', 'Marie-Noëlle Barre', 'Eddi Arent', 'Gojko Mitić'], 'directors': ['Harald Reinl'], 'screenwriters': ['Martin Böttcher'], 'music_composers': ['Harald G. Petersson']},\n",
       " 'm_2648': {'movie_id': 'm_2648', 'title': '新最佳拍檔', 'genres': ['Action'], 'production_countries': ['HK'], 'collection_name': 'Aces Go Places Collection', 'release_year': '1989', 'actors': ['Samuel Hui', 'Karl Maka', 'Leslie Cheung', 'Nina Li Chi', 'Conan Lee', 'Ha Chi-Jan', 'Lu Yan', 'Walter Tso Tat-Wah', 'Ellen Chan', 'Danny Lee Sau-Yin', 'Roy Cheung', 'Maria Cordero', 'Deborah Grant', 'Mark Houghton', 'Melvin Wong', 'Fennie Yuen'], 'directors': ['Liu Chia-Liang'], 'screenwriters': [], 'music_composers': ['Liu Chia-Liang']},\n",
       " 'm_1260': {'movie_id': 'm_1260', 'title': 'Leiutajateküla Lotte', 'genres': ['Adventure', 'Animation', 'Comedy', 'Family'], 'production_countries': [], 'collection_name': '', 'release_year': '2006', 'actors': ['Evelin Võigemast', 'Argo Aadli', 'Andero Ermel', 'Lembit Ulfsak', 'Garmen Tabor', 'Marko Matvere', 'Piret Kalda', 'Peeter Oja', 'Elina Reinold', 'Harriet Toompere', 'Mait Malmsten', 'Margus Tabor', 'Aarne Üksküla', 'Peeter Tammearu'], 'directors': [], 'screenwriters': [], 'music_composers': []},\n",
       " 'm_2186': {'movie_id': 'm_2186', 'title': 'Within the Woods', 'genres': ['Horror'], 'production_countries': ['US'], 'collection_name': '', 'release_year': '1978', 'actors': ['Bruce Campbell', 'Ellen Sandweiss', 'Scott Spiegel', 'Mary Valenti'], 'directors': ['Sam Raimi'], 'screenwriters': [], 'music_composers': []},\n",
       " 'm_41571': {'movie_id': 'm_41571', 'title': 'The Heart of the World', 'genres': ['Science Fiction', 'Drama'], 'production_countries': ['CA'], 'collection_name': '', 'release_year': '2000', 'actors': ['Leslie Bais', 'Caelum Vatnsdal', 'Shaun Balbar', 'Greg Klymkiw', 'Tammy Gillis', 'Carson Nattrass'], 'directors': ['Guy Maddin'], 'screenwriters': [], 'music_composers': []},\n",
       " 'm_92': {'movie_id': 'm_92', 'title': 'Megacities', 'genres': ['Documentary'], 'production_countries': ['AT'], 'collection_name': '', 'release_year': '1998', 'actors': ['Shankar Loutakke'], 'directors': ['Michael Glawogger'], 'screenwriters': [], 'music_composers': []},\n",
       " 'm_3168': {'movie_id': 'm_3168', 'title': 'Ballo a tre passi', 'genres': ['Drama'], 'production_countries': ['IT'], 'collection_name': '', 'release_year': '2003', 'actors': ['Yaël Abecassis', 'Michele Carboni', 'Caroline Ducey'], 'directors': ['Salvatore Mereu'], 'screenwriters': [], 'music_composers': []},\n",
       " 'm_44191': {'movie_id': 'm_44191', 'title': 'Loose Screws', 'genres': ['Comedy'], 'production_countries': ['CA'], 'collection_name': 'Screwballs Collection', 'release_year': '1985', 'actors': ['Bryan Genesse', 'Lance Van Der Kolk', 'Alan Deveau', 'Jason Warren', 'Annie McAuley', 'Karen Wood', 'Liz Green', 'Mike MacDonald', 'Cynthia Belliveau', 'Deborah Lobban', 'Carolyn Tweedle', 'Stephanie Sulik', 'Terrea Smith', 'Wayne Fleming', 'C.J. Fidler'], 'directors': ['Rafal Zielinski'], 'screenwriters': ['Fred Mollin'], 'music_composers': ['Michael Cory']},\n",
       " 'm_37727': {'movie_id': 'm_37727', 'title': 'Jönssonligan får guldfeber', 'genres': ['Comedy'], 'production_countries': ['DK', 'SE'], 'collection_name': 'Jönsson Gang', 'release_year': '1984', 'actors': ['Gösta Ekman', 'Ulf Brunnberg', 'Björn Gustafson', 'Birgitta Andersson', 'Per Grundén', 'Weiron Holmberg', 'Carl Billquist', 'Jan Waldekranz', 'Sten Ljunggren', 'Peter Harryson', 'Pia Green', 'Fredrik Ohlsson', 'Charlie Elvegård', 'Anna-Lotta Larsson', 'Jessica Zandén', 'Birger Malmsten', 'Carl-Lennart Fröbergh', 'Leif Ahrle', 'Björn Henricson', 'Gösta Engström'], 'directors': ['Mikael Ekman'], 'screenwriters': ['Ragnar Grippe'], 'music_composers': ['Rolf Börjlind']},\n",
       " 'm_2141': {'movie_id': 'm_2141', 'title': 'James Dean', 'genres': ['Drama'], 'production_countries': ['US'], 'collection_name': '', 'release_year': '2001', 'actors': ['James Franco', 'Michael Moriarty', 'Valentina Cervi', 'Enrico Colantoni', 'Joanne Linville', 'John Pleshette', 'Samuel Gould', 'Edward Herrmann', 'Ellen Gerstein', 'Lana Clarkson'], 'directors': ['Mark Rydell'], 'screenwriters': ['John Frizzell'], 'music_composers': ['Israel Horovitz']},\n",
       " 'm_3004': {'movie_id': 'm_3004', 'title': '12 + 1', 'genres': ['Comedy'], 'production_countries': ['FR', 'IT'], 'collection_name': '', 'release_year': '1969', 'actors': ['Sharon Tate', 'Vittorio Gassman', 'Orson Welles', 'Vittorio De Sica', 'Terry-Thomas', 'Ottavia Piccolo', 'Mylène Demongeot', 'William Rushton', 'Tim Brooke-Taylor', 'John Steiner', 'Lionel Jeffries'], 'directors': ['Nicolas Gessner'], 'screenwriters': ['Carlo Rustichelli', 'Stelvio Cipriani'], 'music_composers': []},\n",
       " 'm_2993': {'movie_id': 'm_2993', 'title': \"Una sull'altra\", 'genres': ['Mystery', 'Thriller'], 'production_countries': ['ES', 'IT', 'FR'], 'collection_name': '', 'release_year': '1969', 'actors': ['Marisa Mell', 'Jean Sorel', 'Elsa Martinelli', 'Alberto de Mendoza', 'John Ireland', 'Riccardo Cucciolla', 'Bill Vanders', 'Franco Balducci', 'Jean Sobieski', 'Faith Domergue', 'Roger Hanin', 'Bobby Rhodes', 'Lucio Fulci'], 'directors': ['Lucio Fulci'], 'screenwriters': [], 'music_composers': []},\n",
       " 'm_27706': {'movie_id': 'm_27706', 'title': 'Il medaglione insanguinato', 'genres': ['Horror'], 'production_countries': ['IT', 'GB'], 'collection_name': '', 'release_year': '1975', 'actors': ['Richard Johnson', 'Joanna Cassidy', 'Ida Galli', 'Edmund Purdom', 'Nicoletta Elmi', 'Lila Kedrova', 'Riccardo Garrone', 'Dana Ghia', 'Eleonora Morana', 'Tom Felleghy'], 'directors': ['Massimo Dallamano'], 'screenwriters': ['Stelvio Cipriani'], 'music_composers': []},\n",
       " 'm_8371': {'movie_id': 'm_8371', 'title': 'Guter Junge', 'genres': ['Drama'], 'production_countries': ['DE'], 'collection_name': '', 'release_year': '2008', 'actors': ['Klaus J. Behrendt', 'Sebastian Urzendowsky', 'Gabriela Maria Schmeide', 'Sandro Lohmann', 'Martin Brambach', 'Bernd Michael Lade', 'Matthias Brenner', 'Ulrike Bliefert'], 'directors': ['Torsten C. Fischer'], 'screenwriters': [], 'music_composers': ['Karl-Heinz Käfer']},\n",
       " 'm_1269': {'movie_id': 'm_1269', 'title': 'Neues vom Wixxer', 'genres': ['Comedy', 'Crime'], 'production_countries': ['DE'], 'collection_name': 'The Wixxer Trilogy', 'release_year': '2007', 'actors': ['Oliver Kalkofe', 'Bastian Pastewka', 'Joachim Fuchsberger', 'Christiane Paul', 'Christoph Maria Herbst', 'Martin Semmelrogge', 'Wolfgang Völz', 'Achim Mentzel', 'Oliver Welke', 'Christian Tramitz', 'Sonja Kirchberger', 'Judy Winter', 'Lars Rudolph', 'Hella von Sinnen', 'Chris Howland', 'Frank Zander', 'Bernd Clüver', 'Joy Fleming', 'Thomas Heinze', 'Roberto Blanco', 'Ingrid van Bergen', 'Michael Kessler'], 'directors': ['Cyrill Boss', 'Philipp Stennert'], 'screenwriters': [], 'music_composers': ['Oliver Kalkofe', 'Bastian Pastewka', 'Oliver Welke']},\n",
       " 'm_1616': {'movie_id': 'm_1616', 'title': 'Erkan & Stefan in Der Tod kommt krass', 'genres': ['Comedy'], 'production_countries': ['DE'], 'collection_name': 'Erkan & Stefan Filmreihe', 'release_year': '2005', 'actors': ['Stefan Lust', 'John Friedmann', 'Ludger Pistor', 'Andrea Sawatzki', 'Christoph Maria Herbst', 'Julia Dietze', 'Daniel Krauss'], 'directors': ['Michael Karen'], 'screenwriters': [], 'music_composers': []},\n",
       " 'm_46578': {'movie_id': 'm_46578', 'title': 'The Great American Girl Robbery', 'genres': ['Comedy', 'Crime'], 'production_countries': ['US'], 'collection_name': '', 'release_year': '1979', 'actors': ['Kristine DeBell', 'Jason Williams', 'Anthony Lewis', 'Wally Ann Wharton', 'Leslie King', 'Marilyn Joi', 'Janie Squire', 'Lenka Novak', 'Robert Houston', 'Leon Isaac Kennedy'], 'directors': ['Jeff Werner'], 'screenwriters': [], 'music_composers': []},\n",
       " 'm_88744': {'movie_id': 'm_88744', 'title': 'Die Frau mit den 5 Elefanten', 'genres': ['Documentary', 'Foreign'], 'production_countries': ['CH'], 'collection_name': '', 'release_year': '2010', 'actors': ['Svetlana Geier', 'Anna Götte', 'Hannelore Hagen', 'Jürgen Klodt', 'Johannes Geier', 'Fyodor Ivanovich Mikhaylov', 'Sofiya Nikolaevna Mikhaylova'], 'directors': ['Vadim Jendreyko'], 'screenwriters': [], 'music_composers': []},\n",
       " 'm_3701': {'movie_id': 'm_3701', 'title': 'Milano Rovente', 'genres': ['Action', 'Crime', 'Foreign', 'Thriller'], 'production_countries': ['IT'], 'collection_name': '', 'release_year': '1973', 'actors': ['Marisa Mell', 'Antonio Sabàto', 'Antonio Casagrande', 'Philippe Leroy', 'Carla Romanelli', 'Alessandro Sperli', 'Franco Fantasia', 'Piero Corbetta', 'Vittorio Pinelli'], 'directors': ['Umberto Lenzi'], 'screenwriters': ['Carlo Rustichelli'], 'music_composers': ['Franco Enna', 'Umberto Lenzi']},\n",
       " 'm_3699': {'movie_id': 'm_3699', 'title': 'Sette orchidee macchiate di rosso', 'genres': ['Mystery', 'Crime', 'Horror'], 'production_countries': ['DE', 'IT'], 'collection_name': '', 'release_year': '1972', 'actors': ['Antonio Sabàto', 'Uschi Glas', 'Marisa Mell', 'Pier Paolo Capponi', 'Rossella Falk', 'Renato Romano', 'Petra Schürmann', 'Marina Malfatti', 'Claudio Gora', 'Gabriella Giorgelli', 'Aldo Barberito', 'Bruno Corazzari', 'Franco Fantasia', 'Camille Keaton', 'Tom Felleghy', 'Ivana Novak'], 'directors': ['Umberto Lenzi'], 'screenwriters': ['Riz Ortolani'], 'music_composers': ['Umberto Lenzi', 'Roberto Gianviti', 'Paul Hengge']},\n",
       " 'm_74458': {'movie_id': 'm_74458', 'title': 'Mere Brother Ki Dulhan', 'genres': ['Drama', 'Comedy', 'Romance'], 'production_countries': ['IN'], 'collection_name': '', 'release_year': '2011', 'actors': ['Ali Zafar', 'Imran Khan', 'Katrina Kaif', \"Tara D'Souza\", 'Kyra Dutt', 'Parikshat Sahni', 'Mohammed Zeeshan Ayyub', 'Kanwaljit Singh'], 'directors': ['Ali Zafar'], 'screenwriters': [], 'music_composers': ['Ali Zafar']},\n",
       " 'm_5064': {'movie_id': 'm_5064', 'title': 'Carry On Doctor', 'genres': ['Comedy'], 'production_countries': ['GB'], 'collection_name': 'The Carry On Collection', 'release_year': '1967', 'actors': ['Jim Dale', 'Kenneth Williams', 'Sid James', 'Barbara Windsor', 'Joan Sims', 'Charles Hawtrey', 'Frankie Howerd', 'Bernard Bresslaw', 'Hattie Jacques', 'Peter Butterworth', 'June Jago', 'Derek Francis', 'Dandy Nichols', 'Peter Jones'], 'directors': ['Gerald Thomas'], 'screenwriters': ['Eric Rogers'], 'music_composers': ['Talbot Rothwell']},\n",
       " 'm_54503': {'movie_id': 'm_54503', 'title': 'Shuang ma lian huan', 'genres': ['Action', 'Foreign'], 'production_countries': ['HK', 'TW'], 'collection_name': '', 'release_year': '1979', 'actors': ['Li Yi-Min', 'Jack Lung', 'Mark Lung', 'Yuen Siu-Tin', 'Wong Chi-Sang', 'Ricky Cheng Tien-Chi', 'Jeannie Chang Yung-Yung', 'Hsiao Hou-Tao', 'Wong Wing-Sang', 'Mau Ging-Shun', 'Hsiao Wang', 'Au Lap-Bo', 'Wong Suet-Kwan'], 'directors': ['Joseph Kuo'], 'screenwriters': [], 'music_composers': []},\n",
       " 'm_53121': {'movie_id': 'm_53121', 'title': 'Barking Water', 'genres': ['Drama'], 'production_countries': ['US'], 'collection_name': '', 'release_year': '2009', 'actors': ['Casey Camp-Horinek', 'Richard Ray Whitman', 'Jon Proudstar', 'Aaron Riggs', 'Marcus Frejo', 'Laura Spencer', 'Isabel Archuleta', 'Zoe Ballentine', 'Lori Lynne Cross', 'Fiawna Forte', 'Beau Harjo'], 'directors': ['Sterlin Harjo'], 'screenwriters': [], 'music_composers': ['Sterlin Harjo']},\n",
       " 'm_36529': {'movie_id': 'm_36529', 'title': 'Metamorphosis', 'genres': ['Horror', 'Science Fiction'], 'production_countries': ['US', 'IT'], 'collection_name': '', 'release_year': '1990', 'actors': ['Gene LeBrock', 'Catherine Baranov', 'Harry Cason', 'David Wicker', 'Jason Arnold', 'Stephen Brown', 'Tom Story', 'Anna Colona', 'Wally Doyle', 'Serina Steinberg', 'Wayne Potrafka', 'Tim Wright', 'Allison Stokes', 'Laura Gemser', 'George Eastman'], 'directors': ['George Eastman'], 'screenwriters': ['Luigi Ceccarelli'], 'music_composers': []},\n",
       " 'm_45431': {'movie_id': 'm_45431', 'title': 'Devil in the Flesh', 'genres': ['Horror', 'Thriller'], 'production_countries': ['US'], 'collection_name': '', 'release_year': '1998', 'actors': ['Rose McGowan', 'Alex McArthur', 'Phil Morris', 'Peg Shirley', 'Robert Silver', 'J.C. Brand', 'Sherrie Rose', 'Ryan Bittle', 'Julia Nickson', 'Krissy Carlson', 'Philip Boyd', 'Richard Barnes', 'Morgan Distefano', 'Aloma Wright', \"Carrick O'Quinn\", 'Rick Overton', 'Ed Berke', 'Tom Simmons', 'Ken Fording', 'James Jude Courtney', 'Nick Lee', 'Endre Hules', 'Michael Michaud', 'Schultz', 'Sara Van Horn', 'Wendy Robie'], 'directors': ['Steve Cohen'], 'screenwriters': ['Michael Burns', 'Steve Gurevitch'], 'music_composers': []},\n",
       " 'm_97938': {'movie_id': 'm_97938', 'title': 'Heart of the Country', 'genres': ['Family', 'Romance', 'Drama'], 'production_countries': ['US'], 'collection_name': '', 'release_year': '2013', 'actors': ['Jana Kramer', 'Gerald McRaney', 'Randy Wayne', 'Shaun Sipos', 'Anne Hawthorne', 'Sydney Penny', 'John Ward', 'Stefan Hajek', 'Sheila Shah', 'Andrew Masset', 'Stephanie Northrup', 'Cali Ward', 'Bonnie Johnson', 'Rosalie Autumn Miller', 'Jeffrey J. Pries', 'Gregory Alan Williams', 'Zeeko Zaki', 'Zack Tiegan'], 'directors': ['John Ward'], 'screenwriters': ['Orest Hrynewich', 'Jack Lenz'], 'music_composers': []},\n",
       " 'm_86332': {'movie_id': 'm_86332', 'title': 'The Redeemer: Son of Satan!', 'genres': ['Horror'], 'production_countries': [], 'collection_name': '', 'release_year': '1978', 'actors': ['Damien Knight', 'Jeannetta Arnette', 'Nick Carter', 'Nikki Barthen', 'Michael Hollingsworth'], 'directors': ['Constantine S. Gochis'], 'screenwriters': [], 'music_composers': []},\n",
       " 'm_31410': {'movie_id': 'm_31410', 'title': 'Vesničko má středisková', 'genres': ['Comedy'], 'production_countries': ['CZ'], 'collection_name': '', 'release_year': '1985', 'actors': ['János Bán', 'Marián Labuda', 'Zdeněk Svěrák', 'Libuše Šafránková', 'Petr Čepek', 'Rudolf Hrušínský', 'Milena Dvorská', 'Milada Ježková', 'Jan Hartl', 'Jiří Lír', 'Július Satinský', 'Miloslav Štibich'], 'directors': ['Jiří Menzel'], 'screenwriters': [], 'music_composers': ['Zdeněk Svěrák']},\n",
       " 'm_81229': {'movie_id': 'm_81229', 'title': 'Haker', 'genres': ['Comedy'], 'production_countries': [], 'collection_name': '', 'release_year': '2002', 'actors': ['Bartosz Obuchowicz', 'Kasia Smutniak', 'Bogusław Linda', 'Marek Kondrat', 'Piotr Miazga', 'Paweł Wilczak', 'Cezary Morawski'], 'directors': ['Janusz Zaorski'], 'screenwriters': [], 'music_composers': []},\n",
       " 'm_93840': {'movie_id': 'm_93840', 'title': \"À l'aveugle\", 'genres': ['Thriller', 'Action'], 'production_countries': ['FR'], 'collection_name': '', 'release_year': '2012', 'actors': ['Jacques Gamblin', 'Lambert Wilson', 'Raphaëlle Agogué', 'Arnaud Cosson', 'David Capelle', 'Antoine Levannier', 'Frédéric Kontogom', 'Marie Vincent', 'Dorothée Brière', 'Sebastien Vandenberghe'], 'directors': ['Xavier Palud'], 'screenwriters': [], 'music_composers': ['Éric Besnard']},\n",
       " 'm_2004': {'movie_id': 'm_2004', 'title': 'Kebab Connection', 'genres': ['Action', 'Comedy', 'Romance'], 'production_countries': ['DE'], 'collection_name': '', 'release_year': '2004', 'actors': ['Emanuel Bettencourt', 'Denis Moschitto', 'Nora Tschirner', 'Hasan Ali Mete', 'Adnan Maral', 'Güven Kıraç', 'Adam Bousdoukos', 'Tatjana Velimirov', 'Fahri Yardım', 'Romina Fütterer', 'Sibel Kekilli', 'Kida Khodr Ramadan', 'Cem Akin', 'Nursel Köse', 'Barbara Focke'], 'directors': ['Anno Saul'], 'screenwriters': ['Marcel Barsotti'], 'music_composers': ['Fatih Akin', 'Ruth Toma', 'Anno Saul', 'Jan Berger']},\n",
       " 'm_2333': {'movie_id': 'm_2333', 'title': 'Buddenbrooks', 'genres': ['Drama'], 'production_countries': ['DE'], 'collection_name': '', 'release_year': '2008', 'actors': ['Armin Mueller-Stahl', 'August Diehl', 'Jessica Schwarz', 'Justus von Dohnányi', 'Alexander Fehling', 'Léa Bosco', 'Mark Waschke', 'Raban Bieling', 'Iris Berben', 'Martin Feifel', 'Nina Proll', 'Sylvester Groth', 'Sunnyi Melles', 'Maximilian von Pufendorf', 'André Hennicke', 'Teresa Harder'], 'directors': ['Heinrich Breloer'], 'screenwriters': [], 'music_composers': ['Heinrich Breloer', 'Horst Königstein']},\n",
       " 'm_2232': {'movie_id': 'm_2232', 'title': 'Die Legende von Paul und Paula', 'genres': ['Drama', 'Romance'], 'production_countries': ['XG'], 'collection_name': '', 'release_year': '1973', 'actors': ['Fred Delmare', 'Winfried Glatzeder', 'Angelica Domröse', 'Eva-Maria Hagen', 'Jürgen Frohriep', 'Robert Glatzeder', 'Hans Hardt-Hardtloff', 'Marga Legal', 'Rolf Ludwig', 'Käthe Reichel', 'Dietmar Richter-Reinick', 'Frank Schenk', 'Willi Schrade', 'Hertha Thiele', 'Heidemarie Wenzel', 'Peter Gotthardt'], 'directors': ['Heiner Carow'], 'screenwriters': ['Peter Gotthardt'], 'music_composers': ['Heiner Carow', 'Ulrich Plenzdorf']},\n",
       " 'm_457': {'movie_id': 'm_457', 'title': 'Sissi', 'genres': ['Comedy', 'Drama', 'Romance'], 'production_countries': ['AT'], 'collection_name': 'Sissi Collection', 'release_year': '1955', 'actors': ['Romy Schneider', 'Karlheinz Böhm', 'Magda Schneider', 'Uta Franz', 'Gustav Knuth', 'Vilma Degischer', 'Josef Meinrad', 'Erich Nikowitz', 'Peter Weck', 'Hilde Wagener', 'Karl Fochler', 'Otto Treßler', 'Egon von Jordan', 'Franz Böheim'], 'directors': ['Ernst Marischka'], 'screenwriters': ['Anton Profes'], 'music_composers': ['Ernst Marischka']},\n",
       " 'm_45722': {'movie_id': 'm_45722', 'title': 'No mires para abajo', 'genres': ['Drama', 'Romance'], 'production_countries': ['AR', 'FR'], 'collection_name': '', 'release_year': '2008', 'actors': ['Leandro Stivelman', 'Antonella Costa', 'Hugo Arana', 'Mónica Galán'], 'directors': ['Eliseo Subiela'], 'screenwriters': [], 'music_composers': []},\n",
       " 'm_55765': {'movie_id': 'm_55765', 'title': '거룩한 계보', 'genres': ['Action', 'Adventure', 'Crime', 'Drama', 'Foreign'], 'production_countries': ['KR'], 'collection_name': '', 'release_year': '2006', 'actors': ['Jung Jae-young', 'Jung Joon-ho', 'Ryu Seung-ryong', 'Ju Jin-mo'], 'directors': ['Jang Jin'], 'screenwriters': [], 'music_composers': []},\n",
       " 'm_2078': {'movie_id': 'm_2078', 'title': 'The Pawnshop', 'genres': ['Comedy'], 'production_countries': ['US'], 'collection_name': '', 'release_year': '1916', 'actors': ['Charlie Chaplin', 'Henry Bergman', 'Edna Purviance', 'John Rand', 'Albert Austin', 'Wesley Ruggles', 'Eric Campbell', 'James T. Kelley', 'Frank J. Coleman', 'Charlotte Mineau'], 'directors': ['Charlie Chaplin'], 'screenwriters': [], 'music_composers': ['Charlie Chaplin', 'Vincent Bryan', 'Maverick Terrell']},\n",
       " 'm_3578': {'movie_id': 'm_3578', 'title': 'Der Tunnel', 'genres': ['Science Fiction'], 'production_countries': ['DE', 'FR'], 'collection_name': '', 'release_year': '1933', 'actors': ['Paul Hartmann', 'Attila Hörbiger', 'Olly von Flint', 'Otto Wernicke', 'Gustaf Gründgens', 'Max Weydner', 'Elga Brink', 'Richard Ryen', 'Georg Henrich', 'Max Schreck', 'Magda Lena', 'Will Dohm', 'Ferdinand Marian', 'Josef Eichheim', 'Günther Vogdt', 'Erna Fentsch', 'Beppo Brem', 'Otto Brüggemann', 'Friedrich Ulmer'], 'directors': ['Curtis Bernhardt'], 'screenwriters': ['Walter Gronostay'], 'music_composers': ['Curtis Bernhardt', 'Henry Koster', 'Reinhart Steinbicker']},\n",
       " 'm_798': {'movie_id': 'm_798', 'title': 'Pünktchen und Anton', 'genres': ['Drama'], 'production_countries': ['DE'], 'collection_name': '', 'release_year': '1953', 'actors': ['Sabine Eggerth', 'Peter Feldt', 'Hertha Feiler', 'Paul Klinger', 'Annie Rosar', 'Jane Tilden', 'Hans Putz', 'Heidemarie Hatheyer', 'Michael Janisch', 'Maria Eis', 'Carl Möhner', 'Herbert Kroll', 'Hugo Gottschlich'], 'directors': ['Thomas Engel'], 'screenwriters': ['Herbert Trantow'], 'music_composers': ['Maria von der Osten-Sacken']},\n",
       " 'm_2734': {'movie_id': 'm_2734', 'title': 'David', 'genres': ['Drama', 'History'], 'production_countries': ['DE', 'IT', 'US'], 'collection_name': 'The Bible Collection', 'release_year': '1997', 'actors': ['Nathaniel Parker', 'Jonathan Pryce', 'Leonard Nimoy', 'Sheryl Lee', 'Ben Daniels', 'Richard Ashcroft', 'Gideon Turner', 'Maurice Roeves', 'Dominic Rowan', 'Edward Hall', 'Clara Bellar', 'Gina Bellman', 'Franco Nero', 'John Francis', 'Mohamad Belfikh', 'Peter-Hugo Daly', 'Lina Sastri', 'Peter Woodthorpe', 'Marco Leonardi', 'Luke Elliot', 'Giorgio Francesco Palombi', 'Sara Stockbridge', 'Freddy Douglas', 'Angelo Infanti', 'Bruce Purchase', 'Abdelahk Lazali', 'Joseph Long', 'Emilio Doorgasingh', 'Francesca Bartellini', 'Bev Willis', 'Paul Angelis', 'Jeremy Peters', 'Said Amel', 'Peter Mair', 'Peter Birrel', 'Rachid Fekkak', 'Zaki Houari', 'Tim Woodward', 'Roger Hammond', 'Mahjoub Raji', 'Mohamen Mehdi Ouazanni', 'Alan Parnaby', 'Ahmed Boulane', 'Mohamed Razine', 'Mohamed Bastaoui', 'Salah Benmoussa', 'Mohamed Bensouda', 'Adil Abdelwahab', 'Mohamed Tsouli', 'Abdellah Lamrani', 'Mohamed Khaddy', 'Younes Megri', 'Adil Besri', 'Mustapha Salamat', 'Mohamed Basri', 'John Gielgud'], 'directors': ['Robert Markowitz'], 'screenwriters': ['Ennio Morricone', 'Carlo Siliotto'], 'music_composers': ['Larry Gross']},\n",
       " 'm_3565': {'movie_id': 'm_3565', 'title': 'Underground', 'genres': ['Drama'], 'production_countries': ['GB'], 'collection_name': '', 'release_year': '1928', 'actors': ['Brian Aherne', 'Elissa Landi', 'Cyril McLaglen', 'Norah Baring'], 'directors': ['Anthony Asquith'], 'screenwriters': [], 'music_composers': ['Anthony Asquith']},\n",
       " 'm_27721': {'movie_id': 'm_27721', 'title': 'Barda', 'genres': ['Drama'], 'production_countries': ['TR'], 'collection_name': '', 'release_year': '2007', 'actors': ['Nejat İşler', 'Melis Birkan', 'Çağan Irmak', 'Erdal Besikçioglu'], 'directors': ['Serdar Akar'], 'screenwriters': [], 'music_composers': []},\n",
       " 'm_39446': {'movie_id': 'm_39446', 'title': 'At Risk', 'genres': ['TV Movie', 'Crime', 'Drama', 'Mystery'], 'production_countries': ['US', 'CA'], 'collection_name': '', 'release_year': '2010', 'actors': ['Andie MacDowell', 'Daniel Sunjata', 'Ashley Williams', 'Annabeth Gish', 'Diahann Carroll', 'Barclay Hope', 'Zak Santiago', 'Marcia Bennett', 'Paula Boudreau', 'Leslie Carlson', 'Chad Connell', 'Dane DeHaan', 'Lynne Deragon', 'Joan Gregson', 'David Keeley', 'Darryn Lucio', 'Peter MacNeill', 'Carolyne Maraghi', 'Shant Srabian', 'Patricia Cornwell', 'Heather Hanson', 'Edsson Morales', 'Gilles Savard', 'Kristian Truelsen'], 'directors': ['Tom McLoughlin'], 'screenwriters': [], 'music_composers': []},\n",
       " 'm_4979': {'movie_id': 'm_4979', 'title': 'Montag kommen die Fenster', 'genres': ['Drama'], 'production_countries': ['DE'], 'collection_name': '', 'release_year': '2006', 'actors': ['Isabelle Menke', 'Hans-Jochen Wagner', 'Amber Bongard', 'Elisa Seydel', 'Sülke Pierach', 'Ilie Năstase', 'Ingo Haeb', 'Hartmut Becker', 'Tatja Seibt', 'Harry Baer', 'Devid Striesow', 'Stefan Kriekhaus', 'Trystan Pütter', 'Ursula Renecke'], 'directors': ['Ulrich Köhler'], 'screenwriters': [], 'music_composers': ['Ulrich Köhler']},\n",
       " 'm_104374': {'movie_id': 'm_104374', 'title': 'Onna no mizûmi', 'genres': ['Drama'], 'production_countries': ['JP'], 'collection_name': '', 'release_year': '1966', 'actors': ['Mariko Okada', 'Shigeru Tsuyuguchi', 'Tamotsu Hayakawa', 'Keiko Natsu', 'Hiroko Masuda', 'Aiko Masuda', 'Sakae Umezu', 'Yukio Tada', 'Natsu Setoguchi', \"Shin'ichi Matsushima\", 'Mitsuhiko Shibata', 'Hisanobu Ichikawa', 'Kazumi Higuchi', 'Shinsuke Ashida'], 'directors': ['Yoshishige Yoshida'], 'screenwriters': ['Sei Ikeno'], 'music_composers': []},\n",
       " 'm_2890': {'movie_id': 'm_2890', 'title': 'André Hazes, Zij Gelooft in Mij', 'genres': ['Documentary'], 'production_countries': ['ES', 'NL'], 'collection_name': '', 'release_year': '2000', 'actors': ['André Hazes', 'Jos Brink', 'André Hazes jr.', 'Rachel Hazes', 'Roxeanne Hazes'], 'directors': ['John Appel'], 'screenwriters': [], 'music_composers': []},\n",
       " 'm_30810': {'movie_id': 'm_30810', 'title': \"Olga's House of Shame\", 'genres': ['Crime', 'Drama'], 'production_countries': ['US'], 'collection_name': '', 'release_year': '1964', 'actors': ['Audrey Campbell', 'Judy Young', 'W.B. Parker', 'Ella Daphni', 'Alice Denham', 'Brenda Denaut', 'Josel', 'Connie Oliver', 'Angel Aintree', 'Robin', 'Susan Small', 'Gil Adams', 'Jackie Miller', 'Joel Holt'], 'directors': ['Joseph P. Mawra'], 'screenwriters': [], 'music_composers': []},\n",
       " 'm_799': {'movie_id': 'm_799', 'title': 'Pünktchen und Anton', 'genres': ['Family'], 'production_countries': ['DE'], 'collection_name': '', 'release_year': '1999', 'actors': ['Elea Geissler', 'Max Felder', 'Juliane Köhler', 'August Zirner', 'Meret Becker', 'Sylvie Testud', 'Gudrun Okras', 'Benno Fürmann', 'Michael Hanemann', 'Helmfried von Lüttichau'], 'directors': ['Caroline Link'], 'screenwriters': ['Niki Reiser'], 'music_composers': ['Caroline Link']},\n",
       " 'm_2989': {'movie_id': 'm_2989', 'title': 'Roar', 'genres': ['Adventure', 'Thriller'], 'production_countries': ['US'], 'collection_name': '', 'release_year': '1981', 'actors': ['Tippi Hedren', 'Melanie Griffith', 'Jerry Marshall', 'Kyalo Mativo', 'Rick Glassey', 'Steve Miller', 'Noel Marshall', 'John Marshall', 'Zakes Mokae'], 'directors': ['Noel Marshall'], 'screenwriters': ['Terrence P. Minogue'], 'music_composers': []},\n",
       " 'm_58559': {'movie_id': 'm_58559', 'title': 'Confession of a Child of the Century', 'genres': ['Drama'], 'production_countries': ['FR', 'DE', 'GB'], 'collection_name': '', 'release_year': '2012', 'actors': ['Charlotte Gainsbourg', 'Pete Doherty', 'August Diehl', 'Lily Cole', 'Volker Bruch', 'Guillaume Gallienne', 'Karole Rocher', 'Rhian Rees', 'Joséphine de la Baume'], 'directors': ['Sylvie Verheyde'], 'screenwriters': [], 'music_composers': ['Sylvie Verheyde']},\n",
       " 'm_63876': {'movie_id': 'm_63876', 'title': 'La ronde', 'genres': ['Drama', 'Comedy', 'History', 'Romance'], 'production_countries': ['IT', 'FR'], 'collection_name': '', 'release_year': '1964', 'actors': ['Jane Fonda', 'Maurice Ronet', 'Jean Sorel', 'Jean-Claude Brialy', 'Claude Giraud', 'Anna Karina', 'Valérie Lagrange', 'Francine Bergé', 'Bernard Noël', 'Catherine Spaak', 'Christa Lang'], 'directors': ['Roger Vadim'], 'screenwriters': [], 'music_composers': ['Jean Anouilh']},\n",
       " 'm_38061': {'movie_id': 'm_38061', 'title': \"Anybody's Son Will Do\", 'genres': [], 'production_countries': [], 'collection_name': '', 'release_year': 'nan', 'actors': [], 'directors': ['Paul Cowan'], 'screenwriters': [], 'music_composers': []},\n",
       " 'm_3698': {'movie_id': 'm_3698', 'title': 'Amico, stammi lontano almeno un palmo', 'genres': ['Western'], 'production_countries': ['FR', 'IT'], 'collection_name': '', 'release_year': '1972', 'actors': ['Giuliano Gemma', 'George Eastman', 'Marisa Mell', 'Vittorio Congia', 'Luciano Catenacci', 'Remo Capitani', 'Giacomo Rossi-Stuart', 'Nello Pazzafini'], 'directors': ['Michele Lupo'], 'screenwriters': ['Gianni Ferrio'], 'music_composers': ['Sergio Donati', 'George Eastman']},\n",
       " 'm_63859': {'movie_id': 'm_63859', 'title': 'Pufnstuf', 'genres': ['Comedy', 'Family', 'Fantasy', 'Music'], 'production_countries': ['US'], 'collection_name': '', 'release_year': '1970', 'actors': ['Jack Wild', 'Billie Hayes', 'Martha Raye', 'Cass Elliot', 'Billy Barty', 'Jane Dulo', 'Allison McKay', 'Felix Silla', 'Johnny Silver', 'Lou Wagner', 'Allan Melvin'], 'directors': ['Hollingsworth Morse'], 'screenwriters': [], 'music_composers': []},\n",
       " 'm_2324': {'movie_id': 'm_2324', 'title': 'Local Color', 'genres': ['Drama'], 'production_countries': ['US'], 'collection_name': '', 'release_year': '2006', 'actors': ['Armin Mueller-Stahl', 'Trevor Morgan', 'Ray Liotta', 'Samantha Mathis', 'Nancy Casemore', 'Julie Lott', 'Taso Papadakis', 'Charles Durning', 'Tom Adams'], 'directors': ['George Gallo'], 'screenwriters': ['Chris Boardman'], 'music_composers': ['George Gallo']},\n",
       " 'm_67255': {'movie_id': 'm_67255', 'title': 'Gyakufunsha kazoku', 'genres': ['Drama', 'Comedy'], 'production_countries': ['JP'], 'collection_name': '', 'release_year': '1984', 'actors': ['Youki Kudoh', 'Katsuya Kobayashi', 'Yoshiki Arizono', 'Hitoshi Ueki', 'Kazuhiko Kishino', 'Toyoko Koumi', 'Akira Ogata', 'Iwao Hayashizaki', 'Nobuhiro Gomori', 'Yoshinori Inoue', 'Hirona Takahashi', 'Kunihiro Ide', 'Alex Ablamov', 'Mitsuko Baisho'], 'directors': ['Gakuryû Ishii'], 'screenwriters': [], 'music_composers': []},\n",
       " 'm_3479': {'movie_id': 'm_3479', 'title': 'Les innocents aux mains sales', 'genres': ['Thriller', 'Crime'], 'production_countries': ['FR', 'DE', 'IT'], 'collection_name': '', 'release_year': '1975', 'actors': ['Romy Schneider', 'Rod Steiger', 'Paolo Giusti', 'Jean Rochefort', 'François Maistre', 'François Perrot', 'Hans Christian Blech', 'Pierre Santini', 'Henri Attal', 'Serge Bento', 'Jean Cherlian', 'Dominique Zardi'], 'directors': ['Claude Chabrol'], 'screenwriters': [], 'music_composers': ['Richard Neely']},\n",
       " 'm_26776': {'movie_id': 'm_26776', 'title': 'The Halliday Brand', 'genres': ['Western'], 'production_countries': ['US'], 'collection_name': '', 'release_year': '1957', 'actors': ['Joseph Cotten', 'Viveca Lindfors', 'Betsy Blair', 'Ward Bond', 'Bill Williams', 'Jay C. Flippen', 'Christopher Dark', 'Jeanette Nolan', 'Peter Ortiz'], 'directors': ['Joseph H. Lewis'], 'screenwriters': [], 'music_composers': []},\n",
       " 'm_932': {'movie_id': 'm_932', 'title': 'Die Mörder sind unter uns', 'genres': ['Drama'], 'production_countries': ['DE'], 'collection_name': '', 'release_year': '1946', 'actors': ['Hildegard Knef', 'Wilhelm Borchert', 'Erna Sellmer', 'Arno Paulsen', 'Michael Günther', 'Christian Schwarzwald', 'Robert Forsch', 'Elly Burgmer', 'Marlise Ludwig', 'Hilde Adolphi', 'Albert Johannes', 'Ursula Krieg', 'Wolfgang Dohnberg', 'Ernst Stahl-Nachbaur', 'Wanda Peters', 'Christiane Hanson', 'Käthe Jöken-König'], 'directors': ['Wolfgang Staudte', 'Hans Heinrich'], 'screenwriters': ['Ernst Roters'], 'music_composers': []},\n",
       " 'm_3159': {'movie_id': 'm_3159', 'title': 'Il castello delle donne maledette', 'genres': ['Horror'], 'production_countries': ['IT'], 'collection_name': '', 'release_year': '1974', 'actors': ['Rossano Brazzi', 'Michael Dunn', 'Edmund Purdom', 'Gordon Mitchell', 'Loren Ewing', 'Luciano Pigozzi', 'Xiro Papas', 'Salvatore Baccaro', 'Simonetta Vitelli', 'Eric Mann', 'Laura De Benedittis', 'Christiane Rücker', 'Annamaria Tornello', 'Mike Monty'], 'directors': ['Dick Randall'], 'screenwriters': [], 'music_composers': ['William Rose', 'Mario Francini', 'Mark Smith', 'Roberto Spano']},\n",
       " 'm_1608': {'movie_id': 'm_1608', 'title': 'When Saturday Comes', 'genres': ['Drama'], 'production_countries': ['GB'], 'collection_name': '', 'release_year': '1996', 'actors': ['Sean Bean', 'Emily Lloyd', 'Craig Kelly', 'Pete Postlethwaite', 'John McEnery', 'Ann Bell', 'Melanie Hill', 'Chris Walker', 'Peter Gunn', 'Bill Stewart', 'John Henshaw', 'Steve Huison', 'Tim Gallagher', 'John Higgins', 'Douglas McFerran', 'Paul Kemp', 'Nick Conway', 'John Tams', 'Andrew Shepherd', 'Dave Hill', 'Freddie Fletcher', 'Alex Norton', 'Tracy Shaw', 'Ken Kitson', 'James McKenna', 'Tony Currie', 'Andrew Livingston', 'David Leland', 'Mel Starland', 'Philipa Howell', 'Rita May', 'Rebecca Nichols', 'Chris Cooke'], 'directors': ['Maria Giese'], 'screenwriters': ['Anne Dudley'], 'music_composers': ['James Daly', 'Maria Giese']},\n",
       " 'm_4369': {'movie_id': 'm_4369', 'title': \"Juste une question d'amour\", 'genres': ['Drama', 'Romance'], 'production_countries': ['FR'], 'collection_name': '', 'release_year': '2000', 'actors': ['Cyrille Thouvenin', 'Stéphan Guérin-Tillié', 'Caroline Veyt', 'Eva Darlan', 'Danièle Denie', 'Idwig Stephane'], 'directors': ['Christian Faure'], 'screenwriters': ['Charles Court'], 'music_composers': []},\n",
       " 'm_2459': {'movie_id': 'm_2459', 'title': 'Un éléphant ça trompe énormément', 'genres': ['Comedy'], 'production_countries': ['FR'], 'collection_name': 'Un éléphant ça trompe énormément', 'release_year': '1976', 'actors': ['Jean Rochefort', 'Danièle Delorme', 'Anny Duperey', 'Claude Brasseur', 'Guy Bedos', 'Victor Lanoux', 'Martine Sarcey', 'Marthe Villalonga', 'Christophe Bourseiller'], 'directors': ['Yves Robert'], 'screenwriters': [], 'music_composers': ['Yves Robert', 'Jean-Loup Dabadie']},\n",
       " 'm_48780': {'movie_id': 'm_48780', 'title': 'Boat', 'genres': ['Foreign'], 'production_countries': ['US'], 'collection_name': '', 'release_year': '2007', 'actors': ['David Lynch', 'Emily Stofle'], 'directors': ['David Lynch'], 'screenwriters': [], 'music_composers': []},\n",
       " 'm_2132': {'movie_id': 'm_2132', 'title': 'Totally Blonde', 'genres': ['Comedy'], 'production_countries': ['US'], 'collection_name': '', 'release_year': '2001', 'actors': ['Krista Allen', 'Maeve Quinlan', 'Michael Bublé', 'Brody Hutzler', 'Mindy Sterling', 'Charlene Tilton', 'Michael Cade', 'Erin Carufel', 'Charlene Tilton'], 'directors': ['Andrew Van Slee'], 'screenwriters': ['Miles Hill', 'Ian Putz'], 'music_composers': ['Andrew Van Slee']},\n",
       " 'm_68954': {'movie_id': 'm_68954', 'title': 'Longitude', 'genres': ['TV Movie', 'Drama', 'History'], 'production_countries': ['GB', 'US'], 'collection_name': '', 'release_year': '2000', 'actors': ['Peter Cartwright', 'Jeremy Irons', 'Michael Gambon', 'Ian Hart', 'Jonathan Coy', 'Liam Jennings', 'Christopher Hodsol', 'Peter Vaughan', 'Andrew Scott', 'Gemma Jones', 'Nigel Davenport', 'John Standing', 'Stephen Fry', 'Bill Nighy', 'Brian Cox', 'Tim McInnerny', \"Daragh O'Malley\", 'Michael Cochrane', 'Tobias Menzies', 'Anna Chancellor', 'John Wood', 'Samuel West', 'Ian McNeice', 'Cliff Parisi', 'Charles Edwards', 'Pip Torrens', 'T.P. McKenna', 'Roger Lloyd Pack', 'Trevor Cooper', 'Peter Penry-Jones', 'Barbara Leigh-Hunt'], 'directors': ['Charles Sturridge'], 'screenwriters': [], 'music_composers': []},\n",
       " 'm_3210': {'movie_id': 'm_3210', 'title': 'The Projected Man', 'genres': ['Horror', 'Science Fiction'], 'production_countries': ['GB'], 'collection_name': '', 'release_year': '1966', 'actors': ['Mary Peach', 'Bryant Haliday', 'Norman Wooland', 'Ronald Allen', 'Derek Farr', 'Derrick De Marney', 'Gerard Heinz', 'Tracey Crisp', 'Sam Kydd', 'Norma West', 'Frank Gatliff', 'Terry Scully'], 'directors': ['Ian Curteis'], 'screenwriters': ['Kenneth V. Jones'], 'music_composers': ['John Croydon', 'Peter Bryan']},\n",
       " 'm_2791': {'movie_id': 'm_2791', 'title': 'The Chronicles of Riddick: Dark Fury', 'genres': ['Action', 'Animation', 'Science Fiction', 'Thriller'], 'production_countries': ['US'], 'collection_name': 'The Chronicles of Riddick Collection', 'release_year': '2004', 'actors': ['Vin Diesel', 'Rhiana Griffith', 'Keith David', 'Nick Chinlund', 'Dwight Schultz'], 'directors': ['Peter Chung'], 'screenwriters': [], 'music_composers': ['Brett Matthews']},\n",
       " 'm_8366': {'movie_id': 'm_8366', 'title': 'Der Schuh des Manitu', 'genres': ['Comedy', 'Western'], 'production_countries': ['DE'], 'collection_name': '', 'release_year': '2001', 'actors': ['Michael Herbig', 'Christian Tramitz', 'Sky du Mont', 'Marie Bäumer', 'Rick Kavanian', 'Tim Wilde', 'Oliver Wnuk', 'Joseph Hannesschläger'], 'directors': ['Michael Herbig'], 'screenwriters': [], 'music_composers': ['Michael Herbig', 'Alfons Biedermann']},\n",
       " 'm_3178': {'movie_id': 'm_3178', 'title': 'Beat', 'genres': ['Drama'], 'production_countries': ['US'], 'collection_name': '', 'release_year': '2000', 'actors': ['Kiefer Sutherland', 'Courtney Love', 'Ron Livingston', 'Norman Reedus', 'Sam Trammell', 'Alec Von Bargen', 'Tommy Perna', 'Daniel Martínez', 'Kyle Secor'], 'directors': ['Gary Walkow'], 'screenwriters': [], 'music_composers': []},\n",
       " 'm_3104': {'movie_id': 'm_3104', 'title': 'Frankenstein Created Woman', 'genres': ['Horror', 'Science Fiction'], 'production_countries': ['GB'], 'collection_name': 'Frankenstein (Hammer Series)', 'release_year': '1967', 'actors': ['Peter Cushing', 'Susan Denberg', 'Thorley Walters', 'Robert Morris', 'Duncan Lamont', 'Peter Blythe', 'Barry Warren', 'Derek Fowlds'], 'directors': ['Terence Fisher'], 'screenwriters': ['James Bernard'], 'music_composers': ['Anthony Hinds']}}"
      ]
     },
     "execution_count": 5,
     "metadata": {},
     "output_type": "execute_result"
    }
   ],
   "execution_count": 5
  },
  {
   "cell_type": "markdown",
   "metadata": {},
   "source": [
    "## Część 2. - zbudowanie zbioru relacji"
   ]
  },
  {
   "cell_type": "code",
   "metadata": {
    "ExecuteTime": {
     "end_time": "2024-11-23T12:23:52.161225Z",
     "start_time": "2024-11-23T12:23:52.040465Z"
    }
   },
   "source": [
    "from typing import Generator\n",
    "\n",
    "# generujemy dane dla modelu w formacie (head, relation, tail)\n",
    "# na start mozesz uzyc malego podzbioru relacji, np. tylko 'positive_rating'\n",
    "\n",
    "all_relation_types = [\n",
    "    'positive_rating',\n",
    "    'neutral_rating',\n",
    "    'negative_rating',\n",
    "    'genre',\n",
    "    'production_country',\n",
    "    'in_collection',\n",
    "    'release_year',\n",
    "    'actor_in',\n",
    "    'director_of',\n",
    "    'screenwriter_of',\n",
    "    'composer_of'\n",
    "]\n",
    "basic_relation_types = [\n",
    "    'positive_rating',\n",
    "    'negative_rating'\n",
    "]\n",
    "\n",
    "def generate_triples(reviews: List[Review], movies: Dict[str, Movie], relation_types: List[str]) -> list[Tuple[str, str, str]]:\n",
    "    result = []\n",
    "    for review in reviews:\n",
    "        if review.rating <= 2.0:\n",
    "            if \"negative_rating\" in relation_types:\n",
    "                result.append((review.user_id, \"negative_rating\", review.movie_id))\n",
    "        elif review.rating == 3.0:\n",
    "            if \"neutral_rating\" in relation_types:\n",
    "                result.append((review.user_id, \"neutral_rating\", review.movie_id))\n",
    "        elif review.rating >= 4.0:\n",
    "            if \"positive_rating\" in relation_types:\n",
    "                result.append((review.user_id, \"positive_rating\", review.movie_id))\n",
    "\n",
    "    for movie in movies.values():\n",
    "        if \"genre\" in relation_types:\n",
    "            for genre in movie.genres:\n",
    "                result.append((movie.movie_id, \"genre\", genre))\n",
    "\n",
    "        if \"production_country\" in relation_types:\n",
    "            for country in movie.production_countries:\n",
    "                result.append((movie.movie_id, \"production_country\", country))\n",
    "\n",
    "        if \"actor_in\" in relation_types:\n",
    "            for actor in movie.actors:\n",
    "                result.append((actor, \"actor_in\", movie.movie_id))\n",
    "\n",
    "        if \"director_of\" in relation_types:\n",
    "            for director in movie.directors:\n",
    "                result.append((director, \"director_of\", movie.movie_id))\n",
    "\n",
    "        if \"screenwriter_of\" in relation_types:\n",
    "            for screenwriter in movie.screenwriters:\n",
    "                result.append((screenwriter, \"screenwriter_of\", movie.movie_id))\n",
    "\n",
    "        if \"composer_of\" in relation_types:\n",
    "            for composer in movie.music_composers:\n",
    "                result.append((composer, \"composer_of\", movie.movie_id))\n",
    "\n",
    "        if \"in_collection\" in relation_types:\n",
    "            result.append((movie.movie_id, \"in_collection\", movie.collection_name))\n",
    "\n",
    "        if \"release_year\" in relation_types:\n",
    "            result.append((movie.movie_id, \"release_year\", movie.release_year))\n",
    "\n",
    "    return result\n",
    "\n",
    "\n",
    "triples = generate_triples(ratings, movies, basic_relation_types)\n",
    "tf = TriplesFactory.from_labeled_triples(np.array(triples))"
   ],
   "outputs": [],
   "execution_count": 106
  },
  {
   "cell_type": "markdown",
   "metadata": {},
   "source": [
    "## Część 3. - trening modelu"
   ]
  },
  {
   "cell_type": "code",
   "metadata": {
    "ExecuteTime": {
     "end_time": "2024-11-23T12:04:49.512829Z",
     "start_time": "2024-11-23T12:04:42.886015Z"
    }
   },
   "source": [
    "from typing import Type\n",
    "\n",
    "\n",
    "def train_model(triples: List[Tuple[str, str, str]], tf: TriplesFactory, model_class: Type[ERModel] = TransE):\n",
    "    # tworzymy obiekt pomocniczy do reprezentacji zbioru danych\n",
    "    training, testing, validation = tf.split([.8, .1, .1])\n",
    "\n",
    "    # fix dla niektorych makow\n",
    "    # mps_device = torch.device(\"mps\")\n",
    "\n",
    "    # zasadnicza czesc treningu\n",
    "    pipeline_result = pipeline(\n",
    "        # device=mps_device,\n",
    "        training=training,\n",
    "        testing=testing,\n",
    "        validation=validation,\n",
    "        model=model_class, # to najszybszy i najprostszy, ale i najslabszy model\n",
    "        epochs=20 # to tylko przykladowa wartosc, na podstawie loss plot ocenimy, czy wystarczy\n",
    "    )\n",
    "    return pipeline_result\n",
    "\n",
    "pipeline_result = train_model(triples, tf)"
   ],
   "outputs": [
    {
     "name": "stderr",
     "output_type": "stream",
     "text": [
      "WARNING:pykeen.utils:using automatically assigned random_state=1313182873\n",
      "INFO:pykeen.triples.splitting:done splitting triples to groups of sizes [42530, 5619, 5620]\n",
      "WARNING:pykeen.pipeline.api:No random seed is specified. Setting to 1868326279.\n",
      "WARNING:pykeen.utils:No cuda devices were available. The model runs on CPU\n",
      "INFO:pykeen.pipeline.api:Using device: None\n"
     ]
    },
    {
     "data": {
      "text/plain": [
       "Training epochs on cpu:   0%|          | 0/15 [00:00<?, ?epoch/s]"
      ],
      "application/vnd.jupyter.widget-view+json": {
       "version_major": 2,
       "version_minor": 0,
       "model_id": "10603e4fbd1a400bb93485f8487bc060"
      }
     },
     "metadata": {},
     "output_type": "display_data"
    },
    {
     "data": {
      "text/plain": [
       "Training batches on cpu:   0%|          | 0/176 [00:00<?, ?batch/s]"
      ],
      "application/vnd.jupyter.widget-view+json": {
       "version_major": 2,
       "version_minor": 0,
       "model_id": "7f5f06c99d814b2db5cdc6ce186339e2"
      }
     },
     "metadata": {},
     "output_type": "display_data"
    },
    {
     "data": {
      "text/plain": [
       "Training batches on cpu:   0%|          | 0/176 [00:00<?, ?batch/s]"
      ],
      "application/vnd.jupyter.widget-view+json": {
       "version_major": 2,
       "version_minor": 0,
       "model_id": "5ed7f1f67f964b7fbefac34814c5237d"
      }
     },
     "metadata": {},
     "output_type": "display_data"
    },
    {
     "data": {
      "text/plain": [
       "Training batches on cpu:   0%|          | 0/176 [00:00<?, ?batch/s]"
      ],
      "application/vnd.jupyter.widget-view+json": {
       "version_major": 2,
       "version_minor": 0,
       "model_id": "56388c423ec64ac2ba6d9b7127128fe1"
      }
     },
     "metadata": {},
     "output_type": "display_data"
    },
    {
     "data": {
      "text/plain": [
       "Training batches on cpu:   0%|          | 0/176 [00:00<?, ?batch/s]"
      ],
      "application/vnd.jupyter.widget-view+json": {
       "version_major": 2,
       "version_minor": 0,
       "model_id": "0493b7d1587e44c29743343d4d04f5ea"
      }
     },
     "metadata": {},
     "output_type": "display_data"
    },
    {
     "data": {
      "text/plain": [
       "Training batches on cpu:   0%|          | 0/176 [00:00<?, ?batch/s]"
      ],
      "application/vnd.jupyter.widget-view+json": {
       "version_major": 2,
       "version_minor": 0,
       "model_id": "f8e65680f9554860b81a8016abb34c03"
      }
     },
     "metadata": {},
     "output_type": "display_data"
    },
    {
     "data": {
      "text/plain": [
       "Training batches on cpu:   0%|          | 0/176 [00:00<?, ?batch/s]"
      ],
      "application/vnd.jupyter.widget-view+json": {
       "version_major": 2,
       "version_minor": 0,
       "model_id": "3fbc08258ad84273bd8bca933980c8d6"
      }
     },
     "metadata": {},
     "output_type": "display_data"
    },
    {
     "data": {
      "text/plain": [
       "Training batches on cpu:   0%|          | 0/176 [00:00<?, ?batch/s]"
      ],
      "application/vnd.jupyter.widget-view+json": {
       "version_major": 2,
       "version_minor": 0,
       "model_id": "03ee34ad43cd4bcab00414a9fbed7062"
      }
     },
     "metadata": {},
     "output_type": "display_data"
    },
    {
     "data": {
      "text/plain": [
       "Training batches on cpu:   0%|          | 0/176 [00:00<?, ?batch/s]"
      ],
      "application/vnd.jupyter.widget-view+json": {
       "version_major": 2,
       "version_minor": 0,
       "model_id": "da482bfd9b784ba3b6c11b1c14e4d1b4"
      }
     },
     "metadata": {},
     "output_type": "display_data"
    },
    {
     "data": {
      "text/plain": [
       "Training batches on cpu:   0%|          | 0/176 [00:00<?, ?batch/s]"
      ],
      "application/vnd.jupyter.widget-view+json": {
       "version_major": 2,
       "version_minor": 0,
       "model_id": "1324fc1055b1451abaed99992283d059"
      }
     },
     "metadata": {},
     "output_type": "display_data"
    },
    {
     "data": {
      "text/plain": [
       "Training batches on cpu:   0%|          | 0/176 [00:00<?, ?batch/s]"
      ],
      "application/vnd.jupyter.widget-view+json": {
       "version_major": 2,
       "version_minor": 0,
       "model_id": "4e46c12d493343569b1899a9f5b165a2"
      }
     },
     "metadata": {},
     "output_type": "display_data"
    },
    {
     "data": {
      "text/plain": [
       "Training batches on cpu:   0%|          | 0/176 [00:00<?, ?batch/s]"
      ],
      "application/vnd.jupyter.widget-view+json": {
       "version_major": 2,
       "version_minor": 0,
       "model_id": "68c2744ebecc42c19c16e34b199a497c"
      }
     },
     "metadata": {},
     "output_type": "display_data"
    },
    {
     "data": {
      "text/plain": [
       "Training batches on cpu:   0%|          | 0/176 [00:00<?, ?batch/s]"
      ],
      "application/vnd.jupyter.widget-view+json": {
       "version_major": 2,
       "version_minor": 0,
       "model_id": "725036e22a3e4cb2822f90a5cb8b288d"
      }
     },
     "metadata": {},
     "output_type": "display_data"
    },
    {
     "data": {
      "text/plain": [
       "Training batches on cpu:   0%|          | 0/176 [00:00<?, ?batch/s]"
      ],
      "application/vnd.jupyter.widget-view+json": {
       "version_major": 2,
       "version_minor": 0,
       "model_id": "96ce9a6dc29f4cada909341ae6902aa1"
      }
     },
     "metadata": {},
     "output_type": "display_data"
    },
    {
     "data": {
      "text/plain": [
       "Training batches on cpu:   0%|          | 0/176 [00:00<?, ?batch/s]"
      ],
      "application/vnd.jupyter.widget-view+json": {
       "version_major": 2,
       "version_minor": 0,
       "model_id": "8c4a12077f8b435f903c1d34924fb15c"
      }
     },
     "metadata": {},
     "output_type": "display_data"
    },
    {
     "data": {
      "text/plain": [
       "Training batches on cpu:   0%|          | 0/176 [00:00<?, ?batch/s]"
      ],
      "application/vnd.jupyter.widget-view+json": {
       "version_major": 2,
       "version_minor": 0,
       "model_id": "d3c21349d9804c32a2aded6babf4f586"
      }
     },
     "metadata": {},
     "output_type": "display_data"
    },
    {
     "name": "stderr",
     "output_type": "stream",
     "text": [
      "WARNING:pykeen.utils:Using automatic batch size on device.type='cpu' can cause unexplained out-of-memory crashes. Therefore, we use a conservative small batch_size=32. Performance may be improved by explicitly specifying a larger batch size.\n"
     ]
    },
    {
     "data": {
      "text/plain": [
       "Evaluating on cpu:   0%|          | 0.00/5.62k [00:00<?, ?triple/s]"
      ],
      "application/vnd.jupyter.widget-view+json": {
       "version_major": 2,
       "version_minor": 0,
       "model_id": "db9a3ed058804f9eb5afec474391c977"
      }
     },
     "metadata": {},
     "output_type": "display_data"
    },
    {
     "name": "stderr",
     "output_type": "stream",
     "text": [
      "WARNING:torch_max_mem.api:Encountered tensors on device_types={'cpu'} while only ['cuda'] are considered safe for automatic memory utilization maximization. This may lead to undocumented crashes (but can be safe, too).\n",
      "INFO:pykeen.evaluation.evaluator:Evaluation took 3.11s seconds\n"
     ]
    }
   ],
   "execution_count": 78
  },
  {
   "cell_type": "code",
   "metadata": {
    "ExecuteTime": {
     "end_time": "2024-11-23T11:22:49.994418Z",
     "start_time": "2024-11-23T11:22:49.909138Z"
    }
   },
   "source": [
    "# wykres loss function\n",
    "pipeline_result.plot_losses()"
   ],
   "outputs": [
    {
     "data": {
      "text/plain": [
       "<Axes: title={'center': 'Losses Plot'}, xlabel='Epoch', ylabel='marginranking Loss'>"
      ]
     },
     "execution_count": 12,
     "metadata": {},
     "output_type": "execute_result"
    },
    {
     "data": {
      "text/plain": [
       "<Figure size 640x480 with 1 Axes>"
      ],
      "image/png": "[encoded data removed]"
     },
     "metadata": {},
     "output_type": "display_data"
    }
   ],
   "execution_count": 12
  },
  {
   "cell_type": "markdown",
   "metadata": {},
   "source": [
    "## Część 4. - rekomendacje"
   ]
  },
  {
   "cell_type": "code",
   "metadata": {
    "ExecuteTime": {
     "end_time": "2024-11-23T11:24:04.120907Z",
     "start_time": "2024-11-23T11:24:04.116186Z"
    }
   },
   "source": [
    "# funkcje pomocnicze\n",
    "def print_movies(movie_ids: List[str], movies: Dict[str, Movie], print_missing=True):\n",
    "    for m_id in movie_ids:\n",
    "        if m_id in movies:\n",
    "            print(movies[m_id].basic_info())\n",
    "        elif print_missing:\n",
    "            print(f'movie_id: {m_id}')\n",
    "\n",
    "def describe_user(user_id: str, reviews: List[Review], movies: Dict[str, Movie]):\n",
    "    positive_ratings = [x.movie_id for x in reviews if x.user_id == user_id and x.rating >= 4.0]\n",
    "    negative_ratings = [x.movie_id for x in reviews if x.user_id == user_id and x.rating <= 2.0]\n",
    "    neutral_ratings = [x.movie_id for x in reviews if x.user_id == user_id and x.rating > 2.0 and x.rating < 4.0]\n",
    "    \n",
    "    print(f'user_id: {user_id}')\n",
    "    print('Positive ratings:')\n",
    "    print_movies(positive_ratings, movies, print_missing=False)\n",
    "    print('Neutral ratings:')\n",
    "    print_movies(neutral_ratings, movies, print_missing=False)\n",
    "    print('Negative ratings:')\n",
    "    print_movies(negative_ratings, movies, print_missing=False)"
   ],
   "outputs": [],
   "execution_count": 13
  },
  {
   "cell_type": "code",
   "metadata": {
    "ExecuteTime": {
     "end_time": "2024-11-23T12:19:27.302248Z",
     "start_time": "2024-11-23T12:19:27.299763Z"
    }
   },
   "source": [
    "def recommend(user_id: str, model: ERModel, triples_factory: TriplesFactory, k: int) -> List[str]:\n",
    "    relation = 'positive_rating'\n",
    "    prediction = predict_target(model, head=user_id, relation=relation, triples_factory=triples_factory)\n",
    "    movie_recommendations = [r[2] for r in prediction.df.sort_values(by=\"score\", ascending=False).values if r[2].startswith('m_')]\n",
    "    result = []\n",
    "    for movie_id in movie_recommendations:\n",
    "        if movie_id in movies:\n",
    "            result.append(movie_id)\n",
    "        if len(result) == k:\n",
    "            break\n",
    "\n",
    "    return result"
   ],
   "outputs": [],
   "execution_count": 101
  },
  {
   "metadata": {
    "ExecuteTime": {
     "end_time": "2024-11-23T12:18:14.861617Z",
     "start_time": "2024-11-23T12:18:14.858991Z"
    }
   },
   "cell_type": "code",
   "source": [
    "def print_recommendation(recommendation: List[str], movies: Dict[str, Movie]):\n",
    "    for movie_id in recommendation:\n",
    "        movie = movies[movie_id]\n",
    "        print(movie.basic_info())"
   ],
   "outputs": [],
   "execution_count": 98
  },
  {
   "cell_type": "code",
   "metadata": {
    "ExecuteTime": {
     "end_time": "2024-11-23T12:19:29.771371Z",
     "start_time": "2024-11-23T12:19:29.747893Z"
    }
   },
   "source": [
    "user_id = 'u_547' # uzytkownik z bardzo duza historia\n",
    "# user_id = 'u_244'\n",
    "describe_user(user_id, ratings, movies)\n",
    "recommendation = recommend(user_id, pipeline_result.model, tf, 20)\n",
    "print('Recommendation:')\n",
    "print_recommendation(recommendation, movies)"
   ],
   "outputs": [
    {
     "name": "stdout",
     "output_type": "stream",
     "text": [
      "user_id: u_547\n",
      "Positive ratings:\n",
      "{'movie_id': 'm_2762', 'title': 'Young and Innocent', 'genres': ['Drama', 'Crime'], 'production_countries': ['GB']}\n",
      "{'movie_id': 'm_1278', 'title': 'The Dreamers', 'genres': ['Drama', 'Romance'], 'production_countries': ['FR', 'IT', 'GB']}\n",
      "{'movie_id': 'm_1694', 'title': 'Re-Animator', 'genres': ['Science Fiction', 'Comedy', 'Horror'], 'production_countries': ['US']}\n",
      "{'movie_id': 'm_1252', 'title': 'Lonely Hearts', 'genres': ['Drama', 'Thriller', 'Crime', 'Romance'], 'production_countries': ['US']}\n",
      "{'movie_id': 'm_3060', 'title': 'The Big Parade', 'genres': ['Drama', 'Romance', 'War'], 'production_countries': ['US']}\n",
      "{'movie_id': 'm_1282', 'title': 'Dogtown and Z-Boys', 'genres': ['Documentary'], 'production_countries': ['US']}\n",
      "{'movie_id': 'm_2132', 'title': 'Totally Blonde', 'genres': ['Comedy'], 'production_countries': ['US']}\n",
      "{'movie_id': 'm_2020', 'title': 'The Bachelor', 'genres': ['Comedy'], 'production_countries': ['US']}\n",
      "{'movie_id': 'm_2321', 'title': 'Married to the Mob', 'genres': ['Comedy', 'Crime', 'Romance'], 'production_countries': ['US']}\n",
      "{'movie_id': 'm_3763', 'title': '鬼婆', 'genres': ['Horror'], 'production_countries': ['JP']}\n",
      "{'movie_id': 'm_608', 'title': 'Men in Black II', 'genres': ['Action', 'Adventure', 'Comedy', 'Science Fiction'], 'production_countries': ['US']}\n",
      "{'movie_id': 'm_25', 'title': 'Jarhead', 'genres': ['Drama', 'War'], 'production_countries': ['DE', 'US']}\n",
      "{'movie_id': 'm_2019', 'title': 'Hard Target', 'genres': ['Action', 'Adventure', 'Crime', 'Thriller'], 'production_countries': ['US']}\n",
      "{'movie_id': 'm_457', 'title': 'Sissi', 'genres': ['Comedy', 'Drama', 'Romance'], 'production_countries': ['AT']}\n",
      "{'movie_id': 'm_1964', 'title': 'Ein Freund von mir', 'genres': ['Drama'], 'production_countries': ['DE']}\n",
      "{'movie_id': 'm_2300', 'title': 'Space Jam', 'genres': ['Animation', 'Comedy', 'Drama', 'Family', 'Fantasy'], 'production_countries': ['US']}\n",
      "{'movie_id': 'm_1267', 'title': 'Meet the Robinsons', 'genres': ['Animation', 'Comedy', 'Family'], 'production_countries': ['US']}\n",
      "{'movie_id': 'm_913', 'title': 'The Thomas Crown Affair', 'genres': ['Drama', 'Crime', 'Romance'], 'production_countries': ['US']}\n",
      "{'movie_id': 'm_926', 'title': 'Galaxy Quest', 'genres': ['Comedy', 'Family', 'Science Fiction'], 'production_countries': ['US']}\n",
      "{'movie_id': 'm_1885', 'title': 'The Karate Kid', 'genres': ['Drama'], 'production_countries': ['US']}\n",
      "{'movie_id': 'm_1247', 'title': 'The Good Shepherd', 'genres': ['Drama', 'Thriller', 'History'], 'production_countries': ['US']}\n",
      "{'movie_id': 'm_500', 'title': 'Reservoir Dogs', 'genres': ['Crime', 'Thriller'], 'production_countries': ['US']}\n",
      "{'movie_id': 'm_1732', 'title': 'The Prisoner of Zenda', 'genres': ['Action', 'Adventure', 'Comedy'], 'production_countries': ['US']}\n",
      "{'movie_id': 'm_1407', 'title': 'La Môme', 'genres': ['Romance', 'Music', 'Drama'], 'production_countries': ['CZ', 'FR', 'GB']}\n",
      "{'movie_id': 'm_441', 'title': 'Human Nature', 'genres': ['Drama', 'Comedy'], 'production_countries': ['US']}\n",
      "{'movie_id': 'm_6016', 'title': 'The Good Thief', 'genres': ['Crime', 'Drama', 'Thriller'], 'production_countries': ['CA', 'FR', 'IE', 'GB']}\n",
      "{'movie_id': 'm_949', 'title': 'Heat', 'genres': ['Action', 'Crime', 'Drama', 'Thriller'], 'production_countries': ['US']}\n",
      "{'movie_id': 'm_903', 'title': 'Cool Hand Luke', 'genres': ['Crime', 'Drama'], 'production_countries': ['US']}\n",
      "{'movie_id': 'm_4995', 'title': 'Boogie Nights', 'genres': ['Drama'], 'production_countries': ['US']}\n",
      "{'movie_id': 'm_2160', 'title': 'Voyage to the Bottom of the Sea', 'genres': ['Adventure', 'Drama', 'Science Fiction'], 'production_countries': ['US']}\n",
      "{'movie_id': 'm_1361', 'title': 'The Return of the King', 'genres': ['Animation', 'Family', 'Fantasy'], 'production_countries': ['US']}\n",
      "{'movie_id': 'm_111', 'title': 'Scarface', 'genres': ['Action', 'Crime', 'Drama', 'Thriller'], 'production_countries': ['US']}\n",
      "{'movie_id': 'm_1059', 'title': '隠し砦の三悪人', 'genres': ['Adventure', 'Drama', 'Action', 'Comedy'], 'production_countries': ['JP']}\n",
      "{'movie_id': 'm_1939', 'title': 'Laura', 'genres': ['Drama', 'Mystery'], 'production_countries': ['US']}\n",
      "{'movie_id': 'm_1721', 'title': '...Più forte ragazzi!', 'genres': ['Adventure', 'Action', 'Comedy'], 'production_countries': ['IT']}\n",
      "{'movie_id': 'm_593', 'title': 'Солярис', 'genres': ['Drama', 'Science Fiction', 'Adventure', 'Mystery'], 'production_countries': ['RU']}\n",
      "{'movie_id': 'm_272', 'title': 'Batman Begins', 'genres': ['Action', 'Crime', 'Drama'], 'production_countries': ['GB', 'US']}\n",
      "{'movie_id': 'm_922', 'title': 'Dead Man', 'genres': ['Drama', 'Fantasy', 'Western'], 'production_countries': ['DE', 'JP', 'US']}\n",
      "{'movie_id': 'm_247', 'title': 'The Killing', 'genres': ['Drama', 'Action', 'Thriller', 'Crime'], 'production_countries': ['US']}\n",
      "{'movie_id': 'm_3104', 'title': 'Frankenstein Created Woman', 'genres': ['Horror', 'Science Fiction'], 'production_countries': ['GB']}\n",
      "{'movie_id': 'm_1090', 'title': 'The Thirteenth Floor', 'genres': ['Thriller', 'Science Fiction', 'Mystery'], 'production_countries': ['US']}\n",
      "{'movie_id': 'm_1265', 'title': 'Bridge to Terabithia', 'genres': ['Adventure', 'Drama', 'Family'], 'production_countries': ['US']}\n",
      "{'movie_id': 'm_8966', 'title': 'Twilight', 'genres': ['Adventure', 'Fantasy', 'Drama', 'Romance'], 'production_countries': ['US']}\n",
      "{'movie_id': 'm_938', 'title': 'Per qualche dollaro in più', 'genres': ['Western'], 'production_countries': ['IT', 'ES', 'DE']}\n",
      "{'movie_id': 'm_866', 'title': 'Finding Neverland', 'genres': ['Drama'], 'production_countries': ['GB', 'US']}\n",
      "{'movie_id': 'm_1358', 'title': 'A Brief History of Time', 'genres': ['Documentary'], 'production_countries': ['GB']}\n",
      "{'movie_id': 'm_1269', 'title': 'Neues vom Wixxer', 'genres': ['Comedy', 'Crime'], 'production_countries': ['DE']}\n",
      "{'movie_id': 'm_47099', 'title': 'Tueur à gages', 'genres': [], 'production_countries': ['FR', 'KZ']}\n",
      "{'movie_id': 'm_150', 'title': '48 Hrs.', 'genres': ['Thriller', 'Action', 'Comedy', 'Crime', 'Drama'], 'production_countries': ['US']}\n",
      "{'movie_id': 'm_2731', 'title': 'Indochine', 'genres': ['Drama', 'Romance'], 'production_countries': ['FR']}\n",
      "{'movie_id': 'm_1994', 'title': 'The Most Dangerous Game', 'genres': ['Adventure', 'Horror', 'Thriller'], 'production_countries': ['US']}\n",
      "{'movie_id': 'm_46578', 'title': 'The Great American Girl Robbery', 'genres': ['Comedy', 'Crime'], 'production_countries': ['US']}\n",
      "{'movie_id': 'm_5902', 'title': 'A Bridge Too Far', 'genres': ['Drama', 'History', 'War'], 'production_countries': ['GB', 'US']}\n",
      "{'movie_id': 'm_778', 'title': 'Les Vacances de Monsieur Hulot', 'genres': ['Comedy', 'Family'], 'production_countries': ['FR']}\n",
      "{'movie_id': 'm_2333', 'title': 'Buddenbrooks', 'genres': ['Drama'], 'production_countries': ['DE']}\n",
      "{'movie_id': 'm_2788', 'title': 'Reality Bites', 'genres': ['Drama'], 'production_countries': ['US']}\n",
      "{'movie_id': 'm_923', 'title': 'Dawn of the Dead', 'genres': ['Horror'], 'production_countries': ['IT', 'JP', 'US']}\n",
      "{'movie_id': 'm_194', 'title': \"Le fabuleux destin d'Amélie Poulain\", 'genres': ['Comedy', 'Romance'], 'production_countries': ['FR', 'DE']}\n",
      "{'movie_id': 'm_1092', 'title': 'The Third Man', 'genres': ['Thriller', 'Mystery'], 'production_countries': ['GB']}\n",
      "{'movie_id': 'm_1834', 'title': 'Murder, My Sweet', 'genres': ['Crime', 'Drama', 'Mystery', 'Thriller'], 'production_countries': ['US']}\n",
      "{'movie_id': 'm_300', 'title': 'La science des rêves', 'genres': ['Comedy', 'Drama', 'Fantasy'], 'production_countries': ['FR', 'IT']}\n",
      "{'movie_id': 'm_1945', 'title': 'Nell', 'genres': ['Drama', 'Thriller'], 'production_countries': ['US']}\n",
      "{'movie_id': 'm_2018', 'title': 'The Wedding Planner', 'genres': ['Comedy'], 'production_countries': ['US']}\n",
      "{'movie_id': 'm_581', 'title': 'Dances with Wolves', 'genres': ['Adventure', 'Drama', 'Western'], 'production_countries': ['GB', 'US']}\n",
      "{'movie_id': 'm_968', 'title': 'Dog Day Afternoon', 'genres': ['Crime', 'Drama', 'Thriller'], 'production_countries': ['US']}\n",
      "{'movie_id': 'm_4975', 'title': 'Love Is the Devil: Study for a Portrait of Francis Bacon', 'genres': ['TV Movie', 'Drama'], 'production_countries': ['GB']}\n",
      "{'movie_id': 'm_2313', 'title': 'Prime', 'genres': ['Comedy', 'Drama', 'Romance'], 'production_countries': ['US']}\n",
      "{'movie_id': 'm_4973', 'title': 'Sous le Sable', 'genres': ['Drama', 'Mystery'], 'production_countries': ['FR']}\n",
      "{'movie_id': 'm_1584', 'title': 'School of Rock', 'genres': ['Comedy', 'Music'], 'production_countries': ['DE', 'US']}\n",
      "{'movie_id': 'm_2648', 'title': '新最佳拍檔', 'genres': ['Action'], 'production_countries': ['HK']}\n",
      "{'movie_id': 'm_2929', 'title': 'Frankenstein', 'genres': ['Horror', 'Science Fiction'], 'production_countries': ['US']}\n",
      "{'movie_id': 'm_596', 'title': 'The Grapes of Wrath', 'genres': ['Drama'], 'production_countries': ['US']}\n",
      "{'movie_id': 'm_1280', 'title': '빈집', 'genres': ['Drama', 'Romance', 'Crime'], 'production_countries': ['KR', 'JP']}\n",
      "{'movie_id': 'm_954', 'title': 'Mission: Impossible', 'genres': ['Adventure', 'Action', 'Thriller'], 'production_countries': ['US']}\n",
      "{'movie_id': 'm_2324', 'title': 'Local Color', 'genres': ['Drama'], 'production_countries': ['US']}\n",
      "{'movie_id': 'm_5693', 'title': 'Hoosiers', 'genres': ['Drama', 'Family'], 'production_countries': ['US']}\n",
      "{'movie_id': 'm_4816', 'title': 'Ghost Dog: The Way of the Samurai', 'genres': ['Crime', 'Drama'], 'production_countries': ['US']}\n",
      "{'movie_id': 'm_44555', 'title': '三枪拍案惊奇', 'genres': ['Comedy', 'Drama', 'Thriller'], 'production_countries': ['CN']}\n",
      "{'movie_id': 'm_2657', 'title': 'Pleasantville', 'genres': ['Fantasy', 'Drama', 'Comedy'], 'production_countries': ['US']}\n",
      "{'movie_id': 'm_924', 'title': 'Dawn of the Dead', 'genres': ['Fantasy', 'Horror', 'Action'], 'production_countries': ['US']}\n",
      "{'movie_id': 'm_67255', 'title': 'Gyakufunsha kazoku', 'genres': ['Drama', 'Comedy'], 'production_countries': ['JP']}\n",
      "{'movie_id': 'm_2289', 'title': 'Cold Mountain', 'genres': ['Drama'], 'production_countries': ['US', 'GB', 'RO', 'IT']}\n",
      "{'movie_id': 'm_2791', 'title': 'The Chronicles of Riddick: Dark Fury', 'genres': ['Action', 'Animation', 'Science Fiction', 'Thriller'], 'production_countries': ['US']}\n",
      "{'movie_id': 'm_1248', 'title': 'Hannibal Rising', 'genres': ['Crime', 'Drama', 'Thriller'], 'production_countries': ['GB', 'CZ', 'FR', 'IT']}\n",
      "{'movie_id': 'm_475', 'title': 'Bonnie and Clyde', 'genres': ['Crime', 'Drama'], 'production_countries': ['US']}\n",
      "{'movie_id': 'm_3469', 'title': 'Far from the Madding Crowd', 'genres': ['Drama', 'Romance'], 'production_countries': ['GB']}\n",
      "{'movie_id': 'm_3019', 'title': 'Dr. Jekyll and Mr. Hyde', 'genres': ['Horror', 'Science Fiction'], 'production_countries': ['US']}\n",
      "{'movie_id': 'm_750', 'title': 'Murder She Said', 'genres': ['Drama', 'Crime', 'Mystery', 'Comedy'], 'production_countries': ['GB']}\n",
      "{'movie_id': 'm_4235', 'title': 'Le Clan des Siciliens', 'genres': ['Crime'], 'production_countries': ['FR']}\n",
      "{'movie_id': 'm_3683', 'title': 'Flags of Our Fathers', 'genres': ['War', 'Drama', 'History'], 'production_countries': ['US']}\n",
      "{'movie_id': 'm_2690', 'title': 'Irma la Douce', 'genres': ['Comedy', 'Romance'], 'production_countries': ['US']}\n",
      "{'movie_id': 'm_909', 'title': 'Meet Me in St. Louis', 'genres': ['Comedy', 'Music', 'Romance'], 'production_countries': ['US']}\n",
      "{'movie_id': 'm_858', 'title': 'Sleepless in Seattle', 'genres': ['Comedy', 'Drama', 'Romance'], 'production_countries': ['US']}\n",
      "{'movie_id': 'm_3088', 'title': 'My Darling Clementine', 'genres': ['Drama', 'Western'], 'production_countries': ['US']}\n",
      "{'movie_id': 'm_40629', 'title': 'The Mikado', 'genres': ['Drama', 'Comedy', 'Music', 'Romance', 'Foreign'], 'production_countries': []}\n",
      "{'movie_id': 'm_1611', 'title': 'Das Wunder von Bern', 'genres': ['Drama', 'Comedy'], 'production_countries': ['DE']}\n",
      "{'movie_id': 'm_3536', 'title': 'U-571', 'genres': ['Action', 'Drama', 'Thriller', 'War'], 'production_countries': ['FR', 'US']}\n",
      "{'movie_id': 'm_1284', 'title': 'Torrente 2: Misión en Marbella', 'genres': ['Comedy', 'Crime'], 'production_countries': ['ES']}\n",
      "{'movie_id': 'm_2186', 'title': 'Within the Woods', 'genres': ['Horror'], 'production_countries': ['US']}\n",
      "{'movie_id': 'm_1956', 'title': 'Gerry', 'genres': ['Mystery', 'Drama', 'Adventure'], 'production_countries': ['US', 'AR']}\n",
      "{'movie_id': 'm_2176', 'title': 'The Glass House', 'genres': ['Drama', 'Thriller'], 'production_countries': ['US']}\n",
      "{'movie_id': 'm_1251', 'title': 'Letters from Iwo Jima', 'genres': ['Action', 'Adventure', 'Drama', 'War'], 'production_countries': ['JP', 'US']}\n",
      "{'movie_id': 'm_921', 'title': 'Cinderella Man', 'genres': ['Romance', 'Drama', 'History'], 'production_countries': ['US']}\n",
      "{'movie_id': 'm_2926', 'title': 'The Three Musketeers', 'genres': ['Action', 'Adventure', 'Comedy', 'Drama'], 'production_countries': ['US']}\n",
      "{'movie_id': 'm_2692', 'title': 'Der rote Elvis', 'genres': ['Documentary'], 'production_countries': ['DE']}\n",
      "{'movie_id': 'm_5995', 'title': 'Miffo', 'genres': ['Comedy', 'Drama'], 'production_countries': ['SE']}\n",
      "{'movie_id': 'm_919', 'title': 'Blood: The Last Vampire', 'genres': ['Fantasy', 'Animation', 'Horror', 'Comedy', 'Thriller', 'Science Fiction'], 'production_countries': ['JP']}\n",
      "{'movie_id': 'm_1680', 'title': 'Kingu Kongu tai Gojira', 'genres': ['Action', 'Adventure', 'Science Fiction'], 'production_countries': ['JP']}\n",
      "{'movie_id': 'm_1103', 'title': 'Escape from New York', 'genres': ['Science Fiction', 'Action'], 'production_countries': ['US']}\n",
      "{'movie_id': 'm_3478', 'title': 'Ludwig', 'genres': ['Drama', 'History'], 'production_countries': ['FR', 'DE', 'IT']}\n",
      "{'movie_id': 'm_4226', 'title': 'Shriek If You Know What I Did Last Friday the Thirteenth', 'genres': ['Comedy'], 'production_countries': ['US']}\n",
      "{'movie_id': 'm_1950', 'title': 'Lucky You', 'genres': ['Drama', 'Romance'], 'production_countries': ['US']}\n",
      "{'movie_id': 'm_898', 'title': 'Birdman of Alcatraz', 'genres': ['Drama'], 'production_countries': ['US']}\n",
      "{'movie_id': 'm_902', 'title': 'La Cité des Enfants Perdus', 'genres': ['Fantasy', 'Science Fiction', 'Adventure'], 'production_countries': ['FR', 'DE', 'ES']}\n",
      "{'movie_id': 'm_3176', 'title': 'バトル・ロワイアル', 'genres': ['Drama', 'Thriller', 'Adventure'], 'production_countries': ['JP']}\n",
      "{'movie_id': 'm_8981', 'title': 'Dear Frankie', 'genres': ['Drama', 'Family'], 'production_countries': ['GB']}\n",
      "{'movie_id': 'm_1635', 'title': 'The Island', 'genres': ['Action', 'Thriller', 'Science Fiction', 'Adventure'], 'production_countries': ['US']}\n",
      "{'movie_id': 'm_2770', 'title': 'American Pie 2', 'genres': ['Comedy', 'Romance'], 'production_countries': ['US']}\n",
      "{'movie_id': 'm_33166', 'title': 'Downhill Racer', 'genres': ['Drama'], 'production_countries': ['US']}\n",
      "{'movie_id': 'm_905', 'title': 'Die Büchse der Pandora', 'genres': ['Drama', 'Thriller', 'Romance'], 'production_countries': ['DE']}\n",
      "{'movie_id': 'm_1089', 'title': 'Point Break', 'genres': ['Action', 'Thriller', 'Crime'], 'production_countries': ['US']}\n",
      "{'movie_id': 'm_1441', 'title': 'The Contract', 'genres': ['Drama', 'Action', 'Thriller', 'Crime'], 'production_countries': ['BG', 'US']}\n",
      "{'movie_id': 'm_17', 'title': 'The Dark', 'genres': ['Horror', 'Thriller', 'Mystery'], 'production_countries': ['DE', 'GB']}\n",
      "{'movie_id': 'm_3022', 'title': 'Dr. Jekyll and Mr. Hyde', 'genres': ['Drama', 'Horror', 'Science Fiction'], 'production_countries': ['US']}\n",
      "{'movie_id': 'm_899', 'title': 'Broken Blossoms', 'genres': ['Drama', 'Romance'], 'production_countries': ['US']}\n",
      "{'movie_id': 'm_56152', 'title': 'Brigham Young', 'genres': ['History', 'Romance', 'Western'], 'production_countries': ['US']}\n",
      "{'movie_id': 'm_955', 'title': 'Mission: Impossible II', 'genres': ['Adventure', 'Action', 'Thriller'], 'production_countries': ['DE', 'US']}\n",
      "{'movie_id': 'm_232', 'title': 'Rumble Fish', 'genres': ['Action', 'Adventure', 'Crime', 'Drama', 'Romance'], 'production_countries': ['US']}\n",
      "{'movie_id': 'm_54272', 'title': '座頭市関所破り', 'genres': ['Adventure', 'Action', 'Drama'], 'production_countries': ['JP']}\n",
      "{'movie_id': 'm_594', 'title': 'The Terminal', 'genres': ['Comedy', 'Drama'], 'production_countries': ['US']}\n",
      "{'movie_id': 'm_41566', 'title': 'New York Doll', 'genres': ['Documentary', 'Music'], 'production_countries': ['US']}\n",
      "{'movie_id': 'm_3168', 'title': 'Ballo a tre passi', 'genres': ['Drama'], 'production_countries': ['IT']}\n",
      "{'movie_id': 'm_288', 'title': 'High Noon', 'genres': ['Western'], 'production_countries': ['US']}\n",
      "{'movie_id': 'm_2357', 'title': '10 Items or Less', 'genres': ['Comedy', 'Drama'], 'production_countries': ['US']}\n",
      "{'movie_id': 'm_3007', 'title': 'Frau im Mond', 'genres': ['Drama', 'Comedy', 'Science Fiction', 'Romance'], 'production_countries': ['DE']}\n",
      "{'movie_id': 'm_27904', 'title': 'แสงศตวรรษ', 'genres': ['Drama', 'Romance'], 'production_countries': ['TH', 'AT', 'FR']}\n",
      "{'movie_id': 'm_51540', 'title': 'Horrible Bosses', 'genres': ['Comedy', 'Crime'], 'production_countries': ['US']}\n",
      "{'movie_id': 'm_1244', 'title': 'Das wilde Leben', 'genres': ['Music', 'Drama', 'Comedy'], 'production_countries': ['DE']}\n",
      "{'movie_id': 'm_2349', 'title': 'Erbsen auf halb 6', 'genres': ['Drama'], 'production_countries': ['DE']}\n",
      "{'movie_id': 'm_74458', 'title': 'Mere Brother Ki Dulhan', 'genres': ['Drama', 'Comedy', 'Romance'], 'production_countries': ['IN']}\n",
      "{'movie_id': 'm_2078', 'title': 'The Pawnshop', 'genres': ['Comedy'], 'production_countries': ['US']}\n",
      "{'movie_id': 'm_8464', 'title': 'Top of the Food Chain', 'genres': ['Horror', 'Comedy', 'Science Fiction'], 'production_countries': ['CA']}\n",
      "{'movie_id': 'm_1729', 'title': 'The Forbidden Kingdom', 'genres': ['Action', 'Adventure', 'Fantasy'], 'production_countries': ['CN', 'US']}\n",
      "{'movie_id': 'm_337', 'title': 'Monsieur Ibrahim et les fleurs du Coran', 'genres': ['Drama'], 'production_countries': ['FR']}\n",
      "{'movie_id': 'm_233', 'title': 'The Wanderers', 'genres': ['Drama'], 'production_countries': ['US']}\n",
      "{'movie_id': 'm_1271', 'title': '300', 'genres': ['Action', 'Adventure', 'War'], 'production_countries': ['US']}\n",
      "{'movie_id': 'm_931', 'title': \"Don't Look Now\", 'genres': ['Thriller', 'Drama', 'Horror'], 'production_countries': ['IT', 'GB']}\n",
      "{'movie_id': 'm_2363', 'title': 'Les Cousins', 'genres': ['Drama'], 'production_countries': ['FR']}\n",
      "{'movie_id': 'm_920', 'title': 'Cars', 'genres': ['Animation', 'Adventure', 'Comedy', 'Family'], 'production_countries': ['US']}\n",
      "{'movie_id': 'm_3699', 'title': 'Sette orchidee macchiate di rosso', 'genres': ['Mystery', 'Crime', 'Horror'], 'production_countries': ['DE', 'IT']}\n",
      "{'movie_id': 'm_1955', 'title': 'The Elephant Man', 'genres': ['Drama', 'History'], 'production_countries': ['GB', 'US']}\n",
      "{'movie_id': 'm_1947', 'title': 'An Unfinished Life', 'genres': ['Drama'], 'production_countries': ['US', 'DE']}\n",
      "{'movie_id': 'm_53000', 'title': 'Soul Assassin', 'genres': ['Action', 'Mystery', 'Thriller'], 'production_countries': ['NL']}\n",
      "{'movie_id': 'm_4034', 'title': \"L'Homme de Rio\", 'genres': ['Action', 'Adventure', 'Comedy'], 'production_countries': ['FR']}\n",
      "{'movie_id': 'm_1965', 'title': 'A Perfect Murder', 'genres': ['Crime', 'Thriller', 'Drama'], 'production_countries': ['US']}\n",
      "{'movie_id': 'm_266', 'title': 'Le Mépris', 'genres': ['Drama'], 'production_countries': ['FR', 'IT']}\n",
      "{'movie_id': 'm_342', 'title': 'Sommersturm', 'genres': ['Comedy', 'Drama'], 'production_countries': ['DE']}\n",
      "{'movie_id': 'm_1810', 'title': 'Viva Zapata!', 'genres': ['History', 'Drama', 'Western'], 'production_countries': ['US']}\n",
      "{'movie_id': 'm_2890', 'title': 'André Hazes, Zij Gelooft in Mij', 'genres': ['Documentary'], 'production_countries': ['ES', 'NL']}\n",
      "{'movie_id': 'm_165', 'title': 'Back to the Future Part II', 'genres': ['Adventure', 'Comedy', 'Family', 'Science Fiction'], 'production_countries': ['US']}\n",
      "{'movie_id': 'm_265', 'title': 'Lili Marleen', 'genres': ['War', 'Drama', 'Romance'], 'production_countries': ['DE']}\n",
      "{'movie_id': 'm_527', 'title': 'Once Were Warriors', 'genres': ['Drama'], 'production_countries': ['NZ']}\n",
      "{'movie_id': 'm_235', 'title': 'Stand by Me', 'genres': ['Crime', 'Drama'], 'production_countries': ['US']}\n",
      "{'movie_id': 'm_296', 'title': 'Terminator 3: Rise of the Machines', 'genres': ['Action', 'Thriller', 'Science Fiction'], 'production_countries': ['DE', 'GB', 'US']}\n",
      "{'movie_id': 'm_2064', 'title': 'While You Were Sleeping', 'genres': ['Comedy', 'Drama', 'Romance'], 'production_countries': ['US']}\n",
      "{'movie_id': 'm_3175', 'title': 'Barry Lyndon', 'genres': ['Drama', 'Romance', 'War'], 'production_countries': ['GB', 'US']}\n",
      "{'movie_id': 'm_671', 'title': \"Harry Potter and the Philosopher's Stone\", 'genres': ['Adventure', 'Fantasy', 'Family'], 'production_countries': ['GB', 'US']}\n",
      "{'movie_id': 'm_2455', 'title': 'Vivement dimanche!', 'genres': ['Drama', 'Comedy', 'Crime'], 'production_countries': ['FR']}\n",
      "{'movie_id': 'm_3160', 'title': 'Furankenshutain Tai Chitei Kaijū Baragon', 'genres': ['Horror', 'Science Fiction'], 'production_countries': ['JP']}\n",
      "{'movie_id': 'm_1370', 'title': 'Rambo III', 'genres': ['Action', 'Adventure', 'Thriller', 'War'], 'production_countries': ['US']}\n",
      "{'movie_id': 'm_628', 'title': 'Interview with the Vampire', 'genres': ['Horror', 'Romance'], 'production_countries': ['US']}\n",
      "{'movie_id': 'm_1946', 'title': 'eXistenZ', 'genres': ['Action', 'Thriller', 'Science Fiction', 'Horror'], 'production_countries': ['CA', 'FR', 'GB']}\n",
      "{'movie_id': 'm_2067', 'title': 'Mission to Mars', 'genres': ['Science Fiction'], 'production_countries': ['US']}\n",
      "{'movie_id': 'm_176', 'title': 'Saw', 'genres': ['Horror', 'Mystery', 'Crime'], 'production_countries': ['US']}\n",
      "{'movie_id': 'm_246', 'title': '座頭市', 'genres': ['Adventure', 'Drama', 'Action'], 'production_countries': ['JP']}\n",
      "{'movie_id': 'm_39183', 'title': 'Once in a Lifetime: The Extraordinary Story of the New York Cosmos', 'genres': ['Documentary'], 'production_countries': []}\n",
      "{'movie_id': 'm_1594', 'title': 'A Shot in the Dark', 'genres': ['Comedy', 'Crime'], 'production_countries': ['GB', 'US']}\n",
      "{'movie_id': 'm_1254', 'title': \"Je vais bien, ne t'en fais pas\", 'genres': ['Drama'], 'production_countries': ['FR']}\n",
      "{'movie_id': 'm_89492', 'title': 'This Is 40', 'genres': ['Comedy'], 'production_countries': ['US']}\n",
      "{'movie_id': 'm_16', 'title': 'Dancer in the Dark', 'genres': ['Drama', 'Crime', 'Music'], 'production_countries': ['AR', 'DK', 'FI', 'FR', 'DE', 'IS', 'IT', 'NL', 'NO', 'SE', 'GB', 'US']}\n",
      "{'movie_id': 'm_918', 'title': 'Blind Date', 'genres': ['Comedy', 'Romance'], 'production_countries': ['US']}\n",
      "{'movie_id': 'm_3101', 'title': 'I Love You to Death', 'genres': ['Action', 'Comedy', 'Crime'], 'production_countries': ['US']}\n",
      "{'movie_id': 'm_1405', 'title': 'Greed', 'genres': ['Drama', 'History'], 'production_countries': ['US']}\n",
      "{'movie_id': 'm_21', 'title': 'The Endless Summer', 'genres': ['Documentary'], 'production_countries': ['US']}\n",
      "{'movie_id': 'm_994', 'title': 'Straw Dogs', 'genres': ['Crime', 'Drama', 'Thriller', 'Mystery'], 'production_countries': ['GB', 'US']}\n",
      "{'movie_id': 'm_40819', 'title': 'Best Worst Movie', 'genres': ['Documentary', 'Comedy'], 'production_countries': ['US', 'IS', 'IT', 'GB']}\n",
      "{'movie_id': 'm_3418', 'title': 'La Mort en direct', 'genres': ['Drama', 'Science Fiction'], 'production_countries': ['DE', 'FR']}\n",
      "{'movie_id': 'm_950', 'title': 'Ice Age: The Meltdown', 'genres': ['Animation', 'Family', 'Comedy', 'Adventure'], 'production_countries': ['US']}\n",
      "{'movie_id': 'm_1923', 'title': 'Twin Peaks: Fire Walk with Me', 'genres': ['Drama', 'Mystery'], 'production_countries': ['US']}\n",
      "{'movie_id': 'm_1387', 'title': 'Superstar: The Karen Carpenter Story', 'genres': ['Drama', 'Music'], 'production_countries': ['US']}\n",
      "{'movie_id': 'm_63876', 'title': 'La ronde', 'genres': ['Drama', 'Comedy', 'History', 'Romance'], 'production_countries': ['IT', 'FR']}\n",
      "{'movie_id': 'm_30707', 'title': 'Star 80', 'genres': ['Drama'], 'production_countries': ['US']}\n",
      "{'movie_id': 'm_1411', 'title': 'The Rapture', 'genres': ['Mystery', 'Drama'], 'production_countries': ['US']}\n",
      "{'movie_id': 'm_1253', 'title': 'Breaking and Entering', 'genres': ['Drama', 'Romance'], 'production_countries': ['GB', 'US']}\n",
      "{'movie_id': 'm_2291', 'title': \"Jacob's Ladder\", 'genres': ['Drama', 'Mystery', 'Horror'], 'production_countries': ['US']}\n",
      "{'movie_id': 'm_942', 'title': 'Lethal Weapon 2', 'genres': ['Action', 'Adventure', 'Comedy', 'Crime', 'Thriller'], 'production_countries': ['US']}\n",
      "{'movie_id': 'm_1213', 'title': 'The Talented Mr. Ripley', 'genres': ['Thriller', 'Crime', 'Drama'], 'production_countries': ['US']}\n",
      "{'movie_id': 'm_2728', 'title': 'Postal', 'genres': ['Action', 'Comedy'], 'production_countries': ['CA']}\n",
      "{'movie_id': 'm_953', 'title': 'Madagascar', 'genres': ['Family', 'Animation'], 'production_countries': ['US']}\n",
      "{'movie_id': 'm_1948', 'title': 'Crank', 'genres': ['Action', 'Thriller', 'Crime'], 'production_countries': ['US']}\n",
      "{'movie_id': 'm_1682', 'title': 'Mosura tai Gojira', 'genres': ['Fantasy', 'Science Fiction', 'Action', 'Adventure'], 'production_countries': ['JP']}\n",
      "{'movie_id': 'm_928', 'title': 'Gremlins 2: The New Batch', 'genres': ['Comedy', 'Horror', 'Fantasy'], 'production_countries': ['US']}\n",
      "{'movie_id': 'm_1641', 'title': 'Forces of Nature', 'genres': ['Romance', 'Comedy'], 'production_countries': ['US']}\n",
      "{'movie_id': 'm_5060', 'title': 'Carry On Screaming', 'genres': ['Comedy'], 'production_countries': ['GB']}\n",
      "{'movie_id': 'm_910', 'title': 'The Big Sleep', 'genres': ['Crime', 'Drama', 'Mystery', 'Thriller'], 'production_countries': ['US']}\n",
      "{'movie_id': 'm_261', 'title': 'Cat on a Hot Tin Roof', 'genres': ['Drama', 'Romance'], 'production_countries': ['US']}\n",
      "{'movie_id': 'm_318', 'title': 'The Million Dollar Hotel', 'genres': ['Drama', 'Thriller'], 'production_countries': ['US', 'DE']}\n",
      "{'movie_id': 'm_912', 'title': 'The Thomas Crown Affair', 'genres': ['Romance', 'Crime', 'Thriller', 'Drama'], 'production_countries': ['US']}\n",
      "{'movie_id': 'm_97938', 'title': 'Heart of the Country', 'genres': ['Family', 'Romance', 'Drama'], 'production_countries': ['US']}\n",
      "{'movie_id': 'm_1088', 'title': 'Whale Rider', 'genres': ['Drama', 'Family'], 'production_countries': ['NZ']}\n",
      "{'movie_id': 'm_3037', 'title': 'Yella', 'genres': ['Drama', 'Romance'], 'production_countries': ['DE']}\n",
      "{'movie_id': 'm_1719', 'title': 'La Peau douce', 'genres': ['Drama', 'Romance'], 'production_countries': ['FR']}\n",
      "Neutral ratings:\n",
      "{'movie_id': 'm_6957', 'title': 'The 40 Year Old Virgin', 'genres': ['Comedy', 'Romance'], 'production_countries': ['US']}\n",
      "{'movie_id': 'm_85414', 'title': 'Brake', 'genres': ['Action', 'Thriller'], 'production_countries': ['US']}\n",
      "{'movie_id': 'm_11', 'title': 'Star Wars', 'genres': ['Adventure', 'Action', 'Science Fiction'], 'production_countries': ['US']}\n",
      "{'movie_id': 'm_597', 'title': 'Titanic', 'genres': ['Drama', 'Romance', 'Thriller'], 'production_countries': ['US']}\n",
      "{'movie_id': 'm_1961', 'title': 'My Name Is Bruce', 'genres': ['Comedy', 'Horror'], 'production_countries': ['US']}\n",
      "{'movie_id': 'm_2015', 'title': '밀양', 'genres': ['Drama'], 'production_countries': ['KR']}\n",
      "{'movie_id': 'm_381', 'title': 'To Catch a Thief', 'genres': ['Crime', 'Drama', 'Mystery', 'Romance', 'Thriller'], 'production_countries': ['US']}\n",
      "{'movie_id': 'm_2501', 'title': 'The Bourne Identity', 'genres': ['Action', 'Drama', 'Mystery', 'Thriller'], 'production_countries': ['US', 'DE', 'CZ']}\n",
      "{'movie_id': 'm_6003', 'title': 'Romeo and Juliet', 'genres': ['Drama', 'Romance'], 'production_countries': ['IT', 'GB']}\n",
      "{'movie_id': 'm_674', 'title': 'Harry Potter and the Goblet of Fire', 'genres': ['Adventure', 'Fantasy', 'Family'], 'production_countries': ['GB', 'US']}\n",
      "{'movie_id': 'm_3051', 'title': 'Eye of the Devil', 'genres': ['Crime', 'Horror', 'Mystery'], 'production_countries': ['GB']}\n",
      "{'movie_id': 'm_838', 'title': 'American Graffiti', 'genres': ['Comedy', 'Drama'], 'production_countries': ['US']}\n",
      "{'movie_id': 'm_2966', 'title': '20,000 Leagues Under the Sea', 'genres': ['Adventure', 'Fantasy', 'Action', 'Science Fiction'], 'production_countries': ['AU', 'US']}\n",
      "{'movie_id': 'm_3097', 'title': 'The Tulse Luper Suitcases, Part 1: The Moab Story', 'genres': ['War', 'Drama', 'History', 'Adventure', 'Romance', 'Thriller'], 'production_countries': ['GB', 'NL']}\n",
      "{'movie_id': 'm_48385', 'title': 'Indestructible Man', 'genres': ['Crime', 'Horror', 'Science Fiction'], 'production_countries': ['US']}\n",
      "{'movie_id': 'm_2993', 'title': \"Una sull'altra\", 'genres': ['Mystery', 'Thriller'], 'production_countries': ['ES', 'IT', 'FR']}\n",
      "{'movie_id': 'm_77561', 'title': 'EVA', 'genres': ['Science Fiction'], 'production_countries': ['ES']}\n",
      "{'movie_id': 'm_1702', 'title': 'Death Machine', 'genres': ['Action', 'Horror', 'Science Fiction', 'Thriller'], 'production_countries': ['GB']}\n",
      "{'movie_id': 'm_586', 'title': 'Wag the Dog', 'genres': ['Comedy', 'Drama'], 'production_countries': ['US']}\n",
      "{'movie_id': 'm_45722', 'title': 'No mires para abajo', 'genres': ['Drama', 'Romance'], 'production_countries': ['AR', 'FR']}\n",
      "{'movie_id': 'm_1777', 'title': 'Fahrenheit 9/11', 'genres': [], 'production_countries': ['US']}\n",
      "{'movie_id': 'm_1285', 'title': 'Torrente 3: El protector', 'genres': ['Comedy', 'Crime'], 'production_countries': ['ES']}\n",
      "{'movie_id': 'm_800', 'title': 'Los Olvidados', 'genres': ['Crime', 'Drama'], 'production_countries': ['MX']}\n",
      "{'movie_id': 'm_5991', 'title': 'Der letzte Mann', 'genres': ['Drama'], 'production_countries': ['DE']}\n",
      "{'movie_id': 'm_14', 'title': 'American Beauty', 'genres': ['Drama'], 'production_countries': ['US']}\n",
      "{'movie_id': 'm_281', 'title': 'Strange Days', 'genres': ['Crime', 'Drama', 'Science Fiction', 'Thriller'], 'production_countries': ['US']}\n",
      "{'movie_id': 'm_2360', 'title': 'Saving Grace', 'genres': ['Crime', 'Comedy'], 'production_countries': ['FR', 'GB']}\n",
      "{'movie_id': 'm_2759', 'title': 'The Adventures of Priscilla, Queen of the Desert', 'genres': ['Drama', 'Comedy'], 'production_countries': ['AU']}\n",
      "{'movie_id': 'm_590', 'title': 'The Hours', 'genres': ['Drama'], 'production_countries': ['US']}\n",
      "{'movie_id': 'm_1393', 'title': 'Die Höhle des gelben Hundes', 'genres': ['Documentary', 'Drama'], 'production_countries': ['MN', 'DE']}\n",
      "{'movie_id': 'm_2087', 'title': 'The Getaway', 'genres': ['Drama', 'Action', 'Thriller'], 'production_countries': ['JP', 'US']}\n",
      "{'movie_id': 'm_47610', 'title': 'Schwerkraft', 'genres': ['Crime', 'Drama'], 'production_countries': ['DE']}\n",
      "{'movie_id': 'm_2976', 'title': 'Hairspray', 'genres': ['Family', 'Comedy', 'Music', 'Romance'], 'production_countries': ['GB', 'US']}\n",
      "{'movie_id': 'm_1883', 'title': 'Malcolm X', 'genres': ['Drama', 'History'], 'production_countries': ['US']}\n",
      "{'movie_id': 'm_3543', 'title': 'Out of Rosenheim', 'genres': ['Comedy', 'Drama'], 'production_countries': ['DE', 'US']}\n",
      "{'movie_id': 'm_1268', 'title': \"Mr. Bean's Holiday\", 'genres': ['Family', 'Comedy'], 'production_countries': ['GB', 'US', 'FR', 'DE']}\n",
      "{'movie_id': 'm_1951', 'title': 'Manderlay', 'genres': ['Drama'], 'production_countries': ['DK', 'FR', 'DE', 'IT', 'NL', 'SE', 'GB']}\n",
      "{'movie_id': 'm_46976', 'title': 'Wish You Were Here', 'genres': ['Comedy', 'Drama', 'Foreign', 'Romance'], 'production_countries': ['GB']}\n",
      "{'movie_id': 'm_951', 'title': 'Kindergarten Cop', 'genres': ['Comedy'], 'production_countries': ['US']}\n",
      "{'movie_id': 'm_480', 'title': 'Monsoon Wedding', 'genres': ['Comedy', 'Drama', 'Romance'], 'production_countries': ['IN']}\n",
      "{'movie_id': 'm_1944', 'title': 'The Door in the Floor', 'genres': ['Drama'], 'production_countries': ['US']}\n",
      "{'movie_id': 'm_1958', 'title': '8 femmes', 'genres': ['Comedy', 'Thriller', 'Music', 'Crime', 'Mystery'], 'production_countries': ['FR', 'IT']}\n",
      "{'movie_id': 'm_948', 'title': 'Halloween', 'genres': ['Horror', 'Thriller'], 'production_countries': ['US']}\n",
      "{'movie_id': 'm_1380', 'title': 'Gleaming the Cube', 'genres': ['Drama'], 'production_countries': ['US']}\n",
      "{'movie_id': 'm_307', 'title': 'Roma città aperta', 'genres': ['Drama', 'History'], 'production_countries': ['IT']}\n",
      "{'movie_id': 'm_587', 'title': 'Big Fish', 'genres': ['Adventure', 'Fantasy', 'Drama'], 'production_countries': ['US']}\n",
      "{'movie_id': 'm_1734', 'title': 'The Mummy Returns', 'genres': ['Adventure', 'Action', 'Fantasy'], 'production_countries': ['US']}\n",
      "{'movie_id': 'm_162', 'title': 'Edward Scissorhands', 'genres': ['Fantasy', 'Drama', 'Romance'], 'production_countries': ['US']}\n",
      "{'movie_id': 'm_2108', 'title': 'The Breakfast Club', 'genres': ['Comedy', 'Drama'], 'production_countries': ['US']}\n",
      "{'movie_id': 'm_48780', 'title': 'Boat', 'genres': ['Foreign'], 'production_countries': ['US']}\n",
      "{'movie_id': 'm_4979', 'title': 'Montag kommen die Fenster', 'genres': ['Drama'], 'production_countries': ['DE']}\n",
      "{'movie_id': 'm_428', 'title': \"Sommer '04\", 'genres': ['Drama', 'Romance'], 'production_countries': ['DE']}\n",
      "{'movie_id': 'm_2779', 'title': 'The Curse of the Jade Scorpion', 'genres': ['Comedy', 'Crime', 'Mystery', 'Romance', 'Thriller'], 'production_countries': ['DE', 'US']}\n",
      "{'movie_id': 'm_2565', 'title': 'Joe Versus the Volcano', 'genres': ['Fantasy', 'Comedy', 'Science Fiction', 'Romance'], 'production_countries': ['US']}\n",
      "{'movie_id': 'm_33660', 'title': 'Shiloh', 'genres': ['Drama', 'Family'], 'production_countries': ['US']}\n",
      "{'movie_id': 'm_1678', 'title': 'ゴジラ', 'genres': ['Thriller', 'Horror', 'Science Fiction'], 'production_countries': ['JP']}\n",
      "{'movie_id': 'm_4344', 'title': 'Hotel Very Welcome', 'genres': ['Comedy', 'Drama', 'Family', 'Foreign', 'Horror'], 'production_countries': ['DE']}\n",
      "{'movie_id': 'm_5528', 'title': 'Les Choristes', 'genres': ['Drama'], 'production_countries': ['CH', 'DE', 'FR']}\n",
      "{'movie_id': 'm_380', 'title': 'Rain Man', 'genres': ['Drama'], 'production_countries': ['US']}\n",
      "{'movie_id': 'm_539', 'title': 'Psycho', 'genres': ['Drama', 'Horror', 'Thriller'], 'production_countries': ['US']}\n",
      "{'movie_id': 'm_1249', 'title': 'Hollywoodland', 'genres': ['Drama', 'Thriller', 'Crime'], 'production_countries': ['US']}\n",
      "{'movie_id': 'm_2454', 'title': 'The Chronicles of Narnia: Prince Caspian', 'genres': ['Adventure', 'Family', 'Fantasy'], 'production_countries': ['CZ', 'PL', 'SI', 'US']}\n",
      "{'movie_id': 'm_508', 'title': 'Love Actually', 'genres': ['Comedy', 'Romance', 'Drama'], 'production_countries': ['GB', 'US']}\n",
      "{'movie_id': 'm_2539', 'title': 'Spanglish', 'genres': ['Comedy'], 'production_countries': ['US']}\n",
      "{'movie_id': 'm_94959', 'title': 'Edward, My Son', 'genres': ['Drama'], 'production_countries': ['US']}\n",
      "{'movie_id': 'm_535', 'title': 'Flashdance', 'genres': ['Drama', 'Music', 'Romance'], 'production_countries': ['US']}\n",
      "{'movie_id': 'm_1589', 'title': 'The Boys from County Clare', 'genres': ['Romance', 'Comedy', 'Music'], 'production_countries': ['GB', 'IE', 'DE']}\n",
      "{'movie_id': 'm_193', 'title': 'Star Trek: Generations', 'genres': ['Science Fiction', 'Action', 'Adventure', 'Thriller'], 'production_countries': ['US']}\n",
      "{'movie_id': 'm_2085', 'title': 'Romeo Must Die', 'genres': ['Action', 'Crime', 'Thriller'], 'production_countries': ['US']}\n",
      "{'movie_id': 'm_8970', 'title': 'The Out-of-Towners', 'genres': ['Comedy'], 'production_countries': ['US']}\n",
      "{'movie_id': 'm_440', 'title': 'Aliens vs Predator: Requiem', 'genres': ['Fantasy', 'Action', 'Science Fiction', 'Thriller', 'Horror'], 'production_countries': ['US']}\n",
      "{'movie_id': 'm_780', 'title': \"La passion de Jeanne d'Arc\", 'genres': ['Drama', 'History'], 'production_countries': ['FR']}\n",
      "{'movie_id': 'm_1909', 'title': 'Don Juan DeMarco', 'genres': ['Romance', 'Drama', 'Comedy'], 'production_countries': ['US']}\n",
      "{'movie_id': 'm_8366', 'title': 'Der Schuh des Manitu', 'genres': ['Comedy', 'Western'], 'production_countries': ['DE']}\n",
      "{'movie_id': 'm_3072', 'title': 'Frankenstein Unbound', 'genres': ['Drama', 'Horror', 'Science Fiction'], 'production_countries': ['US']}\n",
      "{'movie_id': 'm_3578', 'title': 'Der Tunnel', 'genres': ['Science Fiction'], 'production_countries': ['DE', 'FR']}\n",
      "{'movie_id': 'm_104374', 'title': 'Onna no mizûmi', 'genres': ['Drama'], 'production_countries': ['JP']}\n",
      "{'movie_id': 'm_2125', 'title': 'Wedlock', 'genres': ['Action', 'Science Fiction', 'Thriller'], 'production_countries': ['US']}\n",
      "{'movie_id': 'm_2959', 'title': 'License to Wed', 'genres': ['Comedy'], 'production_countries': ['AU', 'US']}\n",
      "{'movie_id': 'm_2080', 'title': 'X-Men Origins: Wolverine', 'genres': ['Adventure', 'Action', 'Thriller', 'Science Fiction'], 'production_countries': ['US']}\n",
      "{'movie_id': 'm_1250', 'title': 'Ghost Rider', 'genres': ['Thriller', 'Action', 'Fantasy', 'Horror'], 'production_countries': ['US', 'AU']}\n",
      "{'movie_id': 'm_1093', 'title': \"Ascenseur pour l'échafaud\", 'genres': ['Drama', 'Thriller', 'Crime'], 'production_countries': ['FR']}\n",
      "{'movie_id': 'm_1124', 'title': 'The Prestige', 'genres': ['Drama', 'Mystery', 'Thriller'], 'production_countries': ['US']}\n",
      "{'movie_id': 'm_1997', 'title': 'Deux frères', 'genres': ['Adventure', 'Drama', 'Family'], 'production_countries': ['FR', 'GB']}\n",
      "{'movie_id': 'm_186', 'title': 'Lucky Number Slevin', 'genres': ['Drama', 'Thriller', 'Crime', 'Mystery'], 'production_countries': ['DE', 'US']}\n",
      "{'movie_id': 'm_1023', 'title': 'Adams æbler', 'genres': ['Drama', 'Comedy', 'Crime'], 'production_countries': ['DK', 'DE']}\n",
      "{'movie_id': 'm_1266', 'title': 'Street Kings', 'genres': ['Action', 'Crime', 'Drama', 'Thriller'], 'production_countries': ['US']}\n",
      "{'movie_id': 'm_541', 'title': 'The Man with the Golden Arm', 'genres': ['Crime', 'Drama', 'Romance'], 'production_countries': ['US']}\n",
      "{'movie_id': 'm_900', 'title': 'Bringing Up Baby', 'genres': ['Comedy', 'Romance'], 'production_countries': ['US']}\n",
      "{'movie_id': 'm_947', 'title': 'Lawrence of Arabia', 'genres': ['Adventure', 'Drama', 'History', 'War'], 'production_countries': ['GB']}\n",
      "{'movie_id': 'm_2302', 'title': 'Avalon', 'genres': ['Drama'], 'production_countries': ['US']}\n",
      "{'movie_id': 'm_4641', 'title': 'Read It and Weep', 'genres': ['Comedy', 'Drama', 'Family', 'TV Movie'], 'production_countries': ['US']}\n",
      "{'movie_id': 'm_3476', 'title': \"L'important c'est d'aimer\", 'genres': ['Drama', 'Romance'], 'production_countries': ['FR', 'DE', 'IT']}\n",
      "{'movie_id': 'm_345', 'title': 'Eyes Wide Shut', 'genres': ['Mystery', 'Drama'], 'production_countries': ['GB', 'US']}\n",
      "{'movie_id': 'm_85', 'title': 'Raiders of the Lost Ark', 'genres': ['Adventure', 'Action'], 'production_countries': ['US']}\n",
      "{'movie_id': 'm_1279', 'title': '사마리아', 'genres': ['Drama'], 'production_countries': ['KR']}\n",
      "{'movie_id': 'm_49530', 'title': 'In Time', 'genres': ['Action', 'Thriller', 'Science Fiction'], 'production_countries': ['US']}\n",
      "{'movie_id': 'm_8665', 'title': 'K-19: The Widowmaker', 'genres': ['Drama', 'History', 'Thriller'], 'production_countries': ['CA', 'DE', 'GB', 'US']}\n",
      "{'movie_id': 'm_55765', 'title': '거룩한 계보', 'genres': ['Action', 'Adventure', 'Crime', 'Drama', 'Foreign'], 'production_countries': ['KR']}\n",
      "{'movie_id': 'm_2750', 'title': '24 Hour Party People', 'genres': ['Comedy', 'Drama'], 'production_countries': ['GB']}\n",
      "{'movie_id': 'm_2268', 'title': 'The Golden Compass', 'genres': ['Adventure', 'Fantasy'], 'production_countries': ['GB', 'US']}\n",
      "{'movie_id': 'm_595', 'title': 'To Kill a Mockingbird', 'genres': ['Crime', 'Drama'], 'production_countries': ['US']}\n",
      "{'movie_id': 'm_308', 'title': 'Broken Flowers', 'genres': ['Comedy', 'Drama', 'Mystery', 'Romance'], 'production_countries': ['FR', 'US']}\n",
      "{'movie_id': 'm_164', 'title': \"Breakfast at Tiffany's\", 'genres': ['Comedy', 'Drama', 'Romance'], 'production_countries': ['US']}\n",
      "{'movie_id': 'm_2973', 'title': 'Аэлита', 'genres': ['Science Fiction', 'Adventure', 'Drama', 'Fantasy'], 'production_countries': ['RU']}\n",
      "{'movie_id': 'm_349', 'title': 'Crustacés et coquillages', 'genres': ['Comedy'], 'production_countries': ['FR']}\n",
      "{'movie_id': 'm_350', 'title': 'The Devil Wears Prada', 'genres': ['Comedy', 'Drama', 'Romance'], 'production_countries': ['US']}\n",
      "Negative ratings:\n",
      "{'movie_id': 'm_1394', 'title': 'Nostalghia', 'genres': ['Drama', 'Romance'], 'production_countries': ['SU', 'IT']}\n",
      "{'movie_id': 'm_1921', 'title': 'Sweet November', 'genres': ['Drama', 'Romance'], 'production_countries': ['US']}\n",
      "{'movie_id': 'm_562', 'title': 'Die Hard', 'genres': ['Action', 'Thriller'], 'production_countries': ['US']}\n",
      "{'movie_id': 'm_222', 'title': 'Berlin: Die Sinfonie der Grosstadt', 'genres': ['Documentary', 'History'], 'production_countries': ['DE']}\n",
      "{'movie_id': 'm_6', 'title': 'Judgment Night', 'genres': ['Action', 'Thriller', 'Crime'], 'production_countries': ['JP', 'US']}\n",
      "{'movie_id': 'm_2110', 'title': 'Wasabi', 'genres': ['Drama', 'Action', 'Comedy'], 'production_countries': ['JP', 'FR']}\n",
      "{'movie_id': 'm_2463', 'title': '暗戰', 'genres': ['Drama', 'Action', 'Thriller', 'Crime'], 'production_countries': ['HK']}\n",
      "{'movie_id': 'm_38061', 'title': \"Anybody's Son Will Do\", 'genres': [], 'production_countries': []}\n",
      "{'movie_id': 'm_4011', 'title': 'Beetlejuice', 'genres': ['Fantasy', 'Comedy'], 'production_countries': ['US']}\n",
      "{'movie_id': 'm_2348', 'title': 'Holy Matrimony', 'genres': ['Comedy'], 'production_countries': ['US']}\n",
      "{'movie_id': 'm_1374', 'title': 'Rocky IV', 'genres': ['Drama'], 'production_countries': ['US']}\n",
      "{'movie_id': 'm_2259', 'title': 'The House of the Spirits', 'genres': ['Romance', 'Drama'], 'production_countries': ['DK', 'FR', 'DE', 'PT', 'US']}\n",
      "{'movie_id': 'm_1673', 'title': 'Comanche Station', 'genres': ['Action', 'Western'], 'production_countries': ['US']}\n",
      "{'movie_id': 'm_1968', 'title': 'Fools Rush In', 'genres': ['Drama', 'Comedy', 'Romance'], 'production_countries': ['US']}\n",
      "{'movie_id': 'm_2021', 'title': 'Jack & Sarah', 'genres': ['Comedy', 'Drama', 'Romance'], 'production_countries': ['FR', 'GB']}\n",
      "{'movie_id': 'm_7451', 'title': 'xXx', 'genres': ['Action', 'Adventure', 'Thriller'], 'production_countries': ['US']}\n",
      "{'movie_id': 'm_45186', 'title': 'Big Bad Mama', 'genres': ['Action', 'Comedy', 'Crime', 'Drama'], 'production_countries': ['US']}\n",
      "{'movie_id': 'm_153', 'title': 'Lost in Translation', 'genres': ['Drama'], 'production_countries': ['JP', 'US']}\n",
      "{'movie_id': 'm_490', 'title': 'Det sjunde inseglet', 'genres': ['Fantasy', 'Drama'], 'production_countries': ['SE']}\n",
      "{'movie_id': 'm_3526', 'title': 'Frances', 'genres': ['Drama'], 'production_countries': ['US']}\n",
      "{'movie_id': 'm_1416', 'title': '해안선', 'genres': ['Thriller', 'Drama'], 'production_countries': ['KR']}\n",
      "{'movie_id': 'm_4639', 'title': 'Best Seller', 'genres': ['Action', 'Crime', 'Drama', 'Thriller'], 'production_countries': ['US']}\n",
      "{'movie_id': 'm_2395', 'title': 'Astérix aux Jeux Olympiques', 'genres': ['Fantasy', 'Adventure', 'Comedy', 'Family'], 'production_countries': ['BE', 'FR', 'DE', 'IT', 'ES']}\n",
      "{'movie_id': 'm_1377', 'title': 'Houseboat', 'genres': ['Comedy', 'Drama', 'Family', 'Romance'], 'production_countries': ['US']}\n",
      "{'movie_id': 'm_2502', 'title': 'The Bourne Supremacy', 'genres': ['Action', 'Drama', 'Thriller'], 'production_countries': ['DE', 'US']}\n",
      "{'movie_id': 'm_911', 'title': 'The Bank Dick', 'genres': ['Comedy'], 'production_countries': ['US']}\n",
      "{'movie_id': 'm_1259', 'title': 'Notes on a Scandal', 'genres': ['Drama', 'Romance'], 'production_countries': ['GB']}\n",
      "{'movie_id': 'm_2072', 'title': 'Cyberjack', 'genres': ['Action', 'Science Fiction', 'Thriller'], 'production_countries': ['CA']}\n",
      "{'movie_id': 'm_434', 'title': 'Knallhart', 'genres': ['Drama', 'Thriller'], 'production_countries': ['DE']}\n",
      "{'movie_id': 'm_180', 'title': 'Minority Report', 'genres': ['Action', 'Thriller', 'Science Fiction', 'Mystery'], 'production_countries': ['US']}\n",
      "{'movie_id': 'm_1391', 'title': 'Y tu mamá también', 'genres': ['Drama', 'Romance'], 'production_countries': ['MX']}\n",
      "{'movie_id': 'm_1954', 'title': 'The Butterfly Effect', 'genres': ['Science Fiction', 'Thriller'], 'production_countries': ['CA', 'US']}\n",
      "{'movie_id': 'm_156', 'title': 'Wilbur begår selvmord', 'genres': ['Comedy', 'Drama', 'Romance'], 'production_countries': ['DK', 'FR', 'GB', 'SE']}\n",
      "{'movie_id': 'm_2617', 'title': 'The Great Outdoors', 'genres': ['Comedy'], 'production_countries': ['US']}\n",
      "{'movie_id': 'm_932', 'title': 'Die Mörder sind unter uns', 'genres': ['Drama'], 'production_countries': ['DE']}\n",
      "{'movie_id': 'm_805', 'title': \"Rosemary's Baby\", 'genres': ['Horror', 'Drama', 'Mystery'], 'production_countries': ['US']}\n",
      "{'movie_id': 'm_1246', 'title': 'Rocky Balboa', 'genres': ['Drama'], 'production_countries': ['US']}\n",
      "{'movie_id': 'm_549', 'title': 'Basquiat', 'genres': ['Drama', 'History'], 'production_countries': ['US']}\n",
      "{'movie_id': 'm_2135', 'title': 'The Time Machine', 'genres': ['Science Fiction', 'Adventure', 'Action'], 'production_countries': ['US']}\n",
      "{'movie_id': 'm_6440', 'title': 'The Shipping News', 'genres': ['Drama', 'Romance'], 'production_countries': ['US']}\n",
      "{'movie_id': 'm_4993', 'title': '5 Card Stud', 'genres': ['Action', 'Western', 'Thriller'], 'production_countries': ['US']}\n",
      "{'movie_id': 'm_344', 'title': 'Bang Boom Bang - Ein todsicheres Ding', 'genres': ['Crime', 'Action', 'Comedy'], 'production_countries': ['DE']}\n",
      "{'movie_id': 'm_1587', 'title': \"What's Eating Gilbert Grape\", 'genres': ['Romance', 'Drama'], 'production_countries': ['US']}\n",
      "{'movie_id': 'm_2262', 'title': 'Die Sehnsucht der Veronika Voss', 'genres': ['Crime', 'Drama'], 'production_countries': ['DE']}\n",
      "{'movie_id': 'm_708', 'title': 'The Living Daylights', 'genres': ['Action', 'Adventure', 'Thriller'], 'production_countries': ['GB', 'US']}\n",
      "{'movie_id': 'm_3565', 'title': 'Underground', 'genres': ['Drama'], 'production_countries': ['GB']}\n",
      "{'movie_id': 'm_111759', 'title': 'Don Q Son of Zorro', 'genres': ['Western', 'Adventure', 'Romance'], 'production_countries': ['US']}\n",
      "{'movie_id': 'm_1966', 'title': 'Alexander', 'genres': ['War', 'History', 'Action', 'Adventure', 'Drama', 'Romance'], 'production_countries': ['FR', 'DE', 'IT', 'NL', 'GB', 'US']}\n",
      "{'movie_id': 'm_1573', 'title': 'Die Hard 2', 'genres': ['Action', 'Thriller'], 'production_countries': ['US']}\n",
      "{'movie_id': 'm_3061', 'title': 'The Crowd', 'genres': ['Drama'], 'production_countries': ['US']}\n",
      "{'movie_id': 'm_334', 'title': 'Magnolia', 'genres': ['Drama'], 'production_countries': ['US']}\n",
      "{'movie_id': 'm_56949', 'title': 'El viento se llevó lo qué', 'genres': [], 'production_countries': ['AR', 'FR', 'NL', 'ES']}\n",
      "{'movie_id': 'm_1914', 'title': 'FC Venus', 'genres': ['Comedy'], 'production_countries': ['DE']}\n",
      "{'movie_id': 'm_2144', 'title': \"One Night at McCool's\", 'genres': ['Action', 'Comedy', 'Crime'], 'production_countries': ['US']}\n",
      "{'movie_id': 'm_4499', 'title': 'Pepi, Luci, Bom y otras chicas del montón', 'genres': ['Comedy'], 'production_countries': ['ES']}\n",
      "{'movie_id': 'm_4823', 'title': 'Final Analysis', 'genres': ['Drama', 'Thriller', 'Romance'], 'production_countries': ['US']}\n",
      "{'movie_id': 'm_2112', 'title': 'Payback', 'genres': ['Drama', 'Action', 'Thriller', 'Crime'], 'production_countries': ['US']}\n",
      "{'movie_id': 'm_6620', 'title': 'Sabrina', 'genres': ['Comedy', 'Drama', 'Romance'], 'production_countries': ['US']}\n",
      "{'movie_id': 'm_1639', 'title': 'Speed 2: Cruise Control', 'genres': ['Action', 'Adventure', 'Thriller'], 'production_countries': ['US']}\n",
      "{'movie_id': 'm_2014', 'title': 'Auf der anderen Seite', 'genres': ['Drama'], 'production_countries': ['DE', 'TR']}\n",
      "{'movie_id': 'm_2013', 'title': 'Le scaphandre et le papillon', 'genres': ['Drama'], 'production_countries': ['FR', 'US']}\n",
      "{'movie_id': 'm_2023', 'title': 'Hidalgo', 'genres': ['Western', 'Adventure'], 'production_countries': ['US', 'MA']}\n",
      "{'movie_id': 'm_31696', 'title': 'A Kiss Before Dying', 'genres': ['Mystery', 'Thriller', 'Crime'], 'production_countries': ['GB', 'US']}\n",
      "{'movie_id': 'm_1610', 'title': 'Fever Pitch', 'genres': ['Comedy', 'Romance'], 'production_countries': ['GB']}\n",
      "{'movie_id': 'm_253', 'title': 'Live and Let Die', 'genres': ['Adventure', 'Action', 'Thriller'], 'production_countries': ['GB']}\n",
      "{'movie_id': 'm_377', 'title': 'A Nightmare on Elm Street', 'genres': ['Horror'], 'production_countries': ['US']}\n",
      "{'movie_id': 'm_1912', 'title': 'Free Rainer - Dein Fernseher lügt', 'genres': ['Comedy', 'Drama'], 'production_countries': ['DE']}\n",
      "{'movie_id': 'm_289', 'title': 'Casablanca', 'genres': ['Drama', 'Romance'], 'production_countries': ['US']}\n",
      "{'movie_id': 'm_2088', 'title': 'Romeo Is Bleeding', 'genres': ['Action', 'Crime', 'Drama', 'Thriller'], 'production_countries': ['GB', 'US']}\n",
      "{'movie_id': 'm_3052', 'title': \"Don't Make Waves\", 'genres': ['Comedy'], 'production_countries': ['US']}\n",
      "{'movie_id': 'm_8874', 'title': \"My Best Friend's Wedding\", 'genres': ['Comedy', 'Romance'], 'production_countries': ['US']}\n",
      "{'movie_id': 'm_141', 'title': 'Donnie Darko', 'genres': ['Fantasy', 'Drama', 'Mystery'], 'production_countries': ['US']}\n",
      "{'movie_id': 'm_2699', 'title': 'Titanic', 'genres': ['Action', 'Drama', 'Romance'], 'production_countries': ['CA', 'US']}\n",
      "{'movie_id': 'm_58559', 'title': 'Confession of a Child of the Century', 'genres': ['Drama'], 'production_countries': ['FR', 'DE', 'GB']}\n",
      "{'movie_id': 'm_2012', 'title': 'Stellet Licht', 'genres': ['Drama'], 'production_countries': ['MX', 'DE', 'FR', 'NL']}\n",
      "{'movie_id': 'm_30810', 'title': \"Olga's House of Shame\", 'genres': ['Crime', 'Drama'], 'production_countries': ['US']}\n",
      "{'movie_id': 'm_2011', 'title': 'Persepolis', 'genres': ['Animation', 'Drama'], 'production_countries': ['FR', 'US']}\n",
      "{'movie_id': 'm_3489', 'title': '88 Minutes', 'genres': ['Crime', 'Mystery', 'Thriller'], 'production_countries': ['US']}\n",
      "{'movie_id': 'm_745', 'title': 'The Sixth Sense', 'genres': ['Mystery', 'Thriller', 'Drama'], 'production_countries': ['US']}\n",
      "{'movie_id': 'm_454', 'title': 'Romeo + Juliet', 'genres': ['Drama', 'Romance'], 'production_countries': ['US']}\n",
      "{'movie_id': 'm_6373', 'title': 'Martha – Meet Frank, Daniel and Laurence', 'genres': ['Comedy', 'Romance'], 'production_countries': ['GB']}\n",
      "{'movie_id': 'm_237', 'title': 'Young Adam', 'genres': ['Drama', 'Thriller', 'Crime', 'Romance'], 'production_countries': ['FR', 'GB']}\n",
      "{'movie_id': 'm_804', 'title': 'Roman Holiday', 'genres': ['Comedy', 'Romance'], 'production_countries': ['US']}\n",
      "{'movie_id': 'm_2671', 'title': 'リング', 'genres': ['Horror', 'Thriller'], 'production_countries': ['JP']}\n",
      "{'movie_id': 'm_161', 'title': \"Ocean's Eleven\", 'genres': ['Thriller', 'Crime'], 'production_countries': ['US']}\n",
      "{'movie_id': 'm_509', 'title': 'Notting Hill', 'genres': ['Romance', 'Comedy', 'Drama'], 'production_countries': ['GB', 'US']}\n",
      "{'movie_id': 'm_2111', 'title': '巴尔扎克与小裁缝', 'genres': ['Drama', 'Foreign'], 'production_countries': ['CN', 'FR']}\n",
      "{'movie_id': 'm_592', 'title': 'The Conversation', 'genres': ['Crime', 'Drama', 'Mystery'], 'production_countries': ['US']}\n",
      "{'movie_id': 'm_3512', 'title': 'Under Siege 2: Dark Territory', 'genres': ['Action', 'Thriller'], 'production_countries': ['US']}\n",
      "{'movie_id': 'm_524', 'title': 'Casino', 'genres': ['Drama', 'Crime'], 'production_countries': ['FR', 'US']}\n",
      "{'movie_id': 'm_2640', 'title': 'Heathers', 'genres': ['Thriller', 'Comedy', 'Drama'], 'production_countries': ['US']}\n",
      "{'movie_id': 'm_848', 'title': 'Dragonslayer', 'genres': ['Fantasy'], 'production_countries': ['GB']}\n",
      "{'movie_id': 'm_223', 'title': 'Rebecca', 'genres': ['Drama', 'Mystery'], 'production_countries': ['US']}\n",
      "{'movie_id': 'm_203', 'title': 'Mean Streets', 'genres': ['Drama', 'Crime'], 'production_countries': ['US']}\n",
      "{'movie_id': 'm_8984', 'title': 'Disclosure', 'genres': ['Drama', 'Thriller', 'Crime', 'Mystery', 'Romance'], 'production_countries': ['US']}\n",
      "{'movie_id': 'm_144', 'title': 'Der Himmel über Berlin', 'genres': ['Drama', 'Fantasy', 'Romance'], 'production_countries': ['DE', 'FR']}\n",
      "{'movie_id': 'm_492', 'title': 'Being John Malkovich', 'genres': ['Fantasy', 'Drama', 'Comedy'], 'production_countries': ['US']}\n",
      "{'movie_id': 'm_1371', 'title': 'Rocky III', 'genres': ['Drama'], 'production_countries': ['US']}\n",
      "{'movie_id': 'm_2616', 'title': 'Uncle Buck', 'genres': ['Comedy', 'Drama', 'Family'], 'production_countries': ['US']}\n",
      "{'movie_id': 'm_3210', 'title': 'The Projected Man', 'genres': ['Horror', 'Science Fiction'], 'production_countries': ['GB']}\n",
      "{'movie_id': 'm_1580', 'title': 'Rope', 'genres': ['Crime', 'Drama', 'Mystery', 'Thriller'], 'production_countries': ['US']}\n",
      "{'movie_id': 'm_1396', 'title': 'Зеркало', 'genres': ['Drama', 'History'], 'production_countries': ['RU']}\n",
      "Recommendation:\n",
      "{'movie_id': 'm_296', 'title': 'Terminator 3: Rise of the Machines', 'genres': ['Action', 'Thriller', 'Science Fiction'], 'production_countries': ['DE', 'GB', 'US']}\n",
      "{'movie_id': 'm_318', 'title': 'The Million Dollar Hotel', 'genres': ['Drama', 'Thriller'], 'production_countries': ['US', 'DE']}\n",
      "{'movie_id': 'm_377', 'title': 'A Nightmare on Elm Street', 'genres': ['Horror'], 'production_countries': ['US']}\n",
      "{'movie_id': 'm_588', 'title': 'Silent Hill', 'genres': ['Horror', 'Mystery'], 'production_countries': ['CA', 'FR', 'JP', 'US']}\n",
      "{'movie_id': 'm_1265', 'title': 'Bridge to Terabithia', 'genres': ['Adventure', 'Drama', 'Family'], 'production_countries': ['US']}\n",
      "{'movie_id': 'm_6016', 'title': 'The Good Thief', 'genres': ['Crime', 'Drama', 'Thriller'], 'production_countries': ['CA', 'FR', 'IE', 'GB']}\n",
      "{'movie_id': 'm_1961', 'title': 'My Name Is Bruce', 'genres': ['Comedy', 'Horror'], 'production_countries': ['US']}\n",
      "{'movie_id': 'm_1250', 'title': 'Ghost Rider', 'genres': ['Thriller', 'Action', 'Fantasy', 'Horror'], 'production_countries': ['US', 'AU']}\n",
      "{'movie_id': 'm_778', 'title': 'Les Vacances de Monsieur Hulot', 'genres': ['Comedy', 'Family'], 'production_countries': ['FR']}\n",
      "{'movie_id': 'm_2762', 'title': 'Young and Innocent', 'genres': ['Drama', 'Crime'], 'production_countries': ['GB']}\n",
      "{'movie_id': 'm_541', 'title': 'The Man with the Golden Arm', 'genres': ['Crime', 'Drama', 'Romance'], 'production_countries': ['US']}\n",
      "{'movie_id': 'm_364', 'title': 'Batman Returns', 'genres': ['Action', 'Fantasy'], 'production_countries': ['GB', 'US']}\n",
      "{'movie_id': 'm_2028', 'title': 'Say Anything...', 'genres': ['Comedy', 'Drama', 'Romance'], 'production_countries': ['US']}\n",
      "{'movie_id': 'm_1580', 'title': 'Rope', 'genres': ['Crime', 'Drama', 'Mystery', 'Thriller'], 'production_countries': ['US']}\n",
      "{'movie_id': 'm_4993', 'title': '5 Card Stud', 'genres': ['Action', 'Western', 'Thriller'], 'production_countries': ['US']}\n",
      "{'movie_id': 'm_608', 'title': 'Men in Black II', 'genres': ['Action', 'Adventure', 'Comedy', 'Science Fiction'], 'production_countries': ['US']}\n",
      "{'movie_id': 'm_194', 'title': \"Le fabuleux destin d'Amélie Poulain\", 'genres': ['Comedy', 'Romance'], 'production_countries': ['FR', 'DE']}\n",
      "{'movie_id': 'm_3114', 'title': 'The Searchers', 'genres': ['Western'], 'production_countries': ['US']}\n",
      "{'movie_id': 'm_595', 'title': 'To Kill a Mockingbird', 'genres': ['Crime', 'Drama'], 'production_countries': ['US']}\n",
      "{'movie_id': 'm_1641', 'title': 'Forces of Nature', 'genres': ['Romance', 'Comedy'], 'production_countries': ['US']}\n"
     ]
    }
   ],
   "execution_count": 102
  },
  {
   "cell_type": "markdown",
   "metadata": {},
   "source": [
    "## Część 5. - metryki"
   ]
  },
  {
   "cell_type": "code",
   "metadata": {
    "ExecuteTime": {
     "end_time": "2024-11-23T12:15:24.887212Z",
     "start_time": "2024-11-23T12:15:20.023640Z"
    }
   },
   "source": [
    "# HitRatio@k - iterujemy po testowym zbiorze ocen, odsiewamy tylko oceny pozytywne,\n",
    "# generujemy rekomendacje dlugosci k dla uzytkownika i sprawdzamy, czy oceniony film znalazl sie w rekomendacji\n",
    "# zwracamy stosunek liczby trafien do liczby wszystkich prob\n",
    "\n",
    "# wersja nieco bardziej zaawansowana - zamiast rekomendacji wyciagamy z modelu predykcje konkretnej relacji\n",
    "# i liczymy skutecznosc w przewidywaniu, czy ocena byla pozytywna, negatywna czy neutralna\n",
    "\n",
    "def hit_ratio(test_ratings: List[Review], model: ERModel, tf: TriplesFactory, k: int) -> float:\n",
    "    hits = 0\n",
    "    for rating in test_ratings:\n",
    "        if rating.rating <= 3.0:\n",
    "            continue\n",
    "        recommendation = recommend(rating.user_id, model, tf, k)\n",
    "        if rating.movie_id in recommendation:\n",
    "            hits += 1\n",
    "\n",
    "    total = len([rating for rating in test_ratings if rating.rating >= 4.0])\n",
    "    try:\n",
    "        return hits / total\n",
    "    except ZeroDivisionError:\n",
    "        return 0.0\n",
    "\n",
    "hit_ratio(test_ratings, pipeline_result.model, tf, 50)"
   ],
   "outputs": [
    {
     "data": {
      "text/plain": [
       "0.1685575364667747"
      ]
     },
     "execution_count": 90,
     "metadata": {},
     "output_type": "execute_result"
    }
   ],
   "execution_count": 90
  },
  {
   "cell_type": "code",
   "metadata": {
    "ExecuteTime": {
     "end_time": "2024-11-23T12:15:29.582434Z",
     "start_time": "2024-11-23T12:15:24.951535Z"
    }
   },
   "source": [
    "# AvgPosition@k - iterujemy po testowym zbiorze ocen, odsiewamy tylko oceny pozytywne,\n",
    "# generujemy rekomendacje dlugosci k dla uzytkownika i sprawdzamy, czy oceniony film znalazl sie w rekomendacji\n",
    "# jesli tak, zapisujemy pozycje, na ktorej zarekomendowano film\n",
    "# zwracamy srednia pozycje, na ktorych wystepowaly filmy\n",
    "\n",
    "def avg_position(test_ratings: List[Review], model: ERModel, tf: TriplesFactory, k: int) -> float:\n",
    "    positions = []\n",
    "    for rating in test_ratings:\n",
    "        if rating.rating <= 3.0:\n",
    "            continue\n",
    "        recommendation = recommend(rating.user_id, model, tf, k)\n",
    "        try:\n",
    "            position = recommendation.index(rating.movie_id)\n",
    "            positions.append(position)\n",
    "        except ValueError:\n",
    "            pass\n",
    "\n",
    "    return np.mean(positions)\n",
    "\n",
    "avg_position(test_ratings, pipeline_result.model, tf, 50)"
   ],
   "outputs": [
    {
     "data": {
      "text/plain": [
       "21.837912087912088"
      ]
     },
     "execution_count": 91,
     "metadata": {},
     "output_type": "execute_result"
    }
   ],
   "execution_count": 91
  },
  {
   "cell_type": "markdown",
   "metadata": {},
   "source": [
    "## Część 5. - porównanie modeli"
   ]
  },
  {
   "cell_type": "markdown",
   "metadata": {},
   "source": [
    "Wytrenowaliśmy podstawowy model, umiemy wygenerować rekomendacje i ocenić jakość modelu. Teraz przeanalizujemy, jakie zmiany mogą pozytywnie wpłynąć na jakość rekomendacji.\n",
    "\n",
    "Porównaj bazowy model (np. TransH wytrenowany tylko na relacjach `positive_rating` i `negative_rating`) z dwoma innymi podejściami. Wybierz dwie spośród poniszych modyfikacji lub zaproponuj własną:\n",
    "1. Zmiana modelu - zamiast TransH możesz użyć np. TransR albo RESCAL\n",
    "2. Dodanie większej liczby typów relacji - możesz dodać oceny neutralne, metadane filmu, informacje o obsadzie. Nawet jeśli jakaś relacja nie jest wykorzystywana w procesie rekomendacji, może poprawić jakość wytrenowanego modelu. Zwróć uwagę, by jako rekoemndację zwracać wyłącznie identyfikatory filmów, nie innych wierzchołków.\n",
    "3. Zmiana sposobu rekomendacji - obecny tryb opiera się na przewidywaniu relacji `positive_rating`. Możesz poprawić ten proces przez np. odsiewanie tych kandydatów, którzy występują także w predykcji relacji `negative_rating` czy filtrowanie kandydatów po metadanych (np. gatunku).\n",
    "\n",
    "Porównanie trzech modeli oprzyj na dwóch zdefiniowanych w Części 4. metrykach dla wybranej wartości `k`."
   ]
  },
  {
   "cell_type": "code",
   "metadata": {
    "ExecuteTime": {
     "end_time": "2024-11-23T12:35:39.440086Z",
     "start_time": "2024-11-23T12:33:57.960768Z"
    }
   },
   "source": [
    "from pykeen.models import TransH, TransR, TransE, RESCAL\n",
    "\n",
    "triples_all_relations = generate_triples(ratings, movies, all_relation_types)\n",
    "tf_all_relations = TriplesFactory.from_labeled_triples(np.array(triples))\n",
    "\n",
    "trans_e_basic_relations = pipeline_result.model\n",
    "trans_e_all_relations = train_model(triples_all_relations, tf_all_relations, model_class=TransE).model\n",
    "\n",
    "trans_h_basic_relations = train_model(triples, tf, model_class=TransH).model\n",
    "trans_h_all_relations = train_model(triples_all_relations, tf_all_relations, model_class=TransH).model\n",
    "\n",
    "trans_r_basic_relations = train_model(triples, tf, model_class=TransR).model\n",
    "trans_r_all_relations = train_model(triples_all_relations, tf_all_relations, model_class=TransR).model\n",
    "\n",
    "rescal_basic_relations = train_model(triples, tf, model_class=RESCAL).model\n",
    "rescal_all_relations = train_model(triples_all_relations, tf_all_relations, model_class=RESCAL).model"
   ],
   "outputs": [
    {
     "name": "stderr",
     "output_type": "stream",
     "text": [
      "WARNING:pykeen.utils:using automatically assigned random_state=2028697840\n",
      "INFO:pykeen.triples.splitting:done splitting triples to groups of sizes [42530, 5619, 5620]\n",
      "WARNING:pykeen.pipeline.api:No random seed is specified. Setting to 364514620.\n",
      "WARNING:pykeen.utils:No cuda devices were available. The model runs on CPU\n",
      "INFO:pykeen.pipeline.api:Using device: None\n"
     ]
    },
    {
     "data": {
      "text/plain": [
       "Training epochs on cpu:   0%|          | 0/15 [00:00<?, ?epoch/s]"
      ],
      "application/vnd.jupyter.widget-view+json": {
       "version_major": 2,
       "version_minor": 0,
       "model_id": "0ab1c72a3c474dcaa70e4f2a262bc33a"
      }
     },
     "metadata": {},
     "output_type": "display_data"
    },
    {
     "data": {
      "text/plain": [
       "Training batches on cpu:   0%|          | 0/176 [00:00<?, ?batch/s]"
      ],
      "application/vnd.jupyter.widget-view+json": {
       "version_major": 2,
       "version_minor": 0,
       "model_id": "a630d69935e2416389b9bce5adbf55cc"
      }
     },
     "metadata": {},
     "output_type": "display_data"
    },
    {
     "data": {
      "text/plain": [
       "Training batches on cpu:   0%|          | 0/176 [00:00<?, ?batch/s]"
      ],
      "application/vnd.jupyter.widget-view+json": {
       "version_major": 2,
       "version_minor": 0,
       "model_id": "324eeb992ab140b78253295680546a6e"
      }
     },
     "metadata": {},
     "output_type": "display_data"
    },
    {
     "data": {
      "text/plain": [
       "Training batches on cpu:   0%|          | 0/176 [00:00<?, ?batch/s]"
      ],
      "application/vnd.jupyter.widget-view+json": {
       "version_major": 2,
       "version_minor": 0,
       "model_id": "36e6e7cc9f9c4693908dc09989873172"
      }
     },
     "metadata": {},
     "output_type": "display_data"
    },
    {
     "data": {
      "text/plain": [
       "Training batches on cpu:   0%|          | 0/176 [00:00<?, ?batch/s]"
      ],
      "application/vnd.jupyter.widget-view+json": {
       "version_major": 2,
       "version_minor": 0,
       "model_id": "31a2cbc89c7941699d1634d67a0a8689"
      }
     },
     "metadata": {},
     "output_type": "display_data"
    },
    {
     "data": {
      "text/plain": [
       "Training batches on cpu:   0%|          | 0/176 [00:00<?, ?batch/s]"
      ],
      "application/vnd.jupyter.widget-view+json": {
       "version_major": 2,
       "version_minor": 0,
       "model_id": "b0bb444d4173432583493a6a0d72809e"
      }
     },
     "metadata": {},
     "output_type": "display_data"
    },
    {
     "data": {
      "text/plain": [
       "Training batches on cpu:   0%|          | 0/176 [00:00<?, ?batch/s]"
      ],
      "application/vnd.jupyter.widget-view+json": {
       "version_major": 2,
       "version_minor": 0,
       "model_id": "f75f93647d1547438451b3cee5866dbb"
      }
     },
     "metadata": {},
     "output_type": "display_data"
    },
    {
     "data": {
      "text/plain": [
       "Training batches on cpu:   0%|          | 0/176 [00:00<?, ?batch/s]"
      ],
      "application/vnd.jupyter.widget-view+json": {
       "version_major": 2,
       "version_minor": 0,
       "model_id": "5451e892eea244d18f67877afbb864b4"
      }
     },
     "metadata": {},
     "output_type": "display_data"
    },
    {
     "data": {
      "text/plain": [
       "Training batches on cpu:   0%|          | 0/176 [00:00<?, ?batch/s]"
      ],
      "application/vnd.jupyter.widget-view+json": {
       "version_major": 2,
       "version_minor": 0,
       "model_id": "63ea71916c7a49d29cb53387c9e6e306"
      }
     },
     "metadata": {},
     "output_type": "display_data"
    },
    {
     "data": {
      "text/plain": [
       "Training batches on cpu:   0%|          | 0/176 [00:00<?, ?batch/s]"
      ],
      "application/vnd.jupyter.widget-view+json": {
       "version_major": 2,
       "version_minor": 0,
       "model_id": "872b09e4894748f5b542d99410d23a5a"
      }
     },
     "metadata": {},
     "output_type": "display_data"
    },
    {
     "data": {
      "text/plain": [
       "Training batches on cpu:   0%|          | 0/176 [00:00<?, ?batch/s]"
      ],
      "application/vnd.jupyter.widget-view+json": {
       "version_major": 2,
       "version_minor": 0,
       "model_id": "3b1dfb8f03a849c29ee3fa0f767301b5"
      }
     },
     "metadata": {},
     "output_type": "display_data"
    },
    {
     "data": {
      "text/plain": [
       "Training batches on cpu:   0%|          | 0/176 [00:00<?, ?batch/s]"
      ],
      "application/vnd.jupyter.widget-view+json": {
       "version_major": 2,
       "version_minor": 0,
       "model_id": "1b3b8c5ea6784722845961ca427367cc"
      }
     },
     "metadata": {},
     "output_type": "display_data"
    },
    {
     "data": {
      "text/plain": [
       "Training batches on cpu:   0%|          | 0/176 [00:00<?, ?batch/s]"
      ],
      "application/vnd.jupyter.widget-view+json": {
       "version_major": 2,
       "version_minor": 0,
       "model_id": "4af0ff9e6b7946a8a545f96f44c06514"
      }
     },
     "metadata": {},
     "output_type": "display_data"
    },
    {
     "data": {
      "text/plain": [
       "Training batches on cpu:   0%|          | 0/176 [00:00<?, ?batch/s]"
      ],
      "application/vnd.jupyter.widget-view+json": {
       "version_major": 2,
       "version_minor": 0,
       "model_id": "917efb80cd1d4d89b200b1b19f1cc44a"
      }
     },
     "metadata": {},
     "output_type": "display_data"
    },
    {
     "data": {
      "text/plain": [
       "Training batches on cpu:   0%|          | 0/176 [00:00<?, ?batch/s]"
      ],
      "application/vnd.jupyter.widget-view+json": {
       "version_major": 2,
       "version_minor": 0,
       "model_id": "fb72db75c39840e79949a2ce6829033d"
      }
     },
     "metadata": {},
     "output_type": "display_data"
    },
    {
     "data": {
      "text/plain": [
       "Training batches on cpu:   0%|          | 0/176 [00:00<?, ?batch/s]"
      ],
      "application/vnd.jupyter.widget-view+json": {
       "version_major": 2,
       "version_minor": 0,
       "model_id": "7be610f241b44fdbb97084bdf6226d6d"
      }
     },
     "metadata": {},
     "output_type": "display_data"
    },
    {
     "name": "stderr",
     "output_type": "stream",
     "text": [
      "WARNING:pykeen.utils:Using automatic batch size on device.type='cpu' can cause unexplained out-of-memory crashes. Therefore, we use a conservative small batch_size=32. Performance may be improved by explicitly specifying a larger batch size.\n"
     ]
    },
    {
     "data": {
      "text/plain": [
       "Evaluating on cpu:   0%|          | 0.00/5.62k [00:00<?, ?triple/s]"
      ],
      "application/vnd.jupyter.widget-view+json": {
       "version_major": 2,
       "version_minor": 0,
       "model_id": "fd058a3043024b9fb3e68651621766e4"
      }
     },
     "metadata": {},
     "output_type": "display_data"
    },
    {
     "name": "stderr",
     "output_type": "stream",
     "text": [
      "WARNING:torch_max_mem.api:Encountered tensors on device_types={'cpu'} while only ['cuda'] are considered safe for automatic memory utilization maximization. This may lead to undocumented crashes (but can be safe, too).\n",
      "INFO:pykeen.evaluation.evaluator:Evaluation took 3.74s seconds\n",
      "WARNING:pykeen.utils:using automatically assigned random_state=488488882\n",
      "INFO:pykeen.triples.splitting:done splitting triples to groups of sizes [42530, 5619, 5620]\n",
      "WARNING:pykeen.pipeline.api:No random seed is specified. Setting to 241182116.\n",
      "WARNING:pykeen.utils:No cuda devices were available. The model runs on CPU\n",
      "INFO:pykeen.pipeline.api:Using device: None\n"
     ]
    },
    {
     "data": {
      "text/plain": [
       "Training epochs on cpu:   0%|          | 0/15 [00:00<?, ?epoch/s]"
      ],
      "application/vnd.jupyter.widget-view+json": {
       "version_major": 2,
       "version_minor": 0,
       "model_id": "4ad556ad69b84d8c95079c2806c6942b"
      }
     },
     "metadata": {},
     "output_type": "display_data"
    },
    {
     "data": {
      "text/plain": [
       "Training batches on cpu:   0%|          | 0/176 [00:00<?, ?batch/s]"
      ],
      "application/vnd.jupyter.widget-view+json": {
       "version_major": 2,
       "version_minor": 0,
       "model_id": "ff10cd284aa745de843703c3201cdaf9"
      }
     },
     "metadata": {},
     "output_type": "display_data"
    },
    {
     "data": {
      "text/plain": [
       "Training batches on cpu:   0%|          | 0/176 [00:00<?, ?batch/s]"
      ],
      "application/vnd.jupyter.widget-view+json": {
       "version_major": 2,
       "version_minor": 0,
       "model_id": "d0342a371cb24e8db08f83081db5fea7"
      }
     },
     "metadata": {},
     "output_type": "display_data"
    },
    {
     "data": {
      "text/plain": [
       "Training batches on cpu:   0%|          | 0/176 [00:00<?, ?batch/s]"
      ],
      "application/vnd.jupyter.widget-view+json": {
       "version_major": 2,
       "version_minor": 0,
       "model_id": "995274fe331d44d68a68e2d0558b8dee"
      }
     },
     "metadata": {},
     "output_type": "display_data"
    },
    {
     "data": {
      "text/plain": [
       "Training batches on cpu:   0%|          | 0/176 [00:00<?, ?batch/s]"
      ],
      "application/vnd.jupyter.widget-view+json": {
       "version_major": 2,
       "version_minor": 0,
       "model_id": "cf7aa80324a44ca9b0532356b894ca2c"
      }
     },
     "metadata": {},
     "output_type": "display_data"
    },
    {
     "data": {
      "text/plain": [
       "Training batches on cpu:   0%|          | 0/176 [00:00<?, ?batch/s]"
      ],
      "application/vnd.jupyter.widget-view+json": {
       "version_major": 2,
       "version_minor": 0,
       "model_id": "7883c6146cd14a8ea4f45dc769e365fe"
      }
     },
     "metadata": {},
     "output_type": "display_data"
    },
    {
     "data": {
      "text/plain": [
       "Training batches on cpu:   0%|          | 0/176 [00:00<?, ?batch/s]"
      ],
      "application/vnd.jupyter.widget-view+json": {
       "version_major": 2,
       "version_minor": 0,
       "model_id": "e0af9499d3044daaab116e4613c98a52"
      }
     },
     "metadata": {},
     "output_type": "display_data"
    },
    {
     "data": {
      "text/plain": [
       "Training batches on cpu:   0%|          | 0/176 [00:00<?, ?batch/s]"
      ],
      "application/vnd.jupyter.widget-view+json": {
       "version_major": 2,
       "version_minor": 0,
       "model_id": "a5ba0b0b191848958f857b4573486793"
      }
     },
     "metadata": {},
     "output_type": "display_data"
    },
    {
     "data": {
      "text/plain": [
       "Training batches on cpu:   0%|          | 0/176 [00:00<?, ?batch/s]"
      ],
      "application/vnd.jupyter.widget-view+json": {
       "version_major": 2,
       "version_minor": 0,
       "model_id": "1848a3b0e99c40e1be5d112d5553b0c6"
      }
     },
     "metadata": {},
     "output_type": "display_data"
    },
    {
     "data": {
      "text/plain": [
       "Training batches on cpu:   0%|          | 0/176 [00:00<?, ?batch/s]"
      ],
      "application/vnd.jupyter.widget-view+json": {
       "version_major": 2,
       "version_minor": 0,
       "model_id": "cf58dde582c246dab841350350fc62c6"
      }
     },
     "metadata": {},
     "output_type": "display_data"
    },
    {
     "data": {
      "text/plain": [
       "Training batches on cpu:   0%|          | 0/176 [00:00<?, ?batch/s]"
      ],
      "application/vnd.jupyter.widget-view+json": {
       "version_major": 2,
       "version_minor": 0,
       "model_id": "9e724a66b377463ebdf1c1575709eeaa"
      }
     },
     "metadata": {},
     "output_type": "display_data"
    },
    {
     "data": {
      "text/plain": [
       "Training batches on cpu:   0%|          | 0/176 [00:00<?, ?batch/s]"
      ],
      "application/vnd.jupyter.widget-view+json": {
       "version_major": 2,
       "version_minor": 0,
       "model_id": "e78617141c6b440285e97f25dd54adce"
      }
     },
     "metadata": {},
     "output_type": "display_data"
    },
    {
     "data": {
      "text/plain": [
       "Training batches on cpu:   0%|          | 0/176 [00:00<?, ?batch/s]"
      ],
      "application/vnd.jupyter.widget-view+json": {
       "version_major": 2,
       "version_minor": 0,
       "model_id": "d3f9d1b462c542949eb09ec05e58c79a"
      }
     },
     "metadata": {},
     "output_type": "display_data"
    },
    {
     "data": {
      "text/plain": [
       "Training batches on cpu:   0%|          | 0/176 [00:00<?, ?batch/s]"
      ],
      "application/vnd.jupyter.widget-view+json": {
       "version_major": 2,
       "version_minor": 0,
       "model_id": "31fee9fd0c144387a46d6138554d5a27"
      }
     },
     "metadata": {},
     "output_type": "display_data"
    },
    {
     "data": {
      "text/plain": [
       "Training batches on cpu:   0%|          | 0/176 [00:00<?, ?batch/s]"
      ],
      "application/vnd.jupyter.widget-view+json": {
       "version_major": 2,
       "version_minor": 0,
       "model_id": "fdc9c0f2cd3345348a8c277d075c504d"
      }
     },
     "metadata": {},
     "output_type": "display_data"
    },
    {
     "data": {
      "text/plain": [
       "Training batches on cpu:   0%|          | 0/176 [00:00<?, ?batch/s]"
      ],
      "application/vnd.jupyter.widget-view+json": {
       "version_major": 2,
       "version_minor": 0,
       "model_id": "baa10140bb934966b084e1bae75d24b1"
      }
     },
     "metadata": {},
     "output_type": "display_data"
    },
    {
     "name": "stderr",
     "output_type": "stream",
     "text": [
      "WARNING:pykeen.utils:Using automatic batch size on device.type='cpu' can cause unexplained out-of-memory crashes. Therefore, we use a conservative small batch_size=32. Performance may be improved by explicitly specifying a larger batch size.\n"
     ]
    },
    {
     "data": {
      "text/plain": [
       "Evaluating on cpu:   0%|          | 0.00/5.62k [00:00<?, ?triple/s]"
      ],
      "application/vnd.jupyter.widget-view+json": {
       "version_major": 2,
       "version_minor": 0,
       "model_id": "494d29d0e5d2498badbe90aeaa6275aa"
      }
     },
     "metadata": {},
     "output_type": "display_data"
    },
    {
     "name": "stderr",
     "output_type": "stream",
     "text": [
      "WARNING:torch_max_mem.api:Encountered tensors on device_types={'cpu'} while only ['cuda'] are considered safe for automatic memory utilization maximization. This may lead to undocumented crashes (but can be safe, too).\n",
      "INFO:pykeen.evaluation.evaluator:Evaluation took 1.62s seconds\n",
      "WARNING:pykeen.utils:using automatically assigned random_state=281563641\n",
      "INFO:pykeen.triples.splitting:done splitting triples to groups of sizes [42530, 5619, 5620]\n",
      "WARNING:pykeen.pipeline.api:No random seed is specified. Setting to 1787158217.\n",
      "WARNING:pykeen.utils:No cuda devices were available. The model runs on CPU\n",
      "INFO:pykeen.pipeline.api:Using device: None\n"
     ]
    },
    {
     "data": {
      "text/plain": [
       "Training epochs on cpu:   0%|          | 0/15 [00:00<?, ?epoch/s]"
      ],
      "application/vnd.jupyter.widget-view+json": {
       "version_major": 2,
       "version_minor": 0,
       "model_id": "483bed1d831046ab8c5d71de73476821"
      }
     },
     "metadata": {},
     "output_type": "display_data"
    },
    {
     "data": {
      "text/plain": [
       "Training batches on cpu:   0%|          | 0/176 [00:00<?, ?batch/s]"
      ],
      "application/vnd.jupyter.widget-view+json": {
       "version_major": 2,
       "version_minor": 0,
       "model_id": "a37803a01f9642399f0720a916d9b73f"
      }
     },
     "metadata": {},
     "output_type": "display_data"
    },
    {
     "data": {
      "text/plain": [
       "Training batches on cpu:   0%|          | 0/176 [00:00<?, ?batch/s]"
      ],
      "application/vnd.jupyter.widget-view+json": {
       "version_major": 2,
       "version_minor": 0,
       "model_id": "d47f652052774e3d835d4430f663d4d2"
      }
     },
     "metadata": {},
     "output_type": "display_data"
    },
    {
     "data": {
      "text/plain": [
       "Training batches on cpu:   0%|          | 0/176 [00:00<?, ?batch/s]"
      ],
      "application/vnd.jupyter.widget-view+json": {
       "version_major": 2,
       "version_minor": 0,
       "model_id": "1e9856cc5627416d9ce9ffbfcac8205b"
      }
     },
     "metadata": {},
     "output_type": "display_data"
    },
    {
     "data": {
      "text/plain": [
       "Training batches on cpu:   0%|          | 0/176 [00:00<?, ?batch/s]"
      ],
      "application/vnd.jupyter.widget-view+json": {
       "version_major": 2,
       "version_minor": 0,
       "model_id": "287658d0854c4d1bb2951b69739ead90"
      }
     },
     "metadata": {},
     "output_type": "display_data"
    },
    {
     "data": {
      "text/plain": [
       "Training batches on cpu:   0%|          | 0/176 [00:00<?, ?batch/s]"
      ],
      "application/vnd.jupyter.widget-view+json": {
       "version_major": 2,
       "version_minor": 0,
       "model_id": "9c7c13869e8a48b98ead805d4d2819f2"
      }
     },
     "metadata": {},
     "output_type": "display_data"
    },
    {
     "data": {
      "text/plain": [
       "Training batches on cpu:   0%|          | 0/176 [00:00<?, ?batch/s]"
      ],
      "application/vnd.jupyter.widget-view+json": {
       "version_major": 2,
       "version_minor": 0,
       "model_id": "f6ef35c4c18a456da1d8c6d0fa362be3"
      }
     },
     "metadata": {},
     "output_type": "display_data"
    },
    {
     "data": {
      "text/plain": [
       "Training batches on cpu:   0%|          | 0/176 [00:00<?, ?batch/s]"
      ],
      "application/vnd.jupyter.widget-view+json": {
       "version_major": 2,
       "version_minor": 0,
       "model_id": "2aca461eca4945e9b63a3725595295e7"
      }
     },
     "metadata": {},
     "output_type": "display_data"
    },
    {
     "data": {
      "text/plain": [
       "Training batches on cpu:   0%|          | 0/176 [00:00<?, ?batch/s]"
      ],
      "application/vnd.jupyter.widget-view+json": {
       "version_major": 2,
       "version_minor": 0,
       "model_id": "8c88c968f3ad44bb93e78bab1b098e48"
      }
     },
     "metadata": {},
     "output_type": "display_data"
    },
    {
     "data": {
      "text/plain": [
       "Training batches on cpu:   0%|          | 0/176 [00:00<?, ?batch/s]"
      ],
      "application/vnd.jupyter.widget-view+json": {
       "version_major": 2,
       "version_minor": 0,
       "model_id": "76537ad7018b4b119dc8bbc2e241f733"
      }
     },
     "metadata": {},
     "output_type": "display_data"
    },
    {
     "data": {
      "text/plain": [
       "Training batches on cpu:   0%|          | 0/176 [00:00<?, ?batch/s]"
      ],
      "application/vnd.jupyter.widget-view+json": {
       "version_major": 2,
       "version_minor": 0,
       "model_id": "cf867560aad043c099e275aa8153906a"
      }
     },
     "metadata": {},
     "output_type": "display_data"
    },
    {
     "data": {
      "text/plain": [
       "Training batches on cpu:   0%|          | 0/176 [00:00<?, ?batch/s]"
      ],
      "application/vnd.jupyter.widget-view+json": {
       "version_major": 2,
       "version_minor": 0,
       "model_id": "1d639f1d93c0420abded99b8fd573df6"
      }
     },
     "metadata": {},
     "output_type": "display_data"
    },
    {
     "data": {
      "text/plain": [
       "Training batches on cpu:   0%|          | 0/176 [00:00<?, ?batch/s]"
      ],
      "application/vnd.jupyter.widget-view+json": {
       "version_major": 2,
       "version_minor": 0,
       "model_id": "ef27024c1b9147b4a464b3be85a12c92"
      }
     },
     "metadata": {},
     "output_type": "display_data"
    },
    {
     "data": {
      "text/plain": [
       "Training batches on cpu:   0%|          | 0/176 [00:00<?, ?batch/s]"
      ],
      "application/vnd.jupyter.widget-view+json": {
       "version_major": 2,
       "version_minor": 0,
       "model_id": "45decdb64df14d46a96db0af9c10736f"
      }
     },
     "metadata": {},
     "output_type": "display_data"
    },
    {
     "data": {
      "text/plain": [
       "Training batches on cpu:   0%|          | 0/176 [00:00<?, ?batch/s]"
      ],
      "application/vnd.jupyter.widget-view+json": {
       "version_major": 2,
       "version_minor": 0,
       "model_id": "e1a3bae37fe24f29be7268005ae55ca3"
      }
     },
     "metadata": {},
     "output_type": "display_data"
    },
    {
     "data": {
      "text/plain": [
       "Training batches on cpu:   0%|          | 0/176 [00:00<?, ?batch/s]"
      ],
      "application/vnd.jupyter.widget-view+json": {
       "version_major": 2,
       "version_minor": 0,
       "model_id": "55d0be80b6ba4058827f76e4aadc82e2"
      }
     },
     "metadata": {},
     "output_type": "display_data"
    },
    {
     "name": "stderr",
     "output_type": "stream",
     "text": [
      "WARNING:pykeen.utils:Using automatic batch size on device.type='cpu' can cause unexplained out-of-memory crashes. Therefore, we use a conservative small batch_size=32. Performance may be improved by explicitly specifying a larger batch size.\n"
     ]
    },
    {
     "data": {
      "text/plain": [
       "Evaluating on cpu:   0%|          | 0.00/5.62k [00:00<?, ?triple/s]"
      ],
      "application/vnd.jupyter.widget-view+json": {
       "version_major": 2,
       "version_minor": 0,
       "model_id": "ef889c0d67e045d68d40b8a2234101f8"
      }
     },
     "metadata": {},
     "output_type": "display_data"
    },
    {
     "name": "stderr",
     "output_type": "stream",
     "text": [
      "WARNING:torch_max_mem.api:Encountered tensors on device_types={'cpu'} while only ['cuda'] are considered safe for automatic memory utilization maximization. This may lead to undocumented crashes (but can be safe, too).\n",
      "INFO:pykeen.evaluation.evaluator:Evaluation took 1.65s seconds\n",
      "WARNING:pykeen.utils:using automatically assigned random_state=2129088686\n",
      "INFO:pykeen.triples.splitting:done splitting triples to groups of sizes [42530, 5619, 5620]\n",
      "WARNING:pykeen.pipeline.api:No random seed is specified. Setting to 1490199811.\n",
      "WARNING:pykeen.utils:No cuda devices were available. The model runs on CPU\n",
      "INFO:pykeen.pipeline.api:Using device: None\n"
     ]
    },
    {
     "data": {
      "text/plain": [
       "Training epochs on cpu:   0%|          | 0/15 [00:00<?, ?epoch/s]"
      ],
      "application/vnd.jupyter.widget-view+json": {
       "version_major": 2,
       "version_minor": 0,
       "model_id": "da2522948e30455980f5725122778f78"
      }
     },
     "metadata": {},
     "output_type": "display_data"
    },
    {
     "data": {
      "text/plain": [
       "Training batches on cpu:   0%|          | 0/176 [00:00<?, ?batch/s]"
      ],
      "application/vnd.jupyter.widget-view+json": {
       "version_major": 2,
       "version_minor": 0,
       "model_id": "5f4ade209a5f4bbea5eda48c00409d4a"
      }
     },
     "metadata": {},
     "output_type": "display_data"
    },
    {
     "data": {
      "text/plain": [
       "Training batches on cpu:   0%|          | 0/176 [00:00<?, ?batch/s]"
      ],
      "application/vnd.jupyter.widget-view+json": {
       "version_major": 2,
       "version_minor": 0,
       "model_id": "33a427fb846747169cfe73b09817c832"
      }
     },
     "metadata": {},
     "output_type": "display_data"
    },
    {
     "data": {
      "text/plain": [
       "Training batches on cpu:   0%|          | 0/176 [00:00<?, ?batch/s]"
      ],
      "application/vnd.jupyter.widget-view+json": {
       "version_major": 2,
       "version_minor": 0,
       "model_id": "82609e5cf1734abd9da8e177571d3232"
      }
     },
     "metadata": {},
     "output_type": "display_data"
    },
    {
     "data": {
      "text/plain": [
       "Training batches on cpu:   0%|          | 0/176 [00:00<?, ?batch/s]"
      ],
      "application/vnd.jupyter.widget-view+json": {
       "version_major": 2,
       "version_minor": 0,
       "model_id": "6c57fac282ad471b8e19e5e8ca1facb6"
      }
     },
     "metadata": {},
     "output_type": "display_data"
    },
    {
     "data": {
      "text/plain": [
       "Training batches on cpu:   0%|          | 0/176 [00:00<?, ?batch/s]"
      ],
      "application/vnd.jupyter.widget-view+json": {
       "version_major": 2,
       "version_minor": 0,
       "model_id": "582be3bc988241e4aa6da1037df7498e"
      }
     },
     "metadata": {},
     "output_type": "display_data"
    },
    {
     "data": {
      "text/plain": [
       "Training batches on cpu:   0%|          | 0/176 [00:00<?, ?batch/s]"
      ],
      "application/vnd.jupyter.widget-view+json": {
       "version_major": 2,
       "version_minor": 0,
       "model_id": "f5acf07d1d70492abb38dcbc3a312dcf"
      }
     },
     "metadata": {},
     "output_type": "display_data"
    },
    {
     "data": {
      "text/plain": [
       "Training batches on cpu:   0%|          | 0/176 [00:00<?, ?batch/s]"
      ],
      "application/vnd.jupyter.widget-view+json": {
       "version_major": 2,
       "version_minor": 0,
       "model_id": "7c4bea1df45e43f59c2f005cfc0f5249"
      }
     },
     "metadata": {},
     "output_type": "display_data"
    },
    {
     "data": {
      "text/plain": [
       "Training batches on cpu:   0%|          | 0/176 [00:00<?, ?batch/s]"
      ],
      "application/vnd.jupyter.widget-view+json": {
       "version_major": 2,
       "version_minor": 0,
       "model_id": "8457a283f5304dd6be054187a6066cf2"
      }
     },
     "metadata": {},
     "output_type": "display_data"
    },
    {
     "data": {
      "text/plain": [
       "Training batches on cpu:   0%|          | 0/176 [00:00<?, ?batch/s]"
      ],
      "application/vnd.jupyter.widget-view+json": {
       "version_major": 2,
       "version_minor": 0,
       "model_id": "b3d940cdae134566b17f9af8bb8af387"
      }
     },
     "metadata": {},
     "output_type": "display_data"
    },
    {
     "data": {
      "text/plain": [
       "Training batches on cpu:   0%|          | 0/176 [00:00<?, ?batch/s]"
      ],
      "application/vnd.jupyter.widget-view+json": {
       "version_major": 2,
       "version_minor": 0,
       "model_id": "956c0d9e32e541269586c85bc3e0fa48"
      }
     },
     "metadata": {},
     "output_type": "display_data"
    },
    {
     "data": {
      "text/plain": [
       "Training batches on cpu:   0%|          | 0/176 [00:00<?, ?batch/s]"
      ],
      "application/vnd.jupyter.widget-view+json": {
       "version_major": 2,
       "version_minor": 0,
       "model_id": "b97a72d3ecb0484b88b5dda6108a5617"
      }
     },
     "metadata": {},
     "output_type": "display_data"
    },
    {
     "data": {
      "text/plain": [
       "Training batches on cpu:   0%|          | 0/176 [00:00<?, ?batch/s]"
      ],
      "application/vnd.jupyter.widget-view+json": {
       "version_major": 2,
       "version_minor": 0,
       "model_id": "04108c1e2783432fb64613bcc766f206"
      }
     },
     "metadata": {},
     "output_type": "display_data"
    },
    {
     "data": {
      "text/plain": [
       "Training batches on cpu:   0%|          | 0/176 [00:00<?, ?batch/s]"
      ],
      "application/vnd.jupyter.widget-view+json": {
       "version_major": 2,
       "version_minor": 0,
       "model_id": "961167f770a244cb85e521632ae080ff"
      }
     },
     "metadata": {},
     "output_type": "display_data"
    },
    {
     "data": {
      "text/plain": [
       "Training batches on cpu:   0%|          | 0/176 [00:00<?, ?batch/s]"
      ],
      "application/vnd.jupyter.widget-view+json": {
       "version_major": 2,
       "version_minor": 0,
       "model_id": "553e40fff8324ea9984e929b35ecb710"
      }
     },
     "metadata": {},
     "output_type": "display_data"
    },
    {
     "data": {
      "text/plain": [
       "Training batches on cpu:   0%|          | 0/176 [00:00<?, ?batch/s]"
      ],
      "application/vnd.jupyter.widget-view+json": {
       "version_major": 2,
       "version_minor": 0,
       "model_id": "ca847f8a9952449bbf0878e59409d214"
      }
     },
     "metadata": {},
     "output_type": "display_data"
    },
    {
     "name": "stderr",
     "output_type": "stream",
     "text": [
      "WARNING:pykeen.utils:Using automatic batch size on device.type='cpu' can cause unexplained out-of-memory crashes. Therefore, we use a conservative small batch_size=32. Performance may be improved by explicitly specifying a larger batch size.\n"
     ]
    },
    {
     "data": {
      "text/plain": [
       "Evaluating on cpu:   0%|          | 0.00/5.62k [00:00<?, ?triple/s]"
      ],
      "application/vnd.jupyter.widget-view+json": {
       "version_major": 2,
       "version_minor": 0,
       "model_id": "105ecab4d1c143268e7b690cc024282c"
      }
     },
     "metadata": {},
     "output_type": "display_data"
    },
    {
     "name": "stderr",
     "output_type": "stream",
     "text": [
      "WARNING:torch_max_mem.api:Encountered tensors on device_types={'cpu'} while only ['cuda'] are considered safe for automatic memory utilization maximization. This may lead to undocumented crashes (but can be safe, too).\n",
      "INFO:pykeen.evaluation.evaluator:Evaluation took 6.91s seconds\n",
      "WARNING:pykeen.utils:using automatically assigned random_state=55377916\n",
      "INFO:pykeen.triples.splitting:done splitting triples to groups of sizes [42530, 5619, 5620]\n",
      "WARNING:pykeen.pipeline.api:No random seed is specified. Setting to 346513545.\n",
      "WARNING:pykeen.utils:No cuda devices were available. The model runs on CPU\n",
      "INFO:pykeen.pipeline.api:Using device: None\n"
     ]
    },
    {
     "data": {
      "text/plain": [
       "Training epochs on cpu:   0%|          | 0/15 [00:00<?, ?epoch/s]"
      ],
      "application/vnd.jupyter.widget-view+json": {
       "version_major": 2,
       "version_minor": 0,
       "model_id": "59108c04cade4b9d972f49e9d7ce2bb9"
      }
     },
     "metadata": {},
     "output_type": "display_data"
    },
    {
     "data": {
      "text/plain": [
       "Training batches on cpu:   0%|          | 0/176 [00:00<?, ?batch/s]"
      ],
      "application/vnd.jupyter.widget-view+json": {
       "version_major": 2,
       "version_minor": 0,
       "model_id": "aaef405bd7bf461ebb062f633c15fe0e"
      }
     },
     "metadata": {},
     "output_type": "display_data"
    },
    {
     "data": {
      "text/plain": [
       "Training batches on cpu:   0%|          | 0/176 [00:00<?, ?batch/s]"
      ],
      "application/vnd.jupyter.widget-view+json": {
       "version_major": 2,
       "version_minor": 0,
       "model_id": "d3be6770ddec4ddf86bd81ba6cae649a"
      }
     },
     "metadata": {},
     "output_type": "display_data"
    },
    {
     "data": {
      "text/plain": [
       "Training batches on cpu:   0%|          | 0/176 [00:00<?, ?batch/s]"
      ],
      "application/vnd.jupyter.widget-view+json": {
       "version_major": 2,
       "version_minor": 0,
       "model_id": "5b219987c77844fdb9fc22edd316475c"
      }
     },
     "metadata": {},
     "output_type": "display_data"
    },
    {
     "data": {
      "text/plain": [
       "Training batches on cpu:   0%|          | 0/176 [00:00<?, ?batch/s]"
      ],
      "application/vnd.jupyter.widget-view+json": {
       "version_major": 2,
       "version_minor": 0,
       "model_id": "6b127465c1f54033b1f9d13332e13c4e"
      }
     },
     "metadata": {},
     "output_type": "display_data"
    },
    {
     "data": {
      "text/plain": [
       "Training batches on cpu:   0%|          | 0/176 [00:00<?, ?batch/s]"
      ],
      "application/vnd.jupyter.widget-view+json": {
       "version_major": 2,
       "version_minor": 0,
       "model_id": "cdf5a3dc6f8f413e9c856f229cf78665"
      }
     },
     "metadata": {},
     "output_type": "display_data"
    },
    {
     "data": {
      "text/plain": [
       "Training batches on cpu:   0%|          | 0/176 [00:00<?, ?batch/s]"
      ],
      "application/vnd.jupyter.widget-view+json": {
       "version_major": 2,
       "version_minor": 0,
       "model_id": "e645342b99894de7b8edf98582ff3c51"
      }
     },
     "metadata": {},
     "output_type": "display_data"
    },
    {
     "data": {
      "text/plain": [
       "Training batches on cpu:   0%|          | 0/176 [00:00<?, ?batch/s]"
      ],
      "application/vnd.jupyter.widget-view+json": {
       "version_major": 2,
       "version_minor": 0,
       "model_id": "6ad13afac3b445f9ad44de0832857f8d"
      }
     },
     "metadata": {},
     "output_type": "display_data"
    },
    {
     "data": {
      "text/plain": [
       "Training batches on cpu:   0%|          | 0/176 [00:00<?, ?batch/s]"
      ],
      "application/vnd.jupyter.widget-view+json": {
       "version_major": 2,
       "version_minor": 0,
       "model_id": "404ccef71110433d836323f81ff5dfe4"
      }
     },
     "metadata": {},
     "output_type": "display_data"
    },
    {
     "data": {
      "text/plain": [
       "Training batches on cpu:   0%|          | 0/176 [00:00<?, ?batch/s]"
      ],
      "application/vnd.jupyter.widget-view+json": {
       "version_major": 2,
       "version_minor": 0,
       "model_id": "515f2b82a04e417dbf8297c7301e97ad"
      }
     },
     "metadata": {},
     "output_type": "display_data"
    },
    {
     "data": {
      "text/plain": [
       "Training batches on cpu:   0%|          | 0/176 [00:00<?, ?batch/s]"
      ],
      "application/vnd.jupyter.widget-view+json": {
       "version_major": 2,
       "version_minor": 0,
       "model_id": "109f5bf7e3e1423cb66d466d9a608e67"
      }
     },
     "metadata": {},
     "output_type": "display_data"
    },
    {
     "data": {
      "text/plain": [
       "Training batches on cpu:   0%|          | 0/176 [00:00<?, ?batch/s]"
      ],
      "application/vnd.jupyter.widget-view+json": {
       "version_major": 2,
       "version_minor": 0,
       "model_id": "8a5de86304d44053ab28f78045cc7da4"
      }
     },
     "metadata": {},
     "output_type": "display_data"
    },
    {
     "data": {
      "text/plain": [
       "Training batches on cpu:   0%|          | 0/176 [00:00<?, ?batch/s]"
      ],
      "application/vnd.jupyter.widget-view+json": {
       "version_major": 2,
       "version_minor": 0,
       "model_id": "2c823c4aaa5347c9b65bc62a3884b395"
      }
     },
     "metadata": {},
     "output_type": "display_data"
    },
    {
     "data": {
      "text/plain": [
       "Training batches on cpu:   0%|          | 0/176 [00:00<?, ?batch/s]"
      ],
      "application/vnd.jupyter.widget-view+json": {
       "version_major": 2,
       "version_minor": 0,
       "model_id": "d9d5e5d4c7534927a8b49bab525da2fb"
      }
     },
     "metadata": {},
     "output_type": "display_data"
    },
    {
     "data": {
      "text/plain": [
       "Training batches on cpu:   0%|          | 0/176 [00:00<?, ?batch/s]"
      ],
      "application/vnd.jupyter.widget-view+json": {
       "version_major": 2,
       "version_minor": 0,
       "model_id": "f82730e6595345469423dbe1229a6ce7"
      }
     },
     "metadata": {},
     "output_type": "display_data"
    },
    {
     "data": {
      "text/plain": [
       "Training batches on cpu:   0%|          | 0/176 [00:00<?, ?batch/s]"
      ],
      "application/vnd.jupyter.widget-view+json": {
       "version_major": 2,
       "version_minor": 0,
       "model_id": "ed343b9a84fe480fb0758ebcf88e9f02"
      }
     },
     "metadata": {},
     "output_type": "display_data"
    },
    {
     "name": "stderr",
     "output_type": "stream",
     "text": [
      "WARNING:pykeen.utils:Using automatic batch size on device.type='cpu' can cause unexplained out-of-memory crashes. Therefore, we use a conservative small batch_size=32. Performance may be improved by explicitly specifying a larger batch size.\n"
     ]
    },
    {
     "data": {
      "text/plain": [
       "Evaluating on cpu:   0%|          | 0.00/5.62k [00:00<?, ?triple/s]"
      ],
      "application/vnd.jupyter.widget-view+json": {
       "version_major": 2,
       "version_minor": 0,
       "model_id": "ac4f31ca91ad47f39e94ed9d0b3d59f4"
      }
     },
     "metadata": {},
     "output_type": "display_data"
    },
    {
     "name": "stderr",
     "output_type": "stream",
     "text": [
      "WARNING:torch_max_mem.api:Encountered tensors on device_types={'cpu'} while only ['cuda'] are considered safe for automatic memory utilization maximization. This may lead to undocumented crashes (but can be safe, too).\n",
      "INFO:pykeen.evaluation.evaluator:Evaluation took 7.15s seconds\n",
      "WARNING:pykeen.utils:using automatically assigned random_state=1293726629\n",
      "INFO:pykeen.triples.splitting:done splitting triples to groups of sizes [42530, 5619, 5620]\n",
      "WARNING:pykeen.pipeline.api:No random seed is specified. Setting to 1944275274.\n",
      "WARNING:pykeen.utils:No cuda devices were available. The model runs on CPU\n",
      "INFO:pykeen.pipeline.api:Using device: None\n"
     ]
    },
    {
     "data": {
      "text/plain": [
       "Training epochs on cpu:   0%|          | 0/15 [00:00<?, ?epoch/s]"
      ],
      "application/vnd.jupyter.widget-view+json": {
       "version_major": 2,
       "version_minor": 0,
       "model_id": "bf4376eacead499bb0234b3c2f4cc711"
      }
     },
     "metadata": {},
     "output_type": "display_data"
    },
    {
     "data": {
      "text/plain": [
       "Training batches on cpu:   0%|          | 0/176 [00:00<?, ?batch/s]"
      ],
      "application/vnd.jupyter.widget-view+json": {
       "version_major": 2,
       "version_minor": 0,
       "model_id": "4152010b80d74fa6903ef334c2c866ee"
      }
     },
     "metadata": {},
     "output_type": "display_data"
    },
    {
     "data": {
      "text/plain": [
       "Training batches on cpu:   0%|          | 0/176 [00:00<?, ?batch/s]"
      ],
      "application/vnd.jupyter.widget-view+json": {
       "version_major": 2,
       "version_minor": 0,
       "model_id": "76c619838fd348088add36302380dd3f"
      }
     },
     "metadata": {},
     "output_type": "display_data"
    },
    {
     "data": {
      "text/plain": [
       "Training batches on cpu:   0%|          | 0/176 [00:00<?, ?batch/s]"
      ],
      "application/vnd.jupyter.widget-view+json": {
       "version_major": 2,
       "version_minor": 0,
       "model_id": "181fc30f1dc34850ad8234ef818a9bed"
      }
     },
     "metadata": {},
     "output_type": "display_data"
    },
    {
     "data": {
      "text/plain": [
       "Training batches on cpu:   0%|          | 0/176 [00:00<?, ?batch/s]"
      ],
      "application/vnd.jupyter.widget-view+json": {
       "version_major": 2,
       "version_minor": 0,
       "model_id": "c3e4e62ae8e44dde9a1adfe096370c29"
      }
     },
     "metadata": {},
     "output_type": "display_data"
    },
    {
     "data": {
      "text/plain": [
       "Training batches on cpu:   0%|          | 0/176 [00:00<?, ?batch/s]"
      ],
      "application/vnd.jupyter.widget-view+json": {
       "version_major": 2,
       "version_minor": 0,
       "model_id": "5d398a5f6ff144ed9071f8f2a833ed92"
      }
     },
     "metadata": {},
     "output_type": "display_data"
    },
    {
     "data": {
      "text/plain": [
       "Training batches on cpu:   0%|          | 0/176 [00:00<?, ?batch/s]"
      ],
      "application/vnd.jupyter.widget-view+json": {
       "version_major": 2,
       "version_minor": 0,
       "model_id": "8ac75bcc87b24ba2bfb57c117a384b28"
      }
     },
     "metadata": {},
     "output_type": "display_data"
    },
    {
     "data": {
      "text/plain": [
       "Training batches on cpu:   0%|          | 0/176 [00:00<?, ?batch/s]"
      ],
      "application/vnd.jupyter.widget-view+json": {
       "version_major": 2,
       "version_minor": 0,
       "model_id": "34ab7188225f48218a04c6b1df7fc09f"
      }
     },
     "metadata": {},
     "output_type": "display_data"
    },
    {
     "data": {
      "text/plain": [
       "Training batches on cpu:   0%|          | 0/176 [00:00<?, ?batch/s]"
      ],
      "application/vnd.jupyter.widget-view+json": {
       "version_major": 2,
       "version_minor": 0,
       "model_id": "0e6c7500053c45c9a6f9f58c4faae86f"
      }
     },
     "metadata": {},
     "output_type": "display_data"
    },
    {
     "data": {
      "text/plain": [
       "Training batches on cpu:   0%|          | 0/176 [00:00<?, ?batch/s]"
      ],
      "application/vnd.jupyter.widget-view+json": {
       "version_major": 2,
       "version_minor": 0,
       "model_id": "a642161e86924783a9229b889ceae900"
      }
     },
     "metadata": {},
     "output_type": "display_data"
    },
    {
     "data": {
      "text/plain": [
       "Training batches on cpu:   0%|          | 0/176 [00:00<?, ?batch/s]"
      ],
      "application/vnd.jupyter.widget-view+json": {
       "version_major": 2,
       "version_minor": 0,
       "model_id": "1c3c995fa4da49eb903b8ff4bf40d4fa"
      }
     },
     "metadata": {},
     "output_type": "display_data"
    },
    {
     "data": {
      "text/plain": [
       "Training batches on cpu:   0%|          | 0/176 [00:00<?, ?batch/s]"
      ],
      "application/vnd.jupyter.widget-view+json": {
       "version_major": 2,
       "version_minor": 0,
       "model_id": "7a7ff87240054e00a50bab3a31902603"
      }
     },
     "metadata": {},
     "output_type": "display_data"
    },
    {
     "data": {
      "text/plain": [
       "Training batches on cpu:   0%|          | 0/176 [00:00<?, ?batch/s]"
      ],
      "application/vnd.jupyter.widget-view+json": {
       "version_major": 2,
       "version_minor": 0,
       "model_id": "bcdba615ca6544d4887477d1f99ef1e1"
      }
     },
     "metadata": {},
     "output_type": "display_data"
    },
    {
     "data": {
      "text/plain": [
       "Training batches on cpu:   0%|          | 0/176 [00:00<?, ?batch/s]"
      ],
      "application/vnd.jupyter.widget-view+json": {
       "version_major": 2,
       "version_minor": 0,
       "model_id": "b12d93b7d06741e1bd0f25ffbb6c0226"
      }
     },
     "metadata": {},
     "output_type": "display_data"
    },
    {
     "data": {
      "text/plain": [
       "Training batches on cpu:   0%|          | 0/176 [00:00<?, ?batch/s]"
      ],
      "application/vnd.jupyter.widget-view+json": {
       "version_major": 2,
       "version_minor": 0,
       "model_id": "64397ecec3cc4284b0500ce39708b93a"
      }
     },
     "metadata": {},
     "output_type": "display_data"
    },
    {
     "data": {
      "text/plain": [
       "Training batches on cpu:   0%|          | 0/176 [00:00<?, ?batch/s]"
      ],
      "application/vnd.jupyter.widget-view+json": {
       "version_major": 2,
       "version_minor": 0,
       "model_id": "83276cbb9c59449e8ca3cf162445e700"
      }
     },
     "metadata": {},
     "output_type": "display_data"
    },
    {
     "name": "stderr",
     "output_type": "stream",
     "text": [
      "WARNING:pykeen.utils:Using automatic batch size on device.type='cpu' can cause unexplained out-of-memory crashes. Therefore, we use a conservative small batch_size=32. Performance may be improved by explicitly specifying a larger batch size.\n"
     ]
    },
    {
     "data": {
      "text/plain": [
       "Evaluating on cpu:   0%|          | 0.00/5.62k [00:00<?, ?triple/s]"
      ],
      "application/vnd.jupyter.widget-view+json": {
       "version_major": 2,
       "version_minor": 0,
       "model_id": "2c257c8a876c45a2ba9a37e74a84b285"
      }
     },
     "metadata": {},
     "output_type": "display_data"
    },
    {
     "name": "stderr",
     "output_type": "stream",
     "text": [
      "WARNING:torch_max_mem.api:Encountered tensors on device_types={'cpu'} while only ['cuda'] are considered safe for automatic memory utilization maximization. This may lead to undocumented crashes (but can be safe, too).\n",
      "INFO:pykeen.evaluation.evaluator:Evaluation took 1.10s seconds\n",
      "WARNING:pykeen.utils:using automatically assigned random_state=1992383797\n",
      "INFO:pykeen.triples.splitting:done splitting triples to groups of sizes [42530, 5619, 5620]\n",
      "WARNING:pykeen.pipeline.api:No random seed is specified. Setting to 1138415733.\n",
      "WARNING:pykeen.utils:No cuda devices were available. The model runs on CPU\n",
      "INFO:pykeen.pipeline.api:Using device: None\n"
     ]
    },
    {
     "data": {
      "text/plain": [
       "Training epochs on cpu:   0%|          | 0/15 [00:00<?, ?epoch/s]"
      ],
      "application/vnd.jupyter.widget-view+json": {
       "version_major": 2,
       "version_minor": 0,
       "model_id": "daacefa7320a438dac98c4b381ab383b"
      }
     },
     "metadata": {},
     "output_type": "display_data"
    },
    {
     "data": {
      "text/plain": [
       "Training batches on cpu:   0%|          | 0/176 [00:00<?, ?batch/s]"
      ],
      "application/vnd.jupyter.widget-view+json": {
       "version_major": 2,
       "version_minor": 0,
       "model_id": "fb572db9c246455797f15fc5f02a3546"
      }
     },
     "metadata": {},
     "output_type": "display_data"
    },
    {
     "data": {
      "text/plain": [
       "Training batches on cpu:   0%|          | 0/176 [00:00<?, ?batch/s]"
      ],
      "application/vnd.jupyter.widget-view+json": {
       "version_major": 2,
       "version_minor": 0,
       "model_id": "06e39151d1874778ace31a62ade9fdc3"
      }
     },
     "metadata": {},
     "output_type": "display_data"
    },
    {
     "data": {
      "text/plain": [
       "Training batches on cpu:   0%|          | 0/176 [00:00<?, ?batch/s]"
      ],
      "application/vnd.jupyter.widget-view+json": {
       "version_major": 2,
       "version_minor": 0,
       "model_id": "5648a6d5e7364ec2b6095163ae1f0e17"
      }
     },
     "metadata": {},
     "output_type": "display_data"
    },
    {
     "data": {
      "text/plain": [
       "Training batches on cpu:   0%|          | 0/176 [00:00<?, ?batch/s]"
      ],
      "application/vnd.jupyter.widget-view+json": {
       "version_major": 2,
       "version_minor": 0,
       "model_id": "3cc7d5e16d2d45afae413f85b4b3aa64"
      }
     },
     "metadata": {},
     "output_type": "display_data"
    },
    {
     "data": {
      "text/plain": [
       "Training batches on cpu:   0%|          | 0/176 [00:00<?, ?batch/s]"
      ],
      "application/vnd.jupyter.widget-view+json": {
       "version_major": 2,
       "version_minor": 0,
       "model_id": "1deb5118f0ac4b8986d300b0a53cba8b"
      }
     },
     "metadata": {},
     "output_type": "display_data"
    },
    {
     "data": {
      "text/plain": [
       "Training batches on cpu:   0%|          | 0/176 [00:00<?, ?batch/s]"
      ],
      "application/vnd.jupyter.widget-view+json": {
       "version_major": 2,
       "version_minor": 0,
       "model_id": "b25c2f8bd93f43579ee4b4e27d2aaeea"
      }
     },
     "metadata": {},
     "output_type": "display_data"
    },
    {
     "data": {
      "text/plain": [
       "Training batches on cpu:   0%|          | 0/176 [00:00<?, ?batch/s]"
      ],
      "application/vnd.jupyter.widget-view+json": {
       "version_major": 2,
       "version_minor": 0,
       "model_id": "efb6496cf8cd4aee9f0e190abd911ac8"
      }
     },
     "metadata": {},
     "output_type": "display_data"
    },
    {
     "data": {
      "text/plain": [
       "Training batches on cpu:   0%|          | 0/176 [00:00<?, ?batch/s]"
      ],
      "application/vnd.jupyter.widget-view+json": {
       "version_major": 2,
       "version_minor": 0,
       "model_id": "352f19a0f73945669dc127f40bcb4b76"
      }
     },
     "metadata": {},
     "output_type": "display_data"
    },
    {
     "data": {
      "text/plain": [
       "Training batches on cpu:   0%|          | 0/176 [00:00<?, ?batch/s]"
      ],
      "application/vnd.jupyter.widget-view+json": {
       "version_major": 2,
       "version_minor": 0,
       "model_id": "6e2b926c9ba8442399e44dd7dd773fc9"
      }
     },
     "metadata": {},
     "output_type": "display_data"
    },
    {
     "data": {
      "text/plain": [
       "Training batches on cpu:   0%|          | 0/176 [00:00<?, ?batch/s]"
      ],
      "application/vnd.jupyter.widget-view+json": {
       "version_major": 2,
       "version_minor": 0,
       "model_id": "02deb39af1f249ac93304185810bab48"
      }
     },
     "metadata": {},
     "output_type": "display_data"
    },
    {
     "data": {
      "text/plain": [
       "Training batches on cpu:   0%|          | 0/176 [00:00<?, ?batch/s]"
      ],
      "application/vnd.jupyter.widget-view+json": {
       "version_major": 2,
       "version_minor": 0,
       "model_id": "bf54b51096504762becaa43dc76ffa31"
      }
     },
     "metadata": {},
     "output_type": "display_data"
    },
    {
     "data": {
      "text/plain": [
       "Training batches on cpu:   0%|          | 0/176 [00:00<?, ?batch/s]"
      ],
      "application/vnd.jupyter.widget-view+json": {
       "version_major": 2,
       "version_minor": 0,
       "model_id": "4205e1067cb44d7d98352d5be08018da"
      }
     },
     "metadata": {},
     "output_type": "display_data"
    },
    {
     "data": {
      "text/plain": [
       "Training batches on cpu:   0%|          | 0/176 [00:00<?, ?batch/s]"
      ],
      "application/vnd.jupyter.widget-view+json": {
       "version_major": 2,
       "version_minor": 0,
       "model_id": "1119d870ee1846aa8510b28ae88a9cab"
      }
     },
     "metadata": {},
     "output_type": "display_data"
    },
    {
     "data": {
      "text/plain": [
       "Training batches on cpu:   0%|          | 0/176 [00:00<?, ?batch/s]"
      ],
      "application/vnd.jupyter.widget-view+json": {
       "version_major": 2,
       "version_minor": 0,
       "model_id": "2040b80ff1b74accbc5fd8e1529c8367"
      }
     },
     "metadata": {},
     "output_type": "display_data"
    },
    {
     "data": {
      "text/plain": [
       "Training batches on cpu:   0%|          | 0/176 [00:00<?, ?batch/s]"
      ],
      "application/vnd.jupyter.widget-view+json": {
       "version_major": 2,
       "version_minor": 0,
       "model_id": "8b23348769c649a8b567bd81b8cc9635"
      }
     },
     "metadata": {},
     "output_type": "display_data"
    },
    {
     "name": "stderr",
     "output_type": "stream",
     "text": [
      "WARNING:pykeen.utils:Using automatic batch size on device.type='cpu' can cause unexplained out-of-memory crashes. Therefore, we use a conservative small batch_size=32. Performance may be improved by explicitly specifying a larger batch size.\n"
     ]
    },
    {
     "data": {
      "text/plain": [
       "Evaluating on cpu:   0%|          | 0.00/5.62k [00:00<?, ?triple/s]"
      ],
      "application/vnd.jupyter.widget-view+json": {
       "version_major": 2,
       "version_minor": 0,
       "model_id": "51f90d02cfdf47f5a6c03bd7eff99123"
      }
     },
     "metadata": {},
     "output_type": "display_data"
    },
    {
     "name": "stderr",
     "output_type": "stream",
     "text": [
      "WARNING:torch_max_mem.api:Encountered tensors on device_types={'cpu'} while only ['cuda'] are considered safe for automatic memory utilization maximization. This may lead to undocumented crashes (but can be safe, too).\n",
      "INFO:pykeen.evaluation.evaluator:Evaluation took 1.30s seconds\n"
     ]
    }
   ],
   "execution_count": 120
  },
  {
   "metadata": {
    "ExecuteTime": {
     "end_time": "2024-11-23T12:39:12.894341Z",
     "start_time": "2024-11-23T12:37:28.530685Z"
    }
   },
   "cell_type": "code",
   "source": [
    "models_with_labels = [\n",
    "    ('TransE basic', trans_e_basic_relations),\n",
    "    ('TransE all', trans_e_all_relations),\n",
    "    ('TransH basic', trans_h_basic_relations),\n",
    "    ('TransH all', trans_h_all_relations),\n",
    "    ('TransR basic', trans_r_basic_relations),\n",
    "    ('TransR all', trans_r_all_relations),\n",
    "    ('RESCAL basic', rescal_basic_relations),\n",
    "    ('RESCAL all', rescal_all_relations)\n",
    "]\n",
    "\n",
    "print(\"Model\\tHitRatio@50\\tAvgPosition@50\")\n",
    "for label, model in models_with_labels:\n",
    "    hit_ratio_for_model = hit_ratio(test_ratings, model, tf, 50)\n",
    "    avg_position_for_model = avg_position(test_ratings, model, tf, 50)\n",
    "    print(f\"{label}\\t{hit_ratio_for_model}\\t{avg_position_for_model}\")"
   ],
   "outputs": [
    {
     "name": "stdout",
     "output_type": "stream",
     "text": [
      "Model\tHitRatio@50\tAvgPosition@50\n",
      "TransE basic\t0.14285714285714285\t20.251215559157213\n",
      "TransE all\t0.13660569576290807\t20.516949152542374\n",
      "TransH basic\t0.10372771474878444\t21.649553571428573\n",
      "TransH all\t0.11136837230840473\t21.752598752598754\n",
      "TransR basic\t0.06668210233850429\t21.28472222222222\n",
      "TransR all\t0.05001157675387821\t23.189814814814813\n",
      "RESCAL basic\t0.1335957397545728\t19.048526863084923\n",
      "RESCAL all\t0.1308173188238018\t18.426548672566373\n"
     ]
    }
   ],
   "execution_count": 121
  },
  {
   "metadata": {},
   "cell_type": "code",
   "outputs": [],
   "execution_count": null,
   "source": ""
  }
 ],
 "metadata": {
  "kernelspec": {
   "display_name": "Python 3",
   "language": "python",
   "name": "python3"
  },
  "language_info": {
   "codemirror_mode": {
    "name": "ipython",
    "version": 3
   },
   "file_extension": ".py",
   "mimetype": "text/x-python",
   "name": "python",
   "nbconvert_exporter": "python",
   "pygments_lexer": "ipython3",
   "version": "3.11.9"
  }
 },
 "nbformat": 4,
 "nbformat_minor": 2
}
